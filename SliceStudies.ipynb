{
 "cells": [
  {
   "cell_type": "code",
   "execution_count": 17,
   "metadata": {},
   "outputs": [],
   "source": [
    "%matplotlib inline\n",
    "\n",
    "import os\n",
    "import sys\n",
    "import random\n",
    "import tables as tb\n",
    "import numpy  as np\n",
    "\n",
    "import matplotlib as mpl\n",
    "#import matplotlib.mlab as mlab\n",
    "import matplotlib.pyplot as plt\n",
    "\n",
    "from   invisible_cities.database           import load_db\n",
    "from   invisible_cities.io.pmaps_io        import load_pmaps\n",
    "from   invisible_cities.io.pmaps_io        import load_pmaps_as_df\n",
    "from   invisible_cities.io.pmaps_io        import s1s_from_df\n",
    "from   invisible_cities.io.pmaps_io        import s2s_from_df\n",
    "\n",
    "from   invisible_cities.core.exceptions        import ClusterEmptyList\n",
    "from   invisible_cities.core.exceptions        import SipmZeroCharge\n",
    "from   invisible_cities.core.exceptions        import SipmEmptyListAboveQthr\n",
    "from   invisible_cities.core.system_of_units_c import units\n",
    "\n",
    "from invisible_cities.reco                 import pmaps_functions  as pmp\n",
    "from invisible_cities.reco.xy_algorithms   import corona\n",
    "from invisible_cities.reco.tbl_functions   import get_event_numbers_and_timestamps_from_file_name\n",
    "from invisible_cities.reco.pmaps_functions import rebin_peak"
   ]
  },
  {
   "cell_type": "code",
   "execution_count": 18,
   "metadata": {},
   "outputs": [],
   "source": [
    "### Useful parameters for plots\n",
    "plt.rcParams[\"font.size\"] = 15"
   ]
  },
  {
   "cell_type": "code",
   "execution_count": 19,
   "metadata": {},
   "outputs": [],
   "source": [
    "def plot_test_event(l_X,l_Y,l_Q,l_X0,l_Y0):\n",
    "    \"\"\"\n",
    "    Plots a SiPM map in the NEW Geometry\n",
    "    \"\"\"\n",
    "    # set up the figure\n",
    "    fig = plt.figure();\n",
    "    ax1 = fig.add_subplot(111);\n",
    "    fig.set_figheight(15.0)\n",
    "    fig.set_figwidth(20.0)\n",
    "    ax1.axis([-250, 250, -250, 250]);\n",
    "\n",
    "    # plot the SiPM pattern\n",
    "    plt.scatter(l_X,l_Y,c=l_Q)\n",
    "    plt.colorbar()\n",
    "#    for xx,yy,qq in zip(l_X,l_Y,l_Q):\n",
    "#        r = Ellipse(xy=(xx, yy), width=4., height=4.);\n",
    "#        r.set_facecolor('0');\n",
    "#        r.set_alpha(qq);\n",
    "#        ax1.add_artist(r);\n",
    "\n",
    "    # place a red cross for actual EL points\n",
    "    ax1.scatter(l_X0,l_Y0,marker='x',s=100,color='red')\n",
    "        \n",
    "    plt.xlabel(\"x (mm)\");\n",
    "    plt.ylabel(\"y (mm)\");\n",
    "    \n",
    "    #fig.savefig('slice_MC_file10_evt400188.png')"
   ]
  },
  {
   "cell_type": "code",
   "execution_count": 20,
   "metadata": {},
   "outputs": [
    {
     "name": "stdout",
     "output_type": "stream",
     "text": [
      "Number of events = 336\n",
      "Expected event in file /Users/paola/Software/ic_data/pmaps_0001_6350_trigger1_v0.9.9_20180921_krbg1300.h5\n"
     ]
    }
   ],
   "source": [
    "# identify the correct file to look into\n",
    "expected_no = 373\n",
    "#hit_file = '/Users/paola/Software/ic_data/run6352/pmaps/pmaps_0001_6352_trigger2_v0.9.9_20180921_krth1300.h5'\n",
    "#hit_file = '/Users/paola/Software/ic_data/pmaps_0001_6350_trigger1_v0.9.9_20180921_krbg1300.h5'\n",
    "#hit_base_file = '/Users/paola/Software/ic_data/TlMC/pmaps/Tl208_NEW_v1_03_01_nexus_v5_03_04_UPPER_PORT_10.2bar_v0.9.8_20180507_pmaps.{}.h5'\n",
    "#start = 15\n",
    "try:\n",
    "    load_pmaps(hit_file)\n",
    "except:\n",
    "    print('File not found')\n",
    "        \n",
    "event_numbers, timestamps = get_event_numbers_and_timestamps_from_file_name(hit_file)\n",
    "print('Number of events = {}'.format(len(event_numbers)))\n",
    "for evt_number in event_numbers:\n",
    "    #print(evt_number)\n",
    "    if evt_number == expected_no:\n",
    "        print('Expected event in file {0}'.format(hit_file))\n",
    "            "
   ]
  },
  {
   "cell_type": "markdown",
   "metadata": {},
   "source": [
    "## Data"
   ]
  },
  {
   "cell_type": "code",
   "execution_count": 26,
   "metadata": {},
   "outputs": [],
   "source": [
    "run_number_data = 6350\n",
    "dv = 0.001\n",
    "dv_data = 0.000920869862957205\n",
    "corona_opts_data   = {\n",
    "    \"Qthr\"          : 0.001,\n",
    "    \"Qlm\"           : 30.,\n",
    "    \"lm_radius\"     : 0.,\n",
    "    \"new_lm_radius\" : 0.,\n",
    "    \"msipm\"         :  1,\n",
    "}"
   ]
  },
  {
   "cell_type": "code",
   "execution_count": 27,
   "metadata": {},
   "outputs": [],
   "source": [
    "DataSiPM        = load_db.DataSiPM(run_number_data)\n",
    "data_xs         = DataSiPM.X.values\n",
    "data_ys         = DataSiPM.Y.values"
   ]
  },
  {
   "cell_type": "code",
   "execution_count": 28,
   "metadata": {},
   "outputs": [],
   "source": [
    "def compute_xy_position(s2, slice_no, DataSiPM):\n",
    "    IDs = s2.sipms.ids\n",
    "    pos = np.array([np.array([x,y]) for x,y in zip(data_xs[IDs], data_ys[IDs])])\n",
    "    Qs  = np.array(s2s[peak_no].sipms.time_slice(slice_no))\n",
    "    #print(pos, Qs)\n",
    "    return corona(pos, Qs, DataSiPM, **corona_opts_data), pos, Qs"
   ]
  },
  {
   "cell_type": "code",
   "execution_count": 29,
   "metadata": {},
   "outputs": [],
   "source": [
    "evt_no = 373\n",
    "peak_no = 0\n",
    "n_rebin = 2\n",
    "drift_v = dv_data"
   ]
  },
  {
   "cell_type": "code",
   "execution_count": 32,
   "metadata": {},
   "outputs": [
    {
     "name": "stdout",
     "output_type": "stream",
     "text": [
      "17\n"
     ]
    },
    {
     "data": {
      "text/plain": [
       "<matplotlib.colorbar.Colorbar at 0xa2117f7f0>"
      ]
     },
     "execution_count": 32,
     "metadata": {},
     "output_type": "execute_result"
    },
    {
     "data": {
      "image/png": "[encoded data removed]",
      "text/plain": [
       "<Figure size 1440x1080 with 2 Axes>"
      ]
     },
     "metadata": {
      "needs_background": "light"
     },
     "output_type": "display_data"
    }
   ],
   "source": [
    "file_name = hit_file\n",
    "#PATH_IN = '/Users/paola/Software/ic_data/pairs/electrons_2615keV_z250mm_pmaps.0.h5'\n",
    "slice_no = 1\n",
    "\n",
    "pmap_dict = load_pmaps(file_name)\n",
    "pmap = pmap_dict.get(evt_no, None)\n",
    "if pmap == None:\n",
    "    print('No pmaps')\n",
    "\n",
    "s1    = pmap.s1s\n",
    "s2raw = pmap.s2s\n",
    "### Reject events with no S1, S2\n",
    "if not s1 or not s2raw:\n",
    "    print('No S1 or S2')\n",
    "if len(s1) != 1:\n",
    "    print('More than one S1')\n",
    "\n",
    "s2s = [rebin_peak(s2r, n_rebin) for s2r in s2raw]\n",
    "\n",
    "s1e = s1[0].pmts.sum_over_sensors\n",
    "S1t = s1[0].time_at_max_energy\n",
    "\n",
    "t_slice = s2s[peak_no].times[slice_no]\n",
    "z       = (t_slice - S1t) * drift_v \n",
    "\n",
    "s2 = s2s[peak_no]\n",
    "IDs = s2.sipms.ids\n",
    "pos = np.array([np.array([x,y]) for x,y in zip(data_xs[IDs], data_ys[IDs])])\n",
    "Qs  = np.array(s2s[peak_no].sipms.time_slice(slice_no))\n",
    "\n",
    "print(len(Qs))\n",
    "xvals = []; yvals = []; qvals = []\n",
    "for p, q in zip(pos, Qs):\n",
    "    if q > 0:\n",
    "        #print(p, q)\n",
    "        xvals.append(p[0])\n",
    "        yvals.append(p[1])\n",
    "        qvals.append(q)\n",
    "\n",
    "# set up the figure\n",
    "fig = plt.figure();\n",
    "ax1 = fig.add_subplot(111);\n",
    "fig.set_figheight(15.0)\n",
    "fig.set_figwidth(20.0)\n",
    "ax1.axis([-250, 250, -250, 250]);\n",
    "\n",
    "# plot the SiPM pattern\n",
    "plt.scatter(xvals,yvals,c=qvals)\n",
    "plt.colorbar()"
   ]
  },
  {
   "cell_type": "code",
   "execution_count": 35,
   "metadata": {},
   "outputs": [
    {
     "ename": "IndexError",
     "evalue": "index 4 is out of bounds for axis 0 with size 3",
     "output_type": "error",
     "traceback": [
      "\u001b[0;31m---------------------------------------------------------------------------\u001b[0m",
      "\u001b[0;31mIndexError\u001b[0m                                Traceback (most recent call last)",
      "\u001b[0;32m<ipython-input-35-80ada46d98cd>\u001b[0m in \u001b[0;36m<module>\u001b[0;34m\u001b[0m\n\u001b[1;32m     21\u001b[0m \u001b[0mS1t\u001b[0m \u001b[0;34m=\u001b[0m \u001b[0ms1\u001b[0m\u001b[0;34m[\u001b[0m\u001b[0;36m0\u001b[0m\u001b[0;34m]\u001b[0m\u001b[0;34m.\u001b[0m\u001b[0mtime_at_max_energy\u001b[0m\u001b[0;34m\u001b[0m\u001b[0m\n\u001b[1;32m     22\u001b[0m \u001b[0;34m\u001b[0m\u001b[0m\n\u001b[0;32m---> 23\u001b[0;31m \u001b[0mt_slice\u001b[0m \u001b[0;34m=\u001b[0m \u001b[0ms2s\u001b[0m\u001b[0;34m[\u001b[0m\u001b[0mpeak_no\u001b[0m\u001b[0;34m]\u001b[0m\u001b[0;34m.\u001b[0m\u001b[0mtimes\u001b[0m\u001b[0;34m[\u001b[0m\u001b[0mslice_no\u001b[0m\u001b[0;34m]\u001b[0m\u001b[0;34m\u001b[0m\u001b[0m\n\u001b[0m\u001b[1;32m     24\u001b[0m \u001b[0mz\u001b[0m       \u001b[0;34m=\u001b[0m \u001b[0;34m(\u001b[0m\u001b[0mt_slice\u001b[0m \u001b[0;34m-\u001b[0m \u001b[0mS1t\u001b[0m\u001b[0;34m)\u001b[0m \u001b[0;34m*\u001b[0m \u001b[0mdrift_v\u001b[0m\u001b[0;34m\u001b[0m\u001b[0m\n\u001b[1;32m     25\u001b[0m \u001b[0;34m\u001b[0m\u001b[0m\n",
      "\u001b[0;31mIndexError\u001b[0m: index 4 is out of bounds for axis 0 with size 3"
     ]
    }
   ],
   "source": [
    "file_name = hit_file\n",
    "#PATH_IN = '/Users/paola/Software/ic_data/pairs/electrons_2615keV_z250mm_pmaps.0.h5'\n",
    "slice_no = 4\n",
    "\n",
    "pmap_dict = load_pmaps(file_name)\n",
    "pmap = pmap_dict.get(evt_no, None)\n",
    "if pmap == None:\n",
    "    print('No pmaps')\n",
    "\n",
    "s1    = pmap.s1s\n",
    "s2raw = pmap.s2s\n",
    "### Reject events with no S1, S2\n",
    "if not s1 or not s2raw:\n",
    "    print('No S1 or S2')\n",
    "if len(s1) != 1:\n",
    "    print('More than one S1')\n",
    "\n",
    "s2s = [rebin_peak(s2r, n_rebin) for s2r in s2raw]\n",
    "\n",
    "s1e = s1[0].pmts.sum_over_sensors\n",
    "S1t = s1[0].time_at_max_energy\n",
    "\n",
    "t_slice = s2s[peak_no].times[slice_no]\n",
    "z       = (t_slice - S1t) * drift_v \n",
    "\n",
    "#print(\"Tot energy of peak {} = {}\".format(peak_no, np.sum(S2.s2d[peak_no][1])))\n",
    "clusters = []\n",
    "\n",
    "try:\n",
    "    clusters, pos, Qs = compute_xy_position(s2s[peak_no], slice_no, DataSiPM)\n",
    "except ClusterEmptyList:\n",
    "    print('No clusters')\n",
    "except SipmZeroCharge:\n",
    "    print('No charge in SiPMs')\n",
    "\n",
    "print(\"Found {0} clusters at t {1}\".format(len(clusters), t_slice))\n",
    "\n",
    "\n",
    "x0vals = []; y0vals = []\n",
    "for c in clusters:\n",
    "    x0vals.append(c.pos[0])\n",
    "    y0vals.append(c.pos[1])\n",
    "    print(\"{0} {1} {2}\".format(c.pos[0], c.pos[1], z))\n",
    "    \n",
    "xvals = []; yvals = []; qvals = []\n",
    "\n",
    "for p, q in zip(pos, Qs):\n",
    "    if q > 0:\n",
    "        #print(p, q)\n",
    "        xvals.append(p[0])\n",
    "        yvals.append(p[1])\n",
    "        qvals.append(q)\n",
    "\n",
    "\n",
    "plot_test_event(xvals,yvals,qvals,x0vals,y0vals)\n",
    "#print(np.sort(Qs[Qs>0]))\n"
   ]
  },
  {
   "cell_type": "code",
   "execution_count": 17,
   "metadata": {},
   "outputs": [
    {
     "data": {
      "text/plain": [
       "<matplotlib.text.Text at 0x11324fb00>"
      ]
     },
     "execution_count": 17,
     "metadata": {},
     "output_type": "execute_result"
    },
    {
     "data": {
      "image/png": "[encoded data removed]",
      "text/plain": [
       "<matplotlib.figure.Figure at 0x113299438>"
      ]
     },
     "metadata": {},
     "output_type": "display_data"
    }
   ],
   "source": [
    "fig = plt.figure(figsize=(15, 10))\n",
    "range1 = 700\n",
    "range2 = 710\n",
    "bins = range2-range1\n",
    "\n",
    "ax = fig.add_subplot(1, 2, 1)\n",
    "\n",
    "t = s2raw[peak_no].times * 0.001\n",
    "charges = s2raw[peak_no].pmts.sum_over_sensors\n",
    "ax.hist(t, bins=bins, weights=charges, range=(range1,range2), label='PMT')\n",
    "lnd = plt.legend(loc=2)\n",
    "plt.xlabel('Time (mus)')\n",
    "plt.ylabel('Charge (pes)')\n",
    "\n",
    "ax = fig.add_subplot(1, 2, 2)\n",
    "\n",
    "charges = s2raw[peak_no].sipms.sum_over_sensors\n",
    "ax.hist(t, bins=bins, weights=charges, range=(range1,range2), label='SiPM')\n",
    "lnd = plt.legend(loc=2)\n",
    "plt.xlabel('Time (mus)')\n",
    "plt.ylabel('Charge (pes)')"
   ]
  },
  {
   "cell_type": "markdown",
   "metadata": {},
   "source": [
    "### Write all hits"
   ]
  },
  {
   "cell_type": "code",
   "execution_count": 27,
   "metadata": {},
   "outputs": [],
   "source": [
    "def split_energy(total_e, clusters):\n",
    "    if len(clusters) == 1:\n",
    "        return [total_e]\n",
    "    qs = np.array([c.Q for c in clusters])\n",
    "    return total_e * qs / np.sum(qs)\n"
   ]
  },
  {
   "cell_type": "code",
   "execution_count": 38,
   "metadata": {
    "collapsed": true,
    "jupyter": {
     "outputs_hidden": true
    }
   },
   "outputs": [
    {
     "name": "stdout",
     "output_type": "stream",
     "text": [
      "14.74564934194026 162.3054567683913 329.3223437062522 4854.491147312271\n",
      "14.340491375176322 155.15754072336128 329.3223437062522 4330.293440048225\n",
      "3.4009346473557676 154.00963252352182 329.3223437062522 3056.798603557473\n",
      "15.431390374220026 162.8389800280753 331.0639963889364 5818.779402083419\n",
      "14.747013008700144 154.81321684927826 331.0639963889364 5103.919402756273\n",
      "25.692433187582047 166.13393336395086 331.0639963889364 2715.8777274232116\n",
      "3.1043280594128624 152.96242038649194 331.0639963889364 3722.449131318301\n",
      "16.01645755281018 145.24605495740082 331.0639963889364 2441.7325329928426\n",
      "-5.549412778699581 154.62156468096163 331.0639963889364 3581.10056807439\n",
      "15.696179842228249 162.7695619604895 332.8605559371995 4871.188646750038\n",
      "14.665632610404739 154.75916791699805 332.8605559371995 4212.529390410079\n",
      "2.418242040733476 153.028685056586 332.8605559371995 3388.885924336312\n",
      "25.74062969199072 165.50784155885987 332.8605559371995 2354.2601847634246\n",
      "-12.84445409643785 153.8243979800747 332.8605559371995 3270.3113103966466\n",
      "24.430025878449637 151.64078867690577 332.8605559371995 1659.8616113362725\n",
      "-4.126808759073119 154.17998816630922 332.8605559371995 2932.4488929475324\n",
      "12.802393267604064 142.17782897492646 332.8605559371995 1623.0516880950272\n",
      "-4.131232714948992 142.0846565371974 332.8605559371995 1837.3149510412113\n",
      "24.869613882378413 175.9857048498674 332.8605559371995 1355.4450073453313\n",
      "14.83595355421496 155.39632988713734 334.7169720265548 5040.958348608409\n",
      "23.904486163666046 164.899132354366 334.7169720265548 2815.356614759704\n",
      "-13.685334209354703 153.56652296575498 334.7169720265548 3736.786313238457\n",
      "4.500090976627926 154.0361583535496 334.7169720265548 4143.57574678867\n",
      "-4.513485627578672 153.20542948844883 334.7169720265548 3175.8621979612153\n",
      "15.301882237843841 144.40886955894436 334.7169720265548 2643.4127750842304\n",
      "15.67427787686747 165.95321437629752 334.7169720265548 2188.750009963486\n",
      "-15.804655888323268 143.98561197797184 334.7169720265548 2199.632710392704\n",
      "14.244917814178553 154.0742027171047 336.5750571925367 4034.723243017235\n",
      "4.093425307701929 153.70570318339733 336.5750571925367 3548.9923695636576\n",
      "15.446992867914716 144.60288740763252 336.5750571925367 2420.7149031890854\n",
      "0.7269617225648374 144.08269976791144 336.5750571925367 2046.8767888434238\n",
      "25.25965905702355 157.34971283943034 336.5750571925367 1870.1054166843126\n",
      "-7.832538761519348 156.00732857734064 336.5750571925367 2623.139938092776\n",
      "-8.296941353441774 144.14906024509696 336.5750571925367 1675.468744518978\n",
      "-13.146566533319637 184.30691166265 336.5750571925367 2367.9596518284443\n",
      "-17.41338120945222 155.77536296248405 336.5750571925367 2342.6212636413816\n",
      "-25.304457076755757 145.6435526832466 336.5750571925367 1754.8271988106928\n",
      "-5.702563111488398 183.76563249098288 336.5750571925367 2022.776698830663\n",
      "14.56639248187253 168.4096195989253 336.5750571925367 1539.5253110531448\n",
      "-5.682402333683636 169.62605180449577 336.5750571925367 1899.8962817808083\n",
      "-16.457633248039564 172.55306811870346 336.5750571925367 1527.5672585047726\n",
      "-3.8134239632236016 155.09484800124176 338.38767440903507 5079.990703213782\n",
      "5.970699480333747 154.5207813060741 338.38767440903507 4708.708934719094\n",
      "-12.343926999730717 175.19512349721887 338.38767440903507 4319.587457588877\n",
      "15.343027891248722 154.34987317188003 338.38767440903507 4022.959241627429\n",
      "-4.967815280937217 174.5635214110605 338.38767440903507 4045.74775127616\n",
      "-14.169615657410779 188.07209089417628 338.38767440903507 2735.0958411185766\n",
      "5.2037138232230715 142.75154539057303 338.38767440903507 2266.127745396826\n",
      "19.230087729578198 145.25591720503732 338.38767440903507 1924.7498679119587\n",
      "-8.996940667513975 144.75212661460515 338.38767440903507 1773.0953075593416\n",
      "25.438986605746997 156.90479151470598 338.38767440903507 2084.0059471174563\n",
      "-3.808140479829337 188.24573674621016 338.38767440903507 2164.988444920591\n",
      "-15.282528426016869 196.00709908707728 338.38767440903507 1702.798470440532\n",
      "-4.1996385318609235 155.65914425242855 340.18147134770925 5791.127912150252\n",
      "4.797681998682124 155.2440568970731 340.18147134770925 4835.792943130207\n",
      "-6.647316618482712 167.37864472244223 340.18147134770925 4013.6989039068612\n",
      "-6.0904178770050015 145.341694340187 340.18147134770925 2588.805641006986\n",
      "6.762674151384513 167.46320153733092 340.18147134770925 2583.3648030437207\n",
      "-18.81063583423403 155.19146753996785 340.18147134770925 2334.772339371559\n",
      "-7.5942422070042355 176.87308319118168 340.18147134770925 3164.353737517831\n",
      "-15.223539031085165 176.20288773848472 340.18147134770925 2529.6332667423267\n",
      "14.542420725380616 146.32522261445249 340.18147134770925 2438.681680574308\n",
      "-4.51088407636659 186.33351017074295 340.18147134770925 2213.8260235325097\n",
      "-3.972819715694034 155.51564166643914 341.93757017636864 10462.627109458954\n",
      "-4.152289324118972 164.99386306587013 341.93757017636864 7844.410366126984\n",
      "-41.70571232585252 144.64012787065258 351.4330622138854 3509.1755218523394\n",
      "-34.93039608298116 144.40414126067063 351.4330622138854 3110.7736696719808\n",
      "-43.66775033529769 134.68137149127892 351.4330622138854 1498.7484138754076\n",
      "-33.47604383752297 154.83538766761046 351.4330622138854 1689.1863919923674\n",
      "-30.6768321317527 135.65861212282158 351.4330622138854 1334.6108961621055\n",
      "-22.666322494371908 145.420716322811 351.4330622138854 993.6683754887681\n",
      "-42.18983963880673 144.30844423743446 353.18139120307615 6161.096903529295\n",
      "-35.16368674108896 144.3824233458049 353.18139120307615 5145.420321365654\n",
      "-34.58969577514125 135.1240046344242 353.18139120307615 2874.66507692941\n",
      "-34.236249558423296 154.73353038490606 353.18139120307615 2525.252795434014\n",
      "-48.636035705658784 134.6917538100113 353.18139120307615 1930.939952625264\n",
      "-48.52235409091719 154.7494967244318 353.18139120307615 1622.9452598267956\n",
      "-23.159373907056363 144.79481723486802 353.18139120307615 1421.8288899263162\n",
      "-57.07970692957204 144.26194884885308 353.18139120307615 1274.678683055065\n",
      "-55.60057058303392 131.9518688793585 353.18139120307615 832.0121639122264\n",
      "-24.33781347370515 157.66791447786488 353.18139120307615 800.1580002709603\n",
      "-36.96005698366358 144.5682690565899 354.9548138960324 7463.111362090351\n",
      "-43.6254608897017 144.1618106228879 354.9548138960324 5851.744341197654\n",
      "-35.04752185563401 134.75059821484922 354.9548138960324 3451.023337691956\n",
      "-34.37737332880033 154.6691942067545 354.9548138960324 2945.315834575707\n",
      "-48.314139575563495 134.01062300490403 354.9548138960324 2319.352968608463\n",
      "-48.67177784974496 154.88602434208482 354.9548138960324 1853.2675111029596\n",
      "-22.83855942018031 145.21539933631155 354.9548138960324 1705.3720456359338\n",
      "-57.19256837748248 144.5470319459177 354.9548138960324 1439.5392351786988\n",
      "-23.314544144524493 156.59648100642886 354.9548138960324 966.995919740823\n",
      "-55.039263628692126 131.64514616996095 354.9548138960324 1103.8827908571404\n",
      "-42.012754149226744 144.40989255364727 356.70291266775735 6307.0461771986365\n",
      "-35.65554529604087 144.31047924811506 356.70291266775735 5176.138502195805\n",
      "-43.63465859402713 134.07834110072105 356.70291266775735 2782.2233037268747\n",
      "-32.01787769428192 134.24673992127978 356.70291266775735 2141.8559020074854\n",
      "-34.40297276097208 154.95592828466846 356.70291266775735 2425.5716458005268\n",
      "-48.451591552457714 155.92019703830962 356.70291266775735 1644.4155677034853\n"
     ]
    }
   ],
   "source": [
    "pmap_dict = load_pmaps(file_name)\n",
    "pmap = pmap_dict.get(evt_no, None)\n",
    "if pmap == None:\n",
    "    print('No pmaps')\n",
    "\n",
    "s1    = pmap.s1s\n",
    "s2raw = pmap.s2s\n",
    "### Reject events with no S1, S2\n",
    "if not s1 or not s2raw:\n",
    "    print('No S1 or S2')\n",
    "if len(s1) != 1:\n",
    "    print('More than one S1')\n",
    "\n",
    "s2s = [rebin_peak(s2r, n_rebin) for s2r in s2raw]\n",
    "\n",
    "s1e = s1[0].pmts.sum_over_sensors\n",
    "S1t = s1[0].time_at_max_energy\n",
    "\n",
    "for slice_no in range(len(s2s[peak_no].times)):\n",
    "    t_slice = s2s[peak_no].times[slice_no]\n",
    "    z       = (t_slice - S1t) * drift_v \n",
    "    try:\n",
    "        clusters, pos, Qs = compute_xy_position(s2s[peak_no], slice_no)\n",
    "    except ClusterEmptyList:\n",
    "        #print('No clusters')\n",
    "        continue\n",
    "    except SipmZeroCharge:\n",
    "        #print('No charge in SiPMs')\n",
    "        continue\n",
    "    except(SipmEmptyListAboveQthr):\n",
    "        #print('No charge over threshold in SiPMs')\n",
    "        continue\n",
    "    \n",
    "    slice_energy = s2s[peak_no].pmts.sum_over_sensors[slice_no]\n",
    "    energies = split_energy(slice_energy, clusters)\n",
    "    for c, e in zip(clusters, energies):\n",
    "        print(\"{0} {1} {2} {3}\".format(c.pos[0], c.pos[1], z, e))"
   ]
  },
  {
   "cell_type": "markdown",
   "metadata": {},
   "source": [
    "## MC"
   ]
  },
  {
   "cell_type": "code",
   "execution_count": 11,
   "metadata": {},
   "outputs": [],
   "source": [
    "corona_opts   = {\n",
    "    \"Qthr\"          : 3,\n",
    "    \"Qlm\"           : 55.,\n",
    "    \"lm_radius\"     : 0.,\n",
    "    \"new_lm_radius\" : 15.,\n",
    "    \"msipm\"         :  7,\n",
    "}\n",
    "\n",
    "run_number = -6202\n",
    "DataSiPM        = load_db.DataSiPM(run_number)\n",
    "data_xs         = DataSiPM.X.values\n",
    "data_ys         = DataSiPM.Y.values"
   ]
  },
  {
   "cell_type": "code",
   "execution_count": 12,
   "metadata": {},
   "outputs": [],
   "source": [
    "def compute_xy_position(s2, slice_no):\n",
    "    IDs = s2.sipms.ids\n",
    "    pos = np.array([np.array([x,y]) for x,y in zip(data_xs[IDs], data_ys[IDs])])\n",
    "    Qs  = np.array(s2s[peak_no].sipms.time_slice(slice_no))\n",
    "    return corona(pos, Qs, **corona_opts), pos, Qs"
   ]
  },
  {
   "cell_type": "code",
   "execution_count": null,
   "metadata": {},
   "outputs": [],
   "source": [
    "file_name = '/Users/paola/Software/ic_data/TlMC/pmaps/Tl208_NEW_v1_03_01_nexus_v5_03_04_UPPER_PORT_10.2bar_v0.9.8_20180507_pmaps.0.h5'\n",
    "slice_no = 2\n",
    "evt_no = 427\n",
    "peak_no = 0\n",
    "n_rebin = 2\n",
    "\n",
    "s1df, s2df, sidf, s1pmtdf, s2pmtdf = load_pmaps_as_df(file_name)\n",
    "s1  = s1s_from_df(s1df   [s1df   .event == evt_no],\n",
    "                  s1pmtdf[s1pmtdf.event == evt_no])\n",
    "s2raw = s2s_from_df(s2df   [s2df   .event == evt_no],\n",
    "                    s2pmtdf[s2pmtdf.event == evt_no],\n",
    "                    sidf   [sidf   .event == evt_no])\n",
    "\n",
    "s2s = [rebin_peak(s2r, n_rebin) for s2r in s2raw]\n",
    "\n",
    "s1e = s1[0].pmts.sum_over_sensors\n",
    "S1t = s1[0].time_at_max_energy\n",
    "\n",
    "t_slice = s2s[peak_no].times[slice_no]\n",
    "z       = (t_slice - S1t) * 0.001  # drift_v = 1.0\n",
    "\n",
    "#print(\"Tot energy of peak {} = {}\".format(peak_no, np.sum(S2.s2d[peak_no][1])))\n",
    "clusters = []\n",
    "\n",
    "try:\n",
    "    clusters, pos, Qs = compute_xy_position(s2s[peak_no], slice_no)\n",
    "except ClusterEmptyList:\n",
    "    print('No clusters')\n",
    "except SipmZeroCharge:\n",
    "    print('No charge in SiPMs')\n",
    "\n",
    "print(\"Found {0} clusters at t {1}\".format(len(clusters), t_slice))\n",
    "\n",
    "\n",
    "x0vals = []; y0vals = []\n",
    "for c in clusters:\n",
    "    x0vals.append(c.pos[0])\n",
    "    y0vals.append(c.pos[1])\n",
    "    print(\"cluster ({0},{1},{2})\".format(c.pos[0],c.pos[1],z))\n",
    "    \n",
    "xvals = []; yvals = []; qvals = []\n",
    "\n",
    "for p, q in zip(pos, Qs):\n",
    "    if q > 0:\n",
    "        xvals.append(p[0])\n",
    "        yvals.append(p[1])\n",
    "        qvals.append(q)\n",
    "        #print(p[0], p[1], q)\n",
    "\n",
    "\n",
    "plot_test_event(xvals,yvals,qvals,x0vals,y0vals)\n",
    "#print(np.sort(Qs[Qs>0]))"
   ]
  },
  {
   "cell_type": "code",
   "execution_count": 20,
   "metadata": {},
   "outputs": [
    {
     "data": {
      "text/plain": [
       "<matplotlib.text.Text at 0x112bc3fd0>"
      ]
     },
     "execution_count": 20,
     "metadata": {},
     "output_type": "execute_result"
    },
    {
     "data": {
      "image/png": "[encoded data removed]",
      "text/plain": [
       "<matplotlib.figure.Figure at 0x112714a58>"
      ]
     },
     "metadata": {},
     "output_type": "display_data"
    }
   ],
   "source": [
    "fig = plt.figure(figsize=(15, 10))\n",
    "range1 = 480\n",
    "range2 = 500\n",
    "bins = range2-range1\n",
    "\n",
    "ax = fig.add_subplot(1, 2, 1)\n",
    "\n",
    "t = s2raw[peak_no].times * 0.001\n",
    "charges = s2raw[peak_no].pmts.sum_over_sensors\n",
    "ax.hist(t, bins=bins, weights=charges, range=(range1,range2), label='PMT')\n",
    "lnd = plt.legend(loc=2)\n",
    "plt.xlabel('Time (mus)')\n",
    "plt.ylabel('Charge (pes)')\n",
    "\n",
    "ax = fig.add_subplot(1, 2, 2)\n",
    "\n",
    "charges = s2raw[peak_no].sipms.sum_over_sensors\n",
    "ax.hist(t, bins=bins, weights=charges, range=(range1,range2), label='SiPM')\n",
    "lnd = plt.legend(loc=2)\n",
    "plt.xlabel('Time (mus)')\n",
    "plt.ylabel('Charge (pes)')"
   ]
  },
  {
   "cell_type": "code",
   "execution_count": 18,
   "metadata": {},
   "outputs": [],
   "source": [
    "def split_energy(total_e, clusters):\n",
    "    if len(clusters) == 1:\n",
    "        return [total_e]\n",
    "    qs = np.array([c.Q for c in clusters])\n",
    "    return total_e * qs / np.sum(qs)"
   ]
  },
  {
   "cell_type": "code",
   "execution_count": 19,
   "metadata": {},
   "outputs": [
    {
     "name": "stdout",
     "output_type": "stream",
     "text": [
      "66.85690702423592 117.23522712134924 318.0831875 7296.223544590697\n",
      "66.21509053388877 124.57983152318653 318.0831875 6244.85643354771\n",
      "76.50357906055619 114.70641560425388 318.0831875 4209.510231822529\n",
      "66.5347505855926 117.65283099435123 319.9470625 13566.70590856843\n",
      "66.13370733031816 124.5825541348113 319.9470625 11807.981436228787\n",
      "76.62995921603844 115.49742945758787 319.9470625 7905.25186169749\n",
      "55.8987456880866 126.93952021516046 319.9470625 5189.122998510596\n",
      "84.15780369006347 113.88421509230672 319.9470625 3536.138933966758\n",
      "56.56548686950594 146.43109810345229 319.9470625 2105.844271184189\n",
      "65.03928994819844 124.21473638371289 321.79846875 14202.025840792525\n",
      "66.27293481149637 117.01236941707234 321.79846875 9111.774407292618\n",
      "77.469298749668 116.56383559107047 321.79846875 6478.3979901856055\n",
      "55.7964517213316 128.41540850338674 321.79846875 6508.978857099931\n",
      "65.91106716250536 134.91794934565567 321.79846875 6569.399656625965\n",
      "84.88347035885894 115.28376860563426 321.79846875 3182.7352597221043\n",
      "74.43502149250128 124.67382752665551 323.69609375 12077.840976662574\n",
      "64.26545913916647 125.66029327830952 323.69609375 10252.201015524926\n",
      "83.19549632526453 126.83532949254132 325.79578125 6148.303621716558\n",
      "82.57221988729765 133.59949070977052 325.79578125 4215.383023791254\n",
      "92.94705757740905 131.52387551807328 345.97 5044.561817628098\n",
      "85.28846440085593 131.488188587742 345.97 3975.6147484011776\n",
      "95.16153963638591 122.86030224352605 345.97 3692.206917857443\n",
      "94.28126557536378 125.30136180876865 347.85803125 9632.30924017903\n",
      "85.74992410504868 126.1956448608709 347.85803125 6472.993982477219\n",
      "95.27436759066319 125.18904983435426 349.89740625 6337.550879106308\n",
      "94.64619757285261 132.66891980082738 349.89740625 3961.1918247476287\n",
      "105.4575324386024 122.3853641914277 349.89740625 3467.8618000827773\n",
      "85.3726596596376 123.67822904954106 349.89740625 3022.6712528992243\n",
      "95.65814871525208 126.84277444408029 351.97228125 12135.738731016969\n",
      "95.83792479729028 133.72277748412648 351.97228125 9045.848312464619\n",
      "105.66834056293 134.0150897738672 351.97228125 5435.133659643411\n",
      "95.59507574815065 132.35913502471047 353.892625 15197.679738444818\n",
      "95.7217507469199 125.72422287641855 353.892625 12061.130146180163\n",
      "105.4885635826984 134.8259011821158 353.892625 6980.2158206172335\n",
      "85.4415994167526 125.00430999417405 353.892625 5461.886159992159\n",
      "95.8564174784707 127.1253646725204 355.7903125 13445.069393370648\n",
      "95.75348245528758 133.71640708614953 355.7903125 10245.794439646703\n",
      "105.58221445647551 124.17212476491153 355.7903125 6607.855369737651\n",
      "85.54273299077904 124.86186017832016 355.7903125 4810.590611698124\n",
      "95.12100640987308 126.53173760729659 357.77296875 8518.59810586684\n",
      "94.95990941216176 133.14052371781688 357.77296875 5696.543700678149\n",
      "104.14926753764541 123.36607314140407 357.77296875 3567.9104383154868\n",
      "86.35163031697303 123.7536151511451 357.77296875 3319.6673596317114\n",
      "95.00289289397158 132.36846063146783 359.7743125 6673.828052688506\n",
      "94.29470648851255 125.00506220011164 359.7743125 5636.495128463837\n"
     ]
    }
   ],
   "source": [
    "s1df, s2df, sidf, s1pmtdf, s2pmtdf = load_pmaps_as_df(file_name)\n",
    "s1  = s1s_from_df(s1df   [s1df   .event == evt_no],\n",
    "                  s1pmtdf[s1pmtdf.event == evt_no])\n",
    "s2raw = s2s_from_df(s2df   [s2df   .event == evt_no],\n",
    "                    s2pmtdf[s2pmtdf.event == evt_no],\n",
    "                    sidf   [sidf   .event == evt_no])\n",
    "\n",
    "### Reject events with no S1, S2\n",
    "if not s1 or not s2raw:\n",
    "    print('No S1 or S2')\n",
    "if len(s1) != 1:\n",
    "    print('More than one S1')\n",
    "\n",
    "s2s = [rebin_peak(s2r, n_rebin) for s2r in s2raw]\n",
    "\n",
    "s1e = s1[0].pmts.sum_over_sensors\n",
    "S1t = s1[0].time_at_max_energy\n",
    "\n",
    "for slice_no in range(len(s2s[peak_no].times)):\n",
    "    t_slice = s2s[peak_no].times[slice_no]\n",
    "    z       = (t_slice - S1t) * 0.001 \n",
    "    try:\n",
    "        clusters, pos, Qs = compute_xy_position(s2s[peak_no], slice_no)\n",
    "    except ClusterEmptyList:\n",
    "        #print('No clusters')\n",
    "        continue\n",
    "    except SipmZeroCharge:\n",
    "        #print('No charge in SiPMs')\n",
    "        continue\n",
    "    except(SipmEmptyListAboveQthr):\n",
    "        #print('No charge over threshold in SiPMs')\n",
    "        continue\n",
    "    \n",
    "    slice_energy = s2s[peak_no].pmts.sum_over_sensors[slice_no]\n",
    "    energies = split_energy(slice_energy, clusters)\n",
    "    for c, e in zip(clusters, energies):\n",
    "        print(\"{0} {1} {2} {3}\".format(c.pos[0], c.pos[1], z, e))"
   ]
  },
  {
   "cell_type": "code",
   "execution_count": null,
   "metadata": {},
   "outputs": [],
   "source": []
  },
  {
   "cell_type": "code",
   "execution_count": 9,
   "metadata": {},
   "outputs": [],
   "source": [
    "DataSiPM_0 = load_db.DataSiPM(0)\n",
    "DataSiPM_1 = load_db.DataSiPM(1)"
   ]
  },
  {
   "cell_type": "code",
   "execution_count": 35,
   "metadata": {},
   "outputs": [
    {
     "data": {
      "text/plain": [
       "array([-235., -235., -235., ...,  235.,  235.,  235.])"
      ]
     },
     "execution_count": 35,
     "metadata": {},
     "output_type": "execute_result"
    }
   ],
   "source": [
    "DataSiPM_1.X.values"
   ]
  },
  {
   "cell_type": "code",
   "execution_count": 37,
   "metadata": {},
   "outputs": [
    {
     "data": {
      "text/plain": [
       "array([ 45.,  55.,  65., ..., -65., -55., -45.])"
      ]
     },
     "execution_count": 37,
     "metadata": {},
     "output_type": "execute_result"
    }
   ],
   "source": [
    "DataSiPM_1.Y.values"
   ]
  },
  {
   "cell_type": "code",
   "execution_count": 36,
   "metadata": {},
   "outputs": [
    {
     "data": {
      "text/plain": [
       "array([[-235., -235., -235., ...,  235.,  235.,  235.],\n",
       "       [  45.,   55.,   65., ...,  -65.,  -55.,  -45.]])"
      ]
     },
     "execution_count": 36,
     "metadata": {},
     "output_type": "execute_result"
    }
   ],
   "source": [
    "np.stack([DataSiPM_1.X.values, DataSiPM_1.Y.values], axis=0)"
   ]
  },
  {
   "cell_type": "code",
   "execution_count": 4,
   "metadata": {},
   "outputs": [
    {
     "data": {
      "text/plain": [
       "array([ True,  True,  True, ...,  True,  True,  True])"
      ]
     },
     "execution_count": 4,
     "metadata": {},
     "output_type": "execute_result"
    }
   ],
   "source": [
    "DataSiPM.Active.values.astype(bool)"
   ]
  },
  {
   "cell_type": "code",
   "execution_count": 23,
   "metadata": {},
   "outputs": [
    {
     "data": {
      "text/plain": [
       "array([0, 0, 0, 0, 1, 1, 1, 1, 2, 2, 2, 2])"
      ]
     },
     "execution_count": 23,
     "metadata": {},
     "output_type": "execute_result"
    }
   ],
   "source": [
    "np.repeat(np.arange(3), 4)\n"
   ]
  }
 ],
 "metadata": {
  "kernelspec": {
   "display_name": "Python 3",
   "language": "python",
   "name": "python3"
  },
  "language_info": {
   "codemirror_mode": {
    "name": "ipython",
    "version": 3
   },
   "file_extension": ".py",
   "mimetype": "text/x-python",
   "name": "python",
   "nbconvert_exporter": "python",
   "pygments_lexer": "ipython3",
   "version": "3.8.3"
  }
 },
 "nbformat": 4,
 "nbformat_minor": 4
}
