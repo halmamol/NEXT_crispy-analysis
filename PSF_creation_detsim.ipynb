{
 "cells": [
  {
   "cell_type": "markdown",
   "metadata": {},
   "source": [
    "\n",
    "# Create SiPM PSF for NEXT-100 (using detsim), to use with Beersheba. "
   ]
  },
  {
   "cell_type": "code",
   "execution_count": 3,
   "metadata": {},
   "outputs": [],
   "source": [
    "import os\n",
    "import glob\n",
    "import numpy  as np\n",
    "import pandas as pd\n",
    "import tables as tb\n",
    "import h5py\n",
    "\n",
    "from IC.invisible_cities.reco.psf_functions    import create_psf\n",
    "from IC.invisible_cities.reco.psf_functions    import hdst_psf_processing\n",
    "from IC.invisible_cities.reco.psf_functions    import add_empty_sensors_and_normalize_q\n",
    "from IC.invisible_cities.reco.psf_functions    import add_variable_weighted_mean\n",
    "\n",
    "import IC.invisible_cities.core.core_functions as     coref\n",
    "import IC.invisible_cities.io.dst_io         as     dstio\n",
    "\n",
    "from IC.invisible_cities.database              import load_db\n",
    "from IC.invisible_cities.io.kdst_io      import psf_writer"
   ]
  },
  {
   "cell_type": "markdown",
   "metadata": {},
   "source": [
    "Note: I had to change the path for the database files in invisible cities, because it was calling an error. "
   ]
  },
  {
   "cell_type": "code",
   "execution_count": 4,
   "metadata": {},
   "outputs": [],
   "source": [
    "import matplotlib.pyplot as plt\n",
    "\n",
    "plt.rcParams[\"figure.figsize\"]          = 10, 10\n",
    "plt.rcParams[\"font.size\"]               = 16\n",
    "plt.rcParams[\"figure.max_open_warning\"] = 100"
   ]
  },
  {
   "cell_type": "code",
   "execution_count": 5,
   "metadata": {},
   "outputs": [],
   "source": [
    "db = load_db.DataSiPM('next100', -1)"
   ]
  },
  {
   "cell_type": "code",
   "execution_count": 6,
   "metadata": {},
   "outputs": [],
   "source": [
    "# Input and output path\n",
    "psf_path   = '/Users/halmamol/NEXT/files/NEXT100/psf/'\n",
    "psf_filename = 'next100.kr83m.psf.h5'\n",
    "out_psf  = psf_path + psf_filename\n",
    "\n",
    "psf_files = glob.glob(psf_path+'psf_*.h5')"
   ]
  },
  {
   "cell_type": "markdown",
   "metadata": {},
   "source": [
    "*Below*: When I call the files, it sais that the first one is the 24 but there is a file 1.\n"
   ]
  },
  {
   "cell_type": "code",
   "execution_count": null,
   "metadata": {},
   "outputs": [],
   "source": [
    "psf_files[0]"
   ]
  },
  {
   "cell_type": "markdown",
   "metadata": {},
   "source": [
    "### 1-Check if penthesilea (kr_penthesilea) files are correct"
   ]
  },
  {
   "cell_type": "markdown",
   "metadata": {},
   "source": [
    "Opening file, to retrieve important variables storaged in RECO/Events (X and Y rms, charge, energy, trackID):"
   ]
  },
  {
   "cell_type": "code",
   "execution_count": null,
   "metadata": {},
   "outputs": [],
   "source": [
    "myfile = ['/Users/halmamol/NEXT/files/NEXT100/psf/kr_penthesilea/next100.kr83m.45.psf_hits.h5']\n",
    "df = dstio.load_dsts(myfile, 'RECO', 'Events').drop(['Xrms', 'Yrms', 'Qc', 'Ec', 'track_id'], \n",
    "                                                    axis='columns').reset_index(drop=True)"
   ]
  },
  {
   "cell_type": "code",
   "execution_count": null,
   "metadata": {
    "scrolled": true
   },
   "outputs": [],
   "source": [
    "### Use all z to have more statistics\n",
    "plt.rcParams[\"figure.figsize\"]  = 10, 10\n",
    "\n",
    "bin_size   = 1\n",
    "Xrange     = [ -100, 100]\n",
    "Yrange     = [ -100, 100]\n",
    "ranges     = [Xrange, Yrange]\n",
    "nbinX      = int(np.diff(Xrange)/bin_size)\n",
    "nbinY      = int(np.diff(Yrange)/bin_size)\n",
    "\n",
    "# \"hdst_psf_processing\" fucntion: adds necessary info to a hits DST to create the PSF, \n",
    "# namely the relative position and the normalized Q.\n",
    "\n",
    "hdstA = hdst_psf_processing(df, [Xrange, Yrange], db)\n",
    "hdst = hdstA[coref.in_range(hdstA.Z, 0, 2000)]\n",
    "bin_edges = [np.linspace(*rr, [nbinX, nbinY][i]+1) for i, rr in enumerate([Xrange, Yrange])]\n",
    "\n",
    "# \"create_psf\" function takes:\n",
    "# - the hits relative position in 2D (hdst.RelX.values, hdst.RelY.values), \n",
    "# - the hits SiPM charge normalized to the total peak charge (hdst.NormQ)\n",
    "# - bin edges for the PSF in each dimension (bin_edges)\n",
    "\n",
    "# and it retrieves:\n",
    "# - the point-spread function, \n",
    "# - number of entries per bin in the PSF, \n",
    "# - bin centers of the PSF.\n",
    "\n",
    "psf_new, entries_new, bins_new = create_psf((hdst.RelX.values, hdst.RelY.values), hdst.NormQ, \n",
    "                                             bin_edges)\n",
    "plt.imshow(psf_new)\n",
    "plt.colorbar()"
   ]
  },
  {
   "cell_type": "markdown",
   "metadata": {},
   "source": [
    "### 2-Code to create PSF "
   ]
  },
  {
   "cell_type": "code",
   "execution_count": null,
   "metadata": {},
   "outputs": [],
   "source": [
    "## Defining \"compute_psf\" function:\n",
    "## - It creates a test file (\"prova\")\n",
    "## - It uses one big bin in xy.\n",
    "## - In the writer function, 0., 0. are the xy average of the particular xy bin.\n",
    "## - Other two loops should be added if more bins were to be used.\n",
    "\n",
    "def compute_psf(df, fnumber):\n",
    "    out_psf = psf_path + 'psf_prova_{}.h5'.format(fnumber)\n",
    "#    print(out_psf)\n",
    "\n",
    "    with tb.open_file(out_psf, 'w') as outfile:\n",
    "        # Declare the PSF writer\n",
    "        writer = psf_writer(outfile)\n",
    "\n",
    "        for z in zrange:\n",
    "            z_sel = coref.in_range(df.Z, z, z+z_step) \n",
    "            # Preprocess the data before extracting the PSF (same as before)\n",
    "            hdst = hdst_psf_processing(df[z_sel], [Xrange, Yrange], the_db)\n",
    "            # Safety check (single sipm events not considered to be physical)\n",
    "            hdst = hdst[hdst.nsipm > 1]\n",
    "\n",
    "            # Loop to extract the PSF in different regions.\n",
    "            bin_edges = [np.linspace(*rr, [nbinX, nbinY][i]+1) for i, rr in enumerate([Xrange, Yrange])]\n",
    "            psf_new, entries_new, bins_new = create_psf((hdst.RelX.values, hdst.RelY.values), hdst.NormQ, \n",
    "                                                         bin_edges)\n",
    "\n",
    "            writer(bins_new[0], bins_new[1], [0], 0., 0., z + z_step/2, \n",
    "                           np.asarray([psf_new]).transpose((1, 2, 0)), np.asarray([entries_new]).transpose((1, 2, 0)))"
   ]
  },
  {
   "cell_type": "code",
   "execution_count": null,
   "metadata": {},
   "outputs": [],
   "source": [
    "# Calling the SiPM data from the db\n",
    "run = -1\n",
    "the_db = load_db.DataSiPM('next100', run)\n",
    "\n",
    "z_max  = 1205\n",
    "z_step = 1205\n",
    "zrange = []\n",
    "zrange.extend(np.arange(0, z_max, z_step))"
   ]
  },
  {
   "cell_type": "code",
   "execution_count": null,
   "metadata": {},
   "outputs": [],
   "source": [
    "## Checking db is working\n",
    "the_db"
   ]
  },
  {
   "cell_type": "code",
   "execution_count": null,
   "metadata": {},
   "outputs": [],
   "source": [
    "### Definign PSF binning and range (as before)\n",
    "bin_size   = 1\n",
    "Xrange     = [ -100, 100]\n",
    "Yrange     = [ -100, 100]\n",
    "ranges     = [Xrange, Yrange]\n",
    "nbinX      = int(np.diff(Xrange)/bin_size)\n",
    "nbinY      = int(np.diff(Yrange)/bin_size)\n",
    "\n",
    "#Taking the variables from the files\n",
    "i = 1\n",
    "thefile = myfile[0].format(i)\n",
    "df = dstio.load_dsts([thefile], 'RECO', 'Events').drop(['Xrms', 'Yrms', 'Qc', 'Ec', 'track_id'], axis='columns').reset_index(drop=True)\n",
    "compute_psf(df, i)"
   ]
  },
  {
   "cell_type": "code",
   "execution_count": null,
   "metadata": {},
   "outputs": [],
   "source": [
    "## Test - Crosscheck\n",
    "plt.imshow(psf_new)\n",
    "plt.colorbar()"
   ]
  },
  {
   "cell_type": "markdown",
   "metadata": {},
   "source": [
    "### 3 - Read back the psf (prova) file"
   ]
  },
  {
   "cell_type": "code",
   "execution_count": null,
   "metadata": {},
   "outputs": [],
   "source": [
    "provapath = psf_path + 'psf_prova_1.h5'\n",
    "h5file = tb.open_file(psf_path + 'psf_prova_1.h5')\n",
    "h5file"
   ]
  },
  {
   "cell_type": "code",
   "execution_count": null,
   "metadata": {},
   "outputs": [],
   "source": [
    "## Take one of the prova files - NOTE: I had to add 'PSF/PSFs'\n",
    "psf = pd.read_hdf(psf_path + 'psf_prova_1.h5', 'PSF/PSFs')\n",
    "print(psf.head())"
   ]
  },
  {
   "cell_type": "code",
   "execution_count": null,
   "metadata": {},
   "outputs": [],
   "source": [
    "#Checking the psf form\n",
    "fig, axes = plt.subplots(1, 2, figsize=(16, 6))\n",
    "\n",
    "### 1s - Plot PSF at center (X dimension)\n",
    "## Taking a specific z and yr value\n",
    "p1 = psf[(psf.z==602.5) & (psf.yr==0.5)]\n",
    "x, y = sorted(set(p1.xr)), p1.groupby(['xr'])['factor'].sum().values\n",
    "axes[0].plot(x, y)\n",
    "axes[0].set_xlabel('X distance (mm)')\n",
    "axes[0].set_ylabel('Charge fraction')\n",
    "\n",
    "### PSF (2D)\n",
    "p1 = psf[(psf.z==602.5)]\n",
    "x, y, e = p1.xr.values, p1.yr.values, p1.factor.values\n",
    "xb, yb  = np.linspace(Xrange[0], Xrange[1], Xrange[1]), np.linspace(Yrange[0], Yrange[1], Yrange[1])\n",
    "img = axes[1].hist2d(x, y, bins=[xb,yb], weights=e)\n",
    "axes[1].set_xlabel('X distance (mm)')\n",
    "axes[1].set_ylabel('Y distance (mm)')\n",
    "cb = fig.colorbar(img[3], ax=axes[1])\n",
    "\n",
    "cb.set_label('Charge fraction')"
   ]
  },
  {
   "cell_type": "markdown",
   "metadata": {},
   "source": [
    "# Join all PSFs"
   ]
  },
  {
   "cell_type": "markdown",
   "metadata": {},
   "source": [
    "Now, once all psf files have been created, let's join them to use one file."
   ]
  },
  {
   "cell_type": "code",
   "execution_count": null,
   "metadata": {},
   "outputs": [],
   "source": [
    "# Input and output path\n",
    "\n",
    "psf_filename = 'next100.kr83m.psf.h5'\n",
    "out_psf  = psf_path + psf_filename\n",
    "\n",
    "psf_files = glob.glob(psf_path + 'psf_*.h5')\n",
    "psf_files"
   ]
  },
  {
   "cell_type": "code",
   "execution_count": null,
   "metadata": {},
   "outputs": [],
   "source": [
    "len(psf_files)"
   ]
  },
  {
   "cell_type": "markdown",
   "metadata": {},
   "source": [
    "It seems some of the files are missing, maybe when moving the files into local"
   ]
  },
  {
   "cell_type": "code",
   "execution_count": 10,
   "metadata": {},
   "outputs": [
    {
     "data": {
      "text/html": [
       "<div>\n",
       "<style scoped>\n",
       "    .dataframe tbody tr th:only-of-type {\n",
       "        vertical-align: middle;\n",
       "    }\n",
       "\n",
       "    .dataframe tbody tr th {\n",
       "        vertical-align: top;\n",
       "    }\n",
       "\n",
       "    .dataframe thead th {\n",
       "        text-align: right;\n",
       "    }\n",
       "</style>\n",
       "<table border=\"1\" class=\"dataframe\">\n",
       "  <thead>\n",
       "    <tr style=\"text-align: right;\">\n",
       "      <th></th>\n",
       "      <th>nevt</th>\n",
       "      <th>xr</th>\n",
       "      <th>yr</th>\n",
       "      <th>zr</th>\n",
       "      <th>x</th>\n",
       "      <th>y</th>\n",
       "      <th>z</th>\n",
       "      <th>factor</th>\n",
       "    </tr>\n",
       "  </thead>\n",
       "  <tbody>\n",
       "    <tr>\n",
       "      <th>0</th>\n",
       "      <td>0</td>\n",
       "      <td>-99.5</td>\n",
       "      <td>-99.5</td>\n",
       "      <td>0.0</td>\n",
       "      <td>0.0</td>\n",
       "      <td>0.0</td>\n",
       "      <td>10.0</td>\n",
       "      <td>0.0</td>\n",
       "    </tr>\n",
       "    <tr>\n",
       "      <th>1</th>\n",
       "      <td>0</td>\n",
       "      <td>-99.5</td>\n",
       "      <td>-98.5</td>\n",
       "      <td>0.0</td>\n",
       "      <td>0.0</td>\n",
       "      <td>0.0</td>\n",
       "      <td>10.0</td>\n",
       "      <td>0.0</td>\n",
       "    </tr>\n",
       "    <tr>\n",
       "      <th>2</th>\n",
       "      <td>0</td>\n",
       "      <td>-99.5</td>\n",
       "      <td>-97.5</td>\n",
       "      <td>0.0</td>\n",
       "      <td>0.0</td>\n",
       "      <td>0.0</td>\n",
       "      <td>10.0</td>\n",
       "      <td>0.0</td>\n",
       "    </tr>\n",
       "    <tr>\n",
       "      <th>3</th>\n",
       "      <td>0</td>\n",
       "      <td>-99.5</td>\n",
       "      <td>-96.5</td>\n",
       "      <td>0.0</td>\n",
       "      <td>0.0</td>\n",
       "      <td>0.0</td>\n",
       "      <td>10.0</td>\n",
       "      <td>0.0</td>\n",
       "    </tr>\n",
       "    <tr>\n",
       "      <th>4</th>\n",
       "      <td>0</td>\n",
       "      <td>-99.5</td>\n",
       "      <td>-95.5</td>\n",
       "      <td>0.0</td>\n",
       "      <td>0.0</td>\n",
       "      <td>0.0</td>\n",
       "      <td>10.0</td>\n",
       "      <td>0.0</td>\n",
       "    </tr>\n",
       "    <tr>\n",
       "      <th>...</th>\n",
       "      <td>...</td>\n",
       "      <td>...</td>\n",
       "      <td>...</td>\n",
       "      <td>...</td>\n",
       "      <td>...</td>\n",
       "      <td>...</td>\n",
       "      <td>...</td>\n",
       "      <td>...</td>\n",
       "    </tr>\n",
       "    <tr>\n",
       "      <th>2439995</th>\n",
       "      <td>0</td>\n",
       "      <td>99.5</td>\n",
       "      <td>95.5</td>\n",
       "      <td>0.0</td>\n",
       "      <td>0.0</td>\n",
       "      <td>0.0</td>\n",
       "      <td>1210.0</td>\n",
       "      <td>0.0</td>\n",
       "    </tr>\n",
       "    <tr>\n",
       "      <th>2439996</th>\n",
       "      <td>0</td>\n",
       "      <td>99.5</td>\n",
       "      <td>96.5</td>\n",
       "      <td>0.0</td>\n",
       "      <td>0.0</td>\n",
       "      <td>0.0</td>\n",
       "      <td>1210.0</td>\n",
       "      <td>0.0</td>\n",
       "    </tr>\n",
       "    <tr>\n",
       "      <th>2439997</th>\n",
       "      <td>0</td>\n",
       "      <td>99.5</td>\n",
       "      <td>97.5</td>\n",
       "      <td>0.0</td>\n",
       "      <td>0.0</td>\n",
       "      <td>0.0</td>\n",
       "      <td>1210.0</td>\n",
       "      <td>0.0</td>\n",
       "    </tr>\n",
       "    <tr>\n",
       "      <th>2439998</th>\n",
       "      <td>0</td>\n",
       "      <td>99.5</td>\n",
       "      <td>98.5</td>\n",
       "      <td>0.0</td>\n",
       "      <td>0.0</td>\n",
       "      <td>0.0</td>\n",
       "      <td>1210.0</td>\n",
       "      <td>0.0</td>\n",
       "    </tr>\n",
       "    <tr>\n",
       "      <th>2439999</th>\n",
       "      <td>0</td>\n",
       "      <td>99.5</td>\n",
       "      <td>99.5</td>\n",
       "      <td>0.0</td>\n",
       "      <td>0.0</td>\n",
       "      <td>0.0</td>\n",
       "      <td>1210.0</td>\n",
       "      <td>0.0</td>\n",
       "    </tr>\n",
       "  </tbody>\n",
       "</table>\n",
       "<p>2440000 rows × 8 columns</p>\n",
       "</div>"
      ],
      "text/plain": [
       "         nevt    xr    yr   zr    x    y       z  factor\n",
       "0           0 -99.5 -99.5  0.0  0.0  0.0    10.0     0.0\n",
       "1           0 -99.5 -98.5  0.0  0.0  0.0    10.0     0.0\n",
       "2           0 -99.5 -97.5  0.0  0.0  0.0    10.0     0.0\n",
       "3           0 -99.5 -96.5  0.0  0.0  0.0    10.0     0.0\n",
       "4           0 -99.5 -95.5  0.0  0.0  0.0    10.0     0.0\n",
       "...       ...   ...   ...  ...  ...  ...     ...     ...\n",
       "2439995     0  99.5  95.5  0.0  0.0  0.0  1210.0     0.0\n",
       "2439996     0  99.5  96.5  0.0  0.0  0.0  1210.0     0.0\n",
       "2439997     0  99.5  97.5  0.0  0.0  0.0  1210.0     0.0\n",
       "2439998     0  99.5  98.5  0.0  0.0  0.0  1210.0     0.0\n",
       "2439999     0  99.5  99.5  0.0  0.0  0.0  1210.0     0.0\n",
       "\n",
       "[2440000 rows x 8 columns]"
      ]
     },
     "execution_count": 10,
     "metadata": {},
     "output_type": "execute_result"
    }
   ],
   "source": [
    "df_psf = pd.read_hdf(psf_files[0], 'PSF/PSFs')\n",
    "df_psf"
   ]
  },
  {
   "cell_type": "code",
   "execution_count": 7,
   "metadata": {
    "scrolled": true
   },
   "outputs": [
    {
     "name": "stdout",
     "output_type": "stream",
     "text": [
      "4 0\n",
      "/Users/halmamol/NEXT/files/NEXT100/psf/psf_5.h5 not found\n",
      "6 0\n",
      "/Users/halmamol/NEXT/files/NEXT100/psf/psf_7.h5 not found\n",
      "/Users/halmamol/NEXT/files/NEXT100/psf/psf_8.h5 not found\n",
      "/Users/halmamol/NEXT/files/NEXT100/psf/psf_9.h5 not found\n",
      "/Users/halmamol/NEXT/files/NEXT100/psf/psf_10.h5 not found\n",
      "13 0\n",
      "/Users/halmamol/NEXT/files/NEXT100/psf/psf_14.h5 not found\n",
      "/Users/halmamol/NEXT/files/NEXT100/psf/psf_15.h5 not found\n",
      "16 0\n",
      "/Users/halmamol/NEXT/files/NEXT100/psf/psf_17.h5 not found\n",
      "/Users/halmamol/NEXT/files/NEXT100/psf/psf_18.h5 not found\n",
      "/Users/halmamol/NEXT/files/NEXT100/psf/psf_19.h5 not found\n",
      "/Users/halmamol/NEXT/files/NEXT100/psf/psf_20.h5 not found\n",
      "211 2400000\n",
      "/Users/halmamol/NEXT/files/NEXT100/psf/psf_212.h5 not found\n",
      "/Users/halmamol/NEXT/files/NEXT100/psf/psf_213.h5 not found\n",
      "/Users/halmamol/NEXT/files/NEXT100/psf/psf_214.h5 not found\n",
      "/Users/halmamol/NEXT/files/NEXT100/psf/psf_215.h5 not found\n",
      "276 0\n",
      "/Users/halmamol/NEXT/files/NEXT100/psf/psf_277.h5 not found\n",
      "/Users/halmamol/NEXT/files/NEXT100/psf/psf_278.h5 not found\n",
      "/Users/halmamol/NEXT/files/NEXT100/psf/psf_279.h5 not found\n",
      "/Users/halmamol/NEXT/files/NEXT100/psf/psf_280.h5 not found\n",
      "282 0\n",
      "/Users/halmamol/NEXT/files/NEXT100/psf/psf_283.h5 not found\n",
      "/Users/halmamol/NEXT/files/NEXT100/psf/psf_284.h5 not found\n",
      "/Users/halmamol/NEXT/files/NEXT100/psf/psf_285.h5 not found\n",
      "291 0\n",
      "/Users/halmamol/NEXT/files/NEXT100/psf/psf_292.h5 not found\n",
      "/Users/halmamol/NEXT/files/NEXT100/psf/psf_293.h5 not found\n",
      "/Users/halmamol/NEXT/files/NEXT100/psf/psf_294.h5 not found\n",
      "/Users/halmamol/NEXT/files/NEXT100/psf/psf_295.h5 not found\n",
      "298 0\n",
      "/Users/halmamol/NEXT/files/NEXT100/psf/psf_299.h5 not found\n",
      "/Users/halmamol/NEXT/files/NEXT100/psf/psf_300.h5 not found\n",
      "516 0\n",
      "/Users/halmamol/NEXT/files/NEXT100/psf/psf_517.h5 not found\n",
      "/Users/halmamol/NEXT/files/NEXT100/psf/psf_518.h5 not found\n",
      "/Users/halmamol/NEXT/files/NEXT100/psf/psf_519.h5 not found\n",
      "/Users/halmamol/NEXT/files/NEXT100/psf/psf_520.h5 not found\n",
      "596 2400000\n",
      "/Users/halmamol/NEXT/files/NEXT100/psf/psf_597.h5 not found\n",
      "/Users/halmamol/NEXT/files/NEXT100/psf/psf_598.h5 not found\n",
      "/Users/halmamol/NEXT/files/NEXT100/psf/psf_599.h5 not found\n",
      "/Users/halmamol/NEXT/files/NEXT100/psf/psf_600.h5 not found\n",
      "985 2400000\n",
      "/Users/halmamol/NEXT/files/NEXT100/psf/psf_986.h5 not found\n",
      "/Users/halmamol/NEXT/files/NEXT100/psf/psf_987.h5 not found\n",
      "/Users/halmamol/NEXT/files/NEXT100/psf/psf_988.h5 not found\n",
      "/Users/halmamol/NEXT/files/NEXT100/psf/psf_989.h5 not found\n",
      "/Users/halmamol/NEXT/files/NEXT100/psf/psf_990.h5 not found\n"
     ]
    }
   ],
   "source": [
    "evts    = []\n",
    "factors = []\n",
    "\n",
    "for i in range(1, 1000):\n",
    "    filein = psf_path + f'psf_{i}.h5'\n",
    "    try:\n",
    "        df = pd.read_hdf(filein, 'PSF/PSFs')\n",
    "    except:\n",
    "        print(f'{filein} not found')\n",
    "        continue\n",
    "        \n",
    "    if len(df.nevt.values) != 2440000:\n",
    "        print(i, len(df.nevt.values))\n",
    "    else:\n",
    "        evts   .append(df.nevt  .values)\n",
    "        factors.append(df.factor.values)\n",
    "\n",
    "#for i, filein in enumerate(psf_files):\n",
    "#    if i % 10 == 0:\n",
    "#        print(f'{i} files read, current file: {filein}')\n",
    "#    df = pd.read_hdf(filein)\n",
    "#    evts   .append(df.nevt  .values)\n",
    "#    factors.append(df.factor.values)"
   ]
  },
  {
   "cell_type": "code",
   "execution_count": 8,
   "metadata": {},
   "outputs": [
    {
     "data": {
      "text/plain": [
       "(946, 946)"
      ]
     },
     "execution_count": 8,
     "metadata": {},
     "output_type": "execute_result"
    }
   ],
   "source": [
    "#It seems I didn't get the last 100 files, and some of them present some error:\n",
    "len(evts), len(factors)"
   ]
  },
  {
   "cell_type": "code",
   "execution_count": null,
   "metadata": {},
   "outputs": [],
   "source": [
    "evts_all    = np.array(evts)\n",
    "factors_all = np.array(factors)\n",
    "new_evts = evts_all.sum(axis=0).astype('int32')\n",
    "tmp_factors = (evts_all * factors_all).sum(axis=0)\n",
    "new_factors = tmp_factors"
   ]
  },
  {
   "cell_type": "code",
   "execution_count": 11,
   "metadata": {},
   "outputs": [
    {
     "data": {
      "text/html": [
       "<div>\n",
       "<style scoped>\n",
       "    .dataframe tbody tr th:only-of-type {\n",
       "        vertical-align: middle;\n",
       "    }\n",
       "\n",
       "    .dataframe tbody tr th {\n",
       "        vertical-align: top;\n",
       "    }\n",
       "\n",
       "    .dataframe thead th {\n",
       "        text-align: right;\n",
       "    }\n",
       "</style>\n",
       "<table border=\"1\" class=\"dataframe\">\n",
       "  <thead>\n",
       "    <tr style=\"text-align: right;\">\n",
       "      <th></th>\n",
       "      <th>nevt</th>\n",
       "      <th>xr</th>\n",
       "      <th>yr</th>\n",
       "      <th>zr</th>\n",
       "      <th>x</th>\n",
       "      <th>y</th>\n",
       "      <th>z</th>\n",
       "      <th>factor</th>\n",
       "    </tr>\n",
       "  </thead>\n",
       "  <tbody>\n",
       "    <tr>\n",
       "      <th>0</th>\n",
       "      <td>0</td>\n",
       "      <td>-99.5</td>\n",
       "      <td>-99.5</td>\n",
       "      <td>0.0</td>\n",
       "      <td>0.0</td>\n",
       "      <td>0.0</td>\n",
       "      <td>10.0</td>\n",
       "      <td>0.0</td>\n",
       "    </tr>\n",
       "    <tr>\n",
       "      <th>1</th>\n",
       "      <td>0</td>\n",
       "      <td>-99.5</td>\n",
       "      <td>-98.5</td>\n",
       "      <td>0.0</td>\n",
       "      <td>0.0</td>\n",
       "      <td>0.0</td>\n",
       "      <td>10.0</td>\n",
       "      <td>0.0</td>\n",
       "    </tr>\n",
       "    <tr>\n",
       "      <th>2</th>\n",
       "      <td>0</td>\n",
       "      <td>-99.5</td>\n",
       "      <td>-97.5</td>\n",
       "      <td>0.0</td>\n",
       "      <td>0.0</td>\n",
       "      <td>0.0</td>\n",
       "      <td>10.0</td>\n",
       "      <td>0.0</td>\n",
       "    </tr>\n",
       "    <tr>\n",
       "      <th>3</th>\n",
       "      <td>0</td>\n",
       "      <td>-99.5</td>\n",
       "      <td>-96.5</td>\n",
       "      <td>0.0</td>\n",
       "      <td>0.0</td>\n",
       "      <td>0.0</td>\n",
       "      <td>10.0</td>\n",
       "      <td>0.0</td>\n",
       "    </tr>\n",
       "    <tr>\n",
       "      <th>4</th>\n",
       "      <td>0</td>\n",
       "      <td>-99.5</td>\n",
       "      <td>-95.5</td>\n",
       "      <td>0.0</td>\n",
       "      <td>0.0</td>\n",
       "      <td>0.0</td>\n",
       "      <td>10.0</td>\n",
       "      <td>0.0</td>\n",
       "    </tr>\n",
       "  </tbody>\n",
       "</table>\n",
       "</div>"
      ],
      "text/plain": [
       "   nevt    xr    yr   zr    x    y     z  factor\n",
       "0     0 -99.5 -99.5  0.0  0.0  0.0  10.0     0.0\n",
       "1     0 -99.5 -98.5  0.0  0.0  0.0  10.0     0.0\n",
       "2     0 -99.5 -97.5  0.0  0.0  0.0  10.0     0.0\n",
       "3     0 -99.5 -96.5  0.0  0.0  0.0  10.0     0.0\n",
       "4     0 -99.5 -95.5  0.0  0.0  0.0  10.0     0.0"
      ]
     },
     "execution_count": 11,
     "metadata": {},
     "output_type": "execute_result"
    }
   ],
   "source": [
    "df_psf.head()"
   ]
  },
  {
   "cell_type": "code",
   "execution_count": 12,
   "metadata": {},
   "outputs": [
    {
     "data": {
      "text/plain": [
       "nevt       uint32\n",
       "xr        float32\n",
       "yr        float32\n",
       "zr        float32\n",
       "x         float32\n",
       "y         float32\n",
       "z         float32\n",
       "factor    float32\n",
       "dtype: object"
      ]
     },
     "execution_count": 12,
     "metadata": {},
     "output_type": "execute_result"
    }
   ],
   "source": [
    "df_psf.dtypes"
   ]
  },
  {
   "cell_type": "code",
   "execution_count": 13,
   "metadata": {},
   "outputs": [],
   "source": [
    "evts_all    = np.array(evts)\n",
    "factors_all = np.array(factors)"
   ]
  },
  {
   "cell_type": "code",
   "execution_count": null,
   "metadata": {},
   "outputs": [],
   "source": [
    "evts_all"
   ]
  },
  {
   "cell_type": "code",
   "execution_count": 14,
   "metadata": {},
   "outputs": [],
   "source": [
    "new_evts = evts_all.sum(axis=0).astype('int32')"
   ]
  },
  {
   "cell_type": "code",
   "execution_count": null,
   "metadata": {},
   "outputs": [],
   "source": [
    "new_evts"
   ]
  },
  {
   "cell_type": "code",
   "execution_count": null,
   "metadata": {},
   "outputs": [],
   "source": [
    "factors_all"
   ]
  },
  {
   "cell_type": "code",
   "execution_count": null,
   "metadata": {},
   "outputs": [],
   "source": [
    "tmp_factors = (evts_all * factors_all).sum(axis=0)"
   ]
  },
  {
   "cell_type": "code",
   "execution_count": null,
   "metadata": {},
   "outputs": [],
   "source": [
    "new_factors = tmp_factors"
   ]
  },
  {
   "cell_type": "code",
   "execution_count": null,
   "metadata": {},
   "outputs": [],
   "source": [
    "new_factors"
   ]
  },
  {
   "cell_type": "code",
   "execution_count": null,
   "metadata": {},
   "outputs": [],
   "source": [
    "df_psf.nevt   = new_evts\n",
    "df_psf.factor = new_factors"
   ]
  },
  {
   "cell_type": "code",
   "execution_count": null,
   "metadata": {},
   "outputs": [],
   "source": [
    "df_psf.head()"
   ]
  },
  {
   "cell_type": "code",
   "execution_count": null,
   "metadata": {},
   "outputs": [],
   "source": [
    "df_psf.dtypes"
   ]
  },
  {
   "cell_type": "markdown",
   "metadata": {},
   "source": [
    "### Write the file in the correct format¶"
   ]
  },
  {
   "cell_type": "code",
   "execution_count": null,
   "metadata": {},
   "outputs": [],
   "source": [
    "from IC.invisible_cities.evm.nh5     import PSFfactors\n",
    "from IC.invisible_cities.io.table_io import make_table\n",
    "\n",
    "with tb.open_file(out_psf, 'w') as outfile:\n",
    "    psf_table = make_table(outfile,\n",
    "                           group       = \"PSF\",\n",
    "                           name        = \"PSFs\",\n",
    "                           fformat     = PSFfactors,\n",
    "                           description = \"XYZ dependent point spread functions\",\n",
    "                           compression = 'ZLIB4')\n",
    "\n",
    "    row = psf_table.row\n",
    "    for xr, yr, zr, x, y, z, f, ne in zip(df_psf.xr.values, df_psf.yr.values, df_psf.zr.values, \n",
    "                                          df_psf.x.values, df_psf.y.values, df_psf.z.values, \n",
    "                                          df_psf.factor.values, df_psf.nevt.values):\n",
    "        row[\"xr\"    ] = xr\n",
    "        row[\"yr\"    ] = yr\n",
    "        row[\"zr\"    ] = zr\n",
    "        row[\"x\"     ] = x\n",
    "        row[\"y\"     ] = y\n",
    "        row[\"z\"     ] = z\n",
    "        row[\"factor\"] = f\n",
    "        row[\"nevt\"  ] = ne\n",
    "        row.append()"
   ]
  },
  {
   "cell_type": "markdown",
   "metadata": {},
   "source": [
    "### Read the PSF"
   ]
  },
  {
   "cell_type": "code",
   "execution_count": 1,
   "metadata": {},
   "outputs": [
    {
     "ename": "NameError",
     "evalue": "name 'tb' is not defined",
     "output_type": "error",
     "traceback": [
      "\u001b[0;31m---------------------------------------------------------------------------\u001b[0m",
      "\u001b[0;31mNameError\u001b[0m                                 Traceback (most recent call last)",
      "\u001b[0;32m<ipython-input-1-bc62c0dcba3b>\u001b[0m in \u001b[0;36m<module>\u001b[0;34m\u001b[0m\n\u001b[0;32m----> 1\u001b[0;31m \u001b[0mh5file\u001b[0m \u001b[0;34m=\u001b[0m \u001b[0mtb\u001b[0m\u001b[0;34m.\u001b[0m\u001b[0mopen_file\u001b[0m\u001b[0;34m(\u001b[0m\u001b[0mpsf_path\u001b[0m \u001b[0;34m+\u001b[0m \u001b[0;34m'next100.kr83m.psf.h5'\u001b[0m\u001b[0;34m)\u001b[0m\u001b[0;34m\u001b[0m\u001b[0;34m\u001b[0m\u001b[0m\n\u001b[0m\u001b[1;32m      2\u001b[0m \u001b[0mh5file\u001b[0m\u001b[0;34m\u001b[0m\u001b[0;34m\u001b[0m\u001b[0m\n",
      "\u001b[0;31mNameError\u001b[0m: name 'tb' is not defined"
     ]
    }
   ],
   "source": [
    "h5file = tb.open_file(psf_path + 'next100.kr83m.psf.h5')\n",
    "h5file"
   ]
  },
  {
   "cell_type": "code",
   "execution_count": null,
   "metadata": {},
   "outputs": [],
   "source": [
    "psf = pd.read_hdf(psf_path + 'next100.kr83m.psf.h5', 'PSF/PSFs')\n",
    "psf.head()"
   ]
  },
  {
   "cell_type": "code",
   "execution_count": null,
   "metadata": {},
   "outputs": [],
   "source": [
    "psf =  dstio.load_dst(out_psf, 'PSF', 'PSFs')\n",
    "plt.hist(psf.z, bins=50);"
   ]
  },
  {
   "cell_type": "code",
   "execution_count": null,
   "metadata": {},
   "outputs": [],
   "source": [
    "fig, axes = plt.subplots(1, 2, figsize=(16, 6))\n",
    "\n",
    "bin_size   = 1\n",
    "Xrange     = [ -100, 100]\n",
    "Yrange     = [ -100, 100]\n",
    "ranges     = [Xrange, Yrange]\n",
    "nbinX      = int(np.diff(Xrange)/bin_size)\n",
    "nbinY      = int(np.diff(Yrange)/bin_size)\n",
    "\n",
    "### Plot PSF at center (X dimension)\n",
    "p1 = psf[(psf.z==610.) & (psf.yr==0.5)]\n",
    "x, y = sorted(set(p1.xr)), p1.groupby(['xr'])['factor'].sum().values\n",
    "axes[0].plot(x, y)\n",
    "axes[0].set_xlabel('X distance (mm)')\n",
    "axes[0].set_ylabel('Charge fraction')\n",
    "\n",
    "### PSF (2D)\n",
    "p1 = psf[(psf.z==610.)]\n",
    "x, y, e = p1.xr.values, p1.yr.values, p1.factor.values\n",
    "xb, yb  = np.linspace(Xrange[0], Xrange[1], Xrange[1]), np.linspace(Yrange[0], Yrange[1], Yrange[1])\n",
    "img = axes[1].hist2d(x, y, bins=[xb,yb], weights=e)\n",
    "axes[1].set_xlabel('X distance (mm)')\n",
    "axes[1].set_ylabel('Y distance (mm)')\n",
    "axes[1].set_xlim(-50, 50)\n",
    "axes[1].set_ylim(-50, 50)\n",
    "cb = fig.colorbar(img[3], ax=axes[1])\n",
    "\n",
    "cb.set_label('Charge fraction')"
   ]
  }
 ],
 "metadata": {
  "kernelspec": {
   "display_name": "Python 3",
   "language": "python",
   "name": "python3"
  },
  "language_info": {
   "codemirror_mode": {
    "name": "ipython",
    "version": 3
   },
   "file_extension": ".py",
   "mimetype": "text/x-python",
   "name": "python",
   "nbconvert_exporter": "python",
   "pygments_lexer": "ipython3",
   "version": "3.8.3"
  }
 },
 "nbformat": 4,
 "nbformat_minor": 4
}
