{
 "cells": [
  {
   "cell_type": "code",
   "execution_count": 1,
   "metadata": {},
   "outputs": [],
   "source": [
    "import os\n",
    "import sys\n",
    "\n",
    "import numpy  as np\n",
    "import tables as tb\n",
    "import pandas as pd\n",
    "import matplotlib\n",
    "import math\n",
    "\n",
    "#the line below makes the plot as a pop-up, that can be saved\n",
    "#matplotlib.use('TkAgg')\n",
    "\n",
    "import matplotlib.pyplot as plt\n",
    "from mpl_toolkits.mplot3d import Axes3D\n",
    "import matplotlib.colors as clrs\n",
    "\n",
    "import matplotlib.cm as cm\n",
    "from matplotlib.colors import Normalize\n",
    "\n",
    "from scipy.stats import norm\n",
    "from scipy.stats import exponnorm\n",
    "from scipy.stats import skewnorm\n",
    "\n",
    "\n",
    "from IC.invisible_cities.evm.event_model        import Cluster, Hit\n",
    "from IC.invisible_cities.types.ic_types         import xy\n",
    "from IC.invisible_cities.reco.paolina_functions import voxelize_hits\n",
    "\n",
    "from IC.invisible_cities.core.exceptions import NoHits"
   ]
  },
  {
   "cell_type": "code",
   "execution_count": 2,
   "metadata": {},
   "outputs": [],
   "source": [
    "import functions.histo_functions as myhf\n",
    "import functions.efficiency_functions as myef\n",
    "import functions.recovstrue as myrvt"
   ]
  },
  {
   "cell_type": "code",
   "execution_count": 3,
   "metadata": {},
   "outputs": [],
   "source": [
    "#Dimensions for the NEXT100 detector\n",
    "veto_N100 = 20 # mm\n",
    "rmax_N100 = 492 - veto_N100\n",
    "#rmax_N100 = 200\n",
    "zmin_N100 = veto_N100\n",
    "zmax_N100 = 1205 - veto_N100"
   ]
  },
  {
   "cell_type": "code",
   "execution_count": 4,
   "metadata": {},
   "outputs": [],
   "source": [
    "filepath = '/Users/halmamol/NEXT/files/NFlex/beershebaDS_202012/'\n",
    "max0nubbf = 999\n",
    "maxselectron = 999\n",
    "blobR = 21\n",
    "testID = '_202012'\n",
    "nflex_config = 'd15_M6_H6'"
   ]
  },
  {
   "cell_type": "markdown",
   "metadata": {},
   "source": [
    "## Opening TRACK Files - 0nubb"
   ]
  },
  {
   "cell_type": "code",
   "execution_count": 5,
   "metadata": {},
   "outputs": [
    {
     "data": {
      "text/plain": [
       "Index(['event', 'trackID', 'energy', 'length', 'numb_of_voxels',\n",
       "       'numb_of_hits', 'numb_of_tracks', 'x_min', 'y_min', 'z_min', 'x_max',\n",
       "       'y_max', 'z_max', 'r_max', 'x_ave', 'y_ave', 'z_ave', 'extreme1_x',\n",
       "       'extreme1_y', 'extreme1_z', 'extreme2_x', 'extreme2_y', 'extreme2_z',\n",
       "       'blob1_x', 'blob1_y', 'blob1_z', 'blob2_x', 'blob2_y', 'blob2_z',\n",
       "       'eblob1', 'eblob2', 'ovlp_blob_energy', 'vox_size_x', 'vox_size_y',\n",
       "       'vox_size_z'],\n",
       "      dtype='object')"
      ]
     },
     "execution_count": 5,
     "metadata": {},
     "output_type": "execute_result"
    }
   ],
   "source": [
    "#0nubb files\n",
    "track_list_0nubb = []\n",
    "\n",
    "filepath_0nubb_tracks = filepath+f'0nubb/tracks/{blobR}mm/'\n",
    "\n",
    "#loop over all the files, to read 'Tracks' information\n",
    "for nfile in range(1,max0nubbf):\n",
    "    \n",
    "    filename_0nubb = filepath_0nubb_tracks+f'nflex_{nflex_config}.0nubb.{nfile}.skel_tracks.R{blobR}mm.h5'\n",
    "    #the following lines are added because some of the files aren't there (I had to check Paola's notebook)\n",
    "    try:\n",
    "        readfile_tracks = pd.read_hdf(filename_0nubb, 'Tracks')\n",
    "    except:\n",
    "        print('File {} not good'.format(filename_0nubb))\n",
    "        continue\n",
    "        \n",
    "    track_list_0nubb.append(readfile_tracks)\n",
    "    \n",
    "\n",
    "#'concat' command means: 'concatenate pandas objects along a particular \n",
    "# axis with optional set logic along the other axes.' -> following line \n",
    "# is needed to keep an order between the files\n",
    "\n",
    "tracks_0nubb = pd.concat([dt for dt in track_list_0nubb]) \n",
    "tracks_0nubb.columns  \n",
    "#these are all the elements inside the file:"
   ]
  },
  {
   "cell_type": "code",
   "execution_count": 6,
   "metadata": {},
   "outputs": [
    {
     "data": {
      "text/plain": [
       "Index(['event', 'trackID', 'energy', 'length', 'numb_of_voxels',\n",
       "       'numb_of_hits', 'numb_of_tracks', 'x_min', 'y_min', 'z_min', 'x_max',\n",
       "       'y_max', 'z_max', 'r_max', 'x_ave', 'y_ave', 'z_ave', 'extreme1_x',\n",
       "       'extreme1_y', 'extreme1_z', 'extreme2_x', 'extreme2_y', 'extreme2_z',\n",
       "       'blob1_x', 'blob1_y', 'blob1_z', 'blob2_x', 'blob2_y', 'blob2_z',\n",
       "       'eblob1', 'eblob2', 'ovlp_blob_energy', 'vox_size_x', 'vox_size_y',\n",
       "       'vox_size_z'],\n",
       "      dtype='object')"
      ]
     },
     "execution_count": 6,
     "metadata": {},
     "output_type": "execute_result"
    }
   ],
   "source": [
    "#same for selectron files\n",
    "track_list_selectron = []\n",
    "filepath_selectron_tracks = filepath+f'/e-_roi/tracks/{blobR}mm/'\n",
    "\n",
    "#loop over all the files, to read 'Tracks' information\n",
    "for nfile in range(1,maxselectron):\n",
    "    \n",
    "    filename_selectron = filepath_selectron_tracks+f'nflex_{nflex_config}.e-_roi.{nfile}.skel_tracks.R{blobR}mm_lin.h5'\n",
    "    #the following lines are added because some of the files aren't there (I had to check Paola's notebook)\n",
    "    try:\n",
    "        readfile_tracks_selectron = pd.read_hdf(filename_selectron, 'Tracks')\n",
    "    except:\n",
    "        print('File {} not good'.format(filename_selectron))\n",
    "        continue\n",
    "        \n",
    "    track_list_selectron.append(readfile_tracks_selectron)\n",
    "    \n",
    "\n",
    "#'concat' command means: 'concatenate pandas objects along a particular \n",
    "# axis with optional set logic along the other axes.' -> following line \n",
    "# is needed to keep an order between the files\n",
    "\n",
    "tracks_selectron = pd.concat([dt for dt in track_list_selectron]) \n",
    "tracks_selectron.columns  \n",
    "\n",
    "#these are all the elements inside the file:"
   ]
  },
  {
   "cell_type": "markdown",
   "metadata": {},
   "source": [
    "## Checking cuts"
   ]
  },
  {
   "cell_type": "markdown",
   "metadata": {},
   "source": [
    "interested in selecting the events in/with:\n",
    "- **Fiducial**: fiducial cut around the detector volume, of 2cm from the border\n",
    "- **1Track**: in this case, considers the track with highest deposition\n",
    "- **NoOverlap**: defined blobs in one trace should not overlap\n",
    "- **ROI**: energy cut in the region of interest, between [2.445,2475]MeV"
   ]
  },
  {
   "cell_type": "code",
   "execution_count": null,
   "metadata": {},
   "outputs": [],
   "source": [
    "tracks_0nubb_1track = tracks_0nubb[tracks_0nubb.trackID == 0]\n",
    "tracks_selectron_1track = tracks_selectron[tracks_selectron.trackID == 0]"
   ]
  },
  {
   "cell_type": "code",
   "execution_count": null,
   "metadata": {},
   "outputs": [],
   "source": [
    "#Checking total amount of events, prior any selection\n",
    "nevents_0nubb_total = tracks_0nubb.event.nunique()\n",
    "Enevents_0nubb_total = np.sqrt(nevents_0nubb_total)\n",
    "print(f'Initial amount of events for 0nubb: {nevents_0nubb_total} +- {Enevents_0nubb_total}')"
   ]
  },
  {
   "cell_type": "code",
   "execution_count": null,
   "metadata": {},
   "outputs": [],
   "source": [
    "nevents_selectron_total = tracks_selectron.event.nunique()\n",
    "Enevents_selectron_total = np.sqrt(nevents_selectron_total)\n",
    "print(f'Initial amount of events for selectrons: {nevents_selectron_total} +- {Enevents_selectron_total}')"
   ]
  },
  {
   "cell_type": "markdown",
   "metadata": {},
   "source": [
    "### 1 - FIDUCIAL CUT"
   ]
  },
  {
   "cell_type": "code",
   "execution_count": null,
   "metadata": {},
   "outputs": [],
   "source": [
    "track_0nubb_zmin = tracks_0nubb.z_min\n",
    "track_0nubb_zmax = tracks_0nubb.z_max\n",
    "\n",
    "plt.hist(track_0nubb_zmin, bins = 50, range = (0, 1400),  color='blue', histtype='step', label = 'zMin')\n",
    "plt.hist(track_0nubb_zmax, bins = 50, range = (0, 1400),  color='green', histtype='step', label = 'zMax', linestyle='dashed')\n",
    "\n",
    "plt.xlabel('position (mm)')\n",
    "plt.ylabel('events (a.u.)')\n",
    "plt.title('0nubb')\n",
    "plt.legend(loc=1);\n",
    "plt.show()"
   ]
  },
  {
   "cell_type": "code",
   "execution_count": null,
   "metadata": {},
   "outputs": [],
   "source": [
    "track_0nubb_rmax = tracks_0nubb.r_max\n",
    "\n",
    "plt.hist(track_0nubb_rmax, bins = 50, range = (0, 650),  color='red', histtype='step', label = 'rMax')\n",
    "\n",
    "plt.xlabel('position (mm)')\n",
    "plt.ylabel('events (a.u.)')\n",
    "plt.title('0nubb')\n",
    "plt.legend(loc=1);\n",
    "plt.show()"
   ]
  },
  {
   "cell_type": "code",
   "execution_count": null,
   "metadata": {},
   "outputs": [],
   "source": [
    "track_selectron_zmin = tracks_selectron.z_min\n",
    "track_selectron_zmax = tracks_selectron.z_max\n",
    "\n",
    "plt.hist(track_selectron_zmin, bins = 50, range = (0, 1400),  color='blue', histtype='step', label = 'zMin')\n",
    "plt.hist(track_selectron_zmax, bins = 50, range = (0, 1400),  color='green', histtype='step', label = 'zMax', linestyle='dashed')\n",
    "\n",
    "plt.xlabel('position (mm)')\n",
    "plt.ylabel('events (a.u.)')\n",
    "plt.title('e-roi')\n",
    "plt.legend(loc=1);\n",
    "plt.show()"
   ]
  },
  {
   "cell_type": "code",
   "execution_count": null,
   "metadata": {},
   "outputs": [],
   "source": [
    "track_selectron_rmax = tracks_selectron.r_max\n",
    "\n",
    "plt.hist(track_selectron_rmax, bins = 50,  range = (0, 650),  color='red', histtype='step', label = 'rMax')\n",
    "\n",
    "plt.xlabel('position (mm)')\n",
    "plt.ylabel('events (a.u.)')\n",
    "plt.title('e-roi')\n",
    "plt.legend(loc=1);\n",
    "plt.show()"
   ]
  },
  {
   "cell_type": "code",
   "execution_count": null,
   "metadata": {},
   "outputs": [],
   "source": [
    "print(f'MAX VALUE')\n",
    "print(f'0nubb')\n",
    "print(f'- Rmax = {np.amax(track_0nubb_rmax)}')\n",
    "print(f'- Zmin = {np.amax(track_0nubb_zmin)}')\n",
    "print(f'- Zmax = {np.amax(track_0nubb_zmax)}')\n",
    "print(f'e-roi')\n",
    "print(f'- Rmax = {np.amax(track_selectron_rmax)}')\n",
    "print(f'- Zmin = {np.amax(track_selectron_zmin)}')\n",
    "print(f'- Zmax = {np.amax(track_selectron_zmax)}')\n",
    "print(f'AVG VALUE')\n",
    "print(f'0nubb')\n",
    "print(f'- Rmax = {np.average(track_0nubb_rmax)}')\n",
    "print(f'- Zmin = {np.average(track_0nubb_zmin)}')\n",
    "print(f'- Zmax = {np.average(track_0nubb_zmax)}')\n",
    "print(f'e-roi')\n",
    "print(f'- Rmax = {np.average(track_selectron_rmax)}')\n",
    "print(f'- Zmin = {np.average(track_selectron_zmin)}')\n",
    "print(f'- Zmax = {np.average(track_selectron_zmax)}')"
   ]
  },
  {
   "cell_type": "code",
   "execution_count": null,
   "metadata": {},
   "outputs": [],
   "source": [
    "npz_file = f'/Users/halmamol/NEXT/NBarrays/tracklimits_NFLEX_DETSIM{testID}'\n",
    "np.savez(npz_file, track_0nubb_zmin=track_0nubb_zmin, track_0nubb_zmax=track_0nubb_zmax, track_0nubb_rmax=track_0nubb_rmax,\n",
    "        track_selectron_zmin=track_selectron_zmin, track_selectron_zmax=track_selectron_zmax, track_selectron_rmax=track_selectron_rmax)\n"
   ]
  },
  {
   "cell_type": "code",
   "execution_count": null,
   "metadata": {},
   "outputs": [],
   "source": [
    "#For the evaluation of the events out of fiducial limits it's necessary to do several steps\n",
    "\n",
    "#First, check a list of events where at least 1 trace is out of the limits:\n",
    "\n",
    "nonfiducial_list_0nubb = tracks_0nubb[~((tracks_0nubb.r_max < rmax_N100) & \n",
    "                                     (tracks_0nubb.z_min > zmin_N100) & \n",
    "                                     (tracks_0nubb.z_max < zmax_N100))].event.unique()\n",
    "\n",
    "#Then I apply the selection into the matrix of elements\n",
    "fiducial_tracks_0nubb = tracks_0nubb[(tracks_0nubb.r_max < rmax_N100) & \n",
    "                                     (tracks_0nubb.z_min > zmin_N100) & \n",
    "                                     (tracks_0nubb.z_max < zmax_N100)]\n",
    "\n",
    "# I get a list of true elements if event ID is not in the above list 'nonfiducial_list'\n",
    "evt_fid_sel_0nubb    = ~fiducial_tracks_0nubb.event.isin(nonfiducial_list_0nubb) \n",
    "\n",
    "# And finally I select the events with an asigned True from the previous line \n",
    "tracks_0nubb_fiducial = fiducial_tracks_0nubb[evt_fid_sel_0nubb]"
   ]
  },
  {
   "cell_type": "code",
   "execution_count": null,
   "metadata": {},
   "outputs": [],
   "source": [
    "#Now I do the same for single electron\n",
    "\n",
    "nonfiducial_list_selectron = tracks_selectron[~((tracks_selectron.r_max < rmax_N100) & \n",
    "                                     (tracks_selectron.z_min > zmin_N100) & \n",
    "                                     (tracks_selectron.z_max < zmax_N100))].event.unique()\n",
    "\n",
    "#Then I apply the selection into the matrix of elements\n",
    "fiducial_tracks_selectron = tracks_selectron[(tracks_selectron.r_max < rmax_N100) & \n",
    "                                     (tracks_selectron.z_min > zmin_N100) & \n",
    "                                     (tracks_selectron.z_max < zmax_N100)]\n",
    "\n",
    "# I get a list of true elements if event ID is not in the above list 'nonfiducial_list'\n",
    "evt_fid_sel_selectron    = ~fiducial_tracks_selectron.event.isin(nonfiducial_list_selectron) \n",
    "\n",
    "# And finally I select the events with an asigned True from the previous line \n",
    "tracks_selectron_fiducial = fiducial_tracks_selectron[evt_fid_sel_selectron]"
   ]
  },
  {
   "cell_type": "code",
   "execution_count": null,
   "metadata": {},
   "outputs": [],
   "source": [
    "#Checking total amount of events, after fiducial selection\n",
    "\n",
    "nevents_0nubb_fiducial = tracks_0nubb_fiducial.event.nunique()\n",
    "Enevents_0nubb_fiducial = np.sqrt(nevents_0nubb_fiducial)\n",
    "\n",
    "\n",
    "ratio_fiducial_0nubb = 100*nevents_0nubb_fiducial/nevents_0nubb_total\n",
    "Eratio_fiducial_0nubb = myef.ratio_error(ratio_fiducial_0nubb, nevents_0nubb_fiducial, nevents_0nubb_total, \n",
    "                                             Enevents_0nubb_fiducial, Enevents_0nubb_total)\n",
    "\n",
    "print('--------------------------0nubb-------------------------')\n",
    "print('--CUT---!----EVENTS----!---REDUCTION---!---EFFICIENCY---')\n",
    "print(f'INITIAL    {nevents_0nubb_total}        ')\n",
    "print(f'FIDUCIAL   {nevents_0nubb_fiducial}                ---      {ratio_fiducial_0nubb} +- {Eratio_fiducial_0nubb}%')\n",
    "print('--------!--------------!----------------!----------------')\n"
   ]
  },
  {
   "cell_type": "code",
   "execution_count": null,
   "metadata": {},
   "outputs": [],
   "source": [
    "nevents_selectron_fiducial = tracks_selectron_fiducial.event.nunique()\n",
    "Enevents_selectron_fiducial = np.sqrt(nevents_selectron_fiducial)\n",
    "\n",
    "ratio_fiducial_selectron = 100*nevents_selectron_fiducial/nevents_selectron_total\n",
    "Eratio_fiducial_selectron = myef.ratio_error(ratio_fiducial_selectron, nevents_selectron_fiducial, nevents_selectron_total, \n",
    "                                             Enevents_selectron_fiducial, Enevents_selectron_total)\n",
    "\n",
    "print('--------------------------SElectron---------------------')\n",
    "print('--CUT---!----EVENTS----!---REDUCTION---!---EFFICIENCY---')\n",
    "print(f'INITIAL    {nevents_selectron_total}        ')\n",
    "print(f'FIDUCIAL   {nevents_selectron_fiducial}                ---      {ratio_fiducial_selectron} +- {Eratio_fiducial_selectron}%')\n",
    "print('--------!--------------!----------------!----------------')\n"
   ]
  },
  {
   "cell_type": "markdown",
   "metadata": {},
   "source": [
    "## 2 - Number of tracks"
   ]
  },
  {
   "cell_type": "code",
   "execution_count": null,
   "metadata": {},
   "outputs": [],
   "source": [
    "#Therefore, I'm going to take the 1st 'trackID'\n",
    "tracks_0nubb_1track = tracks_0nubb[tracks_0nubb.trackID == 0]\n",
    "tracks_0nubb_1trackfid = tracks_0nubb_fiducial[tracks_0nubb_fiducial.trackID == 0]"
   ]
  },
  {
   "cell_type": "code",
   "execution_count": null,
   "metadata": {},
   "outputs": [],
   "source": [
    "tracks_selectron_1track = tracks_selectron[tracks_selectron.trackID == 0]\n",
    "tracks_selectron_1trackfid = tracks_selectron_fiducial[tracks_selectron_fiducial.trackID == 0]"
   ]
  },
  {
   "cell_type": "code",
   "execution_count": null,
   "metadata": {},
   "outputs": [],
   "source": [
    "#Check the number of tracks with numb_of_tracks\n",
    "ntracks_0nubb = tracks_0nubb_1trackfid.numb_of_tracks\n",
    "maxtracks_0nubb = np.amax(ntracks_0nubb)\n",
    "\n",
    "plt.hist(ntracks_0nubb, bins = maxtracks_0nubb, range = (0, maxtracks_0nubb),density=True, alpha=0.6, color='r')\n",
    "plt.xlabel('number of tracks')\n",
    "plt.ylabel('fraction of events')\n",
    "plt.title('0nubb')\n",
    "plt.show()"
   ]
  },
  {
   "cell_type": "code",
   "execution_count": null,
   "metadata": {},
   "outputs": [],
   "source": [
    "#Check the number of tracks with numb_of_tracks\n",
    "ntracks_eroi = tracks_selectron_1trackfid.numb_of_tracks\n",
    "maxtracks_eroi = np.amax(ntracks_eroi)\n",
    "\n",
    "plt.hist(ntracks_eroi, bins = maxtracks_eroi, range = (0, maxtracks_eroi), density=True, alpha=0.6, color='b')\n",
    "plt.xlabel('number of tracks')\n",
    "plt.ylabel('fraction of events')\n",
    "plt.title('eroi')\n",
    "plt.show()"
   ]
  },
  {
   "cell_type": "code",
   "execution_count": null,
   "metadata": {},
   "outputs": [],
   "source": [
    "plt.hist(ntracks_0nubb, bins = 9, range = (0.5, 9.5),density=True, alpha=0.4, color='r', label = '0nubb')\n",
    "plt.hist(ntracks_eroi, bins = 9, range = (0.5, 9.5), density=True, alpha=0.4, color='b',label = 'e-roi')\n",
    "\n",
    "plt.xlabel('number of tracks (MeV)')\n",
    "plt.ylabel('fraction of events')\n",
    "plt.title('Tracks in each event')\n",
    "plt.legend(loc=1);\n",
    "plt.show()"
   ]
  },
  {
   "cell_type": "code",
   "execution_count": null,
   "metadata": {},
   "outputs": [],
   "source": [
    "print(f'MAX VALUE')\n",
    "print(f'0nubb')\n",
    "print(f'- #tracks = {np.amax(ntracks_0nubb)}')\n",
    "print(f'e-roi')\n",
    "print(f'- #tracks = {np.amax(ntracks_eroi)}')\n",
    "print(f'AVG VALUE')\n",
    "print(f'0nubb')\n",
    "print(f'- #tracks = {np.average(ntracks_0nubb)}')\n",
    "print(f'e-roi')\n",
    "print(f'- #tracks = {np.average(ntracks_eroi)}')\n",
    "print(f'1-track events')\n",
    "print(f'0nubb')\n",
    "print(f'- 1 track = {100*(tracks_0nubb[tracks_0nubb.numb_of_tracks == 1].event.nunique())/(tracks_0nubb.event.nunique())}')\n",
    "print(f'e-roi')\n",
    "print(f'- 1 track = {100*(tracks_selectron[tracks_selectron.numb_of_tracks == 1].event.nunique())/(tracks_selectron.event.nunique())}')\n"
   ]
  },
  {
   "cell_type": "code",
   "execution_count": null,
   "metadata": {},
   "outputs": [],
   "source": [
    "tracks_0nubb_1track_cut = tracks_0nubb_1trackfid[tracks_0nubb_1trackfid.numb_of_tracks == 1]\n",
    "frac_1track_0nubb = 100*tracks_0nubb_1track_cut.event.nunique()/nevents_0nubb_fiducial\n",
    "\n",
    "Efrac_1track_0nubb = myef.ratio_error(frac_1track_0nubb, tracks_0nubb_1track_cut.event.nunique(), nevents_0nubb_fiducial, \n",
    "                                             np.sqrt(tracks_0nubb_1track_cut.event.nunique()), np.sqrt(nevents_0nubb_fiducial))\n",
    "print(f'Amount of events with 1 track 0nubb = {tracks_0nubb_1track_cut.event.nunique()}/{nevents_0nubb_fiducial} = {frac_1track_0nubb} +- {Efrac_1track_0nubb}')"
   ]
  },
  {
   "cell_type": "code",
   "execution_count": null,
   "metadata": {},
   "outputs": [],
   "source": [
    "tracks_selectron_1track_cut = tracks_selectron_1trackfid[tracks_selectron_1trackfid.numb_of_tracks == 1]\n",
    "frac_1track_selectron = 100*tracks_selectron_1track_cut.event.nunique()/nevents_selectron_fiducial\n",
    "Efrac_1track_selectron = myef.ratio_error(frac_1track_selectron, tracks_selectron_1track_cut.event.nunique(), nevents_selectron_fiducial, \n",
    "                                             np.sqrt(tracks_selectron_1track_cut.event.nunique()), np.sqrt(nevents_selectron_fiducial))\n",
    "print(f'Amount of events with 1 track eroi = {frac_1track_selectron} +- {Efrac_1track_selectron}')"
   ]
  },
  {
   "cell_type": "code",
   "execution_count": null,
   "metadata": {},
   "outputs": [],
   "source": [
    "#Checking total amount of events, after fiducial selection\n",
    "\n",
    "nevents_0nubb_1track = tracks_0nubb_1track.event.nunique()\n",
    "Enevents_0nubb_1track = np.sqrt(nevents_0nubb_1track)\n",
    "nevents_0nubb_1trackfid = tracks_0nubb_1trackfid.event.nunique()\n",
    "Enevents_0nubb_1trackfid = np.sqrt(nevents_0nubb_1trackfid)\n",
    "\n",
    "\n",
    "ratio_1trackfid_0nubb = 100*nevents_0nubb_1trackfid/nevents_0nubb_fiducial\n",
    "Eratio_1trackfid_0nubb = myef.ratio_error(ratio_1trackfid_0nubb, nevents_0nubb_1trackfid, nevents_0nubb_fiducial, \n",
    "                                             Enevents_0nubb_1trackfid, Enevents_0nubb_fiducial)\n",
    "\n",
    "eff_1trackfid_0nubb = 100*nevents_0nubb_1trackfid/nevents_0nubb_total\n",
    "Eeff_1trackfid_0nubb = myef.ratio_error(eff_1trackfid_0nubb, nevents_0nubb_1trackfid, nevents_0nubb_total, \n",
    "                                             Enevents_0nubb_1trackfid, Enevents_0nubb_total)\n",
    "\n",
    "\n",
    "print('--------------------------0nubb-------------------------')\n",
    "print('--CUT---!----EVENTS----!---REDUCTION---!---EFFICIENCY---')\n",
    "print(f'INITIAL    {nevents_0nubb_total}        ')\n",
    "print(f'FIDUCIAL   {nevents_0nubb_fiducial}                ---      {ratio_fiducial_0nubb} +- {Eratio_fiducial_0nubb}%')\n",
    "print(f'1TRACK.    {nevents_0nubb_1trackfid}        {ratio_1trackfid_0nubb}+- {Eratio_1trackfid_0nubb}% {eff_1trackfid_0nubb} +- {Eeff_1trackfid_0nubb}%')\n",
    "\n",
    "print('--------!--------------!----------------!----------------')\n"
   ]
  },
  {
   "cell_type": "code",
   "execution_count": null,
   "metadata": {},
   "outputs": [],
   "source": [
    "nevents_selectron_1track = tracks_selectron_1track.event.nunique()\n",
    "Enevents_selectron_1track = np.sqrt(nevents_selectron_1track)\n",
    "nevents_selectron_1trackfid = tracks_selectron_1trackfid.event.nunique()\n",
    "Enevents_selectron_1trackfid = np.sqrt(nevents_selectron_1trackfid)\n",
    "\n",
    "ratio_1trackfid_selectron = 100*nevents_selectron_1trackfid/nevents_selectron_fiducial\n",
    "Eratio_1trackfid_selectron = myef.ratio_error(ratio_1trackfid_0nubb, nevents_selectron_1trackfid, nevents_selectron_fiducial, \n",
    "                                             Enevents_selectron_1trackfid, Enevents_selectron_fiducial)\n",
    "\n",
    "eff_1trackfid_selectron = 100*nevents_selectron_1trackfid/nevents_selectron_total\n",
    "Eeff_1trackfid_selectron = myef.ratio_error(eff_1trackfid_selectron, nevents_selectron_1trackfid, nevents_selectron_total, \n",
    "                                             Enevents_selectron_1trackfid, Enevents_selectron_total)\n",
    "\n",
    "print('--------------------------SElectron---------------------')\n",
    "print('--CUT---!----EVENTS----!---REDUCTION---!---EFFICIENCY---')\n",
    "print(f'INITIAL    {nevents_selectron_total}        ')\n",
    "print(f'FIDUCIAL   {nevents_selectron_fiducial}                ---      {ratio_fiducial_selectron} +- {Eratio_fiducial_selectron}%')\n",
    "print(f'1TRACK.    {nevents_selectron_1trackfid}        {ratio_1trackfid_selectron}+- {Eratio_1trackfid_selectron}% {eff_1trackfid_selectron} +- {Eeff_1trackfid_selectron}%')\n",
    "print('--------!--------------!----------------!----------------')\n"
   ]
  },
  {
   "cell_type": "code",
   "execution_count": null,
   "metadata": {},
   "outputs": [],
   "source": [
    "track_0nubb_zmin = tracks_0nubb_1track.z_min\n",
    "track_0nubb_zmax = tracks_0nubb_1track.z_max\n",
    "\n",
    "plt.hist(track_0nubb_zmin, bins = 50, range = (0, 1400),  color='blue', histtype='step', label = 'zMin')\n",
    "plt.hist(track_0nubb_zmax, bins = 50, range = (0, 1400),  color='green', histtype='step', label = 'zMax', linestyle='dashed')\n",
    "\n",
    "plt.xlabel('position (mm)')\n",
    "plt.ylabel('events (a.u.)')\n",
    "plt.title('0nubb')\n",
    "plt.legend(loc=1);\n",
    "plt.show()"
   ]
  },
  {
   "cell_type": "code",
   "execution_count": null,
   "metadata": {},
   "outputs": [],
   "source": [
    "track_0nubb_rmax = tracks_0nubb_1track.r_max\n",
    "\n",
    "plt.hist(track_0nubb_rmax, bins = 50, range = (0, 650),  color='red', histtype='step', label = 'rMax')\n",
    "\n",
    "plt.xlabel('position (mm)')\n",
    "plt.ylabel('events (a.u.)')\n",
    "plt.title('0nubb')\n",
    "plt.legend(loc=1);\n",
    "plt.show()"
   ]
  },
  {
   "cell_type": "code",
   "execution_count": null,
   "metadata": {},
   "outputs": [],
   "source": [
    "track_selectron_zmin = tracks_selectron_1track.z_min\n",
    "track_selectron_zmax = tracks_selectron_1track.z_max\n",
    "\n",
    "plt.hist(track_selectron_zmin, bins = 50, range = (0, 1400),  color='blue', histtype='step', label = 'zMin')\n",
    "plt.hist(track_selectron_zmax, bins = 50, range = (0, 1400),  color='green', histtype='step', label = 'zMax', linestyle='dashed')\n",
    "\n",
    "plt.xlabel('position (mm)')\n",
    "plt.ylabel('events (a.u.)')\n",
    "plt.title('e-roi')\n",
    "plt.legend(loc=1);\n",
    "plt.show()\n",
    "\n"
   ]
  },
  {
   "cell_type": "code",
   "execution_count": null,
   "metadata": {},
   "outputs": [],
   "source": [
    "track_selectron_rmax = tracks_selectron_1track.r_max\n",
    "\n",
    "plt.hist(track_selectron_rmax, bins = 50,  range = (0, 650),  color='red', histtype='step', label = 'rMax')\n",
    "\n",
    "plt.xlabel('position (mm)')\n",
    "plt.ylabel('events (a.u.)')\n",
    "plt.title('e-roi')\n",
    "plt.legend(loc=1);\n",
    "plt.show()"
   ]
  },
  {
   "cell_type": "markdown",
   "metadata": {},
   "source": [
    "## 3 - No overlap"
   ]
  },
  {
   "cell_type": "code",
   "execution_count": null,
   "metadata": {},
   "outputs": [],
   "source": [
    "#Getting ovlp variable of the tracks, and selecting events with no ovlp\n",
    "\n",
    "tracks_0nubb_ovlp = tracks_0nubb[tracks_0nubb.ovlp_blob_energy == 0.]\n",
    "tracks_0nubb_ovlp1trackfid = tracks_0nubb_1trackfid[tracks_0nubb_1trackfid.ovlp_blob_energy == 0.]"
   ]
  },
  {
   "cell_type": "code",
   "execution_count": null,
   "metadata": {},
   "outputs": [],
   "source": [
    "tracks_selectron_ovlp = tracks_selectron[tracks_selectron.ovlp_blob_energy == 0.]\n",
    "tracks_selectron_ovlp1trackfid = tracks_selectron_1trackfid[tracks_selectron_1trackfid.ovlp_blob_energy == 0.]"
   ]
  },
  {
   "cell_type": "code",
   "execution_count": null,
   "metadata": {},
   "outputs": [],
   "source": [
    "#Checking total amount of events, after overlap selection\n",
    "\n",
    "nevents_0nubb_ovlp = tracks_0nubb_ovlp.event.nunique()\n",
    "Enevents_0nubb_ovlp = np.sqrt(nevents_0nubb_ovlp)\n",
    "nevents_0nubb_ovlp1trackfid = tracks_0nubb_ovlp1trackfid.event.nunique()\n",
    "Enevents_0nubb_ovlp1trackfid = np.sqrt(nevents_0nubb_ovlp1trackfid)\n",
    "\n",
    "\n",
    "ratio_ovlp1trackfid_0nubb = 100*nevents_0nubb_ovlp1trackfid/nevents_0nubb_1trackfid\n",
    "Eratio_ovlp1trackfid_0nubb = myef.ratio_error(ratio_ovlp1trackfid_0nubb, nevents_0nubb_ovlp1trackfid, nevents_0nubb_1trackfid, \n",
    "                                             Enevents_0nubb_ovlp1trackfid, Enevents_0nubb_1trackfid)\n",
    "\n",
    "eff_ovlp1trackfid_0nubb = 100*nevents_0nubb_ovlp1trackfid/nevents_0nubb_total\n",
    "Eeff_ovlp1trackfid_0nubb = myef.ratio_error(eff_ovlp1trackfid_0nubb, nevents_0nubb_ovlp1trackfid, nevents_0nubb_total, \n",
    "                                             Enevents_0nubb_ovlp1trackfid, Enevents_0nubb_total)\n",
    "\n",
    "\n",
    "print('--------------------------0nubb-------------------------')\n",
    "print('--CUT---!----EVENTS----!---REDUCTION---!---EFFICIENCY---')\n",
    "print(f'INITIAL    {nevents_0nubb_total}        ')\n",
    "print(f'FIDUCIAL   {nevents_0nubb_fiducial}                ---      {ratio_fiducial_0nubb} +- {Eratio_fiducial_0nubb}%')\n",
    "print(f'1TRACK.    {nevents_0nubb_1trackfid}        {ratio_1trackfid_0nubb}+- {Eratio_1trackfid_0nubb}% {eff_1trackfid_0nubb} +- {Eeff_1trackfid_0nubb}%')\n",
    "print(f'OVLP       {nevents_0nubb_ovlp1trackfid}        {ratio_ovlp1trackfid_0nubb}+- {Eratio_ovlp1trackfid_0nubb}%   {eff_ovlp1trackfid_0nubb} +- {Eeff_ovlp1trackfid_0nubb}%')\n",
    "print('--------!--------------!----------------!----------------')"
   ]
  },
  {
   "cell_type": "code",
   "execution_count": null,
   "metadata": {},
   "outputs": [],
   "source": [
    "nevents_selectron_ovlp = tracks_selectron_ovlp.event.nunique()\n",
    "Enevents_selectron_ovlp = np.sqrt(nevents_selectron_ovlp)\n",
    "nevents_selectron_ovlp1trackfid = tracks_selectron_ovlp1trackfid.event.nunique()\n",
    "Enevents_selectron_ovlp1trackfid = np.sqrt(nevents_selectron_ovlp1trackfid)\n",
    "\n",
    "ratio_ovlp1trackfid_selectron = 100*nevents_selectron_ovlp1trackfid/nevents_selectron_1trackfid\n",
    "Eratio_ovlp1trackfid_selectron = myef.ratio_error(ratio_ovlp1trackfid_selectron, nevents_selectron_ovlp1trackfid, nevents_selectron_1trackfid, \n",
    "                                             Enevents_selectron_ovlp1trackfid, Enevents_selectron_1trackfid)\n",
    "\n",
    "eff_ovlp1trackfid_selectron = 100*nevents_selectron_ovlp1trackfid/nevents_selectron_total\n",
    "Eeff_ovlp1trackfid_selectron = myef.ratio_error(eff_ovlp1trackfid_selectron, nevents_selectron_ovlp1trackfid, nevents_selectron_total,\n",
    "                                             Enevents_selectron_ovlp1trackfid, Enevents_selectron_total)\n",
    "\n",
    "print('--------------------------SElectron---------------------')\n",
    "print('--CUT---!----EVENTS----!---REDUCTION---!---EFFICIENCY---')\n",
    "print(f'INITIAL    {nevents_selectron_total}        ')\n",
    "print(f'FIDUCIAL   {nevents_selectron_fiducial}                ---      {ratio_fiducial_selectron} +- {Eratio_fiducial_selectron}%')\n",
    "print(f'1TRACK.    {nevents_selectron_1trackfid}        {ratio_1trackfid_selectron}+- {Eratio_1trackfid_selectron}% {eff_1trackfid_selectron} +- {Eeff_1trackfid_selectron}%')\n",
    "print(f'OVLP       {nevents_selectron_ovlp1trackfid}        {ratio_ovlp1trackfid_selectron}+- {Eratio_ovlp1trackfid_selectron}%   {eff_ovlp1trackfid_selectron} +- {Eeff_ovlp1trackfid_selectron}%')\n",
    "print('--------!--------------!----------------!----------------')\n"
   ]
  },
  {
   "cell_type": "markdown",
   "metadata": {},
   "source": [
    "## 4 - ROI events"
   ]
  },
  {
   "cell_type": "code",
   "execution_count": null,
   "metadata": {},
   "outputs": [],
   "source": [
    "#Getting energy of the tracks\n",
    "energy_0nubb = tracks_0nubb.energy\n",
    "\n",
    "plt.hist(energy_0nubb, bins = 50, density = True)\n",
    "plt.xlabel('energy (MeV)')\n",
    "plt.ylabel('events (a.u.)')\n",
    "plt.title('0nubb')\n",
    "plt.show()"
   ]
  },
  {
   "cell_type": "code",
   "execution_count": null,
   "metadata": {},
   "outputs": [],
   "source": [
    "#Getting energy of the tracks\n",
    "energy_selectron = tracks_selectron.energy\n",
    "\n",
    "plt.hist(energy_selectron, bins = 50, density = True)\n",
    "plt.xlabel('energy (MeV)')\n",
    "plt.ylabel('events (%)')\n",
    "plt.title('e-roi')\n",
    "plt.show()"
   ]
  },
  {
   "cell_type": "code",
   "execution_count": null,
   "metadata": {},
   "outputs": [],
   "source": [
    "#Check limits of the Energy ROI \n",
    "\n",
    "emin = 2.40\n",
    "emax = 2.54"
   ]
  },
  {
   "cell_type": "code",
   "execution_count": null,
   "metadata": {},
   "outputs": [],
   "source": [
    "#Selecting events in the ROI\n",
    "tracks_0nubb_ROI = tracks_0nubb[(tracks_0nubb.energy >= emin) & (tracks_0nubb.energy <= emax)]\n",
    "tracks_0nubb_ROIovlp1trackfid = tracks_0nubb_ovlp1trackfid[(tracks_0nubb_ovlp1trackfid.energy >= emin) & (tracks_0nubb_ovlp1trackfid.energy <= emax)]\n"
   ]
  },
  {
   "cell_type": "code",
   "execution_count": null,
   "metadata": {},
   "outputs": [],
   "source": [
    "\n",
    "tracks_selectron_ROI = tracks_selectron[(tracks_selectron.energy >= emin) & (tracks_selectron.energy <= emax)]\n",
    "tracks_selectron_ROIovlp1trackfid = tracks_selectron_ovlp1trackfid[(tracks_selectron_ovlp1trackfid.energy >= emin) & (tracks_selectron_ovlp1trackfid.energy <= emax)]\n"
   ]
  },
  {
   "cell_type": "code",
   "execution_count": null,
   "metadata": {},
   "outputs": [],
   "source": [
    "energy_0nubb = tracks_0nubb_ROIovlp1trackfid.energy\n",
    "energy_selectron = tracks_selectron_ROIovlp1trackfid.energy\n",
    "\n",
    "plt.hist(energy_0nubb, bins = 50, range = (emin, emax), color='red', histtype='step', label = '0nubb')\n",
    "plt.hist(energy_selectron, bins = 50, range = (emin, emax), color='blue', histtype='step', label = 'e-roi', linestyle='dashed')\n",
    "\n",
    "plt.xlabel('energy (MeV)')\n",
    "plt.ylabel('events (a.u.)')\n",
    "plt.title('Energy ROI')\n",
    "plt.legend(loc=1);\n",
    "plt.show()"
   ]
  },
  {
   "cell_type": "code",
   "execution_count": null,
   "metadata": {},
   "outputs": [],
   "source": [
    "#Checking total amount of events, after ROI selection\n",
    "nevents_0nubb_ROI = tracks_0nubb_ROI.event.nunique()\n",
    "Enevents_0nubb_ROI = np.sqrt(nevents_0nubb_ROI)\n",
    "nevents_0nubb_ROIovlp1trackfid = tracks_0nubb_ROIovlp1trackfid.event.nunique()\n",
    "Enevents_0nubb_ROIovlp1trackfid = np.sqrt(nevents_0nubb_ROIovlp1trackfid)\n",
    "\n",
    "\n",
    "ratio_ROIovlp1trackfid_0nubb = 100*nevents_0nubb_ROIovlp1trackfid/nevents_0nubb_ovlp1trackfid\n",
    "Eratio_ROIovlp1trackfid_0nubb = myef.ratio_error(ratio_ROIovlp1trackfid_0nubb, nevents_0nubb_ROIovlp1trackfid, nevents_0nubb_ovlp1trackfid, \n",
    "                                             Enevents_0nubb_ROIovlp1trackfid, Enevents_0nubb_ovlp1trackfid)\n",
    "\n",
    "eff_ROIovlp1trackfid_0nubb = 100*nevents_0nubb_ROIovlp1trackfid/nevents_0nubb_total\n",
    "Eeff_ROIovlp1trackfid_0nubb = myef.ratio_error(eff_ROIovlp1trackfid_0nubb, nevents_0nubb_ROIovlp1trackfid, nevents_0nubb_total, \n",
    "                                             Enevents_0nubb_ROIovlp1trackfid, Enevents_0nubb_total)\n",
    "\n",
    "  \n",
    "print('--------------------------0nubb-------------------------')\n",
    "print('--CUT---!----EVENTS----!---REDUCTION---!---EFFICIENCY---')\n",
    "print(f'INITIAL    {nevents_0nubb_total}        ')\n",
    "print(f'FIDUCIAL   {nevents_0nubb_fiducial}                ---      {ratio_fiducial_0nubb} +- {Eratio_fiducial_0nubb}%')\n",
    "print(f'1TRACK.    {nevents_0nubb_1trackfid}        {ratio_1trackfid_0nubb}+- {Eratio_1trackfid_0nubb}% {eff_1trackfid_0nubb} +- {Eeff_1trackfid_0nubb}%')\n",
    "print(f'OVLP       {nevents_0nubb_ovlp1trackfid}        {ratio_ovlp1trackfid_0nubb}+- {Eratio_ovlp1trackfid_0nubb}%   {eff_ovlp1trackfid_0nubb} +- {Eeff_ovlp1trackfid_0nubb}%')\n",
    "print(f'ROI        {nevents_0nubb_ROIovlp1trackfid}        {ratio_ROIovlp1trackfid_0nubb}+- {Eratio_ROIovlp1trackfid_0nubb}%   {eff_ROIovlp1trackfid_0nubb} +- {Eeff_ROIovlp1trackfid_0nubb}%')\n",
    "print('--------!--------------!----------------!----------------')\n",
    "print(' ')"
   ]
  },
  {
   "cell_type": "code",
   "execution_count": null,
   "metadata": {},
   "outputs": [],
   "source": [
    "nevents_selectron_ROI = tracks_selectron_ROI.event.nunique()\n",
    "Enevents_selectron_ROI = np.sqrt(nevents_selectron_ROI)\n",
    "nevents_selectron_ROIovlp1trackfid = tracks_selectron_ROIovlp1trackfid.event.nunique()\n",
    "Enevents_selectron_ROIovlp1trackfid = np.sqrt(nevents_selectron_ROIovlp1trackfid)\n",
    "\n",
    "ratio_ROIovlp1trackfid_selectron = 100*nevents_selectron_ROIovlp1trackfid/nevents_selectron_ovlp1trackfid\n",
    "Eratio_ROIovlp1trackfid_selectron = myef.ratio_error(ratio_ROIovlp1trackfid_selectron, nevents_selectron_ROIovlp1trackfid, nevents_selectron_ovlp1trackfid, \n",
    "                                             Enevents_selectron_ROIovlp1trackfid, Enevents_selectron_ovlp1trackfid)\n",
    "\n",
    "eff_ROIovlp1trackfid_selectron = 100*nevents_selectron_ROIovlp1trackfid/nevents_selectron_total\n",
    "Eeff_ROIovlp1trackfid_selectron = myef.ratio_error(eff_ROIovlp1trackfid_selectron, nevents_selectron_ROIovlp1trackfid, nevents_selectron_total,\n",
    "                                                   Enevents_selectron_ROIovlp1trackfid, Enevents_selectron_total)\n",
    "  \n",
    "print('--------------------------SElectron---------------------')\n",
    "print('--CUT---!----EVENTS----!---REDUCTION---!---EFFICIENCY---')\n",
    "print(f'INITIAL    {nevents_selectron_total}        ')\n",
    "print(f'FIDUCIAL   {nevents_selectron_fiducial}                ---      {ratio_fiducial_selectron} +- {Eratio_fiducial_selectron}%')\n",
    "print(f'1TRACK.    {nevents_selectron_1trackfid}        {ratio_1trackfid_selectron}+- {Eratio_1trackfid_selectron}% {eff_1trackfid_selectron} +- {Eeff_1trackfid_selectron}%')\n",
    "print(f'OVLP       {nevents_selectron_ovlp1trackfid}        {ratio_ovlp1trackfid_selectron}+- {Eratio_ovlp1trackfid_selectron}%   {eff_ovlp1trackfid_selectron} +- {Eeff_ovlp1trackfid_selectron}%')\n",
    "print(f'ROI        {nevents_selectron_ROIovlp1trackfid}        {ratio_ROIovlp1trackfid_selectron}+- {Eratio_ROIovlp1trackfid_selectron}%   {eff_ROIovlp1trackfid_selectron} +- {Eeff_ROIovlp1trackfid_selectron}%')\n",
    "print('--------!--------------!----------------!----------------')"
   ]
  },
  {
   "cell_type": "markdown",
   "metadata": {},
   "source": [
    "## Representing RECO vs TRUE"
   ]
  },
  {
   "cell_type": "markdown",
   "metadata": {},
   "source": [
    "True information taken from the deconv. files (prior skeletonization)"
   ]
  },
  {
   "cell_type": "code",
   "execution_count": null,
   "metadata": {},
   "outputs": [],
   "source": [
    "#0nubb hit files taken from FULLSIM simulations\n",
    "hits_list_0nubb = []\n",
    "filepath_0nubb_hits = filepath+'0nubb/hits/'\n",
    "\n",
    "\n",
    "filename_0nubb_hits = filepath_0nubb_hits+f'nflex_{nflex_config}.0nubb.1.deconv_linear.h5'\n",
    "h5file = tb.open_file(filename_0nubb_hits)\n",
    "h5file"
   ]
  },
  {
   "cell_type": "code",
   "execution_count": null,
   "metadata": {},
   "outputs": [],
   "source": [
    "#0nubb files\n",
    "true_list_0nubb = []\n",
    "filepath_0nubb_true = filepath_0nubb_hits\n",
    "\n",
    "#loop over all the files, to read 'HITS' information\n",
    "for nfile in range(1,max0nubbf):\n",
    "    \n",
    "    filename_0nubb_true = filepath_0nubb_true+f'nflex_{nflex_config}.0nubb.{nfile}.deconv.h5'\n",
    "\n",
    "    try:\n",
    "        readfile_true_0nubb = pd.read_hdf(filename_0nubb_true, 'MC/particles')\n",
    "    except:\n",
    "        print('File {} not good'.format(filename_0nubb_true))\n",
    "        continue\n",
    "        \n",
    "    true_list_0nubb.append(readfile_true_0nubb)\n",
    "    \n",
    "#'concat' command means: 'concatenate pandas objects along a particular \n",
    "# axis with optional set logic along the other axes.' -> following line \n",
    "# is needed to keep an order between the files\n",
    "\n",
    "true_0nubb = pd.concat([dt for dt in true_list_0nubb]) \n",
    "true_0nubb.columns  "
   ]
  },
  {
   "cell_type": "code",
   "execution_count": null,
   "metadata": {},
   "outputs": [],
   "source": [
    "true_0nubb_primary = true_0nubb[true_0nubb.primary == True]\n",
    "true_0nubb_primary_part1 = true_0nubb_primary[true_0nubb_primary.particle_id == 1]\n",
    "true_0nubb_primary_part2 = true_0nubb_primary[true_0nubb_primary.particle_id == 2]\n",
    "true_0nubb_event0 = true_0nubb[true_0nubb.event_id == 0]"
   ]
  },
  {
   "cell_type": "markdown",
   "metadata": {},
   "source": [
    "Blobs assigned by proximity, where Blob1 is the one with highest energy"
   ]
  },
  {
   "cell_type": "code",
   "execution_count": null,
   "metadata": {},
   "outputs": [],
   "source": [
    "diff_b1_x_0nubb, diff_b1_y_0nubb, diff_b1_z_0nubb = [], [], []\n",
    "diff_b2_x_0nubb, diff_b2_y_0nubb, diff_b2_z_0nubb = [], [], []\n",
    "\n",
    "reco_0nubb_e = []\n",
    "\n",
    "ntracks_asel_0nubb = []\n",
    "\n",
    "diff_b1_x_0nubb, diff_b1_y_0nubb, diff_b2_x_0nubb, diff_b2_y_0nubb, reco_0nubb_e, ntracks_asel_0nubb = myrvt.blobassignation_wtrack(true_0nubb, tracks_0nubb_ROIovlp1trackfid, 'signal')\n"
   ]
  },
  {
   "cell_type": "code",
   "execution_count": null,
   "metadata": {},
   "outputs": [],
   "source": [
    "plt.hist(diff_b1_x_0nubb, bins = 50, color='red', histtype='step', label = 'x blob1')\n",
    "plt.hist(diff_b1_y_0nubb, bins = 50, color='blue', histtype='step', label = 'y blob1', linestyle='dashed')\n",
    "\n",
    "plt.xlabel('reco[tracks] - true[particle] (mm)')\n",
    "plt.ylabel('events (a.u.)')\n",
    "plt.title('0nubb')\n",
    "plt.legend(loc=1);\n",
    "plt.show()"
   ]
  },
  {
   "cell_type": "code",
   "execution_count": null,
   "metadata": {},
   "outputs": [],
   "source": [
    "plt.hist(diff_b2_x_0nubb, bins = 50, color='red', histtype='step', label = 'x blob2')\n",
    "plt.hist(diff_b2_y_0nubb, bins = 50, color='blue', histtype='step', label = 'y blob2', linestyle='dashed')\n",
    "\n",
    "plt.xlabel('reco[tracks] - true[particle] (mm)')\n",
    "plt.ylabel('events (a.u.)')\n",
    "plt.title('0nubb')\n",
    "plt.legend(loc=1);\n",
    "plt.show()"
   ]
  },
  {
   "cell_type": "code",
   "execution_count": null,
   "metadata": {},
   "outputs": [],
   "source": [
    "#single electron files\n",
    "true_list_selectron = []\n",
    "filepath_selectron_true = filepath+'e-_roi/hits/'\n",
    "\n",
    "#loop over all the files, to read 'HITS' information\n",
    "for nfile in range(1,max0nubbf):\n",
    "    \n",
    "    filename_selectron_true = filepath_selectron_true+f'nflex_{nflex_config}.e-_roi.{nfile}.deconv.h5'\n",
    "\n",
    "    try:\n",
    "        readfile_true_selectron = pd.read_hdf(filename_selectron_true, 'MC/particles')\n",
    "    except:\n",
    "        print('File {} not good'.format(filename_selectron_true))\n",
    "        continue\n",
    "        \n",
    "    true_list_selectron.append(readfile_true_selectron)\n",
    "    \n",
    "#'concat' command means: 'concatenate pandas objects along a particular \n",
    "# axis with optional set logic along the other axes.' -> following line \n",
    "# is needed to keep an order between the files\n",
    "\n",
    "true_selectron = pd.concat([dt for dt in true_list_selectron]) \n",
    "true_selectron.columns  "
   ]
  },
  {
   "cell_type": "code",
   "execution_count": null,
   "metadata": {},
   "outputs": [],
   "source": [
    "true_selectron_primary = true_selectron[true_selectron.primary == True]\n",
    "\n",
    "true_selectron_primary_part1 = true_selectron_primary[true_selectron_primary.particle_id == 1]\n",
    "true_selectron_primary_part2 = true_selectron_primary[true_selectron_primary.particle_id == 2]"
   ]
  },
  {
   "cell_type": "code",
   "execution_count": null,
   "metadata": {},
   "outputs": [],
   "source": [
    "diff_b1_x_selectron, diff_b1_y_selectron, diff_b1_z_selectron = [], [], []\n",
    "diff_b2_x_selectron, diff_b2_y_selectron, diff_b2_z_selectron = [], [], []\n",
    "\n",
    "reco_selectron_e = []\n",
    "\n",
    "ntracks_asel_selectron = []\n",
    "\n",
    "diff_b1_x_selectron, diff_b1_y_selectron, diff_b2_x_selectron, diff_b2_y_selectron, reco_selectron_e , ntracks_asel_0nubb= myrvt.blobassignation_wtrack(true_selectron, tracks_selectron_ROIovlp1trackfid, 'bkg')"
   ]
  },
  {
   "cell_type": "code",
   "execution_count": null,
   "metadata": {},
   "outputs": [],
   "source": [
    "plt.hist(diff_b1_x_selectron, bins = 50, color='red', histtype='step', label = 'x blob1')\n",
    "plt.hist(diff_b1_y_selectron, bins = 50, color='blue', histtype='step', label = 'y blob1', linestyle='dashed')\n",
    "\n",
    "plt.xlabel('reco[tracks] - true[particle] (mm)')\n",
    "plt.ylabel('events (a.u.)')\n",
    "plt.title('Single Electron')\n",
    "plt.legend(loc=1);\n",
    "plt.show()\n",
    "(np.mean(diff_b1_x_selectron)+np.mean(diff_b1_y_selectron))/2"
   ]
  },
  {
   "cell_type": "code",
   "execution_count": null,
   "metadata": {},
   "outputs": [],
   "source": [
    "plt.hist(diff_b2_x_selectron, bins = 50, color='red', histtype='step', label = 'x blob2')\n",
    "plt.hist(diff_b2_y_selectron, bins = 50, color='blue', histtype='step', label = 'y blob2', linestyle='dashed')\n",
    "\n",
    "plt.xlabel('reco[tracks] - true[particle] (mm)')\n",
    "plt.ylabel('events (a.u.)')\n",
    "plt.title('Single Electron')\n",
    "plt.legend(loc=1);\n",
    "plt.show()\n",
    "\n",
    "(np.mean(diff_b2_x_selectron)+np.mean(diff_b2_y_selectron))/2"
   ]
  },
  {
   "cell_type": "code",
   "execution_count": null,
   "metadata": {},
   "outputs": [],
   "source": [
    "npz_file = f'/Users/halmamol/NEXT/NBarrays/recovstrue_NFLEX_DETSIM_R{blobR}mm{testID}'\n",
    "np.savez(npz_file, diff_b1_x_0nubb=diff_b1_x_0nubb, diff_b1_y_0nubb=diff_b1_y_0nubb, diff_b1_z_0nubb=diff_b1_z_0nubb,\n",
    "          diff_b2_x_0nubb=diff_b2_x_0nubb, diff_b2_y_0nubb=diff_b2_y_0nubb, diff_b2_z_0nubb=diff_b2_z_0nubb,\n",
    "         diff_b1_x_selectron=diff_b1_x_selectron, diff_b1_y_selectron=diff_b1_y_selectron, diff_b1_z_selectron=diff_b1_z_selectron,\n",
    "         diff_b2_x_selectron=diff_b2_x_selectron, diff_b2_y_selectron=diff_b2_y_selectron, diff_b2_z_selectron=diff_b2_z_selectron)\n"
   ]
  },
  {
   "cell_type": "markdown",
   "metadata": {},
   "source": [
    "### Blob energies"
   ]
  },
  {
   "cell_type": "code",
   "execution_count": null,
   "metadata": {},
   "outputs": [],
   "source": [
    "plt.hist(reco_0nubb_e[1], bins = 50, range = (0, 2.55), color='red', histtype='step', label = 'energy blob1')\n",
    "plt.hist(reco_0nubb_e[2], bins = 50, range = (0, 2.55), color='blue', histtype='step', label = 'energy blob2', linestyle='dashed')\n",
    "\n",
    "plt.xlabel('energy (MeV)')\n",
    "plt.ylabel('events (a.u.)')\n",
    "plt.title('0nubb')\n",
    "plt.legend(loc=1);\n",
    "plt.show()"
   ]
  },
  {
   "cell_type": "code",
   "execution_count": null,
   "metadata": {},
   "outputs": [],
   "source": [
    "weights = myhf.get_weights(reco_0nubb_e[1], True)\n",
    "\n",
    "plt.hist2d(reco_0nubb_e[1], reco_0nubb_e[2], weights= weights, bins=(30, 30), range=((0, 1.5), (0, 1.5)), cmap='viridis', cmin=0.001)\n",
    "plt.xlabel('Blob-1 candidate energy (MeV)')\n",
    "plt.ylabel('Blob-2 candidate energy (MeV)')\n",
    "plt.title('0nubb')\n",
    "#plt.xlim((0.0,1.5))\n",
    "plt.colorbar(label='proportion of events')"
   ]
  },
  {
   "cell_type": "code",
   "execution_count": null,
   "metadata": {},
   "outputs": [],
   "source": [
    "ntracks_asel_0nubb, ntracks_asel_selectron = [], []\n",
    "\n",
    "\n",
    "for n in range(0,len(reco_0nubb_e[3])):\n",
    "    ntracks_asel_0nubb.append(tracks_0nubb[tracks_0nubb.event == reco_0nubb_e[3][n]].numb_of_tracks.values[0])\n",
    "\n",
    "for n in range(0,len(reco_selectron_e[3])):\n",
    "    ntracks_asel_selectron.append(tracks_selectron[tracks_selectron.event == reco_selectron_e[3][n]].numb_of_tracks.values[0])\n",
    "    #print(f'n value = {n}, event = {reco_selectron_e[3][n]}, added {len(ntracks_asel_selectron)}')\n"
   ]
  },
  {
   "cell_type": "code",
   "execution_count": null,
   "metadata": {},
   "outputs": [],
   "source": [
    "print(len(reco_0nubb_e[3]))\n",
    "print(len(ntracks_asel_0nubb))"
   ]
  },
  {
   "cell_type": "code",
   "execution_count": null,
   "metadata": {},
   "outputs": [],
   "source": [
    "plt.hist(reco_selectron_e[1], bins = 50, range = (0, 2.55),color='red', histtype='step', label = 'energy blob1')\n",
    "plt.hist(reco_selectron_e[2], bins = 50, range = (0, 2.55), color='blue', histtype='step', label = 'energy blob2', linestyle='dashed')\n",
    "\n",
    "plt.xlabel('energy (MeV)')\n",
    "plt.ylabel('events (a.u.)')\n",
    "plt.title('Single Electron')\n",
    "plt.legend(loc=1);\n",
    "plt.show()"
   ]
  },
  {
   "cell_type": "code",
   "execution_count": null,
   "metadata": {},
   "outputs": [],
   "source": [
    "weights = myhf.get_weights(reco_selectron_e[1], True)\n",
    "\n",
    "plt.hist2d(reco_selectron_e[1], reco_selectron_e[2], weights=weights, bins=(30, 30), range=((0, 1.5), (0, 1.5)), cmap='viridis', cmin=0.001)\n",
    "plt.xlabel('Blob candidate 1 energy (MeV)')\n",
    "plt.ylabel('Blob candidate 2 energy (MeV)')\n",
    "plt.title('Single Electron')\n",
    "plt.colorbar(label='proportion of events')"
   ]
  },
  {
   "cell_type": "code",
   "execution_count": null,
   "metadata": {},
   "outputs": [],
   "source": [
    "weights = myhf.get_weights(reco_0nubb_e[0], True)\n",
    "\n",
    "plt.hist2d(reco_0nubb_e[0], reco_0nubb_e[2], bins=(30, 30), range=((2.4, 2.5), (0, 1.8)), cmap='viridis', cmin=0.001)\n",
    "plt.xlabel('track energy (MeV)')\n",
    "plt.ylabel('Blob-2 candidate energy (MeV)')\n",
    "plt.title('0nubb')\n",
    "#plt.xlim((0.0,1.5))\n",
    "plt.colorbar(label='proportion of events')"
   ]
  },
  {
   "cell_type": "code",
   "execution_count": null,
   "metadata": {},
   "outputs": [],
   "source": [
    "weights = myhf.get_weights(reco_0nubb_e[0], True)\n",
    "\n",
    "plt.hist2d(reco_0nubb_e[0], reco_0nubb_e[1], bins=(30, 30), range=((2.4, 2.5), (0, 1.8)), cmap='viridis', cmin=0.001)\n",
    "plt.xlabel('track energy (MeV)')\n",
    "plt.ylabel('Blob-1 candidate energy (MeV)')\n",
    "plt.title('0nubb')\n",
    "#plt.xlim((0.0,1.5))\n",
    "plt.colorbar(label='proportion of events')"
   ]
  },
  {
   "cell_type": "code",
   "execution_count": null,
   "metadata": {},
   "outputs": [],
   "source": [
    "weights = myhf.get_weights(reco_0nubb_e[0], True)\n",
    "\n",
    "plt.hist2d(reco_selectron_e[0], reco_selectron_e[2], bins=(30, 30), range=((2.4, 2.5), (0, 1.8)), cmap='viridis', cmin=0.001)\n",
    "plt.xlabel('track energy (MeV)')\n",
    "plt.ylabel('Blob-2 candidate energy (MeV)')\n",
    "plt.title('1eroi')\n",
    "#plt.xlim((0.0,1.5))\n",
    "plt.colorbar(label='proportion of events')"
   ]
  },
  {
   "cell_type": "code",
   "execution_count": null,
   "metadata": {},
   "outputs": [],
   "source": [
    "weights = myhf.get_weights(reco_0nubb_e[0], True)\n",
    "\n",
    "plt.hist2d(reco_selectron_e[0], reco_selectron_e[1], bins=(30, 30), range=((2.4, 2.5), (0, 1.8)), cmap='viridis', cmin=0.001)\n",
    "plt.xlabel('track energy (MeV)')\n",
    "plt.ylabel('Blob-1 candidate energy (MeV)')\n",
    "plt.title('1eroi')\n",
    "#plt.xlim((0.0,1.5))\n",
    "plt.colorbar(label='proportion of events')"
   ]
  },
  {
   "cell_type": "code",
   "execution_count": null,
   "metadata": {},
   "outputs": [],
   "source": [
    "plt.hist(reco_0nubb_e[1], bins = 50, range = (0, 2.55), color='red', histtype='step', label = '0nubb')\n",
    "plt.hist(reco_selectron_e[1], bins = 50, range = (0, 2.55), color='blue', histtype='step', label = '1eroi', linestyle='dashed')\n",
    "\n",
    "plt.xlabel('blob energy (MeV)')\n",
    "plt.ylabel('events (a.u.)')\n",
    "plt.title('Blob1')\n",
    "plt.legend(loc=1);\n",
    "plt.show()"
   ]
  },
  {
   "cell_type": "code",
   "execution_count": null,
   "metadata": {},
   "outputs": [],
   "source": [
    "plt.hist(reco_0nubb_e[2], bins = 50, range = (0, 2.55), color='red', histtype='step', label = '0nubb')\n",
    "plt.hist(reco_selectron_e[2], bins = 50, range = (0, 2.55), color='blue', histtype='step', label = '1eroi', linestyle='dashed')\n",
    "\n",
    "plt.xlabel('blob energy (MeV)')\n",
    "plt.ylabel('events (a.u.)')\n",
    "plt.title('Blob2')\n",
    "plt.legend(loc=1);\n",
    "plt.show()"
   ]
  },
  {
   "cell_type": "markdown",
   "metadata": {},
   "source": [
    "## Efficiency Values and FOM Estimation"
   ]
  },
  {
   "cell_type": "code",
   "execution_count": null,
   "metadata": {},
   "outputs": [],
   "source": [
    "plt.hist(reco_0nubb_e[2], bins = 50, histtype='step', label = 'energy track')\n",
    "plt.xlabel('blob-2 energy (MeV)')\n",
    "plt.ylabel('events (a.u.)')\n",
    "plt.title('0nubb')\n",
    "plt.show()"
   ]
  },
  {
   "cell_type": "code",
   "execution_count": null,
   "metadata": {},
   "outputs": [],
   "source": [
    "plt.hist(reco_selectron_e[2], bins = 50, histtype='step', label = 'energy track')\n",
    "plt.xlabel('blob-2 energy (MeV)')\n",
    "plt.ylabel('events (a.u.)')\n",
    "plt.title('Single Electron')\n",
    "plt.show()\n",
    "\n",
    "print(f'Total events {len(reco_selectron_e[0])}')"
   ]
  },
  {
   "cell_type": "markdown",
   "metadata": {},
   "source": [
    "Since I need to compare both simulations, I'm going to use the same energy cuts. Besides, they seem reasonable looking into the blob2 energy distribution:"
   ]
  },
  {
   "cell_type": "code",
   "execution_count": null,
   "metadata": {},
   "outputs": [],
   "source": [
    "blobcut_energy=[]\n",
    "#in MeV\n",
    "minEcut = 0.010\n",
    "maxEcut = 0.800\n",
    "stepsEcut = 0.010\n",
    "\n",
    "#defining the vector with the cut values\n",
    "blobcut_energy=myef.blobthreshold(minEcut,maxEcut,stepsEcut)"
   ]
  },
  {
   "cell_type": "code",
   "execution_count": null,
   "metadata": {},
   "outputs": [],
   "source": [
    "if(len(reco_0nubb_e[0])!=len(reco_0nubb_e[1])):\n",
    "    print(len(reco_0nubb_e[0]))\n",
    "    print(len(reco_0nubb_e[1]))\n",
    "    test = reco_0nubb_e[0][:-1].copy()\n",
    "    print(len(test))\n",
    "    reco_0nubb_e[0] = test"
   ]
  },
  {
   "cell_type": "markdown",
   "metadata": {},
   "source": [
    "Now I'm going to take the information from reco_selectron_e[][], to see how many events with each cut I get:"
   ]
  },
  {
   "cell_type": "code",
   "execution_count": null,
   "metadata": {},
   "outputs": [],
   "source": [
    "blobcut_energy_nevents_0nubb, blobcut_energy_nevents_selectron = [], [] \n",
    "\n",
    "blobcut_energy_nevents_0nubb = myef.nevents_afterthreshold(blobcut_energy, reco_0nubb_e)\n",
    "blobcut_energy_nevents_selectron = myef.nevents_afterthreshold(blobcut_energy, reco_selectron_e)\n",
    "\n",
    "blobcut_energy_nevents_0nubb = np.array(blobcut_energy_nevents_0nubb, dtype=np.float)\n",
    "blobcut_energy_nevents_selectron = np.array(blobcut_energy_nevents_selectron, dtype=np.float)"
   ]
  },
  {
   "cell_type": "markdown",
   "metadata": {},
   "source": [
    "Create now arrays containing the statistical uncertainty (sqrt from total amount of events)"
   ]
  },
  {
   "cell_type": "code",
   "execution_count": null,
   "metadata": {},
   "outputs": [],
   "source": [
    "blobcut_energy_nevents_0nubb_error, blobcut_energy_nevents_selectron_error= [], []\n",
    "\n",
    "blobcut_energy_nevents_0nubb_error = myef.sqrterror_array(blobcut_energy_nevents_0nubb)\n",
    "blobcut_energy_nevents_selectron_error = myef.sqrterror_array(blobcut_energy_nevents_selectron)"
   ]
  },
  {
   "cell_type": "code",
   "execution_count": null,
   "metadata": {},
   "outputs": [],
   "source": [
    "fig, ax = plt.subplots()\n",
    "ax.errorbar(blobcut_energy,blobcut_energy_nevents_0nubb, yerr=blobcut_energy_nevents_0nubb_error, fmt = '-r')\n",
    "plt.ylabel('accepted events (a.u.)')\n",
    "plt.xlabel('blob-2 energy threshold (MeV)')\n",
    "#plt.title('Cut efficiency')"
   ]
  },
  {
   "cell_type": "markdown",
   "metadata": {},
   "source": [
    "Now that I have checked the accepted events for each energy cut, I'm going to compute the efficiency/background values:"
   ]
  },
  {
   "cell_type": "code",
   "execution_count": null,
   "metadata": {},
   "outputs": [],
   "source": [
    "fom_error, e_error, b_error = [], [], []\n",
    "\n",
    "e, b, fom, e_error, b_error, fom_error = myef.efficiencyterms(blobcut_energy_nevents_0nubb, blobcut_energy_nevents_selectron, \n",
    "                            blobcut_energy_nevents_0nubb_error, blobcut_energy_nevents_selectron_error,\n",
    "                            reco_0nubb_e, reco_selectron_e)"
   ]
  },
  {
   "cell_type": "code",
   "execution_count": null,
   "metadata": {},
   "outputs": [],
   "source": [
    "fig, ax = plt.subplots()\n",
    "ax.errorbar(1-b,e, xerr=b_error, yerr=e_error, fmt = '-r')\n",
    "plt.ylabel('signal efficiency')\n",
    "plt.xlabel('background rejection')\n",
    "#plt.title('Cut efficiency')"
   ]
  },
  {
   "cell_type": "code",
   "execution_count": null,
   "metadata": {},
   "outputs": [],
   "source": [
    "fig, ax = plt.subplots()\n",
    "ax.errorbar(blobcut_energy,fom, yerr=fom_error,fmt = '-r')\n",
    "plt.xlabel('blob-2 energy threshold (MeV)')\n",
    "plt.ylabel('f.o.m.=e/sqrt(b)')\n",
    "#plt.title('Cut efficiency')"
   ]
  },
  {
   "cell_type": "code",
   "execution_count": null,
   "metadata": {},
   "outputs": [],
   "source": [
    "myef.best_fom(e,b,fom,blobcut_energy)"
   ]
  },
  {
   "cell_type": "code",
   "execution_count": null,
   "metadata": {},
   "outputs": [],
   "source": [
    "npz_file = f'/Users/halmamol/NEXT/NBarrays/ntracks_NFLEX_DETSIM_R{blobR}mm'\n",
    "np.savez(npz_file, ntracks_0nubb=ntracks_0nubb, ntracks_eroi=ntracks_eroi)"
   ]
  },
  {
   "cell_type": "code",
   "execution_count": null,
   "metadata": {},
   "outputs": [],
   "source": [
    "npz_file = f'/Users/halmamol/NEXT/NBarrays/ereco_NFLEX_DETSIM_R{blobR}mm{testID}'\n",
    "np.savez(npz_file, reco_0nubb_e=reco_0nubb_e, reco_selectron_e=reco_selectron_e)"
   ]
  },
  {
   "cell_type": "code",
   "execution_count": null,
   "metadata": {},
   "outputs": [],
   "source": [
    "npz_file = f'/Users/halmamol/NEXT/NBarrays/fom_NFLEX_DETSIM_R{blobR}mm{testID}'\n",
    "np.savez(npz_file, e=e, b=b, fom=fom, e_error=e_error, b_error=b_error, fom_error=fom_error, blobcut_energy = blobcut_energy)"
   ]
  },
  {
   "cell_type": "code",
   "execution_count": null,
   "metadata": {},
   "outputs": [],
   "source": [
    "npz_file = f'/Users/halmamol/NEXT/NBarrays/trackpos_NFLEX_DETSIM_R{blobR}mm'\n",
    "np.savez(npz_file, track_0nubb_zmin=track_0nubb_zmin, track_0nubb_zmax=track_0nubb_zmax, track_0nubb_rmax = track_0nubb_rmax,\n",
    "        track_selectron_zmin=track_selectron_zmin, track_selectron_zmax=track_selectron_zmin, track_selectron_rmax = track_selectron_rmax)\n"
   ]
  },
  {
   "cell_type": "markdown",
   "metadata": {},
   "source": [
    "### Testing selected events"
   ]
  },
  {
   "cell_type": "code",
   "execution_count": null,
   "metadata": {},
   "outputs": [],
   "source": [
    "len(reco_0nubb_e[2])"
   ]
  },
  {
   "cell_type": "code",
   "execution_count": null,
   "metadata": {},
   "outputs": [],
   "source": [
    "events_noaccept = []\n",
    "for i in range(len(reco_selectron_e[1])):\n",
    "    if reco_selectron_e[1][i] > 0.45 and reco_selectron_e[2][i] < 0.40:\n",
    "        #print(f'Event {reco_selectron_e[3][i]}, Blob 1 energy {reco_selectron_e[1][i]} and Blob 2 energy {reco_selectron_e[2][i]}') \n",
    "        #events_noaccept.append(reco_selectron_e[3][i])\n",
    "#events_noaccept"
   ]
  }
 ],
 "metadata": {
  "kernelspec": {
   "display_name": "Python 3",
   "language": "python",
   "name": "python3"
  },
  "language_info": {
   "codemirror_mode": {
    "name": "ipython",
    "version": 3
   },
   "file_extension": ".py",
   "mimetype": "text/x-python",
   "name": "python",
   "nbconvert_exporter": "python",
   "pygments_lexer": "ipython3",
   "version": "3.8.3"
  }
 },
 "nbformat": 4,
 "nbformat_minor": 4
}
