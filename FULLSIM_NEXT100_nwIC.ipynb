{
 "cells": [
  {
   "cell_type": "code",
   "execution_count": 1,
   "metadata": {},
   "outputs": [],
   "source": [
    "import os\n",
    "import sys\n",
    "\n",
    "import numpy  as np\n",
    "import tables as tb\n",
    "import pandas as pd\n",
    "import matplotlib\n",
    "import math\n",
    "\n",
    "#the line below makes the plot as a pop-up, that can be saved\n",
    "#matplotlib.use('TkAgg')\n",
    "\n",
    "import matplotlib.pyplot as plt\n",
    "from mpl_toolkits.mplot3d import Axes3D\n",
    "import matplotlib.colors as clrs\n",
    "\n",
    "import matplotlib.cm as cm\n",
    "from matplotlib.colors import Normalize\n",
    "\n",
    "from scipy.stats import norm\n",
    "from scipy.stats import exponnorm\n",
    "from scipy.stats import skewnorm\n",
    "\n",
    "from IC.invisible_cities.evm.event_model        import Cluster, Hit\n",
    "from IC.invisible_cities.types.ic_types         import xy\n",
    "from IC.invisible_cities.reco.paolina_functions import voxelize_hits\n",
    "\n",
    "from IC.invisible_cities.core.exceptions import NoHits"
   ]
  },
  {
   "cell_type": "code",
   "execution_count": 2,
   "metadata": {},
   "outputs": [],
   "source": [
    "import functions.histo_functions as myhf\n",
    "import functions.efficiency_functions as myef\n",
    "import functions.recovstrue as myrvt"
   ]
  },
  {
   "cell_type": "code",
   "execution_count": 3,
   "metadata": {},
   "outputs": [],
   "source": [
    "filepath = '/Users/halmamol/NEXT/files/NEXT100/beershebaFS_nwIC/'\n",
    "max0nubbf = 999\n",
    "maxselectron = 999\n",
    "blobR = 21"
   ]
  },
  {
   "cell_type": "markdown",
   "metadata": {},
   "source": [
    "### Opening TRACK Files - Name "
   ]
  },
  {
   "cell_type": "code",
   "execution_count": 4,
   "metadata": {},
   "outputs": [
    {
     "data": {
      "text/plain": [
       "Index(['event', 'trackID', 'energy', 'length', 'numb_of_voxels',\n",
       "       'numb_of_hits', 'numb_of_tracks', 'x_min', 'y_min', 'z_min', 'x_max',\n",
       "       'y_max', 'z_max', 'r_max', 'x_ave', 'y_ave', 'z_ave', 'extreme1_x',\n",
       "       'extreme1_y', 'extreme1_z', 'extreme2_x', 'extreme2_y', 'extreme2_z',\n",
       "       'blob1_x', 'blob1_y', 'blob1_z', 'blob2_x', 'blob2_y', 'blob2_z',\n",
       "       'eblob1', 'eblob2', 'ovlp_blob_energy', 'vox_size_x', 'vox_size_y',\n",
       "       'vox_size_z'],\n",
       "      dtype='object')"
      ]
     },
     "execution_count": 4,
     "metadata": {},
     "output_type": "execute_result"
    }
   ],
   "source": [
    "#0nubb files\n",
    "track_list_0nubb = []\n",
    "\n",
    "filepath_0nubb_tracks = filepath+f'0nubb/tracks/{blobR}mm/'\n",
    "\n",
    "#loop over all the files, to read 'Tracks' information\n",
    "for nfile in range(1,max0nubbf):\n",
    "    \n",
    "    filename_0nubb = filepath_0nubb_tracks+f'next100.0nubb.{nfile}.skel_tracks.R{blobR}mm.h5'\n",
    "    #the following lines are added because some of the files aren't there (I had to check Paola's notebook)\n",
    "    try:\n",
    "        readfile_tracks = pd.read_hdf(filename_0nubb, 'Tracks')\n",
    "    except:\n",
    "        print('File {} not good'.format(filename_0nubb))\n",
    "        continue\n",
    "        \n",
    "    track_list_0nubb.append(readfile_tracks)\n",
    "    \n",
    "\n",
    "#'concat' command means: 'concatenate pandas objects along a particular \n",
    "# axis with optional set logic along the other axes.' -> following line \n",
    "# is needed to keep an order between the files\n",
    "\n",
    "tracks_0nubb = pd.concat([dt for dt in track_list_0nubb]) \n",
    "tracks_0nubb.columns  \n",
    "\n",
    "#these are all the elements inside the file:"
   ]
  },
  {
   "cell_type": "code",
   "execution_count": null,
   "metadata": {},
   "outputs": [],
   "source": []
  },
  {
   "cell_type": "code",
   "execution_count": 5,
   "metadata": {},
   "outputs": [
    {
     "data": {
      "text/plain": [
       "Index(['event', 'trackID', 'energy', 'length', 'numb_of_voxels',\n",
       "       'numb_of_hits', 'numb_of_tracks', 'x_min', 'y_min', 'z_min', 'x_max',\n",
       "       'y_max', 'z_max', 'r_max', 'x_ave', 'y_ave', 'z_ave', 'extreme1_x',\n",
       "       'extreme1_y', 'extreme1_z', 'extreme2_x', 'extreme2_y', 'extreme2_z',\n",
       "       'blob1_x', 'blob1_y', 'blob1_z', 'blob2_x', 'blob2_y', 'blob2_z',\n",
       "       'eblob1', 'eblob2', 'ovlp_blob_energy', 'vox_size_x', 'vox_size_y',\n",
       "       'vox_size_z'],\n",
       "      dtype='object')"
      ]
     },
     "execution_count": 5,
     "metadata": {},
     "output_type": "execute_result"
    }
   ],
   "source": [
    "#same for selectron files\n",
    "track_list_selectron = []\n",
    "filepath_selectron_tracks = filepath+f'/e-_roi/tracks/{blobR}mm/'\n",
    "\n",
    "#loop over all the files, to read 'Tracks' information\n",
    "for nfile in range(1,maxselectron):\n",
    "    \n",
    "    filename_selectron = filepath_selectron_tracks+f'next100.e-_roi.{nfile}.skel_tracks.R{blobR}mm.h5'\n",
    "    #the following lines are added because some of the files aren't there (I had to check Paola's notebook)\n",
    "    try:\n",
    "        readfile_tracks_selectron = pd.read_hdf(filename_selectron, 'Tracks')\n",
    "    except:\n",
    "        print('File {} not good'.format(filename_selectron))\n",
    "        continue\n",
    "        \n",
    "    track_list_selectron.append(readfile_tracks_selectron)\n",
    "    \n",
    "\n",
    "#'concat' command means: 'concatenate pandas objects along a particular \n",
    "# axis with optional set logic along the other axes.' -> following line \n",
    "# is needed to keep an order between the files\n",
    "\n",
    "tracks_selectron = pd.concat([dt for dt in track_list_selectron]) \n",
    "tracks_selectron.columns  \n",
    "\n",
    "#these are all the elements inside the file:"
   ]
  },
  {
   "cell_type": "markdown",
   "metadata": {},
   "source": [
    "### Checking variables\n",
    "\n",
    "So far, I'm interested in selecting the events in/with:\n",
    "- **Fiducial**: fiducial cut around the detector volume, of 2cm from the border\n",
    "- **1Track**: in this case, considers the track with highest deposition\n",
    "- **NoOverlap**: defined blobs in one trace should not overlap\n",
    "- **ROI**: energy cut in the region of interest, between [2.445,2475]MeV"
   ]
  },
  {
   "cell_type": "code",
   "execution_count": 6,
   "metadata": {
    "scrolled": true
   },
   "outputs": [
    {
     "name": "stdout",
     "output_type": "stream",
     "text": [
      "Initial amount of events for 0nubb: 9799 +- 98.98989847454133\n",
      "Initial amount of events for selectrons: 9767 +- 98.82813364624468\n"
     ]
    }
   ],
   "source": [
    "#Checking total amount of events, prior any selection\n",
    "nevents_0nubb_total = tracks_0nubb.event.nunique()\n",
    "Enevents_0nubb_total = np.sqrt(nevents_0nubb_total)\n",
    "print(f'Initial amount of events for 0nubb: {nevents_0nubb_total} +- {Enevents_0nubb_total}')\n",
    "\n",
    "nevents_selectron_total = tracks_selectron.event.nunique()\n",
    "Enevents_selectron_total = np.sqrt(nevents_selectron_total)\n",
    "print(f'Initial amount of events for selectrons: {nevents_selectron_total} +- {Enevents_selectron_total}')"
   ]
  },
  {
   "cell_type": "markdown",
   "metadata": {},
   "source": [
    "### Checking variables: Fiducial\n",
    "\n",
    "Test the position of the track end point, to see if it's withing the fiducial limits. To do so, I need the information about the NEXT100 dimensions:"
   ]
  },
  {
   "cell_type": "code",
   "execution_count": 7,
   "metadata": {},
   "outputs": [],
   "source": [
    "#Dimensions for the NEXT100 detector\n",
    "veto_N100 = 20 # mm\n",
    "rmax_N100 = 492 - veto_N100\n",
    "#rmax_N100 = 200\n",
    "zmin_N100 = veto_N100\n",
    "zmax_N100 = 1205 - veto_N100"
   ]
  },
  {
   "cell_type": "code",
   "execution_count": 8,
   "metadata": {
    "scrolled": true
   },
   "outputs": [
    {
     "data": {
      "image/png": "[encoded data removed]",
      "text/plain": [
       "<Figure size 432x288 with 1 Axes>"
      ]
     },
     "metadata": {
      "needs_background": "light"
     },
     "output_type": "display_data"
    }
   ],
   "source": [
    "track_0nubb_zmin = tracks_0nubb.z_min\n",
    "track_0nubb_zmax = tracks_0nubb.z_max\n",
    "\n",
    "plt.hist(track_0nubb_zmin, bins = 50, range = (0, 1400), color='blue', histtype='step', label = 'zMin')\n",
    "plt.hist(track_0nubb_zmax, bins = 50, range = (0, 1400),color='green', histtype='step', label = 'zMax', linestyle='dashed')\n",
    "\n",
    "plt.xlabel('position (mm)')\n",
    "plt.ylabel('events (a.u.)')\n",
    "plt.title('0nubb')\n",
    "plt.legend(loc=1);\n",
    "plt.show()"
   ]
  },
  {
   "cell_type": "code",
   "execution_count": 9,
   "metadata": {},
   "outputs": [
    {
     "data": {
      "image/png": "[encoded data removed]",
      "text/plain": [
       "<Figure size 432x288 with 1 Axes>"
      ]
     },
     "metadata": {
      "needs_background": "light"
     },
     "output_type": "display_data"
    }
   ],
   "source": [
    "nocheck_tracks_0nubb = tracks_0nubb[~((tracks_0nubb.z_min > 0) & \n",
    "                                     (tracks_0nubb.z_max < 400))].event.unique()\n",
    "\n",
    "#Then I apply the selection into the matrix of elements\n",
    "check_tracks_0nubb = tracks_0nubb[(tracks_0nubb.z_min > 0) & \n",
    "                                     (tracks_0nubb.z_max < 400)]\n",
    "\n",
    "# I get a list of true elements if event ID is not in the above list 'nonfiducial_list'\n",
    "evt_fid_sel_0nubb    = ~check_tracks_0nubb.event.isin(nocheck_tracks_0nubb) \n",
    "\n",
    "# And finally I select the events with an asigned True from the previous line \n",
    "check_tracks_0nubb = check_tracks_0nubb[evt_fid_sel_0nubb]\n",
    "\n",
    "check_track_zmin = check_tracks_0nubb.z_min\n",
    "check_track_zmax = check_tracks_0nubb.z_max\n",
    "\n",
    "plt.hist(check_track_zmin, bins = 50, color='blue', histtype='step', label = 'zMin')\n",
    "plt.hist(check_track_zmax, bins = 50, color='green', histtype='step', label = 'zMax', linestyle='dashed')\n",
    "\n",
    "plt.xlabel('position (mm)')\n",
    "plt.ylabel('events (a.u.)')\n",
    "plt.legend(loc=1);\n",
    "plt.show()\n"
   ]
  },
  {
   "cell_type": "code",
   "execution_count": 10,
   "metadata": {},
   "outputs": [
    {
     "data": {
      "image/png": "[encoded data removed]",
      "text/plain": [
       "<Figure size 432x288 with 1 Axes>"
      ]
     },
     "metadata": {
      "needs_background": "light"
     },
     "output_type": "display_data"
    }
   ],
   "source": [
    "check_track_energy = check_tracks_0nubb.energy\n",
    "\n",
    "plt.hist(check_track_energy, bins = 50, color='blue', histtype='step', label = 'energy')\n",
    "\n",
    "plt.xlabel('energy (MeV)')\n",
    "plt.ylabel('events (a.u.)')\n",
    "plt.legend(loc=1);\n",
    "plt.show()"
   ]
  },
  {
   "cell_type": "code",
   "execution_count": 11,
   "metadata": {},
   "outputs": [
    {
     "data": {
      "image/png": "[encoded data removed]",
      "text/plain": [
       "<Figure size 432x288 with 1 Axes>"
      ]
     },
     "metadata": {
      "needs_background": "light"
     },
     "output_type": "display_data"
    }
   ],
   "source": [
    "track_0nubb_rmax = tracks_0nubb.r_max\n",
    "\n",
    "plt.hist(track_0nubb_rmax, bins = 50, range = (0, 650), color='red', histtype='step', label = 'rMax')\n",
    "\n",
    "plt.xlabel('position (mm)')\n",
    "plt.ylabel('events (a.u.)')\n",
    "plt.title('0nubb')\n",
    "plt.legend(loc=1);\n",
    "plt.show()"
   ]
  },
  {
   "cell_type": "code",
   "execution_count": 12,
   "metadata": {},
   "outputs": [
    {
     "data": {
      "image/png": "[encoded data removed]",
      "text/plain": [
       "<Figure size 432x288 with 1 Axes>"
      ]
     },
     "metadata": {
      "needs_background": "light"
     },
     "output_type": "display_data"
    }
   ],
   "source": [
    "track_selectron_zmin = tracks_selectron.z_min\n",
    "track_selectron_zmax = tracks_selectron.z_max\n",
    "\n",
    "plt.hist(track_selectron_zmin, bins = 50, range = (0, 1400),  color='blue', histtype='step', label = 'zMin')\n",
    "plt.hist(track_selectron_zmax, bins = 50, range = (0, 1400),  color='green', histtype='step', label = 'zMax', linestyle='dashed')\n",
    "\n",
    "plt.xlabel('position (mm)')\n",
    "plt.ylabel('events (a.u.)')\n",
    "plt.title('e-roi')\n",
    "plt.legend(loc=1);\n",
    "plt.show()"
   ]
  },
  {
   "cell_type": "code",
   "execution_count": 13,
   "metadata": {},
   "outputs": [
    {
     "data": {
      "image/png": "[encoded data removed]",
      "text/plain": [
       "<Figure size 432x288 with 1 Axes>"
      ]
     },
     "metadata": {
      "needs_background": "light"
     },
     "output_type": "display_data"
    }
   ],
   "source": [
    "track_selectron_rmax = tracks_selectron.r_max\n",
    "\n",
    "plt.hist(track_selectron_rmax, bins = 50, range = (0, 650), color='red', histtype='step', label = 'rMax')\n",
    "\n",
    "plt.xlabel('position (mm)')\n",
    "plt.ylabel('events (a.u.)')\n",
    "plt.title('e-roi')\n",
    "plt.legend(loc=1);\n",
    "plt.show()"
   ]
  },
  {
   "cell_type": "code",
   "execution_count": 14,
   "metadata": {},
   "outputs": [
    {
     "name": "stdout",
     "output_type": "stream",
     "text": [
      "MAX VALUE\n",
      "0nubb\n",
      "- Rmax = 567.5334009994477\n",
      "- Zmin = 1208.861\n",
      "- Zmax = 1212.693875\n",
      "e-roi\n",
      "- Rmax = 566.7442203057742\n",
      "- Zmin = 1209.804125\n",
      "- Zmax = 1212.660875\n",
      "AVG VALUE\n",
      "0nubb\n",
      "- Rmax = 354.3990719933197\n",
      "- Zmin = 519.2669468999376\n",
      "- Zmax = 532.7562730167845\n",
      "e-roi\n",
      "- Rmax = 352.53138504120227\n",
      "- Zmin = 528.2801331346914\n",
      "- Zmax = 544.2959302887245\n"
     ]
    }
   ],
   "source": [
    "print(f'MAX VALUE')\n",
    "print(f'0nubb')\n",
    "print(f'- Rmax = {np.amax(track_0nubb_rmax)}')\n",
    "print(f'- Zmin = {np.amax(track_0nubb_zmin)}')\n",
    "print(f'- Zmax = {np.amax(track_0nubb_zmax)}')\n",
    "print(f'e-roi')\n",
    "print(f'- Rmax = {np.amax(track_selectron_rmax)}')\n",
    "print(f'- Zmin = {np.amax(track_selectron_zmin)}')\n",
    "print(f'- Zmax = {np.amax(track_selectron_zmax)}')\n",
    "print(f'AVG VALUE')\n",
    "print(f'0nubb')\n",
    "print(f'- Rmax = {np.average(track_0nubb_rmax)}')\n",
    "print(f'- Zmin = {np.average(track_0nubb_zmin)}')\n",
    "print(f'- Zmax = {np.average(track_0nubb_zmax)}')\n",
    "print(f'e-roi')\n",
    "print(f'- Rmax = {np.average(track_selectron_rmax)}')\n",
    "print(f'- Zmin = {np.average(track_selectron_zmin)}')\n",
    "print(f'- Zmax = {np.average(track_selectron_zmax)}')"
   ]
  },
  {
   "cell_type": "code",
   "execution_count": 15,
   "metadata": {},
   "outputs": [],
   "source": [
    "npz_file = '/Users/halmamol/NEXT/NBarrays/tracklimits_FULLSIM'\n",
    "np.savez(npz_file, track_0nubb_zmin=track_0nubb_zmin, track_0nubb_zmax=track_0nubb_zmax, track_0nubb_rmax=track_0nubb_rmax,\n",
    "        track_selectron_zmin=track_selectron_zmin, track_selectron_zmax=track_selectron_zmax, track_selectron_rmax=track_selectron_rmax)\n"
   ]
  },
  {
   "cell_type": "code",
   "execution_count": 16,
   "metadata": {},
   "outputs": [
    {
     "data": {
      "image/png": "[encoded data removed]",
      "text/plain": [
       "<Figure size 432x288 with 1 Axes>"
      ]
     },
     "metadata": {
      "needs_background": "light"
     },
     "output_type": "display_data"
    }
   ],
   "source": [
    "#For the evaluation of the events out of fiducial limits it's necessary to do several steps\n",
    "\n",
    "#First, check a list of events where at least 1 trace is out of the limits:\n",
    "\n",
    "nonfiducial_list_0nubb = tracks_0nubb[~((tracks_0nubb.r_max < rmax_N100) & \n",
    "                                     (tracks_0nubb.z_min > zmin_N100) & \n",
    "                                     (tracks_0nubb.z_max < zmax_N100))].event.unique()\n",
    "\n",
    "#Then I apply the selection into the matrix of elements\n",
    "fiducial_tracks_0nubb = tracks_0nubb[(tracks_0nubb.r_max < rmax_N100) & \n",
    "                                     (tracks_0nubb.z_min > zmin_N100) & \n",
    "                                     (tracks_0nubb.z_max < zmax_N100)]\n",
    "\n",
    "# I get a list of true elements if event ID is not in the above list 'nonfiducial_list'\n",
    "evt_fid_sel_0nubb    = ~fiducial_tracks_0nubb.event.isin(nonfiducial_list_0nubb) \n",
    "\n",
    "# And finally I select the events with an asigned True from the previous line \n",
    "tracks_0nubb_fiducial = fiducial_tracks_0nubb[evt_fid_sel_0nubb]\n",
    "\n",
    "track_rmax = tracks_0nubb_fiducial.r_max\n",
    "track_zmin = tracks_0nubb_fiducial.z_min\n",
    "track_zmax = tracks_0nubb_fiducial.z_max\n",
    "\n",
    "plt.hist(track_rmax, bins = 50, color='red', histtype='step', label = 'rMax')\n",
    "plt.hist(track_zmin, bins = 50, color='blue', histtype='step', label = 'zMin')\n",
    "plt.hist(track_zmax, bins = 50, color='green', histtype='step', label = 'zMax', linestyle='dashed')\n",
    "\n",
    "plt.xlabel('position (mm)')\n",
    "plt.ylabel('events (a.u.)')\n",
    "plt.legend(loc=1);\n",
    "plt.show()"
   ]
  },
  {
   "cell_type": "code",
   "execution_count": 17,
   "metadata": {},
   "outputs": [],
   "source": [
    "#Now I do the same for single electron\n",
    "\n",
    "nonfiducial_list_selectron = tracks_selectron[~((tracks_selectron.r_max < rmax_N100) & \n",
    "                                     (tracks_selectron.z_min > zmin_N100) & \n",
    "                                     (tracks_selectron.z_max < zmax_N100))].event.unique()\n",
    "\n",
    "#Then I apply the selection into the matrix of elements\n",
    "fiducial_tracks_selectron = tracks_selectron[(tracks_selectron.r_max < rmax_N100) & \n",
    "                                     (tracks_selectron.z_min > zmin_N100) & \n",
    "                                     (tracks_selectron.z_max < zmax_N100)]\n",
    "\n",
    "# I get a list of true elements if event ID is not in the above list 'nonfiducial_list'\n",
    "evt_fid_sel_selectron    = ~fiducial_tracks_selectron.event.isin(nonfiducial_list_selectron) \n",
    "\n",
    "# And finally I select the events with an asigned True from the previous line \n",
    "tracks_selectron_fiducial = fiducial_tracks_selectron[evt_fid_sel_selectron]"
   ]
  },
  {
   "cell_type": "code",
   "execution_count": 18,
   "metadata": {},
   "outputs": [
    {
     "name": "stdout",
     "output_type": "stream",
     "text": [
      "--------------------------0nubb-------------------------\n",
      "--CUT---!----EVENTS----!---REDUCTION---!---EFFICIENCY---\n",
      "INITIAL    9799        \n",
      "FIDUCIAL   6897                ---      70.38473313603428 +- 1.1062765191089101%\n",
      "--------!--------------!----------------!----------------\n",
      " \n",
      " \n",
      "--------------------------SElectron---------------------\n",
      "--CUT---!----EVENTS----!---REDUCTION---!---EFFICIENCY---\n",
      "INITIAL    9767        \n",
      "FIDUCIAL   6578                ---      67.34923722739838 +- 1.0742308378042165%\n",
      "--------!--------------!----------------!----------------\n"
     ]
    }
   ],
   "source": [
    "#Checking total amount of events, after fiducial selection\n",
    "\n",
    "nevents_0nubb_fiducial = tracks_0nubb_fiducial.event.nunique()\n",
    "Enevents_0nubb_fiducial = np.sqrt(nevents_0nubb_fiducial)\n",
    "nevents_selectron_fiducial = tracks_selectron_fiducial.event.nunique()\n",
    "Enevents_selectron_fiducial = np.sqrt(nevents_selectron_fiducial)\n",
    "\n",
    "ratio_fiducial_0nubb = 100*nevents_0nubb_fiducial/nevents_0nubb_total\n",
    "Eratio_fiducial_0nubb = myef.ratio_error(ratio_fiducial_0nubb, nevents_0nubb_fiducial, nevents_0nubb_total, \n",
    "                                             Enevents_0nubb_fiducial, Enevents_0nubb_total)\n",
    "\n",
    "ratio_fiducial_selectron = 100*nevents_selectron_fiducial/nevents_selectron_total\n",
    "Eratio_fiducial_selectron = myef.ratio_error(ratio_fiducial_selectron, nevents_selectron_fiducial, nevents_selectron_total, \n",
    "                                             Enevents_selectron_fiducial, Enevents_selectron_total)\n",
    "\n",
    "print('--------------------------0nubb-------------------------')\n",
    "print('--CUT---!----EVENTS----!---REDUCTION---!---EFFICIENCY---')\n",
    "print(f'INITIAL    {nevents_0nubb_total}        ')\n",
    "print(f'FIDUCIAL   {nevents_0nubb_fiducial}                ---      {ratio_fiducial_0nubb} +- {Eratio_fiducial_0nubb}%')\n",
    "print('--------!--------------!----------------!----------------')\n",
    "print(' ')\n",
    "print(' ')\n",
    "print('--------------------------SElectron---------------------')\n",
    "print('--CUT---!----EVENTS----!---REDUCTION---!---EFFICIENCY---')\n",
    "print(f'INITIAL    {nevents_selectron_total}        ')\n",
    "print(f'FIDUCIAL   {nevents_selectron_fiducial}                ---      {ratio_fiducial_selectron} +- {Eratio_fiducial_selectron}%')\n",
    "print('--------!--------------!----------------!----------------')\n"
   ]
  },
  {
   "cell_type": "markdown",
   "metadata": {},
   "source": [
    "### Checking variables: 1Track\n",
    "To check the track with highest energy deposition: 1st check if there is more than 1track, later remove the ones with energy deposition. "
   ]
  },
  {
   "cell_type": "code",
   "execution_count": 19,
   "metadata": {},
   "outputs": [
    {
     "data": {
      "text/html": [
       "<div>\n",
       "<style scoped>\n",
       "    .dataframe tbody tr th:only-of-type {\n",
       "        vertical-align: middle;\n",
       "    }\n",
       "\n",
       "    .dataframe tbody tr th {\n",
       "        vertical-align: top;\n",
       "    }\n",
       "\n",
       "    .dataframe thead th {\n",
       "        text-align: right;\n",
       "    }\n",
       "</style>\n",
       "<table border=\"1\" class=\"dataframe\">\n",
       "  <thead>\n",
       "    <tr style=\"text-align: right;\">\n",
       "      <th></th>\n",
       "      <th>event</th>\n",
       "      <th>trackID</th>\n",
       "      <th>energy</th>\n",
       "      <th>length</th>\n",
       "      <th>numb_of_voxels</th>\n",
       "      <th>numb_of_hits</th>\n",
       "      <th>numb_of_tracks</th>\n",
       "      <th>x_min</th>\n",
       "      <th>y_min</th>\n",
       "      <th>z_min</th>\n",
       "      <th>...</th>\n",
       "      <th>blob1_z</th>\n",
       "      <th>blob2_x</th>\n",
       "      <th>blob2_y</th>\n",
       "      <th>blob2_z</th>\n",
       "      <th>eblob1</th>\n",
       "      <th>eblob2</th>\n",
       "      <th>ovlp_blob_energy</th>\n",
       "      <th>vox_size_x</th>\n",
       "      <th>vox_size_y</th>\n",
       "      <th>vox_size_z</th>\n",
       "    </tr>\n",
       "  </thead>\n",
       "  <tbody>\n",
       "    <tr>\n",
       "      <th>0</th>\n",
       "      <td>0</td>\n",
       "      <td>0</td>\n",
       "      <td>2.475255</td>\n",
       "      <td>181.735827</td>\n",
       "      <td>749</td>\n",
       "      <td>27129</td>\n",
       "      <td>4</td>\n",
       "      <td>-260.325</td>\n",
       "      <td>-367.325</td>\n",
       "      <td>308.425500</td>\n",
       "      <td>...</td>\n",
       "      <td>314.396747</td>\n",
       "      <td>-214.100000</td>\n",
       "      <td>-361.825000</td>\n",
       "      <td>337.565699</td>\n",
       "      <td>0.227648</td>\n",
       "      <td>0.182474</td>\n",
       "      <td>0.0</td>\n",
       "      <td>4.923077</td>\n",
       "      <td>4.923077</td>\n",
       "      <td>4.904922</td>\n",
       "    </tr>\n",
       "    <tr>\n",
       "      <th>1</th>\n",
       "      <td>0</td>\n",
       "      <td>1</td>\n",
       "      <td>0.000400</td>\n",
       "      <td>4.923077</td>\n",
       "      <td>2</td>\n",
       "      <td>15</td>\n",
       "      <td>4</td>\n",
       "      <td>-286.325</td>\n",
       "      <td>-297.325</td>\n",
       "      <td>313.988219</td>\n",
       "      <td>...</td>\n",
       "      <td>1000000.000000</td>\n",
       "      <td>1000000.000000</td>\n",
       "      <td>1000000.000000</td>\n",
       "      <td>1000000.000000</td>\n",
       "      <td>0.227648</td>\n",
       "      <td>0.182474</td>\n",
       "      <td>-1.0</td>\n",
       "      <td>4.923077</td>\n",
       "      <td>4.923077</td>\n",
       "      <td>4.904922</td>\n",
       "    </tr>\n",
       "    <tr>\n",
       "      <th>2</th>\n",
       "      <td>0</td>\n",
       "      <td>2</td>\n",
       "      <td>0.000105</td>\n",
       "      <td>0.000000</td>\n",
       "      <td>1</td>\n",
       "      <td>4</td>\n",
       "      <td>4</td>\n",
       "      <td>-159.325</td>\n",
       "      <td>-409.325</td>\n",
       "      <td>335.988812</td>\n",
       "      <td>...</td>\n",
       "      <td>1000000.000000</td>\n",
       "      <td>1000000.000000</td>\n",
       "      <td>1000000.000000</td>\n",
       "      <td>1000000.000000</td>\n",
       "      <td>0.227648</td>\n",
       "      <td>0.182474</td>\n",
       "      <td>-1.0</td>\n",
       "      <td>4.923077</td>\n",
       "      <td>4.923077</td>\n",
       "      <td>4.904922</td>\n",
       "    </tr>\n",
       "    <tr>\n",
       "      <th>3</th>\n",
       "      <td>0</td>\n",
       "      <td>3</td>\n",
       "      <td>0.000052</td>\n",
       "      <td>0.000000</td>\n",
       "      <td>1</td>\n",
       "      <td>2</td>\n",
       "      <td>4</td>\n",
       "      <td>-255.325</td>\n",
       "      <td>-280.325</td>\n",
       "      <td>334.031875</td>\n",
       "      <td>...</td>\n",
       "      <td>1000000.000000</td>\n",
       "      <td>1000000.000000</td>\n",
       "      <td>1000000.000000</td>\n",
       "      <td>1000000.000000</td>\n",
       "      <td>0.227648</td>\n",
       "      <td>0.182474</td>\n",
       "      <td>-1.0</td>\n",
       "      <td>4.923077</td>\n",
       "      <td>4.923077</td>\n",
       "      <td>4.904922</td>\n",
       "    </tr>\n",
       "    <tr>\n",
       "      <th>0</th>\n",
       "      <td>1</td>\n",
       "      <td>0</td>\n",
       "      <td>0.953729</td>\n",
       "      <td>89.109167</td>\n",
       "      <td>444</td>\n",
       "      <td>14946</td>\n",
       "      <td>11</td>\n",
       "      <td>433.675</td>\n",
       "      <td>-194.325</td>\n",
       "      <td>85.224500</td>\n",
       "      <td>...</td>\n",
       "      <td>113.939352</td>\n",
       "      <td>462.196739</td>\n",
       "      <td>-182.855303</td>\n",
       "      <td>109.401530</td>\n",
       "      <td>0.197937</td>\n",
       "      <td>0.174479</td>\n",
       "      <td>0.0</td>\n",
       "      <td>4.840000</td>\n",
       "      <td>4.885714</td>\n",
       "      <td>4.649504</td>\n",
       "    </tr>\n",
       "    <tr>\n",
       "      <th>...</th>\n",
       "      <td>...</td>\n",
       "      <td>...</td>\n",
       "      <td>...</td>\n",
       "      <td>...</td>\n",
       "      <td>...</td>\n",
       "      <td>...</td>\n",
       "      <td>...</td>\n",
       "      <td>...</td>\n",
       "      <td>...</td>\n",
       "      <td>...</td>\n",
       "      <td>...</td>\n",
       "      <td>...</td>\n",
       "      <td>...</td>\n",
       "      <td>...</td>\n",
       "      <td>...</td>\n",
       "      <td>...</td>\n",
       "      <td>...</td>\n",
       "      <td>...</td>\n",
       "      <td>...</td>\n",
       "      <td>...</td>\n",
       "      <td>...</td>\n",
       "    </tr>\n",
       "    <tr>\n",
       "      <th>4</th>\n",
       "      <td>9978</td>\n",
       "      <td>4</td>\n",
       "      <td>0.000539</td>\n",
       "      <td>6.994487</td>\n",
       "      <td>4</td>\n",
       "      <td>25</td>\n",
       "      <td>6</td>\n",
       "      <td>-166.325</td>\n",
       "      <td>-345.325</td>\n",
       "      <td>523.072188</td>\n",
       "      <td>...</td>\n",
       "      <td>1000000.000000</td>\n",
       "      <td>1000000.000000</td>\n",
       "      <td>1000000.000000</td>\n",
       "      <td>1000000.000000</td>\n",
       "      <td>0.712832</td>\n",
       "      <td>0.309371</td>\n",
       "      <td>-1.0</td>\n",
       "      <td>4.933333</td>\n",
       "      <td>4.958333</td>\n",
       "      <td>4.806589</td>\n",
       "    </tr>\n",
       "    <tr>\n",
       "      <th>5</th>\n",
       "      <td>9978</td>\n",
       "      <td>5</td>\n",
       "      <td>0.000346</td>\n",
       "      <td>6.994487</td>\n",
       "      <td>3</td>\n",
       "      <td>17</td>\n",
       "      <td>6</td>\n",
       "      <td>-90.325</td>\n",
       "      <td>-350.325</td>\n",
       "      <td>523.072188</td>\n",
       "      <td>...</td>\n",
       "      <td>1000000.000000</td>\n",
       "      <td>1000000.000000</td>\n",
       "      <td>1000000.000000</td>\n",
       "      <td>1000000.000000</td>\n",
       "      <td>0.712832</td>\n",
       "      <td>0.309371</td>\n",
       "      <td>-1.0</td>\n",
       "      <td>4.933333</td>\n",
       "      <td>4.958333</td>\n",
       "      <td>4.806589</td>\n",
       "    </tr>\n",
       "    <tr>\n",
       "      <th>0</th>\n",
       "      <td>9979</td>\n",
       "      <td>0</td>\n",
       "      <td>2.388570</td>\n",
       "      <td>131.428450</td>\n",
       "      <td>738</td>\n",
       "      <td>25538</td>\n",
       "      <td>3</td>\n",
       "      <td>-258.325</td>\n",
       "      <td>-21.325</td>\n",
       "      <td>838.367000</td>\n",
       "      <td>...</td>\n",
       "      <td>877.578926</td>\n",
       "      <td>-251.825000</td>\n",
       "      <td>21.175000</td>\n",
       "      <td>844.479262</td>\n",
       "      <td>0.464893</td>\n",
       "      <td>0.441426</td>\n",
       "      <td>0.0</td>\n",
       "      <td>4.891892</td>\n",
       "      <td>4.866667</td>\n",
       "      <td>4.534525</td>\n",
       "    </tr>\n",
       "    <tr>\n",
       "      <th>1</th>\n",
       "      <td>9979</td>\n",
       "      <td>1</td>\n",
       "      <td>0.069437</td>\n",
       "      <td>30.484882</td>\n",
       "      <td>56</td>\n",
       "      <td>1213</td>\n",
       "      <td>3</td>\n",
       "      <td>-130.325</td>\n",
       "      <td>17.675</td>\n",
       "      <td>840.218313</td>\n",
       "      <td>...</td>\n",
       "      <td>1000000.000000</td>\n",
       "      <td>1000000.000000</td>\n",
       "      <td>1000000.000000</td>\n",
       "      <td>1000000.000000</td>\n",
       "      <td>0.464893</td>\n",
       "      <td>0.441426</td>\n",
       "      <td>-1.0</td>\n",
       "      <td>4.891892</td>\n",
       "      <td>4.866667</td>\n",
       "      <td>4.534525</td>\n",
       "    </tr>\n",
       "    <tr>\n",
       "      <th>2</th>\n",
       "      <td>9979</td>\n",
       "      <td>2</td>\n",
       "      <td>0.000152</td>\n",
       "      <td>0.000000</td>\n",
       "      <td>1</td>\n",
       "      <td>6</td>\n",
       "      <td>3</td>\n",
       "      <td>-284.325</td>\n",
       "      <td>-32.325</td>\n",
       "      <td>842.118250</td>\n",
       "      <td>...</td>\n",
       "      <td>1000000.000000</td>\n",
       "      <td>1000000.000000</td>\n",
       "      <td>1000000.000000</td>\n",
       "      <td>1000000.000000</td>\n",
       "      <td>0.464893</td>\n",
       "      <td>0.441426</td>\n",
       "      <td>-1.0</td>\n",
       "      <td>4.891892</td>\n",
       "      <td>4.866667</td>\n",
       "      <td>4.534525</td>\n",
       "    </tr>\n",
       "  </tbody>\n",
       "</table>\n",
       "<p>36842 rows × 35 columns</p>\n",
       "</div>"
      ],
      "text/plain": [
       "    event  trackID    energy      length  numb_of_voxels  numb_of_hits  \\\n",
       "0       0        0  2.475255  181.735827             749         27129   \n",
       "1       0        1  0.000400    4.923077               2            15   \n",
       "2       0        2  0.000105    0.000000               1             4   \n",
       "3       0        3  0.000052    0.000000               1             2   \n",
       "0       1        0  0.953729   89.109167             444         14946   \n",
       "..    ...      ...       ...         ...             ...           ...   \n",
       "4    9978        4  0.000539    6.994487               4            25   \n",
       "5    9978        5  0.000346    6.994487               3            17   \n",
       "0    9979        0  2.388570  131.428450             738         25538   \n",
       "1    9979        1  0.069437   30.484882              56          1213   \n",
       "2    9979        2  0.000152    0.000000               1             6   \n",
       "\n",
       "    numb_of_tracks    x_min    y_min       z_min  ...         blob1_z  \\\n",
       "0                4 -260.325 -367.325  308.425500  ...      314.396747   \n",
       "1                4 -286.325 -297.325  313.988219  ...  1000000.000000   \n",
       "2                4 -159.325 -409.325  335.988812  ...  1000000.000000   \n",
       "3                4 -255.325 -280.325  334.031875  ...  1000000.000000   \n",
       "0               11  433.675 -194.325   85.224500  ...      113.939352   \n",
       "..             ...      ...      ...         ...  ...             ...   \n",
       "4                6 -166.325 -345.325  523.072188  ...  1000000.000000   \n",
       "5                6  -90.325 -350.325  523.072188  ...  1000000.000000   \n",
       "0                3 -258.325  -21.325  838.367000  ...      877.578926   \n",
       "1                3 -130.325   17.675  840.218313  ...  1000000.000000   \n",
       "2                3 -284.325  -32.325  842.118250  ...  1000000.000000   \n",
       "\n",
       "           blob2_x         blob2_y         blob2_z    eblob1    eblob2  \\\n",
       "0      -214.100000     -361.825000      337.565699  0.227648  0.182474   \n",
       "1   1000000.000000  1000000.000000  1000000.000000  0.227648  0.182474   \n",
       "2   1000000.000000  1000000.000000  1000000.000000  0.227648  0.182474   \n",
       "3   1000000.000000  1000000.000000  1000000.000000  0.227648  0.182474   \n",
       "0       462.196739     -182.855303      109.401530  0.197937  0.174479   \n",
       "..             ...             ...             ...       ...       ...   \n",
       "4   1000000.000000  1000000.000000  1000000.000000  0.712832  0.309371   \n",
       "5   1000000.000000  1000000.000000  1000000.000000  0.712832  0.309371   \n",
       "0      -251.825000       21.175000      844.479262  0.464893  0.441426   \n",
       "1   1000000.000000  1000000.000000  1000000.000000  0.464893  0.441426   \n",
       "2   1000000.000000  1000000.000000  1000000.000000  0.464893  0.441426   \n",
       "\n",
       "    ovlp_blob_energy  vox_size_x  vox_size_y  vox_size_z  \n",
       "0                0.0    4.923077    4.923077    4.904922  \n",
       "1               -1.0    4.923077    4.923077    4.904922  \n",
       "2               -1.0    4.923077    4.923077    4.904922  \n",
       "3               -1.0    4.923077    4.923077    4.904922  \n",
       "0                0.0    4.840000    4.885714    4.649504  \n",
       "..               ...         ...         ...         ...  \n",
       "4               -1.0    4.933333    4.958333    4.806589  \n",
       "5               -1.0    4.933333    4.958333    4.806589  \n",
       "0                0.0    4.891892    4.866667    4.534525  \n",
       "1               -1.0    4.891892    4.866667    4.534525  \n",
       "2               -1.0    4.891892    4.866667    4.534525  \n",
       "\n",
       "[36842 rows x 35 columns]"
      ]
     },
     "execution_count": 19,
     "metadata": {},
     "output_type": "execute_result"
    }
   ],
   "source": [
    "#Loop to study the number of tracks in the event, to take the one with max energy deposition\n",
    "#Normally it would be asked that: \n",
    "\n",
    "#tracks_0nubb_1track = tracks_0nubb[tracks_0nubb.numb_of_tracks == 1]\n",
    "\n",
    "#tracks_0nubb_1trackfid = tracks_0nubb_fiducial[tracks_0nubb_fiducial.numb_of_tracks == 1]\n",
    "\n",
    "#But I'm going to take the traces with highest deposition. Checking this:\n",
    "tracks_0nubb\n",
    "\n",
    "#I've seen that the 1st track is the one with the highest energy deposition"
   ]
  },
  {
   "cell_type": "code",
   "execution_count": 20,
   "metadata": {},
   "outputs": [],
   "source": [
    "#Therefore, I'm going to take the 1st 'trackID'\n",
    "tracks_0nubb_1track = tracks_0nubb[tracks_0nubb.trackID == 0]\n",
    "tracks_0nubb_1trackfid = tracks_0nubb_fiducial[tracks_0nubb_fiducial.trackID == 0]\n",
    "\n",
    "tracks_selectron_1track = tracks_selectron[tracks_selectron.trackID == 0]\n",
    "tracks_selectron_1trackfid = tracks_selectron_fiducial[tracks_selectron_fiducial.trackID == 0]"
   ]
  },
  {
   "cell_type": "markdown",
   "metadata": {},
   "source": [
    "I've represented the plots after selecting the 1st track, otherwise I was double (multiple) counting the events (taking several times the same track, because the variable numb_of_tracks is repeated for each track in 1 event)"
   ]
  },
  {
   "cell_type": "code",
   "execution_count": 21,
   "metadata": {},
   "outputs": [
    {
     "data": {
      "image/png": "[encoded data removed]",
      "text/plain": [
       "<Figure size 432x288 with 1 Axes>"
      ]
     },
     "metadata": {
      "needs_background": "light"
     },
     "output_type": "display_data"
    }
   ],
   "source": [
    "#Check the number of tracks with numb_of_tracks\n",
    "ntracks_0nubb = tracks_0nubb_1trackfid.numb_of_tracks\n",
    "maxtracks_0nubb = np.amax(ntracks_0nubb)\n",
    "\n",
    "plt.hist(ntracks_0nubb, bins = maxtracks_0nubb, range = (0, maxtracks_0nubb),density=True, alpha=0.6, color='r')\n",
    "plt.xlabel('number of tracks')\n",
    "plt.ylabel('fraction of events')\n",
    "plt.title('0nubb')\n",
    "plt.show()"
   ]
  },
  {
   "cell_type": "code",
   "execution_count": 22,
   "metadata": {},
   "outputs": [
    {
     "data": {
      "image/png": "[encoded data removed]",
      "text/plain": [
       "<Figure size 432x288 with 1 Axes>"
      ]
     },
     "metadata": {
      "needs_background": "light"
     },
     "output_type": "display_data"
    }
   ],
   "source": [
    "#Check the number of tracks with numb_of_tracks\n",
    "ntracks_eroi = tracks_selectron_1trackfid.numb_of_tracks\n",
    "maxtracks_eroi = np.amax(ntracks_eroi)\n",
    "\n",
    "plt.hist(ntracks_eroi, bins = maxtracks_eroi, range = (0, maxtracks_eroi), density=True, alpha=0.6, color='b')\n",
    "plt.xlabel('number of tracks')\n",
    "plt.ylabel('fraction of events')\n",
    "plt.title('eroi')\n",
    "plt.show()"
   ]
  },
  {
   "cell_type": "code",
   "execution_count": 23,
   "metadata": {},
   "outputs": [
    {
     "data": {
      "image/png": "[encoded data removed]",
      "text/plain": [
       "<Figure size 432x288 with 1 Axes>"
      ]
     },
     "metadata": {
      "needs_background": "light"
     },
     "output_type": "display_data"
    }
   ],
   "source": [
    "plt.hist(ntracks_0nubb, bins = 9, range = (0.5, 9.5),density=True, alpha=0.4, color='r', label = '0nubb')\n",
    "plt.hist(ntracks_eroi, bins = 9, range = (0.5, 9.5), density=True, alpha=0.4, color='b',label = 'e-roi')\n",
    "\n",
    "plt.xlabel('number of tracks (MeV)')\n",
    "plt.ylabel('fraction of events')\n",
    "plt.title('Tracks in each event')\n",
    "plt.legend(loc=1);\n",
    "plt.show()"
   ]
  },
  {
   "cell_type": "code",
   "execution_count": 24,
   "metadata": {},
   "outputs": [
    {
     "name": "stdout",
     "output_type": "stream",
     "text": [
      "MAX VALUE\n",
      "0nubb\n",
      "- #tracks = 36\n",
      "e-roi\n",
      "- #tracks = 37\n",
      "AVG VALUE\n",
      "0nubb\n",
      "- #tracks = 3.26025808322459\n",
      "e-roi\n",
      "- #tracks = 3.454697476436607\n",
      "1-track events\n",
      "0nubb\n",
      "- 1 track = 17.8691703235024\n",
      "e-roi\n",
      "- 1 track = 20.45663970512952\n"
     ]
    }
   ],
   "source": [
    "print(f'MAX VALUE')\n",
    "print(f'0nubb')\n",
    "print(f'- #tracks = {np.amax(ntracks_0nubb)}')\n",
    "print(f'e-roi')\n",
    "print(f'- #tracks = {np.amax(ntracks_eroi)}')\n",
    "print(f'AVG VALUE')\n",
    "print(f'0nubb')\n",
    "print(f'- #tracks = {np.average(ntracks_0nubb)}')\n",
    "print(f'e-roi')\n",
    "print(f'- #tracks = {np.average(ntracks_eroi)}')\n",
    "print(f'1-track events')\n",
    "print(f'0nubb')\n",
    "print(f'- 1 track = {100*(tracks_0nubb[tracks_0nubb.numb_of_tracks == 1].event.nunique())/(tracks_0nubb.event.nunique())}')\n",
    "print(f'e-roi')\n",
    "print(f'- 1 track = {100*(tracks_selectron[tracks_selectron.numb_of_tracks == 1].event.nunique())/(tracks_selectron.event.nunique())}')\n"
   ]
  },
  {
   "cell_type": "code",
   "execution_count": 25,
   "metadata": {},
   "outputs": [
    {
     "data": {
      "text/plain": [
       "0    2\n",
       "Name: numb_of_tracks, dtype: int64"
      ]
     },
     "execution_count": 25,
     "metadata": {},
     "output_type": "execute_result"
    }
   ],
   "source": [
    "tracks_0nubb_track_evt = tracks_0nubb_1track[tracks_0nubb_1track.event == 100]\n",
    "tracks_0nubb_track_evt.numb_of_tracks"
   ]
  },
  {
   "cell_type": "code",
   "execution_count": 26,
   "metadata": {},
   "outputs": [
    {
     "name": "stdout",
     "output_type": "stream",
     "text": [
      "Amount of events with 1 track 0nubb = 21.154124981876176 +- 0.6095881592753674\n"
     ]
    }
   ],
   "source": [
    "tracks_0nubb_1track_cut = tracks_0nubb_1trackfid[tracks_0nubb_1trackfid.numb_of_tracks == 1]\n",
    "frac_1track_0nubb = 100*tracks_0nubb_1track_cut.event.nunique()/nevents_0nubb_fiducial\n",
    "\n",
    "Efrac_1track_0nubb = myef.ratio_error(frac_1track_0nubb, tracks_0nubb_1track_cut.event.nunique(), nevents_0nubb_fiducial, \n",
    "                                             np.sqrt(tracks_0nubb_1track_cut.event.nunique()), np.sqrt(nevents_0nubb_fiducial))\n",
    "print(f'Amount of events with 1 track 0nubb = {frac_1track_0nubb} +- {Efrac_1track_0nubb}')"
   ]
  },
  {
   "cell_type": "code",
   "execution_count": 27,
   "metadata": {},
   "outputs": [
    {
     "name": "stdout",
     "output_type": "stream",
     "text": [
      "Amount of events with 1 track eroi = 21.359075706901795 +- 0.6277408961315913\n"
     ]
    }
   ],
   "source": [
    "tracks_selectron_1track_cut = tracks_selectron_1trackfid[tracks_selectron_1trackfid.numb_of_tracks == 1]\n",
    "frac_1track_selectron = 100*tracks_selectron_1track_cut.event.nunique()/nevents_selectron_fiducial\n",
    "Efrac_1track_selectron = myef.ratio_error(frac_1track_selectron, tracks_selectron_1track_cut.event.nunique(), nevents_selectron_fiducial, \n",
    "                                             np.sqrt(tracks_selectron_1track_cut.event.nunique()), np.sqrt(nevents_selectron_fiducial))\n",
    "print(f'Amount of events with 1 track eroi = {frac_1track_selectron} +- {Efrac_1track_selectron}')"
   ]
  },
  {
   "cell_type": "code",
   "execution_count": 28,
   "metadata": {},
   "outputs": [
    {
     "data": {
      "image/png": "[encoded data removed]",
      "text/plain": [
       "<Figure size 432x288 with 1 Axes>"
      ]
     },
     "metadata": {
      "needs_background": "light"
     },
     "output_type": "display_data"
    }
   ],
   "source": [
    "plt.hist(tracks_0nubb_1trackfid.energy, bins = 50)\n",
    "plt.xlabel('energy (MeV)')\n",
    "plt.ylabel('events (a.u.)')\n",
    "plt.show()"
   ]
  },
  {
   "cell_type": "code",
   "execution_count": 29,
   "metadata": {},
   "outputs": [
    {
     "name": "stdout",
     "output_type": "stream",
     "text": [
      "--------------------------0nubb-------------------------\n",
      "--CUT---!----EVENTS----!---REDUCTION---!---EFFICIENCY---\n",
      "INITIAL    9799        \n",
      "FIDUCIAL   6897                ---      70.38473313603428 +- 1.1062765191089101%\n",
      "1TRACK.    6897        100.0+- 1.702883293784898% 70.38473313603428 +- 1.1062765191089101%\n",
      "--------!--------------!----------------!----------------\n",
      " \n",
      " \n",
      "--------------------------SElectron---------------------\n",
      "--CUT---!----EVENTS----!---REDUCTION---!---EFFICIENCY---\n",
      "INITIAL    9767        \n",
      "FIDUCIAL   6578                ---      67.34923722739838 +- 1.0742308378042165%\n",
      "1TRACK.    6578        100.0+- 1.74368512726539% 67.34923722739838 +- 1.0742308378042165%\n",
      "--------!--------------!----------------!----------------\n"
     ]
    }
   ],
   "source": [
    "#Checking total amount of events, after fiducial selection\n",
    "\n",
    "nevents_0nubb_1track = tracks_0nubb_1track.event.nunique()\n",
    "Enevents_0nubb_1track = np.sqrt(nevents_0nubb_1track)\n",
    "nevents_0nubb_1trackfid = tracks_0nubb_1trackfid.event.nunique()\n",
    "Enevents_0nubb_1trackfid = np.sqrt(nevents_0nubb_1trackfid)\n",
    "\n",
    "nevents_selectron_1track = tracks_selectron_1track.event.nunique()\n",
    "Enevents_selectron_1track = np.sqrt(nevents_selectron_1track)\n",
    "nevents_selectron_1trackfid = tracks_selectron_1trackfid.event.nunique()\n",
    "Enevents_selectron_1trackfid = np.sqrt(nevents_selectron_1trackfid)\n",
    "\n",
    "ratio_1trackfid_0nubb = 100*nevents_0nubb_1trackfid/nevents_0nubb_fiducial\n",
    "Eratio_1trackfid_0nubb = myef.ratio_error(ratio_1trackfid_0nubb, nevents_0nubb_1trackfid, nevents_0nubb_fiducial, \n",
    "                                             Enevents_0nubb_1trackfid, Enevents_0nubb_fiducial)\n",
    "\n",
    "eff_1trackfid_0nubb = 100*nevents_0nubb_1trackfid/nevents_0nubb_total\n",
    "Eeff_1trackfid_0nubb = myef.ratio_error(eff_1trackfid_0nubb, nevents_0nubb_1trackfid, nevents_0nubb_total, \n",
    "                                             Enevents_0nubb_1trackfid, Enevents_0nubb_total)\n",
    "\n",
    "ratio_1trackfid_selectron = 100*nevents_selectron_1trackfid/nevents_selectron_fiducial\n",
    "Eratio_1trackfid_selectron = myef.ratio_error(ratio_1trackfid_0nubb, nevents_selectron_1trackfid, nevents_selectron_fiducial, \n",
    "                                             Enevents_selectron_1trackfid, Enevents_selectron_fiducial)\n",
    "\n",
    "eff_1trackfid_selectron = 100*nevents_selectron_1trackfid/nevents_selectron_total\n",
    "Eeff_1trackfid_selectron = myef.ratio_error(eff_1trackfid_selectron, nevents_selectron_1trackfid, nevents_selectron_total, \n",
    "                                             Enevents_selectron_1trackfid, Enevents_selectron_total)\n",
    "\n",
    "print('--------------------------0nubb-------------------------')\n",
    "print('--CUT---!----EVENTS----!---REDUCTION---!---EFFICIENCY---')\n",
    "print(f'INITIAL    {nevents_0nubb_total}        ')\n",
    "print(f'FIDUCIAL   {nevents_0nubb_fiducial}                ---      {ratio_fiducial_0nubb} +- {Eratio_fiducial_0nubb}%')\n",
    "print(f'1TRACK.    {nevents_0nubb_1trackfid}        {ratio_1trackfid_0nubb}+- {Eratio_1trackfid_0nubb}% {eff_1trackfid_0nubb} +- {Eeff_1trackfid_0nubb}%')\n",
    "\n",
    "print('--------!--------------!----------------!----------------')\n",
    "print(' ')\n",
    "print(' ')\n",
    "print('--------------------------SElectron---------------------')\n",
    "print('--CUT---!----EVENTS----!---REDUCTION---!---EFFICIENCY---')\n",
    "print(f'INITIAL    {nevents_selectron_total}        ')\n",
    "print(f'FIDUCIAL   {nevents_selectron_fiducial}                ---      {ratio_fiducial_selectron} +- {Eratio_fiducial_selectron}%')\n",
    "print(f'1TRACK.    {nevents_selectron_1trackfid}        {ratio_1trackfid_selectron}+- {Eratio_1trackfid_selectron}% {eff_1trackfid_selectron} +- {Eeff_1trackfid_selectron}%')\n",
    "print('--------!--------------!----------------!----------------')\n"
   ]
  },
  {
   "cell_type": "code",
   "execution_count": 30,
   "metadata": {},
   "outputs": [
    {
     "data": {
      "image/png": "[encoded data removed]",
      "text/plain": [
       "<Figure size 432x288 with 1 Axes>"
      ]
     },
     "metadata": {
      "needs_background": "light"
     },
     "output_type": "display_data"
    }
   ],
   "source": [
    "track_0nubb_zmin = tracks_0nubb_1track.z_min\n",
    "track_0nubb_zmax = tracks_0nubb_1track.z_max\n",
    "\n",
    "plt.hist(track_0nubb_zmin, bins = 50, range = (0, 1400), color='blue', histtype='step', label = 'zMin')\n",
    "plt.hist(track_0nubb_zmax, bins = 50, range = (0, 1400),color='green', histtype='step', label = 'zMax', linestyle='dashed')\n",
    "\n",
    "plt.xlabel('position (mm)')\n",
    "plt.ylabel('events (a.u.)')\n",
    "plt.title('0nubb')\n",
    "plt.legend(loc=1);\n",
    "plt.show()"
   ]
  },
  {
   "cell_type": "code",
   "execution_count": 31,
   "metadata": {},
   "outputs": [
    {
     "data": {
      "image/png": "[encoded data removed]",
      "text/plain": [
       "<Figure size 432x288 with 1 Axes>"
      ]
     },
     "metadata": {
      "needs_background": "light"
     },
     "output_type": "display_data"
    }
   ],
   "source": [
    "track_0nubb_rmax = tracks_0nubb_1track.r_max\n",
    "\n",
    "plt.hist(track_0nubb_rmax, bins = 50, range = (0, 650), color='red', histtype='step', label = 'rMax')\n",
    "\n",
    "plt.xlabel('position (mm)')\n",
    "plt.ylabel('events (a.u.)')\n",
    "plt.title('0nubb')\n",
    "plt.legend(loc=1);\n",
    "plt.show()"
   ]
  },
  {
   "cell_type": "code",
   "execution_count": 32,
   "metadata": {},
   "outputs": [
    {
     "data": {
      "image/png": "[encoded data removed]",
      "text/plain": [
       "<Figure size 432x288 with 1 Axes>"
      ]
     },
     "metadata": {
      "needs_background": "light"
     },
     "output_type": "display_data"
    }
   ],
   "source": [
    "track_selectron_zmin = tracks_selectron_1track.z_min\n",
    "track_selectron_zmax = tracks_selectron_1track.z_max\n",
    "\n",
    "plt.hist(track_selectron_zmin, bins = 50, range = (0, 1400),  color='blue', histtype='step', label = 'zMin')\n",
    "plt.hist(track_selectron_zmax, bins = 50, range = (0, 1400),  color='green', histtype='step', label = 'zMax', linestyle='dashed')\n",
    "\n",
    "plt.xlabel('position (mm)')\n",
    "plt.ylabel('events (a.u.)')\n",
    "plt.title('e-roi')\n",
    "plt.legend(loc=1);\n",
    "plt.show()"
   ]
  },
  {
   "cell_type": "code",
   "execution_count": 33,
   "metadata": {},
   "outputs": [
    {
     "data": {
      "image/png": "[encoded data removed]",
      "text/plain": [
       "<Figure size 432x288 with 1 Axes>"
      ]
     },
     "metadata": {
      "needs_background": "light"
     },
     "output_type": "display_data"
    }
   ],
   "source": [
    "track_selectron_rmax = tracks_selectron_1track.r_max\n",
    "\n",
    "plt.hist(track_selectron_rmax, bins = 50, range = (0, 650), color='red', histtype='step', label = 'rMax')\n",
    "\n",
    "plt.xlabel('position (mm)')\n",
    "plt.ylabel('events (a.u.)')\n",
    "plt.title('0nubb')\n",
    "plt.legend(loc=1);\n",
    "plt.show()"
   ]
  },
  {
   "cell_type": "markdown",
   "metadata": {},
   "source": [
    "### Checking variables: **NoOverlap**\n",
    "The variable ovlp_blob_energy is defined for this purpouse"
   ]
  },
  {
   "cell_type": "code",
   "execution_count": 34,
   "metadata": {},
   "outputs": [
    {
     "data": {
      "image/png": "[encoded data removed]",
      "text/plain": [
       "<Figure size 432x288 with 1 Axes>"
      ]
     },
     "metadata": {
      "needs_background": "light"
     },
     "output_type": "display_data"
    }
   ],
   "source": [
    "ovlp_blob_energy = tracks_0nubb_1trackfid.ovlp_blob_energy\n",
    "\n",
    "plt.hist(ovlp_blob_energy, bins = 50)\n",
    "plt.xlabel('overlap blob energy')\n",
    "plt.ylabel('events (a.u.)')\n",
    "plt.show()"
   ]
  },
  {
   "cell_type": "code",
   "execution_count": 35,
   "metadata": {},
   "outputs": [],
   "source": [
    "#Getting ovlp variable of the tracks, and selecting events with no ovlp\n",
    "\n",
    "tracks_0nubb_ovlp = tracks_0nubb[tracks_0nubb.ovlp_blob_energy == 0.]\n",
    "tracks_0nubb_ovlp1trackfid = tracks_0nubb_1trackfid[tracks_0nubb_1trackfid.ovlp_blob_energy == 0.]\n",
    "\n",
    "tracks_selectron_ovlp = tracks_selectron[tracks_selectron.ovlp_blob_energy == 0.]\n",
    "tracks_selectron_ovlp1trackfid = tracks_selectron_1trackfid[tracks_selectron_1trackfid.ovlp_blob_energy == 0.]"
   ]
  },
  {
   "cell_type": "code",
   "execution_count": 36,
   "metadata": {},
   "outputs": [
    {
     "name": "stdout",
     "output_type": "stream",
     "text": [
      "--------------------------0nubb-------------------------\n",
      "--CUT---!----EVENTS----!---REDUCTION---!---EFFICIENCY---\n",
      "INITIAL    9799        \n",
      "FIDUCIAL   6897                ---      70.38473313603428 +- 1.1062765191089101%\n",
      "1TRACK.    6897        100.0+- 1.702883293784898% 70.38473313603428 +- 1.1062765191089101%\n",
      "OVLP       6150        89.16920400173989+- 1.5638768472797722%   62.76150627615063 +- 1.0210138902006611%\n",
      "--------!--------------!----------------!----------------\n",
      " \n",
      " \n",
      "--------------------------SElectron---------------------\n",
      "--CUT---!----EVENTS----!---REDUCTION---!---EFFICIENCY---\n",
      "INITIAL    9767        \n",
      "FIDUCIAL   6578                ---      67.34923722739838 +- 1.0742308378042165%\n",
      "1TRACK.    6578        100.0+- 1.74368512726539% 67.34923722739838 +- 1.0742308378042165%\n",
      "OVLP       6327        96.18425053207662+- 1.6937024585757705%   64.77935906624347 +- 1.0454159795280782%\n",
      "--------!--------------!----------------!----------------\n"
     ]
    }
   ],
   "source": [
    "#Checking total amount of events, after overlap selection\n",
    "\n",
    "nevents_0nubb_ovlp = tracks_0nubb_ovlp.event.nunique()\n",
    "Enevents_0nubb_ovlp = np.sqrt(nevents_0nubb_ovlp)\n",
    "nevents_0nubb_ovlp1trackfid = tracks_0nubb_ovlp1trackfid.event.nunique()\n",
    "Enevents_0nubb_ovlp1trackfid = np.sqrt(nevents_0nubb_ovlp1trackfid)\n",
    "\n",
    "nevents_selectron_ovlp = tracks_selectron_ovlp.event.nunique()\n",
    "Enevents_selectron_ovlp = np.sqrt(nevents_selectron_ovlp)\n",
    "nevents_selectron_ovlp1trackfid = tracks_selectron_ovlp1trackfid.event.nunique()\n",
    "Enevents_selectron_ovlp1trackfid = np.sqrt(nevents_selectron_ovlp1trackfid)\n",
    "\n",
    "ratio_ovlp1trackfid_0nubb = 100*nevents_0nubb_ovlp1trackfid/nevents_0nubb_1trackfid\n",
    "Eratio_ovlp1trackfid_0nubb = myef.ratio_error(ratio_ovlp1trackfid_0nubb, nevents_0nubb_ovlp1trackfid, nevents_0nubb_1trackfid, \n",
    "                                             Enevents_0nubb_ovlp1trackfid, Enevents_0nubb_1trackfid)\n",
    "\n",
    "eff_ovlp1trackfid_0nubb = 100*nevents_0nubb_ovlp1trackfid/nevents_0nubb_total\n",
    "Eeff_ovlp1trackfid_0nubb = myef.ratio_error(eff_ovlp1trackfid_0nubb, nevents_0nubb_ovlp1trackfid, nevents_0nubb_total, \n",
    "                                             Enevents_0nubb_ovlp1trackfid, Enevents_0nubb_total)\n",
    "\n",
    "ratio_ovlp1trackfid_selectron = 100*nevents_selectron_ovlp1trackfid/nevents_selectron_1trackfid\n",
    "Eratio_ovlp1trackfid_selectron = myef.ratio_error(ratio_ovlp1trackfid_selectron, nevents_selectron_ovlp1trackfid, nevents_selectron_1trackfid, \n",
    "                                             Enevents_selectron_ovlp1trackfid, Enevents_selectron_1trackfid)\n",
    "\n",
    "eff_ovlp1trackfid_selectron = 100*nevents_selectron_ovlp1trackfid/nevents_selectron_total\n",
    "Eeff_ovlp1trackfid_selectron = myef.ratio_error(eff_ovlp1trackfid_selectron, nevents_selectron_ovlp1trackfid, nevents_selectron_total,\n",
    "                                             Enevents_selectron_ovlp1trackfid, Enevents_selectron_total)\n",
    "print('--------------------------0nubb-------------------------')\n",
    "print('--CUT---!----EVENTS----!---REDUCTION---!---EFFICIENCY---')\n",
    "print(f'INITIAL    {nevents_0nubb_total}        ')\n",
    "print(f'FIDUCIAL   {nevents_0nubb_fiducial}                ---      {ratio_fiducial_0nubb} +- {Eratio_fiducial_0nubb}%')\n",
    "print(f'1TRACK.    {nevents_0nubb_1trackfid}        {ratio_1trackfid_0nubb}+- {Eratio_1trackfid_0nubb}% {eff_1trackfid_0nubb} +- {Eeff_1trackfid_0nubb}%')\n",
    "print(f'OVLP       {nevents_0nubb_ovlp1trackfid}        {ratio_ovlp1trackfid_0nubb}+- {Eratio_ovlp1trackfid_0nubb}%   {eff_ovlp1trackfid_0nubb} +- {Eeff_ovlp1trackfid_0nubb}%')\n",
    "print('--------!--------------!----------------!----------------')\n",
    "print(' ')\n",
    "print(' ')\n",
    "print('--------------------------SElectron---------------------')\n",
    "print('--CUT---!----EVENTS----!---REDUCTION---!---EFFICIENCY---')\n",
    "print(f'INITIAL    {nevents_selectron_total}        ')\n",
    "print(f'FIDUCIAL   {nevents_selectron_fiducial}                ---      {ratio_fiducial_selectron} +- {Eratio_fiducial_selectron}%')\n",
    "print(f'1TRACK.    {nevents_selectron_1trackfid}        {ratio_1trackfid_selectron}+- {Eratio_1trackfid_selectron}% {eff_1trackfid_selectron} +- {Eeff_1trackfid_selectron}%')\n",
    "print(f'OVLP       {nevents_selectron_ovlp1trackfid}        {ratio_ovlp1trackfid_selectron}+- {Eratio_ovlp1trackfid_selectron}%   {eff_ovlp1trackfid_selectron} +- {Eeff_ovlp1trackfid_selectron}%')\n",
    "print('--------!--------------!----------------!----------------')\n",
    "\n"
   ]
  },
  {
   "cell_type": "markdown",
   "metadata": {},
   "source": [
    "### Checking variables: ROI\n",
    "Getting events with an energy inside the region of interest."
   ]
  },
  {
   "cell_type": "code",
   "execution_count": 37,
   "metadata": {},
   "outputs": [],
   "source": [
    "#Limits of the Energy ROI \n",
    "\n",
    "emin = 2.4\n",
    "emax = 2.54\n",
    "\n",
    "#UPDATE: The initial values are not the used ones. Due to some spread in the reconstructed\n",
    "#energy, and some non-linearities, the ROI needs to be broader. Values are increased as above."
   ]
  },
  {
   "cell_type": "code",
   "execution_count": 38,
   "metadata": {},
   "outputs": [
    {
     "data": {
      "image/png": "[encoded data removed]",
      "text/plain": [
       "<Figure size 432x288 with 1 Axes>"
      ]
     },
     "metadata": {
      "needs_background": "light"
     },
     "output_type": "display_data"
    }
   ],
   "source": [
    "#Getting energy of the tracks\n",
    "energy = tracks_0nubb.energy\n",
    "\n",
    "plt.hist(energy, bins = 50)\n",
    "plt.xlabel('energy (MeV)')\n",
    "plt.ylabel('events (a.u.)')\n",
    "plt.show()"
   ]
  },
  {
   "cell_type": "code",
   "execution_count": 39,
   "metadata": {},
   "outputs": [
    {
     "data": {
      "image/png": "[encoded data removed]",
      "text/plain": [
       "<Figure size 432x288 with 1 Axes>"
      ]
     },
     "metadata": {
      "needs_background": "light"
     },
     "output_type": "display_data"
    }
   ],
   "source": [
    "#Selecting events in the ROI\n",
    "tracks_0nubb_ROI = tracks_0nubb[(tracks_0nubb.energy >= emin) & (tracks_0nubb.energy <= emax)]\n",
    "tracks_0nubb_ROIovlp1trackfid = tracks_0nubb_ovlp1trackfid[(tracks_0nubb_ovlp1trackfid.energy >= emin) & (tracks_0nubb_ovlp1trackfid.energy <= emax)]\n",
    "\n",
    "tracks_selectron_ROI = tracks_selectron[(tracks_selectron.energy >= emin) & (tracks_selectron.energy <= emax)]\n",
    "tracks_selectron_ROIovlp1trackfid = tracks_selectron_ovlp1trackfid[(tracks_selectron_ovlp1trackfid.energy >= emin) & (tracks_selectron_ovlp1trackfid.energy <= emax)]\n",
    "\n",
    "\n",
    "energy_0nubb = tracks_0nubb_ROIovlp1trackfid.energy\n",
    "energy_selectron = tracks_selectron_ROIovlp1trackfid.energy\n",
    "\n",
    "plt.hist(energy_0nubb, bins = 50, range = (emin, emax), color='red', histtype='step', label = '0nubb')\n",
    "plt.hist(energy_selectron, bins = 50, range = (emin, emax), color='blue', histtype='step', label = 'e-roi', linestyle='dashed')\n",
    "\n",
    "plt.xlabel('energy (MeV)')\n",
    "plt.ylabel('events (a.u.)')\n",
    "plt.title('Energy ROI')\n",
    "plt.legend(loc=1);\n",
    "plt.show()\n",
    "\n",
    "#mirar resolucion de la energia"
   ]
  },
  {
   "cell_type": "code",
   "execution_count": 40,
   "metadata": {},
   "outputs": [
    {
     "data": {
      "image/png": "[encoded data removed]",
      "text/plain": [
       "<Figure size 432x288 with 1 Axes>"
      ]
     },
     "metadata": {
      "needs_background": "light"
     },
     "output_type": "display_data"
    },
    {
     "name": "stdout",
     "output_type": "stream",
     "text": [
      "Fit results: mu = 2.4644103402818556,  std = 0.014407037715383663 \n"
     ]
    }
   ],
   "source": [
    "energy_0nubb_zoom = tracks_0nubb_ROIovlp1trackfid.energy\n",
    "\n",
    "mu, std = norm.fit(energy_0nubb_zoom)\n",
    "\n",
    "# Plot the histogram.\n",
    "plt.hist(energy_0nubb_zoom, bins=25, density=True, alpha=0.6, color='r')\n",
    "\n",
    "# Plot the PDF.\n",
    "x = np.linspace(emin, emax, 100)\n",
    "p = norm.pdf(x, mu, std)\n",
    "plt.plot(x, p, 'k', linewidth=2)\n",
    "plt.title('0nubb')\n",
    "\n",
    "plt.show()\n",
    "\n",
    "print(f'Fit results: mu = {mu},  std = {std} ')"
   ]
  },
  {
   "cell_type": "code",
   "execution_count": 41,
   "metadata": {},
   "outputs": [
    {
     "data": {
      "image/png": "[encoded data removed]",
      "text/plain": [
       "<Figure size 432x288 with 1 Axes>"
      ]
     },
     "metadata": {
      "needs_background": "light"
     },
     "output_type": "display_data"
    },
    {
     "name": "stdout",
     "output_type": "stream",
     "text": [
      "Fit results: mu = 2.4778441326634493,  std = 0.01969817664576447 \n"
     ]
    }
   ],
   "source": [
    "ae, loce, scalee = skewnorm.fit(energy_0nubb_zoom)\n",
    "\n",
    "# Plot the histogram.\n",
    "plt.hist(energy_0nubb_zoom, bins=25, density=True, alpha=0.6, color='r')\n",
    "\n",
    "# Plot the PDF.\n",
    "x = np.linspace(emin, emax, 100)\n",
    "p = skewnorm.pdf(x, ae, loce, scalee)\n",
    "plt.plot(x, p, 'k', linewidth=2)\n",
    "plt.title('0nubb')\n",
    "\n",
    "plt.show()\n",
    "\n",
    "print(f'Fit results: mu = {loce},  std = {scalee} ')"
   ]
  },
  {
   "cell_type": "code",
   "execution_count": 42,
   "metadata": {},
   "outputs": [
    {
     "data": {
      "image/png": "[encoded data removed]",
      "text/plain": [
       "<Figure size 432x288 with 1 Axes>"
      ]
     },
     "metadata": {
      "needs_background": "light"
     },
     "output_type": "display_data"
    },
    {
     "name": "stdout",
     "output_type": "stream",
     "text": [
      "Fit results: mu = 2.4663033196694655,  std = 0.016036417877106586 \n"
     ]
    }
   ],
   "source": [
    "energy_selectron_zoom = tracks_selectron_ROIovlp1trackfid.energy\n",
    "\n",
    "mu, std = norm.fit(energy_selectron_zoom)\n",
    "\n",
    "# Plot the histogram.\n",
    "plt.hist(energy_selectron_zoom, bins=25, density=True, alpha=0.6, color='b')\n",
    "\n",
    "# Plot the PDF.\n",
    "x = np.linspace(emin, emax, 100)\n",
    "p = norm.pdf(x, mu, std)\n",
    "plt.plot(x, p, 'k', linewidth=2)\n",
    "plt.title('e-roi')\n",
    "\n",
    "plt.show()\n",
    "\n",
    "print(f'Fit results: mu = {mu},  std = {std} ')"
   ]
  },
  {
   "cell_type": "code",
   "execution_count": 43,
   "metadata": {},
   "outputs": [
    {
     "name": "stdout",
     "output_type": "stream",
     "text": [
      "--------------------------0nubb-------------------------\n",
      "--CUT---!----EVENTS----!---REDUCTION---!---EFFICIENCY---\n",
      "INITIAL    9799        \n",
      "FIDUCIAL   6897                ---      70.38473313603428 +- 1.1062765191089101%\n",
      "1TRACK.    6897        100.0+- 1.702883293784898% 70.38473313603428 +- 1.1062765191089101%\n",
      "OVLP       6150        89.16920400173989+- 1.5638768472797722%   62.76150627615063 +- 1.0210138902006611%\n",
      "ROI        4542        73.85365853658537+- 1.4449085678951321%   46.35166853760588 +- 0.8320331815643357%\n",
      "--------!--------------!----------------!----------------\n",
      " \n",
      " \n",
      "--------------------------SElectron---------------------\n",
      "--CUT---!----EVENTS----!---REDUCTION---!---EFFICIENCY---\n",
      "INITIAL    9767        \n",
      "FIDUCIAL   6578                ---      67.34923722739838 +- 1.0742308378042165%\n",
      "1TRACK.    6578        100.0+- 1.74368512726539% 67.34923722739838 +- 1.0742308378042165%\n",
      "OVLP       6327        96.18425053207662+- 1.6937024585757705%   64.77935906624347 +- 1.0454159795280782%\n",
      "ROI        4277        67.59917812549392+- 1.338159041963507%   43.79031432374322 +- 0.8029218081569218%\n",
      "--------!--------------!----------------!----------------\n"
     ]
    }
   ],
   "source": [
    "#Checking total amount of events, after ROI selection\n",
    "nevents_0nubb_ROI = tracks_0nubb_ROI.event.nunique()\n",
    "Enevents_0nubb_ROI = np.sqrt(nevents_0nubb_ROI)\n",
    "nevents_0nubb_ROIovlp1trackfid = tracks_0nubb_ROIovlp1trackfid.event.nunique()\n",
    "Enevents_0nubb_ROIovlp1trackfid = np.sqrt(nevents_0nubb_ROIovlp1trackfid)\n",
    "\n",
    "nevents_selectron_ROI = tracks_selectron_ROI.event.nunique()\n",
    "Enevents_selectron_ROI = np.sqrt(nevents_selectron_ROI)\n",
    "nevents_selectron_ROIovlp1trackfid = tracks_selectron_ROIovlp1trackfid.event.nunique()\n",
    "Enevents_selectron_ROIovlp1trackfid = np.sqrt(nevents_selectron_ROIovlp1trackfid)\n",
    "\n",
    "\n",
    "ratio_ROIovlp1trackfid_0nubb = 100*nevents_0nubb_ROIovlp1trackfid/nevents_0nubb_ovlp1trackfid\n",
    "Eratio_ROIovlp1trackfid_0nubb = myef.ratio_error(ratio_ROIovlp1trackfid_0nubb, nevents_0nubb_ROIovlp1trackfid, nevents_0nubb_ovlp1trackfid, \n",
    "                                             Enevents_0nubb_ROIovlp1trackfid, Enevents_0nubb_ovlp1trackfid)\n",
    "\n",
    "eff_ROIovlp1trackfid_0nubb = 100*nevents_0nubb_ROIovlp1trackfid/nevents_0nubb_total\n",
    "Eeff_ROIovlp1trackfid_0nubb = myef.ratio_error(eff_ROIovlp1trackfid_0nubb, nevents_0nubb_ROIovlp1trackfid, nevents_0nubb_total, \n",
    "                                             Enevents_0nubb_ROIovlp1trackfid, Enevents_0nubb_total)\n",
    "\n",
    "ratio_ROIovlp1trackfid_selectron = 100*nevents_selectron_ROIovlp1trackfid/nevents_selectron_ovlp1trackfid\n",
    "Eratio_ROIovlp1trackfid_selectron = myef.ratio_error(ratio_ROIovlp1trackfid_selectron, nevents_selectron_ROIovlp1trackfid, nevents_selectron_ovlp1trackfid, \n",
    "                                             Enevents_selectron_ROIovlp1trackfid, Enevents_selectron_ovlp1trackfid)\n",
    "\n",
    "eff_ROIovlp1trackfid_selectron = 100*nevents_selectron_ROIovlp1trackfid/nevents_selectron_total\n",
    "Eeff_ROIovlp1trackfid_selectron = myef.ratio_error(eff_ROIovlp1trackfid_selectron, nevents_selectron_ROIovlp1trackfid, nevents_selectron_total,\n",
    "                                                   Enevents_selectron_ROIovlp1trackfid, Enevents_selectron_total)\n",
    "    \n",
    "print('--------------------------0nubb-------------------------')\n",
    "print('--CUT---!----EVENTS----!---REDUCTION---!---EFFICIENCY---')\n",
    "print(f'INITIAL    {nevents_0nubb_total}        ')\n",
    "print(f'FIDUCIAL   {nevents_0nubb_fiducial}                ---      {ratio_fiducial_0nubb} +- {Eratio_fiducial_0nubb}%')\n",
    "print(f'1TRACK.    {nevents_0nubb_1trackfid}        {ratio_1trackfid_0nubb}+- {Eratio_1trackfid_0nubb}% {eff_1trackfid_0nubb} +- {Eeff_1trackfid_0nubb}%')\n",
    "print(f'OVLP       {nevents_0nubb_ovlp1trackfid}        {ratio_ovlp1trackfid_0nubb}+- {Eratio_ovlp1trackfid_0nubb}%   {eff_ovlp1trackfid_0nubb} +- {Eeff_ovlp1trackfid_0nubb}%')\n",
    "print(f'ROI        {nevents_0nubb_ROIovlp1trackfid}        {ratio_ROIovlp1trackfid_0nubb}+- {Eratio_ROIovlp1trackfid_0nubb}%   {eff_ROIovlp1trackfid_0nubb} +- {Eeff_ROIovlp1trackfid_0nubb}%')\n",
    "print('--------!--------------!----------------!----------------')\n",
    "print(' ')\n",
    "print(' ')\n",
    "print('--------------------------SElectron---------------------')\n",
    "print('--CUT---!----EVENTS----!---REDUCTION---!---EFFICIENCY---')\n",
    "print(f'INITIAL    {nevents_selectron_total}        ')\n",
    "print(f'FIDUCIAL   {nevents_selectron_fiducial}                ---      {ratio_fiducial_selectron} +- {Eratio_fiducial_selectron}%')\n",
    "print(f'1TRACK.    {nevents_selectron_1trackfid}        {ratio_1trackfid_selectron}+- {Eratio_1trackfid_selectron}% {eff_1trackfid_selectron} +- {Eeff_1trackfid_selectron}%')\n",
    "print(f'OVLP       {nevents_selectron_ovlp1trackfid}        {ratio_ovlp1trackfid_selectron}+- {Eratio_ovlp1trackfid_selectron}%   {eff_ovlp1trackfid_selectron} +- {Eeff_ovlp1trackfid_selectron}%')\n",
    "print(f'ROI        {nevents_selectron_ROIovlp1trackfid}        {ratio_ROIovlp1trackfid_selectron}+- {Eratio_ROIovlp1trackfid_selectron}%   {eff_ROIovlp1trackfid_selectron} +- {Eeff_ROIovlp1trackfid_selectron}%')\n",
    "print('--------!--------------!----------------!----------------')"
   ]
  },
  {
   "cell_type": "code",
   "execution_count": 44,
   "metadata": {},
   "outputs": [
    {
     "data": {
      "image/png": "[encoded data removed]",
      "text/plain": [
       "<Figure size 432x288 with 1 Axes>"
      ]
     },
     "metadata": {
      "needs_background": "light"
     },
     "output_type": "display_data"
    }
   ],
   "source": [
    "tracks_0nubb_sel = tracks_0nubb[tracks_0nubb.energy > 2.4]\n",
    "tracks_0nubb_fiducial_sel = tracks_0nubb_fiducial[tracks_0nubb_fiducial.energy > 2.4]\n",
    "tracks_0nubb_1trackfid_sel = tracks_0nubb_1trackfid[tracks_0nubb_1trackfid.energy > 2.4]\n",
    "tracks_0nubb_ovlp1trackfid_sel = tracks_0nubb_ovlp1trackfid[tracks_0nubb_ovlp1trackfid.energy > 2.4]\n",
    "tracks_0nubb_ROIovlp1trackfid_sel = tracks_0nubb_ROIovlp1trackfid[tracks_0nubb_ROIovlp1trackfid.energy > 2.4]\n",
    "\n",
    "plt.hist(tracks_0nubb_fiducial_sel.energy, bins = 50, color='blue', histtype='step', label = 'fiducial')\n",
    "plt.hist(tracks_0nubb_sel.energy, bins = 50, color='red', histtype='step', label = 'no cut')\n",
    "plt.hist(tracks_0nubb_1trackfid_sel.energy, bins = 50, color='orange', histtype='step', label = '+ 1-track', linestyle='dashed')\n",
    "plt.hist(tracks_0nubb_ovlp1trackfid_sel.energy, bins = 50, color='green', histtype='step', label = '+ overlap', linestyle='dashed')\n",
    "#plt.hist(tracks_0nubb_ROIovlp1trackfid_sel.energy, bins = 50, color='purple', histtype='step', label = '+ ROI', linestyle='dashed')\n",
    "\n",
    "plt.xlabel('track energy (MeV)')\n",
    "plt.ylabel('events (a.u.)')\n",
    "plt.title('0nubb')\n",
    "plt.legend(loc=2);\n",
    "#plt.xlim((2.2,2.6))\n",
    "#plt.yscale('log')\n",
    "plt.show()"
   ]
  },
  {
   "cell_type": "code",
   "execution_count": 45,
   "metadata": {},
   "outputs": [
    {
     "data": {
      "image/png": "[encoded data removed]",
      "text/plain": [
       "<Figure size 432x288 with 1 Axes>"
      ]
     },
     "metadata": {
      "needs_background": "light"
     },
     "output_type": "display_data"
    }
   ],
   "source": [
    "tracks_selectron_sel = tracks_selectron[tracks_selectron.energy > 2.4]\n",
    "tracks_selectron_fiducial_sel = tracks_selectron_fiducial[tracks_selectron_fiducial.energy > 2.4]\n",
    "tracks_selectron_1trackfid_sel = tracks_selectron_1trackfid[tracks_selectron_1trackfid.energy > 2.4]\n",
    "tracks_selectron_ovlp1trackfid_sel = tracks_selectron_ovlp1trackfid[tracks_selectron_ovlp1trackfid.energy > 2.4]\n",
    "tracks_selectron_ROIovlp1trackfid_sel = tracks_selectron_ROIovlp1trackfid[tracks_selectron_ROIovlp1trackfid.energy > 2.4]\n",
    "\n",
    "plt.hist(tracks_selectron_sel.energy, bins = 50, color='red', histtype='step', label = 'no cut')\n",
    "plt.hist(tracks_selectron_fiducial_sel.energy, bins = 50, color='blue', histtype='step', label = 'fiducial')\n",
    "plt.hist(tracks_selectron_1trackfid_sel.energy, bins = 50, color='orange', histtype='step', label = '+ 1-track', linestyle='dashed')\n",
    "plt.hist(tracks_selectron_ovlp1trackfid_sel.energy, bins = 50, color='green', histtype='step', label = '+ overlap', linestyle='dashed')\n",
    "#plt.hist(tracks_selectron_ROIovlp1trackfid_sel.energy, bins = 50, color='purple', histtype='step', label = '+ ROI', linestyle='dashed')\n",
    "\n",
    "\n",
    "plt.xlabel('track energy (MeV)')\n",
    "plt.ylabel('events (a.u.)')\n",
    "plt.title('Single Electron')\n",
    "plt.legend(loc=2);\n",
    "#plt.xlim((2.,2.6))\n",
    "#plt.yscale('log')\n",
    "plt.show()"
   ]
  },
  {
   "cell_type": "code",
   "execution_count": 46,
   "metadata": {},
   "outputs": [
    {
     "data": {
      "text/plain": [
       "Text(0.5, 1.0, 'Cut efficiency')"
      ]
     },
     "execution_count": 46,
     "metadata": {},
     "output_type": "execute_result"
    },
    {
     "data": {
      "image/png": "[encoded data removed]",
      "text/plain": [
       "<Figure size 432x288 with 1 Axes>"
      ]
     },
     "metadata": {
      "needs_background": "light"
     },
     "output_type": "display_data"
    }
   ],
   "source": [
    "energybin = []\n",
    "events_energybin_notcuts_0nubb, events_energybin_notcuts_selectron= [], []\n",
    "events_energybin_fiducial_0nubb, events_energybin_fiducial_selectron= [], []\n",
    "events_energybin_all_0nubb, events_energybin_all_selectron= [], []\n",
    "\n",
    "cutefficiency_tot_0nubb, cutefficiency_tot_selectron= [], []\n",
    "cutefficiency_fiducial_0nubb, cutefficiency_fiducial_selectron= [], []\n",
    "\n",
    "nenergybin = 2.40\n",
    "steps = 0.01\n",
    "\n",
    "\n",
    "while nenergybin < 2.51:\n",
    "    energybin.append(nenergybin)\n",
    "    events_energybin_notcuts_0nubb.append(tracks_0nubb[(tracks_0nubb.energy > nenergybin) & \n",
    "                                (tracks_0nubb.energy < nenergybin+steps)].event.nunique())\n",
    "    events_energybin_fiducial_0nubb.append(tracks_0nubb_fiducial[(tracks_0nubb_fiducial.energy > nenergybin) & \n",
    "                                (tracks_0nubb_fiducial.energy < nenergybin+steps)].event.nunique())\n",
    "    events_energybin_all_0nubb.append(tracks_0nubb_ROIovlp1trackfid[(tracks_0nubb_ROIovlp1trackfid.energy > nenergybin) & \n",
    "                                (tracks_0nubb_ROIovlp1trackfid.energy < nenergybin+steps)].event.nunique())\n",
    "    events_energybin_notcuts_selectron.append(tracks_selectron[(tracks_selectron.energy > nenergybin) & \n",
    "                                (tracks_selectron.energy < nenergybin+steps)].event.nunique())\n",
    "    events_energybin_all_selectron.append(tracks_selectron_ROIovlp1trackfid[(tracks_selectron_ROIovlp1trackfid.energy > nenergybin) & \n",
    "                                (tracks_selectron_ROIovlp1trackfid.energy < nenergybin+steps)].event.nunique())\n",
    "    nenergybin = nenergybin + steps\n",
    "\n",
    "\n",
    "events_energybin_all_0nubb=np.array(events_energybin_all_0nubb, dtype=np.float)\n",
    "events_energybin_fiducial_0nubb=np.array(events_energybin_fiducial_0nubb, dtype=np.float)\n",
    "events_energybin_notcuts_0nubb=np.array(events_energybin_notcuts_0nubb, dtype=np.float)\n",
    "\n",
    "\n",
    "events_energybin_all_selectron=np.array(events_energybin_all_selectron, dtype=np.float)\n",
    "events_energybin_notcuts_selectron=np.array(events_energybin_notcuts_selectron, dtype=np.float)\n",
    "\n",
    "cutefficiency_tot_0nubb = events_energybin_all_0nubb/events_energybin_notcuts_0nubb\n",
    "cutefficiency_tot_selectron = events_energybin_all_selectron/events_energybin_notcuts_selectron\n",
    "cutefficiency_fiducial_0nubb = events_energybin_fiducial_0nubb/events_energybin_notcuts_0nubb\n",
    "\n",
    "fig, ax = plt.subplots()\n",
    "ax.plot(energybin,cutefficiency_tot_0nubb, 'bs', label='0nubb')\n",
    "ax.plot(energybin,cutefficiency_tot_selectron, 'g^', label='single electron')\n",
    "\n",
    "leg = ax.legend();\n",
    "plt.xlabel('energy in ROI (MeV)')\n",
    "plt.ylabel('cut efficiency')\n",
    "plt.title('Cut efficiency')"
   ]
  },
  {
   "cell_type": "code",
   "execution_count": 47,
   "metadata": {},
   "outputs": [
    {
     "data": {
      "text/plain": [
       "Text(0, 0.5, 'signal efficiency (0nubb)')"
      ]
     },
     "execution_count": 47,
     "metadata": {},
     "output_type": "execute_result"
    },
    {
     "data": {
      "image/png": "[encoded data removed]",
      "text/plain": [
       "<Figure size 432x288 with 1 Axes>"
      ]
     },
     "metadata": {
      "needs_background": "light"
     },
     "output_type": "display_data"
    }
   ],
   "source": [
    "fig, ax = plt.subplots()\n",
    "ax.plot(1-cutefficiency_tot_selectron,cutefficiency_tot_0nubb, 'rs')\n",
    "plt.xlabel('background rejection (1-efficiency)')\n",
    "plt.ylabel('signal efficiency (0nubb)')\n",
    "#plt.title('Cut efficiency')"
   ]
  },
  {
   "cell_type": "markdown",
   "metadata": {},
   "source": [
    "### 1 - Representing TRUE vs RECO"
   ]
  },
  {
   "cell_type": "markdown",
   "metadata": {},
   "source": [
    "Now I'm going to see if I can represent for an event the comparison between the reconstructed track and the true information from the MC simulation. "
   ]
  },
  {
   "cell_type": "markdown",
   "metadata": {},
   "source": [
    "The true information is stored in MC, more concretely inside the 'particles' group. To check the true position is going to be more complicated than to retrieve the info from a variable. I'm going to use the information from \"plot_blobs_with_true_extremes_beersheba.py\" as a baseline to construct the true information. I'll start with 0nubb, and I'll extrapolate the information to SE later on. "
   ]
  },
  {
   "cell_type": "code",
   "execution_count": 49,
   "metadata": {},
   "outputs": [
    {
     "data": {
      "text/plain": [
       "Index(['event_id', 'particle_id', 'particle_name', 'primary', 'mother_id',\n",
       "       'initial_x', 'initial_y', 'initial_z', 'initial_t', 'final_x',\n",
       "       'final_y', 'final_z', 'final_t', 'initial_volume', 'final_volume',\n",
       "       'initial_momentum_x', 'initial_momentum_y', 'initial_momentum_z',\n",
       "       'final_momentum_x', 'final_momentum_y', 'final_momentum_z',\n",
       "       'kin_energy', 'length', 'creator_proc', 'final_proc'],\n",
       "      dtype='object')"
      ]
     },
     "execution_count": 49,
     "metadata": {},
     "output_type": "execute_result"
    }
   ],
   "source": [
    "#0nubb files\n",
    "true_list_0nubb = []\n",
    "filepath_0nubb_true = filepath+'0nubb/hits/'\n",
    "\n",
    "#loop over all the files, to read 'HITS' information\n",
    "for nfile in range(1,max0nubbf):\n",
    "    \n",
    "    filename_0nubb_true = filepath_0nubb_true+f'next100.0nubb.{nfile}.deconv.h5'\n",
    "\n",
    "    try:\n",
    "        readfile_true_0nubb = pd.read_hdf(filename_0nubb_true, 'MC/particles')\n",
    "    except:\n",
    "        print('File {} not good'.format(filename_0nubb_true))\n",
    "        continue\n",
    "        \n",
    "    true_list_0nubb.append(readfile_true_0nubb)\n",
    "    \n",
    "#'concat' command means: 'concatenate pandas objects along a particular \n",
    "# axis with optional set logic along the other axes.' -> following line \n",
    "# is needed to keep an order between the files\n",
    "\n",
    "true_0nubb = pd.concat([dt for dt in true_list_0nubb]) \n",
    "true_0nubb.columns  "
   ]
  },
  {
   "cell_type": "markdown",
   "metadata": {},
   "source": [
    "Inside of MC/particles you can find all the information about the created partiles. Right now, I need to check the primary particles created in the simulation: the two electrons. To do so, I need to check the information about the 'primary' variable"
   ]
  },
  {
   "cell_type": "code",
   "execution_count": 50,
   "metadata": {},
   "outputs": [
    {
     "data": {
      "text/html": [
       "<div>\n",
       "<style scoped>\n",
       "    .dataframe tbody tr th:only-of-type {\n",
       "        vertical-align: middle;\n",
       "    }\n",
       "\n",
       "    .dataframe tbody tr th {\n",
       "        vertical-align: top;\n",
       "    }\n",
       "\n",
       "    .dataframe thead th {\n",
       "        text-align: right;\n",
       "    }\n",
       "</style>\n",
       "<table border=\"1\" class=\"dataframe\">\n",
       "  <thead>\n",
       "    <tr style=\"text-align: right;\">\n",
       "      <th></th>\n",
       "      <th>event_id</th>\n",
       "      <th>particle_id</th>\n",
       "      <th>particle_name</th>\n",
       "      <th>primary</th>\n",
       "      <th>mother_id</th>\n",
       "      <th>initial_x</th>\n",
       "      <th>initial_y</th>\n",
       "      <th>initial_z</th>\n",
       "      <th>initial_t</th>\n",
       "      <th>final_x</th>\n",
       "      <th>...</th>\n",
       "      <th>initial_momentum_x</th>\n",
       "      <th>initial_momentum_y</th>\n",
       "      <th>initial_momentum_z</th>\n",
       "      <th>final_momentum_x</th>\n",
       "      <th>final_momentum_y</th>\n",
       "      <th>final_momentum_z</th>\n",
       "      <th>kin_energy</th>\n",
       "      <th>length</th>\n",
       "      <th>creator_proc</th>\n",
       "      <th>final_proc</th>\n",
       "    </tr>\n",
       "  </thead>\n",
       "  <tbody>\n",
       "    <tr>\n",
       "      <th>9</th>\n",
       "      <td>0</td>\n",
       "      <td>2</td>\n",
       "      <td>e-</td>\n",
       "      <td>True</td>\n",
       "      <td>0</td>\n",
       "      <td>-239.914810</td>\n",
       "      <td>-238.046280</td>\n",
       "      <td>316.365936</td>\n",
       "      <td>0.0</td>\n",
       "      <td>-200.825760</td>\n",
       "      <td>...</td>\n",
       "      <td>2.549860</td>\n",
       "      <td>0.109969</td>\n",
       "      <td>0.684162</td>\n",
       "      <td>0.0</td>\n",
       "      <td>0.0</td>\n",
       "      <td>-0.0</td>\n",
       "      <td>2.180298</td>\n",
       "      <td>235.106247</td>\n",
       "      <td>none</td>\n",
       "      <td>Scintillation</td>\n",
       "    </tr>\n",
       "    <tr>\n",
       "      <th>10</th>\n",
       "      <td>0</td>\n",
       "      <td>1</td>\n",
       "      <td>e-</td>\n",
       "      <td>True</td>\n",
       "      <td>0</td>\n",
       "      <td>-239.914810</td>\n",
       "      <td>-238.046280</td>\n",
       "      <td>316.365936</td>\n",
       "      <td>0.0</td>\n",
       "      <td>-240.744125</td>\n",
       "      <td>...</td>\n",
       "      <td>-0.013486</td>\n",
       "      <td>-0.226322</td>\n",
       "      <td>-0.556109</td>\n",
       "      <td>-0.0</td>\n",
       "      <td>0.0</td>\n",
       "      <td>-0.0</td>\n",
       "      <td>0.277532</td>\n",
       "      <td>17.443966</td>\n",
       "      <td>none</td>\n",
       "      <td>Scintillation</td>\n",
       "    </tr>\n",
       "    <tr>\n",
       "      <th>14</th>\n",
       "      <td>1</td>\n",
       "      <td>2</td>\n",
       "      <td>e-</td>\n",
       "      <td>True</td>\n",
       "      <td>0</td>\n",
       "      <td>452.146729</td>\n",
       "      <td>-166.560150</td>\n",
       "      <td>96.130058</td>\n",
       "      <td>0.0</td>\n",
       "      <td>457.095093</td>\n",
       "      <td>...</td>\n",
       "      <td>-0.406067</td>\n",
       "      <td>1.022711</td>\n",
       "      <td>0.653254</td>\n",
       "      <td>-0.0</td>\n",
       "      <td>-0.0</td>\n",
       "      <td>0.0</td>\n",
       "      <td>0.866930</td>\n",
       "      <td>63.153664</td>\n",
       "      <td>none</td>\n",
       "      <td>Scintillation</td>\n",
       "    </tr>\n",
       "    <tr>\n",
       "      <th>16</th>\n",
       "      <td>1</td>\n",
       "      <td>1</td>\n",
       "      <td>e-</td>\n",
       "      <td>True</td>\n",
       "      <td>0</td>\n",
       "      <td>452.146729</td>\n",
       "      <td>-166.560150</td>\n",
       "      <td>96.130058</td>\n",
       "      <td>0.0</td>\n",
       "      <td>469.336273</td>\n",
       "      <td>...</td>\n",
       "      <td>-0.455509</td>\n",
       "      <td>0.328598</td>\n",
       "      <td>-1.959947</td>\n",
       "      <td>-0.0</td>\n",
       "      <td>0.0</td>\n",
       "      <td>0.0</td>\n",
       "      <td>1.590900</td>\n",
       "      <td>56.679573</td>\n",
       "      <td>none</td>\n",
       "      <td>Scintillation</td>\n",
       "    </tr>\n",
       "    <tr>\n",
       "      <th>19</th>\n",
       "      <td>2</td>\n",
       "      <td>2</td>\n",
       "      <td>e-</td>\n",
       "      <td>True</td>\n",
       "      <td>0</td>\n",
       "      <td>157.780060</td>\n",
       "      <td>-127.197853</td>\n",
       "      <td>787.558777</td>\n",
       "      <td>0.0</td>\n",
       "      <td>165.998825</td>\n",
       "      <td>...</td>\n",
       "      <td>-0.259671</td>\n",
       "      <td>1.266991</td>\n",
       "      <td>-0.398611</td>\n",
       "      <td>0.0</td>\n",
       "      <td>0.0</td>\n",
       "      <td>0.0</td>\n",
       "      <td>0.935620</td>\n",
       "      <td>58.765797</td>\n",
       "      <td>none</td>\n",
       "      <td>Scintillation</td>\n",
       "    </tr>\n",
       "    <tr>\n",
       "      <th>...</th>\n",
       "      <td>...</td>\n",
       "      <td>...</td>\n",
       "      <td>...</td>\n",
       "      <td>...</td>\n",
       "      <td>...</td>\n",
       "      <td>...</td>\n",
       "      <td>...</td>\n",
       "      <td>...</td>\n",
       "      <td>...</td>\n",
       "      <td>...</td>\n",
       "      <td>...</td>\n",
       "      <td>...</td>\n",
       "      <td>...</td>\n",
       "      <td>...</td>\n",
       "      <td>...</td>\n",
       "      <td>...</td>\n",
       "      <td>...</td>\n",
       "      <td>...</td>\n",
       "      <td>...</td>\n",
       "      <td>...</td>\n",
       "      <td>...</td>\n",
       "    </tr>\n",
       "    <tr>\n",
       "      <th>223</th>\n",
       "      <td>9977</td>\n",
       "      <td>1</td>\n",
       "      <td>e-</td>\n",
       "      <td>True</td>\n",
       "      <td>0</td>\n",
       "      <td>86.457176</td>\n",
       "      <td>212.692535</td>\n",
       "      <td>616.078308</td>\n",
       "      <td>0.0</td>\n",
       "      <td>83.176163</td>\n",
       "      <td>...</td>\n",
       "      <td>0.299439</td>\n",
       "      <td>-0.555810</td>\n",
       "      <td>-0.178559</td>\n",
       "      <td>0.0</td>\n",
       "      <td>-0.0</td>\n",
       "      <td>0.0</td>\n",
       "      <td>0.320621</td>\n",
       "      <td>22.073187</td>\n",
       "      <td>none</td>\n",
       "      <td>Scintillation</td>\n",
       "    </tr>\n",
       "    <tr>\n",
       "      <th>259</th>\n",
       "      <td>9978</td>\n",
       "      <td>2</td>\n",
       "      <td>e-</td>\n",
       "      <td>True</td>\n",
       "      <td>0</td>\n",
       "      <td>-132.795700</td>\n",
       "      <td>-376.634216</td>\n",
       "      <td>468.702148</td>\n",
       "      <td>0.0</td>\n",
       "      <td>-122.611801</td>\n",
       "      <td>...</td>\n",
       "      <td>0.832997</td>\n",
       "      <td>-0.515719</td>\n",
       "      <td>2.435654</td>\n",
       "      <td>0.0</td>\n",
       "      <td>0.0</td>\n",
       "      <td>0.0</td>\n",
       "      <td>2.163582</td>\n",
       "      <td>155.077499</td>\n",
       "      <td>none</td>\n",
       "      <td>Scintillation</td>\n",
       "    </tr>\n",
       "    <tr>\n",
       "      <th>260</th>\n",
       "      <td>9978</td>\n",
       "      <td>1</td>\n",
       "      <td>e-</td>\n",
       "      <td>True</td>\n",
       "      <td>0</td>\n",
       "      <td>-132.795700</td>\n",
       "      <td>-376.634216</td>\n",
       "      <td>468.702148</td>\n",
       "      <td>0.0</td>\n",
       "      <td>-132.453995</td>\n",
       "      <td>...</td>\n",
       "      <td>0.608110</td>\n",
       "      <td>-0.092649</td>\n",
       "      <td>0.094456</td>\n",
       "      <td>0.0</td>\n",
       "      <td>0.0</td>\n",
       "      <td>0.0</td>\n",
       "      <td>0.294248</td>\n",
       "      <td>19.843086</td>\n",
       "      <td>none</td>\n",
       "      <td>Scintillation</td>\n",
       "    </tr>\n",
       "    <tr>\n",
       "      <th>294</th>\n",
       "      <td>9979</td>\n",
       "      <td>2</td>\n",
       "      <td>e-</td>\n",
       "      <td>True</td>\n",
       "      <td>0</td>\n",
       "      <td>-183.630951</td>\n",
       "      <td>2.984318</td>\n",
       "      <td>860.086365</td>\n",
       "      <td>0.0</td>\n",
       "      <td>-171.902847</td>\n",
       "      <td>...</td>\n",
       "      <td>0.471986</td>\n",
       "      <td>0.953077</td>\n",
       "      <td>0.835562</td>\n",
       "      <td>-0.0</td>\n",
       "      <td>-0.0</td>\n",
       "      <td>0.0</td>\n",
       "      <td>0.934827</td>\n",
       "      <td>77.938103</td>\n",
       "      <td>none</td>\n",
       "      <td>Scintillation</td>\n",
       "    </tr>\n",
       "    <tr>\n",
       "      <th>297</th>\n",
       "      <td>9979</td>\n",
       "      <td>1</td>\n",
       "      <td>e-</td>\n",
       "      <td>True</td>\n",
       "      <td>0</td>\n",
       "      <td>-183.630951</td>\n",
       "      <td>2.984318</td>\n",
       "      <td>860.086365</td>\n",
       "      <td>0.0</td>\n",
       "      <td>-241.135818</td>\n",
       "      <td>...</td>\n",
       "      <td>-1.673994</td>\n",
       "      <td>-0.850358</td>\n",
       "      <td>-0.592184</td>\n",
       "      <td>-0.0</td>\n",
       "      <td>-0.0</td>\n",
       "      <td>0.0</td>\n",
       "      <td>1.523003</td>\n",
       "      <td>156.851212</td>\n",
       "      <td>none</td>\n",
       "      <td>Scintillation</td>\n",
       "    </tr>\n",
       "  </tbody>\n",
       "</table>\n",
       "<p>19598 rows × 25 columns</p>\n",
       "</div>"
      ],
      "text/plain": [
       "     event_id  particle_id particle_name  primary  mother_id   initial_x  \\\n",
       "9           0            2            e-     True          0 -239.914810   \n",
       "10          0            1            e-     True          0 -239.914810   \n",
       "14          1            2            e-     True          0  452.146729   \n",
       "16          1            1            e-     True          0  452.146729   \n",
       "19          2            2            e-     True          0  157.780060   \n",
       "..        ...          ...           ...      ...        ...         ...   \n",
       "223      9977            1            e-     True          0   86.457176   \n",
       "259      9978            2            e-     True          0 -132.795700   \n",
       "260      9978            1            e-     True          0 -132.795700   \n",
       "294      9979            2            e-     True          0 -183.630951   \n",
       "297      9979            1            e-     True          0 -183.630951   \n",
       "\n",
       "      initial_y   initial_z  initial_t     final_x  ...  initial_momentum_x  \\\n",
       "9   -238.046280  316.365936        0.0 -200.825760  ...            2.549860   \n",
       "10  -238.046280  316.365936        0.0 -240.744125  ...           -0.013486   \n",
       "14  -166.560150   96.130058        0.0  457.095093  ...           -0.406067   \n",
       "16  -166.560150   96.130058        0.0  469.336273  ...           -0.455509   \n",
       "19  -127.197853  787.558777        0.0  165.998825  ...           -0.259671   \n",
       "..          ...         ...        ...         ...  ...                 ...   \n",
       "223  212.692535  616.078308        0.0   83.176163  ...            0.299439   \n",
       "259 -376.634216  468.702148        0.0 -122.611801  ...            0.832997   \n",
       "260 -376.634216  468.702148        0.0 -132.453995  ...            0.608110   \n",
       "294    2.984318  860.086365        0.0 -171.902847  ...            0.471986   \n",
       "297    2.984318  860.086365        0.0 -241.135818  ...           -1.673994   \n",
       "\n",
       "     initial_momentum_y  initial_momentum_z final_momentum_x final_momentum_y  \\\n",
       "9              0.109969            0.684162              0.0              0.0   \n",
       "10            -0.226322           -0.556109             -0.0              0.0   \n",
       "14             1.022711            0.653254             -0.0             -0.0   \n",
       "16             0.328598           -1.959947             -0.0              0.0   \n",
       "19             1.266991           -0.398611              0.0              0.0   \n",
       "..                  ...                 ...              ...              ...   \n",
       "223           -0.555810           -0.178559              0.0             -0.0   \n",
       "259           -0.515719            2.435654              0.0              0.0   \n",
       "260           -0.092649            0.094456              0.0              0.0   \n",
       "294            0.953077            0.835562             -0.0             -0.0   \n",
       "297           -0.850358           -0.592184             -0.0             -0.0   \n",
       "\n",
       "     final_momentum_z  kin_energy      length  creator_proc     final_proc  \n",
       "9                -0.0    2.180298  235.106247          none  Scintillation  \n",
       "10               -0.0    0.277532   17.443966          none  Scintillation  \n",
       "14                0.0    0.866930   63.153664          none  Scintillation  \n",
       "16                0.0    1.590900   56.679573          none  Scintillation  \n",
       "19                0.0    0.935620   58.765797          none  Scintillation  \n",
       "..                ...         ...         ...           ...            ...  \n",
       "223               0.0    0.320621   22.073187          none  Scintillation  \n",
       "259               0.0    2.163582  155.077499          none  Scintillation  \n",
       "260               0.0    0.294248   19.843086          none  Scintillation  \n",
       "294               0.0    0.934827   77.938103          none  Scintillation  \n",
       "297               0.0    1.523003  156.851212          none  Scintillation  \n",
       "\n",
       "[19598 rows x 25 columns]"
      ]
     },
     "execution_count": 50,
     "metadata": {},
     "output_type": "execute_result"
    }
   ],
   "source": [
    "true_0nubb_primary = true_0nubb[true_0nubb.primary == True]\n",
    "true_0nubb_primary"
   ]
  },
  {
   "cell_type": "markdown",
   "metadata": {},
   "source": [
    "The primary particles are separated by 'particle_id' 1 and 2, and this information will allow us to differenciate between blob1 and/or 2. "
   ]
  },
  {
   "cell_type": "code",
   "execution_count": 51,
   "metadata": {},
   "outputs": [],
   "source": [
    "true_0nubb_primary_part1 = true_0nubb_primary[true_0nubb_primary.particle_id == 1]\n",
    "true_0nubb_primary_part2 = true_0nubb_primary[true_0nubb_primary.particle_id == 2]"
   ]
  },
  {
   "cell_type": "code",
   "execution_count": 52,
   "metadata": {},
   "outputs": [
    {
     "data": {
      "text/html": [
       "<div>\n",
       "<style scoped>\n",
       "    .dataframe tbody tr th:only-of-type {\n",
       "        vertical-align: middle;\n",
       "    }\n",
       "\n",
       "    .dataframe tbody tr th {\n",
       "        vertical-align: top;\n",
       "    }\n",
       "\n",
       "    .dataframe thead th {\n",
       "        text-align: right;\n",
       "    }\n",
       "</style>\n",
       "<table border=\"1\" class=\"dataframe\">\n",
       "  <thead>\n",
       "    <tr style=\"text-align: right;\">\n",
       "      <th></th>\n",
       "      <th>event_id</th>\n",
       "      <th>particle_id</th>\n",
       "      <th>particle_name</th>\n",
       "      <th>primary</th>\n",
       "      <th>mother_id</th>\n",
       "      <th>initial_x</th>\n",
       "      <th>initial_y</th>\n",
       "      <th>initial_z</th>\n",
       "      <th>initial_t</th>\n",
       "      <th>final_x</th>\n",
       "      <th>...</th>\n",
       "      <th>initial_momentum_x</th>\n",
       "      <th>initial_momentum_y</th>\n",
       "      <th>initial_momentum_z</th>\n",
       "      <th>final_momentum_x</th>\n",
       "      <th>final_momentum_y</th>\n",
       "      <th>final_momentum_z</th>\n",
       "      <th>kin_energy</th>\n",
       "      <th>length</th>\n",
       "      <th>creator_proc</th>\n",
       "      <th>final_proc</th>\n",
       "    </tr>\n",
       "  </thead>\n",
       "  <tbody>\n",
       "    <tr>\n",
       "      <th>0</th>\n",
       "      <td>0</td>\n",
       "      <td>14743383</td>\n",
       "      <td>gamma</td>\n",
       "      <td>False</td>\n",
       "      <td>2</td>\n",
       "      <td>-198.271820</td>\n",
       "      <td>-256.607605</td>\n",
       "      <td>311.145691</td>\n",
       "      <td>0.218630</td>\n",
       "      <td>-198.084488</td>\n",
       "      <td>...</td>\n",
       "      <td>0.003226</td>\n",
       "      <td>-0.001909</td>\n",
       "      <td>-0.001354</td>\n",
       "      <td>0.0</td>\n",
       "      <td>-0.0</td>\n",
       "      <td>-0.0</td>\n",
       "      <td>0.003986</td>\n",
       "      <td>0.231452</td>\n",
       "      <td>eBrem</td>\n",
       "      <td>phot</td>\n",
       "    </tr>\n",
       "    <tr>\n",
       "      <th>1</th>\n",
       "      <td>0</td>\n",
       "      <td>14854918</td>\n",
       "      <td>e-</td>\n",
       "      <td>False</td>\n",
       "      <td>14743383</td>\n",
       "      <td>-198.084488</td>\n",
       "      <td>-256.718475</td>\n",
       "      <td>311.067047</td>\n",
       "      <td>0.219402</td>\n",
       "      <td>-198.084457</td>\n",
       "      <td>...</td>\n",
       "      <td>0.006188</td>\n",
       "      <td>0.003036</td>\n",
       "      <td>0.001210</td>\n",
       "      <td>-0.0</td>\n",
       "      <td>0.0</td>\n",
       "      <td>0.0</td>\n",
       "      <td>0.000048</td>\n",
       "      <td>0.000024</td>\n",
       "      <td>phot</td>\n",
       "      <td>Scintillation</td>\n",
       "    </tr>\n",
       "    <tr>\n",
       "      <th>2</th>\n",
       "      <td>0</td>\n",
       "      <td>14854917</td>\n",
       "      <td>e-</td>\n",
       "      <td>False</td>\n",
       "      <td>14743383</td>\n",
       "      <td>-198.084488</td>\n",
       "      <td>-256.718475</td>\n",
       "      <td>311.067047</td>\n",
       "      <td>0.219402</td>\n",
       "      <td>-198.084488</td>\n",
       "      <td>...</td>\n",
       "      <td>-0.001329</td>\n",
       "      <td>0.006434</td>\n",
       "      <td>0.002097</td>\n",
       "      <td>-0.0</td>\n",
       "      <td>-0.0</td>\n",
       "      <td>-0.0</td>\n",
       "      <td>0.000047</td>\n",
       "      <td>0.000050</td>\n",
       "      <td>phot</td>\n",
       "      <td>Scintillation</td>\n",
       "    </tr>\n",
       "    <tr>\n",
       "      <th>3</th>\n",
       "      <td>0</td>\n",
       "      <td>14854916</td>\n",
       "      <td>e-</td>\n",
       "      <td>False</td>\n",
       "      <td>14743383</td>\n",
       "      <td>-198.084488</td>\n",
       "      <td>-256.718475</td>\n",
       "      <td>311.067047</td>\n",
       "      <td>0.219402</td>\n",
       "      <td>-198.084488</td>\n",
       "      <td>...</td>\n",
       "      <td>-0.000592</td>\n",
       "      <td>-0.006582</td>\n",
       "      <td>-0.001970</td>\n",
       "      <td>0.0</td>\n",
       "      <td>0.0</td>\n",
       "      <td>0.0</td>\n",
       "      <td>0.000047</td>\n",
       "      <td>0.000024</td>\n",
       "      <td>phot</td>\n",
       "      <td>Scintillation</td>\n",
       "    </tr>\n",
       "    <tr>\n",
       "      <th>4</th>\n",
       "      <td>0</td>\n",
       "      <td>14854915</td>\n",
       "      <td>e-</td>\n",
       "      <td>False</td>\n",
       "      <td>14743383</td>\n",
       "      <td>-198.084488</td>\n",
       "      <td>-256.718475</td>\n",
       "      <td>311.067047</td>\n",
       "      <td>0.219402</td>\n",
       "      <td>-198.084656</td>\n",
       "      <td>...</td>\n",
       "      <td>-0.015960</td>\n",
       "      <td>0.015451</td>\n",
       "      <td>0.008377</td>\n",
       "      <td>-0.0</td>\n",
       "      <td>-0.0</td>\n",
       "      <td>-0.0</td>\n",
       "      <td>0.000551</td>\n",
       "      <td>0.000985</td>\n",
       "      <td>phot</td>\n",
       "      <td>Scintillation</td>\n",
       "    </tr>\n",
       "    <tr>\n",
       "      <th>5</th>\n",
       "      <td>0</td>\n",
       "      <td>14854914</td>\n",
       "      <td>e-</td>\n",
       "      <td>False</td>\n",
       "      <td>14743383</td>\n",
       "      <td>-198.084488</td>\n",
       "      <td>-256.718475</td>\n",
       "      <td>311.067047</td>\n",
       "      <td>0.219402</td>\n",
       "      <td>-198.084427</td>\n",
       "      <td>...</td>\n",
       "      <td>0.007276</td>\n",
       "      <td>0.001941</td>\n",
       "      <td>0.010619</td>\n",
       "      <td>0.0</td>\n",
       "      <td>0.0</td>\n",
       "      <td>0.0</td>\n",
       "      <td>0.000166</td>\n",
       "      <td>0.000317</td>\n",
       "      <td>phot</td>\n",
       "      <td>Scintillation</td>\n",
       "    </tr>\n",
       "    <tr>\n",
       "      <th>6</th>\n",
       "      <td>0</td>\n",
       "      <td>14854913</td>\n",
       "      <td>e-</td>\n",
       "      <td>False</td>\n",
       "      <td>14743383</td>\n",
       "      <td>-198.084488</td>\n",
       "      <td>-256.718475</td>\n",
       "      <td>311.067047</td>\n",
       "      <td>0.219402</td>\n",
       "      <td>-198.085205</td>\n",
       "      <td>...</td>\n",
       "      <td>-0.038018</td>\n",
       "      <td>-0.038454</td>\n",
       "      <td>-0.014558</td>\n",
       "      <td>0.0</td>\n",
       "      <td>0.0</td>\n",
       "      <td>0.0</td>\n",
       "      <td>0.003059</td>\n",
       "      <td>0.013139</td>\n",
       "      <td>phot</td>\n",
       "      <td>Scintillation</td>\n",
       "    </tr>\n",
       "    <tr>\n",
       "      <th>7</th>\n",
       "      <td>0</td>\n",
       "      <td>29046889</td>\n",
       "      <td>e-</td>\n",
       "      <td>False</td>\n",
       "      <td>2</td>\n",
       "      <td>-196.871140</td>\n",
       "      <td>-288.876251</td>\n",
       "      <td>321.973602</td>\n",
       "      <td>0.430943</td>\n",
       "      <td>-197.021393</td>\n",
       "      <td>...</td>\n",
       "      <td>-0.211537</td>\n",
       "      <td>-0.017156</td>\n",
       "      <td>0.079031</td>\n",
       "      <td>-0.0</td>\n",
       "      <td>0.0</td>\n",
       "      <td>0.0</td>\n",
       "      <td>0.047936</td>\n",
       "      <td>1.375517</td>\n",
       "      <td>eIoni</td>\n",
       "      <td>Scintillation</td>\n",
       "    </tr>\n",
       "    <tr>\n",
       "      <th>8</th>\n",
       "      <td>0</td>\n",
       "      <td>56290415</td>\n",
       "      <td>e-</td>\n",
       "      <td>False</td>\n",
       "      <td>2</td>\n",
       "      <td>-199.225845</td>\n",
       "      <td>-347.134033</td>\n",
       "      <td>334.436646</td>\n",
       "      <td>0.793654</td>\n",
       "      <td>-199.606995</td>\n",
       "      <td>...</td>\n",
       "      <td>0.204526</td>\n",
       "      <td>0.016255</td>\n",
       "      <td>-0.331930</td>\n",
       "      <td>0.0</td>\n",
       "      <td>-0.0</td>\n",
       "      <td>-0.0</td>\n",
       "      <td>0.131957</td>\n",
       "      <td>5.372118</td>\n",
       "      <td>eIoni</td>\n",
       "      <td>Scintillation</td>\n",
       "    </tr>\n",
       "    <tr>\n",
       "      <th>9</th>\n",
       "      <td>0</td>\n",
       "      <td>2</td>\n",
       "      <td>e-</td>\n",
       "      <td>True</td>\n",
       "      <td>0</td>\n",
       "      <td>-239.914810</td>\n",
       "      <td>-238.046280</td>\n",
       "      <td>316.365936</td>\n",
       "      <td>0.000000</td>\n",
       "      <td>-200.825760</td>\n",
       "      <td>...</td>\n",
       "      <td>2.549860</td>\n",
       "      <td>0.109969</td>\n",
       "      <td>0.684162</td>\n",
       "      <td>0.0</td>\n",
       "      <td>0.0</td>\n",
       "      <td>-0.0</td>\n",
       "      <td>2.180298</td>\n",
       "      <td>235.106247</td>\n",
       "      <td>none</td>\n",
       "      <td>Scintillation</td>\n",
       "    </tr>\n",
       "    <tr>\n",
       "      <th>10</th>\n",
       "      <td>0</td>\n",
       "      <td>1</td>\n",
       "      <td>e-</td>\n",
       "      <td>True</td>\n",
       "      <td>0</td>\n",
       "      <td>-239.914810</td>\n",
       "      <td>-238.046280</td>\n",
       "      <td>316.365936</td>\n",
       "      <td>0.000000</td>\n",
       "      <td>-240.744125</td>\n",
       "      <td>...</td>\n",
       "      <td>-0.013486</td>\n",
       "      <td>-0.226322</td>\n",
       "      <td>-0.556109</td>\n",
       "      <td>-0.0</td>\n",
       "      <td>0.0</td>\n",
       "      <td>-0.0</td>\n",
       "      <td>0.277532</td>\n",
       "      <td>17.443966</td>\n",
       "      <td>none</td>\n",
       "      <td>Scintillation</td>\n",
       "    </tr>\n",
       "  </tbody>\n",
       "</table>\n",
       "<p>11 rows × 25 columns</p>\n",
       "</div>"
      ],
      "text/plain": [
       "    event_id  particle_id particle_name  primary  mother_id   initial_x  \\\n",
       "0          0     14743383         gamma    False          2 -198.271820   \n",
       "1          0     14854918            e-    False   14743383 -198.084488   \n",
       "2          0     14854917            e-    False   14743383 -198.084488   \n",
       "3          0     14854916            e-    False   14743383 -198.084488   \n",
       "4          0     14854915            e-    False   14743383 -198.084488   \n",
       "5          0     14854914            e-    False   14743383 -198.084488   \n",
       "6          0     14854913            e-    False   14743383 -198.084488   \n",
       "7          0     29046889            e-    False          2 -196.871140   \n",
       "8          0     56290415            e-    False          2 -199.225845   \n",
       "9          0            2            e-     True          0 -239.914810   \n",
       "10         0            1            e-     True          0 -239.914810   \n",
       "\n",
       "     initial_y   initial_z  initial_t     final_x  ...  initial_momentum_x  \\\n",
       "0  -256.607605  311.145691   0.218630 -198.084488  ...            0.003226   \n",
       "1  -256.718475  311.067047   0.219402 -198.084457  ...            0.006188   \n",
       "2  -256.718475  311.067047   0.219402 -198.084488  ...           -0.001329   \n",
       "3  -256.718475  311.067047   0.219402 -198.084488  ...           -0.000592   \n",
       "4  -256.718475  311.067047   0.219402 -198.084656  ...           -0.015960   \n",
       "5  -256.718475  311.067047   0.219402 -198.084427  ...            0.007276   \n",
       "6  -256.718475  311.067047   0.219402 -198.085205  ...           -0.038018   \n",
       "7  -288.876251  321.973602   0.430943 -197.021393  ...           -0.211537   \n",
       "8  -347.134033  334.436646   0.793654 -199.606995  ...            0.204526   \n",
       "9  -238.046280  316.365936   0.000000 -200.825760  ...            2.549860   \n",
       "10 -238.046280  316.365936   0.000000 -240.744125  ...           -0.013486   \n",
       "\n",
       "    initial_momentum_y  initial_momentum_z final_momentum_x final_momentum_y  \\\n",
       "0            -0.001909           -0.001354              0.0             -0.0   \n",
       "1             0.003036            0.001210             -0.0              0.0   \n",
       "2             0.006434            0.002097             -0.0             -0.0   \n",
       "3            -0.006582           -0.001970              0.0              0.0   \n",
       "4             0.015451            0.008377             -0.0             -0.0   \n",
       "5             0.001941            0.010619              0.0              0.0   \n",
       "6            -0.038454           -0.014558              0.0              0.0   \n",
       "7            -0.017156            0.079031             -0.0              0.0   \n",
       "8             0.016255           -0.331930              0.0             -0.0   \n",
       "9             0.109969            0.684162              0.0              0.0   \n",
       "10           -0.226322           -0.556109             -0.0              0.0   \n",
       "\n",
       "    final_momentum_z  kin_energy      length  creator_proc     final_proc  \n",
       "0               -0.0    0.003986    0.231452         eBrem           phot  \n",
       "1                0.0    0.000048    0.000024          phot  Scintillation  \n",
       "2               -0.0    0.000047    0.000050          phot  Scintillation  \n",
       "3                0.0    0.000047    0.000024          phot  Scintillation  \n",
       "4               -0.0    0.000551    0.000985          phot  Scintillation  \n",
       "5                0.0    0.000166    0.000317          phot  Scintillation  \n",
       "6                0.0    0.003059    0.013139          phot  Scintillation  \n",
       "7                0.0    0.047936    1.375517         eIoni  Scintillation  \n",
       "8               -0.0    0.131957    5.372118         eIoni  Scintillation  \n",
       "9               -0.0    2.180298  235.106247          none  Scintillation  \n",
       "10              -0.0    0.277532   17.443966          none  Scintillation  \n",
       "\n",
       "[11 rows x 25 columns]"
      ]
     },
     "execution_count": 52,
     "metadata": {},
     "output_type": "execute_result"
    }
   ],
   "source": [
    "true_0nubb_event0 = true_0nubb[true_0nubb.event_id == 0]\n",
    "true_0nubb_event0"
   ]
  },
  {
   "cell_type": "code",
   "execution_count": 53,
   "metadata": {},
   "outputs": [
    {
     "data": {
      "text/html": [
       "<div>\n",
       "<style scoped>\n",
       "    .dataframe tbody tr th:only-of-type {\n",
       "        vertical-align: middle;\n",
       "    }\n",
       "\n",
       "    .dataframe tbody tr th {\n",
       "        vertical-align: top;\n",
       "    }\n",
       "\n",
       "    .dataframe thead th {\n",
       "        text-align: right;\n",
       "    }\n",
       "</style>\n",
       "<table border=\"1\" class=\"dataframe\">\n",
       "  <thead>\n",
       "    <tr style=\"text-align: right;\">\n",
       "      <th></th>\n",
       "      <th>event</th>\n",
       "      <th>trackID</th>\n",
       "      <th>energy</th>\n",
       "      <th>length</th>\n",
       "      <th>numb_of_voxels</th>\n",
       "      <th>numb_of_hits</th>\n",
       "      <th>numb_of_tracks</th>\n",
       "      <th>x_min</th>\n",
       "      <th>y_min</th>\n",
       "      <th>z_min</th>\n",
       "      <th>...</th>\n",
       "      <th>blob1_z</th>\n",
       "      <th>blob2_x</th>\n",
       "      <th>blob2_y</th>\n",
       "      <th>blob2_z</th>\n",
       "      <th>eblob1</th>\n",
       "      <th>eblob2</th>\n",
       "      <th>ovlp_blob_energy</th>\n",
       "      <th>vox_size_x</th>\n",
       "      <th>vox_size_y</th>\n",
       "      <th>vox_size_z</th>\n",
       "    </tr>\n",
       "  </thead>\n",
       "  <tbody>\n",
       "    <tr>\n",
       "      <th>0</th>\n",
       "      <td>0</td>\n",
       "      <td>0</td>\n",
       "      <td>2.475255</td>\n",
       "      <td>181.735827</td>\n",
       "      <td>749</td>\n",
       "      <td>27129</td>\n",
       "      <td>4</td>\n",
       "      <td>-260.325</td>\n",
       "      <td>-367.325</td>\n",
       "      <td>308.425500</td>\n",
       "      <td>...</td>\n",
       "      <td>314.396747</td>\n",
       "      <td>-214.100000</td>\n",
       "      <td>-361.825000</td>\n",
       "      <td>337.565699</td>\n",
       "      <td>0.227648</td>\n",
       "      <td>0.182474</td>\n",
       "      <td>0.0</td>\n",
       "      <td>4.923077</td>\n",
       "      <td>4.923077</td>\n",
       "      <td>4.904922</td>\n",
       "    </tr>\n",
       "    <tr>\n",
       "      <th>0</th>\n",
       "      <td>2</td>\n",
       "      <td>0</td>\n",
       "      <td>2.445390</td>\n",
       "      <td>102.508851</td>\n",
       "      <td>706</td>\n",
       "      <td>25340</td>\n",
       "      <td>1</td>\n",
       "      <td>99.675</td>\n",
       "      <td>-144.325</td>\n",
       "      <td>782.350812</td>\n",
       "      <td>...</td>\n",
       "      <td>822.029262</td>\n",
       "      <td>165.328846</td>\n",
       "      <td>-134.075000</td>\n",
       "      <td>788.508176</td>\n",
       "      <td>0.648963</td>\n",
       "      <td>0.400354</td>\n",
       "      <td>0.0</td>\n",
       "      <td>4.833333</td>\n",
       "      <td>4.818182</td>\n",
       "      <td>4.940760</td>\n",
       "    </tr>\n",
       "    <tr>\n",
       "      <th>0</th>\n",
       "      <td>4</td>\n",
       "      <td>0</td>\n",
       "      <td>2.489407</td>\n",
       "      <td>132.888310</td>\n",
       "      <td>792</td>\n",
       "      <td>26427</td>\n",
       "      <td>2</td>\n",
       "      <td>-449.325</td>\n",
       "      <td>-77.325</td>\n",
       "      <td>641.252813</td>\n",
       "      <td>...</td>\n",
       "      <td>651.406180</td>\n",
       "      <td>-423.450000</td>\n",
       "      <td>-61.930263</td>\n",
       "      <td>704.801052</td>\n",
       "      <td>0.716692</td>\n",
       "      <td>0.599030</td>\n",
       "      <td>0.0</td>\n",
       "      <td>4.666667</td>\n",
       "      <td>4.818182</td>\n",
       "      <td>4.744351</td>\n",
       "    </tr>\n",
       "    <tr>\n",
       "      <th>0</th>\n",
       "      <td>6</td>\n",
       "      <td>0</td>\n",
       "      <td>2.474633</td>\n",
       "      <td>122.336927</td>\n",
       "      <td>712</td>\n",
       "      <td>25442</td>\n",
       "      <td>2</td>\n",
       "      <td>22.675</td>\n",
       "      <td>-413.325</td>\n",
       "      <td>825.211250</td>\n",
       "      <td>...</td>\n",
       "      <td>831.376995</td>\n",
       "      <td>68.800000</td>\n",
       "      <td>-378.366667</td>\n",
       "      <td>888.536990</td>\n",
       "      <td>0.659296</td>\n",
       "      <td>0.404567</td>\n",
       "      <td>0.0</td>\n",
       "      <td>4.950000</td>\n",
       "      <td>4.750000</td>\n",
       "      <td>4.900092</td>\n",
       "    </tr>\n",
       "    <tr>\n",
       "      <th>0</th>\n",
       "      <td>7</td>\n",
       "      <td>0</td>\n",
       "      <td>2.463055</td>\n",
       "      <td>135.885309</td>\n",
       "      <td>706</td>\n",
       "      <td>25845</td>\n",
       "      <td>2</td>\n",
       "      <td>-306.325</td>\n",
       "      <td>149.675</td>\n",
       "      <td>402.317125</td>\n",
       "      <td>...</td>\n",
       "      <td>471.493537</td>\n",
       "      <td>-294.003571</td>\n",
       "      <td>171.822059</td>\n",
       "      <td>408.390072</td>\n",
       "      <td>0.913715</td>\n",
       "      <td>0.191328</td>\n",
       "      <td>0.0</td>\n",
       "      <td>5.000000</td>\n",
       "      <td>4.800000</td>\n",
       "      <td>4.953477</td>\n",
       "    </tr>\n",
       "    <tr>\n",
       "      <th>...</th>\n",
       "      <td>...</td>\n",
       "      <td>...</td>\n",
       "      <td>...</td>\n",
       "      <td>...</td>\n",
       "      <td>...</td>\n",
       "      <td>...</td>\n",
       "      <td>...</td>\n",
       "      <td>...</td>\n",
       "      <td>...</td>\n",
       "      <td>...</td>\n",
       "      <td>...</td>\n",
       "      <td>...</td>\n",
       "      <td>...</td>\n",
       "      <td>...</td>\n",
       "      <td>...</td>\n",
       "      <td>...</td>\n",
       "      <td>...</td>\n",
       "      <td>...</td>\n",
       "      <td>...</td>\n",
       "      <td>...</td>\n",
       "      <td>...</td>\n",
       "    </tr>\n",
       "    <tr>\n",
       "      <th>0</th>\n",
       "      <td>9967</td>\n",
       "      <td>0</td>\n",
       "      <td>2.454938</td>\n",
       "      <td>105.780472</td>\n",
       "      <td>659</td>\n",
       "      <td>24736</td>\n",
       "      <td>3</td>\n",
       "      <td>213.675</td>\n",
       "      <td>-209.325</td>\n",
       "      <td>471.402625</td>\n",
       "      <td>...</td>\n",
       "      <td>516.496827</td>\n",
       "      <td>219.141667</td>\n",
       "      <td>-181.325000</td>\n",
       "      <td>478.874788</td>\n",
       "      <td>0.414668</td>\n",
       "      <td>0.311636</td>\n",
       "      <td>0.0</td>\n",
       "      <td>5.000000</td>\n",
       "      <td>5.000000</td>\n",
       "      <td>4.804290</td>\n",
       "    </tr>\n",
       "    <tr>\n",
       "      <th>0</th>\n",
       "      <td>9968</td>\n",
       "      <td>0</td>\n",
       "      <td>2.468193</td>\n",
       "      <td>107.741931</td>\n",
       "      <td>580</td>\n",
       "      <td>21476</td>\n",
       "      <td>3</td>\n",
       "      <td>-183.325</td>\n",
       "      <td>-70.325</td>\n",
       "      <td>204.451219</td>\n",
       "      <td>...</td>\n",
       "      <td>214.436498</td>\n",
       "      <td>-176.436111</td>\n",
       "      <td>-32.825000</td>\n",
       "      <td>231.736868</td>\n",
       "      <td>0.901198</td>\n",
       "      <td>0.739367</td>\n",
       "      <td>0.0</td>\n",
       "      <td>4.967742</td>\n",
       "      <td>5.000000</td>\n",
       "      <td>4.385363</td>\n",
       "    </tr>\n",
       "    <tr>\n",
       "      <th>0</th>\n",
       "      <td>9970</td>\n",
       "      <td>0</td>\n",
       "      <td>2.468241</td>\n",
       "      <td>87.738562</td>\n",
       "      <td>728</td>\n",
       "      <td>25606</td>\n",
       "      <td>2</td>\n",
       "      <td>-291.325</td>\n",
       "      <td>-0.325</td>\n",
       "      <td>1024.213125</td>\n",
       "      <td>...</td>\n",
       "      <td>1088.812195</td>\n",
       "      <td>-283.383824</td>\n",
       "      <td>16.550000</td>\n",
       "      <td>1040.186089</td>\n",
       "      <td>0.620756</td>\n",
       "      <td>0.576417</td>\n",
       "      <td>0.0</td>\n",
       "      <td>4.850000</td>\n",
       "      <td>4.785714</td>\n",
       "      <td>4.821277</td>\n",
       "    </tr>\n",
       "    <tr>\n",
       "      <th>0</th>\n",
       "      <td>9973</td>\n",
       "      <td>0</td>\n",
       "      <td>2.484937</td>\n",
       "      <td>109.062031</td>\n",
       "      <td>660</td>\n",
       "      <td>24437</td>\n",
       "      <td>2</td>\n",
       "      <td>-0.325</td>\n",
       "      <td>-456.325</td>\n",
       "      <td>792.247750</td>\n",
       "      <td>...</td>\n",
       "      <td>810.160705</td>\n",
       "      <td>79.175000</td>\n",
       "      <td>-411.762500</td>\n",
       "      <td>829.549634</td>\n",
       "      <td>0.743985</td>\n",
       "      <td>0.722209</td>\n",
       "      <td>0.0</td>\n",
       "      <td>4.920000</td>\n",
       "      <td>4.833333</td>\n",
       "      <td>4.835000</td>\n",
       "    </tr>\n",
       "    <tr>\n",
       "      <th>0</th>\n",
       "      <td>9975</td>\n",
       "      <td>0</td>\n",
       "      <td>2.465651</td>\n",
       "      <td>113.156646</td>\n",
       "      <td>632</td>\n",
       "      <td>22467</td>\n",
       "      <td>2</td>\n",
       "      <td>342.675</td>\n",
       "      <td>-102.325</td>\n",
       "      <td>537.364125</td>\n",
       "      <td>...</td>\n",
       "      <td>545.405184</td>\n",
       "      <td>393.175000</td>\n",
       "      <td>-31.738043</td>\n",
       "      <td>554.966047</td>\n",
       "      <td>1.010299</td>\n",
       "      <td>0.899096</td>\n",
       "      <td>0.0</td>\n",
       "      <td>5.000000</td>\n",
       "      <td>4.961538</td>\n",
       "      <td>4.423828</td>\n",
       "    </tr>\n",
       "  </tbody>\n",
       "</table>\n",
       "<p>4542 rows × 35 columns</p>\n",
       "</div>"
      ],
      "text/plain": [
       "    event  trackID    energy      length  numb_of_voxels  numb_of_hits  \\\n",
       "0       0        0  2.475255  181.735827             749         27129   \n",
       "0       2        0  2.445390  102.508851             706         25340   \n",
       "0       4        0  2.489407  132.888310             792         26427   \n",
       "0       6        0  2.474633  122.336927             712         25442   \n",
       "0       7        0  2.463055  135.885309             706         25845   \n",
       "..    ...      ...       ...         ...             ...           ...   \n",
       "0    9967        0  2.454938  105.780472             659         24736   \n",
       "0    9968        0  2.468193  107.741931             580         21476   \n",
       "0    9970        0  2.468241   87.738562             728         25606   \n",
       "0    9973        0  2.484937  109.062031             660         24437   \n",
       "0    9975        0  2.465651  113.156646             632         22467   \n",
       "\n",
       "    numb_of_tracks    x_min    y_min        z_min  ...      blob1_z  \\\n",
       "0                4 -260.325 -367.325   308.425500  ...   314.396747   \n",
       "0                1   99.675 -144.325   782.350812  ...   822.029262   \n",
       "0                2 -449.325  -77.325   641.252813  ...   651.406180   \n",
       "0                2   22.675 -413.325   825.211250  ...   831.376995   \n",
       "0                2 -306.325  149.675   402.317125  ...   471.493537   \n",
       "..             ...      ...      ...          ...  ...          ...   \n",
       "0                3  213.675 -209.325   471.402625  ...   516.496827   \n",
       "0                3 -183.325  -70.325   204.451219  ...   214.436498   \n",
       "0                2 -291.325   -0.325  1024.213125  ...  1088.812195   \n",
       "0                2   -0.325 -456.325   792.247750  ...   810.160705   \n",
       "0                2  342.675 -102.325   537.364125  ...   545.405184   \n",
       "\n",
       "       blob2_x     blob2_y      blob2_z    eblob1    eblob2  ovlp_blob_energy  \\\n",
       "0  -214.100000 -361.825000   337.565699  0.227648  0.182474               0.0   \n",
       "0   165.328846 -134.075000   788.508176  0.648963  0.400354               0.0   \n",
       "0  -423.450000  -61.930263   704.801052  0.716692  0.599030               0.0   \n",
       "0    68.800000 -378.366667   888.536990  0.659296  0.404567               0.0   \n",
       "0  -294.003571  171.822059   408.390072  0.913715  0.191328               0.0   \n",
       "..         ...         ...          ...       ...       ...               ...   \n",
       "0   219.141667 -181.325000   478.874788  0.414668  0.311636               0.0   \n",
       "0  -176.436111  -32.825000   231.736868  0.901198  0.739367               0.0   \n",
       "0  -283.383824   16.550000  1040.186089  0.620756  0.576417               0.0   \n",
       "0    79.175000 -411.762500   829.549634  0.743985  0.722209               0.0   \n",
       "0   393.175000  -31.738043   554.966047  1.010299  0.899096               0.0   \n",
       "\n",
       "    vox_size_x  vox_size_y  vox_size_z  \n",
       "0     4.923077    4.923077    4.904922  \n",
       "0     4.833333    4.818182    4.940760  \n",
       "0     4.666667    4.818182    4.744351  \n",
       "0     4.950000    4.750000    4.900092  \n",
       "0     5.000000    4.800000    4.953477  \n",
       "..         ...         ...         ...  \n",
       "0     5.000000    5.000000    4.804290  \n",
       "0     4.967742    5.000000    4.385363  \n",
       "0     4.850000    4.785714    4.821277  \n",
       "0     4.920000    4.833333    4.835000  \n",
       "0     5.000000    4.961538    4.423828  \n",
       "\n",
       "[4542 rows x 35 columns]"
      ]
     },
     "execution_count": 53,
     "metadata": {},
     "output_type": "execute_result"
    }
   ],
   "source": [
    "tracks_0nubb_ROIovlp1trackfid"
   ]
  },
  {
   "cell_type": "markdown",
   "metadata": {},
   "source": [
    "Now I'm going to do a loop over all the events in both reco and true, and I'm going to obtain the difference for each of them. \n",
    "\n",
    "Several things need to be taken into account at this stage:\n",
    "- After all the selection process, not all the events are contained in 'tracks_0nubb_ROIovlp1trackfid', need to select only the events in the loop that are included in 'tracks_0nubb_ROIovlp1trackfid'\n",
    "- For 0nubb, the true end points of the track are the variables **final_x/y/z** from the primary particles. **initial_x/y/z** correspond to the original position of the desintegration. \n",
    "- The true/reco information from the tables are given in terms of arrays. First, in order to get the value from a variable, it's necessary to ask for \"values\". Later on, when doing the comparison, it's necessary to force the term to turn into float before assign them into the 'diff' element. \n",
    "- Last but definately, not least, what it's defined as blob1 or blob2 is not necessarily the information about particle 1 or 2 respectively. Blobs are tagged as the deposited energy in the detector. So when the reco vs true comparison is made, it's important to re-define what's 1 or 2 for the blobs. In the following boxes I've done some tests in order to see how I can tag each of the events. "
   ]
  },
  {
   "cell_type": "code",
   "execution_count": null,
   "metadata": {},
   "outputs": [],
   "source": [
    "d_rt_11, d_rt_12, d_rr_12, d_tt_12, D_tt_12, x_t_1, y_t_1, x_t_2, y_t_2, r_t_1, r_t_2, z_t_1, z_t_2 = [], [], [], [], [], [], [],[], [], [],[], [], []\n",
    "\n",
    "for nevt in range(1,true_0nubb.event_id.nunique()):\n",
    "    \n",
    "    if nevt not in tracks_0nubb_ROIovlp1trackfid.event.unique():\n",
    "        continue\n",
    "        \n",
    "    true_0nubb_x_p1 = float(true_0nubb_primary_part1[true_0nubb_primary_part1.event_id == nevt].final_x.values)\n",
    "    true_0nubb_y_p1 = float(true_0nubb_primary_part1[true_0nubb_primary_part1.event_id == nevt].final_y.values)\n",
    "    true_0nubb_z_p1 = float(true_0nubb_primary_part1[true_0nubb_primary_part1.event_id == nevt].final_z.values)\n",
    "\n",
    "    true_0nubb_x_p2 = float(true_0nubb_primary_part2[true_0nubb_primary_part2.event_id == nevt].final_x.values)\n",
    "    true_0nubb_y_p2 = float(true_0nubb_primary_part2[true_0nubb_primary_part2.event_id == nevt].final_y.values)\n",
    "    true_0nubb_z_p2 = float(true_0nubb_primary_part2[true_0nubb_primary_part2.event_id == nevt].final_z.values)\n",
    "    \n",
    "    true_0nubb_r_p1 = math.sqrt(true_0nubb_x_p1*true_0nubb_x_p1+true_0nubb_y_p1*true_0nubb_y_p1)\n",
    "    true_0nubb_r_p2 = math.sqrt(true_0nubb_x_p2*true_0nubb_x_p2+true_0nubb_y_p2*true_0nubb_y_p2)\n",
    "\n",
    "    reco_0nubb_x_blob1 = float(tracks_0nubb_ROIovlp1trackfid[tracks_0nubb_ROIovlp1trackfid.event == nevt].blob1_x.values)\n",
    "    reco_0nubb_y_blob1 = float(tracks_0nubb_ROIovlp1trackfid[tracks_0nubb_ROIovlp1trackfid.event == nevt].blob1_y.values)\n",
    "    reco_0nubb_z_blob1 = float(tracks_0nubb_ROIovlp1trackfid[tracks_0nubb_ROIovlp1trackfid.event == nevt].blob1_z.values)\n",
    "    \n",
    "    reco_0nubb_x_blob2 = float(tracks_0nubb_ROIovlp1trackfid[tracks_0nubb_ROIovlp1trackfid.event == nevt].blob2_x.values)\n",
    "    reco_0nubb_y_blob2 = float(tracks_0nubb_ROIovlp1trackfid[tracks_0nubb_ROIovlp1trackfid.event == nevt].blob2_y.values)\n",
    "    reco_0nubb_z_blob2 = float(tracks_0nubb_ROIovlp1trackfid[tracks_0nubb_ROIovlp1trackfid.event == nevt].blob2_z.values)\n",
    "    \n",
    "    reco_0nubb_r_blob1 = math.sqrt(reco_0nubb_x_blob1*reco_0nubb_x_blob1+reco_0nubb_y_blob1*reco_0nubb_y_blob1)\n",
    "    reco_0nubb_r_blob2 = math.sqrt(reco_0nubb_x_blob2*reco_0nubb_x_blob2+reco_0nubb_y_blob2*reco_0nubb_y_blob2)\n",
    "    \n",
    "   \n",
    "    d_tt_12.append(math.sqrt((true_0nubb_x_p2-true_0nubb_x_p1)**2+(true_0nubb_y_p2-true_0nubb_y_p1)**2+(true_0nubb_z_p2-true_0nubb_z_p1)**2))\n",
    "    d_rr_12.append(math.sqrt((reco_0nubb_x_blob1-reco_0nubb_x_blob2)**2+(reco_0nubb_y_blob1-reco_0nubb_y_blob2)**2+(reco_0nubb_z_blob1-reco_0nubb_z_blob2)**2))\n",
    "    \n",
    "    x_t_1.append(true_0nubb_x_p1)\n",
    "    x_t_2.append(true_0nubb_x_p2)\n",
    "    y_t_1.append(true_0nubb_y_p1)\n",
    "    y_t_2.append(true_0nubb_y_p2)\n",
    "    r_t_1.append(true_0nubb_r_p1)\n",
    "    r_t_2.append(true_0nubb_r_p2)\n",
    "    z_t_1.append(true_0nubb_z_p1)\n",
    "    z_t_2.append(true_0nubb_z_p2)\n",
    "    "
   ]
  },
  {
   "cell_type": "code",
   "execution_count": null,
   "metadata": {},
   "outputs": [],
   "source": [
    "plt.hist(r_t_1, bins = 50, color='red', histtype='step', label = 'r particle1')\n",
    "plt.hist(r_t_2, bins = 50, color='blue', histtype='step', label = 'r particle 2', linestyle='dashed')\n",
    "\n",
    "plt.xlabel('true[particle] (mm)')\n",
    "plt.ylabel('events (a.u.)')\n",
    "plt.title('0nubb')\n",
    "plt.legend(loc=1);\n",
    "plt.show()"
   ]
  },
  {
   "cell_type": "code",
   "execution_count": null,
   "metadata": {},
   "outputs": [],
   "source": [
    "plt.hist(d_tt_12, bins = 50, color='red', histtype='step', label = 'd_12 (true)', linestyle='dashed')\n",
    "plt.hist(d_rr_12, bins = 50, color='blue', histtype='step', label = 'd_12 (reco)', linestyle='dashed')\n",
    "\n",
    "plt.xlabel('true[particle] (mm)')\n",
    "plt.ylabel('events (a.u.)')\n",
    "plt.title('0nubb')\n",
    "plt.legend(loc=1);\n",
    "plt.show()\n",
    "\n",
    "print(f'Mean distance between true particles {np.mean(d_tt_12)}')\n",
    "print(f'Mean distance between reco particles {np.mean(d_rr_12)}')\n"
   ]
  },
  {
   "cell_type": "code",
   "execution_count": null,
   "metadata": {},
   "outputs": [],
   "source": [
    "plt.hist(z_t_1, bins = 50, color='red', histtype='step', label = 'z part1 (true)', linestyle='dashed')\n",
    "plt.hist(z_t_2, bins = 50, color='blue', histtype='step', label = 'z part2 (true)', linestyle='dashed')\n",
    "\n",
    "plt.xlabel('true[particle] (mm)')\n",
    "plt.ylabel('events (a.u.)')\n",
    "plt.legend(loc=1);\n",
    "plt.show()"
   ]
  },
  {
   "cell_type": "markdown",
   "metadata": {},
   "source": [
    "On average, the distance between particles is around 30mm, so I'm going to look for blobs around the position of part1/2 + 30mm (approximately)"
   ]
  },
  {
   "cell_type": "code",
   "execution_count": 54,
   "metadata": {},
   "outputs": [
    {
     "name": "stdout",
     "output_type": "stream",
     "text": [
      "Total events = 4448\n",
      "Events 12 = 2241 (50.382194244604314%)\n",
      "Events 21 = 2207 (49.617805755395686%)\n",
      "Events NA = 0 (0.0%)\n"
     ]
    }
   ],
   "source": [
    "diff_b1_x_0nubb, diff_b1_y_0nubb, diff_b1_z_0nubb = [], [], []\n",
    "diff_b2_x_0nubb, diff_b2_y_0nubb, diff_b2_z_0nubb = [], [], []\n",
    "\n",
    "reco_0nubb_e = []\n",
    "\n",
    "diff_b1_x_0nubb, diff_b1_y_0nubb, diff_b2_x_0nubb, diff_b2_y_0nubb, reco_0nubb_e = myrvt.blobassignation(true_0nubb, tracks_0nubb_ROIovlp1trackfid, 'signal')"
   ]
  },
  {
   "cell_type": "code",
   "execution_count": 55,
   "metadata": {},
   "outputs": [
    {
     "data": {
      "image/png": "[encoded data removed]",
      "text/plain": [
       "<Figure size 432x288 with 1 Axes>"
      ]
     },
     "metadata": {
      "needs_background": "light"
     },
     "output_type": "display_data"
    }
   ],
   "source": [
    "plt.hist(diff_b1_x_0nubb, bins = 50, color='red', histtype='step', label = 'x blob1')\n",
    "plt.hist(diff_b1_y_0nubb, bins = 50, color='blue', histtype='step', label = 'y blob1', linestyle='dashed')\n",
    "\n",
    "plt.xlabel('reco[tracks] - true[particle] (mm)')\n",
    "plt.ylabel('events (a.u.)')\n",
    "plt.title('0nubb')\n",
    "plt.legend(loc=1);\n",
    "plt.show()"
   ]
  },
  {
   "cell_type": "code",
   "execution_count": 56,
   "metadata": {},
   "outputs": [
    {
     "data": {
      "image/png": "[encoded data removed]",
      "text/plain": [
       "<Figure size 432x288 with 1 Axes>"
      ]
     },
     "metadata": {
      "needs_background": "light"
     },
     "output_type": "display_data"
    }
   ],
   "source": [
    "plt.hist(diff_b2_x_0nubb, bins = 50, color='red', histtype='step', label = 'x blob2')\n",
    "plt.hist(diff_b2_y_0nubb, bins = 50, color='blue', histtype='step', label = 'y blob2', linestyle='dashed')\n",
    "\n",
    "plt.xlabel('reco[tracks] - true[particle] (mm)')\n",
    "plt.ylabel('events (a.u.)')\n",
    "plt.title('0nubb')\n",
    "plt.legend(loc=1);\n",
    "plt.show()"
   ]
  },
  {
   "cell_type": "code",
   "execution_count": 57,
   "metadata": {},
   "outputs": [
    {
     "data": {
      "text/plain": [
       "<matplotlib.colorbar.Colorbar at 0x128548700>"
      ]
     },
     "execution_count": 57,
     "metadata": {},
     "output_type": "execute_result"
    },
    {
     "data": {
      "image/png": "[encoded data removed]",
      "text/plain": [
       "<Figure size 432x288 with 2 Axes>"
      ]
     },
     "metadata": {
      "needs_background": "light"
     },
     "output_type": "display_data"
    }
   ],
   "source": [
    "plt.hist2d(diff_b1_x_0nubb, diff_b1_y_0nubb, bins=(30, 30), range=((-50, 50), (-50, 50)), cmap='viridis', cmin=0.001)\n",
    "plt.xlabel('blob-1 reco_x - true_x (mm)')\n",
    "plt.ylabel('blob-1 reco_y - true_y (mm)')\n",
    "plt.title('0nubb')\n",
    "#plt.xlim((0.0,1.5))\n",
    "plt.colorbar(label='events')"
   ]
  },
  {
   "cell_type": "code",
   "execution_count": 58,
   "metadata": {},
   "outputs": [
    {
     "data": {
      "text/plain": [
       "<matplotlib.colorbar.Colorbar at 0x1357e1ee0>"
      ]
     },
     "execution_count": 58,
     "metadata": {},
     "output_type": "execute_result"
    },
    {
     "data": {
      "image/png": "[encoded data removed]",
      "text/plain": [
       "<Figure size 432x288 with 2 Axes>"
      ]
     },
     "metadata": {
      "needs_background": "light"
     },
     "output_type": "display_data"
    }
   ],
   "source": [
    "plt.hist2d(diff_b2_x_0nubb, diff_b2_y_0nubb, bins=(30, 30), range=((-50, 50), (-50, 50)), cmap='viridis', cmin=0.001)\n",
    "plt.xlabel('blob-2 reco_x - true_x (mm)')\n",
    "plt.ylabel('blob-2 reco_y - true_y (mm)')\n",
    "plt.title('0nubb')\n",
    "#plt.xlim((0.0,1.5))\n",
    "plt.colorbar(label='events')"
   ]
  },
  {
   "cell_type": "code",
   "execution_count": 59,
   "metadata": {},
   "outputs": [
    {
     "data": {
      "text/plain": [
       "Index(['event_id', 'particle_id', 'particle_name', 'primary', 'mother_id',\n",
       "       'initial_x', 'initial_y', 'initial_z', 'initial_t', 'final_x',\n",
       "       'final_y', 'final_z', 'final_t', 'initial_volume', 'final_volume',\n",
       "       'initial_momentum_x', 'initial_momentum_y', 'initial_momentum_z',\n",
       "       'final_momentum_x', 'final_momentum_y', 'final_momentum_z',\n",
       "       'kin_energy', 'length', 'creator_proc', 'final_proc'],\n",
       "      dtype='object')"
      ]
     },
     "execution_count": 59,
     "metadata": {},
     "output_type": "execute_result"
    }
   ],
   "source": [
    "#single electron files\n",
    "true_list_selectron = []\n",
    "filepath_selectron_true = filepath+'e-_roi/hits/'\n",
    "\n",
    "#loop over all the files, to read 'HITS' information\n",
    "for nfile in range(1,max0nubbf):\n",
    "    \n",
    "    filename_selectron_true = filepath_selectron_true+f'next100.e-_roi.{nfile}.deconv.h5'\n",
    "\n",
    "    try:\n",
    "        readfile_true_selectron = pd.read_hdf(filename_selectron_true, 'MC/particles')\n",
    "    except:\n",
    "        print('File {} not good'.format(filename_selectron_true))\n",
    "        continue\n",
    "        \n",
    "    true_list_selectron.append(readfile_true_selectron)\n",
    "    \n",
    "#'concat' command means: 'concatenate pandas objects along a particular \n",
    "# axis with optional set logic along the other axes.' -> following line \n",
    "# is needed to keep an order between the files\n",
    "\n",
    "true_selectron = pd.concat([dt for dt in true_list_selectron]) \n",
    "true_selectron.columns  "
   ]
  },
  {
   "cell_type": "code",
   "execution_count": 60,
   "metadata": {},
   "outputs": [
    {
     "data": {
      "text/html": [
       "<div>\n",
       "<style scoped>\n",
       "    .dataframe tbody tr th:only-of-type {\n",
       "        vertical-align: middle;\n",
       "    }\n",
       "\n",
       "    .dataframe tbody tr th {\n",
       "        vertical-align: top;\n",
       "    }\n",
       "\n",
       "    .dataframe thead th {\n",
       "        text-align: right;\n",
       "    }\n",
       "</style>\n",
       "<table border=\"1\" class=\"dataframe\">\n",
       "  <thead>\n",
       "    <tr style=\"text-align: right;\">\n",
       "      <th></th>\n",
       "      <th>event_id</th>\n",
       "      <th>particle_id</th>\n",
       "      <th>particle_name</th>\n",
       "      <th>primary</th>\n",
       "      <th>mother_id</th>\n",
       "      <th>initial_x</th>\n",
       "      <th>initial_y</th>\n",
       "      <th>initial_z</th>\n",
       "      <th>initial_t</th>\n",
       "      <th>final_x</th>\n",
       "      <th>...</th>\n",
       "      <th>initial_momentum_x</th>\n",
       "      <th>initial_momentum_y</th>\n",
       "      <th>initial_momentum_z</th>\n",
       "      <th>final_momentum_x</th>\n",
       "      <th>final_momentum_y</th>\n",
       "      <th>final_momentum_z</th>\n",
       "      <th>kin_energy</th>\n",
       "      <th>length</th>\n",
       "      <th>creator_proc</th>\n",
       "      <th>final_proc</th>\n",
       "    </tr>\n",
       "  </thead>\n",
       "  <tbody>\n",
       "    <tr>\n",
       "      <th>23</th>\n",
       "      <td>0</td>\n",
       "      <td>1</td>\n",
       "      <td>e-</td>\n",
       "      <td>True</td>\n",
       "      <td>0</td>\n",
       "      <td>263.843140</td>\n",
       "      <td>282.704956</td>\n",
       "      <td>1200.066284</td>\n",
       "      <td>0.0</td>\n",
       "      <td>224.406219</td>\n",
       "      <td>...</td>\n",
       "      <td>-2.144866</td>\n",
       "      <td>-1.164350</td>\n",
       "      <td>1.615185</td>\n",
       "      <td>0.0</td>\n",
       "      <td>-0.0</td>\n",
       "      <td>-0.0</td>\n",
       "      <td>2.459877</td>\n",
       "      <td>180.497162</td>\n",
       "      <td>none</td>\n",
       "      <td>Scintillation</td>\n",
       "    </tr>\n",
       "    <tr>\n",
       "      <th>53</th>\n",
       "      <td>1</td>\n",
       "      <td>1</td>\n",
       "      <td>e-</td>\n",
       "      <td>True</td>\n",
       "      <td>0</td>\n",
       "      <td>152.977859</td>\n",
       "      <td>-331.856018</td>\n",
       "      <td>3.190071</td>\n",
       "      <td>0.0</td>\n",
       "      <td>225.966461</td>\n",
       "      <td>...</td>\n",
       "      <td>-0.728068</td>\n",
       "      <td>-1.545893</td>\n",
       "      <td>2.373892</td>\n",
       "      <td>-0.0</td>\n",
       "      <td>0.0</td>\n",
       "      <td>-0.0</td>\n",
       "      <td>2.458235</td>\n",
       "      <td>278.690399</td>\n",
       "      <td>none</td>\n",
       "      <td>Scintillation</td>\n",
       "    </tr>\n",
       "    <tr>\n",
       "      <th>127</th>\n",
       "      <td>2</td>\n",
       "      <td>1</td>\n",
       "      <td>e-</td>\n",
       "      <td>True</td>\n",
       "      <td>0</td>\n",
       "      <td>443.712219</td>\n",
       "      <td>153.831985</td>\n",
       "      <td>1106.283813</td>\n",
       "      <td>0.0</td>\n",
       "      <td>391.517029</td>\n",
       "      <td>...</td>\n",
       "      <td>-1.393338</td>\n",
       "      <td>-2.532633</td>\n",
       "      <td>0.353849</td>\n",
       "      <td>0.0</td>\n",
       "      <td>0.0</td>\n",
       "      <td>-0.0</td>\n",
       "      <td>2.445680</td>\n",
       "      <td>200.310394</td>\n",
       "      <td>none</td>\n",
       "      <td>Scintillation</td>\n",
       "    </tr>\n",
       "    <tr>\n",
       "      <th>131</th>\n",
       "      <td>3</td>\n",
       "      <td>1</td>\n",
       "      <td>e-</td>\n",
       "      <td>True</td>\n",
       "      <td>0</td>\n",
       "      <td>-348.382904</td>\n",
       "      <td>-172.308670</td>\n",
       "      <td>717.329773</td>\n",
       "      <td>0.0</td>\n",
       "      <td>-234.460526</td>\n",
       "      <td>...</td>\n",
       "      <td>2.436209</td>\n",
       "      <td>1.410585</td>\n",
       "      <td>-0.786198</td>\n",
       "      <td>-0.0</td>\n",
       "      <td>0.0</td>\n",
       "      <td>0.0</td>\n",
       "      <td>2.456170</td>\n",
       "      <td>243.929733</td>\n",
       "      <td>none</td>\n",
       "      <td>Scintillation</td>\n",
       "    </tr>\n",
       "    <tr>\n",
       "      <th>149</th>\n",
       "      <td>4</td>\n",
       "      <td>1</td>\n",
       "      <td>e-</td>\n",
       "      <td>True</td>\n",
       "      <td>0</td>\n",
       "      <td>-307.496674</td>\n",
       "      <td>-335.867310</td>\n",
       "      <td>101.232605</td>\n",
       "      <td>0.0</td>\n",
       "      <td>-354.965210</td>\n",
       "      <td>...</td>\n",
       "      <td>-1.537453</td>\n",
       "      <td>-1.247277</td>\n",
       "      <td>2.158215</td>\n",
       "      <td>0.0</td>\n",
       "      <td>0.0</td>\n",
       "      <td>-0.0</td>\n",
       "      <td>2.461958</td>\n",
       "      <td>63.263073</td>\n",
       "      <td>none</td>\n",
       "      <td>Scintillation</td>\n",
       "    </tr>\n",
       "    <tr>\n",
       "      <th>...</th>\n",
       "      <td>...</td>\n",
       "      <td>...</td>\n",
       "      <td>...</td>\n",
       "      <td>...</td>\n",
       "      <td>...</td>\n",
       "      <td>...</td>\n",
       "      <td>...</td>\n",
       "      <td>...</td>\n",
       "      <td>...</td>\n",
       "      <td>...</td>\n",
       "      <td>...</td>\n",
       "      <td>...</td>\n",
       "      <td>...</td>\n",
       "      <td>...</td>\n",
       "      <td>...</td>\n",
       "      <td>...</td>\n",
       "      <td>...</td>\n",
       "      <td>...</td>\n",
       "      <td>...</td>\n",
       "      <td>...</td>\n",
       "      <td>...</td>\n",
       "    </tr>\n",
       "    <tr>\n",
       "      <th>166</th>\n",
       "      <td>9974</td>\n",
       "      <td>1</td>\n",
       "      <td>e-</td>\n",
       "      <td>True</td>\n",
       "      <td>0</td>\n",
       "      <td>-21.775333</td>\n",
       "      <td>-267.992004</td>\n",
       "      <td>591.497620</td>\n",
       "      <td>0.0</td>\n",
       "      <td>63.656631</td>\n",
       "      <td>...</td>\n",
       "      <td>1.784612</td>\n",
       "      <td>-2.010802</td>\n",
       "      <td>-1.137944</td>\n",
       "      <td>-0.0</td>\n",
       "      <td>0.0</td>\n",
       "      <td>0.0</td>\n",
       "      <td>2.452816</td>\n",
       "      <td>221.954559</td>\n",
       "      <td>none</td>\n",
       "      <td>Scintillation</td>\n",
       "    </tr>\n",
       "    <tr>\n",
       "      <th>236</th>\n",
       "      <td>9975</td>\n",
       "      <td>1</td>\n",
       "      <td>e-</td>\n",
       "      <td>True</td>\n",
       "      <td>0</td>\n",
       "      <td>272.629181</td>\n",
       "      <td>-176.767624</td>\n",
       "      <td>548.630493</td>\n",
       "      <td>0.0</td>\n",
       "      <td>324.627625</td>\n",
       "      <td>...</td>\n",
       "      <td>1.047669</td>\n",
       "      <td>1.488665</td>\n",
       "      <td>-2.274985</td>\n",
       "      <td>0.0</td>\n",
       "      <td>0.0</td>\n",
       "      <td>-0.0</td>\n",
       "      <td>2.447110</td>\n",
       "      <td>228.639877</td>\n",
       "      <td>none</td>\n",
       "      <td>Scintillation</td>\n",
       "    </tr>\n",
       "    <tr>\n",
       "      <th>292</th>\n",
       "      <td>9976</td>\n",
       "      <td>1</td>\n",
       "      <td>e-</td>\n",
       "      <td>True</td>\n",
       "      <td>0</td>\n",
       "      <td>422.564270</td>\n",
       "      <td>228.389816</td>\n",
       "      <td>1193.669189</td>\n",
       "      <td>0.0</td>\n",
       "      <td>473.581726</td>\n",
       "      <td>...</td>\n",
       "      <td>-0.076460</td>\n",
       "      <td>-0.900715</td>\n",
       "      <td>2.790703</td>\n",
       "      <td>0.0</td>\n",
       "      <td>0.0</td>\n",
       "      <td>-0.0</td>\n",
       "      <td>2.466630</td>\n",
       "      <td>209.802994</td>\n",
       "      <td>none</td>\n",
       "      <td>Scintillation</td>\n",
       "    </tr>\n",
       "    <tr>\n",
       "      <th>358</th>\n",
       "      <td>9977</td>\n",
       "      <td>1</td>\n",
       "      <td>e-</td>\n",
       "      <td>True</td>\n",
       "      <td>0</td>\n",
       "      <td>11.710984</td>\n",
       "      <td>44.878563</td>\n",
       "      <td>695.600647</td>\n",
       "      <td>0.0</td>\n",
       "      <td>-37.622673</td>\n",
       "      <td>...</td>\n",
       "      <td>-1.835248</td>\n",
       "      <td>-1.775122</td>\n",
       "      <td>-1.454311</td>\n",
       "      <td>0.0</td>\n",
       "      <td>-0.0</td>\n",
       "      <td>-0.0</td>\n",
       "      <td>2.471505</td>\n",
       "      <td>195.483353</td>\n",
       "      <td>none</td>\n",
       "      <td>Scintillation</td>\n",
       "    </tr>\n",
       "    <tr>\n",
       "      <th>362</th>\n",
       "      <td>9978</td>\n",
       "      <td>1</td>\n",
       "      <td>e-</td>\n",
       "      <td>True</td>\n",
       "      <td>0</td>\n",
       "      <td>144.205170</td>\n",
       "      <td>287.871674</td>\n",
       "      <td>525.010681</td>\n",
       "      <td>0.0</td>\n",
       "      <td>117.512154</td>\n",
       "      <td>...</td>\n",
       "      <td>-0.702252</td>\n",
       "      <td>-2.281809</td>\n",
       "      <td>-1.709306</td>\n",
       "      <td>-0.0</td>\n",
       "      <td>0.0</td>\n",
       "      <td>0.0</td>\n",
       "      <td>2.469380</td>\n",
       "      <td>254.425491</td>\n",
       "      <td>none</td>\n",
       "      <td>Scintillation</td>\n",
       "    </tr>\n",
       "  </tbody>\n",
       "</table>\n",
       "<p>9767 rows × 25 columns</p>\n",
       "</div>"
      ],
      "text/plain": [
       "     event_id  particle_id particle_name  primary  mother_id   initial_x  \\\n",
       "23          0            1            e-     True          0  263.843140   \n",
       "53          1            1            e-     True          0  152.977859   \n",
       "127         2            1            e-     True          0  443.712219   \n",
       "131         3            1            e-     True          0 -348.382904   \n",
       "149         4            1            e-     True          0 -307.496674   \n",
       "..        ...          ...           ...      ...        ...         ...   \n",
       "166      9974            1            e-     True          0  -21.775333   \n",
       "236      9975            1            e-     True          0  272.629181   \n",
       "292      9976            1            e-     True          0  422.564270   \n",
       "358      9977            1            e-     True          0   11.710984   \n",
       "362      9978            1            e-     True          0  144.205170   \n",
       "\n",
       "      initial_y    initial_z  initial_t     final_x  ...  initial_momentum_x  \\\n",
       "23   282.704956  1200.066284        0.0  224.406219  ...           -2.144866   \n",
       "53  -331.856018     3.190071        0.0  225.966461  ...           -0.728068   \n",
       "127  153.831985  1106.283813        0.0  391.517029  ...           -1.393338   \n",
       "131 -172.308670   717.329773        0.0 -234.460526  ...            2.436209   \n",
       "149 -335.867310   101.232605        0.0 -354.965210  ...           -1.537453   \n",
       "..          ...          ...        ...         ...  ...                 ...   \n",
       "166 -267.992004   591.497620        0.0   63.656631  ...            1.784612   \n",
       "236 -176.767624   548.630493        0.0  324.627625  ...            1.047669   \n",
       "292  228.389816  1193.669189        0.0  473.581726  ...           -0.076460   \n",
       "358   44.878563   695.600647        0.0  -37.622673  ...           -1.835248   \n",
       "362  287.871674   525.010681        0.0  117.512154  ...           -0.702252   \n",
       "\n",
       "     initial_momentum_y  initial_momentum_z final_momentum_x final_momentum_y  \\\n",
       "23            -1.164350            1.615185              0.0             -0.0   \n",
       "53            -1.545893            2.373892             -0.0              0.0   \n",
       "127           -2.532633            0.353849              0.0              0.0   \n",
       "131            1.410585           -0.786198             -0.0              0.0   \n",
       "149           -1.247277            2.158215              0.0              0.0   \n",
       "..                  ...                 ...              ...              ...   \n",
       "166           -2.010802           -1.137944             -0.0              0.0   \n",
       "236            1.488665           -2.274985              0.0              0.0   \n",
       "292           -0.900715            2.790703              0.0              0.0   \n",
       "358           -1.775122           -1.454311              0.0             -0.0   \n",
       "362           -2.281809           -1.709306             -0.0              0.0   \n",
       "\n",
       "     final_momentum_z  kin_energy      length  creator_proc     final_proc  \n",
       "23               -0.0    2.459877  180.497162          none  Scintillation  \n",
       "53               -0.0    2.458235  278.690399          none  Scintillation  \n",
       "127              -0.0    2.445680  200.310394          none  Scintillation  \n",
       "131               0.0    2.456170  243.929733          none  Scintillation  \n",
       "149              -0.0    2.461958   63.263073          none  Scintillation  \n",
       "..                ...         ...         ...           ...            ...  \n",
       "166               0.0    2.452816  221.954559          none  Scintillation  \n",
       "236              -0.0    2.447110  228.639877          none  Scintillation  \n",
       "292              -0.0    2.466630  209.802994          none  Scintillation  \n",
       "358              -0.0    2.471505  195.483353          none  Scintillation  \n",
       "362               0.0    2.469380  254.425491          none  Scintillation  \n",
       "\n",
       "[9767 rows x 25 columns]"
      ]
     },
     "execution_count": 60,
     "metadata": {},
     "output_type": "execute_result"
    }
   ],
   "source": [
    "true_selectron_primary = true_selectron[true_selectron.primary == True]\n",
    "\n",
    "true_selectron_primary_part1 = true_selectron_primary[true_selectron_primary.particle_id == 1]\n",
    "true_selectron_primary_part2 = true_selectron_primary[true_selectron_primary.particle_id == 2]\n",
    "true_selectron_primary"
   ]
  },
  {
   "cell_type": "code",
   "execution_count": 61,
   "metadata": {},
   "outputs": [
    {
     "name": "stdout",
     "output_type": "stream",
     "text": [
      "Total events = 4186\n",
      "Events 12 = 404 (9.65121834687052%)\n",
      "Events 21 = 3782 (90.34878165312948%)\n",
      "Events NA = 0 (0.0%)\n"
     ]
    }
   ],
   "source": [
    "diff_b1_x_selectron, diff_b1_y_selectron, diff_b1_z_selectron = [], [], []\n",
    "diff_b2_x_selectron, diff_b2_y_selectron, diff_b2_z_selectron = [], [], []\n",
    "\n",
    "reco_selectron_e = []\n",
    "\n",
    "diff_b1_x_selectron, diff_b1_y_selectron, diff_b2_x_selectron, diff_b2_y_selectron, reco_selectron_e = myrvt.blobassignation(true_selectron, tracks_selectron_ROIovlp1trackfid, 'bkg')"
   ]
  },
  {
   "cell_type": "code",
   "execution_count": 62,
   "metadata": {},
   "outputs": [
    {
     "data": {
      "image/png": "[encoded data removed]",
      "text/plain": [
       "<Figure size 432x288 with 1 Axes>"
      ]
     },
     "metadata": {
      "needs_background": "light"
     },
     "output_type": "display_data"
    },
    {
     "data": {
      "text/plain": [
       "0.20253010282664685"
      ]
     },
     "execution_count": 62,
     "metadata": {},
     "output_type": "execute_result"
    }
   ],
   "source": [
    "plt.hist(diff_b1_x_selectron, bins = 50, color='red', histtype='step', label = 'x blob1')\n",
    "plt.hist(diff_b1_y_selectron, bins = 50, color='blue', histtype='step', label = 'y blob1', linestyle='dashed')\n",
    "\n",
    "plt.xlabel('reco[tracks] - true[particle] (mm)')\n",
    "plt.ylabel('events (a.u.)')\n",
    "plt.title('Single Electron')\n",
    "plt.legend(loc=1);\n",
    "plt.show()\n",
    "(np.mean(diff_b1_x_selectron)+np.mean(diff_b1_y_selectron))/2"
   ]
  },
  {
   "cell_type": "code",
   "execution_count": 63,
   "metadata": {},
   "outputs": [
    {
     "data": {
      "image/png": "[encoded data removed]",
      "text/plain": [
       "<Figure size 432x288 with 1 Axes>"
      ]
     },
     "metadata": {
      "needs_background": "light"
     },
     "output_type": "display_data"
    },
    {
     "data": {
      "text/plain": [
       "-0.7379588276952072"
      ]
     },
     "execution_count": 63,
     "metadata": {},
     "output_type": "execute_result"
    }
   ],
   "source": [
    "plt.hist(diff_b2_x_selectron, bins = 50, color='red', histtype='step', label = 'x blob2')\n",
    "plt.hist(diff_b2_y_selectron, bins = 50, color='blue', histtype='step', label = 'y blob2', linestyle='dashed')\n",
    "\n",
    "plt.xlabel('reco[tracks] - true[particle] (mm)')\n",
    "plt.ylabel('events (a.u.)')\n",
    "plt.title('Single Electron')\n",
    "plt.legend(loc=1);\n",
    "plt.show()\n",
    "\n",
    "(np.mean(diff_b2_x_selectron)+np.mean(diff_b2_y_selectron))/2"
   ]
  },
  {
   "cell_type": "code",
   "execution_count": 64,
   "metadata": {},
   "outputs": [
    {
     "data": {
      "text/plain": [
       "<matplotlib.colorbar.Colorbar at 0x1357ea700>"
      ]
     },
     "execution_count": 64,
     "metadata": {},
     "output_type": "execute_result"
    },
    {
     "data": {
      "image/png": "[encoded data removed]",
      "text/plain": [
       "<Figure size 432x288 with 2 Axes>"
      ]
     },
     "metadata": {
      "needs_background": "light"
     },
     "output_type": "display_data"
    }
   ],
   "source": [
    "plt.hist2d(diff_b1_x_selectron, diff_b1_y_selectron, bins=(30, 30), range=((-50, 50), (-50, 50)), cmap='viridis', cmin=0.001)\n",
    "plt.xlabel('blob-1 reco_x - true_x (mm)')\n",
    "plt.ylabel('blob-1 reco_y - true_y (mm)')\n",
    "plt.title('Single Electron')\n",
    "#plt.xlim((0.0,1.5))\n",
    "plt.colorbar(label='events')"
   ]
  },
  {
   "cell_type": "code",
   "execution_count": 65,
   "metadata": {},
   "outputs": [
    {
     "data": {
      "text/plain": [
       "<matplotlib.colorbar.Colorbar at 0x136903490>"
      ]
     },
     "execution_count": 65,
     "metadata": {},
     "output_type": "execute_result"
    },
    {
     "data": {
      "image/png": "[encoded data removed]",
      "text/plain": [
       "<Figure size 432x288 with 2 Axes>"
      ]
     },
     "metadata": {
      "needs_background": "light"
     },
     "output_type": "display_data"
    }
   ],
   "source": [
    "plt.hist2d(diff_b2_x_selectron, diff_b2_y_selectron, bins=(30, 30), range=((-50, 50), (-50, 50)), cmap='viridis', cmin=0.001)\n",
    "plt.xlabel('blob-2 reco_x - true_x (mm)')\n",
    "plt.ylabel('blob-2 reco_y - true_y (mm)')\n",
    "plt.title('Single Electron')\n",
    "#plt.xlim((0.0,1.5))\n",
    "plt.colorbar(label='events')"
   ]
  },
  {
   "cell_type": "markdown",
   "metadata": {},
   "source": [
    "### 2 - BLOB energy distributions for SIGNAL and BACKGROUND"
   ]
  },
  {
   "cell_type": "markdown",
   "metadata": {},
   "source": [
    "After properly asigning blob1 and 2 tags, it's straigh forward to represent the energy distributions for the signal and background events:"
   ]
  },
  {
   "cell_type": "code",
   "execution_count": 66,
   "metadata": {},
   "outputs": [
    {
     "data": {
      "image/png": "[encoded data removed]",
      "text/plain": [
       "<Figure size 432x288 with 1 Axes>"
      ]
     },
     "metadata": {
      "needs_background": "light"
     },
     "output_type": "display_data"
    }
   ],
   "source": [
    "plt.hist(reco_0nubb_e[1], bins = 50, range = (0, 2.55), color='red', histtype='step', label = 'energy blob1')\n",
    "plt.hist(reco_0nubb_e[2], bins = 50, range = (0, 2.55), color='blue', histtype='step', label = 'energy blob2', linestyle='dashed')\n",
    "\n",
    "plt.xlabel('energy (MeV)')\n",
    "plt.ylabel('events (a.u.)')\n",
    "plt.title('0nubb')\n",
    "plt.legend(loc=1);\n",
    "plt.show()"
   ]
  },
  {
   "cell_type": "code",
   "execution_count": 67,
   "metadata": {},
   "outputs": [
    {
     "data": {
      "text/plain": [
       "<matplotlib.colorbar.Colorbar at 0x140a31250>"
      ]
     },
     "execution_count": 67,
     "metadata": {},
     "output_type": "execute_result"
    },
    {
     "data": {
      "image/png": "[encoded data removed]",
      "text/plain": [
       "<Figure size 432x288 with 2 Axes>"
      ]
     },
     "metadata": {
      "needs_background": "light"
     },
     "output_type": "display_data"
    }
   ],
   "source": [
    "weights = myhf.get_weights(reco_0nubb_e[1], True)\n",
    "\n",
    "\n",
    "plt.hist2d(reco_0nubb_e[1], reco_0nubb_e[2], weights= weights, bins=(30, 30), range=((0, 1.5), (0, 1.5)), cmap='viridis', cmin=0.001)\n",
    "plt.xlabel('Blob-1 candidate energy (MeV)')\n",
    "plt.ylabel('Blob-2 candidate energy (MeV)')\n",
    "plt.title('0nubb')\n",
    "#plt.xlim((0.0,1.5))\n",
    "plt.colorbar(label='proportion of events')"
   ]
  },
  {
   "cell_type": "code",
   "execution_count": 68,
   "metadata": {},
   "outputs": [
    {
     "data": {
      "image/png": "[encoded data removed]",
      "text/plain": [
       "<Figure size 432x288 with 1 Axes>"
      ]
     },
     "metadata": {
      "needs_background": "light"
     },
     "output_type": "display_data"
    }
   ],
   "source": [
    "plt.hist(reco_selectron_e[1], bins = 50, range = (0,2.55), color='red', histtype='step', label = 'energy blob1')\n",
    "plt.hist(reco_selectron_e[2], bins = 50, range = (0,2.55), color='blue', histtype='step', label = 'energy blob2', linestyle='dashed')\n",
    "\n",
    "plt.xlabel('energy (MeV)')\n",
    "plt.ylabel('events (a.u.)')\n",
    "plt.title('Single Electron')\n",
    "plt.legend(loc=1);\n",
    "plt.show()"
   ]
  },
  {
   "cell_type": "code",
   "execution_count": 69,
   "metadata": {},
   "outputs": [
    {
     "data": {
      "text/plain": [
       "<matplotlib.colorbar.Colorbar at 0x128c67430>"
      ]
     },
     "execution_count": 69,
     "metadata": {},
     "output_type": "execute_result"
    },
    {
     "data": {
      "image/png": "[encoded data removed]",
      "text/plain": [
       "<Figure size 432x288 with 2 Axes>"
      ]
     },
     "metadata": {
      "needs_background": "light"
     },
     "output_type": "display_data"
    }
   ],
   "source": [
    "weights = myhf.get_weights(reco_selectron_e[1], True)\n",
    "\n",
    "plt.hist2d(reco_selectron_e[1], reco_selectron_e[2], weights=weights, bins=(30, 30), range=((0, 1.5), (0, 1.5)), cmap='viridis', cmin=0.001)\n",
    "plt.xlabel('Blob candidate 1 energy (MeV)')\n",
    "plt.ylabel('Blob candidate 2 energy (MeV)')\n",
    "plt.title('Single Electron')\n",
    "plt.colorbar(label='proportion of events')"
   ]
  },
  {
   "cell_type": "markdown",
   "metadata": {},
   "source": [
    "### 3 - Efficiency Values and fom estimation"
   ]
  },
  {
   "cell_type": "markdown",
   "metadata": {},
   "source": [
    "First of all I'm going to check how blob energies are distributed acording to the track energy."
   ]
  },
  {
   "cell_type": "code",
   "execution_count": 70,
   "metadata": {},
   "outputs": [
    {
     "data": {
      "text/plain": [
       "<matplotlib.colorbar.Colorbar at 0x13efe1100>"
      ]
     },
     "execution_count": 70,
     "metadata": {},
     "output_type": "execute_result"
    },
    {
     "data": {
      "image/png": "[encoded data removed]",
      "text/plain": [
       "<Figure size 432x288 with 2 Axes>"
      ]
     },
     "metadata": {
      "needs_background": "light"
     },
     "output_type": "display_data"
    }
   ],
   "source": [
    "weights = myhf.get_weights(reco_0nubb_e[0], True)\n",
    "\n",
    "plt.hist2d(reco_0nubb_e[0], reco_0nubb_e[2], bins=(30, 30), range=((2.4, 2.5), (0, 1.8)), cmap='viridis', cmin=0.001)\n",
    "plt.xlabel('track energy (MeV)')\n",
    "plt.ylabel('Blob-2 candidate energy (MeV)')\n",
    "plt.title('0nubb')\n",
    "#plt.xlim((0.0,1.5))\n",
    "plt.colorbar(label='proportion of events')"
   ]
  },
  {
   "cell_type": "code",
   "execution_count": 71,
   "metadata": {},
   "outputs": [
    {
     "data": {
      "text/plain": [
       "<matplotlib.colorbar.Colorbar at 0x140a09e80>"
      ]
     },
     "execution_count": 71,
     "metadata": {},
     "output_type": "execute_result"
    },
    {
     "data": {
      "image/png": "[encoded data removed]",
      "text/plain": [
       "<Figure size 432x288 with 2 Axes>"
      ]
     },
     "metadata": {
      "needs_background": "light"
     },
     "output_type": "display_data"
    }
   ],
   "source": [
    "weights = myhf.get_weights(reco_0nubb_e[0], True)\n",
    "\n",
    "plt.hist2d(reco_0nubb_e[0], reco_0nubb_e[1], bins=(30, 30), range=((2.4, 2.5), (0, 1.8)), cmap='viridis', cmin=0.001)\n",
    "plt.xlabel('track energy (MeV)')\n",
    "plt.ylabel('Blob-1 candidate energy (MeV)')\n",
    "plt.title('0nubb')\n",
    "#plt.xlim((0.0,1.5))\n",
    "plt.colorbar(label='proportion of events')"
   ]
  },
  {
   "cell_type": "code",
   "execution_count": 72,
   "metadata": {},
   "outputs": [
    {
     "data": {
      "image/png": "[encoded data removed]",
      "text/plain": [
       "<Figure size 432x288 with 1 Axes>"
      ]
     },
     "metadata": {
      "needs_background": "light"
     },
     "output_type": "display_data"
    }
   ],
   "source": [
    "plt.hist(reco_selectron_e[0], bins = 50, histtype='step', label = 'energy track')\n",
    "plt.hist(reco_selectron_e[2], bins = 50, histtype='step', label = 'energy blob2', linestyle='dashed')\n",
    "\n",
    "plt.xlabel('energy (MeV)')\n",
    "plt.ylabel('events (a.u.)')\n",
    "plt.title('Single Electron')\n",
    "plt.legend(loc=1);\n",
    "plt.show()"
   ]
  },
  {
   "cell_type": "code",
   "execution_count": 73,
   "metadata": {},
   "outputs": [
    {
     "data": {
      "image/png": "[encoded data removed]",
      "text/plain": [
       "<Figure size 432x288 with 1 Axes>"
      ]
     },
     "metadata": {
      "needs_background": "light"
     },
     "output_type": "display_data"
    },
    {
     "name": "stdout",
     "output_type": "stream",
     "text": [
      "Total events 4186\n"
     ]
    }
   ],
   "source": [
    "plt.hist(reco_selectron_e[0], bins = 50, histtype='step', label = 'energy track')\n",
    "plt.xlabel('track energy (MeV)')\n",
    "plt.ylabel('events (a.u.)')\n",
    "plt.title('Single Electron')\n",
    "plt.show()\n",
    "\n",
    "print(f'Total events {len(reco_selectron_e[0])}')"
   ]
  },
  {
   "cell_type": "code",
   "execution_count": 74,
   "metadata": {},
   "outputs": [
    {
     "data": {
      "image/png": "[encoded data removed]",
      "text/plain": [
       "<Figure size 432x288 with 1 Axes>"
      ]
     },
     "metadata": {
      "needs_background": "light"
     },
     "output_type": "display_data"
    },
    {
     "name": "stdout",
     "output_type": "stream",
     "text": [
      "Total events 4186\n"
     ]
    }
   ],
   "source": [
    "plt.hist(reco_selectron_e[2], bins = 50, histtype='step', label = 'energy track')\n",
    "plt.xlabel('blob-2 energy (MeV)')\n",
    "plt.ylabel('events (a.u.)')\n",
    "plt.title('Single Electron')\n",
    "plt.show()\n",
    "\n",
    "print(f'Total events {len(reco_selectron_e[0])}')"
   ]
  },
  {
   "cell_type": "code",
   "execution_count": 75,
   "metadata": {},
   "outputs": [
    {
     "data": {
      "image/png": "[encoded data removed]",
      "text/plain": [
       "<Figure size 432x288 with 1 Axes>"
      ]
     },
     "metadata": {
      "needs_background": "light"
     },
     "output_type": "display_data"
    },
    {
     "name": "stdout",
     "output_type": "stream",
     "text": [
      "Total events 4186\n"
     ]
    }
   ],
   "source": [
    "plt.hist(reco_0nubb_e[2], bins = 50, histtype='step', label = 'energy track')\n",
    "plt.xlabel('blob-2 energy (MeV)')\n",
    "plt.ylabel('events (a.u.)')\n",
    "plt.title('0nubb')\n",
    "plt.show()\n",
    "\n",
    "print(f'Total events {len(reco_selectron_e[0])}')"
   ]
  },
  {
   "cell_type": "markdown",
   "metadata": {},
   "source": [
    "## BLOB ENERGY = true vs reco"
   ]
  },
  {
   "cell_type": "code",
   "execution_count": null,
   "metadata": {},
   "outputs": [],
   "source": [
    "#0nubb files\n",
    "true_list_0nubb_hits = []\n",
    "filepath_0nubb_true_hits = '/Users/halmamol/NEXT/files/NEXT100/beershebaFS/0nubb/hits/'\n",
    "#loop over all the files, to read 'HITS' information\n",
    "for nfile in range(1,max0nubbf):\n",
    "    \n",
    "    filename_0nubb_true_hits = filepath_0nubb_true_hits+f'next100.0nubb.{nfile}.deconv.h5'\n",
    "\n",
    "    try:\n",
    "        readfile_true_0nubb_hits = pd.read_hdf(filename_0nubb_true_hits, 'MC/hits')\n",
    "    except:\n",
    "        print('File {} not good'.format(filename_0nubb_true_hits))\n",
    "        continue\n",
    "        \n",
    "    true_list_0nubb_hits.append(readfile_true_0nubb_hits)\n",
    "    \n",
    "#'concat' command means: 'concatenate pandas objects along a particular \n",
    "# axis with optional set logic along the other axes.' -> following line \n",
    "# is needed to keep an order between the files\n",
    "\n",
    "true_0nubb_hits = pd.concat([dt for dt in true_list_0nubb_hits]) \n",
    "true_0nubb_hits.columns  "
   ]
  },
  {
   "cell_type": "code",
   "execution_count": null,
   "metadata": {},
   "outputs": [],
   "source": [
    "#0nubb files\n",
    "true_list_selectron_hits = []\n",
    "filepath_selectron_true_hits = '/Users/halmamol/NEXT/files/NEXT100/beershebaFS/e-_roi/hits/'\n",
    "#loop over all the files, to read 'HITS' information\n",
    "for nfile in range(1,max0nubbf):\n",
    "    \n",
    "    filename_selectron_true_hits = filepath_selectron_true_hits+f'next100.e-_roi.{nfile}.deconv.h5'\n",
    "\n",
    "    try:\n",
    "        readfile_true_selectron_hits = pd.read_hdf(filename_selectron_true_hits, 'MC/hits')\n",
    "    except:\n",
    "        print('File {} not good'.format(filename_selectron_true_hits))\n",
    "        continue\n",
    "        \n",
    "    true_list_selectron_hits.append(readfile_true_selectron_hits)\n",
    "    \n",
    "#'concat' command means: 'concatenate pandas objects along a particular \n",
    "# axis with optional set logic along the other axes.' -> following line \n",
    "# is needed to keep an order between the files\n",
    "\n",
    "true_selectron_hits = pd.concat([dt for dt in true_list_selectron_hits]) \n",
    "true_selectron_hits.columns  "
   ]
  },
  {
   "cell_type": "code",
   "execution_count": null,
   "metadata": {},
   "outputs": [],
   "source": [
    "b1_true_0nubb, b2_true_0nubb  = [], []\n",
    "for j in range (0,len(reco_0nubb_e[3])):\n",
    "    evt_number = reco_0nubb_e[3][j]\n",
    "\n",
    "    #print(evt_number)\n",
    "    \n",
    "    evt_hits = true_0nubb_hits[true_0nubb_hits.event_id == evt_number]\n",
    "    evt_hits = evt_hits[evt_hits.label == 'ACTIVE']\n",
    "\n",
    "    xt = evt_hits.x\n",
    "    yt = evt_hits.y\n",
    "    zt = evt_hits.z\n",
    "    et = evt_hits.energy\n",
    "    \n",
    "    true_0nubb_evt = true_0nubb[true_0nubb.event_id == evt_number]\n",
    "    true_0nubb_evt_primary = true_0nubb_evt[true_0nubb_evt.primary == True]\n",
    "    part1 = true_0nubb_evt_primary[true_0nubb_evt_primary.particle_id == 1]\n",
    "    part2 = true_0nubb_evt_primary[true_0nubb_evt_primary.particle_id == 2]\n",
    "    \n",
    "    x_e1 = part1.final_x.values[0]\n",
    "    y_e1 = part1.final_y.values[0]\n",
    "    z_e1 = part1.final_z.values[0]\n",
    "    x_e2 = part2.final_x.values[0]\n",
    "    y_e2 = part2.final_y.values[0]\n",
    "    z_e2 = part2.final_z.values[0]\n",
    "\n",
    "    bx = np.array([x_e1, x_e2])\n",
    "    by = np.array([y_e1, y_e2])\n",
    "    bz = np.array([z_e1, z_e2])\n",
    "\n",
    "    b1_true_i, b2_true_i = 0.0, 0.0\n",
    "    for i in range(1,len(xt)):\n",
    "        R1 = np.sqrt((bx[0]-xt.values[i])**2+(by[0]-yt.values[i])**2+(bz[0]-zt.values[i])**2)\n",
    "        R2 = np.sqrt((bx[1]-xt.values[i])**2+(by[1]-yt.values[i])**2+(bz[1]-zt.values[i])**2)\n",
    "        if R1<blobR:\n",
    "            b1_true_i = b1_true_i + et.values[i]\n",
    "        if R2<blobR:\n",
    "            b2_true_i = b2_true_i + et.values[i]\n",
    "    b1_true_0nubb.append(b1_true_i)\n",
    "    b2_true_0nubb.append(b2_true_i)\n",
    "    #print(b1_true_i)"
   ]
  },
  {
   "cell_type": "code",
   "execution_count": null,
   "metadata": {},
   "outputs": [],
   "source": [
    "len(reco_0nubb_e[1])"
   ]
  },
  {
   "cell_type": "code",
   "execution_count": null,
   "metadata": {},
   "outputs": [],
   "source": [
    "len(b1_true_0nubb)"
   ]
  },
  {
   "cell_type": "code",
   "execution_count": null,
   "metadata": {},
   "outputs": [],
   "source": [
    "weights = myhf.get_weights(reco_0nubb_e[1], True)\n",
    "\n",
    "plt.hist2d(reco_0nubb_e[1], b1_true_0nubb, weights= weights, bins=(30, 30), range=((0, 1.5), (0, 1.5)), cmap='viridis', cmin=0.001)\n",
    "plt.xlabel('RECO energy (MeV)')\n",
    "plt.ylabel('TRUE energy (MeV)')\n",
    "plt.title('0nubb - Blob 1')\n",
    "#plt.xlim((0.0,1.5))\n",
    "plt.colorbar(label='proportion of events')"
   ]
  },
  {
   "cell_type": "code",
   "execution_count": null,
   "metadata": {},
   "outputs": [],
   "source": [
    "weights = myhf.get_weights(reco_0nubb_e[2], True)\n",
    "\n",
    "plt.hist2d(reco_0nubb_e[2], b2_true_0nubb, weights= weights, bins=(30, 30), range=((0, 1.5), (0, 1.5)), cmap='viridis', cmin=0.001)\n",
    "plt.xlabel('RECO energy (MeV)')\n",
    "plt.ylabel('TRUE energy (MeV)')\n",
    "plt.title('0nubb - Blob 2')\n",
    "#plt.xlim((0.0,1.5))\n",
    "plt.colorbar(label='proportion of events')"
   ]
  },
  {
   "cell_type": "code",
   "execution_count": null,
   "metadata": {},
   "outputs": [],
   "source": [
    "b1_true_selectron = []\n",
    "for j in range (0,len(reco_selectron_e[3])):\n",
    "    evt_number = reco_selectron_e[3][j]\n",
    "\n",
    "    #print(evt_number)\n",
    "    \n",
    "    evt_hits = true_selectron_hits[true_selectron_hits.event_id == evt_number]\n",
    "    evt_hits = evt_hits[evt_hits.label == 'ACTIVE']\n",
    "\n",
    "    xt = evt_hits.x\n",
    "    yt = evt_hits.y\n",
    "    zt = evt_hits.z\n",
    "    et = evt_hits.energy\n",
    "    \n",
    "    true_selectron_evt = true_selectron[true_selectron.event_id == evt_number]\n",
    "    true_selectron_evt_primary = true_selectron_evt[true_selectron_evt.primary == True]\n",
    "    part1 = true_selectron_evt_primary[true_selectron_evt_primary.particle_id == 1]\n",
    "    \n",
    "    x_e1 = part1.final_x.values[0]\n",
    "    y_e1 = part1.final_y.values[0]\n",
    "    z_e1 = part1.final_z.values[0]\n",
    "\n",
    "    bx = np.array([x_e1])\n",
    "    by = np.array([y_e1])\n",
    "    bz = np.array([z_e1])\n",
    "\n",
    "    b1_true_i = 0.0\n",
    "    for i in range(1,len(xt)):\n",
    "        R1 = np.sqrt((bx[0]-xt.values[i])**2+(by[0]-yt.values[i])**2+(bz[0]-zt.values[i])**2)\n",
    "        if R1<blobR:\n",
    "            b1_true_i = b1_true_i + et.values[i]\n",
    "    b1_true_selectron.append(b1_true_i)\n",
    "    #print(b1_true_i)"
   ]
  },
  {
   "cell_type": "code",
   "execution_count": null,
   "metadata": {},
   "outputs": [],
   "source": [
    "len(b1_true_selectron)"
   ]
  },
  {
   "cell_type": "code",
   "execution_count": null,
   "metadata": {},
   "outputs": [],
   "source": [
    "len(reco_selectron_e[1])"
   ]
  },
  {
   "cell_type": "code",
   "execution_count": null,
   "metadata": {},
   "outputs": [],
   "source": [
    "weights = myhf.get_weights(reco_selectron_e[1], True)\n",
    "\n",
    "plt.hist2d(reco_selectron_e[1], b1_true_selectron, weights= weights, bins=(30, 30), range=((0, 1.5), (0, 1.5)), cmap='viridis', cmin=0.001)\n",
    "plt.xlabel('RECO energy (MeV)')\n",
    "plt.ylabel('TRUE energy (MeV)')\n",
    "plt.title('e-_roi - Blob 1')\n",
    "#plt.xlim((0.0,1.5))\n",
    "plt.colorbar(label='proportion of events')"
   ]
  },
  {
   "cell_type": "markdown",
   "metadata": {},
   "source": [
    "## Efficiency Values and FOM Estimation"
   ]
  },
  {
   "cell_type": "markdown",
   "metadata": {},
   "source": [
    "In the following boxes I'm going to define the functions I'm going to use to do the full efficiency/fom analysis:"
   ]
  },
  {
   "cell_type": "code",
   "execution_count": 76,
   "metadata": {},
   "outputs": [],
   "source": [
    "blobcut_energy=[]\n",
    "#in MeV\n",
    "minEcut = 0.010\n",
    "maxEcut = 0.600\n",
    "stepsEcut = 0.010\n",
    "\n",
    "blobcut_energy=myef.blobthreshold(minEcut,maxEcut,stepsEcut)"
   ]
  },
  {
   "cell_type": "markdown",
   "metadata": {},
   "source": [
    "Now I'm going to take the information from reco_selectron_e[][], to see how many events with each cut I get:"
   ]
  },
  {
   "cell_type": "code",
   "execution_count": 77,
   "metadata": {},
   "outputs": [],
   "source": [
    "blobcut_energy_nevents_0nubb, blobcut_energy_nevents_selectron = [], [] \n",
    "\n",
    "blobcut_energy_nevents_0nubb = myef.nevents_afterthreshold(blobcut_energy, reco_0nubb_e)\n",
    "blobcut_energy_nevents_selectron = myef.nevents_afterthreshold(blobcut_energy, reco_selectron_e)\n",
    "\n",
    "blobcut_energy_nevents_0nubb = np.array(blobcut_energy_nevents_0nubb, dtype=np.float)\n",
    "blobcut_energy_nevents_selectron = np.array(blobcut_energy_nevents_selectron, dtype=np.float)"
   ]
  },
  {
   "cell_type": "markdown",
   "metadata": {},
   "source": [
    "Create now arrays containing the statistical uncertainty (sqrt from total amount of events)"
   ]
  },
  {
   "cell_type": "code",
   "execution_count": 78,
   "metadata": {},
   "outputs": [],
   "source": [
    "blobcut_energy_nevents_0nubb_error, blobcut_energy_nevents_selectron_error= [], []\n",
    "\n",
    "blobcut_energy_nevents_0nubb_error = myef.sqrterror_array(blobcut_energy_nevents_0nubb)\n",
    "blobcut_energy_nevents_selectron_error = myef.sqrterror_array(blobcut_energy_nevents_selectron)"
   ]
  },
  {
   "cell_type": "code",
   "execution_count": 79,
   "metadata": {},
   "outputs": [
    {
     "data": {
      "text/plain": [
       "Text(0.5, 0, 'blob-2 energy threshold (MeV)')"
      ]
     },
     "execution_count": 79,
     "metadata": {},
     "output_type": "execute_result"
    },
    {
     "data": {
      "image/png": "[encoded data removed]",
      "text/plain": [
       "<Figure size 432x288 with 1 Axes>"
      ]
     },
     "metadata": {
      "needs_background": "light"
     },
     "output_type": "display_data"
    }
   ],
   "source": [
    "fig, ax = plt.subplots()\n",
    "ax.errorbar(blobcut_energy,blobcut_energy_nevents_0nubb, yerr=blobcut_energy_nevents_0nubb_error, fmt = '-r')\n",
    "plt.ylabel('accepted events (a.u.)')\n",
    "plt.xlabel('blob-2 energy threshold (MeV)')\n",
    "#plt.title('Cut efficiency')"
   ]
  },
  {
   "cell_type": "code",
   "execution_count": 80,
   "metadata": {},
   "outputs": [],
   "source": [
    "fom_error, e_error, b_error = [], [], []\n",
    "\n",
    "e, b, fom, e_error, b_error, fom_error = myef.efficiencyterms(blobcut_energy_nevents_0nubb, blobcut_energy_nevents_selectron, \n",
    "                            blobcut_energy_nevents_0nubb_error, blobcut_energy_nevents_selectron_error,\n",
    "                            reco_0nubb_e, reco_selectron_e)"
   ]
  },
  {
   "cell_type": "code",
   "execution_count": 81,
   "metadata": {},
   "outputs": [
    {
     "data": {
      "text/plain": [
       "Text(0.5, 0, 'background rejection')"
      ]
     },
     "execution_count": 81,
     "metadata": {},
     "output_type": "execute_result"
    },
    {
     "data": {
      "image/png": "[encoded data removed]",
      "text/plain": [
       "<Figure size 432x288 with 1 Axes>"
      ]
     },
     "metadata": {
      "needs_background": "light"
     },
     "output_type": "display_data"
    }
   ],
   "source": [
    "fig, ax = plt.subplots()\n",
    "ax.errorbar(1-b,e, xerr=b_error, yerr=e_error, fmt = '-r')\n",
    "plt.ylabel('signal efficiency')\n",
    "plt.xlabel('background rejection')\n",
    "#plt.title('Cut efficiency')"
   ]
  },
  {
   "cell_type": "code",
   "execution_count": 82,
   "metadata": {},
   "outputs": [
    {
     "data": {
      "text/plain": [
       "Text(0, 0.5, 'f.o.m.=e/sqrt(b)')"
      ]
     },
     "execution_count": 82,
     "metadata": {},
     "output_type": "execute_result"
    },
    {
     "data": {
      "image/png": "[encoded data removed]",
      "text/plain": [
       "<Figure size 432x288 with 1 Axes>"
      ]
     },
     "metadata": {
      "needs_background": "light"
     },
     "output_type": "display_data"
    }
   ],
   "source": [
    "fig, ax = plt.subplots()\n",
    "ax.errorbar(blobcut_energy,fom, yerr=fom_error,fmt = '-r')\n",
    "plt.xlabel('blob-2 energy threshold (MeV)')\n",
    "plt.ylabel('f.o.m.=e/sqrt(b)')\n",
    "#plt.title('Cut efficiency')"
   ]
  },
  {
   "cell_type": "code",
   "execution_count": 83,
   "metadata": {},
   "outputs": [
    {
     "name": "stdout",
     "output_type": "stream",
     "text": [
      "Best fom is {2.093567316940972}, that corresponds to:\n",
      "- signal efficiency of 49.39%\n",
      "- background acceptance of 5.57%\n",
      "- energy threshold of 0.46 MeV\n"
     ]
    }
   ],
   "source": [
    "myef.best_fom(e,b,fom,blobcut_energy)"
   ]
  },
  {
   "cell_type": "code",
   "execution_count": 84,
   "metadata": {},
   "outputs": [],
   "source": [
    "npz_file = f'/Users/halmamol/NEXT/NBarrays/ntracks_FULLSIM_nwIC_R{blobR}mm'\n",
    "np.savez(npz_file, ntracks_0nubb=ntracks_0nubb, ntracks_eroi=ntracks_eroi)"
   ]
  },
  {
   "cell_type": "code",
   "execution_count": 85,
   "metadata": {},
   "outputs": [],
   "source": [
    "npz_file = f'/Users/halmamol/NEXT/NBarrays/recovstrue_FULLSIM_nwIC_R{blobR}mm'\n",
    "np.savez(npz_file, diff_b1_x_0nubb=diff_b1_x_0nubb, diff_b1_y_0nubb=diff_b1_y_0nubb, diff_b1_z_0nubb=diff_b1_z_0nubb,\n",
    "          diff_b2_x_0nubb=diff_b2_x_0nubb, diff_b2_y_0nubb=diff_b2_y_0nubb, diff_b2_z_0nubb=diff_b2_z_0nubb,\n",
    "         diff_b1_x_selectron=diff_b1_x_selectron, diff_b1_y_selectron=diff_b1_y_selectron, diff_b1_z_selectron=diff_b1_z_selectron,\n",
    "         diff_b2_x_selectron=diff_b2_x_selectron, diff_b2_y_selectron=diff_b2_y_selectron, diff_b2_z_selectron=diff_b2_z_selectron)\n"
   ]
  },
  {
   "cell_type": "code",
   "execution_count": 86,
   "metadata": {},
   "outputs": [],
   "source": [
    "npz_file = f'/Users/halmamol/NEXT/NBarrays/ereco_FULLSIM_nwIC_R{blobR}mm'\n",
    "np.savez(npz_file, reco_0nubb_e=reco_0nubb_e, reco_selectron_e=reco_selectron_e)\n"
   ]
  },
  {
   "cell_type": "code",
   "execution_count": 87,
   "metadata": {},
   "outputs": [],
   "source": [
    "npz_file = f'/Users/halmamol/NEXT/NBarrays/trackpos_FULLSIM_nwIC_R{blobR}mm'\n",
    "np.savez(npz_file, track_0nubb_zmin=track_0nubb_zmin, track_0nubb_zmax=track_0nubb_zmax, track_0nubb_rmax = track_0nubb_rmax,\n",
    "        track_selectron_zmin=track_selectron_zmin, track_selectron_zmax=track_selectron_zmin, track_selectron_rmax = track_selectron_rmax)\n"
   ]
  },
  {
   "cell_type": "code",
   "execution_count": 88,
   "metadata": {},
   "outputs": [],
   "source": [
    "npz_file = f'/Users/halmamol/NEXT/NBarrays/fom_FULLSIM_nwIC_R{blobR}mm'\n",
    "np.savez(npz_file, e=e, b=b, fom=fom, e_error=e_error, b_error=b_error, fom_error=fom_error, blobcut_energy = blobcut_energy)"
   ]
  }
 ],
 "metadata": {
  "kernelspec": {
   "display_name": "Python 3",
   "language": "python",
   "name": "python3"
  },
  "language_info": {
   "codemirror_mode": {
    "name": "ipython",
    "version": 3
   },
   "file_extension": ".py",
   "mimetype": "text/x-python",
   "name": "python",
   "nbconvert_exporter": "python",
   "pygments_lexer": "ipython3",
   "version": "3.8.3"
  }
 },
 "nbformat": 4,
 "nbformat_minor": 4
}
