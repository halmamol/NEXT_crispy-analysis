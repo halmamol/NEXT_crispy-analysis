{
 "cells": [
  {
   "cell_type": "code",
   "execution_count": 10,
   "metadata": {},
   "outputs": [],
   "source": [
    "# General importings\n",
    "import os\n",
    "import sys\n",
    "import glob\n",
    "import logging\n",
    "import math\n",
    "import numpy  as np\n",
    "import tables as tb\n",
    "import pandas as pd\n",
    "import matplotlib.pyplot as plt\n",
    "from matplotlib import colors\n",
    "\n",
    "# Specific IC stuff\n",
    "import IC.invisible_cities.core.system_of_units  as units\n",
    "\n",
    "\n",
    "#Necessary to open configuration information\n",
    "from IC.invisible_cities.io.mcinfo_io import load_mcconfiguration\n",
    "from IC.invisible_cities.io.mcinfo_io import load_mcparticles_df\n",
    "from IC.invisible_cities.io.mcinfo_io import load_mchits_df\n",
    "from IC.invisible_cities.io.mcinfo_io import load_mcsensor_positions\n",
    "from IC.invisible_cities.io.mcinfo_io import load_mcsensor_response_df\n",
    "from IC.invisible_cities.io.mcinfo_io import get_sensor_types\n",
    "from IC.invisible_cities.io.mcinfo_io import get_sensor_binning\n",
    "from IC.invisible_cities.io.mcinfo_io import get_event_numbers_in_file\n",
    "from IC.invisible_cities.core.core_functions import in_range"
   ]
  },
  {
   "cell_type": "code",
   "execution_count": 4,
   "metadata": {},
   "outputs": [],
   "source": [
    "import functions.histo_functions as myhf\n",
    "import functions.efficiency_functions as myef\n",
    "import functions.recovstrue as myrvt"
   ]
  },
  {
   "cell_type": "code",
   "execution_count": 20,
   "metadata": {},
   "outputs": [],
   "source": [
    "filepath = '/Users/halmamol/NEXT/files/simulations/NEW_NeutronGun_dir/'\n",
    "filename_single = 'NEW_NeutronGun_216_dir.next.h5'\n",
    "maxfiles = 230\n",
    "file = filepath+filename_single\n",
    "#SiPM pitch hardcoded\n",
    "sipm_pitch = 10 #mm"
   ]
  },
  {
   "cell_type": "code",
   "execution_count": 33,
   "metadata": {},
   "outputs": [],
   "source": [
    "eventID = 108004\n",
    "ngenerated = maxfiles*500"
   ]
  },
  {
   "cell_type": "code",
   "execution_count": 78,
   "metadata": {},
   "outputs": [],
   "source": [
    "def isotopes_nCaptureFraction(ninit, particles):\n",
    "    \n",
    "    mother_particles = particles[particles.primary == 1]\n",
    "    daughter_particles = particles[particles.mother_id == 1]\n",
    "    \n",
    "    ninteractions_nCapture = mother_particles[mother_particles.final_proc == \"nCapture\"].event_id.nunique()\n",
    "    frac_ninteractions_nCapture = \"{:.2f}\".format(100*ninteractions_nCapture/ninit)\n",
    "    \n",
    "    print(f'Neutron Capture {frac_ninteractions_nCapture}%')\n",
    "\n",
    "    #Xe132\n",
    "    nCaptXe132 = daughter_particles[(daughter_particles.creator_proc == \"nCapture\")\n",
    "                                 & (daughter_particles.particle_name == \"Xe132\")].event_id.nunique()\n",
    "    fracXe132 = \"{:.2f}\".format(100*nCaptXe132/ninit)\n",
    "    #Cu64\n",
    "    nCaptCu64 = daughter_particles[(daughter_particles.creator_proc == \"nCapture\")\n",
    "                                 & (daughter_particles.particle_name == \"Cu64\")].event_id.nunique()\n",
    "    fracCu64 = \"{:.2f}\".format(100*nCaptCu64/ninit)\n",
    "    #deuteron\n",
    "    nCaptdeuteron = daughter_particles[(daughter_particles.creator_proc == \"nCapture\")\n",
    "                                 & (daughter_particles.particle_name == \"Xe132\")].event_id.nunique()\n",
    "    fracdeuteron = \"{:.2f}\".format(100*nCaptdeuteron/ninit)\n",
    "    #Cu66\n",
    "    nCaptCu66 = daughter_particles[(daughter_particles.creator_proc == \"nCapture\")\n",
    "                                 & (daughter_particles.particle_name == \"Cu66\")].event_id.nunique()\n",
    "    fracCu66 = \"{:.2f}\".format(100*nCaptCu66/ninit)\n",
    "    #Xe130\n",
    "    nCaptXe130 = daughter_particles[(daughter_particles.creator_proc == \"nCapture\")\n",
    "                                 & (daughter_particles.particle_name == \"Xe130\")].event_id.nunique()\n",
    "    fracXe130 = \"{:.2f}\".format(100*nCaptXe130/ninit)\n",
    "\n",
    "    #F20\n",
    "    nCaptF20 = daughter_particles[(daughter_particles.creator_proc == \"nCapture\")\n",
    "                                 & (daughter_particles.particle_name == \"F20\")].event_id.nunique()\n",
    "    fracF20 = \"{:.2f}\".format(100*nCaptF20/ninit)\n",
    "\n",
    "    print('Neutron Capture isotopes')\n",
    "    print(f'- Xe132 {nCaptXe132}->{fracXe132}%')\n",
    "    print(f'- Cu64 {nCaptCu64}->{fracCu64}%')\n",
    "    print(f'- deuteron {nCaptdeuteron}->{fracdeuteron}%')\n",
    "    print(f'- Cu66 {nCaptCu66}->{fracCu66}%')\n",
    "    print(f'- Xe130 {nCaptXe130}->{fracXe130}%')\n",
    "    print(f'- F20 {nCaptF20}->{fracF20}%')\n"
   ]
  },
  {
   "cell_type": "code",
   "execution_count": 79,
   "metadata": {},
   "outputs": [],
   "source": [
    "def isotopes_ineScattFraction(ninit, particles):\n",
    "    \n",
    "    mother_particles = particles[particles.primary == 1]\n",
    "    daughter_particles = particles[particles.mother_id == 1]\n",
    "    \n",
    "    ninteractions_IneScatt= mother_particles[mother_particles.final_proc == \"nCapture\"].event_id.nunique()\n",
    "    frac_ninteractions_IneScatt = \"{:.2f}\".format(100*ninteractions_IneScatt/ninit)\n",
    "    \n",
    "    print(f'Inelastic Scattering {frac_ninteractions_IneScatt}%')\n",
    "    #F19\n",
    "    nCaptF19 = daughter_particles[(daughter_particles.creator_proc == \"neutronInelastic\")\n",
    "                                 & (daughter_particles.particle_name == \"F19\")].event_id.nunique()\n",
    "    fracF19 = \"{:.2f}\".format(100*nCaptF19/ninit)\n",
    "    #Fe57\n",
    "    nCaptFe57 = daughter_particles[(daughter_particles.creator_proc == \"neutronInelastic\")\n",
    "                                 & (daughter_particles.particle_name == \"Fe57\")].event_id.nunique()\n",
    "    fracFe57 = \"{:.2f}\".format(100*nCaptFe57/ninit)\n",
    "    #Xe129\n",
    "    nCaptXe129 = daughter_particles[(daughter_particles.creator_proc == \"neutronInelastic\")\n",
    "                                 & (daughter_particles.particle_name == \"Xe129\")].event_id.nunique()\n",
    "    fracXe129 = \"{:.2f}\".format(100*nCaptXe129/ninit)\n",
    "    #Xe131\n",
    "    nCaptXe131 = daughter_particles[(daughter_particles.creator_proc == \"neutronInelastic\")\n",
    "                                 & (daughter_particles.particle_name == \"Xe131\")].event_id.nunique()\n",
    "    fracXe131 = \"{:.2f}\".format(100*nCaptXe131/ninit)\n",
    "\n",
    "    print('Inelastic Scattering isotopes')\n",
    "    print(f'- F19 {nCaptF19}->{fracF19}%')\n",
    "    print(f'- Fe57 {nCaptFe57}->{fracFe57}%')\n",
    "    print(f'- Xe129 {nCaptXe129}->{fracXe129}%')\n",
    "    print(f'- Xe131 {nCaptXe131}->{fracXe131}%')\n"
   ]
  },
  {
   "cell_type": "markdown",
   "metadata": {},
   "source": [
    "## Loading SiPM sns MAP"
   ]
  },
  {
   "cell_type": "code",
   "execution_count": 13,
   "metadata": {},
   "outputs": [],
   "source": [
    "sipm_map = pd.read_csv(\"sipm_map.csv\")"
   ]
  },
  {
   "cell_type": "code",
   "execution_count": 14,
   "metadata": {},
   "outputs": [
    {
     "data": {
      "text/plain": [
       "<matplotlib.axes._subplots.AxesSubplot at 0x11aa076d0>"
      ]
     },
     "execution_count": 14,
     "metadata": {},
     "output_type": "execute_result"
    },
    {
     "data": {
      "image/png": "[encoded data removed]",
      "text/plain": [
       "<Figure size 432x288 with 1 Axes>"
      ]
     },
     "metadata": {
      "needs_background": "light"
     },
     "output_type": "display_data"
    }
   ],
   "source": [
    "sipm_map.plot(kind='scatter', x='x', y='y')"
   ]
  },
  {
   "cell_type": "code",
   "execution_count": 15,
   "metadata": {},
   "outputs": [
    {
     "data": {
      "text/html": [
       "<div>\n",
       "<style scoped>\n",
       "    .dataframe tbody tr th:only-of-type {\n",
       "        vertical-align: middle;\n",
       "    }\n",
       "\n",
       "    .dataframe tbody tr th {\n",
       "        vertical-align: top;\n",
       "    }\n",
       "\n",
       "    .dataframe thead th {\n",
       "        text-align: right;\n",
       "    }\n",
       "</style>\n",
       "<table border=\"1\" class=\"dataframe\">\n",
       "  <thead>\n",
       "    <tr style=\"text-align: right;\">\n",
       "      <th></th>\n",
       "      <th>Unnamed: 0</th>\n",
       "      <th>sensor_id</th>\n",
       "      <th>sensor_name</th>\n",
       "      <th>x</th>\n",
       "      <th>y</th>\n",
       "      <th>xl</th>\n",
       "      <th>xr</th>\n",
       "      <th>yu</th>\n",
       "      <th>yd</th>\n",
       "      <th>id_xl</th>\n",
       "      <th>id_xr</th>\n",
       "      <th>id_yu</th>\n",
       "      <th>id_yd</th>\n",
       "    </tr>\n",
       "  </thead>\n",
       "  <tbody>\n",
       "    <tr>\n",
       "      <th>0</th>\n",
       "      <td>0</td>\n",
       "      <td>6047</td>\n",
       "      <td>SiPM</td>\n",
       "      <td>-105.0</td>\n",
       "      <td>35.0</td>\n",
       "      <td>-115.0</td>\n",
       "      <td>-95.0</td>\n",
       "      <td>45.0</td>\n",
       "      <td>25.0</td>\n",
       "      <td>6039</td>\n",
       "      <td>6055</td>\n",
       "      <td>5040</td>\n",
       "      <td>6046</td>\n",
       "    </tr>\n",
       "    <tr>\n",
       "      <th>1</th>\n",
       "      <td>1</td>\n",
       "      <td>6039</td>\n",
       "      <td>SiPM</td>\n",
       "      <td>-115.0</td>\n",
       "      <td>35.0</td>\n",
       "      <td>-125.0</td>\n",
       "      <td>-105.0</td>\n",
       "      <td>45.0</td>\n",
       "      <td>25.0</td>\n",
       "      <td>6031</td>\n",
       "      <td>6047</td>\n",
       "      <td>5032</td>\n",
       "      <td>6038</td>\n",
       "    </tr>\n",
       "    <tr>\n",
       "      <th>2</th>\n",
       "      <td>2</td>\n",
       "      <td>22031</td>\n",
       "      <td>SiPM</td>\n",
       "      <td>115.0</td>\n",
       "      <td>115.0</td>\n",
       "      <td>105.0</td>\n",
       "      <td>125.0</td>\n",
       "      <td>125.0</td>\n",
       "      <td>105.0</td>\n",
       "      <td>22023</td>\n",
       "      <td>22039</td>\n",
       "      <td>21024</td>\n",
       "      <td>22030</td>\n",
       "    </tr>\n",
       "    <tr>\n",
       "      <th>3</th>\n",
       "      <td>3</td>\n",
       "      <td>5009</td>\n",
       "      <td>SiPM</td>\n",
       "      <td>-145.0</td>\n",
       "      <td>55.0</td>\n",
       "      <td>-155.0</td>\n",
       "      <td>-135.0</td>\n",
       "      <td>65.0</td>\n",
       "      <td>45.0</td>\n",
       "      <td>5001</td>\n",
       "      <td>5017</td>\n",
       "      <td>5010</td>\n",
       "      <td>5008</td>\n",
       "    </tr>\n",
       "    <tr>\n",
       "      <th>4</th>\n",
       "      <td>4</td>\n",
       "      <td>6036</td>\n",
       "      <td>SiPM</td>\n",
       "      <td>-115.0</td>\n",
       "      <td>5.0</td>\n",
       "      <td>-125.0</td>\n",
       "      <td>-105.0</td>\n",
       "      <td>15.0</td>\n",
       "      <td>-5.0</td>\n",
       "      <td>6028</td>\n",
       "      <td>6044</td>\n",
       "      <td>6037</td>\n",
       "      <td>6035</td>\n",
       "    </tr>\n",
       "    <tr>\n",
       "      <th>...</th>\n",
       "      <td>...</td>\n",
       "      <td>...</td>\n",
       "      <td>...</td>\n",
       "      <td>...</td>\n",
       "      <td>...</td>\n",
       "      <td>...</td>\n",
       "      <td>...</td>\n",
       "      <td>...</td>\n",
       "      <td>...</td>\n",
       "      <td>...</td>\n",
       "      <td>...</td>\n",
       "      <td>...</td>\n",
       "      <td>...</td>\n",
       "    </tr>\n",
       "    <tr>\n",
       "      <th>1787</th>\n",
       "      <td>1799</td>\n",
       "      <td>1015</td>\n",
       "      <td>SiPM</td>\n",
       "      <td>-225.0</td>\n",
       "      <td>115.0</td>\n",
       "      <td>-235.0</td>\n",
       "      <td>-215.0</td>\n",
       "      <td>-999999.0</td>\n",
       "      <td>105.0</td>\n",
       "      <td>1007</td>\n",
       "      <td>1023</td>\n",
       "      <td>-999999</td>\n",
       "      <td>1014</td>\n",
       "    </tr>\n",
       "    <tr>\n",
       "      <th>1788</th>\n",
       "      <td>1800</td>\n",
       "      <td>1007</td>\n",
       "      <td>SiPM</td>\n",
       "      <td>-235.0</td>\n",
       "      <td>115.0</td>\n",
       "      <td>-999999.0</td>\n",
       "      <td>-225.0</td>\n",
       "      <td>-999999.0</td>\n",
       "      <td>105.0</td>\n",
       "      <td>-999999</td>\n",
       "      <td>1015</td>\n",
       "      <td>-999999</td>\n",
       "      <td>1006</td>\n",
       "    </tr>\n",
       "    <tr>\n",
       "      <th>1789</th>\n",
       "      <td>1801</td>\n",
       "      <td>1012</td>\n",
       "      <td>SiPM</td>\n",
       "      <td>-225.0</td>\n",
       "      <td>85.0</td>\n",
       "      <td>-235.0</td>\n",
       "      <td>-215.0</td>\n",
       "      <td>95.0</td>\n",
       "      <td>75.0</td>\n",
       "      <td>1004</td>\n",
       "      <td>1020</td>\n",
       "      <td>1013</td>\n",
       "      <td>1011</td>\n",
       "    </tr>\n",
       "    <tr>\n",
       "      <th>1790</th>\n",
       "      <td>1802</td>\n",
       "      <td>3000</td>\n",
       "      <td>SiPM</td>\n",
       "      <td>-235.0</td>\n",
       "      <td>-115.0</td>\n",
       "      <td>-999999.0</td>\n",
       "      <td>-225.0</td>\n",
       "      <td>-105.0</td>\n",
       "      <td>-999999.0</td>\n",
       "      <td>-999999</td>\n",
       "      <td>3008</td>\n",
       "      <td>3001</td>\n",
       "      <td>-999999</td>\n",
       "    </tr>\n",
       "    <tr>\n",
       "      <th>1791</th>\n",
       "      <td>1803</td>\n",
       "      <td>14000</td>\n",
       "      <td>SiPM</td>\n",
       "      <td>-75.0</td>\n",
       "      <td>-235.0</td>\n",
       "      <td>-999999.0</td>\n",
       "      <td>-65.0</td>\n",
       "      <td>-225.0</td>\n",
       "      <td>-999999.0</td>\n",
       "      <td>-999999</td>\n",
       "      <td>14008</td>\n",
       "      <td>14001</td>\n",
       "      <td>-999999</td>\n",
       "    </tr>\n",
       "  </tbody>\n",
       "</table>\n",
       "<p>1792 rows × 13 columns</p>\n",
       "</div>"
      ],
      "text/plain": [
       "      Unnamed: 0  sensor_id sensor_name      x      y        xl     xr  \\\n",
       "0              0       6047        SiPM -105.0   35.0    -115.0  -95.0   \n",
       "1              1       6039        SiPM -115.0   35.0    -125.0 -105.0   \n",
       "2              2      22031        SiPM  115.0  115.0     105.0  125.0   \n",
       "3              3       5009        SiPM -145.0   55.0    -155.0 -135.0   \n",
       "4              4       6036        SiPM -115.0    5.0    -125.0 -105.0   \n",
       "...          ...        ...         ...    ...    ...       ...    ...   \n",
       "1787        1799       1015        SiPM -225.0  115.0    -235.0 -215.0   \n",
       "1788        1800       1007        SiPM -235.0  115.0 -999999.0 -225.0   \n",
       "1789        1801       1012        SiPM -225.0   85.0    -235.0 -215.0   \n",
       "1790        1802       3000        SiPM -235.0 -115.0 -999999.0 -225.0   \n",
       "1791        1803      14000        SiPM  -75.0 -235.0 -999999.0  -65.0   \n",
       "\n",
       "            yu        yd   id_xl  id_xr   id_yu   id_yd  \n",
       "0         45.0      25.0    6039   6055    5040    6046  \n",
       "1         45.0      25.0    6031   6047    5032    6038  \n",
       "2        125.0     105.0   22023  22039   21024   22030  \n",
       "3         65.0      45.0    5001   5017    5010    5008  \n",
       "4         15.0      -5.0    6028   6044    6037    6035  \n",
       "...        ...       ...     ...    ...     ...     ...  \n",
       "1787 -999999.0     105.0    1007   1023 -999999    1014  \n",
       "1788 -999999.0     105.0 -999999   1015 -999999    1006  \n",
       "1789      95.0      75.0    1004   1020    1013    1011  \n",
       "1790    -105.0 -999999.0 -999999   3008    3001 -999999  \n",
       "1791    -225.0 -999999.0 -999999  14008   14001 -999999  \n",
       "\n",
       "[1792 rows x 13 columns]"
      ]
     },
     "execution_count": 15,
     "metadata": {},
     "output_type": "execute_result"
    }
   ],
   "source": [
    "sipm_map"
   ]
  },
  {
   "cell_type": "markdown",
   "metadata": {},
   "source": [
    "## Loading Files"
   ]
  },
  {
   "cell_type": "markdown",
   "metadata": {},
   "source": [
    "### Particles True Info"
   ]
  },
  {
   "cell_type": "code",
   "execution_count": 22,
   "metadata": {},
   "outputs": [
    {
     "name": "stdout",
     "output_type": "stream",
     "text": [
      "File /Users/halmamol/NEXT/files/simulations/NEW_NeutronGun_dir/NEW_NeutronGun_207_dir.next.h5 not good\n"
     ]
    },
    {
     "data": {
      "text/plain": [
       "Index(['event_id', 'particle_id', 'particle_name', 'primary', 'mother_id',\n",
       "       'initial_x', 'initial_y', 'initial_z', 'initial_t', 'final_x',\n",
       "       'final_y', 'final_z', 'final_t', 'initial_volume', 'final_volume',\n",
       "       'initial_momentum_x', 'initial_momentum_y', 'initial_momentum_z',\n",
       "       'final_momentum_x', 'final_momentum_y', 'final_momentum_z',\n",
       "       'kin_energy', 'length', 'creator_proc', 'final_proc'],\n",
       "      dtype='object')"
      ]
     },
     "execution_count": 22,
     "metadata": {},
     "output_type": "execute_result"
    }
   ],
   "source": [
    "particles_list = []\n",
    "\n",
    "for nfile in range(1,maxfiles):\n",
    "    \n",
    "    filename = filepath+f'NEW_NeutronGun_{nfile}_dir.next.h5'\n",
    "    try:\n",
    "        readfile_particles = pd.read_hdf(filename, 'MC/particles')\n",
    "    except:\n",
    "        print('File {} not good'.format(filename))\n",
    "        continue\n",
    "        \n",
    "    particles_list.append(readfile_particles)\n",
    "    \n",
    "\n",
    "particles = pd.concat([dt for dt in particles_list]) \n",
    "particles.columns  "
   ]
  },
  {
   "cell_type": "code",
   "execution_count": 31,
   "metadata": {},
   "outputs": [],
   "source": [
    "#particles_evt = particles[particles.event_id == eventID]\n",
    "mother_particles = particles[particles.primary == 1]\n",
    "daughter_particles = particles[particles.mother_id == 1]"
   ]
  },
  {
   "cell_type": "markdown",
   "metadata": {},
   "source": [
    "### Hits True Info"
   ]
  },
  {
   "cell_type": "code",
   "execution_count": 24,
   "metadata": {},
   "outputs": [
    {
     "name": "stdout",
     "output_type": "stream",
     "text": [
      "File /Users/halmamol/NEXT/files/simulations/NEW_NeutronGun_dir/NEW_NeutronGun_207_dir.next.h5 not good\n"
     ]
    },
    {
     "data": {
      "text/plain": [
       "Index(['event_id', 'particle_id', 'particle_name', 'primary', 'mother_id',\n",
       "       'initial_x', 'initial_y', 'initial_z', 'initial_t', 'final_x',\n",
       "       'final_y', 'final_z', 'final_t', 'initial_volume', 'final_volume',\n",
       "       'initial_momentum_x', 'initial_momentum_y', 'initial_momentum_z',\n",
       "       'final_momentum_x', 'final_momentum_y', 'final_momentum_z',\n",
       "       'kin_energy', 'length', 'creator_proc', 'final_proc'],\n",
       "      dtype='object')"
      ]
     },
     "execution_count": 24,
     "metadata": {},
     "output_type": "execute_result"
    }
   ],
   "source": [
    "hits_list = []\n",
    "\n",
    "for nfile in range(1,maxfiles):\n",
    "    \n",
    "    filename = filepath+f'NEW_NeutronGun_{nfile}_dir.next.h5'\n",
    "    try:\n",
    "        readfile_hits = pd.read_hdf(filename, 'MC/hits')\n",
    "    except:\n",
    "        print('File {} not good'.format(filename))\n",
    "        continue\n",
    "        \n",
    "    hits_list.append(readfile_particles)\n",
    "    \n",
    "\n",
    "hits = pd.concat([dt for dt in hits_list]) \n",
    "hits.columns  "
   ]
  },
  {
   "cell_type": "markdown",
   "metadata": {},
   "source": [
    "### Sensors info "
   ]
  },
  {
   "cell_type": "code",
   "execution_count": 69,
   "metadata": {},
   "outputs": [
    {
     "name": "stdout",
     "output_type": "stream",
     "text": [
      "File /Users/halmamol/NEXT/files/simulations/NEW_NeutronGun_dir/NEW_NeutronGun_207_dir.next.h5 not good\n"
     ]
    },
    {
     "data": {
      "text/plain": [
       "Index(['event_id', 'sensor_id', 'time_bin', 'charge'], dtype='object')"
      ]
     },
     "execution_count": 69,
     "metadata": {},
     "output_type": "execute_result"
    }
   ],
   "source": [
    "#Sensors info - ID\n",
    "sns_list = []\n",
    "\n",
    "for nfile in range(1,maxfiles):\n",
    "    \n",
    "    filename = filepath+f'NEW_NeutronGun_{nfile}_dir.next.h5'\n",
    "    try:\n",
    "        readfile_sns = pd.read_hdf(filename, 'MC/sns_response')\n",
    "    except:\n",
    "        print('File {} not good'.format(filename))\n",
    "        continue\n",
    "        \n",
    "    sns_list.append(readfile_sns)\n",
    "    \n",
    "\n",
    "sns_response = pd.concat([dt for dt in sns_list]) \n",
    "sns_response.columns  "
   ]
  },
  {
   "cell_type": "markdown",
   "metadata": {},
   "source": [
    "## Checking Interactions Prior Selection"
   ]
  },
  {
   "cell_type": "code",
   "execution_count": 35,
   "metadata": {},
   "outputs": [
    {
     "name": "stdout",
     "output_type": "stream",
     "text": [
      "Number of events interacting 11886->10.335652173913044%\n"
     ]
    }
   ],
   "source": [
    "ninteractions = mother_particles.event_id.nunique()\n",
    "print(f'Number of events interacting {ninteractions}->{100*ninteractions/ngenerated}%')"
   ]
  },
  {
   "cell_type": "code",
   "execution_count": 38,
   "metadata": {},
   "outputs": [
    {
     "name": "stdout",
     "output_type": "stream",
     "text": [
      "Inelastic scattering 0.0%\n",
      "Neutron Capture 99.4278983678277%\n",
      "Transportation 0.0%\n",
      "\"User Special Cut\" 0.5721016321723036%\n"
     ]
    }
   ],
   "source": [
    "ninteractions_nInelastic = mother_particles[mother_particles.final_proc == \"neutronInelastic\"].event_id.nunique()\n",
    "ninteractions_nCapture = mother_particles[mother_particles.final_proc == \"nCapture\"].event_id.nunique()\n",
    "ninteractions_Transportation = mother_particles[mother_particles.final_proc == \"Transportation\"].event_id.nunique()\n",
    "ninteractions_UserSpecialCut = mother_particles[mother_particles.final_proc == \"UserSpecialCut\"].event_id.nunique()\n",
    "\n",
    "print(f'Inelastic scattering {100*ninteractions_nInelastic/ninteractions}%')\n",
    "print(f'Neutron Capture {100*ninteractions_nCapture/ninteractions}%')\n",
    "print(f'Transportation {100*ninteractions_Transportation/ninteractions}%')\n",
    "print(f'\"User Special Cut\" {100*ninteractions_UserSpecialCut/ninteractions}%')"
   ]
  },
  {
   "cell_type": "code",
   "execution_count": 41,
   "metadata": {},
   "outputs": [
    {
     "data": {
      "image/png": "[encoded data removed]",
      "text/plain": [
       "<Figure size 432x288 with 1 Axes>"
      ]
     },
     "metadata": {
      "needs_background": "light"
     },
     "output_type": "display_data"
    }
   ],
   "source": [
    "neutron_interactions = mother_particles.final_proc\n",
    "plt.hist(neutron_interactions, alpha=0.6, color='r', density = True)\n",
    "plt.xticks(rotation=45)\n",
    "\n",
    "plt.show()"
   ]
  },
  {
   "cell_type": "code",
   "execution_count": 46,
   "metadata": {},
   "outputs": [],
   "source": [
    "nCapture = daughter_particles[(daughter_particles.creator_proc == \"nCapture\")\n",
    "                             & (daughter_particles.particle_name != \"gamma\")].particle_name"
   ]
  },
  {
   "cell_type": "code",
   "execution_count": 47,
   "metadata": {},
   "outputs": [
    {
     "data": {
      "image/png": "[encoded data removed]",
      "text/plain": [
       "<Figure size 432x288 with 1 Axes>"
      ]
     },
     "metadata": {
      "needs_background": "light"
     },
     "output_type": "display_data"
    }
   ],
   "source": [
    "plt.hist(nCapture, density=True, alpha=0.6, bins = 50, color='r')\n",
    "plt.xticks(rotation=90)\n",
    "\n",
    "plt.show()"
   ]
  },
  {
   "cell_type": "code",
   "execution_count": 80,
   "metadata": {},
   "outputs": [
    {
     "name": "stdout",
     "output_type": "stream",
     "text": [
      "Neutron Capture 99.43%\n",
      "Neutron Capture isotopes\n",
      "- Xe132 3646->30.67%\n",
      "- Cu64 5100->42.91%\n",
      "- deuteron 3646->30.67%\n",
      "- Cu66 1340->11.27%\n",
      "- Xe130 1223->10.29%\n",
      "- F20 12->0.10%\n"
     ]
    }
   ],
   "source": [
    "isotopes_nCaptureFraction(ninteractions, particles)"
   ]
  },
  {
   "cell_type": "code",
   "execution_count": 43,
   "metadata": {},
   "outputs": [],
   "source": [
    "n_inelscatt = daughter_particles[(daughter_particles.creator_proc == \"neutronInelastic\") \n",
    "                   & (daughter_particles.particle_name != \"gamma\") \n",
    "                   & (daughter_particles.particle_name != \"neutron\") ].particle_name"
   ]
  },
  {
   "cell_type": "code",
   "execution_count": 44,
   "metadata": {},
   "outputs": [
    {
     "name": "stderr",
     "output_type": "stream",
     "text": [
      "/Users/halmamol/opt/anaconda3/lib/python3.8/site-packages/numpy/lib/histograms.py:908: RuntimeWarning: invalid value encountered in true_divide\n",
      "  return n/db/n.sum(), bin_edges\n"
     ]
    },
    {
     "data": {
      "image/png": "[encoded data removed]",
      "text/plain": [
       "<Figure size 432x288 with 1 Axes>"
      ]
     },
     "metadata": {
      "needs_background": "light"
     },
     "output_type": "display_data"
    }
   ],
   "source": [
    "plt.hist(n_inelscatt, density=True, alpha=0.6, bins = 50, color='r')\n",
    "plt.xticks(rotation=90)\n",
    "\n",
    "plt.show()"
   ]
  },
  {
   "cell_type": "code",
   "execution_count": 81,
   "metadata": {},
   "outputs": [
    {
     "name": "stdout",
     "output_type": "stream",
     "text": [
      "Inelastic Scattering 99.43%\n",
      "Inelastic Scattering isotopes\n",
      "- F19 0->0.00%\n",
      "- Fe57 0->0.00%\n",
      "- Xe129 0->0.00%\n",
      "- Xe131 0->0.00%\n"
     ]
    }
   ],
   "source": [
    "isotopes_ineScattFraction(ninteractions, particles)\n"
   ]
  },
  {
   "cell_type": "markdown",
   "metadata": {},
   "source": [
    "## CUT Selection"
   ]
  },
  {
   "cell_type": "markdown",
   "metadata": {},
   "source": [
    "Events selected under the following cuts:\n",
    "- **Cut 0**: qSiPM > Eth\n",
    "- **Cut 1**: Fiducial cut\n",
    "- **Cut 2**: Ncluster = 2\n",
    "- **Cut 3**: Energy Cut for Cluster"
   ]
  },
  {
   "cell_type": "markdown",
   "metadata": {},
   "source": [
    "## Preliminary Cut"
   ]
  },
  {
   "cell_type": "code",
   "execution_count": 84,
   "metadata": {},
   "outputs": [
    {
     "data": {
      "text/plain": [
       "8853"
      ]
     },
     "execution_count": 84,
     "metadata": {},
     "output_type": "execute_result"
    }
   ],
   "source": [
    "sns_response_eth = sns_response[sns_response.charge > 3]\n",
    "ninteractions_eth = sns_response_eth.event_id.nunique()\n",
    "ninteractions_eth"
   ]
  },
  {
   "cell_type": "code",
   "execution_count": 85,
   "metadata": {},
   "outputs": [
    {
     "data": {
      "text/plain": [
       "8853"
      ]
     },
     "execution_count": 85,
     "metadata": {},
     "output_type": "execute_result"
    }
   ],
   "source": [
    "sns_response_eth_list = sns_response_eth.event_id.unique()\n",
    "\n",
    "# I get a list of true elements if event ID is in the above list\n",
    "evt_sns_response_eth = particles.event_id.isin(sns_response_eth_list) \n",
    "\n",
    "# And finally I select the events with an asigned True from the previous line \n",
    "particles_eth = particles[evt_sns_response_eth]\n",
    "\n",
    "particles_eth.event_id.nunique()"
   ]
  },
  {
   "cell_type": "code",
   "execution_count": 92,
   "metadata": {},
   "outputs": [
    {
     "name": "stdout",
     "output_type": "stream",
     "text": [
      "--INITIAL-- 11886 events\n",
      "Neutron Capture 99.43%\n",
      "Neutron Capture isotopes\n",
      "- Xe132 3646->30.67%\n",
      "- Cu64 5100->42.91%\n",
      "- deuteron 3646->30.67%\n",
      "- Cu66 1340->11.27%\n",
      "- Xe130 1223->10.29%\n",
      "- F20 12->0.10%\n",
      "--PRELIMINARY-- 8853 events -> reduction 25.517415446744074%\n",
      "Neutron Capture 100.00%\n",
      "Neutron Capture isotopes\n",
      "- Xe132 1710->19.32%\n",
      "- Cu64 4466->50.45%\n",
      "- deuteron 1710->19.32%\n",
      "- Cu66 1218->13.76%\n",
      "- Xe130 1040->11.75%\n",
      "- F20 10->0.11%\n"
     ]
    }
   ],
   "source": [
    "print(f'--INITIAL-- {ninteractions} events')\n",
    "isotopes_nCaptureFraction(ninteractions, particles)\n",
    "print(f'--PRELIMINARY-- {ninteractions_eth} events -> reduction {100*(1-ninteractions_eth/ninteractions)}%')\n",
    "isotopes_nCaptureFraction(ninteractions_eth, particles_eth)"
   ]
  },
  {
   "cell_type": "markdown",
   "metadata": {},
   "source": [
    "## Fiducial cut"
   ]
  },
  {
   "cell_type": "markdown",
   "metadata": {},
   "source": [
    "I'm going to apply the fiducial cuts considered in the NEW analysis:\n",
    "- r<180mm\n",
    "- 20mm < z <510mm"
   ]
  },
  {
   "cell_type": "code",
   "execution_count": 93,
   "metadata": {},
   "outputs": [],
   "source": [
    "rmax = 180\n",
    "zmin = 20\n",
    "zmax = 510"
   ]
  },
  {
   "cell_type": "code",
   "execution_count": 110,
   "metadata": {},
   "outputs": [
    {
     "data": {
      "text/plain": [
       "1792"
      ]
     },
     "execution_count": 110,
     "metadata": {},
     "output_type": "execute_result"
    }
   ],
   "source": [
    "sipm_map\n",
    "len(sipm_map.sensor_id)"
   ]
  },
  {
   "cell_type": "code",
   "execution_count": 119,
   "metadata": {},
   "outputs": [],
   "source": [
    "#Check in SiPm list which ones are out of the limits\n",
    "sns_fid_list = []\n",
    "\n",
    "for entry in range(0,len(sipm_map.sensor_id)):\n",
    "    sns = sns_response_eth.sensor_id.values[entry]\n",
    "    try:\n",
    "        x_pos = sipm_map[sipm_map.sensor_id == sns].x.values[0]\n",
    "        y_pos = sipm_map[sipm_map.sensor_id == sns].y.values[0]\n",
    "    except:\n",
    "        continue\n",
    "    r_pos = math.sqrt(x_pos**2+y_pos**2)\n",
    "    if (r_pos < rmax):\n",
    "        sns_fid_list.append(sns)"
   ]
  },
  {
   "cell_type": "code",
   "execution_count": 125,
   "metadata": {},
   "outputs": [
    {
     "data": {
      "text/plain": [
       "2585"
      ]
     },
     "execution_count": 125,
     "metadata": {},
     "output_type": "execute_result"
    }
   ],
   "source": [
    "# I get a list of true elements if event ID is in the above list\n",
    "evt_sns_response_fideth = sns_response_eth.sensor_id.isin(sns_fid_list) \n",
    "\n",
    "# And finally I select the events with an asigned True from the previous line \n",
    "sns_response_fideth = sns_response_eth[evt_sns_response_fideth]\n",
    "\n",
    "sns_response_fideth.event_id.nunique()"
   ]
  },
  {
   "cell_type": "code",
   "execution_count": 141,
   "metadata": {},
   "outputs": [
    {
     "data": {
      "text/plain": [
       "2585"
      ]
     },
     "execution_count": 141,
     "metadata": {},
     "output_type": "execute_result"
    }
   ],
   "source": [
    "nonfiducial_list = sns_response_fideth.event_id.unique()\n",
    "# I get a list of true elements if event ID is in the above list\n",
    "evt_sns_response_fideth = ~particles_eth.event_id.isin(nonfiducial_list) \n",
    "# And finally I select the events with an asigned True from the previous line \n",
    "particles_fideth = particles_eth[~evt_sns_response_fideth]\n",
    "\n",
    "particles_fideth.event_id.nunique()"
   ]
  },
  {
   "cell_type": "code",
   "execution_count": 192,
   "metadata": {},
   "outputs": [],
   "source": [
    "selectedSiPM, selectedSiPM_x, selectedSiPM_y, selectedSiPM_q = [], [], [], []\n",
    "sns_response_evt = sns_response_fideth[sns_response_fideth.event_id == 503]\n",
    "\n",
    "total = len(sns_response_evt.event_id)-1\n",
    "for entry in range(0,total):\n",
    "    sns = sns_response_evt.sensor_id.values[entry]\n",
    "    q = sns_response_evt.charge.values[entry]\n",
    "    #note! SiPM have a sns number >100, while PMTs are defined below 100 \n",
    "    if(sns > 1000):\n",
    "        x_pos = sipm_map[sipm_map.sensor_id == sns].x.values[0]\n",
    "        y_pos = sipm_map[sipm_map.sensor_id == sns].y.values[0]\n",
    "        selectedSiPM_x.append(x_pos)\n",
    "        selectedSiPM_y.append(y_pos)\n",
    "        selectedSiPM_q.append(q)\n",
    "    else:\n",
    "        continue\n",
    "    \n",
    "selectedSiPM.append(selectedSiPM_x)\n",
    "selectedSiPM.append(selectedSiPM_y)\n",
    "selectedSiPM.append(selectedSiPM_q)"
   ]
  },
  {
   "cell_type": "code",
   "execution_count": 193,
   "metadata": {},
   "outputs": [
    {
     "data": {
      "text/plain": [
       "<matplotlib.colorbar.Colorbar at 0x128ccd130>"
      ]
     },
     "execution_count": 193,
     "metadata": {},
     "output_type": "execute_result"
    },
    {
     "data": {
      "image/png": "[encoded data removed]",
      "text/plain": [
       "<Figure size 432x288 with 2 Axes>"
      ]
     },
     "metadata": {
      "needs_background": "light"
     },
     "output_type": "display_data"
    }
   ],
   "source": [
    "fig, ax = plt.subplots()\n",
    "weights = myhf.get_weights(selectedSiPM[0], True)\n",
    "\n",
    "plt.hist2d(selectedSiPM[0], selectedSiPM[1], weights = selectedSiPM[2], bins=(50, 50), range=((-250, 250), (-250, 250)), cmap='viridis', cmin=0.001)\n",
    "circle1 = plt.Circle((0, 0), 180, edgecolor = 'red', fill = False ,linestyle = '--')\n",
    "ax.add_artist(circle1)\n",
    "plt.xlabel('x (mm)')\n",
    "plt.ylabel('y (mm)')\n",
    "#plt.title('charge (PE)')\n",
    "\n",
    "plt.colorbar(label='charge (PE)')"
   ]
  },
  {
   "cell_type": "code",
   "execution_count": 263,
   "metadata": {},
   "outputs": [
    {
     "data": {
      "text/plain": [
       "[< nsipm = 153 Q = 1988\n",
       "                     xy = xy(x=49.77867203219316, y=-1.6851106639839035) 3dHit = Cluster(49.77867203219316, -1.6851106639839035, -9.425, E=1988)  >]"
      ]
     },
     "execution_count": 263,
     "metadata": {},
     "output_type": "execute_result"
    }
   ],
   "source": [
    "posXY = np.array([np.array([x,y]) for x,y in zip(selectedSiPM[0], selectedSiPM[1])])\n",
    "Qs  = np.array(selectedSiPM[2])\n",
    "c_i = barycenter(posXY, Qs)\n",
    "c_i"
   ]
  },
  {
   "cell_type": "code",
   "execution_count": 284,
   "metadata": {},
   "outputs": [
    {
     "data": {
      "text/plain": [
       "[< nsipm = 28 Q = 912\n",
       "                     xy = xy(x=36.041666666666664, y=-71.8640350877193) 3dHit = Cluster(36.041666666666664, -71.8640350877193, -9.425, E=912)  >,\n",
       " < nsipm = 26 Q = 411\n",
       "                     xy = xy(x=68.43065693430657, y=143.661800486618) 3dHit = Cluster(68.43065693430657, 143.661800486618, -9.425, E=411)  >,\n",
       " < nsipm = 8 Q = 74\n",
       "                     xy = xy(x=48.513513513513516, y=-83.24324324324324) 3dHit = Cluster(48.513513513513516, -83.24324324324324, -9.425, E=74)  >,\n",
       " < nsipm = 13 Q = 114\n",
       "                     xy = xy(x=35.96491228070175, y=-53.333333333333336) 3dHit = Cluster(35.96491228070175, -53.333333333333336, -9.425, E=114)  >]"
      ]
     },
     "execution_count": 284,
     "metadata": {},
     "output_type": "execute_result"
    }
   ],
   "source": [
    "clusters = corona(posXY, Qs, sipm_map,\n",
    "           #charge threshold, ignore all SiPMs with less than Qthr pes\n",
    "           Qthr            =  5 * units.pes,\n",
    "           #charge threshold, every Cluster must contain at least one SiPM with charge >= Qlm\n",
    "           Qlm             =  20 * units.pes,\n",
    "           #radius, find new_local_maximum by taking the barycenter of SiPMs within lm_radius of the max sipm.\n",
    "           #In general lm_radius should typically be set to 0, or some value slightly larger than pitch or pitch*sqrt(2)\n",
    "           lm_radius       =  sipm_pitch*math.sqrt(2) * units.mm,\n",
    "           #radius, find a new cluster by calling barycenter() on pos/qs of SiPMs within new_lm_radius of new_local_maximum\n",
    "           new_lm_radius   = sipm_pitch*math.sqrt(2) * units.mm,\n",
    "           #minimum number of SiPMs in a Cluster  \n",
    "           msipm           =  5,\n",
    "           consider_masked = False)\n",
    "clusters"
   ]
  },
  {
   "cell_type": "code",
   "execution_count": 278,
   "metadata": {},
   "outputs": [
    {
     "data": {
      "text/plain": [
       "36.041666666666664"
      ]
     },
     "execution_count": 278,
     "metadata": {},
     "output_type": "execute_result"
    }
   ],
   "source": [
    "clusters[0].X"
   ]
  },
  {
   "cell_type": "code",
   "execution_count": 285,
   "metadata": {},
   "outputs": [],
   "source": [
    "bx = np.array([clusters[0].X, clusters[1].X, clusters[2].X, clusters[3].X], dtype=np.float)\n",
    "by = np.array([clusters[0].Y, clusters[1].Y, clusters[2].Y, clusters[3].Y], dtype=np.float)"
   ]
  },
  {
   "cell_type": "code",
   "execution_count": 286,
   "metadata": {},
   "outputs": [
    {
     "data": {
      "text/plain": [
       "<matplotlib.colorbar.Colorbar at 0x175301d60>"
      ]
     },
     "execution_count": 286,
     "metadata": {},
     "output_type": "execute_result"
    },
    {
     "data": {
      "image/png": "[encoded data removed]",
      "text/plain": [
       "<Figure size 432x288 with 2 Axes>"
      ]
     },
     "metadata": {
      "needs_background": "light"
     },
     "output_type": "display_data"
    }
   ],
   "source": [
    "fig, ax = plt.subplots()\n",
    "weights = myhf.get_weights(selectedSiPM[0], True)\n",
    "\n",
    "plt.hist2d(selectedSiPM[0], selectedSiPM[1], weights = selectedSiPM[2], bins=(50, 50), range=((-250, 250), (-250, 250)), cmap='viridis', cmin=0.001)\n",
    "circle1 = plt.Circle((0, 0), 180, edgecolor = 'red', fill = False ,linestyle = '--')\n",
    "plt.scatter(bx, by, marker='x', s=200, linewidth=5, color='red')\n",
    "ax.add_artist(circle1)\n",
    "plt.xlabel('x (mm)')\n",
    "plt.ylabel('y (mm)')\n",
    "#plt.title('charge (PE)')\n",
    "\n",
    "plt.colorbar(label='charge (PE)')"
   ]
  },
  {
   "cell_type": "code",
   "execution_count": 289,
   "metadata": {},
   "outputs": [
    {
     "data": {
      "text/plain": [
       "114541"
      ]
     },
     "execution_count": 289,
     "metadata": {},
     "output_type": "execute_result"
    }
   ],
   "source": [
    "max(sns_response.event_id.unique())"
   ]
  },
  {
   "cell_type": "code",
   "execution_count": 312,
   "metadata": {},
   "outputs": [],
   "source": [
    "nClusters = []\n",
    "totevt = max(sns_response.event_id.unique())\n",
    "\n",
    "for evt in range(0,totevt):\n",
    "    selectedSiPM, selectedSiPM_x, selectedSiPM_y, selectedSiPM_q = [], [], [], []\n",
    "    sns_response_evt = sns_response_fideth[sns_response_fideth.event_id == evt]\n",
    "\n",
    "    total = len(sns_response_evt.event_id)-1\n",
    "    for entry in range(0,total):\n",
    "        sns = sns_response_evt.sensor_id.values[entry]\n",
    "        q = sns_response_evt.charge.values[entry]\n",
    "        #note! SiPM have a sns number >100, while PMTs are defined below 100 \n",
    "        if(sns > 1000):\n",
    "            x_pos = sipm_map[sipm_map.sensor_id == sns].x.values[0]\n",
    "            y_pos = sipm_map[sipm_map.sensor_id == sns].y.values[0]\n",
    "            selectedSiPM_x.append(x_pos)\n",
    "            selectedSiPM_y.append(y_pos)\n",
    "            selectedSiPM_q.append(q)\n",
    "        else:\n",
    "            continue\n",
    "\n",
    "    selectedSiPM.append(selectedSiPM_x)\n",
    "    selectedSiPM.append(selectedSiPM_y)\n",
    "    selectedSiPM.append(selectedSiPM_q)\n",
    "    \n",
    "    posXY = np.array([np.array([x,y]) for x,y in zip(selectedSiPM[0], selectedSiPM[1])])\n",
    "    Qs  = np.array(selectedSiPM[2])\n",
    "\n",
    "    if(posXY.any() != 0):\n",
    "        try:\n",
    "            clusters = corona(posXY, Qs, sipm_map,\n",
    "                   #charge threshold, ignore all SiPMs with less than Qthr pes\n",
    "                   Qthr            =  5 * units.pes,\n",
    "                   #charge threshold, every Cluster must contain at least one SiPM with charge >= Qlm\n",
    "                   Qlm             =  20 * units.pes,\n",
    "                   #radius, find new_local_maximum by taking the barycenter of SiPMs within lm_radius of the max sipm.\n",
    "                   #In general lm_radius should typically be set to 0, or some value slightly larger than pitch or pitch*sqrt(2)\n",
    "                   lm_radius       =  sipm_pitch*math.sqrt(2) * units.mm,\n",
    "                   #radius, find a new cluster by calling barycenter() on pos/qs of SiPMs within new_lm_radius of new_local_maximum\n",
    "                   new_lm_radius   = sipm_pitch*math.sqrt(2) * units.mm,\n",
    "                   #minimum number of SiPMs in a Cluster  \n",
    "                   msipm           =  5,\n",
    "                   consider_masked = False)\n",
    "        except:\n",
    "            continue\n",
    "        #print(clusters)\n",
    "        nClusters.append(len(clusters))\n"
   ]
  },
  {
   "cell_type": "code",
   "execution_count": 313,
   "metadata": {},
   "outputs": [
    {
     "data": {
      "image/png": "[encoded data removed]",
      "text/plain": [
       "<Figure size 432x288 with 1 Axes>"
      ]
     },
     "metadata": {
      "needs_background": "light"
     },
     "output_type": "display_data"
    }
   ],
   "source": [
    "nClusters\n",
    "plt.hist(nClusters, color='red', histtype='step', density = True, label = 'nClusters')\n",
    "\n",
    "plt.xlabel('energy (MeV)')\n",
    "plt.ylabel('events (a.u.)')\n",
    "plt.legend(loc=1);\n",
    "plt.show()"
   ]
  },
  {
   "cell_type": "code",
   "execution_count": 239,
   "metadata": {},
   "outputs": [
    {
     "data": {
      "image/png": "[encoded data removed]",
      "text/plain": [
       "<Figure size 432x288 with 1 Axes>"
      ]
     },
     "metadata": {
      "needs_background": "light"
     },
     "output_type": "display_data"
    }
   ],
   "source": [
    "plt.hist(selectedSiPM[0], color='red', histtype='step', label = 'x-axis')\n",
    "plt.hist(selectedSiPM[1],  color='blue', histtype='step', label = 'y-axis', linestyle='dashed')\n",
    "\n",
    "plt.xlabel('energy (MeV)')\n",
    "plt.ylabel('events (a.u.)')\n",
    "plt.legend(loc=1);\n",
    "plt.show()"
   ]
  },
  {
   "cell_type": "code",
   "execution_count": 249,
   "metadata": {},
   "outputs": [
    {
     "data": {
      "image/png": "[encoded data removed]",
      "text/plain": [
       "<Figure size 432x288 with 1 Axes>"
      ]
     },
     "metadata": {
      "needs_background": "light"
     },
     "output_type": "display_data"
    },
    {
     "name": "stdout",
     "output_type": "stream",
     "text": [
      "Fit results: mu = 18.26797385620915,  std = 102.91712552320969 \n",
      "-2.526304525881509\n"
     ]
    }
   ],
   "source": [
    "from scipy.stats import norm\n",
    "from scipy.stats import exponnorm\n",
    "from scipy.stats import skewnorm\n",
    "mu, std = norm.fit(selectedSiPM[1])\n",
    "\n",
    "# Plot the histogram.\n",
    "plt.hist(selectedSiPM[1], bins=25, density=True, alpha=0.6, color='r')\n",
    "\n",
    "# Plot the PDF.\n",
    "x = np.linspace(min(selectedSiPM[1]), max(selectedSiPM[1]), 100)\n",
    "p = norm.pdf(x, mu, std)\n",
    "plt.plot(x, p, 'k', linewidth=2)\n",
    "plt.title('0nubb')\n",
    "\n",
    "plt.show()\n",
    "\n",
    "print(f'Fit results: mu = {mu},  std = {std} ')\n",
    "print((min(selectedSiPM[1]) - max(selectedSiPM[1]))/std)"
   ]
  },
  {
   "cell_type": "code",
   "execution_count": 248,
   "metadata": {},
   "outputs": [
    {
     "data": {
      "image/png": "[encoded data removed]",
      "text/plain": [
       "<Figure size 432x288 with 1 Axes>"
      ]
     },
     "metadata": {
      "needs_background": "light"
     },
     "output_type": "display_data"
    },
    {
     "name": "stdout",
     "output_type": "stream",
     "text": [
      "Fit results: mu = 54.54248366013072,  std = 27.614050351912674 \n",
      "-140.0\n"
     ]
    }
   ],
   "source": [
    "mu, std = norm.fit(selectedSiPM[0])\n",
    "\n",
    "# Plot the histogram.\n",
    "plt.hist(selectedSiPM[0], bins=25, density=True, alpha=0.6, color='r')\n",
    "\n",
    "# Plot the PDF.\n",
    "x = np.linspace(min(selectedSiPM[0]), max(selectedSiPM[0]), 100)\n",
    "p = norm.pdf(x, mu, std)\n",
    "plt.plot(x, p, 'k', linewidth=2)\n",
    "plt.title('0nubb')\n",
    "\n",
    "plt.show()\n",
    "\n",
    "print(f'Fit results: mu = {mu},  std = {std} ')\n",
    "print(min(selectedSiPM[0]) - max(selectedSiPM[0]))"
   ]
  },
  {
   "cell_type": "code",
   "execution_count": 215,
   "metadata": {},
   "outputs": [],
   "source": [
    "from sklearn.cluster import KMeans"
   ]
  },
  {
   "cell_type": "code",
   "execution_count": 232,
   "metadata": {},
   "outputs": [],
   "source": [
    "kmeans = KMeans(\n",
    "   ...:     init=\"random\",\n",
    "   ...:     n_clusters=2,\n",
    "   ...:     n_init=10,\n",
    "   ...:     max_iter=300,\n",
    "   ...:     random_state=42\n",
    "   ...: )                    # haz 8 grupos con nuestros datos"
   ]
  },
  {
   "cell_type": "code",
   "execution_count": 233,
   "metadata": {},
   "outputs": [
    {
     "data": {
      "text/plain": [
       "KMeans(init='random', n_clusters=2, random_state=42)"
      ]
     },
     "execution_count": 233,
     "metadata": {},
     "output_type": "execute_result"
    }
   ],
   "source": [
    "kmeans.fit(sns_response_evt)"
   ]
  },
  {
   "cell_type": "code",
   "execution_count": 236,
   "metadata": {},
   "outputs": [
    {
     "data": {
      "text/plain": [
       "array([[5.03000000e+02, 2.14327500e+04, 3.16041667e+02, 7.16666667e+00],\n",
       "       [5.03000000e+02, 1.75285923e+04, 3.05869231e+02, 1.40000000e+01]])"
      ]
     },
     "execution_count": 236,
     "metadata": {},
     "output_type": "execute_result"
    }
   ],
   "source": [
    "kmeans.cluster_centers_"
   ]
  },
  {
   "cell_type": "code",
   "execution_count": 231,
   "metadata": {},
   "outputs": [
    {
     "name": "stdout",
     "output_type": "stream",
     "text": [
      "[1 1 1 1 1 1 1 1 1 1 1 1 1 1 1 1 1 1 1 1 1 1 1 1 1 1 1 1 1 1 1 1 1 1 1 1 1\n",
      " 1 1 1 1 1 1 1 1 1 1 1 1 1 1 1 1 1 1 1 1 1 1 1 1 1 1 1 1 1 1 1 1 1 1 1 0 0\n",
      " 0 1 1 1 1 0 0 0 0 1 1 1 1 1 1 1 1 1 1 1 1 1 1 1 1 1 1 1 1 1 1 1 1 1 0 0 0\n",
      " 1 1 1 1 1 0 1 1 1 1 1 0 0 0 0 1 1 1 1 1 1 1 1 1 1 1 1 1 1 1 0 1 1 0 0 0 0\n",
      " 0 0 0 0 1 1]\n"
     ]
    }
   ],
   "source": [
    "#Initialize the class object\n",
    "kmeans = KMeans(n_clusters= 2)\n",
    " \n",
    "#predict the labels of clusters.\n",
    "label = kmeans.fit_predict(sns_response_evt)\n",
    " \n",
    "print(label)"
   ]
  },
  {
   "cell_type": "code",
   "execution_count": 250,
   "metadata": {},
   "outputs": [
    {
     "data": {
      "text/html": [
       "<div>\n",
       "<style scoped>\n",
       "    .dataframe tbody tr th:only-of-type {\n",
       "        vertical-align: middle;\n",
       "    }\n",
       "\n",
       "    .dataframe tbody tr th {\n",
       "        vertical-align: top;\n",
       "    }\n",
       "\n",
       "    .dataframe thead th {\n",
       "        text-align: right;\n",
       "    }\n",
       "</style>\n",
       "<table border=\"1\" class=\"dataframe\">\n",
       "  <thead>\n",
       "    <tr style=\"text-align: right;\">\n",
       "      <th></th>\n",
       "      <th>event_id</th>\n",
       "      <th>particle_id</th>\n",
       "      <th>particle_name</th>\n",
       "      <th>primary</th>\n",
       "      <th>mother_id</th>\n",
       "      <th>initial_x</th>\n",
       "      <th>initial_y</th>\n",
       "      <th>initial_z</th>\n",
       "      <th>initial_t</th>\n",
       "      <th>final_x</th>\n",
       "      <th>...</th>\n",
       "      <th>initial_momentum_x</th>\n",
       "      <th>initial_momentum_y</th>\n",
       "      <th>initial_momentum_z</th>\n",
       "      <th>final_momentum_x</th>\n",
       "      <th>final_momentum_y</th>\n",
       "      <th>final_momentum_z</th>\n",
       "      <th>kin_energy</th>\n",
       "      <th>length</th>\n",
       "      <th>creator_proc</th>\n",
       "      <th>final_proc</th>\n",
       "    </tr>\n",
       "  </thead>\n",
       "  <tbody>\n",
       "    <tr>\n",
       "      <th>280</th>\n",
       "      <td>503</td>\n",
       "      <td>4</td>\n",
       "      <td>Cu64</td>\n",
       "      <td>0</td>\n",
       "      <td>1</td>\n",
       "      <td>95.001213</td>\n",
       "      <td>10.520631</td>\n",
       "      <td>-21.435419</td>\n",
       "      <td>2.585205e+05</td>\n",
       "      <td>95.001213</td>\n",
       "      <td>...</td>\n",
       "      <td>5.404075</td>\n",
       "      <td>-12.272764</td>\n",
       "      <td>0.766734</td>\n",
       "      <td>0.000000</td>\n",
       "      <td>-0.000000</td>\n",
       "      <td>0.000000</td>\n",
       "      <td>0.001515</td>\n",
       "      <td>1.934358e-05</td>\n",
       "      <td>nCapture</td>\n",
       "      <td>Scintillation</td>\n",
       "    </tr>\n",
       "    <tr>\n",
       "      <th>281</th>\n",
       "      <td>503</td>\n",
       "      <td>9</td>\n",
       "      <td>nu_e</td>\n",
       "      <td>0</td>\n",
       "      <td>4</td>\n",
       "      <td>95.001213</td>\n",
       "      <td>10.520631</td>\n",
       "      <td>-21.435419</td>\n",
       "      <td>5.175836e+13</td>\n",
       "      <td>-4322.083984</td>\n",
       "      <td>...</td>\n",
       "      <td>-0.545645</td>\n",
       "      <td>1.542831</td>\n",
       "      <td>0.312564</td>\n",
       "      <td>-0.545645</td>\n",
       "      <td>1.542831</td>\n",
       "      <td>0.312564</td>\n",
       "      <td>1.666059</td>\n",
       "      <td>1.348703e+04</td>\n",
       "      <td>RadioactiveDecay</td>\n",
       "      <td>Transportation</td>\n",
       "    </tr>\n",
       "    <tr>\n",
       "      <th>282</th>\n",
       "      <td>503</td>\n",
       "      <td>8</td>\n",
       "      <td>Ni64</td>\n",
       "      <td>0</td>\n",
       "      <td>4</td>\n",
       "      <td>95.001213</td>\n",
       "      <td>10.520631</td>\n",
       "      <td>-21.435419</td>\n",
       "      <td>5.175836e+13</td>\n",
       "      <td>95.001221</td>\n",
       "      <td>...</td>\n",
       "      <td>0.545645</td>\n",
       "      <td>-1.542831</td>\n",
       "      <td>-0.312564</td>\n",
       "      <td>0.000000</td>\n",
       "      <td>-0.000000</td>\n",
       "      <td>-0.000000</td>\n",
       "      <td>0.000023</td>\n",
       "      <td>2.465939e-06</td>\n",
       "      <td>RadioactiveDecay</td>\n",
       "      <td>Scintillation</td>\n",
       "    </tr>\n",
       "    <tr>\n",
       "      <th>283</th>\n",
       "      <td>503</td>\n",
       "      <td>7</td>\n",
       "      <td>gamma</td>\n",
       "      <td>0</td>\n",
       "      <td>4</td>\n",
       "      <td>95.001213</td>\n",
       "      <td>10.520631</td>\n",
       "      <td>-21.435419</td>\n",
       "      <td>5.175836e+13</td>\n",
       "      <td>95.000359</td>\n",
       "      <td>...</td>\n",
       "      <td>-0.000230</td>\n",
       "      <td>0.001937</td>\n",
       "      <td>-0.007157</td>\n",
       "      <td>-0.000000</td>\n",
       "      <td>0.000000</td>\n",
       "      <td>-0.000000</td>\n",
       "      <td>0.007418</td>\n",
       "      <td>2.766065e-02</td>\n",
       "      <td>RadioactiveDecay</td>\n",
       "      <td>phot</td>\n",
       "    </tr>\n",
       "    <tr>\n",
       "      <th>284</th>\n",
       "      <td>503</td>\n",
       "      <td>12</td>\n",
       "      <td>e-</td>\n",
       "      <td>0</td>\n",
       "      <td>7</td>\n",
       "      <td>95.000359</td>\n",
       "      <td>10.527856</td>\n",
       "      <td>-21.462105</td>\n",
       "      <td>5.175836e+13</td>\n",
       "      <td>95.000359</td>\n",
       "      <td>...</td>\n",
       "      <td>-0.007547</td>\n",
       "      <td>-0.001325</td>\n",
       "      <td>-0.000727</td>\n",
       "      <td>-0.000000</td>\n",
       "      <td>0.000000</td>\n",
       "      <td>-0.000000</td>\n",
       "      <td>0.000058</td>\n",
       "      <td>1.447787e-07</td>\n",
       "      <td>phot</td>\n",
       "      <td>Scintillation</td>\n",
       "    </tr>\n",
       "    <tr>\n",
       "      <th>...</th>\n",
       "      <td>...</td>\n",
       "      <td>...</td>\n",
       "      <td>...</td>\n",
       "      <td>...</td>\n",
       "      <td>...</td>\n",
       "      <td>...</td>\n",
       "      <td>...</td>\n",
       "      <td>...</td>\n",
       "      <td>...</td>\n",
       "      <td>...</td>\n",
       "      <td>...</td>\n",
       "      <td>...</td>\n",
       "      <td>...</td>\n",
       "      <td>...</td>\n",
       "      <td>...</td>\n",
       "      <td>...</td>\n",
       "      <td>...</td>\n",
       "      <td>...</td>\n",
       "      <td>...</td>\n",
       "      <td>...</td>\n",
       "      <td>...</td>\n",
       "    </tr>\n",
       "    <tr>\n",
       "      <th>398</th>\n",
       "      <td>503</td>\n",
       "      <td>10782901</td>\n",
       "      <td>e-</td>\n",
       "      <td>0</td>\n",
       "      <td>10782890</td>\n",
       "      <td>-32.174870</td>\n",
       "      <td>252.323898</td>\n",
       "      <td>97.453720</td>\n",
       "      <td>2.585215e+05</td>\n",
       "      <td>-32.174870</td>\n",
       "      <td>...</td>\n",
       "      <td>0.003912</td>\n",
       "      <td>0.006576</td>\n",
       "      <td>0.000839</td>\n",
       "      <td>0.000000</td>\n",
       "      <td>0.000000</td>\n",
       "      <td>0.000000</td>\n",
       "      <td>0.000058</td>\n",
       "      <td>1.447787e-07</td>\n",
       "      <td>phot</td>\n",
       "      <td>Scintillation</td>\n",
       "    </tr>\n",
       "    <tr>\n",
       "      <th>399</th>\n",
       "      <td>503</td>\n",
       "      <td>10782900</td>\n",
       "      <td>e-</td>\n",
       "      <td>0</td>\n",
       "      <td>10782890</td>\n",
       "      <td>-32.174870</td>\n",
       "      <td>252.323898</td>\n",
       "      <td>97.453720</td>\n",
       "      <td>2.585215e+05</td>\n",
       "      <td>-32.174866</td>\n",
       "      <td>...</td>\n",
       "      <td>0.019161</td>\n",
       "      <td>0.019473</td>\n",
       "      <td>0.007298</td>\n",
       "      <td>0.000000</td>\n",
       "      <td>0.000000</td>\n",
       "      <td>0.000000</td>\n",
       "      <td>0.000782</td>\n",
       "      <td>1.426894e-05</td>\n",
       "      <td>phot</td>\n",
       "      <td>Scintillation</td>\n",
       "    </tr>\n",
       "    <tr>\n",
       "      <th>400</th>\n",
       "      <td>503</td>\n",
       "      <td>10782899</td>\n",
       "      <td>e-</td>\n",
       "      <td>0</td>\n",
       "      <td>10782890</td>\n",
       "      <td>-32.174870</td>\n",
       "      <td>252.323898</td>\n",
       "      <td>97.453720</td>\n",
       "      <td>2.585215e+05</td>\n",
       "      <td>-32.174870</td>\n",
       "      <td>...</td>\n",
       "      <td>-0.013577</td>\n",
       "      <td>0.002154</td>\n",
       "      <td>0.027776</td>\n",
       "      <td>-0.000000</td>\n",
       "      <td>-0.000000</td>\n",
       "      <td>0.000000</td>\n",
       "      <td>0.000939</td>\n",
       "      <td>6.122856e-06</td>\n",
       "      <td>phot</td>\n",
       "      <td>Scintillation</td>\n",
       "    </tr>\n",
       "    <tr>\n",
       "      <th>401</th>\n",
       "      <td>503</td>\n",
       "      <td>10782898</td>\n",
       "      <td>e-</td>\n",
       "      <td>0</td>\n",
       "      <td>10782890</td>\n",
       "      <td>-32.174870</td>\n",
       "      <td>252.323898</td>\n",
       "      <td>97.453720</td>\n",
       "      <td>2.585215e+05</td>\n",
       "      <td>-32.174828</td>\n",
       "      <td>...</td>\n",
       "      <td>0.063790</td>\n",
       "      <td>-0.017965</td>\n",
       "      <td>-0.053479</td>\n",
       "      <td>0.000000</td>\n",
       "      <td>0.000000</td>\n",
       "      <td>-0.000000</td>\n",
       "      <td>0.007047</td>\n",
       "      <td>3.054957e-04</td>\n",
       "      <td>phot</td>\n",
       "      <td>Scintillation</td>\n",
       "    </tr>\n",
       "    <tr>\n",
       "      <th>402</th>\n",
       "      <td>503</td>\n",
       "      <td>10782897</td>\n",
       "      <td>e-</td>\n",
       "      <td>0</td>\n",
       "      <td>10782890</td>\n",
       "      <td>-32.174870</td>\n",
       "      <td>252.323898</td>\n",
       "      <td>97.453720</td>\n",
       "      <td>2.585215e+05</td>\n",
       "      <td>-32.174999</td>\n",
       "      <td>...</td>\n",
       "      <td>-0.173149</td>\n",
       "      <td>0.056741</td>\n",
       "      <td>-0.154158</td>\n",
       "      <td>0.000000</td>\n",
       "      <td>0.000000</td>\n",
       "      <td>-0.000000</td>\n",
       "      <td>0.052991</td>\n",
       "      <td>7.904378e-03</td>\n",
       "      <td>phot</td>\n",
       "      <td>Scintillation</td>\n",
       "    </tr>\n",
       "  </tbody>\n",
       "</table>\n",
       "<p>123 rows × 25 columns</p>\n",
       "</div>"
      ],
      "text/plain": [
       "     event_id  particle_id particle_name  primary  mother_id  initial_x  \\\n",
       "280       503            4          Cu64        0          1  95.001213   \n",
       "281       503            9          nu_e        0          4  95.001213   \n",
       "282       503            8          Ni64        0          4  95.001213   \n",
       "283       503            7         gamma        0          4  95.001213   \n",
       "284       503           12            e-        0          7  95.000359   \n",
       "..        ...          ...           ...      ...        ...        ...   \n",
       "398       503     10782901            e-        0   10782890 -32.174870   \n",
       "399       503     10782900            e-        0   10782890 -32.174870   \n",
       "400       503     10782899            e-        0   10782890 -32.174870   \n",
       "401       503     10782898            e-        0   10782890 -32.174870   \n",
       "402       503     10782897            e-        0   10782890 -32.174870   \n",
       "\n",
       "      initial_y  initial_z     initial_t      final_x  ...  \\\n",
       "280   10.520631 -21.435419  2.585205e+05    95.001213  ...   \n",
       "281   10.520631 -21.435419  5.175836e+13 -4322.083984  ...   \n",
       "282   10.520631 -21.435419  5.175836e+13    95.001221  ...   \n",
       "283   10.520631 -21.435419  5.175836e+13    95.000359  ...   \n",
       "284   10.527856 -21.462105  5.175836e+13    95.000359  ...   \n",
       "..          ...        ...           ...          ...  ...   \n",
       "398  252.323898  97.453720  2.585215e+05   -32.174870  ...   \n",
       "399  252.323898  97.453720  2.585215e+05   -32.174866  ...   \n",
       "400  252.323898  97.453720  2.585215e+05   -32.174870  ...   \n",
       "401  252.323898  97.453720  2.585215e+05   -32.174828  ...   \n",
       "402  252.323898  97.453720  2.585215e+05   -32.174999  ...   \n",
       "\n",
       "     initial_momentum_x  initial_momentum_y  initial_momentum_z  \\\n",
       "280            5.404075          -12.272764            0.766734   \n",
       "281           -0.545645            1.542831            0.312564   \n",
       "282            0.545645           -1.542831           -0.312564   \n",
       "283           -0.000230            0.001937           -0.007157   \n",
       "284           -0.007547           -0.001325           -0.000727   \n",
       "..                  ...                 ...                 ...   \n",
       "398            0.003912            0.006576            0.000839   \n",
       "399            0.019161            0.019473            0.007298   \n",
       "400           -0.013577            0.002154            0.027776   \n",
       "401            0.063790           -0.017965           -0.053479   \n",
       "402           -0.173149            0.056741           -0.154158   \n",
       "\n",
       "    final_momentum_x final_momentum_y  final_momentum_z  kin_energy  \\\n",
       "280         0.000000        -0.000000          0.000000    0.001515   \n",
       "281        -0.545645         1.542831          0.312564    1.666059   \n",
       "282         0.000000        -0.000000         -0.000000    0.000023   \n",
       "283        -0.000000         0.000000         -0.000000    0.007418   \n",
       "284        -0.000000         0.000000         -0.000000    0.000058   \n",
       "..               ...              ...               ...         ...   \n",
       "398         0.000000         0.000000          0.000000    0.000058   \n",
       "399         0.000000         0.000000          0.000000    0.000782   \n",
       "400        -0.000000        -0.000000          0.000000    0.000939   \n",
       "401         0.000000         0.000000         -0.000000    0.007047   \n",
       "402         0.000000         0.000000         -0.000000    0.052991   \n",
       "\n",
       "           length      creator_proc      final_proc  \n",
       "280  1.934358e-05          nCapture   Scintillation  \n",
       "281  1.348703e+04  RadioactiveDecay  Transportation  \n",
       "282  2.465939e-06  RadioactiveDecay   Scintillation  \n",
       "283  2.766065e-02  RadioactiveDecay            phot  \n",
       "284  1.447787e-07              phot   Scintillation  \n",
       "..            ...               ...             ...  \n",
       "398  1.447787e-07              phot   Scintillation  \n",
       "399  1.426894e-05              phot   Scintillation  \n",
       "400  6.122856e-06              phot   Scintillation  \n",
       "401  3.054957e-04              phot   Scintillation  \n",
       "402  7.904378e-03              phot   Scintillation  \n",
       "\n",
       "[123 rows x 25 columns]"
      ]
     },
     "execution_count": 250,
     "metadata": {},
     "output_type": "execute_result"
    }
   ],
   "source": [
    "part_evt = particles_fideth[particles_fideth.event_id == 503]\n",
    "part_evt[part_evt.primary == 0]"
   ]
  },
  {
   "cell_type": "code",
   "execution_count": 252,
   "metadata": {},
   "outputs": [],
   "source": [
    "from IC.invisible_cities.reco.xy_algorithms import barycenter\n",
    "from IC.invisible_cities.reco.xy_algorithms import corona\n"
   ]
  },
  {
   "cell_type": "code",
   "execution_count": 262,
   "metadata": {},
   "outputs": [
    {
     "data": {
      "text/plain": [
       "[< nsipm = 153 Q = 1988\n",
       "                     xy = xy(x=49.77867203219316, y=-1.6851106639839035) 3dHit = Cluster(49.77867203219316, -1.6851106639839035, -9.425, E=1988)  >]"
      ]
     },
     "execution_count": 262,
     "metadata": {},
     "output_type": "execute_result"
    }
   ],
   "source": []
  },
  {
   "cell_type": "code",
   "execution_count": 259,
   "metadata": {},
   "outputs": [
    {
     "data": {
      "text/plain": [
       "[< nsipm = 35 Q = 989\n",
       "                     xy = xy(x=36.01112234580384, y=-72.88675429726997) 3dHit = Cluster(36.01112234580384, -72.88675429726997, -9.425, E=989)  >,\n",
       " < nsipm = 28 Q = 426\n",
       "                     xy = xy(x=67.95774647887323, y=143.59154929577466) 3dHit = Cluster(67.95774647887323, 143.59154929577466, -9.425, E=426)  >,\n",
       " < nsipm = 13 Q = 114\n",
       "                     xy = xy(x=35.96491228070175, y=-53.333333333333336) 3dHit = Cluster(35.96491228070175, -53.333333333333336, -9.425, E=114)  >,\n",
       " < nsipm = 13 Q = 120\n",
       "                     xy = xy(x=103.5, y=121.08333333333333) 3dHit = Cluster(103.5, 121.08333333333333, -9.425, E=120)  >,\n",
       " < nsipm = 3 Q = 23\n",
       "                     xy = xy(x=15.0, y=-59.34782608695652) 3dHit = Cluster(15.0, -59.34782608695652, -9.425, E=23)  >,\n",
       " < nsipm = 7 Q = 61\n",
       "                     xy = xy(x=57.131147540983605, y=-73.52459016393442) 3dHit = Cluster(57.131147540983605, -73.52459016393442, -9.425, E=61)  >,\n",
       " < nsipm = 4 Q = 24\n",
       "                     xy = xy(x=68.33333333333333, y=125.0) 3dHit = Cluster(68.33333333333333, 125.0, -9.425, E=24)  >,\n",
       " < nsipm = 3 Q = 21\n",
       "                     xy = xy(x=38.333333333333336, y=-95.0) 3dHit = Cluster(38.333333333333336, -95.0, -9.425, E=21)  >,\n",
       " < nsipm = 3 Q = 17\n",
       "                     xy = xy(x=102.05882352941177, y=135.0) 3dHit = Cluster(102.05882352941177, 135.0, -9.425, E=17)  >,\n",
       " < nsipm = 3 Q = 17\n",
       "                     xy = xy(x=55.0, y=-52.05882352941177) 3dHit = Cluster(55.0, -52.05882352941177, -9.425, E=17)  >,\n",
       " < nsipm = 4 Q = 22\n",
       "                     xy = xy(x=15.0, y=-80.0) 3dHit = Cluster(15.0, -80.0, -9.425, E=22)  >]"
      ]
     },
     "execution_count": 259,
     "metadata": {},
     "output_type": "execute_result"
    }
   ],
   "source": [
    "clusters = corona(posXY, Qs, sipm_map,\n",
    "           Qthr            =  5 * units.pes,\n",
    "           Qlm             =  5 * units.pes,\n",
    "           lm_radius       =  0 * units.mm,\n",
    "           new_lm_radius   = 15 * units.mm,\n",
    "           msipm           =  3,\n",
    "           consider_masked = False)\n",
    "clusters"
   ]
  },
  {
   "cell_type": "code",
   "execution_count": null,
   "metadata": {},
   "outputs": [],
   "source": [
    "plt.hist(dCluster, bins = 20, histtype='step')\n",
    "\n",
    "plt.xlabel('distance (mm)')\n",
    "plt.ylabel('events (a.u.)')\n",
    "plt.legend(loc=2);\n",
    "plt.show()"
   ]
  },
  {
   "cell_type": "code",
   "execution_count": 198,
   "metadata": {},
   "outputs": [
    {
     "data": {
      "text/plain": [
       "49.77867203219316"
      ]
     },
     "execution_count": 198,
     "metadata": {},
     "output_type": "execute_result"
    }
   ],
   "source": [
    "c_i[0].X"
   ]
  },
  {
   "cell_type": "code",
   "execution_count": 199,
   "metadata": {},
   "outputs": [
    {
     "data": {
      "text/plain": [
       "-1.6851106639839035"
      ]
     },
     "execution_count": 199,
     "metadata": {},
     "output_type": "execute_result"
    }
   ],
   "source": [
    "c_i[0].Y"
   ]
  },
  {
   "cell_type": "code",
   "execution_count": 181,
   "metadata": {},
   "outputs": [
    {
     "data": {
      "text/plain": [
       "5.0"
      ]
     },
     "execution_count": 181,
     "metadata": {},
     "output_type": "execute_result"
    }
   ],
   "source": [
    "min(selectedSiPM[0])"
   ]
  },
  {
   "cell_type": "code",
   "execution_count": 182,
   "metadata": {},
   "outputs": [
    {
     "data": {
      "text/plain": [
       "145.0"
      ]
     },
     "execution_count": 182,
     "metadata": {},
     "output_type": "execute_result"
    }
   ],
   "source": [
    "max(selectedSiPM[0])"
   ]
  },
  {
   "cell_type": "code",
   "execution_count": 153,
   "metadata": {},
   "outputs": [
    {
     "data": {
      "text/plain": [
       "2585"
      ]
     },
     "execution_count": 153,
     "metadata": {},
     "output_type": "execute_result"
    }
   ],
   "source": [
    "ninteractions_fideth = sns_response_fideth.event_id.nunique()\n",
    "ninteractions_fideth"
   ]
  },
  {
   "cell_type": "code",
   "execution_count": 154,
   "metadata": {},
   "outputs": [
    {
     "name": "stdout",
     "output_type": "stream",
     "text": [
      "--INITIAL-- 11886 events\n",
      "Neutron Capture 99.43%\n",
      "Neutron Capture isotopes\n",
      "- Xe132 3646->30.67%\n",
      "- Cu64 5100->42.91%\n",
      "- deuteron 3646->30.67%\n",
      "- Cu66 1340->11.27%\n",
      "- Xe130 1223->10.29%\n",
      "- F20 12->0.10%\n",
      "--PRELIMINARY-- 8853 events -> reduction 25.517415446744074%\n",
      "Neutron Capture 100.00%\n",
      "Neutron Capture isotopes\n",
      "- Xe132 1710->19.32%\n",
      "- Cu64 4466->50.45%\n",
      "- deuteron 1710->19.32%\n",
      "- Cu66 1218->13.76%\n",
      "- Xe130 1040->11.75%\n",
      "- F20 10->0.11%\n",
      "--FIDUCIAL-- 2585 events -> reduction 78.25172471815581%\n",
      "Neutron Capture 100.00%\n",
      "Neutron Capture isotopes\n",
      "- Xe132 511->19.77%\n",
      "- Cu64 1228->47.50%\n",
      "- deuteron 511->19.77%\n",
      "- Cu66 356->13.77%\n",
      "- Xe130 366->14.16%\n",
      "- F20 1->0.04%\n"
     ]
    }
   ],
   "source": [
    "print(f'--INITIAL-- {ninteractions} events')\n",
    "isotopes_nCaptureFraction(ninteractions, particles)\n",
    "print(f'--PRELIMINARY-- {ninteractions_eth} events -> reduction {100*(1-ninteractions_eth/ninteractions)}%')\n",
    "isotopes_nCaptureFraction(ninteractions_eth, particles_eth)\n",
    "print(f'--FIDUCIAL-- {ninteractions_fideth} events -> reduction {100*(1-ninteractions_fideth/ninteractions)}%')\n",
    "isotopes_nCaptureFraction(ninteractions_fideth, particles_fideth)"
   ]
  },
  {
   "cell_type": "code",
   "execution_count": 273,
   "metadata": {},
   "outputs": [],
   "source": [
    "selectedSiPM, selectedSiPM_x, selectedSiPM_y, selectedSiPM_q = [],[],[],[]\n",
    "total = len(sns_response_evt.event_id)-1\n",
    "for entry in range(0,total):\n",
    "    sns = sns_response_evt.sensor_id.values[entry]\n",
    "    q = sns_response_evt.charge.values[entry]\n",
    "    #note! SiPM have a sns number >100, while PMTs are defined below 100 \n",
    "    if(sns > 1000):\n",
    "        x_pos = sipm_map[sipm_map.sensor_id == sns].x.values[0]\n",
    "        y_pos = sipm_map[sipm_map.sensor_id == sns].y.values[0]\n",
    "        selectedSiPM_x.append(x_pos)\n",
    "        selectedSiPM_y.append(y_pos)\n",
    "        selectedSiPM_q.append(q)\n",
    "    else:\n",
    "        continue\n",
    "    \n",
    "selectedSiPM.append(selectedSiPM_x)\n",
    "selectedSiPM.append(selectedSiPM_y)\n",
    "selectedSiPM.append(selectedSiPM_q)\n"
   ]
  },
  {
   "cell_type": "code",
   "execution_count": 275,
   "metadata": {},
   "outputs": [
    {
     "data": {
      "text/plain": [
       "<matplotlib.colorbar.Colorbar at 0x12ac96640>"
      ]
     },
     "execution_count": 275,
     "metadata": {},
     "output_type": "execute_result"
    },
    {
     "data": {
      "image/png": "[encoded data removed]",
      "text/plain": [
       "<Figure size 432x288 with 2 Axes>"
      ]
     },
     "metadata": {
      "needs_background": "light"
     },
     "output_type": "display_data"
    }
   ],
   "source": [
    "fig, ax = plt.subplots()\n",
    "weights = myhf.get_weights(selectedSiPM[0], True)\n",
    "\n",
    "plt.hist2d(selectedSiPM[0], selectedSiPM[1], weights = selectedSiPM[2], bins=(50, 50), range=((-250, 250), (-250, 250)), cmap='viridis', cmin=0.001)\n",
    "circle1 = plt.Circle((0, 0), 180, edgecolor = 'red', fill = False ,linestyle = '--')\n",
    "ax.add_artist(circle1)\n",
    "plt.xlabel('x (mm)')\n",
    "plt.ylabel('y (mm)')\n",
    "#plt.title('charge (PE)')\n",
    "\n",
    "plt.colorbar(label='charge (PE)')"
   ]
  },
  {
   "cell_type": "code",
   "execution_count": null,
   "metadata": {},
   "outputs": [],
   "source": [
    "neutron_interactions = mother_particles.final_proc\n",
    "plt.hist(neutron_interactions, alpha=0.6, color='r')\n",
    "plt.xticks(rotation=45)\n",
    "\n",
    "plt.show()"
   ]
  },
  {
   "cell_type": "code",
   "execution_count": 263,
   "metadata": {},
   "outputs": [
    {
     "data": {
      "text/html": [
       "<div>\n",
       "<style scoped>\n",
       "    .dataframe tbody tr th:only-of-type {\n",
       "        vertical-align: middle;\n",
       "    }\n",
       "\n",
       "    .dataframe tbody tr th {\n",
       "        vertical-align: top;\n",
       "    }\n",
       "\n",
       "    .dataframe thead th {\n",
       "        text-align: right;\n",
       "    }\n",
       "</style>\n",
       "<table border=\"1\" class=\"dataframe\">\n",
       "  <thead>\n",
       "    <tr style=\"text-align: right;\">\n",
       "      <th></th>\n",
       "      <th>event_id</th>\n",
       "      <th>particle_id</th>\n",
       "      <th>particle_name</th>\n",
       "      <th>primary</th>\n",
       "      <th>mother_id</th>\n",
       "      <th>initial_x</th>\n",
       "      <th>initial_y</th>\n",
       "      <th>initial_z</th>\n",
       "      <th>initial_t</th>\n",
       "      <th>final_x</th>\n",
       "      <th>...</th>\n",
       "      <th>initial_momentum_x</th>\n",
       "      <th>initial_momentum_y</th>\n",
       "      <th>initial_momentum_z</th>\n",
       "      <th>final_momentum_x</th>\n",
       "      <th>final_momentum_y</th>\n",
       "      <th>final_momentum_z</th>\n",
       "      <th>kin_energy</th>\n",
       "      <th>length</th>\n",
       "      <th>creator_proc</th>\n",
       "      <th>final_proc</th>\n",
       "    </tr>\n",
       "  </thead>\n",
       "  <tbody>\n",
       "    <tr>\n",
       "      <th>317</th>\n",
       "      <td>108004</td>\n",
       "      <td>1</td>\n",
       "      <td>neutron</td>\n",
       "      <td>1</td>\n",
       "      <td>0</td>\n",
       "      <td>0.0</td>\n",
       "      <td>315.149994</td>\n",
       "      <td>275.100006</td>\n",
       "      <td>0.0</td>\n",
       "      <td>-139.766266</td>\n",
       "      <td>...</td>\n",
       "      <td>0.0</td>\n",
       "      <td>-0.969312</td>\n",
       "      <td>0.0</td>\n",
       "      <td>-0.0</td>\n",
       "      <td>-0.0</td>\n",
       "      <td>-0.0</td>\n",
       "      <td>0.0005</td>\n",
       "      <td>691.612976</td>\n",
       "      <td>none</td>\n",
       "      <td>nCapture</td>\n",
       "    </tr>\n",
       "  </tbody>\n",
       "</table>\n",
       "<p>1 rows × 25 columns</p>\n",
       "</div>"
      ],
      "text/plain": [
       "     event_id  particle_id particle_name  primary  mother_id  initial_x  \\\n",
       "317    108004            1       neutron        1          0        0.0   \n",
       "\n",
       "      initial_y   initial_z  initial_t     final_x  ...  initial_momentum_x  \\\n",
       "317  315.149994  275.100006        0.0 -139.766266  ...                 0.0   \n",
       "\n",
       "     initial_momentum_y  initial_momentum_z final_momentum_x final_momentum_y  \\\n",
       "317           -0.969312                 0.0             -0.0             -0.0   \n",
       "\n",
       "     final_momentum_z  kin_energy      length  creator_proc  final_proc  \n",
       "317              -0.0      0.0005  691.612976          none    nCapture  \n",
       "\n",
       "[1 rows x 25 columns]"
      ]
     },
     "execution_count": 263,
     "metadata": {},
     "output_type": "execute_result"
    }
   ],
   "source": [
    "mother_particles"
   ]
  },
  {
   "cell_type": "code",
   "execution_count": 264,
   "metadata": {},
   "outputs": [
    {
     "data": {
      "text/html": [
       "<div>\n",
       "<style scoped>\n",
       "    .dataframe tbody tr th:only-of-type {\n",
       "        vertical-align: middle;\n",
       "    }\n",
       "\n",
       "    .dataframe tbody tr th {\n",
       "        vertical-align: top;\n",
       "    }\n",
       "\n",
       "    .dataframe thead th {\n",
       "        text-align: right;\n",
       "    }\n",
       "</style>\n",
       "<table border=\"1\" class=\"dataframe\">\n",
       "  <thead>\n",
       "    <tr style=\"text-align: right;\">\n",
       "      <th></th>\n",
       "      <th>event_id</th>\n",
       "      <th>particle_id</th>\n",
       "      <th>particle_name</th>\n",
       "      <th>primary</th>\n",
       "      <th>mother_id</th>\n",
       "      <th>initial_x</th>\n",
       "      <th>initial_y</th>\n",
       "      <th>initial_z</th>\n",
       "      <th>initial_t</th>\n",
       "      <th>final_x</th>\n",
       "      <th>...</th>\n",
       "      <th>initial_momentum_x</th>\n",
       "      <th>initial_momentum_y</th>\n",
       "      <th>initial_momentum_z</th>\n",
       "      <th>final_momentum_x</th>\n",
       "      <th>final_momentum_y</th>\n",
       "      <th>final_momentum_z</th>\n",
       "      <th>kin_energy</th>\n",
       "      <th>length</th>\n",
       "      <th>creator_proc</th>\n",
       "      <th>final_proc</th>\n",
       "    </tr>\n",
       "  </thead>\n",
       "  <tbody>\n",
       "    <tr>\n",
       "      <th>318</th>\n",
       "      <td>108004</td>\n",
       "      <td>4</td>\n",
       "      <td>Xe132</td>\n",
       "      <td>0</td>\n",
       "      <td>1</td>\n",
       "      <td>-139.766266</td>\n",
       "      <td>34.491505</td>\n",
       "      <td>157.027435</td>\n",
       "      <td>113102.007812</td>\n",
       "      <td>-139.767319</td>\n",
       "      <td>...</td>\n",
       "      <td>-5.677614</td>\n",
       "      <td>1.490238</td>\n",
       "      <td>-4.267533</td>\n",
       "      <td>-0.0</td>\n",
       "      <td>0.0</td>\n",
       "      <td>-0.0</td>\n",
       "      <td>0.000214</td>\n",
       "      <td>0.001353</td>\n",
       "      <td>nCapture</td>\n",
       "      <td>Scintillation</td>\n",
       "    </tr>\n",
       "    <tr>\n",
       "      <th>319</th>\n",
       "      <td>108004</td>\n",
       "      <td>3</td>\n",
       "      <td>gamma</td>\n",
       "      <td>0</td>\n",
       "      <td>1</td>\n",
       "      <td>-139.766266</td>\n",
       "      <td>34.491505</td>\n",
       "      <td>157.027435</td>\n",
       "      <td>113102.007812</td>\n",
       "      <td>176.704926</td>\n",
       "      <td>...</td>\n",
       "      <td>4.294756</td>\n",
       "      <td>-1.439865</td>\n",
       "      <td>0.562261</td>\n",
       "      <td>0.0</td>\n",
       "      <td>-0.0</td>\n",
       "      <td>0.0</td>\n",
       "      <td>4.564458</td>\n",
       "      <td>336.344940</td>\n",
       "      <td>nCapture</td>\n",
       "      <td>conv</td>\n",
       "    </tr>\n",
       "    <tr>\n",
       "      <th>432</th>\n",
       "      <td>108004</td>\n",
       "      <td>2</td>\n",
       "      <td>gamma</td>\n",
       "      <td>0</td>\n",
       "      <td>1</td>\n",
       "      <td>-139.766266</td>\n",
       "      <td>34.491505</td>\n",
       "      <td>157.027435</td>\n",
       "      <td>113102.007812</td>\n",
       "      <td>45.874607</td>\n",
       "      <td>...</td>\n",
       "      <td>1.422735</td>\n",
       "      <td>-0.034884</td>\n",
       "      <td>3.706392</td>\n",
       "      <td>-0.0</td>\n",
       "      <td>0.0</td>\n",
       "      <td>0.0</td>\n",
       "      <td>3.970230</td>\n",
       "      <td>669.258057</td>\n",
       "      <td>nCapture</td>\n",
       "      <td>phot</td>\n",
       "    </tr>\n",
       "  </tbody>\n",
       "</table>\n",
       "<p>3 rows × 25 columns</p>\n",
       "</div>"
      ],
      "text/plain": [
       "     event_id  particle_id particle_name  primary  mother_id   initial_x  \\\n",
       "318    108004            4         Xe132        0          1 -139.766266   \n",
       "319    108004            3         gamma        0          1 -139.766266   \n",
       "432    108004            2         gamma        0          1 -139.766266   \n",
       "\n",
       "     initial_y   initial_z      initial_t     final_x  ...  \\\n",
       "318  34.491505  157.027435  113102.007812 -139.767319  ...   \n",
       "319  34.491505  157.027435  113102.007812  176.704926  ...   \n",
       "432  34.491505  157.027435  113102.007812   45.874607  ...   \n",
       "\n",
       "     initial_momentum_x  initial_momentum_y  initial_momentum_z  \\\n",
       "318           -5.677614            1.490238           -4.267533   \n",
       "319            4.294756           -1.439865            0.562261   \n",
       "432            1.422735           -0.034884            3.706392   \n",
       "\n",
       "    final_momentum_x final_momentum_y  final_momentum_z  kin_energy  \\\n",
       "318             -0.0              0.0              -0.0    0.000214   \n",
       "319              0.0             -0.0               0.0    4.564458   \n",
       "432             -0.0              0.0               0.0    3.970230   \n",
       "\n",
       "         length  creator_proc     final_proc  \n",
       "318    0.001353      nCapture  Scintillation  \n",
       "319  336.344940      nCapture           conv  \n",
       "432  669.258057      nCapture           phot  \n",
       "\n",
       "[3 rows x 25 columns]"
      ]
     },
     "execution_count": 264,
     "metadata": {},
     "output_type": "execute_result"
    }
   ],
   "source": [
    "daughter_particles"
   ]
  },
  {
   "cell_type": "code",
   "execution_count": 267,
   "metadata": {},
   "outputs": [],
   "source": [
    "hits = pd.read_hdf(file, 'MC/hits')\n",
    "evt_hits = hits[hits.event_id == eventID]\n",
    "\n",
    "xt = evt_hits.x\n",
    "yt = evt_hits.y\n",
    "zt = evt_hits.z\n",
    "et = evt_hits.energy*1000"
   ]
  },
  {
   "cell_type": "code",
   "execution_count": 268,
   "metadata": {},
   "outputs": [
    {
     "data": {
      "text/plain": [
       "<matplotlib.colorbar.Colorbar at 0x1210b08b0>"
      ]
     },
     "execution_count": 268,
     "metadata": {},
     "output_type": "execute_result"
    },
    {
     "data": {
      "image/png": "[encoded data removed]",
      "text/plain": [
       "<Figure size 432x288 with 2 Axes>"
      ]
     },
     "metadata": {
      "needs_background": "light"
     },
     "output_type": "display_data"
    }
   ],
   "source": [
    "plt.hist2d(xt, yt, weights = et, bins=(50, 50), range=((-250, 250), (-250, 250)), cmap='viridis', cmin=0.001)\n",
    "#range=((-50, 50), (-50, 50)),\n",
    "plt.xlabel('x (mm)')\n",
    "plt.ylabel('y (mm)')\n",
    "plt.title('0.5MeV neutrons - Poiting to center of the detector ')\n",
    "#plt.xlim((0.0,1.5))\n",
    "plt.colorbar(label='energy (keV)')"
   ]
  },
  {
   "cell_type": "code",
   "execution_count": 283,
   "metadata": {},
   "outputs": [
    {
     "data": {
      "text/plain": [
       "<matplotlib.colorbar.Colorbar at 0x12b776c70>"
      ]
     },
     "execution_count": 283,
     "metadata": {},
     "output_type": "execute_result"
    },
    {
     "data": {
      "image/png": "[encoded data removed]",
      "text/plain": [
       "<Figure size 432x288 with 2 Axes>"
      ]
     },
     "metadata": {
      "needs_background": "light"
     },
     "output_type": "display_data"
    }
   ],
   "source": [
    "plt.hist2d(zt, yt, weights = et, bins=(50, 50), range=((0, 500), (-250, 250)), cmap='viridis', cmin=0.001)\n",
    "#range=((-50, 50), (-50, 50)),\n",
    "plt.xlabel('z (mm)')\n",
    "plt.ylabel('y (mm)')\n",
    "plt.title('0.5MeV neutrons - Poiting to center of the detector ')\n",
    "#plt.xlim((0.0,1.5))\n",
    "plt.colorbar(label='energy (keV)')"
   ]
  },
  {
   "cell_type": "code",
   "execution_count": 277,
   "metadata": {},
   "outputs": [
    {
     "data": {
      "text/html": [
       "<div>\n",
       "<style scoped>\n",
       "    .dataframe tbody tr th:only-of-type {\n",
       "        vertical-align: middle;\n",
       "    }\n",
       "\n",
       "    .dataframe tbody tr th {\n",
       "        vertical-align: top;\n",
       "    }\n",
       "\n",
       "    .dataframe thead th {\n",
       "        text-align: right;\n",
       "    }\n",
       "</style>\n",
       "<table border=\"1\" class=\"dataframe\">\n",
       "  <thead>\n",
       "    <tr style=\"text-align: right;\">\n",
       "      <th></th>\n",
       "      <th>event_id</th>\n",
       "      <th>x</th>\n",
       "      <th>y</th>\n",
       "      <th>z</th>\n",
       "      <th>time</th>\n",
       "      <th>energy</th>\n",
       "      <th>label</th>\n",
       "      <th>particle_id</th>\n",
       "      <th>hit_id</th>\n",
       "    </tr>\n",
       "  </thead>\n",
       "  <tbody>\n",
       "    <tr>\n",
       "      <th>267</th>\n",
       "      <td>108004</td>\n",
       "      <td>-139.767319</td>\n",
       "      <td>34.491779</td>\n",
       "      <td>157.026642</td>\n",
       "      <td>113102.085938</td>\n",
       "      <td>0.000214</td>\n",
       "      <td>ACTIVE</td>\n",
       "      <td>4</td>\n",
       "      <td>0</td>\n",
       "    </tr>\n",
       "    <tr>\n",
       "      <th>268</th>\n",
       "      <td>108004</td>\n",
       "      <td>177.573044</td>\n",
       "      <td>-72.071983</td>\n",
       "      <td>198.637848</td>\n",
       "      <td>113103.132812</td>\n",
       "      <td>0.008452</td>\n",
       "      <td>ACTIVE</td>\n",
       "      <td>10639</td>\n",
       "      <td>0</td>\n",
       "    </tr>\n",
       "    <tr>\n",
       "      <th>269</th>\n",
       "      <td>108004</td>\n",
       "      <td>178.430344</td>\n",
       "      <td>-72.562820</td>\n",
       "      <td>198.790787</td>\n",
       "      <td>113103.132812</td>\n",
       "      <td>0.005857</td>\n",
       "      <td>ACTIVE</td>\n",
       "      <td>10639</td>\n",
       "      <td>1</td>\n",
       "    </tr>\n",
       "    <tr>\n",
       "      <th>270</th>\n",
       "      <td>108004</td>\n",
       "      <td>179.303879</td>\n",
       "      <td>-73.023018</td>\n",
       "      <td>198.947357</td>\n",
       "      <td>113103.140625</td>\n",
       "      <td>0.005464</td>\n",
       "      <td>ACTIVE</td>\n",
       "      <td>10639</td>\n",
       "      <td>2</td>\n",
       "    </tr>\n",
       "    <tr>\n",
       "      <th>271</th>\n",
       "      <td>108004</td>\n",
       "      <td>180.158844</td>\n",
       "      <td>-73.485405</td>\n",
       "      <td>199.164825</td>\n",
       "      <td>113103.140625</td>\n",
       "      <td>0.005209</td>\n",
       "      <td>ACTIVE</td>\n",
       "      <td>10639</td>\n",
       "      <td>3</td>\n",
       "    </tr>\n",
       "    <tr>\n",
       "      <th>...</th>\n",
       "      <td>...</td>\n",
       "      <td>...</td>\n",
       "      <td>...</td>\n",
       "      <td>...</td>\n",
       "      <td>...</td>\n",
       "      <td>...</td>\n",
       "      <td>...</td>\n",
       "      <td>...</td>\n",
       "      <td>...</td>\n",
       "    </tr>\n",
       "    <tr>\n",
       "      <th>601</th>\n",
       "      <td>108004</td>\n",
       "      <td>182.522079</td>\n",
       "      <td>-99.404816</td>\n",
       "      <td>187.965042</td>\n",
       "      <td>113103.257812</td>\n",
       "      <td>0.002188</td>\n",
       "      <td>ACTIVE</td>\n",
       "      <td>10638</td>\n",
       "      <td>37</td>\n",
       "    </tr>\n",
       "    <tr>\n",
       "      <th>602</th>\n",
       "      <td>108004</td>\n",
       "      <td>182.560471</td>\n",
       "      <td>-99.542938</td>\n",
       "      <td>188.045532</td>\n",
       "      <td>113103.257812</td>\n",
       "      <td>0.000104</td>\n",
       "      <td>ACTIVE</td>\n",
       "      <td>10638</td>\n",
       "      <td>38</td>\n",
       "    </tr>\n",
       "    <tr>\n",
       "      <th>603</th>\n",
       "      <td>108004</td>\n",
       "      <td>182.575668</td>\n",
       "      <td>-99.596939</td>\n",
       "      <td>188.077606</td>\n",
       "      <td>113103.257812</td>\n",
       "      <td>0.000296</td>\n",
       "      <td>ACTIVE</td>\n",
       "      <td>10638</td>\n",
       "      <td>39</td>\n",
       "    </tr>\n",
       "    <tr>\n",
       "      <th>604</th>\n",
       "      <td>108004</td>\n",
       "      <td>182.581009</td>\n",
       "      <td>-99.615936</td>\n",
       "      <td>188.088898</td>\n",
       "      <td>113103.257812</td>\n",
       "      <td>0.000013</td>\n",
       "      <td>ACTIVE</td>\n",
       "      <td>10638</td>\n",
       "      <td>40</td>\n",
       "    </tr>\n",
       "    <tr>\n",
       "      <th>605</th>\n",
       "      <td>108004</td>\n",
       "      <td>182.585190</td>\n",
       "      <td>-99.632568</td>\n",
       "      <td>188.098785</td>\n",
       "      <td>113103.257812</td>\n",
       "      <td>0.000271</td>\n",
       "      <td>ACTIVE</td>\n",
       "      <td>10638</td>\n",
       "      <td>41</td>\n",
       "    </tr>\n",
       "  </tbody>\n",
       "</table>\n",
       "<p>339 rows × 9 columns</p>\n",
       "</div>"
      ],
      "text/plain": [
       "     event_id           x          y           z           time    energy  \\\n",
       "267    108004 -139.767319  34.491779  157.026642  113102.085938  0.000214   \n",
       "268    108004  177.573044 -72.071983  198.637848  113103.132812  0.008452   \n",
       "269    108004  178.430344 -72.562820  198.790787  113103.132812  0.005857   \n",
       "270    108004  179.303879 -73.023018  198.947357  113103.140625  0.005464   \n",
       "271    108004  180.158844 -73.485405  199.164825  113103.140625  0.005209   \n",
       "..        ...         ...        ...         ...            ...       ...   \n",
       "601    108004  182.522079 -99.404816  187.965042  113103.257812  0.002188   \n",
       "602    108004  182.560471 -99.542938  188.045532  113103.257812  0.000104   \n",
       "603    108004  182.575668 -99.596939  188.077606  113103.257812  0.000296   \n",
       "604    108004  182.581009 -99.615936  188.088898  113103.257812  0.000013   \n",
       "605    108004  182.585190 -99.632568  188.098785  113103.257812  0.000271   \n",
       "\n",
       "      label  particle_id  hit_id  \n",
       "267  ACTIVE            4       0  \n",
       "268  ACTIVE        10639       0  \n",
       "269  ACTIVE        10639       1  \n",
       "270  ACTIVE        10639       2  \n",
       "271  ACTIVE        10639       3  \n",
       "..      ...          ...     ...  \n",
       "601  ACTIVE        10638      37  \n",
       "602  ACTIVE        10638      38  \n",
       "603  ACTIVE        10638      39  \n",
       "604  ACTIVE        10638      40  \n",
       "605  ACTIVE        10638      41  \n",
       "\n",
       "[339 rows x 9 columns]"
      ]
     },
     "execution_count": 277,
     "metadata": {},
     "output_type": "execute_result"
    }
   ],
   "source": [
    "evt_hits"
   ]
  },
  {
   "cell_type": "code",
   "execution_count": 255,
   "metadata": {},
   "outputs": [],
   "source": [
    "selectedSiPM, selectedSiPM_x, selectedSiPM_y, selectedSiPM_q = [],[],[],[]\n",
    "total = len(sns_response_evt.event_id)-1\n",
    "for entry in range(0,total):\n",
    "    sns = sns_response_evt.sensor_id.values[entry]\n",
    "    q = sns_response_evt.charge.values[entry]\n",
    "    #note! SiPM have a sns number >100, while PMTs are defined below 100 \n",
    "    if((sns > 1000) & (q>3)):\n",
    "        x_pos = sipm_map[sipm_map.sensor_id == sns].x.values[0]\n",
    "        y_pos = sipm_map[sipm_map.sensor_id == sns].y.values[0]\n",
    "        q = sns_response_evt.charge.values[entry]\n",
    "        selectedSiPM_x.append(x_pos)\n",
    "        selectedSiPM_y.append(y_pos)\n",
    "        selectedSiPM_q.append(q)\n",
    "    else:\n",
    "        continue\n",
    "    \n",
    "selectedSiPM.append(selectedSiPM_x)\n",
    "selectedSiPM.append(selectedSiPM_y)\n",
    "selectedSiPM.append(selectedSiPM_q)"
   ]
  },
  {
   "cell_type": "code",
   "execution_count": 256,
   "metadata": {},
   "outputs": [
    {
     "data": {
      "text/plain": [
       "<matplotlib.colorbar.Colorbar at 0x121148970>"
      ]
     },
     "execution_count": 256,
     "metadata": {},
     "output_type": "execute_result"
    },
    {
     "data": {
      "image/png": "[encoded data removed]",
      "text/plain": [
       "<Figure size 432x288 with 2 Axes>"
      ]
     },
     "metadata": {
      "needs_background": "light"
     },
     "output_type": "display_data"
    }
   ],
   "source": [
    "weights = myhf.get_weights(selectedSiPM[0], True)\n",
    "\n",
    "plt.hist2d(selectedSiPM[0], selectedSiPM[1], weights = selectedSiPM[2], bins=(50, 50), range=((-250, 250), (-250, 250)), cmap='viridis', cmin=0.001)\n",
    "plt.xlabel('x (mm)')\n",
    "plt.ylabel('y (mm)')\n",
    "#plt.title('charge (PE)')\n",
    "\n",
    "plt.colorbar(label='charge (PE)')"
   ]
  },
  {
   "cell_type": "code",
   "execution_count": 288,
   "metadata": {},
   "outputs": [],
   "source": [
    "selectedSiPM, selectedSiPM_x, selectedSiPM_y, selectedSiPM_q = [],[],[],[]\n",
    "total = len(sns_response_evt.event_id)-1\n",
    "for entry in range(0,total):\n",
    "    sns = sns_response_evt.sensor_id.values[entry]\n",
    "    q = sns_response_evt.charge.values[entry]\n",
    "    #note! SiPM have a sns number >100, while PMTs are defined below 100 \n",
    "    if((sns > 1000) & (q>3)):\n",
    "        x_pos = sipm_map[sipm_map.sensor_id == sns].x.values[0]\n",
    "        y_pos = sipm_map[sipm_map.sensor_id == sns].y.values[0]\n",
    "        r_pos = math.sqrt(x_pos**2 + y_pos**2)\n",
    "        if(r_pos<150):\n",
    "            q = sns_response_evt.charge.values[entry]\n",
    "            selectedSiPM_x.append(x_pos)\n",
    "            selectedSiPM_y.append(y_pos)\n",
    "            selectedSiPM_q.append(q)\n",
    "        else:\n",
    "            continue\n",
    "    else:\n",
    "        continue\n",
    "    \n",
    "selectedSiPM.append(selectedSiPM_x)\n",
    "selectedSiPM.append(selectedSiPM_y)\n",
    "selectedSiPM.append(selectedSiPM_q)"
   ]
  },
  {
   "cell_type": "code",
   "execution_count": 289,
   "metadata": {},
   "outputs": [
    {
     "data": {
      "text/plain": [
       "<matplotlib.colorbar.Colorbar at 0x12b4257f0>"
      ]
     },
     "execution_count": 289,
     "metadata": {},
     "output_type": "execute_result"
    },
    {
     "data": {
      "image/png": "[encoded data removed]",
      "text/plain": [
       "<Figure size 432x288 with 2 Axes>"
      ]
     },
     "metadata": {
      "needs_background": "light"
     },
     "output_type": "display_data"
    }
   ],
   "source": [
    "weights = myhf.get_weights(selectedSiPM[0], True)\n",
    "\n",
    "plt.hist2d(selectedSiPM[0], selectedSiPM[1], weights = selectedSiPM[2], bins=(50, 50), range=((-250, 250), (-250, 250)), cmap='viridis', cmin=0.001)\n",
    "plt.xlabel('x (mm)')\n",
    "plt.ylabel('y (mm)')\n",
    "#plt.title('charge (PE)')\n",
    "\n",
    "plt.colorbar(label='charge (PE)')"
   ]
  }
 ],
 "metadata": {
  "kernelspec": {
   "display_name": "Python 3",
   "language": "python",
   "name": "python3"
  },
  "language_info": {
   "codemirror_mode": {
    "name": "ipython",
    "version": 3
   },
   "file_extension": ".py",
   "mimetype": "text/x-python",
   "name": "python",
   "nbconvert_exporter": "python",
   "pygments_lexer": "ipython3",
   "version": "3.8.3"
  }
 },
 "nbformat": 4,
 "nbformat_minor": 4
}
