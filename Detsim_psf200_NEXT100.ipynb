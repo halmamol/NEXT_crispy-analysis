{
 "cells": [
  {
   "cell_type": "code",
   "execution_count": 1,
   "metadata": {},
   "outputs": [],
   "source": [
    "import os\n",
    "import sys\n",
    "\n",
    "import numpy  as np\n",
    "import tables as tb\n",
    "import pandas as pd\n",
    "import matplotlib\n",
    "import math\n",
    "\n",
    "#the line below makes the plot as a pop-up, that can be saved\n",
    "#matplotlib.use('TkAgg')\n",
    "\n",
    "import matplotlib.pyplot as plt\n",
    "from mpl_toolkits.mplot3d import Axes3D\n",
    "import matplotlib.colors as clrs\n",
    "\n",
    "import matplotlib.cm as cm\n",
    "from matplotlib.colors import Normalize\n",
    "\n",
    "from scipy.stats import norm\n",
    "from scipy.stats import exponnorm\n",
    "from scipy.stats import skewnorm\n",
    "\n",
    "\n",
    "from IC.invisible_cities.evm.event_model        import Cluster, Hit\n",
    "from IC.invisible_cities.types.ic_types         import xy\n",
    "from IC.invisible_cities.reco.paolina_functions import voxelize_hits\n",
    "\n",
    "from IC.invisible_cities.core.exceptions import NoHits"
   ]
  },
  {
   "cell_type": "code",
   "execution_count": 2,
   "metadata": {},
   "outputs": [],
   "source": [
    "import functions.histo_functions as myhf\n",
    "import functions.efficiency_functions as myef\n",
    "import functions.recovstrue as myrvt"
   ]
  },
  {
   "cell_type": "code",
   "execution_count": 3,
   "metadata": {},
   "outputs": [],
   "source": [
    "#Dimensions for the NEXT100 detector\n",
    "veto_N100 = 20 # mm\n",
    "rmax_N100 = 492 - veto_N100\n",
    "#rmax_N100 = 200\n",
    "zmin_N100 = veto_N100\n",
    "zmax_N100 = 1205 - veto_N100"
   ]
  },
  {
   "cell_type": "code",
   "execution_count": 4,
   "metadata": {},
   "outputs": [],
   "source": [
    "filepath = '/Users/halmamol/NEXT/files/NEXT100/beershebaDS_psf200/'\n",
    "max0nubbf = 999\n",
    "maxselectron = 999\n",
    "blobR = 21\n",
    "testID = ''"
   ]
  },
  {
   "cell_type": "markdown",
   "metadata": {},
   "source": [
    "## Opening TRACK Files - 0nubb"
   ]
  },
  {
   "cell_type": "code",
   "execution_count": 5,
   "metadata": {},
   "outputs": [
    {
     "data": {
      "text/plain": [
       "Index(['event', 'trackID', 'energy', 'length', 'numb_of_voxels',\n",
       "       'numb_of_hits', 'numb_of_tracks', 'x_min', 'y_min', 'z_min', 'x_max',\n",
       "       'y_max', 'z_max', 'r_max', 'x_ave', 'y_ave', 'z_ave', 'extreme1_x',\n",
       "       'extreme1_y', 'extreme1_z', 'extreme2_x', 'extreme2_y', 'extreme2_z',\n",
       "       'blob1_x', 'blob1_y', 'blob1_z', 'blob2_x', 'blob2_y', 'blob2_z',\n",
       "       'eblob1', 'eblob2', 'ovlp_blob_energy', 'vox_size_x', 'vox_size_y',\n",
       "       'vox_size_z'],\n",
       "      dtype='object')"
      ]
     },
     "execution_count": 5,
     "metadata": {},
     "output_type": "execute_result"
    }
   ],
   "source": [
    "#0nubb files\n",
    "track_list_0nubb = []\n",
    "\n",
    "filepath_0nubb_tracks = filepath+f'0nubb/tracks/{blobR}mm/'\n",
    "\n",
    "#loop over all the files, to read 'Tracks' information\n",
    "for nfile in range(1,max0nubbf):\n",
    "    \n",
    "    filename_0nubb = filepath_0nubb_tracks+f'next100.0nubb.{nfile}.skel_tracks.R{blobR}mm{testID}.h5'\n",
    "    #the following lines are added because some of the files aren't there (I had to check Paola's notebook)\n",
    "    try:\n",
    "        readfile_tracks = pd.read_hdf(filename_0nubb, 'Tracks')\n",
    "    except:\n",
    "        print('File {} not good'.format(filename_0nubb))\n",
    "        continue\n",
    "        \n",
    "    track_list_0nubb.append(readfile_tracks)\n",
    "    \n",
    "\n",
    "#'concat' command means: 'concatenate pandas objects along a particular \n",
    "# axis with optional set logic along the other axes.' -> following line \n",
    "# is needed to keep an order between the files\n",
    "\n",
    "tracks_0nubb = pd.concat([dt for dt in track_list_0nubb]) \n",
    "tracks_0nubb.columns  \n",
    "\n",
    "#these are all the elements inside the file:"
   ]
  },
  {
   "cell_type": "code",
   "execution_count": 6,
   "metadata": {},
   "outputs": [
    {
     "name": "stdout",
     "output_type": "stream",
     "text": [
      "File /Users/halmamol/NEXT/files/NEXT100/beershebaDS_psf200//e-_roi/tracks/21mm/next100.e-_roi.131.skel_tracks.R21mm.h5 not good\n",
      "File /Users/halmamol/NEXT/files/NEXT100/beershebaDS_psf200//e-_roi/tracks/21mm/next100.e-_roi.132.skel_tracks.R21mm.h5 not good\n",
      "File /Users/halmamol/NEXT/files/NEXT100/beershebaDS_psf200//e-_roi/tracks/21mm/next100.e-_roi.133.skel_tracks.R21mm.h5 not good\n",
      "File /Users/halmamol/NEXT/files/NEXT100/beershebaDS_psf200//e-_roi/tracks/21mm/next100.e-_roi.134.skel_tracks.R21mm.h5 not good\n",
      "File /Users/halmamol/NEXT/files/NEXT100/beershebaDS_psf200//e-_roi/tracks/21mm/next100.e-_roi.135.skel_tracks.R21mm.h5 not good\n",
      "File /Users/halmamol/NEXT/files/NEXT100/beershebaDS_psf200//e-_roi/tracks/21mm/next100.e-_roi.136.skel_tracks.R21mm.h5 not good\n",
      "File /Users/halmamol/NEXT/files/NEXT100/beershebaDS_psf200//e-_roi/tracks/21mm/next100.e-_roi.137.skel_tracks.R21mm.h5 not good\n",
      "File /Users/halmamol/NEXT/files/NEXT100/beershebaDS_psf200//e-_roi/tracks/21mm/next100.e-_roi.138.skel_tracks.R21mm.h5 not good\n",
      "File /Users/halmamol/NEXT/files/NEXT100/beershebaDS_psf200//e-_roi/tracks/21mm/next100.e-_roi.139.skel_tracks.R21mm.h5 not good\n",
      "File /Users/halmamol/NEXT/files/NEXT100/beershebaDS_psf200//e-_roi/tracks/21mm/next100.e-_roi.140.skel_tracks.R21mm.h5 not good\n",
      "File /Users/halmamol/NEXT/files/NEXT100/beershebaDS_psf200//e-_roi/tracks/21mm/next100.e-_roi.414.skel_tracks.R21mm.h5 not good\n",
      "File /Users/halmamol/NEXT/files/NEXT100/beershebaDS_psf200//e-_roi/tracks/21mm/next100.e-_roi.415.skel_tracks.R21mm.h5 not good\n",
      "File /Users/halmamol/NEXT/files/NEXT100/beershebaDS_psf200//e-_roi/tracks/21mm/next100.e-_roi.416.skel_tracks.R21mm.h5 not good\n",
      "File /Users/halmamol/NEXT/files/NEXT100/beershebaDS_psf200//e-_roi/tracks/21mm/next100.e-_roi.417.skel_tracks.R21mm.h5 not good\n",
      "File /Users/halmamol/NEXT/files/NEXT100/beershebaDS_psf200//e-_roi/tracks/21mm/next100.e-_roi.418.skel_tracks.R21mm.h5 not good\n",
      "File /Users/halmamol/NEXT/files/NEXT100/beershebaDS_psf200//e-_roi/tracks/21mm/next100.e-_roi.419.skel_tracks.R21mm.h5 not good\n",
      "File /Users/halmamol/NEXT/files/NEXT100/beershebaDS_psf200//e-_roi/tracks/21mm/next100.e-_roi.420.skel_tracks.R21mm.h5 not good\n"
     ]
    },
    {
     "data": {
      "text/plain": [
       "Index(['event', 'trackID', 'energy', 'length', 'numb_of_voxels',\n",
       "       'numb_of_hits', 'numb_of_tracks', 'x_min', 'y_min', 'z_min', 'x_max',\n",
       "       'y_max', 'z_max', 'r_max', 'x_ave', 'y_ave', 'z_ave', 'extreme1_x',\n",
       "       'extreme1_y', 'extreme1_z', 'extreme2_x', 'extreme2_y', 'extreme2_z',\n",
       "       'blob1_x', 'blob1_y', 'blob1_z', 'blob2_x', 'blob2_y', 'blob2_z',\n",
       "       'eblob1', 'eblob2', 'ovlp_blob_energy', 'vox_size_x', 'vox_size_y',\n",
       "       'vox_size_z'],\n",
       "      dtype='object')"
      ]
     },
     "execution_count": 6,
     "metadata": {},
     "output_type": "execute_result"
    }
   ],
   "source": [
    "#same for selectron files\n",
    "track_list_selectron = []\n",
    "filepath_selectron_tracks = filepath+f'/e-_roi/tracks/{blobR}mm/'\n",
    "\n",
    "#loop over all the files, to read 'Tracks' information\n",
    "for nfile in range(1,maxselectron):\n",
    "    \n",
    "    filename_selectron = filepath_selectron_tracks+f'next100.e-_roi.{nfile}.skel_tracks.R{blobR}mm{testID}.h5'\n",
    "    #the following lines are added because some of the files aren't there (I had to check Paola's notebook)\n",
    "    try:\n",
    "        readfile_tracks_selectron = pd.read_hdf(filename_selectron, 'Tracks')\n",
    "    except:\n",
    "        print('File {} not good'.format(filename_selectron))\n",
    "        continue\n",
    "        \n",
    "    track_list_selectron.append(readfile_tracks_selectron)\n",
    "    \n",
    "\n",
    "#'concat' command means: 'concatenate pandas objects along a particular \n",
    "# axis with optional set logic along the other axes.' -> following line \n",
    "# is needed to keep an order between the files\n",
    "\n",
    "tracks_selectron = pd.concat([dt for dt in track_list_selectron]) \n",
    "tracks_selectron.columns  \n",
    "\n",
    "#these are all the elements inside the file:"
   ]
  },
  {
   "cell_type": "markdown",
   "metadata": {},
   "source": [
    "## Checking cuts"
   ]
  },
  {
   "cell_type": "markdown",
   "metadata": {},
   "source": [
    "interested in selecting the events in/with:\n",
    "- **Fiducial**: fiducial cut around the detector volume, of 2cm from the border\n",
    "- **1Track**: in this case, considers the track with highest deposition\n",
    "- **NoOverlap**: defined blobs in one trace should not overlap\n",
    "- **ROI**: energy cut in the region of interest, between [2.445,2475]MeV"
   ]
  },
  {
   "cell_type": "code",
   "execution_count": 7,
   "metadata": {},
   "outputs": [],
   "source": [
    "tracks_0nubb_1track = tracks_0nubb[tracks_0nubb.trackID == 0]\n",
    "tracks_selectron_1track = tracks_selectron[tracks_selectron.trackID == 0]"
   ]
  },
  {
   "cell_type": "code",
   "execution_count": 8,
   "metadata": {},
   "outputs": [
    {
     "name": "stdout",
     "output_type": "stream",
     "text": [
      "Initial amount of events for 0nubb: 9803 +- 99.0101004948485\n"
     ]
    }
   ],
   "source": [
    "#Checking total amount of events, prior any selection\n",
    "nevents_0nubb_total = tracks_0nubb.event.nunique()\n",
    "Enevents_0nubb_total = np.sqrt(nevents_0nubb_total)\n",
    "print(f'Initial amount of events for 0nubb: {nevents_0nubb_total} +- {Enevents_0nubb_total}')"
   ]
  },
  {
   "cell_type": "code",
   "execution_count": 9,
   "metadata": {},
   "outputs": [
    {
     "name": "stdout",
     "output_type": "stream",
     "text": [
      "Initial amount of events for selectrons: 9607 +- 98.01530492734285\n"
     ]
    }
   ],
   "source": [
    "nevents_selectron_total = tracks_selectron.event.nunique()\n",
    "Enevents_selectron_total = np.sqrt(nevents_selectron_total)\n",
    "print(f'Initial amount of events for selectrons: {nevents_selectron_total} +- {Enevents_selectron_total}')"
   ]
  },
  {
   "cell_type": "markdown",
   "metadata": {},
   "source": [
    "### 1 - FIDUCIAL CUT"
   ]
  },
  {
   "cell_type": "code",
   "execution_count": 10,
   "metadata": {},
   "outputs": [
    {
     "data": {
      "image/png": "[encoded data removed]",
      "text/plain": [
       "<Figure size 432x288 with 1 Axes>"
      ]
     },
     "metadata": {
      "needs_background": "light"
     },
     "output_type": "display_data"
    }
   ],
   "source": [
    "track_0nubb_zmin = tracks_0nubb.z_min\n",
    "track_0nubb_zmax = tracks_0nubb.z_max\n",
    "\n",
    "plt.hist(track_0nubb_zmin, bins = 50, range = (0, 1400),  color='blue', histtype='step', label = 'zMin')\n",
    "plt.hist(track_0nubb_zmax, bins = 50, range = (0, 1400),  color='green', histtype='step', label = 'zMax', linestyle='dashed')\n",
    "\n",
    "plt.xlabel('position (mm)')\n",
    "plt.ylabel('events (a.u.)')\n",
    "plt.title('0nubb')\n",
    "plt.legend(loc=1);\n",
    "plt.show()"
   ]
  },
  {
   "cell_type": "code",
   "execution_count": 11,
   "metadata": {},
   "outputs": [
    {
     "data": {
      "image/png": "[encoded data removed]",
      "text/plain": [
       "<Figure size 432x288 with 1 Axes>"
      ]
     },
     "metadata": {
      "needs_background": "light"
     },
     "output_type": "display_data"
    }
   ],
   "source": [
    "track_0nubb_rmax = tracks_0nubb.r_max\n",
    "\n",
    "plt.hist(track_0nubb_rmax, bins = 50, range = (0, 650),  color='red', histtype='step', label = 'rMax')\n",
    "\n",
    "plt.xlabel('position (mm)')\n",
    "plt.ylabel('events (a.u.)')\n",
    "plt.title('0nubb')\n",
    "plt.legend(loc=1);\n",
    "plt.show()"
   ]
  },
  {
   "cell_type": "code",
   "execution_count": 12,
   "metadata": {},
   "outputs": [
    {
     "data": {
      "image/png": "[encoded data removed]",
      "text/plain": [
       "<Figure size 432x288 with 1 Axes>"
      ]
     },
     "metadata": {
      "needs_background": "light"
     },
     "output_type": "display_data"
    }
   ],
   "source": [
    "track_selectron_zmin = tracks_selectron.z_min\n",
    "track_selectron_zmax = tracks_selectron.z_max\n",
    "\n",
    "plt.hist(track_selectron_zmin, bins = 50, range = (0, 1400),  color='blue', histtype='step', label = 'zMin')\n",
    "plt.hist(track_selectron_zmax, bins = 50, range = (0, 1400),  color='green', histtype='step', label = 'zMax', linestyle='dashed')\n",
    "\n",
    "plt.xlabel('position (mm)')\n",
    "plt.ylabel('events (a.u.)')\n",
    "plt.title('e-roi')\n",
    "plt.legend(loc=1);\n",
    "plt.show()"
   ]
  },
  {
   "cell_type": "code",
   "execution_count": 13,
   "metadata": {},
   "outputs": [
    {
     "data": {
      "image/png": "[encoded data removed]",
      "text/plain": [
       "<Figure size 432x288 with 1 Axes>"
      ]
     },
     "metadata": {
      "needs_background": "light"
     },
     "output_type": "display_data"
    }
   ],
   "source": [
    "track_selectron_rmax = tracks_selectron.r_max\n",
    "\n",
    "plt.hist(track_selectron_rmax, bins = 50,  range = (0, 650),  color='red', histtype='step', label = 'rMax')\n",
    "\n",
    "plt.xlabel('position (mm)')\n",
    "plt.ylabel('events (a.u.)')\n",
    "plt.title('e-roi')\n",
    "plt.legend(loc=1);\n",
    "plt.show()"
   ]
  },
  {
   "cell_type": "code",
   "execution_count": 14,
   "metadata": {},
   "outputs": [
    {
     "name": "stdout",
     "output_type": "stream",
     "text": [
      "MAX VALUE\n",
      "0nubb\n",
      "- Rmax = 569.054039613111\n",
      "- Zmin = 1456.0025\n",
      "- Zmax = 1464.727875\n",
      "e-roi\n",
      "- Rmax = 574.0509559263882\n",
      "- Zmin = 1454.18525\n",
      "- Zmax = 1465.66875\n",
      "AVG VALUE\n",
      "0nubb\n",
      "- Rmax = 356.62069024159615\n",
      "- Zmin = 528.0839148619112\n",
      "- Zmax = 542.6658397781742\n",
      "e-roi\n",
      "- Rmax = 350.7888561784619\n",
      "- Zmin = 541.349198173754\n",
      "- Zmax = 558.9262309945461\n"
     ]
    }
   ],
   "source": [
    "print(f'MAX VALUE')\n",
    "print(f'0nubb')\n",
    "print(f'- Rmax = {np.amax(track_0nubb_rmax)}')\n",
    "print(f'- Zmin = {np.amax(track_0nubb_zmin)}')\n",
    "print(f'- Zmax = {np.amax(track_0nubb_zmax)}')\n",
    "print(f'e-roi')\n",
    "print(f'- Rmax = {np.amax(track_selectron_rmax)}')\n",
    "print(f'- Zmin = {np.amax(track_selectron_zmin)}')\n",
    "print(f'- Zmax = {np.amax(track_selectron_zmax)}')\n",
    "print(f'AVG VALUE')\n",
    "print(f'0nubb')\n",
    "print(f'- Rmax = {np.average(track_0nubb_rmax)}')\n",
    "print(f'- Zmin = {np.average(track_0nubb_zmin)}')\n",
    "print(f'- Zmax = {np.average(track_0nubb_zmax)}')\n",
    "print(f'e-roi')\n",
    "print(f'- Rmax = {np.average(track_selectron_rmax)}')\n",
    "print(f'- Zmin = {np.average(track_selectron_zmin)}')\n",
    "print(f'- Zmax = {np.average(track_selectron_zmax)}')"
   ]
  },
  {
   "cell_type": "code",
   "execution_count": 15,
   "metadata": {},
   "outputs": [],
   "source": [
    "npz_file = f'/Users/halmamol/NEXT/NBarrays/tracklimits_DETSIM_p{testID}'\n",
    "np.savez(npz_file, track_0nubb_zmin=track_0nubb_zmin, track_0nubb_zmax=track_0nubb_zmax, track_0nubb_rmax=track_0nubb_rmax,\n",
    "        track_selectron_zmin=track_selectron_zmin, track_selectron_zmax=track_selectron_zmax, track_selectron_rmax=track_selectron_rmax)\n"
   ]
  },
  {
   "cell_type": "code",
   "execution_count": 16,
   "metadata": {},
   "outputs": [],
   "source": [
    "#For the evaluation of the events out of fiducial limits it's necessary to do several steps\n",
    "\n",
    "#First, check a list of events where at least 1 trace is out of the limits:\n",
    "\n",
    "nonfiducial_list_0nubb = tracks_0nubb_1track[~((tracks_0nubb_1track.r_max < rmax_N100) & \n",
    "                                     (tracks_0nubb_1track.z_min > zmin_N100) & \n",
    "                                     (tracks_0nubb_1track.z_max < zmax_N100))].event.unique()\n",
    "\n",
    "#Then I apply the selection into the matrix of elements\n",
    "fiducial_tracks_0nubb = tracks_0nubb_1track[(tracks_0nubb_1track.r_max < rmax_N100) & \n",
    "                                     (tracks_0nubb_1track.z_min > zmin_N100) & \n",
    "                                     (tracks_0nubb_1track.z_max < zmax_N100)]\n",
    "\n",
    "# I get a list of true elements if event ID is not in the above list 'nonfiducial_list'\n",
    "evt_fid_sel_0nubb    = ~fiducial_tracks_0nubb.event.isin(nonfiducial_list_0nubb) \n",
    "\n",
    "# And finally I select the events with an asigned True from the previous line \n",
    "tracks_0nubb_fiducial = fiducial_tracks_0nubb[evt_fid_sel_0nubb]"
   ]
  },
  {
   "cell_type": "code",
   "execution_count": 17,
   "metadata": {},
   "outputs": [],
   "source": [
    "#Now I do the same for single electron\n",
    "\n",
    "nonfiducial_list_selectron = tracks_selectron_1track[~((tracks_selectron_1track.r_max < rmax_N100) & \n",
    "                                     (tracks_selectron_1track.z_min > zmin_N100) & \n",
    "                                     (tracks_selectron_1track.z_max < zmax_N100))].event.unique()\n",
    "\n",
    "#Then I apply the selection into the matrix of elements\n",
    "fiducial_tracks_selectron = tracks_selectron_1track[(tracks_selectron_1track.r_max < rmax_N100) & \n",
    "                                     (tracks_selectron_1track.z_min > zmin_N100) & \n",
    "                                     (tracks_selectron_1track.z_max < zmax_N100)]\n",
    "\n",
    "# I get a list of true elements if event ID is not in the above list 'nonfiducial_list'\n",
    "evt_fid_sel_selectron    = ~fiducial_tracks_selectron.event.isin(nonfiducial_list_selectron) \n",
    "\n",
    "# And finally I select the events with an asigned True from the previous line \n",
    "tracks_selectron_fiducial = fiducial_tracks_selectron[evt_fid_sel_selectron]"
   ]
  },
  {
   "cell_type": "code",
   "execution_count": 18,
   "metadata": {},
   "outputs": [
    {
     "name": "stdout",
     "output_type": "stream",
     "text": [
      "--------------------------0nubb-------------------------\n",
      "--CUT---!----EVENTS----!---REDUCTION---!---EFFICIENCY---\n",
      "INITIAL    9803        \n",
      "FIDUCIAL   7247                ---      73.92634907681322 +- 1.1452566398595208%\n",
      "--------!--------------!----------------!----------------\n"
     ]
    }
   ],
   "source": [
    "#Checking total amount of events, after fiducial selection\n",
    "\n",
    "nevents_0nubb_fiducial = tracks_0nubb_fiducial.event.nunique()\n",
    "Enevents_0nubb_fiducial = np.sqrt(nevents_0nubb_fiducial)\n",
    "\n",
    "\n",
    "ratio_fiducial_0nubb = 100*nevents_0nubb_fiducial/nevents_0nubb_total\n",
    "Eratio_fiducial_0nubb = myef.ratio_error(ratio_fiducial_0nubb, nevents_0nubb_fiducial, nevents_0nubb_total, \n",
    "                                             Enevents_0nubb_fiducial, Enevents_0nubb_total)\n",
    "\n",
    "print('--------------------------0nubb-------------------------')\n",
    "print('--CUT---!----EVENTS----!---REDUCTION---!---EFFICIENCY---')\n",
    "print(f'INITIAL    {nevents_0nubb_total}        ')\n",
    "print(f'FIDUCIAL   {nevents_0nubb_fiducial}                ---      {ratio_fiducial_0nubb} +- {Eratio_fiducial_0nubb}%')\n",
    "print('--------!--------------!----------------!----------------')\n"
   ]
  },
  {
   "cell_type": "code",
   "execution_count": 19,
   "metadata": {},
   "outputs": [
    {
     "name": "stdout",
     "output_type": "stream",
     "text": [
      "--------------------------SElectron---------------------\n",
      "--CUT---!----EVENTS----!---REDUCTION---!---EFFICIENCY---\n",
      "INITIAL    9607        \n",
      "FIDUCIAL   6874                ---      71.5519933381909 +- 1.1303549943673008%\n",
      "--------!--------------!----------------!----------------\n"
     ]
    }
   ],
   "source": [
    "nevents_selectron_fiducial = tracks_selectron_fiducial.event.nunique()\n",
    "Enevents_selectron_fiducial = np.sqrt(nevents_selectron_fiducial)\n",
    "\n",
    "ratio_fiducial_selectron = 100*nevents_selectron_fiducial/nevents_selectron_total\n",
    "Eratio_fiducial_selectron = myef.ratio_error(ratio_fiducial_selectron, nevents_selectron_fiducial, nevents_selectron_total, \n",
    "                                             Enevents_selectron_fiducial, Enevents_selectron_total)\n",
    "\n",
    "print('--------------------------SElectron---------------------')\n",
    "print('--CUT---!----EVENTS----!---REDUCTION---!---EFFICIENCY---')\n",
    "print(f'INITIAL    {nevents_selectron_total}        ')\n",
    "print(f'FIDUCIAL   {nevents_selectron_fiducial}                ---      {ratio_fiducial_selectron} +- {Eratio_fiducial_selectron}%')\n",
    "print('--------!--------------!----------------!----------------')\n"
   ]
  },
  {
   "cell_type": "markdown",
   "metadata": {},
   "source": [
    "## 2 - Number of tracks"
   ]
  },
  {
   "cell_type": "code",
   "execution_count": 20,
   "metadata": {},
   "outputs": [],
   "source": [
    "#Therefore, I'm going to take the 1st 'trackID'\n",
    "tracks_0nubb_1track = tracks_0nubb[tracks_0nubb.trackID == 0]\n",
    "tracks_0nubb_1trackfid = tracks_0nubb_fiducial[tracks_0nubb_fiducial.trackID == 0]"
   ]
  },
  {
   "cell_type": "code",
   "execution_count": 21,
   "metadata": {},
   "outputs": [],
   "source": [
    "tracks_selectron_1track = tracks_selectron[tracks_selectron.trackID == 0]\n",
    "tracks_selectron_1trackfid = tracks_selectron_fiducial[tracks_selectron_fiducial.trackID == 0]"
   ]
  },
  {
   "cell_type": "code",
   "execution_count": 22,
   "metadata": {},
   "outputs": [
    {
     "data": {
      "image/png": "[encoded data removed]",
      "text/plain": [
       "<Figure size 432x288 with 1 Axes>"
      ]
     },
     "metadata": {
      "needs_background": "light"
     },
     "output_type": "display_data"
    }
   ],
   "source": [
    "#Check the number of tracks with numb_of_tracks\n",
    "ntracks_0nubb = tracks_0nubb_1trackfid.numb_of_tracks\n",
    "maxtracks_0nubb = np.amax(ntracks_0nubb)\n",
    "\n",
    "plt.hist(ntracks_0nubb, bins = maxtracks_0nubb, range = (0, maxtracks_0nubb),density=True, alpha=0.6, color='r')\n",
    "plt.xlabel('number of tracks')\n",
    "plt.ylabel('fraction of events')\n",
    "plt.title('0nubb')\n",
    "plt.show()"
   ]
  },
  {
   "cell_type": "code",
   "execution_count": 23,
   "metadata": {},
   "outputs": [
    {
     "data": {
      "image/png": "[encoded data removed]",
      "text/plain": [
       "<Figure size 432x288 with 1 Axes>"
      ]
     },
     "metadata": {
      "needs_background": "light"
     },
     "output_type": "display_data"
    }
   ],
   "source": [
    "#Check the number of tracks with numb_of_tracks\n",
    "ntracks_eroi = tracks_selectron_1trackfid.numb_of_tracks\n",
    "maxtracks_eroi = np.amax(ntracks_eroi)\n",
    "\n",
    "plt.hist(ntracks_eroi, bins = maxtracks_eroi, range = (0, maxtracks_eroi), density=True, alpha=0.6, color='b')\n",
    "plt.xlabel('number of tracks')\n",
    "plt.ylabel('fraction of events')\n",
    "plt.title('eroi')\n",
    "plt.show()"
   ]
  },
  {
   "cell_type": "code",
   "execution_count": 24,
   "metadata": {},
   "outputs": [
    {
     "data": {
      "image/png": "[encoded data removed]",
      "text/plain": [
       "<Figure size 432x288 with 1 Axes>"
      ]
     },
     "metadata": {
      "needs_background": "light"
     },
     "output_type": "display_data"
    }
   ],
   "source": [
    "plt.hist(ntracks_0nubb, bins = 9, range = (0.5, 9.5),density=True, alpha=0.4, color='r', label = '0nubb')\n",
    "plt.hist(ntracks_eroi, bins = 9, range = (0.5, 9.5), density=True, alpha=0.4, color='b',label = 'e-roi')\n",
    "\n",
    "plt.xlabel('number of tracks (MeV)')\n",
    "plt.ylabel('fraction of events')\n",
    "plt.title('Tracks in each event')\n",
    "plt.legend(loc=1);\n",
    "plt.show()"
   ]
  },
  {
   "cell_type": "code",
   "execution_count": 25,
   "metadata": {},
   "outputs": [
    {
     "name": "stdout",
     "output_type": "stream",
     "text": [
      "MAX VALUE\n",
      "0nubb\n",
      "- #tracks = 31\n",
      "e-roi\n",
      "- #tracks = 32\n",
      "AVG VALUE\n",
      "0nubb\n",
      "- #tracks = 3.1755209052021525\n",
      "e-roi\n",
      "- #tracks = 3.4032586558044806\n",
      "1-track events\n",
      "0nubb\n",
      "- 1 track = 21.217994491482198\n",
      "e-roi\n",
      "- 1 track = 23.659831372957218\n"
     ]
    }
   ],
   "source": [
    "print(f'MAX VALUE')\n",
    "print(f'0nubb')\n",
    "print(f'- #tracks = {np.amax(ntracks_0nubb)}')\n",
    "print(f'e-roi')\n",
    "print(f'- #tracks = {np.amax(ntracks_eroi)}')\n",
    "print(f'AVG VALUE')\n",
    "print(f'0nubb')\n",
    "print(f'- #tracks = {np.average(ntracks_0nubb)}')\n",
    "print(f'e-roi')\n",
    "print(f'- #tracks = {np.average(ntracks_eroi)}')\n",
    "print(f'1-track events')\n",
    "print(f'0nubb')\n",
    "print(f'- 1 track = {100*(tracks_0nubb[tracks_0nubb.numb_of_tracks == 1].event.nunique())/(tracks_0nubb.event.nunique())}')\n",
    "print(f'e-roi')\n",
    "print(f'- 1 track = {100*(tracks_selectron[tracks_selectron.numb_of_tracks == 1].event.nunique())/(tracks_selectron.event.nunique())}')\n"
   ]
  },
  {
   "cell_type": "code",
   "execution_count": 26,
   "metadata": {},
   "outputs": [
    {
     "name": "stdout",
     "output_type": "stream",
     "text": [
      "Amount of events with 1 track 0nubb = 1702/7247 = 23.485580240099353 +- 0.6326006589119779\n"
     ]
    }
   ],
   "source": [
    "tracks_0nubb_1track_cut = tracks_0nubb_1trackfid[tracks_0nubb_1trackfid.numb_of_tracks == 1]\n",
    "frac_1track_0nubb = 100*tracks_0nubb_1track_cut.event.nunique()/nevents_0nubb_fiducial\n",
    "\n",
    "Efrac_1track_0nubb = myef.ratio_error(frac_1track_0nubb, tracks_0nubb_1track_cut.event.nunique(), nevents_0nubb_fiducial, \n",
    "                                             np.sqrt(tracks_0nubb_1track_cut.event.nunique()), np.sqrt(nevents_0nubb_fiducial))\n",
    "print(f'Amount of events with 1 track 0nubb = {tracks_0nubb_1track_cut.event.nunique()}/{nevents_0nubb_fiducial} = {frac_1track_0nubb} +- {Efrac_1track_0nubb}')"
   ]
  },
  {
   "cell_type": "code",
   "execution_count": 27,
   "metadata": {},
   "outputs": [
    {
     "name": "stdout",
     "output_type": "stream",
     "text": [
      "Amount of events with 1 track eroi = 23.770730288041896 +- 0.6542224980771116\n"
     ]
    }
   ],
   "source": [
    "tracks_selectron_1track_cut = tracks_selectron_1trackfid[tracks_selectron_1trackfid.numb_of_tracks == 1]\n",
    "frac_1track_selectron = 100*tracks_selectron_1track_cut.event.nunique()/nevents_selectron_fiducial\n",
    "Efrac_1track_selectron = myef.ratio_error(frac_1track_selectron, tracks_selectron_1track_cut.event.nunique(), nevents_selectron_fiducial, \n",
    "                                             np.sqrt(tracks_selectron_1track_cut.event.nunique()), np.sqrt(nevents_selectron_fiducial))\n",
    "print(f'Amount of events with 1 track eroi = {frac_1track_selectron} +- {Efrac_1track_selectron}')"
   ]
  },
  {
   "cell_type": "code",
   "execution_count": 28,
   "metadata": {},
   "outputs": [
    {
     "name": "stdout",
     "output_type": "stream",
     "text": [
      "--------------------------0nubb-------------------------\n",
      "--CUT---!----EVENTS----!---REDUCTION---!---EFFICIENCY---\n",
      "INITIAL    9803        \n",
      "FIDUCIAL   7247                ---      73.92634907681322 +- 1.1452566398595208%\n",
      "1TRACK.    7247        100.0+- 1.6612533402257477% 73.92634907681322 +- 1.1452566398595208%\n",
      "--------!--------------!----------------!----------------\n"
     ]
    }
   ],
   "source": [
    "#Checking total amount of events, after fiducial selection\n",
    "\n",
    "nevents_0nubb_1track = tracks_0nubb_1track.event.nunique()\n",
    "Enevents_0nubb_1track = np.sqrt(nevents_0nubb_1track)\n",
    "nevents_0nubb_1trackfid = tracks_0nubb_1trackfid.event.nunique()\n",
    "Enevents_0nubb_1trackfid = np.sqrt(nevents_0nubb_1trackfid)\n",
    "\n",
    "\n",
    "ratio_1trackfid_0nubb = 100*nevents_0nubb_1trackfid/nevents_0nubb_fiducial\n",
    "Eratio_1trackfid_0nubb = myef.ratio_error(ratio_1trackfid_0nubb, nevents_0nubb_1trackfid, nevents_0nubb_fiducial, \n",
    "                                             Enevents_0nubb_1trackfid, Enevents_0nubb_fiducial)\n",
    "\n",
    "eff_1trackfid_0nubb = 100*nevents_0nubb_1trackfid/nevents_0nubb_total\n",
    "Eeff_1trackfid_0nubb = myef.ratio_error(eff_1trackfid_0nubb, nevents_0nubb_1trackfid, nevents_0nubb_total, \n",
    "                                             Enevents_0nubb_1trackfid, Enevents_0nubb_total)\n",
    "\n",
    "\n",
    "print('--------------------------0nubb-------------------------')\n",
    "print('--CUT---!----EVENTS----!---REDUCTION---!---EFFICIENCY---')\n",
    "print(f'INITIAL    {nevents_0nubb_total}        ')\n",
    "print(f'FIDUCIAL   {nevents_0nubb_fiducial}                ---      {ratio_fiducial_0nubb} +- {Eratio_fiducial_0nubb}%')\n",
    "print(f'1TRACK.    {nevents_0nubb_1trackfid}        {ratio_1trackfid_0nubb}+- {Eratio_1trackfid_0nubb}% {eff_1trackfid_0nubb} +- {Eeff_1trackfid_0nubb}%')\n",
    "\n",
    "print('--------!--------------!----------------!----------------')\n"
   ]
  },
  {
   "cell_type": "code",
   "execution_count": 29,
   "metadata": {},
   "outputs": [
    {
     "name": "stdout",
     "output_type": "stream",
     "text": [
      "--------------------------SElectron---------------------\n",
      "--CUT---!----EVENTS----!---REDUCTION---!---EFFICIENCY---\n",
      "INITIAL    9607        \n",
      "FIDUCIAL   6874                ---      71.5519933381909 +- 1.1303549943673008%\n",
      "1TRACK.    6874        100.0+- 1.7057297884317548% 71.5519933381909 +- 1.1303549943673008%\n",
      "--------!--------------!----------------!----------------\n"
     ]
    }
   ],
   "source": [
    "nevents_selectron_1track = tracks_selectron_1track.event.nunique()\n",
    "Enevents_selectron_1track = np.sqrt(nevents_selectron_1track)\n",
    "nevents_selectron_1trackfid = tracks_selectron_1trackfid.event.nunique()\n",
    "Enevents_selectron_1trackfid = np.sqrt(nevents_selectron_1trackfid)\n",
    "\n",
    "ratio_1trackfid_selectron = 100*nevents_selectron_1trackfid/nevents_selectron_fiducial\n",
    "Eratio_1trackfid_selectron = myef.ratio_error(ratio_1trackfid_0nubb, nevents_selectron_1trackfid, nevents_selectron_fiducial, \n",
    "                                             Enevents_selectron_1trackfid, Enevents_selectron_fiducial)\n",
    "\n",
    "eff_1trackfid_selectron = 100*nevents_selectron_1trackfid/nevents_selectron_total\n",
    "Eeff_1trackfid_selectron = myef.ratio_error(eff_1trackfid_selectron, nevents_selectron_1trackfid, nevents_selectron_total, \n",
    "                                             Enevents_selectron_1trackfid, Enevents_selectron_total)\n",
    "\n",
    "print('--------------------------SElectron---------------------')\n",
    "print('--CUT---!----EVENTS----!---REDUCTION---!---EFFICIENCY---')\n",
    "print(f'INITIAL    {nevents_selectron_total}        ')\n",
    "print(f'FIDUCIAL   {nevents_selectron_fiducial}                ---      {ratio_fiducial_selectron} +- {Eratio_fiducial_selectron}%')\n",
    "print(f'1TRACK.    {nevents_selectron_1trackfid}        {ratio_1trackfid_selectron}+- {Eratio_1trackfid_selectron}% {eff_1trackfid_selectron} +- {Eeff_1trackfid_selectron}%')\n",
    "print('--------!--------------!----------------!----------------')\n"
   ]
  },
  {
   "cell_type": "code",
   "execution_count": 30,
   "metadata": {},
   "outputs": [
    {
     "data": {
      "image/png": "[encoded data removed]",
      "text/plain": [
       "<Figure size 432x288 with 1 Axes>"
      ]
     },
     "metadata": {
      "needs_background": "light"
     },
     "output_type": "display_data"
    }
   ],
   "source": [
    "track_0nubb_zmin = tracks_0nubb_1track.z_min\n",
    "track_0nubb_zmax = tracks_0nubb_1track.z_max\n",
    "\n",
    "plt.hist(track_0nubb_zmin, bins = 50, range = (0, 1400),  color='blue', histtype='step', label = 'zMin')\n",
    "plt.hist(track_0nubb_zmax, bins = 50, range = (0, 1400),  color='green', histtype='step', label = 'zMax', linestyle='dashed')\n",
    "\n",
    "plt.xlabel('position (mm)')\n",
    "plt.ylabel('events (a.u.)')\n",
    "plt.title('0nubb')\n",
    "plt.legend(loc=1);\n",
    "plt.show()"
   ]
  },
  {
   "cell_type": "code",
   "execution_count": 31,
   "metadata": {},
   "outputs": [
    {
     "data": {
      "image/png": "[encoded data removed]",
      "text/plain": [
       "<Figure size 432x288 with 1 Axes>"
      ]
     },
     "metadata": {
      "needs_background": "light"
     },
     "output_type": "display_data"
    }
   ],
   "source": [
    "track_0nubb_rmax = tracks_0nubb_1track.r_max\n",
    "\n",
    "plt.hist(track_0nubb_rmax, bins = 50, range = (0, 650),  color='red', histtype='step', label = 'rMax')\n",
    "\n",
    "plt.xlabel('position (mm)')\n",
    "plt.ylabel('events (a.u.)')\n",
    "plt.title('0nubb')\n",
    "plt.legend(loc=1);\n",
    "plt.show()"
   ]
  },
  {
   "cell_type": "code",
   "execution_count": 32,
   "metadata": {},
   "outputs": [
    {
     "data": {
      "image/png": "[encoded data removed]",
      "text/plain": [
       "<Figure size 432x288 with 1 Axes>"
      ]
     },
     "metadata": {
      "needs_background": "light"
     },
     "output_type": "display_data"
    }
   ],
   "source": [
    "track_selectron_zmin = tracks_selectron_1track.z_min\n",
    "track_selectron_zmax = tracks_selectron_1track.z_max\n",
    "\n",
    "plt.hist(track_selectron_zmin, bins = 50, range = (0, 1400),  color='blue', histtype='step', label = 'zMin')\n",
    "plt.hist(track_selectron_zmax, bins = 50, range = (0, 1400),  color='green', histtype='step', label = 'zMax', linestyle='dashed')\n",
    "\n",
    "plt.xlabel('position (mm)')\n",
    "plt.ylabel('events (a.u.)')\n",
    "plt.title('e-roi')\n",
    "plt.legend(loc=1);\n",
    "plt.show()\n",
    "\n"
   ]
  },
  {
   "cell_type": "code",
   "execution_count": 33,
   "metadata": {},
   "outputs": [
    {
     "data": {
      "image/png": "[encoded data removed]",
      "text/plain": [
       "<Figure size 432x288 with 1 Axes>"
      ]
     },
     "metadata": {
      "needs_background": "light"
     },
     "output_type": "display_data"
    }
   ],
   "source": [
    "track_selectron_rmax = tracks_selectron_1track.r_max\n",
    "\n",
    "plt.hist(track_selectron_rmax, bins = 50,  range = (0, 650),  color='red', histtype='step', label = 'rMax')\n",
    "\n",
    "plt.xlabel('position (mm)')\n",
    "plt.ylabel('events (a.u.)')\n",
    "plt.title('e-roi')\n",
    "plt.legend(loc=1);\n",
    "plt.show()"
   ]
  },
  {
   "cell_type": "markdown",
   "metadata": {},
   "source": [
    "## 3 - No overlap"
   ]
  },
  {
   "cell_type": "code",
   "execution_count": 34,
   "metadata": {},
   "outputs": [],
   "source": [
    "#Getting ovlp variable of the tracks, and selecting events with no ovlp\n",
    "\n",
    "tracks_0nubb_ovlp = tracks_0nubb[tracks_0nubb.ovlp_blob_energy == 0.]\n",
    "tracks_0nubb_ovlp1trackfid = tracks_0nubb_1trackfid[tracks_0nubb_1trackfid.ovlp_blob_energy == 0.]"
   ]
  },
  {
   "cell_type": "code",
   "execution_count": 35,
   "metadata": {},
   "outputs": [],
   "source": [
    "tracks_selectron_ovlp = tracks_selectron[tracks_selectron.ovlp_blob_energy == 0.]\n",
    "tracks_selectron_ovlp1trackfid = tracks_selectron_1trackfid[tracks_selectron_1trackfid.ovlp_blob_energy == 0.]"
   ]
  },
  {
   "cell_type": "code",
   "execution_count": 36,
   "metadata": {},
   "outputs": [
    {
     "name": "stdout",
     "output_type": "stream",
     "text": [
      "--------------------------0nubb-------------------------\n",
      "--CUT---!----EVENTS----!---REDUCTION---!---EFFICIENCY---\n",
      "INITIAL    9803        \n",
      "FIDUCIAL   7247                ---      73.92634907681322 +- 1.1452566398595208%\n",
      "1TRACK.    7247        100.0+- 1.6612533402257477% 73.92634907681322 +- 1.1452566398595208%\n",
      "OVLP       6377        87.99503242721126+- 1.5108562100527951%   65.05151484239518 +- 1.0465475447841899%\n",
      "--------!--------------!----------------!----------------\n"
     ]
    }
   ],
   "source": [
    "#Checking total amount of events, after overlap selection\n",
    "\n",
    "nevents_0nubb_ovlp = tracks_0nubb_ovlp.event.nunique()\n",
    "Enevents_0nubb_ovlp = np.sqrt(nevents_0nubb_ovlp)\n",
    "nevents_0nubb_ovlp1trackfid = tracks_0nubb_ovlp1trackfid.event.nunique()\n",
    "Enevents_0nubb_ovlp1trackfid = np.sqrt(nevents_0nubb_ovlp1trackfid)\n",
    "\n",
    "\n",
    "ratio_ovlp1trackfid_0nubb = 100*nevents_0nubb_ovlp1trackfid/nevents_0nubb_1trackfid\n",
    "Eratio_ovlp1trackfid_0nubb = myef.ratio_error(ratio_ovlp1trackfid_0nubb, nevents_0nubb_ovlp1trackfid, nevents_0nubb_1trackfid, \n",
    "                                             Enevents_0nubb_ovlp1trackfid, Enevents_0nubb_1trackfid)\n",
    "\n",
    "eff_ovlp1trackfid_0nubb = 100*nevents_0nubb_ovlp1trackfid/nevents_0nubb_total\n",
    "Eeff_ovlp1trackfid_0nubb = myef.ratio_error(eff_ovlp1trackfid_0nubb, nevents_0nubb_ovlp1trackfid, nevents_0nubb_total, \n",
    "                                             Enevents_0nubb_ovlp1trackfid, Enevents_0nubb_total)\n",
    "\n",
    "\n",
    "print('--------------------------0nubb-------------------------')\n",
    "print('--CUT---!----EVENTS----!---REDUCTION---!---EFFICIENCY---')\n",
    "print(f'INITIAL    {nevents_0nubb_total}        ')\n",
    "print(f'FIDUCIAL   {nevents_0nubb_fiducial}                ---      {ratio_fiducial_0nubb} +- {Eratio_fiducial_0nubb}%')\n",
    "print(f'1TRACK.    {nevents_0nubb_1trackfid}        {ratio_1trackfid_0nubb}+- {Eratio_1trackfid_0nubb}% {eff_1trackfid_0nubb} +- {Eeff_1trackfid_0nubb}%')\n",
    "print(f'OVLP       {nevents_0nubb_ovlp1trackfid}        {ratio_ovlp1trackfid_0nubb}+- {Eratio_ovlp1trackfid_0nubb}%   {eff_ovlp1trackfid_0nubb} +- {Eeff_ovlp1trackfid_0nubb}%')\n",
    "print('--------!--------------!----------------!----------------')"
   ]
  },
  {
   "cell_type": "code",
   "execution_count": 37,
   "metadata": {},
   "outputs": [
    {
     "name": "stdout",
     "output_type": "stream",
     "text": [
      "--------------------------SElectron---------------------\n",
      "--CUT---!----EVENTS----!---REDUCTION---!---EFFICIENCY---\n",
      "INITIAL    9607        \n",
      "FIDUCIAL   6874                ---      71.5519933381909 +- 1.1303549943673008%\n",
      "1TRACK.    6874        100.0+- 1.7057297884317548% 71.5519933381909 +- 1.1303549943673008%\n",
      "OVLP       6603        96.05760837940063+- 1.6552095032026437%   68.73113354845425 +- 1.0987034038997538%\n",
      "--------!--------------!----------------!----------------\n"
     ]
    }
   ],
   "source": [
    "nevents_selectron_ovlp = tracks_selectron_ovlp.event.nunique()\n",
    "Enevents_selectron_ovlp = np.sqrt(nevents_selectron_ovlp)\n",
    "nevents_selectron_ovlp1trackfid = tracks_selectron_ovlp1trackfid.event.nunique()\n",
    "Enevents_selectron_ovlp1trackfid = np.sqrt(nevents_selectron_ovlp1trackfid)\n",
    "\n",
    "ratio_ovlp1trackfid_selectron = 100*nevents_selectron_ovlp1trackfid/nevents_selectron_1trackfid\n",
    "Eratio_ovlp1trackfid_selectron = myef.ratio_error(ratio_ovlp1trackfid_selectron, nevents_selectron_ovlp1trackfid, nevents_selectron_1trackfid, \n",
    "                                             Enevents_selectron_ovlp1trackfid, Enevents_selectron_1trackfid)\n",
    "\n",
    "eff_ovlp1trackfid_selectron = 100*nevents_selectron_ovlp1trackfid/nevents_selectron_total\n",
    "Eeff_ovlp1trackfid_selectron = myef.ratio_error(eff_ovlp1trackfid_selectron, nevents_selectron_ovlp1trackfid, nevents_selectron_total,\n",
    "                                             Enevents_selectron_ovlp1trackfid, Enevents_selectron_total)\n",
    "\n",
    "print('--------------------------SElectron---------------------')\n",
    "print('--CUT---!----EVENTS----!---REDUCTION---!---EFFICIENCY---')\n",
    "print(f'INITIAL    {nevents_selectron_total}        ')\n",
    "print(f'FIDUCIAL   {nevents_selectron_fiducial}                ---      {ratio_fiducial_selectron} +- {Eratio_fiducial_selectron}%')\n",
    "print(f'1TRACK.    {nevents_selectron_1trackfid}        {ratio_1trackfid_selectron}+- {Eratio_1trackfid_selectron}% {eff_1trackfid_selectron} +- {Eeff_1trackfid_selectron}%')\n",
    "print(f'OVLP       {nevents_selectron_ovlp1trackfid}        {ratio_ovlp1trackfid_selectron}+- {Eratio_ovlp1trackfid_selectron}%   {eff_ovlp1trackfid_selectron} +- {Eeff_ovlp1trackfid_selectron}%')\n",
    "print('--------!--------------!----------------!----------------')\n"
   ]
  },
  {
   "cell_type": "markdown",
   "metadata": {},
   "source": [
    "## 4 - ROI events"
   ]
  },
  {
   "cell_type": "code",
   "execution_count": 38,
   "metadata": {},
   "outputs": [
    {
     "data": {
      "image/png": "[encoded data removed]",
      "text/plain": [
       "<Figure size 432x288 with 1 Axes>"
      ]
     },
     "metadata": {
      "needs_background": "light"
     },
     "output_type": "display_data"
    }
   ],
   "source": [
    "#Getting energy of the tracks\n",
    "energy_0nubb = tracks_0nubb.energy\n",
    "\n",
    "plt.hist(energy_0nubb, bins = 50, density = True)\n",
    "plt.xlabel('energy (MeV)')\n",
    "plt.ylabel('events (a.u.)')\n",
    "plt.title('0nubb')\n",
    "plt.show()"
   ]
  },
  {
   "cell_type": "code",
   "execution_count": 39,
   "metadata": {},
   "outputs": [
    {
     "data": {
      "image/png": "[encoded data removed]",
      "text/plain": [
       "<Figure size 432x288 with 1 Axes>"
      ]
     },
     "metadata": {
      "needs_background": "light"
     },
     "output_type": "display_data"
    }
   ],
   "source": [
    "#Getting energy of the tracks\n",
    "energy_selectron = tracks_selectron.energy\n",
    "\n",
    "plt.hist(energy_selectron, bins = 50, density = True)\n",
    "plt.xlabel('energy (MeV)')\n",
    "plt.ylabel('events (%)')\n",
    "plt.title('e-roi')\n",
    "plt.show()"
   ]
  },
  {
   "cell_type": "code",
   "execution_count": 40,
   "metadata": {},
   "outputs": [],
   "source": [
    "#Check limits of the Energy ROI \n",
    "\n",
    "emin = 2.40\n",
    "emax = 2.54"
   ]
  },
  {
   "cell_type": "code",
   "execution_count": 41,
   "metadata": {},
   "outputs": [],
   "source": [
    "#Selecting events in the ROI\n",
    "tracks_0nubb_ROI = tracks_0nubb[(tracks_0nubb.energy >= emin) & (tracks_0nubb.energy <= emax)]\n",
    "tracks_0nubb_ROIovlp1trackfid = tracks_0nubb_ovlp1trackfid[(tracks_0nubb_ovlp1trackfid.energy >= emin) & (tracks_0nubb_ovlp1trackfid.energy <= emax)]\n"
   ]
  },
  {
   "cell_type": "code",
   "execution_count": 42,
   "metadata": {},
   "outputs": [],
   "source": [
    "\n",
    "tracks_selectron_ROI = tracks_selectron[(tracks_selectron.energy >= emin) & (tracks_selectron.energy <= emax)]\n",
    "tracks_selectron_ROIovlp1trackfid = tracks_selectron_ovlp1trackfid[(tracks_selectron_ovlp1trackfid.energy >= emin) & (tracks_selectron_ovlp1trackfid.energy <= emax)]\n"
   ]
  },
  {
   "cell_type": "code",
   "execution_count": 43,
   "metadata": {},
   "outputs": [
    {
     "data": {
      "image/png": "[encoded data removed]",
      "text/plain": [
       "<Figure size 432x288 with 1 Axes>"
      ]
     },
     "metadata": {
      "needs_background": "light"
     },
     "output_type": "display_data"
    }
   ],
   "source": [
    "energy_0nubb = tracks_0nubb_ROIovlp1trackfid.energy\n",
    "energy_selectron = tracks_selectron_ROIovlp1trackfid.energy\n",
    "\n",
    "plt.hist(energy_0nubb, bins = 50, range = (emin, emax), color='red', histtype='step', label = '0nubb')\n",
    "plt.hist(energy_selectron, bins = 50, range = (emin, emax), color='blue', histtype='step', label = 'e-roi', linestyle='dashed')\n",
    "\n",
    "plt.xlabel('energy (MeV)')\n",
    "plt.ylabel('events (a.u.)')\n",
    "plt.title('Energy ROI')\n",
    "plt.legend(loc=1);\n",
    "plt.show()"
   ]
  },
  {
   "cell_type": "code",
   "execution_count": 44,
   "metadata": {},
   "outputs": [
    {
     "name": "stdout",
     "output_type": "stream",
     "text": [
      "--------------------------0nubb-------------------------\n",
      "--CUT---!----EVENTS----!---REDUCTION---!---EFFICIENCY---\n",
      "INITIAL    9803        \n",
      "FIDUCIAL   7247                ---      73.92634907681322 +- 1.1452566398595208%\n",
      "1TRACK.    7247        100.0+- 1.6612533402257477% 73.92634907681322 +- 1.1452566398595208%\n",
      "OVLP       6377        87.99503242721126+- 1.5108562100527951%   65.05151484239518 +- 1.0465475447841899%\n",
      "ROI        4497        70.5190528461659+- 1.3731926893114839%   45.87371212894012 +- 0.826210972937786%\n",
      "--------!--------------!----------------!----------------\n",
      " \n"
     ]
    }
   ],
   "source": [
    "#Checking total amount of events, after ROI selection\n",
    "nevents_0nubb_ROI = tracks_0nubb_ROI.event.nunique()\n",
    "Enevents_0nubb_ROI = np.sqrt(nevents_0nubb_ROI)\n",
    "nevents_0nubb_ROIovlp1trackfid = tracks_0nubb_ROIovlp1trackfid.event.nunique()\n",
    "Enevents_0nubb_ROIovlp1trackfid = np.sqrt(nevents_0nubb_ROIovlp1trackfid)\n",
    "\n",
    "\n",
    "ratio_ROIovlp1trackfid_0nubb = 100*nevents_0nubb_ROIovlp1trackfid/nevents_0nubb_ovlp1trackfid\n",
    "Eratio_ROIovlp1trackfid_0nubb = myef.ratio_error(ratio_ROIovlp1trackfid_0nubb, nevents_0nubb_ROIovlp1trackfid, nevents_0nubb_ovlp1trackfid, \n",
    "                                             Enevents_0nubb_ROIovlp1trackfid, Enevents_0nubb_ovlp1trackfid)\n",
    "\n",
    "eff_ROIovlp1trackfid_0nubb = 100*nevents_0nubb_ROIovlp1trackfid/nevents_0nubb_total\n",
    "Eeff_ROIovlp1trackfid_0nubb = myef.ratio_error(eff_ROIovlp1trackfid_0nubb, nevents_0nubb_ROIovlp1trackfid, nevents_0nubb_total, \n",
    "                                             Enevents_0nubb_ROIovlp1trackfid, Enevents_0nubb_total)\n",
    "\n",
    "  \n",
    "print('--------------------------0nubb-------------------------')\n",
    "print('--CUT---!----EVENTS----!---REDUCTION---!---EFFICIENCY---')\n",
    "print(f'INITIAL    {nevents_0nubb_total}        ')\n",
    "print(f'FIDUCIAL   {nevents_0nubb_fiducial}                ---      {ratio_fiducial_0nubb} +- {Eratio_fiducial_0nubb}%')\n",
    "print(f'1TRACK.    {nevents_0nubb_1trackfid}        {ratio_1trackfid_0nubb}+- {Eratio_1trackfid_0nubb}% {eff_1trackfid_0nubb} +- {Eeff_1trackfid_0nubb}%')\n",
    "print(f'OVLP       {nevents_0nubb_ovlp1trackfid}        {ratio_ovlp1trackfid_0nubb}+- {Eratio_ovlp1trackfid_0nubb}%   {eff_ovlp1trackfid_0nubb} +- {Eeff_ovlp1trackfid_0nubb}%')\n",
    "print(f'ROI        {nevents_0nubb_ROIovlp1trackfid}        {ratio_ROIovlp1trackfid_0nubb}+- {Eratio_ROIovlp1trackfid_0nubb}%   {eff_ROIovlp1trackfid_0nubb} +- {Eeff_ROIovlp1trackfid_0nubb}%')\n",
    "print('--------!--------------!----------------!----------------')\n",
    "print(' ')"
   ]
  },
  {
   "cell_type": "code",
   "execution_count": 45,
   "metadata": {},
   "outputs": [
    {
     "name": "stdout",
     "output_type": "stream",
     "text": [
      "--------------------------SElectron---------------------\n",
      "--CUT---!----EVENTS----!---REDUCTION---!---EFFICIENCY---\n",
      "INITIAL    9607        \n",
      "FIDUCIAL   6874                ---      71.5519933381909 +- 1.1303549943673008%\n",
      "1TRACK.    6874        100.0+- 1.7057297884317548% 71.5519933381909 +- 1.1303549943673008%\n",
      "OVLP       6603        96.05760837940063+- 1.6552095032026437%   68.73113354845425 +- 1.0987034038997538%\n",
      "ROI        4259        64.50098440102984+- 1.2676424477171833%   44.332257728739464 +- 0.8161081819276641%\n",
      "--------!--------------!----------------!----------------\n"
     ]
    }
   ],
   "source": [
    "nevents_selectron_ROI = tracks_selectron_ROI.event.nunique()\n",
    "Enevents_selectron_ROI = np.sqrt(nevents_selectron_ROI)\n",
    "nevents_selectron_ROIovlp1trackfid = tracks_selectron_ROIovlp1trackfid.event.nunique()\n",
    "Enevents_selectron_ROIovlp1trackfid = np.sqrt(nevents_selectron_ROIovlp1trackfid)\n",
    "\n",
    "ratio_ROIovlp1trackfid_selectron = 100*nevents_selectron_ROIovlp1trackfid/nevents_selectron_ovlp1trackfid\n",
    "Eratio_ROIovlp1trackfid_selectron = myef.ratio_error(ratio_ROIovlp1trackfid_selectron, nevents_selectron_ROIovlp1trackfid, nevents_selectron_ovlp1trackfid, \n",
    "                                             Enevents_selectron_ROIovlp1trackfid, Enevents_selectron_ovlp1trackfid)\n",
    "\n",
    "eff_ROIovlp1trackfid_selectron = 100*nevents_selectron_ROIovlp1trackfid/nevents_selectron_total\n",
    "Eeff_ROIovlp1trackfid_selectron = myef.ratio_error(eff_ROIovlp1trackfid_selectron, nevents_selectron_ROIovlp1trackfid, nevents_selectron_total,\n",
    "                                                   Enevents_selectron_ROIovlp1trackfid, Enevents_selectron_total)\n",
    "  \n",
    "print('--------------------------SElectron---------------------')\n",
    "print('--CUT---!----EVENTS----!---REDUCTION---!---EFFICIENCY---')\n",
    "print(f'INITIAL    {nevents_selectron_total}        ')\n",
    "print(f'FIDUCIAL   {nevents_selectron_fiducial}                ---      {ratio_fiducial_selectron} +- {Eratio_fiducial_selectron}%')\n",
    "print(f'1TRACK.    {nevents_selectron_1trackfid}        {ratio_1trackfid_selectron}+- {Eratio_1trackfid_selectron}% {eff_1trackfid_selectron} +- {Eeff_1trackfid_selectron}%')\n",
    "print(f'OVLP       {nevents_selectron_ovlp1trackfid}        {ratio_ovlp1trackfid_selectron}+- {Eratio_ovlp1trackfid_selectron}%   {eff_ovlp1trackfid_selectron} +- {Eeff_ovlp1trackfid_selectron}%')\n",
    "print(f'ROI        {nevents_selectron_ROIovlp1trackfid}        {ratio_ROIovlp1trackfid_selectron}+- {Eratio_ROIovlp1trackfid_selectron}%   {eff_ROIovlp1trackfid_selectron} +- {Eeff_ROIovlp1trackfid_selectron}%')\n",
    "print('--------!--------------!----------------!----------------')"
   ]
  },
  {
   "cell_type": "markdown",
   "metadata": {},
   "source": [
    "## Representing RECO vs TRUE"
   ]
  },
  {
   "cell_type": "code",
   "execution_count": 46,
   "metadata": {},
   "outputs": [
    {
     "data": {
      "text/plain": [
       "File(filename=/Users/halmamol/NEXT/files/NEXT100/beershebaFS/0nubb/hits/next100.0nubb.1.deconv.h5, title='', mode='r', root_uep='/', filters=Filters(complevel=4, complib='zlib', shuffle=True, bitshuffle=False, fletcher32=False, least_significant_digit=None))\n",
       "/ (RootGroup) ''\n",
       "/DECO (Group) ''\n",
       "/DECO/Events (Table(254988,), shuffle, zlib(4)) 'Deconvolved hits'\n",
       "  description := {\n",
       "  \"event\": Int64Col(shape=(), dflt=0, pos=0),\n",
       "  \"npeak\": UInt64Col(shape=(), dflt=0, pos=1),\n",
       "  \"X\": Float64Col(shape=(), dflt=0.0, pos=2),\n",
       "  \"Y\": Float64Col(shape=(), dflt=0.0, pos=3),\n",
       "  \"Z\": Float64Col(shape=(), dflt=0.0, pos=4),\n",
       "  \"E\": Float64Col(shape=(), dflt=0.0, pos=5)}\n",
       "  byteorder := 'little'\n",
       "  chunkshape := (1365,)\n",
       "  autoindex := True\n",
       "  colindexes := {\n",
       "    \"event\": Index(6, medium, shuffle, zlib(1)).is_csi=False}\n",
       "/MC (Group) ''\n",
       "/MC/configuration (Table(41,), shuffle, zlib(4)) ''\n",
       "  description := {\n",
       "  \"param_key\": StringCol(itemsize=300, shape=(), dflt=b'', pos=0),\n",
       "  \"param_value\": StringCol(itemsize=300, shape=(), dflt=b'', pos=1),\n",
       "  \"file_index\": Int64Col(shape=(), dflt=0, pos=2)}\n",
       "  byteorder := 'little'\n",
       "  chunkshape := (107,)\n",
       "/MC/event_mapping (Table(10,), shuffle, zlib(4)) ''\n",
       "  description := {\n",
       "  \"event_id\": Int64Col(shape=(), dflt=0, pos=0),\n",
       "  \"file_index\": Int64Col(shape=(), dflt=0, pos=1)}\n",
       "  byteorder := 'little'\n",
       "  chunkshape := (4096,)\n",
       "/MC/hits (Table(5803,), shuffle, zlib(4)) ''\n",
       "  description := {\n",
       "  \"event_id\": Int64Col(shape=(), dflt=0, pos=0),\n",
       "  \"particle_id\": Int64Col(shape=(), dflt=0, pos=1),\n",
       "  \"hit_id\": Int64Col(shape=(), dflt=0, pos=2),\n",
       "  \"x\": Float32Col(shape=(), dflt=0.0, pos=3),\n",
       "  \"y\": Float32Col(shape=(), dflt=0.0, pos=4),\n",
       "  \"z\": Float32Col(shape=(), dflt=0.0, pos=5),\n",
       "  \"time\": Float32Col(shape=(), dflt=0.0, pos=6),\n",
       "  \"energy\": Float32Col(shape=(), dflt=0.0, pos=7),\n",
       "  \"label\": StringCol(itemsize=100, shape=(), dflt=b'', pos=8)}\n",
       "  byteorder := 'little'\n",
       "  chunkshape := (455,)\n",
       "/MC/particles (Table(286,), shuffle, zlib(4)) ''\n",
       "  description := {\n",
       "  \"event_id\": Int64Col(shape=(), dflt=0, pos=0),\n",
       "  \"particle_id\": Int64Col(shape=(), dflt=0, pos=1),\n",
       "  \"particle_name\": StringCol(itemsize=100, shape=(), dflt=b'', pos=2),\n",
       "  \"primary\": BoolCol(shape=(), dflt=False, pos=3),\n",
       "  \"mother_id\": Int32Col(shape=(), dflt=0, pos=4),\n",
       "  \"initial_x\": Float32Col(shape=(), dflt=0.0, pos=5),\n",
       "  \"initial_y\": Float32Col(shape=(), dflt=0.0, pos=6),\n",
       "  \"initial_z\": Float32Col(shape=(), dflt=0.0, pos=7),\n",
       "  \"initial_t\": Float32Col(shape=(), dflt=0.0, pos=8),\n",
       "  \"final_x\": Float32Col(shape=(), dflt=0.0, pos=9),\n",
       "  \"final_y\": Float32Col(shape=(), dflt=0.0, pos=10),\n",
       "  \"final_z\": Float32Col(shape=(), dflt=0.0, pos=11),\n",
       "  \"final_t\": Float32Col(shape=(), dflt=0.0, pos=12),\n",
       "  \"initial_volume\": StringCol(itemsize=100, shape=(), dflt=b'', pos=13),\n",
       "  \"final_volume\": StringCol(itemsize=100, shape=(), dflt=b'', pos=14),\n",
       "  \"initial_momentum_x\": Float32Col(shape=(), dflt=0.0, pos=15),\n",
       "  \"initial_momentum_y\": Float32Col(shape=(), dflt=0.0, pos=16),\n",
       "  \"initial_momentum_z\": Float32Col(shape=(), dflt=0.0, pos=17),\n",
       "  \"final_momentum_x\": Float32Col(shape=(), dflt=0.0, pos=18),\n",
       "  \"final_momentum_y\": Float32Col(shape=(), dflt=0.0, pos=19),\n",
       "  \"final_momentum_z\": Float32Col(shape=(), dflt=0.0, pos=20),\n",
       "  \"kin_energy\": Float32Col(shape=(), dflt=0.0, pos=21),\n",
       "  \"length\": Float32Col(shape=(), dflt=0.0, pos=22),\n",
       "  \"creator_proc\": StringCol(itemsize=100, shape=(), dflt=b'', pos=23),\n",
       "  \"final_proc\": StringCol(itemsize=100, shape=(), dflt=b'', pos=24)}\n",
       "  byteorder := 'little'\n",
       "  chunkshape := (112,)\n",
       "/MC/sns_positions (Table(3644,), shuffle, zlib(4)) ''\n",
       "  description := {\n",
       "  \"sensor_id\": UInt32Col(shape=(), dflt=0, pos=0),\n",
       "  \"sensor_name\": StringCol(itemsize=100, shape=(), dflt=b'', pos=1),\n",
       "  \"x\": Float32Col(shape=(), dflt=0.0, pos=2),\n",
       "  \"y\": Float32Col(shape=(), dflt=0.0, pos=3),\n",
       "  \"z\": Float32Col(shape=(), dflt=0.0, pos=4)}\n",
       "  byteorder := 'little'\n",
       "  chunkshape := (564,)\n",
       "/MC/sns_response (Table(1505175,), shuffle, zlib(4)) ''\n",
       "  description := {\n",
       "  \"event_id\": Int32Col(shape=(), dflt=0, pos=0),\n",
       "  \"sensor_id\": UInt32Col(shape=(), dflt=0, pos=1),\n",
       "  \"time_bin\": UInt64Col(shape=(), dflt=0, pos=2),\n",
       "  \"charge\": UInt32Col(shape=(), dflt=0, pos=3)}\n",
       "  byteorder := 'little'\n",
       "  chunkshape := (3276,)\n",
       "/Run (Group) ''\n",
       "/Run/events (Table(10,), shuffle, zlib(4)) 'event info table'\n",
       "  description := {\n",
       "  \"evt_number\": Int32Col(shape=(), dflt=0, pos=0),\n",
       "  \"timestamp\": UInt64Col(shape=(), dflt=0, pos=1)}\n",
       "  byteorder := 'little'\n",
       "  chunkshape := (5461,)\n",
       "/Run/runInfo (Table(10,), shuffle, zlib(4)) 'run info table'\n",
       "  description := {\n",
       "  \"run_number\": Int32Col(shape=(), dflt=0, pos=0)}\n",
       "  byteorder := 'little'\n",
       "  chunkshape := (16384,)\n",
       "/Summary (Group) ''\n",
       "/Summary/Events (Table(10,), shuffle, zlib(4)) 'Event summary information'\n",
       "  description := {\n",
       "  \"event\": Int32Col(shape=(), dflt=0, pos=0),\n",
       "  \"evt_energy\": Float64Col(shape=(), dflt=0.0, pos=1),\n",
       "  \"evt_charge\": Float64Col(shape=(), dflt=0.0, pos=2),\n",
       "  \"evt_ntrks\": Int64Col(shape=(), dflt=0, pos=3),\n",
       "  \"evt_nhits\": Int64Col(shape=(), dflt=0, pos=4),\n",
       "  \"evt_x_avg\": Float64Col(shape=(), dflt=0.0, pos=5),\n",
       "  \"evt_y_avg\": Float64Col(shape=(), dflt=0.0, pos=6),\n",
       "  \"evt_z_avg\": Float64Col(shape=(), dflt=0.0, pos=7),\n",
       "  \"evt_r_avg\": Float64Col(shape=(), dflt=0.0, pos=8),\n",
       "  \"evt_x_min\": Float64Col(shape=(), dflt=0.0, pos=9),\n",
       "  \"evt_y_min\": Float64Col(shape=(), dflt=0.0, pos=10),\n",
       "  \"evt_z_min\": Float64Col(shape=(), dflt=0.0, pos=11),\n",
       "  \"evt_r_min\": Float64Col(shape=(), dflt=0.0, pos=12),\n",
       "  \"evt_x_max\": Float64Col(shape=(), dflt=0.0, pos=13),\n",
       "  \"evt_y_max\": Float64Col(shape=(), dflt=0.0, pos=14),\n",
       "  \"evt_z_max\": Float64Col(shape=(), dflt=0.0, pos=15),\n",
       "  \"evt_r_max\": Float64Col(shape=(), dflt=0.0, pos=16),\n",
       "  \"evt_out_of_map\": BoolCol(shape=(), dflt=False, pos=17)}\n",
       "  byteorder := 'little'\n",
       "  chunkshape := (492,)\n",
       "  autoindex := True\n",
       "  colindexes := {\n",
       "    \"event\": Index(6, medium, shuffle, zlib(1)).is_csi=False}"
      ]
     },
     "execution_count": 46,
     "metadata": {},
     "output_type": "execute_result"
    }
   ],
   "source": [
    "#0nubb hit files taken from FULLSIM simulations\n",
    "hits_list_0nubb = []\n",
    "filepath_0nubb_hits = '/Users/halmamol/NEXT/files/NEXT100/beershebaFS/0nubb/hits/'\n",
    "\n",
    "\n",
    "filename_0nubb_hits = filepath_0nubb_hits+f'next100.0nubb.1.deconv.h5'\n",
    "h5file = tb.open_file(filename_0nubb_hits)\n",
    "h5file"
   ]
  },
  {
   "cell_type": "code",
   "execution_count": 47,
   "metadata": {},
   "outputs": [
    {
     "data": {
      "text/plain": [
       "Index(['event_id', 'particle_id', 'particle_name', 'primary', 'mother_id',\n",
       "       'initial_x', 'initial_y', 'initial_z', 'initial_t', 'final_x',\n",
       "       'final_y', 'final_z', 'final_t', 'initial_volume', 'final_volume',\n",
       "       'initial_momentum_x', 'initial_momentum_y', 'initial_momentum_z',\n",
       "       'final_momentum_x', 'final_momentum_y', 'final_momentum_z',\n",
       "       'kin_energy', 'length', 'creator_proc', 'final_proc'],\n",
       "      dtype='object')"
      ]
     },
     "execution_count": 47,
     "metadata": {},
     "output_type": "execute_result"
    }
   ],
   "source": [
    "#0nubb files\n",
    "true_list_0nubb = []\n",
    "filepath_0nubb_true = filepath_0nubb_hits\n",
    "\n",
    "#loop over all the files, to read 'HITS' information\n",
    "for nfile in range(1,max0nubbf):\n",
    "    \n",
    "    filename_0nubb_true = filepath_0nubb_true+f'next100.0nubb.{nfile}.deconv.h5'\n",
    "\n",
    "    try:\n",
    "        readfile_true_0nubb = pd.read_hdf(filename_0nubb_true, 'MC/particles')\n",
    "    except:\n",
    "        print('File {} not good'.format(filename_0nubb_true))\n",
    "        continue\n",
    "        \n",
    "    true_list_0nubb.append(readfile_true_0nubb)\n",
    "    \n",
    "#'concat' command means: 'concatenate pandas objects along a particular \n",
    "# axis with optional set logic along the other axes.' -> following line \n",
    "# is needed to keep an order between the files\n",
    "\n",
    "true_0nubb = pd.concat([dt for dt in true_list_0nubb]) \n",
    "true_0nubb.columns  "
   ]
  },
  {
   "cell_type": "code",
   "execution_count": 48,
   "metadata": {},
   "outputs": [],
   "source": [
    "true_0nubb_primary = true_0nubb[true_0nubb.primary == True]\n",
    "true_0nubb_primary_part1 = true_0nubb_primary[true_0nubb_primary.particle_id == 1]\n",
    "true_0nubb_primary_part2 = true_0nubb_primary[true_0nubb_primary.particle_id == 2]\n",
    "true_0nubb_event0 = true_0nubb[true_0nubb.event_id == 0]"
   ]
  },
  {
   "cell_type": "code",
   "execution_count": 49,
   "metadata": {},
   "outputs": [
    {
     "name": "stdout",
     "output_type": "stream",
     "text": [
      "Total events = 4406\n",
      "Events 12 = 2233 (50.68088969586927%)\n",
      "Events 21 = 2173 (49.31911030413073%)\n",
      "Events NA = 0 (0.0%)\n"
     ]
    }
   ],
   "source": [
    "diff_b1_x_0nubb, diff_b1_y_0nubb, diff_b1_z_0nubb = [], [], []\n",
    "diff_b2_x_0nubb, diff_b2_y_0nubb, diff_b2_z_0nubb = [], [], []\n",
    "\n",
    "reco_0nubb_e = []\n",
    "\n",
    "ntracks_asel_0nubb = []\n",
    "\n",
    "diff_b1_x_0nubb, diff_b1_y_0nubb, diff_b2_x_0nubb, diff_b2_y_0nubb, reco_0nubb_e, ntracks_asel_0nubb = myrvt.blobassignation_wtrack(true_0nubb, tracks_0nubb_ROIovlp1trackfid, 'signal')\n"
   ]
  },
  {
   "cell_type": "code",
   "execution_count": 50,
   "metadata": {},
   "outputs": [
    {
     "data": {
      "image/png": "[encoded data removed]",
      "text/plain": [
       "<Figure size 432x288 with 1 Axes>"
      ]
     },
     "metadata": {
      "needs_background": "light"
     },
     "output_type": "display_data"
    }
   ],
   "source": [
    "plt.hist(diff_b1_x_0nubb, bins = 50, color='red', histtype='step', label = 'x blob1')\n",
    "plt.hist(diff_b1_y_0nubb, bins = 50, color='blue', histtype='step', label = 'y blob1', linestyle='dashed')\n",
    "\n",
    "plt.xlabel('reco[tracks] - true[particle] (mm)')\n",
    "plt.ylabel('events (a.u.)')\n",
    "plt.title('0nubb')\n",
    "plt.legend(loc=1);\n",
    "plt.show()"
   ]
  },
  {
   "cell_type": "code",
   "execution_count": 51,
   "metadata": {},
   "outputs": [
    {
     "data": {
      "image/png": "[encoded data removed]",
      "text/plain": [
       "<Figure size 432x288 with 1 Axes>"
      ]
     },
     "metadata": {
      "needs_background": "light"
     },
     "output_type": "display_data"
    }
   ],
   "source": [
    "plt.hist(diff_b2_x_0nubb, bins = 50, color='red', histtype='step', label = 'x blob2')\n",
    "plt.hist(diff_b2_y_0nubb, bins = 50, color='blue', histtype='step', label = 'y blob2', linestyle='dashed')\n",
    "\n",
    "plt.xlabel('reco[tracks] - true[particle] (mm)')\n",
    "plt.ylabel('events (a.u.)')\n",
    "plt.title('0nubb')\n",
    "plt.legend(loc=1);\n",
    "plt.show()"
   ]
  },
  {
   "cell_type": "code",
   "execution_count": 52,
   "metadata": {},
   "outputs": [
    {
     "data": {
      "text/plain": [
       "Index(['event_id', 'particle_id', 'particle_name', 'primary', 'mother_id',\n",
       "       'initial_x', 'initial_y', 'initial_z', 'initial_t', 'final_x',\n",
       "       'final_y', 'final_z', 'final_t', 'initial_volume', 'final_volume',\n",
       "       'initial_momentum_x', 'initial_momentum_y', 'initial_momentum_z',\n",
       "       'final_momentum_x', 'final_momentum_y', 'final_momentum_z',\n",
       "       'kin_energy', 'length', 'creator_proc', 'final_proc'],\n",
       "      dtype='object')"
      ]
     },
     "execution_count": 52,
     "metadata": {},
     "output_type": "execute_result"
    }
   ],
   "source": [
    "#single electron files\n",
    "true_list_selectron = []\n",
    "filepath_selectron_true = '/Users/halmamol/NEXT/files/NEXT100/beershebaFS/e-_roi/hits/'\n",
    "\n",
    "#loop over all the files, to read 'HITS' information\n",
    "for nfile in range(1,max0nubbf):\n",
    "    \n",
    "    filename_selectron_true = filepath_selectron_true+f'next100.e-_roi.{nfile}.deconv.h5'\n",
    "\n",
    "    try:\n",
    "        readfile_true_selectron = pd.read_hdf(filename_selectron_true, 'MC/particles')\n",
    "    except:\n",
    "        print('File {} not good'.format(filename_selectron_true))\n",
    "        continue\n",
    "        \n",
    "    true_list_selectron.append(readfile_true_selectron)\n",
    "    \n",
    "#'concat' command means: 'concatenate pandas objects along a particular \n",
    "# axis with optional set logic along the other axes.' -> following line \n",
    "# is needed to keep an order between the files\n",
    "\n",
    "true_selectron = pd.concat([dt for dt in true_list_selectron]) \n",
    "true_selectron.columns  "
   ]
  },
  {
   "cell_type": "code",
   "execution_count": 53,
   "metadata": {},
   "outputs": [],
   "source": [
    "true_selectron_primary = true_selectron[true_selectron.primary == True]\n",
    "\n",
    "true_selectron_primary_part1 = true_selectron_primary[true_selectron_primary.particle_id == 1]\n",
    "true_selectron_primary_part2 = true_selectron_primary[true_selectron_primary.particle_id == 2]"
   ]
  },
  {
   "cell_type": "code",
   "execution_count": 54,
   "metadata": {},
   "outputs": [
    {
     "name": "stdout",
     "output_type": "stream",
     "text": [
      "Total events = 4170\n",
      "Events 12 = 372 (8.920863309352518%)\n",
      "Events 21 = 3798 (91.07913669064749%)\n",
      "Events NA = 0 (0.0%)\n"
     ]
    }
   ],
   "source": [
    "diff_b1_x_selectron, diff_b1_y_selectron, diff_b1_z_selectron = [], [], []\n",
    "diff_b2_x_selectron, diff_b2_y_selectron, diff_b2_z_selectron = [], [], []\n",
    "\n",
    "reco_selectron_e = []\n",
    "\n",
    "ntracks_asel_selectron = []\n",
    "\n",
    "diff_b1_x_selectron, diff_b1_y_selectron, diff_b2_x_selectron, diff_b2_y_selectron, reco_selectron_e , ntracks_asel_0nubb= myrvt.blobassignation_wtrack(true_selectron, tracks_selectron_ROIovlp1trackfid, 'bkg')"
   ]
  },
  {
   "cell_type": "code",
   "execution_count": 55,
   "metadata": {},
   "outputs": [
    {
     "data": {
      "image/png": "[encoded data removed]",
      "text/plain": [
       "<Figure size 432x288 with 1 Axes>"
      ]
     },
     "metadata": {
      "needs_background": "light"
     },
     "output_type": "display_data"
    },
    {
     "data": {
      "text/plain": [
       "0.01692921035338213"
      ]
     },
     "execution_count": 55,
     "metadata": {},
     "output_type": "execute_result"
    }
   ],
   "source": [
    "plt.hist(diff_b1_x_selectron, bins = 50, color='red', histtype='step', label = 'x blob1')\n",
    "plt.hist(diff_b1_y_selectron, bins = 50, color='blue', histtype='step', label = 'y blob1', linestyle='dashed')\n",
    "\n",
    "plt.xlabel('reco[tracks] - true[particle] (mm)')\n",
    "plt.ylabel('events (a.u.)')\n",
    "plt.title('Single Electron')\n",
    "plt.legend(loc=1);\n",
    "plt.show()\n",
    "(np.mean(diff_b1_x_selectron)+np.mean(diff_b1_y_selectron))/2"
   ]
  },
  {
   "cell_type": "code",
   "execution_count": 56,
   "metadata": {},
   "outputs": [
    {
     "data": {
      "image/png": "[encoded data removed]",
      "text/plain": [
       "<Figure size 432x288 with 1 Axes>"
      ]
     },
     "metadata": {
      "needs_background": "light"
     },
     "output_type": "display_data"
    },
    {
     "data": {
      "text/plain": [
       "-0.7541602729740711"
      ]
     },
     "execution_count": 56,
     "metadata": {},
     "output_type": "execute_result"
    }
   ],
   "source": [
    "plt.hist(diff_b2_x_selectron, bins = 50, color='red', histtype='step', label = 'x blob2')\n",
    "plt.hist(diff_b2_y_selectron, bins = 50, color='blue', histtype='step', label = 'y blob2', linestyle='dashed')\n",
    "\n",
    "plt.xlabel('reco[tracks] - true[particle] (mm)')\n",
    "plt.ylabel('events (a.u.)')\n",
    "plt.title('Single Electron')\n",
    "plt.legend(loc=1);\n",
    "plt.show()\n",
    "\n",
    "(np.mean(diff_b2_x_selectron)+np.mean(diff_b2_y_selectron))/2"
   ]
  },
  {
   "cell_type": "code",
   "execution_count": 57,
   "metadata": {},
   "outputs": [],
   "source": [
    "npz_file = f'/Users/halmamol/NEXT/NBarrays/recovstrue_DETSIM_R{blobR}mm{testID}'\n",
    "np.savez(npz_file, diff_b1_x_0nubb=diff_b1_x_0nubb, diff_b1_y_0nubb=diff_b1_y_0nubb, diff_b1_z_0nubb=diff_b1_z_0nubb,\n",
    "          diff_b2_x_0nubb=diff_b2_x_0nubb, diff_b2_y_0nubb=diff_b2_y_0nubb, diff_b2_z_0nubb=diff_b2_z_0nubb,\n",
    "         diff_b1_x_selectron=diff_b1_x_selectron, diff_b1_y_selectron=diff_b1_y_selectron, diff_b1_z_selectron=diff_b1_z_selectron,\n",
    "         diff_b2_x_selectron=diff_b2_x_selectron, diff_b2_y_selectron=diff_b2_y_selectron, diff_b2_z_selectron=diff_b2_z_selectron)\n"
   ]
  },
  {
   "cell_type": "markdown",
   "metadata": {},
   "source": [
    "### Blob energies"
   ]
  },
  {
   "cell_type": "code",
   "execution_count": 58,
   "metadata": {},
   "outputs": [
    {
     "data": {
      "image/png": "[encoded data removed]",
      "text/plain": [
       "<Figure size 432x288 with 1 Axes>"
      ]
     },
     "metadata": {
      "needs_background": "light"
     },
     "output_type": "display_data"
    }
   ],
   "source": [
    "plt.hist(reco_0nubb_e[1], bins = 50, range = (0, 2.55), color='red', histtype='step', label = 'energy blob1')\n",
    "plt.hist(reco_0nubb_e[2], bins = 50, range = (0, 2.55), color='blue', histtype='step', label = 'energy blob2', linestyle='dashed')\n",
    "\n",
    "plt.xlabel('energy (MeV)')\n",
    "plt.ylabel('events (a.u.)')\n",
    "plt.title('0nubb')\n",
    "plt.legend(loc=1);\n",
    "plt.show()"
   ]
  },
  {
   "cell_type": "code",
   "execution_count": 59,
   "metadata": {},
   "outputs": [
    {
     "data": {
      "text/plain": [
       "<matplotlib.colorbar.Colorbar at 0x11d507880>"
      ]
     },
     "execution_count": 59,
     "metadata": {},
     "output_type": "execute_result"
    },
    {
     "data": {
      "image/png": "[encoded data removed]",
      "text/plain": [
       "<Figure size 432x288 with 2 Axes>"
      ]
     },
     "metadata": {
      "needs_background": "light"
     },
     "output_type": "display_data"
    }
   ],
   "source": [
    "weights = myhf.get_weights(reco_0nubb_e[1], True)\n",
    "\n",
    "plt.hist2d(reco_0nubb_e[1], reco_0nubb_e[2], weights= weights, bins=(30, 30), range=((0, 1.5), (0, 1.5)), cmap='viridis', cmin=0.001)\n",
    "plt.xlabel('Blob-1 candidate energy (MeV)')\n",
    "plt.ylabel('Blob-2 candidate energy (MeV)')\n",
    "plt.title('0nubb')\n",
    "#plt.xlim((0.0,1.5))\n",
    "plt.colorbar(label='proportion of events')"
   ]
  },
  {
   "cell_type": "code",
   "execution_count": 60,
   "metadata": {},
   "outputs": [],
   "source": [
    "ntracks_asel_0nubb, ntracks_asel_selectron = [], []\n",
    "\n",
    "\n",
    "for n in range(0,len(reco_0nubb_e[3])):\n",
    "    ntracks_asel_0nubb.append(tracks_0nubb[tracks_0nubb.event == reco_0nubb_e[3][n]].numb_of_tracks.values[0])\n",
    "\n",
    "for n in range(0,len(reco_selectron_e[3])):\n",
    "    ntracks_asel_selectron.append(tracks_selectron[tracks_selectron.event == reco_selectron_e[3][n]].numb_of_tracks.values[0])\n",
    "    #print(f'n value = {n}, event = {reco_selectron_e[3][n]}, added {len(ntracks_asel_selectron)}')\n"
   ]
  },
  {
   "cell_type": "code",
   "execution_count": 61,
   "metadata": {},
   "outputs": [
    {
     "name": "stdout",
     "output_type": "stream",
     "text": [
      "4406\n",
      "4406\n"
     ]
    }
   ],
   "source": [
    "print(len(reco_0nubb_e[3]))\n",
    "print(len(ntracks_asel_0nubb))"
   ]
  },
  {
   "cell_type": "code",
   "execution_count": 62,
   "metadata": {},
   "outputs": [
    {
     "data": {
      "text/plain": [
       "<matplotlib.colorbar.Colorbar at 0x1319ae700>"
      ]
     },
     "execution_count": 62,
     "metadata": {},
     "output_type": "execute_result"
    },
    {
     "data": {
      "image/png": "[encoded data removed]",
      "text/plain": [
       "<Figure size 432x288 with 2 Axes>"
      ]
     },
     "metadata": {
      "needs_background": "light"
     },
     "output_type": "display_data"
    }
   ],
   "source": [
    "weights = myhf.get_weights(reco_0nubb_e[1], True)\n",
    "\n",
    "plt.hist2d(reco_0nubb_e[1], ntracks_asel_0nubb, weights= weights, bins=(30, 4), range=((0, 1.5), (1, 4)), cmap='viridis', cmin=0.001)\n",
    "plt.ylabel('Number of tracks')\n",
    "plt.xlabel('Blob-1 candidate energy (MeV)')\n",
    "plt.title('0nubb')\n",
    "#plt.xlim((0.0,1.5))\n",
    "plt.colorbar(label='proportion of events')"
   ]
  },
  {
   "cell_type": "code",
   "execution_count": 63,
   "metadata": {},
   "outputs": [
    {
     "data": {
      "text/plain": [
       "<matplotlib.colorbar.Colorbar at 0x1316e6be0>"
      ]
     },
     "execution_count": 63,
     "metadata": {},
     "output_type": "execute_result"
    },
    {
     "data": {
      "image/png": "[encoded data removed]",
      "text/plain": [
       "<Figure size 432x288 with 2 Axes>"
      ]
     },
     "metadata": {
      "needs_background": "light"
     },
     "output_type": "display_data"
    }
   ],
   "source": [
    "weights = myhf.get_weights(reco_0nubb_e[1], True)\n",
    "\n",
    "plt.hist2d(reco_0nubb_e[2], ntracks_asel_0nubb, weights= weights, bins=(30, 4), range=((0, 1.5), (1, 4)), cmap='viridis', cmin=0.001)\n",
    "plt.ylabel('Number of tracks')\n",
    "plt.xlabel('Blob-2 candidate energy (MeV)')\n",
    "plt.title('0nubb')\n",
    "#plt.xlim((0.0,1.5))\n",
    "plt.colorbar(label='proportion of events')"
   ]
  },
  {
   "cell_type": "code",
   "execution_count": 64,
   "metadata": {},
   "outputs": [
    {
     "data": {
      "image/png": "[encoded data removed]",
      "text/plain": [
       "<Figure size 432x288 with 1 Axes>"
      ]
     },
     "metadata": {
      "needs_background": "light"
     },
     "output_type": "display_data"
    }
   ],
   "source": [
    "plt.hist(reco_selectron_e[1], bins = 50, range = (0, 2.55),color='red', histtype='step', label = 'energy blob1')\n",
    "plt.hist(reco_selectron_e[2], bins = 50, range = (0, 2.55), color='blue', histtype='step', label = 'energy blob2', linestyle='dashed')\n",
    "\n",
    "plt.xlabel('energy (MeV)')\n",
    "plt.ylabel('events (a.u.)')\n",
    "plt.title('Single Electron')\n",
    "plt.legend(loc=1);\n",
    "plt.show()"
   ]
  },
  {
   "cell_type": "code",
   "execution_count": 65,
   "metadata": {},
   "outputs": [
    {
     "data": {
      "text/plain": [
       "<matplotlib.colorbar.Colorbar at 0x131ac5850>"
      ]
     },
     "execution_count": 65,
     "metadata": {},
     "output_type": "execute_result"
    },
    {
     "data": {
      "image/png": "[encoded data removed]",
      "text/plain": [
       "<Figure size 432x288 with 2 Axes>"
      ]
     },
     "metadata": {
      "needs_background": "light"
     },
     "output_type": "display_data"
    }
   ],
   "source": [
    "weights = myhf.get_weights(reco_selectron_e[1], True)\n",
    "\n",
    "plt.hist2d(reco_selectron_e[1], reco_selectron_e[2], weights=weights, bins=(30, 30), range=((0, 1.5), (0, 1.5)), cmap='viridis', cmin=0.001)\n",
    "plt.xlabel('Blob candidate 1 energy (MeV)')\n",
    "plt.ylabel('Blob candidate 2 energy (MeV)')\n",
    "plt.title('Single Electron')\n",
    "plt.colorbar(label='proportion of events')"
   ]
  },
  {
   "cell_type": "code",
   "execution_count": 66,
   "metadata": {},
   "outputs": [
    {
     "data": {
      "text/plain": [
       "<matplotlib.colorbar.Colorbar at 0x131b97970>"
      ]
     },
     "execution_count": 66,
     "metadata": {},
     "output_type": "execute_result"
    },
    {
     "data": {
      "image/png": "[encoded data removed]",
      "text/plain": [
       "<Figure size 432x288 with 2 Axes>"
      ]
     },
     "metadata": {
      "needs_background": "light"
     },
     "output_type": "display_data"
    }
   ],
   "source": [
    "weights = myhf.get_weights(reco_selectron_e[1], True)\n",
    "\n",
    "plt.hist2d(reco_selectron_e[1], ntracks_asel_selectron, weights= weights, bins=(30, 4), range=((0, 1.5), (0.5, 4.5)), cmap='viridis', cmin=0.001)\n",
    "plt.ylabel('Number of tracks')\n",
    "plt.xlabel('Blob-1 candidate energy (MeV)')\n",
    "plt.title('Single electron')\n",
    "#plt.xlim((0.0,1.5))\n",
    "plt.colorbar(label='proportion of events')"
   ]
  },
  {
   "cell_type": "code",
   "execution_count": 67,
   "metadata": {},
   "outputs": [
    {
     "data": {
      "text/plain": [
       "<matplotlib.colorbar.Colorbar at 0x1317e56a0>"
      ]
     },
     "execution_count": 67,
     "metadata": {},
     "output_type": "execute_result"
    },
    {
     "data": {
      "image/png": "[encoded data removed]",
      "text/plain": [
       "<Figure size 432x288 with 2 Axes>"
      ]
     },
     "metadata": {
      "needs_background": "light"
     },
     "output_type": "display_data"
    }
   ],
   "source": [
    "weights = myhf.get_weights(reco_selectron_e[1], True)\n",
    "\n",
    "plt.hist2d(reco_selectron_e[2], ntracks_asel_selectron, weights= weights, bins=(30, 4), range=((0, 1.5), (0.5, 4.5)), cmap='viridis', cmin=0.001)\n",
    "plt.ylabel('Number of tracks')\n",
    "plt.xlabel('Blob-2 candidate energy (MeV)')\n",
    "plt.title('Single electron')\n",
    "#plt.xlim((0.0,1.5))\n",
    "plt.colorbar(label='proportion of events')"
   ]
  },
  {
   "cell_type": "markdown",
   "metadata": {},
   "source": [
    "## BLOB ENERGY = true vs reco"
   ]
  },
  {
   "cell_type": "code",
   "execution_count": 68,
   "metadata": {},
   "outputs": [
    {
     "data": {
      "text/plain": [
       "Index(['event_id', 'particle_id', 'hit_id', 'x', 'y', 'z', 'time', 'energy',\n",
       "       'label'],\n",
       "      dtype='object')"
      ]
     },
     "execution_count": 68,
     "metadata": {},
     "output_type": "execute_result"
    }
   ],
   "source": [
    "#0nubb files\n",
    "true_list_0nubb_hits = []\n",
    "filepath_0nubb_true_hits = '/Users/halmamol/NEXT/files/NEXT100/beershebaFS/0nubb/hits/'\n",
    "#loop over all the files, to read 'HITS' information\n",
    "for nfile in range(1,max0nubbf):\n",
    "    \n",
    "    filename_0nubb_true_hits = filepath_0nubb_true_hits+f'next100.0nubb.{nfile}.deconv.h5'\n",
    "\n",
    "    try:\n",
    "        readfile_true_0nubb_hits = pd.read_hdf(filename_0nubb_true_hits, 'MC/hits')\n",
    "    except:\n",
    "        print('File {} not good'.format(filename_0nubb_true_hits))\n",
    "        continue\n",
    "        \n",
    "    true_list_0nubb_hits.append(readfile_true_0nubb_hits)\n",
    "    \n",
    "#'concat' command means: 'concatenate pandas objects along a particular \n",
    "# axis with optional set logic along the other axes.' -> following line \n",
    "# is needed to keep an order between the files\n",
    "\n",
    "true_0nubb_hits = pd.concat([dt for dt in true_list_0nubb_hits]) \n",
    "true_0nubb_hits.columns  "
   ]
  },
  {
   "cell_type": "code",
   "execution_count": 69,
   "metadata": {},
   "outputs": [
    {
     "data": {
      "text/plain": [
       "Index(['event_id', 'particle_id', 'hit_id', 'x', 'y', 'z', 'time', 'energy',\n",
       "       'label'],\n",
       "      dtype='object')"
      ]
     },
     "execution_count": 69,
     "metadata": {},
     "output_type": "execute_result"
    }
   ],
   "source": [
    "#0nubb files\n",
    "true_list_selectron_hits = []\n",
    "filepath_selectron_true_hits = '/Users/halmamol/NEXT/files/NEXT100/beershebaFS/e-_roi/hits/'\n",
    "#loop over all the files, to read 'HITS' information\n",
    "for nfile in range(1,max0nubbf):\n",
    "    \n",
    "    filename_selectron_true_hits = filepath_selectron_true_hits+f'next100.e-_roi.{nfile}.deconv.h5'\n",
    "\n",
    "    try:\n",
    "        readfile_true_selectron_hits = pd.read_hdf(filename_selectron_true_hits, 'MC/hits')\n",
    "    except:\n",
    "        print('File {} not good'.format(filename_selectron_true_hits))\n",
    "        continue\n",
    "        \n",
    "    true_list_selectron_hits.append(readfile_true_selectron_hits)\n",
    "    \n",
    "#'concat' command means: 'concatenate pandas objects along a particular \n",
    "# axis with optional set logic along the other axes.' -> following line \n",
    "# is needed to keep an order between the files\n",
    "\n",
    "true_selectron_hits = pd.concat([dt for dt in true_list_selectron_hits]) \n",
    "true_selectron_hits.columns  "
   ]
  },
  {
   "cell_type": "code",
   "execution_count": 70,
   "metadata": {},
   "outputs": [],
   "source": [
    "b1_true_0nubb, b2_true_0nubb  = [], []\n",
    "for j in range (1,len(reco_0nubb_e[3])):\n",
    "    evt_number = reco_0nubb_e[3][j]\n",
    "\n",
    "    #print(evt_number)\n",
    "    \n",
    "    evt_hits = true_0nubb_hits[true_0nubb_hits.event_id == evt_number]\n",
    "    evt_hits = evt_hits[evt_hits.label == 'ACTIVE']\n",
    "\n",
    "    xt = evt_hits.x\n",
    "    yt = evt_hits.y\n",
    "    zt = evt_hits.z\n",
    "    et = evt_hits.energy\n",
    "    \n",
    "    true_0nubb_evt = true_0nubb[true_0nubb.event_id == evt_number]\n",
    "    true_0nubb_evt_primary = true_0nubb_evt[true_0nubb_evt.primary == True]\n",
    "    part1 = true_0nubb_evt_primary[true_0nubb_evt_primary.particle_id == 1]\n",
    "    part2 = true_0nubb_evt_primary[true_0nubb_evt_primary.particle_id == 2]\n",
    "    \n",
    "    x_e1 = part1.final_x.values[0]\n",
    "    y_e1 = part1.final_y.values[0]\n",
    "    z_e1 = part1.final_z.values[0]\n",
    "    x_e2 = part2.final_x.values[0]\n",
    "    y_e2 = part2.final_y.values[0]\n",
    "    z_e2 = part2.final_z.values[0]\n",
    "\n",
    "    bx = np.array([x_e1, x_e2])\n",
    "    by = np.array([y_e1, y_e2])\n",
    "    bz = np.array([z_e1, z_e2])\n",
    "\n",
    "    b1_true_i, b2_true_i = 0.0, 0.0\n",
    "    for i in range(0,len(xt)):\n",
    "        R1 = np.sqrt((bx[0]-xt.values[i])**2+(by[0]-yt.values[i])**2+(bz[0]-zt.values[i])**2)\n",
    "        R2 = np.sqrt((bx[1]-xt.values[i])**2+(by[1]-yt.values[i])**2+(bz[1]-zt.values[i])**2)\n",
    "        if R1<blobR:\n",
    "            b1_true_i = b1_true_i + et.values[i]\n",
    "        if R2<blobR:\n",
    "            b2_true_i = b2_true_i + et.values[i]\n",
    "    b1_true_0nubb.append(b1_true_i)\n",
    "    b2_true_0nubb.append(b2_true_i)\n",
    "    #print(b1_true_i)"
   ]
  },
  {
   "cell_type": "code",
   "execution_count": 71,
   "metadata": {},
   "outputs": [
    {
     "data": {
      "text/plain": [
       "4405"
      ]
     },
     "execution_count": 71,
     "metadata": {},
     "output_type": "execute_result"
    }
   ],
   "source": [
    "len(b1_true_0nubb)"
   ]
  },
  {
   "cell_type": "code",
   "execution_count": 72,
   "metadata": {},
   "outputs": [
    {
     "data": {
      "text/plain": [
       "4406"
      ]
     },
     "execution_count": 72,
     "metadata": {},
     "output_type": "execute_result"
    }
   ],
   "source": [
    "len(reco_0nubb_e[1])"
   ]
  },
  {
   "cell_type": "code",
   "execution_count": 73,
   "metadata": {},
   "outputs": [
    {
     "ename": "ValueError",
     "evalue": "The dimension of bins must be equal to the dimension of the  sample x.",
     "output_type": "error",
     "traceback": [
      "\u001b[0;31m---------------------------------------------------------------------------\u001b[0m",
      "\u001b[0;31mValueError\u001b[0m                                Traceback (most recent call last)",
      "\u001b[0;32m<ipython-input-73-56da4296258c>\u001b[0m in \u001b[0;36m<module>\u001b[0;34m\u001b[0m\n\u001b[1;32m      1\u001b[0m \u001b[0mweights\u001b[0m \u001b[0;34m=\u001b[0m \u001b[0mmyhf\u001b[0m\u001b[0;34m.\u001b[0m\u001b[0mget_weights\u001b[0m\u001b[0;34m(\u001b[0m\u001b[0mreco_0nubb_e\u001b[0m\u001b[0;34m[\u001b[0m\u001b[0;36m1\u001b[0m\u001b[0;34m]\u001b[0m\u001b[0;34m,\u001b[0m \u001b[0;32mTrue\u001b[0m\u001b[0;34m)\u001b[0m\u001b[0;34m\u001b[0m\u001b[0;34m\u001b[0m\u001b[0m\n\u001b[1;32m      2\u001b[0m \u001b[0;34m\u001b[0m\u001b[0m\n\u001b[0;32m----> 3\u001b[0;31m \u001b[0mplt\u001b[0m\u001b[0;34m.\u001b[0m\u001b[0mhist2d\u001b[0m\u001b[0;34m(\u001b[0m\u001b[0mreco_0nubb_e\u001b[0m\u001b[0;34m[\u001b[0m\u001b[0;36m1\u001b[0m\u001b[0;34m]\u001b[0m\u001b[0;34m,\u001b[0m \u001b[0mb1_true_0nubb\u001b[0m\u001b[0;34m,\u001b[0m \u001b[0mweights\u001b[0m\u001b[0;34m=\u001b[0m \u001b[0mweights\u001b[0m\u001b[0;34m,\u001b[0m \u001b[0mbins\u001b[0m\u001b[0;34m=\u001b[0m\u001b[0;34m(\u001b[0m\u001b[0;36m30\u001b[0m\u001b[0;34m,\u001b[0m \u001b[0;36m30\u001b[0m\u001b[0;34m)\u001b[0m\u001b[0;34m,\u001b[0m \u001b[0mrange\u001b[0m\u001b[0;34m=\u001b[0m\u001b[0;34m(\u001b[0m\u001b[0;34m(\u001b[0m\u001b[0;36m0\u001b[0m\u001b[0;34m,\u001b[0m \u001b[0;36m1.5\u001b[0m\u001b[0;34m)\u001b[0m\u001b[0;34m,\u001b[0m \u001b[0;34m(\u001b[0m\u001b[0;36m0\u001b[0m\u001b[0;34m,\u001b[0m \u001b[0;36m1.5\u001b[0m\u001b[0;34m)\u001b[0m\u001b[0;34m)\u001b[0m\u001b[0;34m,\u001b[0m \u001b[0mcmap\u001b[0m\u001b[0;34m=\u001b[0m\u001b[0;34m'viridis'\u001b[0m\u001b[0;34m,\u001b[0m \u001b[0mcmin\u001b[0m\u001b[0;34m=\u001b[0m\u001b[0;36m0.001\u001b[0m\u001b[0;34m)\u001b[0m\u001b[0;34m\u001b[0m\u001b[0;34m\u001b[0m\u001b[0m\n\u001b[0m\u001b[1;32m      4\u001b[0m \u001b[0mplt\u001b[0m\u001b[0;34m.\u001b[0m\u001b[0mxlabel\u001b[0m\u001b[0;34m(\u001b[0m\u001b[0;34m'RECO energy (MeV)'\u001b[0m\u001b[0;34m)\u001b[0m\u001b[0;34m\u001b[0m\u001b[0;34m\u001b[0m\u001b[0m\n\u001b[1;32m      5\u001b[0m \u001b[0mplt\u001b[0m\u001b[0;34m.\u001b[0m\u001b[0mylabel\u001b[0m\u001b[0;34m(\u001b[0m\u001b[0;34m'TRUE energy (MeV)'\u001b[0m\u001b[0;34m)\u001b[0m\u001b[0;34m\u001b[0m\u001b[0;34m\u001b[0m\u001b[0m\n",
      "\u001b[0;32m~/opt/anaconda3/lib/python3.8/site-packages/matplotlib/pyplot.py\u001b[0m in \u001b[0;36mhist2d\u001b[0;34m(x, y, bins, range, density, weights, cmin, cmax, data, **kwargs)\u001b[0m\n\u001b[1;32m   2616\u001b[0m         \u001b[0mx\u001b[0m\u001b[0;34m,\u001b[0m \u001b[0my\u001b[0m\u001b[0;34m,\u001b[0m \u001b[0mbins\u001b[0m\u001b[0;34m=\u001b[0m\u001b[0;36m10\u001b[0m\u001b[0;34m,\u001b[0m \u001b[0mrange\u001b[0m\u001b[0;34m=\u001b[0m\u001b[0;32mNone\u001b[0m\u001b[0;34m,\u001b[0m \u001b[0mdensity\u001b[0m\u001b[0;34m=\u001b[0m\u001b[0;32mFalse\u001b[0m\u001b[0;34m,\u001b[0m \u001b[0mweights\u001b[0m\u001b[0;34m=\u001b[0m\u001b[0;32mNone\u001b[0m\u001b[0;34m,\u001b[0m\u001b[0;34m\u001b[0m\u001b[0;34m\u001b[0m\u001b[0m\n\u001b[1;32m   2617\u001b[0m         cmin=None, cmax=None, *, data=None, **kwargs):\n\u001b[0;32m-> 2618\u001b[0;31m     __ret = gca().hist2d(\n\u001b[0m\u001b[1;32m   2619\u001b[0m         \u001b[0mx\u001b[0m\u001b[0;34m,\u001b[0m \u001b[0my\u001b[0m\u001b[0;34m,\u001b[0m \u001b[0mbins\u001b[0m\u001b[0;34m=\u001b[0m\u001b[0mbins\u001b[0m\u001b[0;34m,\u001b[0m \u001b[0mrange\u001b[0m\u001b[0;34m=\u001b[0m\u001b[0mrange\u001b[0m\u001b[0;34m,\u001b[0m \u001b[0mdensity\u001b[0m\u001b[0;34m=\u001b[0m\u001b[0mdensity\u001b[0m\u001b[0;34m,\u001b[0m\u001b[0;34m\u001b[0m\u001b[0;34m\u001b[0m\u001b[0m\n\u001b[1;32m   2620\u001b[0m         weights=weights, cmin=cmin, cmax=cmax, **({\"data\": data} if\n",
      "\u001b[0;32m~/opt/anaconda3/lib/python3.8/site-packages/matplotlib/__init__.py\u001b[0m in \u001b[0;36minner\u001b[0;34m(ax, data, *args, **kwargs)\u001b[0m\n\u001b[1;32m   1563\u001b[0m     \u001b[0;32mdef\u001b[0m \u001b[0minner\u001b[0m\u001b[0;34m(\u001b[0m\u001b[0max\u001b[0m\u001b[0;34m,\u001b[0m \u001b[0;34m*\u001b[0m\u001b[0margs\u001b[0m\u001b[0;34m,\u001b[0m \u001b[0mdata\u001b[0m\u001b[0;34m=\u001b[0m\u001b[0;32mNone\u001b[0m\u001b[0;34m,\u001b[0m \u001b[0;34m**\u001b[0m\u001b[0mkwargs\u001b[0m\u001b[0;34m)\u001b[0m\u001b[0;34m:\u001b[0m\u001b[0;34m\u001b[0m\u001b[0;34m\u001b[0m\u001b[0m\n\u001b[1;32m   1564\u001b[0m         \u001b[0;32mif\u001b[0m \u001b[0mdata\u001b[0m \u001b[0;32mis\u001b[0m \u001b[0;32mNone\u001b[0m\u001b[0;34m:\u001b[0m\u001b[0;34m\u001b[0m\u001b[0;34m\u001b[0m\u001b[0m\n\u001b[0;32m-> 1565\u001b[0;31m             \u001b[0;32mreturn\u001b[0m \u001b[0mfunc\u001b[0m\u001b[0;34m(\u001b[0m\u001b[0max\u001b[0m\u001b[0;34m,\u001b[0m \u001b[0;34m*\u001b[0m\u001b[0mmap\u001b[0m\u001b[0;34m(\u001b[0m\u001b[0msanitize_sequence\u001b[0m\u001b[0;34m,\u001b[0m \u001b[0margs\u001b[0m\u001b[0;34m)\u001b[0m\u001b[0;34m,\u001b[0m \u001b[0;34m**\u001b[0m\u001b[0mkwargs\u001b[0m\u001b[0;34m)\u001b[0m\u001b[0;34m\u001b[0m\u001b[0;34m\u001b[0m\u001b[0m\n\u001b[0m\u001b[1;32m   1566\u001b[0m \u001b[0;34m\u001b[0m\u001b[0m\n\u001b[1;32m   1567\u001b[0m         \u001b[0mbound\u001b[0m \u001b[0;34m=\u001b[0m \u001b[0mnew_sig\u001b[0m\u001b[0;34m.\u001b[0m\u001b[0mbind\u001b[0m\u001b[0;34m(\u001b[0m\u001b[0max\u001b[0m\u001b[0;34m,\u001b[0m \u001b[0;34m*\u001b[0m\u001b[0margs\u001b[0m\u001b[0;34m,\u001b[0m \u001b[0;34m**\u001b[0m\u001b[0mkwargs\u001b[0m\u001b[0;34m)\u001b[0m\u001b[0;34m\u001b[0m\u001b[0;34m\u001b[0m\u001b[0m\n",
      "\u001b[0;32m~/opt/anaconda3/lib/python3.8/site-packages/matplotlib/cbook/deprecation.py\u001b[0m in \u001b[0;36mwrapper\u001b[0;34m(*args, **kwargs)\u001b[0m\n\u001b[1;32m    294\u001b[0m                 f\"for the old name will be dropped %(removal)s.\")\n\u001b[1;32m    295\u001b[0m             \u001b[0mkwargs\u001b[0m\u001b[0;34m[\u001b[0m\u001b[0mnew\u001b[0m\u001b[0;34m]\u001b[0m \u001b[0;34m=\u001b[0m \u001b[0mkwargs\u001b[0m\u001b[0;34m.\u001b[0m\u001b[0mpop\u001b[0m\u001b[0;34m(\u001b[0m\u001b[0mold\u001b[0m\u001b[0;34m)\u001b[0m\u001b[0;34m\u001b[0m\u001b[0;34m\u001b[0m\u001b[0m\n\u001b[0;32m--> 296\u001b[0;31m         \u001b[0;32mreturn\u001b[0m \u001b[0mfunc\u001b[0m\u001b[0;34m(\u001b[0m\u001b[0;34m*\u001b[0m\u001b[0margs\u001b[0m\u001b[0;34m,\u001b[0m \u001b[0;34m**\u001b[0m\u001b[0mkwargs\u001b[0m\u001b[0;34m)\u001b[0m\u001b[0;34m\u001b[0m\u001b[0;34m\u001b[0m\u001b[0m\n\u001b[0m\u001b[1;32m    297\u001b[0m \u001b[0;34m\u001b[0m\u001b[0m\n\u001b[1;32m    298\u001b[0m     \u001b[0;31m# wrapper() must keep the same documented signature as func(): if we\u001b[0m\u001b[0;34m\u001b[0m\u001b[0;34m\u001b[0m\u001b[0;34m\u001b[0m\u001b[0m\n",
      "\u001b[0;32m~/opt/anaconda3/lib/python3.8/site-packages/matplotlib/axes/_axes.py\u001b[0m in \u001b[0;36mhist2d\u001b[0;34m(self, x, y, bins, range, density, weights, cmin, cmax, **kwargs)\u001b[0m\n\u001b[1;32m   6923\u001b[0m         \"\"\"\n\u001b[1;32m   6924\u001b[0m \u001b[0;34m\u001b[0m\u001b[0m\n\u001b[0;32m-> 6925\u001b[0;31m         h, xedges, yedges = np.histogram2d(x, y, bins=bins, range=range,\n\u001b[0m\u001b[1;32m   6926\u001b[0m                                            normed=density, weights=weights)\n\u001b[1;32m   6927\u001b[0m \u001b[0;34m\u001b[0m\u001b[0m\n",
      "\u001b[0;32m<__array_function__ internals>\u001b[0m in \u001b[0;36mhistogram2d\u001b[0;34m(*args, **kwargs)\u001b[0m\n",
      "\u001b[0;32m~/opt/anaconda3/lib/python3.8/site-packages/numpy/lib/twodim_base.py\u001b[0m in \u001b[0;36mhistogram2d\u001b[0;34m(x, y, bins, range, normed, weights, density)\u001b[0m\n\u001b[1;32m    713\u001b[0m         \u001b[0mxedges\u001b[0m \u001b[0;34m=\u001b[0m \u001b[0myedges\u001b[0m \u001b[0;34m=\u001b[0m \u001b[0masarray\u001b[0m\u001b[0;34m(\u001b[0m\u001b[0mbins\u001b[0m\u001b[0;34m)\u001b[0m\u001b[0;34m\u001b[0m\u001b[0;34m\u001b[0m\u001b[0m\n\u001b[1;32m    714\u001b[0m         \u001b[0mbins\u001b[0m \u001b[0;34m=\u001b[0m \u001b[0;34m[\u001b[0m\u001b[0mxedges\u001b[0m\u001b[0;34m,\u001b[0m \u001b[0myedges\u001b[0m\u001b[0;34m]\u001b[0m\u001b[0;34m\u001b[0m\u001b[0;34m\u001b[0m\u001b[0m\n\u001b[0;32m--> 715\u001b[0;31m     \u001b[0mhist\u001b[0m\u001b[0;34m,\u001b[0m \u001b[0medges\u001b[0m \u001b[0;34m=\u001b[0m \u001b[0mhistogramdd\u001b[0m\u001b[0;34m(\u001b[0m\u001b[0;34m[\u001b[0m\u001b[0mx\u001b[0m\u001b[0;34m,\u001b[0m \u001b[0my\u001b[0m\u001b[0;34m]\u001b[0m\u001b[0;34m,\u001b[0m \u001b[0mbins\u001b[0m\u001b[0;34m,\u001b[0m \u001b[0mrange\u001b[0m\u001b[0;34m,\u001b[0m \u001b[0mnormed\u001b[0m\u001b[0;34m,\u001b[0m \u001b[0mweights\u001b[0m\u001b[0;34m,\u001b[0m \u001b[0mdensity\u001b[0m\u001b[0;34m)\u001b[0m\u001b[0;34m\u001b[0m\u001b[0;34m\u001b[0m\u001b[0m\n\u001b[0m\u001b[1;32m    716\u001b[0m     \u001b[0;32mreturn\u001b[0m \u001b[0mhist\u001b[0m\u001b[0;34m,\u001b[0m \u001b[0medges\u001b[0m\u001b[0;34m[\u001b[0m\u001b[0;36m0\u001b[0m\u001b[0;34m]\u001b[0m\u001b[0;34m,\u001b[0m \u001b[0medges\u001b[0m\u001b[0;34m[\u001b[0m\u001b[0;36m1\u001b[0m\u001b[0;34m]\u001b[0m\u001b[0;34m\u001b[0m\u001b[0;34m\u001b[0m\u001b[0m\n\u001b[1;32m    717\u001b[0m \u001b[0;34m\u001b[0m\u001b[0m\n",
      "\u001b[0;32m<__array_function__ internals>\u001b[0m in \u001b[0;36mhistogramdd\u001b[0;34m(*args, **kwargs)\u001b[0m\n",
      "\u001b[0;32m~/opt/anaconda3/lib/python3.8/site-packages/numpy/lib/histograms.py\u001b[0m in \u001b[0;36mhistogramdd\u001b[0;34m(sample, bins, range, normed, weights, density)\u001b[0m\n\u001b[1;32m   1031\u001b[0m         \u001b[0mM\u001b[0m \u001b[0;34m=\u001b[0m \u001b[0mlen\u001b[0m\u001b[0;34m(\u001b[0m\u001b[0mbins\u001b[0m\u001b[0;34m)\u001b[0m\u001b[0;34m\u001b[0m\u001b[0;34m\u001b[0m\u001b[0m\n\u001b[1;32m   1032\u001b[0m         \u001b[0;32mif\u001b[0m \u001b[0mM\u001b[0m \u001b[0;34m!=\u001b[0m \u001b[0mD\u001b[0m\u001b[0;34m:\u001b[0m\u001b[0;34m\u001b[0m\u001b[0;34m\u001b[0m\u001b[0m\n\u001b[0;32m-> 1033\u001b[0;31m             raise ValueError(\n\u001b[0m\u001b[1;32m   1034\u001b[0m                 \u001b[0;34m'The dimension of bins must be equal to the dimension of the '\u001b[0m\u001b[0;34m\u001b[0m\u001b[0;34m\u001b[0m\u001b[0m\n\u001b[1;32m   1035\u001b[0m                 ' sample x.')\n",
      "\u001b[0;31mValueError\u001b[0m: The dimension of bins must be equal to the dimension of the  sample x."
     ]
    },
    {
     "data": {
      "image/png": "[encoded data removed]",
      "text/plain": [
       "<Figure size 432x288 with 1 Axes>"
      ]
     },
     "metadata": {
      "needs_background": "light"
     },
     "output_type": "display_data"
    }
   ],
   "source": [
    "weights = myhf.get_weights(reco_0nubb_e[1], True)\n",
    "\n",
    "plt.hist2d(reco_0nubb_e[1], b1_true_0nubb, weights= weights, bins=(30, 30), range=((0, 1.5), (0, 1.5)), cmap='viridis', cmin=0.001)\n",
    "plt.xlabel('RECO energy (MeV)')\n",
    "plt.ylabel('TRUE energy (MeV)')\n",
    "plt.title('0nubb - Blob 1')\n",
    "#plt.xlim((0.0,1.5))\n",
    "plt.colorbar(label='proportion of events')"
   ]
  },
  {
   "cell_type": "code",
   "execution_count": null,
   "metadata": {},
   "outputs": [],
   "source": [
    "weights = myhf.get_weights(reco_0nubb_e[2], True)\n",
    "\n",
    "plt.hist2d(reco_0nubb_e[2], b2_true_0nubb, weights= weights, bins=(30, 30), range=((0, 1.5), (0, 1.5)), cmap='viridis', cmin=0.001)\n",
    "plt.xlabel('RECO energy (MeV)')\n",
    "plt.ylabel('TRUE energy (MeV)')\n",
    "plt.title('0nubb - Blob 2')\n",
    "#plt.xlim((0.0,1.5))\n",
    "plt.colorbar(label='proportion of events')"
   ]
  },
  {
   "cell_type": "code",
   "execution_count": null,
   "metadata": {},
   "outputs": [],
   "source": [
    "b1_true_selectron = []\n",
    "for j in range (0,len(reco_selectron_e[3])):\n",
    "    evt_number = reco_selectron_e[3][j]\n",
    "\n",
    "    #print(evt_number)\n",
    "    \n",
    "    evt_hits = true_selectron_hits[true_selectron_hits.event_id == evt_number]\n",
    "    evt_hits = evt_hits[evt_hits.label == 'ACTIVE']\n",
    "\n",
    "    xt = evt_hits.x\n",
    "    yt = evt_hits.y\n",
    "    zt = evt_hits.z\n",
    "    et = evt_hits.energy\n",
    "    \n",
    "    true_selectron_evt = true_selectron[true_selectron.event_id == evt_number]\n",
    "    true_selectron_evt_primary = true_selectron_evt[true_selectron_evt.primary == True]\n",
    "    part1 = true_selectron_evt_primary[true_selectron_evt_primary.particle_id == 1]\n",
    "    \n",
    "    x_e1 = part1.final_x.values[0]\n",
    "    y_e1 = part1.final_y.values[0]\n",
    "    z_e1 = part1.final_z.values[0]\n",
    "\n",
    "    bx = np.array([x_e1])\n",
    "    by = np.array([y_e1])\n",
    "    bz = np.array([z_e1])\n",
    "\n",
    "    b1_true_i = 0.0\n",
    "    for i in range(1,len(xt)):\n",
    "        R1 = np.sqrt((bx[0]-xt.values[i])**2+(by[0]-yt.values[i])**2+(bz[0]-zt.values[i])**2)\n",
    "        if R1<blobR:\n",
    "            b1_true_i = b1_true_i + et.values[i]\n",
    "    b1_true_selectron.append(b1_true_i)\n",
    "    #print(b1_true_i)"
   ]
  },
  {
   "cell_type": "code",
   "execution_count": null,
   "metadata": {},
   "outputs": [],
   "source": [
    "len(b1_true_selectron)"
   ]
  },
  {
   "cell_type": "code",
   "execution_count": null,
   "metadata": {},
   "outputs": [],
   "source": [
    "len(reco_selectron_e[1])"
   ]
  },
  {
   "cell_type": "code",
   "execution_count": null,
   "metadata": {},
   "outputs": [],
   "source": [
    "weights = myhf.get_weights(reco_selectron_e[1], True)\n",
    "\n",
    "plt.hist2d(reco_selectron_e[1], b1_true_selectron, weights= weights, bins=(30, 30), range=((0, 1.5), (0, 1.5)), cmap='viridis', cmin=0.001)\n",
    "plt.xlabel('RECO energy (MeV)')\n",
    "plt.ylabel('TRUE energy (MeV)')\n",
    "plt.title('e-_roi - Blob 1')\n",
    "#plt.xlim((0.0,1.5))\n",
    "plt.colorbar(label='proportion of events')"
   ]
  },
  {
   "cell_type": "markdown",
   "metadata": {},
   "source": [
    "## Efficiency Values and FOM Estimation"
   ]
  },
  {
   "cell_type": "code",
   "execution_count": null,
   "metadata": {},
   "outputs": [],
   "source": [
    "plt.hist(reco_0nubb_e[2], bins = 50, histtype='step', label = 'energy track')\n",
    "plt.xlabel('blob-2 energy (MeV)')\n",
    "plt.ylabel('events (a.u.)')\n",
    "plt.title('0nubb')\n",
    "plt.show()"
   ]
  },
  {
   "cell_type": "code",
   "execution_count": null,
   "metadata": {},
   "outputs": [],
   "source": [
    "plt.hist(reco_selectron_e[2], bins = 50, histtype='step', label = 'energy track')\n",
    "plt.xlabel('blob-2 energy (MeV)')\n",
    "plt.ylabel('events (a.u.)')\n",
    "plt.title('Single Electron')\n",
    "plt.show()\n",
    "\n",
    "print(f'Total events {len(reco_selectron_e[0])}')"
   ]
  },
  {
   "cell_type": "markdown",
   "metadata": {},
   "source": [
    "Since I need to compare both simulations, I'm going to use the same energy cuts. Besides, they seem reasonable looking into the blob2 energy distribution:"
   ]
  },
  {
   "cell_type": "code",
   "execution_count": null,
   "metadata": {},
   "outputs": [],
   "source": [
    "blobcut_energy=[]\n",
    "#in MeV\n",
    "minEcut = 0.010\n",
    "maxEcut = 0.600\n",
    "stepsEcut = 0.010\n",
    "\n",
    "#defining the vector with the cut values\n",
    "blobcut_energy=myef.blobthreshold(minEcut,maxEcut,stepsEcut)"
   ]
  },
  {
   "cell_type": "code",
   "execution_count": null,
   "metadata": {},
   "outputs": [],
   "source": [
    "if(len(reco_0nubb_e[0])!=len(reco_0nubb_e[1])):\n",
    "    print(len(reco_0nubb_e[0]))\n",
    "    print(len(reco_0nubb_e[1]))\n",
    "    test = reco_0nubb_e[0][:-1].copy()\n",
    "    print(len(test))\n",
    "    reco_0nubb_e[0] = test"
   ]
  },
  {
   "cell_type": "markdown",
   "metadata": {},
   "source": [
    "Now I'm going to take the information from reco_selectron_e[][], to see how many events with each cut I get:"
   ]
  },
  {
   "cell_type": "code",
   "execution_count": null,
   "metadata": {},
   "outputs": [],
   "source": [
    "blobcut_energy_nevents_0nubb, blobcut_energy_nevents_selectron = [], [] \n",
    "\n",
    "blobcut_energy_nevents_0nubb = myef.nevents_afterthreshold(blobcut_energy, reco_0nubb_e)\n",
    "blobcut_energy_nevents_selectron = myef.nevents_afterthreshold(blobcut_energy, reco_selectron_e)\n",
    "\n",
    "blobcut_energy_nevents_0nubb = np.array(blobcut_energy_nevents_0nubb, dtype=np.float)\n",
    "blobcut_energy_nevents_selectron = np.array(blobcut_energy_nevents_selectron, dtype=np.float)"
   ]
  },
  {
   "cell_type": "markdown",
   "metadata": {},
   "source": [
    "Create now arrays containing the statistical uncertainty (sqrt from total amount of events)"
   ]
  },
  {
   "cell_type": "code",
   "execution_count": null,
   "metadata": {},
   "outputs": [],
   "source": [
    "blobcut_energy_nevents_0nubb_error, blobcut_energy_nevents_selectron_error= [], []\n",
    "\n",
    "blobcut_energy_nevents_0nubb_error = myef.sqrterror_array(blobcut_energy_nevents_0nubb)\n",
    "blobcut_energy_nevents_selectron_error = myef.sqrterror_array(blobcut_energy_nevents_selectron)"
   ]
  },
  {
   "cell_type": "code",
   "execution_count": null,
   "metadata": {},
   "outputs": [],
   "source": [
    "fig, ax = plt.subplots()\n",
    "ax.errorbar(blobcut_energy,blobcut_energy_nevents_0nubb, yerr=blobcut_energy_nevents_0nubb_error, fmt = '-r')\n",
    "plt.ylabel('accepted events (a.u.)')\n",
    "plt.xlabel('blob-2 energy threshold (MeV)')\n",
    "#plt.title('Cut efficiency')"
   ]
  },
  {
   "cell_type": "markdown",
   "metadata": {},
   "source": [
    "Now that I have checked the accepted events for each energy cut, I'm going to compute the efficiency/background values:"
   ]
  },
  {
   "cell_type": "code",
   "execution_count": null,
   "metadata": {},
   "outputs": [],
   "source": [
    "fom_error, e_error, b_error = [], [], []\n",
    "\n",
    "e, b, fom, e_error, b_error, fom_error = myef.efficiencyterms(blobcut_energy_nevents_0nubb, blobcut_energy_nevents_selectron, \n",
    "                            blobcut_energy_nevents_0nubb_error, blobcut_energy_nevents_selectron_error,\n",
    "                            reco_0nubb_e, reco_selectron_e)"
   ]
  },
  {
   "cell_type": "code",
   "execution_count": null,
   "metadata": {},
   "outputs": [],
   "source": [
    "fig, ax = plt.subplots()\n",
    "ax.errorbar(1-b,e, xerr=b_error, yerr=e_error, fmt = '-r')\n",
    "plt.ylabel('signal efficiency')\n",
    "plt.xlabel('background rejection')\n",
    "#plt.title('Cut efficiency')"
   ]
  },
  {
   "cell_type": "code",
   "execution_count": null,
   "metadata": {},
   "outputs": [],
   "source": [
    "fig, ax = plt.subplots()\n",
    "ax.errorbar(blobcut_energy,fom, yerr=fom_error,fmt = '-r')\n",
    "plt.xlabel('blob-2 energy threshold (MeV)')\n",
    "plt.ylabel('f.o.m.=e/sqrt(b)')\n",
    "#plt.title('Cut efficiency')"
   ]
  },
  {
   "cell_type": "code",
   "execution_count": null,
   "metadata": {},
   "outputs": [],
   "source": [
    "myef.best_fom(e,b,fom,blobcut_energy)"
   ]
  },
  {
   "cell_type": "code",
   "execution_count": null,
   "metadata": {},
   "outputs": [],
   "source": [
    "npz_file = f'/Users/halmamol/NEXT/NBarrays/ntracks_DETSIM_psf200_R{blobR}mm'\n",
    "np.savez(npz_file, ntracks_0nubb=ntracks_0nubb, ntracks_eroi=ntracks_eroi)"
   ]
  },
  {
   "cell_type": "code",
   "execution_count": null,
   "metadata": {},
   "outputs": [],
   "source": [
    "npz_file = f'/Users/halmamol/NEXT/NBarrays/ereco_DETSIM_psf200_R{blobR}mm{testID}'\n",
    "np.savez(npz_file, reco_0nubb_e=reco_0nubb_e, reco_selectron_e=reco_selectron_e)"
   ]
  },
  {
   "cell_type": "code",
   "execution_count": null,
   "metadata": {},
   "outputs": [],
   "source": [
    "npz_file = f'/Users/halmamol/NEXT/NBarrays/fom_DETSIM_psf200_R{blobR}mm{testID}'\n",
    "np.savez(npz_file, e=e, b=b, fom=fom, e_error=e_error, b_error=b_error, fom_error=fom_error, blobcut_energy = blobcut_energy)"
   ]
  },
  {
   "cell_type": "code",
   "execution_count": null,
   "metadata": {},
   "outputs": [],
   "source": [
    "npz_file = f'/Users/halmamol/NEXT/NBarrays/trackpos_DETSIM_psf200_R{blobR}mm'\n",
    "np.savez(npz_file, track_0nubb_zmin=track_0nubb_zmin, track_0nubb_zmax=track_0nubb_zmax, track_0nubb_rmax = track_0nubb_rmax,\n",
    "        track_selectron_zmin=track_selectron_zmin, track_selectron_zmax=track_selectron_zmin, track_selectron_rmax = track_selectron_rmax)\n"
   ]
  },
  {
   "cell_type": "markdown",
   "metadata": {},
   "source": [
    "### Testing selected events"
   ]
  },
  {
   "cell_type": "code",
   "execution_count": null,
   "metadata": {},
   "outputs": [],
   "source": [
    "len(reco_0nubb_e[2])"
   ]
  },
  {
   "cell_type": "code",
   "execution_count": null,
   "metadata": {},
   "outputs": [],
   "source": [
    "events_noaccept = []\n",
    "for i in range(len(reco_selectron_e[1])):\n",
    "    if reco_selectron_e[1][i] > 0.45 and reco_selectron_e[2][i] < 0.40:\n",
    "        print(f'Event {reco_selectron_e[3][i]}, Blob 1 energy {reco_selectron_e[1][i]} and Blob 2 energy {reco_selectron_e[2][i]}') \n",
    "        #events_noaccept.append(reco_selectron_e[3][i])\n",
    "#events_noaccept"
   ]
  }
 ],
 "metadata": {
  "kernelspec": {
   "display_name": "Python 3",
   "language": "python",
   "name": "python3"
  },
  "language_info": {
   "codemirror_mode": {
    "name": "ipython",
    "version": 3
   },
   "file_extension": ".py",
   "mimetype": "text/x-python",
   "name": "python",
   "nbconvert_exporter": "python",
   "pygments_lexer": "ipython3",
   "version": "3.8.3"
  }
 },
 "nbformat": 4,
 "nbformat_minor": 4
}
