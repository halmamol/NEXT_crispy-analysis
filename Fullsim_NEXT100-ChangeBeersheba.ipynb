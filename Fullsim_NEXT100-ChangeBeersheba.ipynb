{
 "cells": [
  {
   "cell_type": "code",
   "execution_count": 1,
   "metadata": {},
   "outputs": [],
   "source": [
    "import os\n",
    "import sys\n",
    "\n",
    "import numpy  as np\n",
    "import tables as tb\n",
    "import pandas as pd\n",
    "import matplotlib\n",
    "import math\n",
    "\n",
    "#the line below makes the plot as a pop-up, that can be saved\n",
    "#matplotlib.use('TkAgg')\n",
    "\n",
    "import matplotlib.pyplot as plt\n",
    "from mpl_toolkits.mplot3d import Axes3D\n",
    "import matplotlib.colors as clrs\n",
    "\n",
    "import matplotlib.cm as cm\n",
    "from matplotlib.colors import Normalize\n",
    "\n",
    "from scipy.stats import norm\n",
    "from scipy.stats import exponnorm\n",
    "from scipy.stats import skewnorm\n",
    "\n",
    "import scipy.spatial.distance as scidist\n",
    "\n",
    "from IC.invisible_cities.evm.event_model        import Cluster, Hit\n",
    "from IC.invisible_cities.types.ic_types         import xy\n",
    "from IC.invisible_cities.reco.paolina_functions import voxelize_hits\n",
    "\n",
    "from IC.invisible_cities.core.exceptions import NoHits"
   ]
  },
  {
   "cell_type": "code",
   "execution_count": 2,
   "metadata": {},
   "outputs": [],
   "source": [
    "import functions.histo_functions as myhf\n",
    "import functions.efficiency_functions as myef\n",
    "import functions.recovstrue as myrvt"
   ]
  },
  {
   "cell_type": "code",
   "execution_count": 3,
   "metadata": {},
   "outputs": [],
   "source": [
    "#Dimensions for the NEXT100 detector\n",
    "veto_N100 = 20 # mm\n",
    "rmax_N100 = 492 - veto_N100\n",
    "zmin_N100 = veto_N100\n",
    "zmax_N100 = 1205 - veto_N100"
   ]
  },
  {
   "cell_type": "code",
   "execution_count": 4,
   "metadata": {},
   "outputs": [],
   "source": [
    "filepath = '/Users/halmamol/NEXT/files/NEXT100/beershebaFS/'\n",
    "max0nubbf = 999\n",
    "maxselectron = 999\n",
    "blobR = 21"
   ]
  },
  {
   "cell_type": "markdown",
   "metadata": {},
   "source": [
    "## Opening TRACK Files - 0nubb"
   ]
  },
  {
   "cell_type": "code",
   "execution_count": 5,
   "metadata": {},
   "outputs": [
    {
     "data": {
      "text/plain": [
       "Index(['event', 'trackID', 'energy', 'length', 'numb_of_voxels',\n",
       "       'numb_of_hits', 'numb_of_tracks', 'x_min', 'y_min', 'z_min', 'x_max',\n",
       "       'y_max', 'z_max', 'r_max', 'x_ave', 'y_ave', 'z_ave', 'extreme1_x',\n",
       "       'extreme1_y', 'extreme1_z', 'extreme2_x', 'extreme2_y', 'extreme2_z',\n",
       "       'blob1_x', 'blob1_y', 'blob1_z', 'blob2_x', 'blob2_y', 'blob2_z',\n",
       "       'eblob1', 'eblob2', 'ovlp_blob_energy', 'vox_size_x', 'vox_size_y',\n",
       "       'vox_size_z'],\n",
       "      dtype='object')"
      ]
     },
     "execution_count": 5,
     "metadata": {},
     "output_type": "execute_result"
    }
   ],
   "source": [
    "#0nubb files\n",
    "track_list_0nubb = []\n",
    "\n",
    "filepath_0nubb_tracks = filepath+f'0nubb/tracks/{blobR}mm/'\n",
    "\n",
    "#loop over all the files, to read 'Tracks' information\n",
    "for nfile in range(1,max0nubbf):\n",
    "    \n",
    "    filename_0nubb = filepath_0nubb_tracks+f'next100.0nubb.{nfile}.skel_tracks.R{blobR}mm_tb.h5'\n",
    "    #the following lines are added because some of the files aren't there (I had to check Paola's notebook)\n",
    "    try:\n",
    "        readfile_tracks = pd.read_hdf(filename_0nubb, 'Tracks')\n",
    "    except:\n",
    "        print('File {} not good'.format(filename_0nubb))\n",
    "        continue\n",
    "        \n",
    "    track_list_0nubb.append(readfile_tracks)\n",
    "    \n",
    "\n",
    "#'concat' command means: 'concatenate pandas objects along a particular \n",
    "# axis with optional set logic along the other axes.' -> following line \n",
    "# is needed to keep an order between the files\n",
    "\n",
    "tracks_0nubb = pd.concat([dt for dt in track_list_0nubb]) \n",
    "tracks_0nubb.columns  \n",
    "\n",
    "#these are all the elements inside the file:"
   ]
  },
  {
   "cell_type": "code",
   "execution_count": 6,
   "metadata": {},
   "outputs": [
    {
     "data": {
      "text/plain": [
       "Index(['event', 'trackID', 'energy', 'length', 'numb_of_voxels',\n",
       "       'numb_of_hits', 'numb_of_tracks', 'x_min', 'y_min', 'z_min', 'x_max',\n",
       "       'y_max', 'z_max', 'r_max', 'x_ave', 'y_ave', 'z_ave', 'extreme1_x',\n",
       "       'extreme1_y', 'extreme1_z', 'extreme2_x', 'extreme2_y', 'extreme2_z',\n",
       "       'blob1_x', 'blob1_y', 'blob1_z', 'blob2_x', 'blob2_y', 'blob2_z',\n",
       "       'eblob1', 'eblob2', 'ovlp_blob_energy', 'vox_size_x', 'vox_size_y',\n",
       "       'vox_size_z'],\n",
       "      dtype='object')"
      ]
     },
     "execution_count": 6,
     "metadata": {},
     "output_type": "execute_result"
    }
   ],
   "source": [
    "#same for selectron files\n",
    "track_list_selectron = []\n",
    "filepath_selectron_tracks = filepath+f'/e-_roi/tracks/{blobR}mm/'\n",
    "\n",
    "#loop over all the files, to read 'Tracks' information\n",
    "for nfile in range(1,maxselectron):\n",
    "    \n",
    "    filename_selectron = filepath_selectron_tracks+f'next100.e-_roi.{nfile}.skel_tracks.R{blobR}mm_tb.h5'\n",
    "    #the following lines are added because some of the files aren't there (I had to check Paola's notebook)\n",
    "    try:\n",
    "        readfile_tracks_selectron = pd.read_hdf(filename_selectron, 'Tracks')\n",
    "    except:\n",
    "        print('File {} not good'.format(filename_selectron))\n",
    "        continue\n",
    "        \n",
    "    track_list_selectron.append(readfile_tracks_selectron)\n",
    "    \n",
    "\n",
    "#'concat' command means: 'concatenate pandas objects along a particular \n",
    "# axis with optional set logic along the other axes.' -> following line \n",
    "# is needed to keep an order between the files\n",
    "\n",
    "tracks_selectron = pd.concat([dt for dt in track_list_selectron]) \n",
    "tracks_selectron.columns  \n",
    "\n",
    "#these are all the elements inside the file:"
   ]
  },
  {
   "cell_type": "markdown",
   "metadata": {},
   "source": [
    "## Checking cuts"
   ]
  },
  {
   "cell_type": "markdown",
   "metadata": {},
   "source": [
    "interested in selecting the events in/with:\n",
    "- **Fiducial**: fiducial cut around the detector volume, of 2cm from the border\n",
    "- **1Track**: in this case, considers the track with highest deposition\n",
    "- **NoOverlap**: defined blobs in one trace should not overlap\n",
    "- **ROI**: energy cut in the region of interest, between [2.445,2475]MeV"
   ]
  },
  {
   "cell_type": "code",
   "execution_count": 7,
   "metadata": {},
   "outputs": [
    {
     "name": "stdout",
     "output_type": "stream",
     "text": [
      "Initial amount of events for 0nubb: 9799 +- 98.98989847454133\n",
      "Initial amount of events for selectrons: 9767 +- 98.82813364624468\n"
     ]
    }
   ],
   "source": [
    "#Checking total amount of events, prior any selection\n",
    "nevents_0nubb_total = tracks_0nubb.event.nunique()\n",
    "Enevents_0nubb_total = np.sqrt(nevents_0nubb_total)\n",
    "print(f'Initial amount of events for 0nubb: {nevents_0nubb_total} +- {Enevents_0nubb_total}')\n",
    "\n",
    "nevents_selectron_total = tracks_selectron.event.nunique()\n",
    "Enevents_selectron_total = np.sqrt(nevents_selectron_total)\n",
    "print(f'Initial amount of events for selectrons: {nevents_selectron_total} +- {Enevents_selectron_total}')"
   ]
  },
  {
   "cell_type": "markdown",
   "metadata": {},
   "source": [
    "### 1 - FIDUCIAL CUT"
   ]
  },
  {
   "cell_type": "code",
   "execution_count": 8,
   "metadata": {},
   "outputs": [
    {
     "data": {
      "image/png": "[encoded data removed]",
      "text/plain": [
       "<Figure size 432x288 with 1 Axes>"
      ]
     },
     "metadata": {
      "needs_background": "light"
     },
     "output_type": "display_data"
    }
   ],
   "source": [
    "track_0nubb_zmin = tracks_0nubb.z_min\n",
    "track_0nubb_zmax = tracks_0nubb.z_max\n",
    "\n",
    "plt.hist(track_0nubb_zmin, bins = 50, range = (0, 1400),  color='blue', histtype='step', label = 'zMin')\n",
    "plt.hist(track_0nubb_zmax, bins = 50, range = (0, 1400),  color='green', histtype='step', label = 'zMax', linestyle='dashed')\n",
    "\n",
    "plt.xlabel('position (mm)')\n",
    "plt.ylabel('events (a.u.)')\n",
    "plt.title('0nubb')\n",
    "plt.legend(loc=1);\n",
    "plt.show()"
   ]
  },
  {
   "cell_type": "code",
   "execution_count": 9,
   "metadata": {},
   "outputs": [
    {
     "data": {
      "image/png": "[encoded data removed]",
      "text/plain": [
       "<Figure size 432x288 with 1 Axes>"
      ]
     },
     "metadata": {
      "needs_background": "light"
     },
     "output_type": "display_data"
    }
   ],
   "source": [
    "track_0nubb_rmax = tracks_0nubb.r_max\n",
    "\n",
    "plt.hist(track_0nubb_rmax, bins = 50, range = (0, 650),  color='red', histtype='step', label = 'rMax')\n",
    "\n",
    "plt.xlabel('position (mm)')\n",
    "plt.ylabel('events (a.u.)')\n",
    "plt.title('0nubb')\n",
    "plt.legend(loc=1);\n",
    "plt.show()"
   ]
  },
  {
   "cell_type": "code",
   "execution_count": 10,
   "metadata": {},
   "outputs": [
    {
     "data": {
      "image/png": "[encoded data removed]",
      "text/plain": [
       "<Figure size 432x288 with 1 Axes>"
      ]
     },
     "metadata": {
      "needs_background": "light"
     },
     "output_type": "display_data"
    }
   ],
   "source": [
    "track_selectron_zmin = tracks_selectron.z_min\n",
    "track_selectron_zmax = tracks_selectron.z_max\n",
    "\n",
    "plt.hist(track_selectron_zmin, bins = 50, range = (0, 1400),  color='blue', histtype='step', label = 'zMin')\n",
    "plt.hist(track_selectron_zmax, bins = 50, range = (0, 1400),  color='green', histtype='step', label = 'zMax', linestyle='dashed')\n",
    "\n",
    "plt.xlabel('position (mm)')\n",
    "plt.ylabel('events (a.u.)')\n",
    "plt.title('e-roi')\n",
    "plt.legend(loc=1);\n",
    "plt.show()"
   ]
  },
  {
   "cell_type": "code",
   "execution_count": 11,
   "metadata": {},
   "outputs": [
    {
     "data": {
      "image/png": "[encoded data removed]",
      "text/plain": [
       "<Figure size 432x288 with 1 Axes>"
      ]
     },
     "metadata": {
      "needs_background": "light"
     },
     "output_type": "display_data"
    }
   ],
   "source": [
    "track_selectron_rmax = tracks_selectron.r_max\n",
    "\n",
    "plt.hist(track_selectron_rmax, bins = 50,  range = (0, 650),  color='red', histtype='step', label = 'rMax')\n",
    "\n",
    "plt.xlabel('position (mm)')\n",
    "plt.ylabel('events (a.u.)')\n",
    "plt.title('e-roi')\n",
    "plt.legend(loc=1);\n",
    "plt.show()"
   ]
  },
  {
   "cell_type": "code",
   "execution_count": 12,
   "metadata": {},
   "outputs": [
    {
     "name": "stdout",
     "output_type": "stream",
     "text": [
      "MAX VALUE\n",
      "0nubb\n",
      "- Rmax = 576.2781446489187\n",
      "- Zmin = 1205.95625\n",
      "- Zmax = 1211.72575\n",
      "e-roi\n",
      "- Rmax = 578.1803351896361\n",
      "- Zmin = 1207.879375\n",
      "- Zmax = 1212.660875\n",
      "AVG VALUE\n",
      "0nubb\n",
      "- Rmax = 364.97284828733433\n",
      "- Zmin = 567.0085128985107\n",
      "- Zmax = 598.9851739531106\n",
      "e-roi\n",
      "- Rmax = 366.6896331499073\n",
      "- Zmin = 574.9576933616237\n",
      "- Zmax = 611.6714810159349\n"
     ]
    }
   ],
   "source": [
    "print(f'MAX VALUE')\n",
    "print(f'0nubb')\n",
    "print(f'- Rmax = {np.amax(track_0nubb_rmax)}')\n",
    "print(f'- Zmin = {np.amax(track_0nubb_zmin)}')\n",
    "print(f'- Zmax = {np.amax(track_0nubb_zmax)}')\n",
    "print(f'e-roi')\n",
    "print(f'- Rmax = {np.amax(track_selectron_rmax)}')\n",
    "print(f'- Zmin = {np.amax(track_selectron_zmin)}')\n",
    "print(f'- Zmax = {np.amax(track_selectron_zmax)}')\n",
    "print(f'AVG VALUE')\n",
    "print(f'0nubb')\n",
    "print(f'- Rmax = {np.average(track_0nubb_rmax)}')\n",
    "print(f'- Zmin = {np.average(track_0nubb_zmin)}')\n",
    "print(f'- Zmax = {np.average(track_0nubb_zmax)}')\n",
    "print(f'e-roi')\n",
    "print(f'- Rmax = {np.average(track_selectron_rmax)}')\n",
    "print(f'- Zmin = {np.average(track_selectron_zmin)}')\n",
    "print(f'- Zmax = {np.average(track_selectron_zmax)}')"
   ]
  },
  {
   "cell_type": "code",
   "execution_count": 13,
   "metadata": {},
   "outputs": [],
   "source": [
    "npz_file = '/Users/halmamol/NEXT/NBarrays/tracklimits_FULLSIM_tb'\n",
    "np.savez(npz_file, track_0nubb_zmin=track_0nubb_zmin, track_0nubb_zmax=track_0nubb_zmax, track_0nubb_rmax=track_0nubb_rmax,\n",
    "        track_selectron_zmin=track_selectron_zmin, track_selectron_zmax=track_selectron_zmax, track_selectron_rmax=track_selectron_rmax)"
   ]
  },
  {
   "cell_type": "code",
   "execution_count": 18,
   "metadata": {},
   "outputs": [],
   "source": [
    "#For the evaluation of the events out of fiducial limits it's necessary to do several steps\n",
    "\n",
    "#First, check a list of events where at least 1 trace is out of the limits:\n",
    "\n",
    "nonfiducial_list_0nubb = tracks_0nubb[~((tracks_0nubb.r_max < rmax_N100) & \n",
    "                                     (tracks_0nubb.z_min > zmin_N100) & \n",
    "                                     (tracks_0nubb.z_max < zmax_N100))].event.unique()\n",
    "\n",
    "#Then I apply the selection into the matrix of elements\n",
    "fiducial_tracks_0nubb = tracks_0nubb[(tracks_0nubb.r_max < rmax_N100) & \n",
    "                                     (tracks_0nubb.z_min > zmin_N100) & \n",
    "                                     (tracks_0nubb.z_max < zmax_N100)]\n",
    "\n",
    "# I get a list of true elements if event ID is not in the above list 'nonfiducial_list'\n",
    "evt_fid_sel_0nubb    = ~fiducial_tracks_0nubb.event.isin(nonfiducial_list_0nubb) \n",
    "\n",
    "# And finally I select the events with an asigned True from the previous line \n",
    "tracks_0nubb_fiducial = fiducial_tracks_0nubb[evt_fid_sel_0nubb]"
   ]
  },
  {
   "cell_type": "code",
   "execution_count": 19,
   "metadata": {},
   "outputs": [],
   "source": [
    "#Now I do the same for single electron\n",
    "\n",
    "nonfiducial_list_selectron = tracks_selectron[~((tracks_selectron.r_max < rmax_N100) & \n",
    "                                     (tracks_selectron.z_min > zmin_N100) & \n",
    "                                     (tracks_selectron.z_max < zmax_N100))].event.unique()\n",
    "\n",
    "#Then I apply the selection into the matrix of elements\n",
    "fiducial_tracks_selectron = tracks_selectron[(tracks_selectron.r_max < rmax_N100) & \n",
    "                                     (tracks_selectron.z_min > zmin_N100) & \n",
    "                                     (tracks_selectron.z_max < zmax_N100)]\n",
    "\n",
    "# I get a list of true elements if event ID is not in the above list 'nonfiducial_list'\n",
    "evt_fid_sel_selectron    = ~fiducial_tracks_selectron.event.isin(nonfiducial_list_selectron) \n",
    "\n",
    "# And finally I select the events with an asigned True from the previous line \n",
    "tracks_selectron_fiducial = fiducial_tracks_selectron[evt_fid_sel_selectron]"
   ]
  },
  {
   "cell_type": "code",
   "execution_count": 20,
   "metadata": {},
   "outputs": [
    {
     "name": "stdout",
     "output_type": "stream",
     "text": [
      "--------------------------0nubb-------------------------\n",
      "--CUT---!----EVENTS----!---REDUCTION---!---EFFICIENCY---\n",
      "INITIAL    9799        \n",
      "FIDUCIAL   6990                ---      71.33380957240534 +- 1.116807613408483%\n",
      "--------!--------------!----------------!----------------\n",
      " \n",
      " \n",
      "--------------------------SElectron---------------------\n",
      "--CUT---!----EVENTS----!---REDUCTION---!---EFFICIENCY---\n",
      "INITIAL    9767        \n",
      "FIDUCIAL   6697                ---      68.5676256783045 +- 1.0878425618801453%\n",
      "--------!--------------!----------------!----------------\n"
     ]
    }
   ],
   "source": [
    "#Checking total amount of events, after fiducial selection\n",
    "\n",
    "nevents_0nubb_fiducial = tracks_0nubb_fiducial.event.nunique()\n",
    "Enevents_0nubb_fiducial = np.sqrt(nevents_0nubb_fiducial)\n",
    "nevents_selectron_fiducial = tracks_selectron_fiducial.event.nunique()\n",
    "Enevents_selectron_fiducial = np.sqrt(nevents_selectron_fiducial)\n",
    "\n",
    "ratio_fiducial_0nubb = 100*nevents_0nubb_fiducial/nevents_0nubb_total\n",
    "Eratio_fiducial_0nubb = myef.ratio_error(ratio_fiducial_0nubb, nevents_0nubb_fiducial, nevents_0nubb_total, \n",
    "                                             Enevents_0nubb_fiducial, Enevents_0nubb_total)\n",
    "\n",
    "ratio_fiducial_selectron = 100*nevents_selectron_fiducial/nevents_selectron_total\n",
    "Eratio_fiducial_selectron = myef.ratio_error(ratio_fiducial_selectron, nevents_selectron_fiducial, nevents_selectron_total, \n",
    "                                             Enevents_selectron_fiducial, Enevents_selectron_total)\n",
    "\n",
    "print('--------------------------0nubb-------------------------')\n",
    "print('--CUT---!----EVENTS----!---REDUCTION---!---EFFICIENCY---')\n",
    "print(f'INITIAL    {nevents_0nubb_total}        ')\n",
    "print(f'FIDUCIAL   {nevents_0nubb_fiducial}                ---      {ratio_fiducial_0nubb} +- {Eratio_fiducial_0nubb}%')\n",
    "print('--------!--------------!----------------!----------------')\n",
    "print(' ')\n",
    "print(' ')\n",
    "print('--------------------------SElectron---------------------')\n",
    "print('--CUT---!----EVENTS----!---REDUCTION---!---EFFICIENCY---')\n",
    "print(f'INITIAL    {nevents_selectron_total}        ')\n",
    "print(f'FIDUCIAL   {nevents_selectron_fiducial}                ---      {ratio_fiducial_selectron} +- {Eratio_fiducial_selectron}%')\n",
    "print('--------!--------------!----------------!----------------')\n"
   ]
  },
  {
   "cell_type": "markdown",
   "metadata": {},
   "source": [
    "## 2 - Number of tracks"
   ]
  },
  {
   "cell_type": "code",
   "execution_count": 21,
   "metadata": {},
   "outputs": [],
   "source": [
    "#Therefore, I'm going to take the 1st 'trackID'\n",
    "tracks_0nubb_1track = tracks_0nubb[tracks_0nubb.trackID == 0]\n",
    "tracks_0nubb_1trackfid = tracks_0nubb_fiducial[tracks_0nubb_fiducial.trackID == 0]\n",
    "\n",
    "tracks_selectron_1track = tracks_selectron[tracks_selectron.trackID == 0]\n",
    "tracks_selectron_1trackfid = tracks_selectron_fiducial[tracks_selectron_fiducial.trackID == 0]"
   ]
  },
  {
   "cell_type": "code",
   "execution_count": 22,
   "metadata": {},
   "outputs": [
    {
     "data": {
      "image/png": "[encoded data removed]",
      "text/plain": [
       "<Figure size 432x288 with 1 Axes>"
      ]
     },
     "metadata": {
      "needs_background": "light"
     },
     "output_type": "display_data"
    }
   ],
   "source": [
    "#Check the number of tracks with numb_of_tracks\n",
    "ntracks_0nubb = tracks_0nubb_1trackfid.numb_of_tracks\n",
    "maxtracks_0nubb = np.amax(ntracks_0nubb)\n",
    "\n",
    "plt.hist(ntracks_0nubb, bins = maxtracks_0nubb, range = (0, maxtracks_0nubb),density=True, alpha=0.6, color='r')\n",
    "plt.xlabel('number of tracks')\n",
    "plt.ylabel('fraction of events')\n",
    "plt.title('0nubb')\n",
    "plt.show()"
   ]
  },
  {
   "cell_type": "code",
   "execution_count": 23,
   "metadata": {},
   "outputs": [
    {
     "data": {
      "image/png": "[encoded data removed]",
      "text/plain": [
       "<Figure size 432x288 with 1 Axes>"
      ]
     },
     "metadata": {
      "needs_background": "light"
     },
     "output_type": "display_data"
    }
   ],
   "source": [
    "#Check the number of tracks with numb_of_tracks\n",
    "ntracks_eroi = tracks_selectron_1trackfid.numb_of_tracks\n",
    "maxtracks_eroi = np.amax(ntracks_eroi)\n",
    "\n",
    "plt.hist(ntracks_eroi, bins = maxtracks_eroi, range = (0, maxtracks_eroi), density=True, alpha=0.6, color='b')\n",
    "plt.xlabel('number of tracks')\n",
    "plt.ylabel('fraction of events')\n",
    "plt.title('eroi')\n",
    "plt.show()"
   ]
  },
  {
   "cell_type": "code",
   "execution_count": 24,
   "metadata": {},
   "outputs": [
    {
     "data": {
      "image/png": "[encoded data removed]",
      "text/plain": [
       "<Figure size 432x288 with 1 Axes>"
      ]
     },
     "metadata": {
      "needs_background": "light"
     },
     "output_type": "display_data"
    }
   ],
   "source": [
    "plt.hist(ntracks_0nubb, bins = 9, range = (0.5, 9.5),density=True, alpha=0.4, color='r', label = '0nubb')\n",
    "plt.hist(ntracks_eroi, bins = 9, range = (0.5, 9.5), density=True, alpha=0.4, color='b',label = 'e-roi')\n",
    "\n",
    "plt.xlabel('number of tracks (MeV)')\n",
    "plt.ylabel('fraction of events')\n",
    "plt.title('Tracks in each event')\n",
    "plt.legend(loc=1);\n",
    "plt.show()"
   ]
  },
  {
   "cell_type": "code",
   "execution_count": 25,
   "metadata": {},
   "outputs": [
    {
     "name": "stdout",
     "output_type": "stream",
     "text": [
      "MAX VALUE\n",
      "0nubb\n",
      "- #tracks = 19\n",
      "e-roi\n",
      "- #tracks = 17\n",
      "AVG VALUE\n",
      "0nubb\n",
      "- #tracks = 1.3934191702432046\n",
      "e-roi\n",
      "- #tracks = 1.4879796923995818\n"
     ]
    }
   ],
   "source": [
    "print(f'MAX VALUE')\n",
    "print(f'0nubb')\n",
    "print(f'- #tracks = {np.amax(ntracks_0nubb)}')\n",
    "print(f'e-roi')\n",
    "print(f'- #tracks = {np.amax(ntracks_eroi)}')\n",
    "print(f'AVG VALUE')\n",
    "print(f'0nubb')\n",
    "print(f'- #tracks = {np.average(ntracks_0nubb)}')\n",
    "print(f'e-roi')\n",
    "print(f'- #tracks = {np.average(ntracks_eroi)}')"
   ]
  },
  {
   "cell_type": "code",
   "execution_count": 26,
   "metadata": {},
   "outputs": [
    {
     "data": {
      "text/plain": [
       "0    1\n",
       "Name: numb_of_tracks, dtype: int64"
      ]
     },
     "execution_count": 26,
     "metadata": {},
     "output_type": "execute_result"
    }
   ],
   "source": [
    "tracks_0nubb_track_evt = tracks_0nubb_1track[tracks_0nubb_1track.event == 100]\n",
    "tracks_0nubb_track_evt.numb_of_tracks"
   ]
  },
  {
   "cell_type": "code",
   "execution_count": 27,
   "metadata": {},
   "outputs": [
    {
     "name": "stdout",
     "output_type": "stream",
     "text": [
      "Amount of events with 1 track 0nubb = 76.10872675250357 +- 1.3847426829620102\n"
     ]
    }
   ],
   "source": [
    "tracks_0nubb_1track_cut = tracks_0nubb_1trackfid[tracks_0nubb_1trackfid.numb_of_tracks == 1]\n",
    "frac_1track_0nubb = 100*tracks_0nubb_1track_cut.event.nunique()/nevents_0nubb_fiducial\n",
    "\n",
    "Efrac_1track_0nubb = myef.ratio_error(frac_1track_0nubb, tracks_0nubb_1track_cut.event.nunique(), nevents_0nubb_fiducial, \n",
    "                                             np.sqrt(tracks_0nubb_1track_cut.event.nunique()), np.sqrt(nevents_0nubb_fiducial))\n",
    "print(f'Amount of events with 1 track 0nubb = {frac_1track_0nubb} +- {Efrac_1track_0nubb}')"
   ]
  },
  {
   "cell_type": "code",
   "execution_count": 28,
   "metadata": {},
   "outputs": [
    {
     "name": "stdout",
     "output_type": "stream",
     "text": [
      "Amount of events with 1 track eroi = 73.15215768254443 +- 1.3752681165483867\n"
     ]
    }
   ],
   "source": [
    "tracks_selectron_1track_cut = tracks_selectron_1trackfid[tracks_selectron_1trackfid.numb_of_tracks == 1]\n",
    "frac_1track_selectron = 100*tracks_selectron_1track_cut.event.nunique()/nevents_selectron_fiducial\n",
    "Efrac_1track_selectron = myef.ratio_error(frac_1track_selectron, tracks_selectron_1track_cut.event.nunique(), nevents_selectron_fiducial, \n",
    "                                             np.sqrt(tracks_selectron_1track_cut.event.nunique()), np.sqrt(nevents_selectron_fiducial))\n",
    "print(f'Amount of events with 1 track eroi = {frac_1track_selectron} +- {Efrac_1track_selectron}')"
   ]
  },
  {
   "cell_type": "code",
   "execution_count": 29,
   "metadata": {},
   "outputs": [
    {
     "name": "stdout",
     "output_type": "stream",
     "text": [
      "--------------------------0nubb-------------------------\n",
      "--CUT---!----EVENTS----!---REDUCTION---!---EFFICIENCY---\n",
      "INITIAL    9799        \n",
      "FIDUCIAL   6990                ---      71.33380957240534 +- 1.116807613408483%\n",
      "1TRACK.    6990        100.0+- 1.6915171678234568% 71.33380957240534 +- 1.116807613408483%\n",
      "--------!--------------!----------------!----------------\n",
      " \n",
      " \n",
      "--------------------------SElectron---------------------\n",
      "--CUT---!----EVENTS----!---REDUCTION---!---EFFICIENCY---\n",
      "INITIAL    9767        \n",
      "FIDUCIAL   6697                ---      68.5676256783045 +- 1.0878425618801453%\n",
      "1TRACK.    6697        100.0+- 1.7281237878667235% 68.5676256783045 +- 1.0878425618801453%\n",
      "--------!--------------!----------------!----------------\n"
     ]
    }
   ],
   "source": [
    "#Checking total amount of events, after fiducial selection\n",
    "\n",
    "nevents_0nubb_1track = tracks_0nubb_1track.event.nunique()\n",
    "Enevents_0nubb_1track = np.sqrt(nevents_0nubb_1track)\n",
    "nevents_0nubb_1trackfid = tracks_0nubb_1trackfid.event.nunique()\n",
    "Enevents_0nubb_1trackfid = np.sqrt(nevents_0nubb_1trackfid)\n",
    "\n",
    "nevents_selectron_1track = tracks_selectron_1track.event.nunique()\n",
    "Enevents_selectron_1track = np.sqrt(nevents_selectron_1track)\n",
    "nevents_selectron_1trackfid = tracks_selectron_1trackfid.event.nunique()\n",
    "Enevents_selectron_1trackfid = np.sqrt(nevents_selectron_1trackfid)\n",
    "\n",
    "ratio_1trackfid_0nubb = 100*nevents_0nubb_1trackfid/nevents_0nubb_fiducial\n",
    "Eratio_1trackfid_0nubb = myef.ratio_error(ratio_1trackfid_0nubb, nevents_0nubb_1trackfid, nevents_0nubb_fiducial, \n",
    "                                             Enevents_0nubb_1trackfid, Enevents_0nubb_fiducial)\n",
    "\n",
    "eff_1trackfid_0nubb = 100*nevents_0nubb_1trackfid/nevents_0nubb_total\n",
    "Eeff_1trackfid_0nubb = myef.ratio_error(eff_1trackfid_0nubb, nevents_0nubb_1trackfid, nevents_0nubb_total, \n",
    "                                             Enevents_0nubb_1trackfid, Enevents_0nubb_total)\n",
    "\n",
    "ratio_1trackfid_selectron = 100*nevents_selectron_1trackfid/nevents_selectron_fiducial\n",
    "Eratio_1trackfid_selectron = myef.ratio_error(ratio_1trackfid_0nubb, nevents_selectron_1trackfid, nevents_selectron_fiducial, \n",
    "                                             Enevents_selectron_1trackfid, Enevents_selectron_fiducial)\n",
    "\n",
    "eff_1trackfid_selectron = 100*nevents_selectron_1trackfid/nevents_selectron_total\n",
    "Eeff_1trackfid_selectron = myef.ratio_error(eff_1trackfid_selectron, nevents_selectron_1trackfid, nevents_selectron_total, \n",
    "                                             Enevents_selectron_1trackfid, Enevents_selectron_total)\n",
    "\n",
    "print('--------------------------0nubb-------------------------')\n",
    "print('--CUT---!----EVENTS----!---REDUCTION---!---EFFICIENCY---')\n",
    "print(f'INITIAL    {nevents_0nubb_total}        ')\n",
    "print(f'FIDUCIAL   {nevents_0nubb_fiducial}                ---      {ratio_fiducial_0nubb} +- {Eratio_fiducial_0nubb}%')\n",
    "print(f'1TRACK.    {nevents_0nubb_1trackfid}        {ratio_1trackfid_0nubb}+- {Eratio_1trackfid_0nubb}% {eff_1trackfid_0nubb} +- {Eeff_1trackfid_0nubb}%')\n",
    "\n",
    "print('--------!--------------!----------------!----------------')\n",
    "print(' ')\n",
    "print(' ')\n",
    "print('--------------------------SElectron---------------------')\n",
    "print('--CUT---!----EVENTS----!---REDUCTION---!---EFFICIENCY---')\n",
    "print(f'INITIAL    {nevents_selectron_total}        ')\n",
    "print(f'FIDUCIAL   {nevents_selectron_fiducial}                ---      {ratio_fiducial_selectron} +- {Eratio_fiducial_selectron}%')\n",
    "print(f'1TRACK.    {nevents_selectron_1trackfid}        {ratio_1trackfid_selectron}+- {Eratio_1trackfid_selectron}% {eff_1trackfid_selectron} +- {Eeff_1trackfid_selectron}%')\n",
    "print('--------!--------------!----------------!----------------')\n"
   ]
  },
  {
   "cell_type": "markdown",
   "metadata": {},
   "source": [
    "## 3 - No overlap"
   ]
  },
  {
   "cell_type": "code",
   "execution_count": 30,
   "metadata": {},
   "outputs": [],
   "source": [
    "#Getting ovlp variable of the tracks, and selecting events with no ovlp\n",
    "\n",
    "tracks_0nubb_ovlp = tracks_0nubb[tracks_0nubb.ovlp_blob_energy == 0.]\n",
    "tracks_0nubb_ovlp1trackfid = tracks_0nubb_1trackfid[tracks_0nubb_1trackfid.ovlp_blob_energy == 0.]\n",
    "\n",
    "tracks_selectron_ovlp = tracks_selectron[tracks_selectron.ovlp_blob_energy == 0.]\n",
    "tracks_selectron_ovlp1trackfid = tracks_selectron_1trackfid[tracks_selectron_1trackfid.ovlp_blob_energy == 0.]"
   ]
  },
  {
   "cell_type": "code",
   "execution_count": 31,
   "metadata": {},
   "outputs": [
    {
     "name": "stdout",
     "output_type": "stream",
     "text": [
      "--------------------------0nubb-------------------------\n",
      "--CUT---!----EVENTS----!---REDUCTION---!---EFFICIENCY---\n",
      "INITIAL    9799        \n",
      "FIDUCIAL   6990                ---      71.33380957240534 +- 1.116807613408483%\n",
      "1TRACK.    6990        100.0+- 1.6915171678234568% 71.33380957240534 +- 1.116807613408483%\n",
      "OVLP       6031        86.28040057224607+- 1.516355636965976%   61.54709664251454 +- 1.007308468639272%\n",
      "--------!--------------!----------------!----------------\n",
      " \n",
      " \n",
      "--------------------------SElectron---------------------\n",
      "--CUT---!----EVENTS----!---REDUCTION---!---EFFICIENCY---\n",
      "INITIAL    9767        \n",
      "FIDUCIAL   6697                ---      68.5676256783045 +- 1.0878425618801453%\n",
      "1TRACK.    6697        100.0+- 1.7281237878667235% 68.5676256783045 +- 1.0878425618801453%\n",
      "OVLP       6371        95.13214872330894+- 1.6648990942498125%   65.2298556363264 +- 1.0504777945308303%\n",
      "--------!--------------!----------------!----------------\n"
     ]
    }
   ],
   "source": [
    "#Checking total amount of events, after overlap selection\n",
    "\n",
    "nevents_0nubb_ovlp = tracks_0nubb_ovlp.event.nunique()\n",
    "Enevents_0nubb_ovlp = np.sqrt(nevents_0nubb_ovlp)\n",
    "nevents_0nubb_ovlp1trackfid = tracks_0nubb_ovlp1trackfid.event.nunique()\n",
    "Enevents_0nubb_ovlp1trackfid = np.sqrt(nevents_0nubb_ovlp1trackfid)\n",
    "\n",
    "nevents_selectron_ovlp = tracks_selectron_ovlp.event.nunique()\n",
    "Enevents_selectron_ovlp = np.sqrt(nevents_selectron_ovlp)\n",
    "nevents_selectron_ovlp1trackfid = tracks_selectron_ovlp1trackfid.event.nunique()\n",
    "Enevents_selectron_ovlp1trackfid = np.sqrt(nevents_selectron_ovlp1trackfid)\n",
    "\n",
    "ratio_ovlp1trackfid_0nubb = 100*nevents_0nubb_ovlp1trackfid/nevents_0nubb_1trackfid\n",
    "Eratio_ovlp1trackfid_0nubb = myef.ratio_error(ratio_ovlp1trackfid_0nubb, nevents_0nubb_ovlp1trackfid, nevents_0nubb_1trackfid, \n",
    "                                             Enevents_0nubb_ovlp1trackfid, Enevents_0nubb_1trackfid)\n",
    "\n",
    "eff_ovlp1trackfid_0nubb = 100*nevents_0nubb_ovlp1trackfid/nevents_0nubb_total\n",
    "Eeff_ovlp1trackfid_0nubb = myef.ratio_error(eff_ovlp1trackfid_0nubb, nevents_0nubb_ovlp1trackfid, nevents_0nubb_total, \n",
    "                                             Enevents_0nubb_ovlp1trackfid, Enevents_0nubb_total)\n",
    "\n",
    "ratio_ovlp1trackfid_selectron = 100*nevents_selectron_ovlp1trackfid/nevents_selectron_1trackfid\n",
    "Eratio_ovlp1trackfid_selectron = myef.ratio_error(ratio_ovlp1trackfid_selectron, nevents_selectron_ovlp1trackfid, nevents_selectron_1trackfid, \n",
    "                                             Enevents_selectron_ovlp1trackfid, Enevents_selectron_1trackfid)\n",
    "\n",
    "eff_ovlp1trackfid_selectron = 100*nevents_selectron_ovlp1trackfid/nevents_selectron_total\n",
    "Eeff_ovlp1trackfid_selectron = myef.ratio_error(eff_ovlp1trackfid_selectron, nevents_selectron_ovlp1trackfid, nevents_selectron_total,\n",
    "                                             Enevents_selectron_ovlp1trackfid, Enevents_selectron_total)\n",
    "print('--------------------------0nubb-------------------------')\n",
    "print('--CUT---!----EVENTS----!---REDUCTION---!---EFFICIENCY---')\n",
    "print(f'INITIAL    {nevents_0nubb_total}        ')\n",
    "print(f'FIDUCIAL   {nevents_0nubb_fiducial}                ---      {ratio_fiducial_0nubb} +- {Eratio_fiducial_0nubb}%')\n",
    "print(f'1TRACK.    {nevents_0nubb_1trackfid}        {ratio_1trackfid_0nubb}+- {Eratio_1trackfid_0nubb}% {eff_1trackfid_0nubb} +- {Eeff_1trackfid_0nubb}%')\n",
    "print(f'OVLP       {nevents_0nubb_ovlp1trackfid}        {ratio_ovlp1trackfid_0nubb}+- {Eratio_ovlp1trackfid_0nubb}%   {eff_ovlp1trackfid_0nubb} +- {Eeff_ovlp1trackfid_0nubb}%')\n",
    "print('--------!--------------!----------------!----------------')\n",
    "print(' ')\n",
    "print(' ')\n",
    "print('--------------------------SElectron---------------------')\n",
    "print('--CUT---!----EVENTS----!---REDUCTION---!---EFFICIENCY---')\n",
    "print(f'INITIAL    {nevents_selectron_total}        ')\n",
    "print(f'FIDUCIAL   {nevents_selectron_fiducial}                ---      {ratio_fiducial_selectron} +- {Eratio_fiducial_selectron}%')\n",
    "print(f'1TRACK.    {nevents_selectron_1trackfid}        {ratio_1trackfid_selectron}+- {Eratio_1trackfid_selectron}% {eff_1trackfid_selectron} +- {Eeff_1trackfid_selectron}%')\n",
    "print(f'OVLP       {nevents_selectron_ovlp1trackfid}        {ratio_ovlp1trackfid_selectron}+- {Eratio_ovlp1trackfid_selectron}%   {eff_ovlp1trackfid_selectron} +- {Eeff_ovlp1trackfid_selectron}%')\n",
    "print('--------!--------------!----------------!----------------')\n",
    "\n"
   ]
  },
  {
   "cell_type": "markdown",
   "metadata": {},
   "source": [
    "## 4 - ROI events"
   ]
  },
  {
   "cell_type": "code",
   "execution_count": 32,
   "metadata": {},
   "outputs": [
    {
     "data": {
      "image/png": "[encoded data removed]",
      "text/plain": [
       "<Figure size 432x288 with 1 Axes>"
      ]
     },
     "metadata": {
      "needs_background": "light"
     },
     "output_type": "display_data"
    }
   ],
   "source": [
    "#Getting energy of the tracks\n",
    "energy_0nubb = tracks_0nubb.energy\n",
    "\n",
    "plt.hist(energy_0nubb, bins = 50)\n",
    "plt.xlabel('energy (MeV)')\n",
    "plt.ylabel('events (a.u.)')\n",
    "plt.title('0nubb')\n",
    "plt.show()"
   ]
  },
  {
   "cell_type": "code",
   "execution_count": 33,
   "metadata": {},
   "outputs": [
    {
     "data": {
      "image/png": "[encoded data removed]",
      "text/plain": [
       "<Figure size 432x288 with 1 Axes>"
      ]
     },
     "metadata": {
      "needs_background": "light"
     },
     "output_type": "display_data"
    }
   ],
   "source": [
    "#Getting energy of the tracks\n",
    "energy_selectron = tracks_selectron.energy\n",
    "\n",
    "plt.hist(energy_selectron, bins = 50)\n",
    "plt.xlabel('energy (MeV)')\n",
    "plt.ylabel('events (a.u.)')\n",
    "plt.title('e-roi')\n",
    "plt.show()"
   ]
  },
  {
   "cell_type": "code",
   "execution_count": 34,
   "metadata": {},
   "outputs": [],
   "source": [
    "#Check limits of the Energy ROI \n",
    "\n",
    "emin = 2.40\n",
    "emax = 2.54"
   ]
  },
  {
   "cell_type": "code",
   "execution_count": 35,
   "metadata": {},
   "outputs": [
    {
     "data": {
      "image/png": "[encoded data removed]",
      "text/plain": [
       "<Figure size 432x288 with 1 Axes>"
      ]
     },
     "metadata": {
      "needs_background": "light"
     },
     "output_type": "display_data"
    }
   ],
   "source": [
    "#Selecting events in the ROI\n",
    "tracks_0nubb_ROI = tracks_0nubb[(tracks_0nubb.energy >= emin) & (tracks_0nubb.energy <= emax)]\n",
    "tracks_0nubb_ROIovlp1trackfid = tracks_0nubb_ovlp1trackfid[(tracks_0nubb_ovlp1trackfid.energy >= emin) & (tracks_0nubb_ovlp1trackfid.energy <= emax)]\n",
    "\n",
    "tracks_selectron_ROI = tracks_selectron[(tracks_selectron.energy >= emin) & (tracks_selectron.energy <= emax)]\n",
    "tracks_selectron_ROIovlp1trackfid = tracks_selectron_ovlp1trackfid[(tracks_selectron_ovlp1trackfid.energy >= emin) & (tracks_selectron_ovlp1trackfid.energy <= emax)]\n",
    "\n",
    "\n",
    "energy_0nubb = tracks_0nubb_ROIovlp1trackfid.energy\n",
    "energy_selectron = tracks_selectron_ROIovlp1trackfid.energy\n",
    "\n",
    "plt.hist(energy_0nubb, bins = 50, range = (emin, emax), color='red', histtype='step', label = '0nubb')\n",
    "plt.hist(energy_selectron, bins = 50, range = (emin, emax), color='blue', histtype='step', label = 'e-roi', linestyle='dashed')\n",
    "\n",
    "plt.xlabel('energy (MeV)')\n",
    "plt.ylabel('events (a.u.)')\n",
    "plt.title('Energy ROI')\n",
    "plt.legend(loc=1);\n",
    "plt.show()"
   ]
  },
  {
   "cell_type": "code",
   "execution_count": 36,
   "metadata": {},
   "outputs": [
    {
     "name": "stdout",
     "output_type": "stream",
     "text": [
      "--------------------------0nubb-------------------------\n",
      "--CUT---!----EVENTS----!---REDUCTION---!---EFFICIENCY---\n",
      "INITIAL    9799        \n",
      "FIDUCIAL   6990                ---      71.33380957240534 +- 1.116807613408483%\n",
      "1TRACK.    6990        100.0+- 1.6915171678234568% 71.33380957240534 +- 1.116807613408483%\n",
      "OVLP       6031        86.28040057224607+- 1.516355636965976%   61.54709664251454 +- 1.007308468639272%\n",
      "ROI        4454        73.85176587630575+- 1.4590673225088717%   45.453617716093476 +- 0.8214017284986569%\n",
      "--------!--------------!----------------!----------------\n",
      " \n",
      " \n",
      "--------------------------SElectron---------------------\n",
      "--CUT---!----EVENTS----!---REDUCTION---!---EFFICIENCY---\n",
      "INITIAL    9767        \n",
      "FIDUCIAL   6697                ---      68.5676256783045 +- 1.0878425618801453%\n",
      "1TRACK.    6697        100.0+- 1.7281237878667235% 68.5676256783045 +- 1.0878425618801453%\n",
      "OVLP       6371        95.13214872330894+- 1.6648990942498125%   65.2298556363264 +- 1.0504777945308303%\n",
      "ROI        4317        67.7601632396798+- 1.3357581703049177%   44.19985666018225 +- 0.8078156283224678%\n",
      "--------!--------------!----------------!----------------\n"
     ]
    }
   ],
   "source": [
    "#Checking total amount of events, after ROI selection\n",
    "nevents_0nubb_ROI = tracks_0nubb_ROI.event.nunique()\n",
    "Enevents_0nubb_ROI = np.sqrt(nevents_0nubb_ROI)\n",
    "nevents_0nubb_ROIovlp1trackfid = tracks_0nubb_ROIovlp1trackfid.event.nunique()\n",
    "Enevents_0nubb_ROIovlp1trackfid = np.sqrt(nevents_0nubb_ROIovlp1trackfid)\n",
    "\n",
    "nevents_selectron_ROI = tracks_selectron_ROI.event.nunique()\n",
    "Enevents_selectron_ROI = np.sqrt(nevents_selectron_ROI)\n",
    "nevents_selectron_ROIovlp1trackfid = tracks_selectron_ROIovlp1trackfid.event.nunique()\n",
    "Enevents_selectron_ROIovlp1trackfid = np.sqrt(nevents_selectron_ROIovlp1trackfid)\n",
    "\n",
    "\n",
    "ratio_ROIovlp1trackfid_0nubb = 100*nevents_0nubb_ROIovlp1trackfid/nevents_0nubb_ovlp1trackfid\n",
    "Eratio_ROIovlp1trackfid_0nubb = myef.ratio_error(ratio_ROIovlp1trackfid_0nubb, nevents_0nubb_ROIovlp1trackfid, nevents_0nubb_ovlp1trackfid, \n",
    "                                             Enevents_0nubb_ROIovlp1trackfid, Enevents_0nubb_ovlp1trackfid)\n",
    "\n",
    "eff_ROIovlp1trackfid_0nubb = 100*nevents_0nubb_ROIovlp1trackfid/nevents_0nubb_total\n",
    "Eeff_ROIovlp1trackfid_0nubb = myef.ratio_error(eff_ROIovlp1trackfid_0nubb, nevents_0nubb_ROIovlp1trackfid, nevents_0nubb_total, \n",
    "                                             Enevents_0nubb_ROIovlp1trackfid, Enevents_0nubb_total)\n",
    "\n",
    "ratio_ROIovlp1trackfid_selectron = 100*nevents_selectron_ROIovlp1trackfid/nevents_selectron_ovlp1trackfid\n",
    "Eratio_ROIovlp1trackfid_selectron = myef.ratio_error(ratio_ROIovlp1trackfid_selectron, nevents_selectron_ROIovlp1trackfid, nevents_selectron_ovlp1trackfid, \n",
    "                                             Enevents_selectron_ROIovlp1trackfid, Enevents_selectron_ovlp1trackfid)\n",
    "\n",
    "eff_ROIovlp1trackfid_selectron = 100*nevents_selectron_ROIovlp1trackfid/nevents_selectron_total\n",
    "Eeff_ROIovlp1trackfid_selectron = myef.ratio_error(eff_ROIovlp1trackfid_selectron, nevents_selectron_ROIovlp1trackfid, nevents_selectron_total,\n",
    "                                                   Enevents_selectron_ROIovlp1trackfid, Enevents_selectron_total)\n",
    "    \n",
    "print('--------------------------0nubb-------------------------')\n",
    "print('--CUT---!----EVENTS----!---REDUCTION---!---EFFICIENCY---')\n",
    "print(f'INITIAL    {nevents_0nubb_total}        ')\n",
    "print(f'FIDUCIAL   {nevents_0nubb_fiducial}                ---      {ratio_fiducial_0nubb} +- {Eratio_fiducial_0nubb}%')\n",
    "print(f'1TRACK.    {nevents_0nubb_1trackfid}        {ratio_1trackfid_0nubb}+- {Eratio_1trackfid_0nubb}% {eff_1trackfid_0nubb} +- {Eeff_1trackfid_0nubb}%')\n",
    "print(f'OVLP       {nevents_0nubb_ovlp1trackfid}        {ratio_ovlp1trackfid_0nubb}+- {Eratio_ovlp1trackfid_0nubb}%   {eff_ovlp1trackfid_0nubb} +- {Eeff_ovlp1trackfid_0nubb}%')\n",
    "print(f'ROI        {nevents_0nubb_ROIovlp1trackfid}        {ratio_ROIovlp1trackfid_0nubb}+- {Eratio_ROIovlp1trackfid_0nubb}%   {eff_ROIovlp1trackfid_0nubb} +- {Eeff_ROIovlp1trackfid_0nubb}%')\n",
    "print('--------!--------------!----------------!----------------')\n",
    "print(' ')\n",
    "print(' ')\n",
    "print('--------------------------SElectron---------------------')\n",
    "print('--CUT---!----EVENTS----!---REDUCTION---!---EFFICIENCY---')\n",
    "print(f'INITIAL    {nevents_selectron_total}        ')\n",
    "print(f'FIDUCIAL   {nevents_selectron_fiducial}                ---      {ratio_fiducial_selectron} +- {Eratio_fiducial_selectron}%')\n",
    "print(f'1TRACK.    {nevents_selectron_1trackfid}        {ratio_1trackfid_selectron}+- {Eratio_1trackfid_selectron}% {eff_1trackfid_selectron} +- {Eeff_1trackfid_selectron}%')\n",
    "print(f'OVLP       {nevents_selectron_ovlp1trackfid}        {ratio_ovlp1trackfid_selectron}+- {Eratio_ovlp1trackfid_selectron}%   {eff_ovlp1trackfid_selectron} +- {Eeff_ovlp1trackfid_selectron}%')\n",
    "print(f'ROI        {nevents_selectron_ROIovlp1trackfid}        {ratio_ROIovlp1trackfid_selectron}+- {Eratio_ROIovlp1trackfid_selectron}%   {eff_ROIovlp1trackfid_selectron} +- {Eeff_ROIovlp1trackfid_selectron}%')\n",
    "print('--------!--------------!----------------!----------------')"
   ]
  },
  {
   "cell_type": "markdown",
   "metadata": {},
   "source": [
    "## Blob Assignation"
   ]
  },
  {
   "cell_type": "code",
   "execution_count": 37,
   "metadata": {},
   "outputs": [
    {
     "data": {
      "text/plain": [
       "Index(['event_id', 'particle_id', 'particle_name', 'primary', 'mother_id',\n",
       "       'initial_x', 'initial_y', 'initial_z', 'initial_t', 'final_x',\n",
       "       'final_y', 'final_z', 'final_t', 'initial_volume', 'final_volume',\n",
       "       'initial_momentum_x', 'initial_momentum_y', 'initial_momentum_z',\n",
       "       'final_momentum_x', 'final_momentum_y', 'final_momentum_z',\n",
       "       'kin_energy', 'length', 'creator_proc', 'final_proc'],\n",
       "      dtype='object')"
      ]
     },
     "execution_count": 37,
     "metadata": {},
     "output_type": "execute_result"
    }
   ],
   "source": [
    "#0nubb files\n",
    "true_list_0nubb, deco_list_0nubb = [],[]\n",
    "filepath_0nubb_true = filepath+'0nubb/hits/'\n",
    "\n",
    "#loop over all the files, to read 'HITS' information\n",
    "for nfile in range(1,max0nubbf):\n",
    "    \n",
    "    filename_0nubb_true = filepath_0nubb_true+f'next100.0nubb.{nfile}.deconv.h5'\n",
    "\n",
    "    try:\n",
    "        readfile_true_0nubb = pd.read_hdf(filename_0nubb_true, 'MC/particles')\n",
    "    except:\n",
    "        print('File {} not good'.format(filename_0nubb_true))\n",
    "        continue\n",
    "        \n",
    "    true_list_0nubb.append(readfile_true_0nubb)\n",
    "    \n",
    "#'concat' command means: 'concatenate pandas objects along a particular \n",
    "# axis with optional set logic along the other axes.' -> following line \n",
    "# is needed to keep an order between the files\n",
    "\n",
    "true_0nubb = pd.concat([dt for dt in true_list_0nubb]) \n",
    "true_0nubb.columns  "
   ]
  },
  {
   "cell_type": "code",
   "execution_count": 38,
   "metadata": {},
   "outputs": [
    {
     "name": "stdout",
     "output_type": "stream",
     "text": [
      "File /Users/halmamol/NEXT/files/NEXT100/beershebaFS/0nubb/hits/next100.0nubb.723.deconv.h5 not good\n",
      "File /Users/halmamol/NEXT/files/NEXT100/beershebaFS/0nubb/hits/next100.0nubb.724.deconv.h5 not good\n",
      "File /Users/halmamol/NEXT/files/NEXT100/beershebaFS/0nubb/hits/next100.0nubb.754.deconv.h5 not good\n",
      "File /Users/halmamol/NEXT/files/NEXT100/beershebaFS/0nubb/hits/next100.0nubb.764.deconv.h5 not good\n",
      "File /Users/halmamol/NEXT/files/NEXT100/beershebaFS/0nubb/hits/next100.0nubb.774.deconv.h5 not good\n"
     ]
    },
    {
     "data": {
      "text/plain": [
       "Index(['event', 'npeak', 'X', 'Y', 'Z', 'E'], dtype='object')"
      ]
     },
     "execution_count": 38,
     "metadata": {},
     "output_type": "execute_result"
    }
   ],
   "source": [
    "#0nubb files\n",
    "deco_list_0nubb = []\n",
    "\n",
    "filepath_0nubb_deco = filepath+f'0nubb/hits/'\n",
    "\n",
    "#loop over all the files, to read 'Tracks' information\n",
    "for nfile in range(1,max0nubbf):\n",
    "    \n",
    "    filename_0nubb = filepath_0nubb_deco+f'next100.0nubb.{nfile}.deconv.h5'\n",
    "    #the following lines are added because some of the files aren't there (I had to check Paola's notebook)\n",
    "    try:\n",
    "        readfile_deco = pd.read_hdf(filename_0nubb, 'DECO/Events')\n",
    "    except:\n",
    "        print('File {} not good'.format(filename_0nubb))\n",
    "        continue\n",
    "        \n",
    "    deco_list_0nubb.append(readfile_deco)\n",
    "    \n",
    "\n",
    "#'concat' command means: 'concatenate pandas objects along a particular \n",
    "# axis with optional set logic along the other axes.' -> following line \n",
    "# is needed to keep an order between the files\n",
    "\n",
    "deco_0nubb = pd.concat([dt for dt in deco_list_0nubb]) \n",
    "deco_0nubb.columns  "
   ]
  },
  {
   "cell_type": "code",
   "execution_count": 39,
   "metadata": {},
   "outputs": [
    {
     "data": {
      "text/html": [
       "<div>\n",
       "<style scoped>\n",
       "    .dataframe tbody tr th:only-of-type {\n",
       "        vertical-align: middle;\n",
       "    }\n",
       "\n",
       "    .dataframe tbody tr th {\n",
       "        vertical-align: top;\n",
       "    }\n",
       "\n",
       "    .dataframe thead th {\n",
       "        text-align: right;\n",
       "    }\n",
       "</style>\n",
       "<table border=\"1\" class=\"dataframe\">\n",
       "  <thead>\n",
       "    <tr style=\"text-align: right;\">\n",
       "      <th></th>\n",
       "      <th>event_id</th>\n",
       "      <th>particle_id</th>\n",
       "      <th>particle_name</th>\n",
       "      <th>primary</th>\n",
       "      <th>mother_id</th>\n",
       "      <th>initial_x</th>\n",
       "      <th>initial_y</th>\n",
       "      <th>initial_z</th>\n",
       "      <th>initial_t</th>\n",
       "      <th>final_x</th>\n",
       "      <th>...</th>\n",
       "      <th>initial_momentum_x</th>\n",
       "      <th>initial_momentum_y</th>\n",
       "      <th>initial_momentum_z</th>\n",
       "      <th>final_momentum_x</th>\n",
       "      <th>final_momentum_y</th>\n",
       "      <th>final_momentum_z</th>\n",
       "      <th>kin_energy</th>\n",
       "      <th>length</th>\n",
       "      <th>creator_proc</th>\n",
       "      <th>final_proc</th>\n",
       "    </tr>\n",
       "  </thead>\n",
       "  <tbody>\n",
       "    <tr>\n",
       "      <th>0</th>\n",
       "      <td>0</td>\n",
       "      <td>14743383</td>\n",
       "      <td>gamma</td>\n",
       "      <td>False</td>\n",
       "      <td>2</td>\n",
       "      <td>-198.271820</td>\n",
       "      <td>-256.607605</td>\n",
       "      <td>311.145691</td>\n",
       "      <td>0.218630</td>\n",
       "      <td>-198.084488</td>\n",
       "      <td>...</td>\n",
       "      <td>0.003226</td>\n",
       "      <td>-0.001909</td>\n",
       "      <td>-0.001354</td>\n",
       "      <td>0.0</td>\n",
       "      <td>-0.0</td>\n",
       "      <td>-0.0</td>\n",
       "      <td>0.003986</td>\n",
       "      <td>0.231452</td>\n",
       "      <td>eBrem</td>\n",
       "      <td>phot</td>\n",
       "    </tr>\n",
       "    <tr>\n",
       "      <th>1</th>\n",
       "      <td>0</td>\n",
       "      <td>14854918</td>\n",
       "      <td>e-</td>\n",
       "      <td>False</td>\n",
       "      <td>14743383</td>\n",
       "      <td>-198.084488</td>\n",
       "      <td>-256.718475</td>\n",
       "      <td>311.067047</td>\n",
       "      <td>0.219402</td>\n",
       "      <td>-198.084457</td>\n",
       "      <td>...</td>\n",
       "      <td>0.006188</td>\n",
       "      <td>0.003036</td>\n",
       "      <td>0.001210</td>\n",
       "      <td>-0.0</td>\n",
       "      <td>0.0</td>\n",
       "      <td>0.0</td>\n",
       "      <td>0.000048</td>\n",
       "      <td>0.000024</td>\n",
       "      <td>phot</td>\n",
       "      <td>Scintillation</td>\n",
       "    </tr>\n",
       "    <tr>\n",
       "      <th>2</th>\n",
       "      <td>0</td>\n",
       "      <td>14854917</td>\n",
       "      <td>e-</td>\n",
       "      <td>False</td>\n",
       "      <td>14743383</td>\n",
       "      <td>-198.084488</td>\n",
       "      <td>-256.718475</td>\n",
       "      <td>311.067047</td>\n",
       "      <td>0.219402</td>\n",
       "      <td>-198.084488</td>\n",
       "      <td>...</td>\n",
       "      <td>-0.001329</td>\n",
       "      <td>0.006434</td>\n",
       "      <td>0.002097</td>\n",
       "      <td>-0.0</td>\n",
       "      <td>-0.0</td>\n",
       "      <td>-0.0</td>\n",
       "      <td>0.000047</td>\n",
       "      <td>0.000050</td>\n",
       "      <td>phot</td>\n",
       "      <td>Scintillation</td>\n",
       "    </tr>\n",
       "    <tr>\n",
       "      <th>3</th>\n",
       "      <td>0</td>\n",
       "      <td>14854916</td>\n",
       "      <td>e-</td>\n",
       "      <td>False</td>\n",
       "      <td>14743383</td>\n",
       "      <td>-198.084488</td>\n",
       "      <td>-256.718475</td>\n",
       "      <td>311.067047</td>\n",
       "      <td>0.219402</td>\n",
       "      <td>-198.084488</td>\n",
       "      <td>...</td>\n",
       "      <td>-0.000592</td>\n",
       "      <td>-0.006582</td>\n",
       "      <td>-0.001970</td>\n",
       "      <td>0.0</td>\n",
       "      <td>0.0</td>\n",
       "      <td>0.0</td>\n",
       "      <td>0.000047</td>\n",
       "      <td>0.000024</td>\n",
       "      <td>phot</td>\n",
       "      <td>Scintillation</td>\n",
       "    </tr>\n",
       "    <tr>\n",
       "      <th>4</th>\n",
       "      <td>0</td>\n",
       "      <td>14854915</td>\n",
       "      <td>e-</td>\n",
       "      <td>False</td>\n",
       "      <td>14743383</td>\n",
       "      <td>-198.084488</td>\n",
       "      <td>-256.718475</td>\n",
       "      <td>311.067047</td>\n",
       "      <td>0.219402</td>\n",
       "      <td>-198.084656</td>\n",
       "      <td>...</td>\n",
       "      <td>-0.015960</td>\n",
       "      <td>0.015451</td>\n",
       "      <td>0.008377</td>\n",
       "      <td>-0.0</td>\n",
       "      <td>-0.0</td>\n",
       "      <td>-0.0</td>\n",
       "      <td>0.000551</td>\n",
       "      <td>0.000985</td>\n",
       "      <td>phot</td>\n",
       "      <td>Scintillation</td>\n",
       "    </tr>\n",
       "    <tr>\n",
       "      <th>5</th>\n",
       "      <td>0</td>\n",
       "      <td>14854914</td>\n",
       "      <td>e-</td>\n",
       "      <td>False</td>\n",
       "      <td>14743383</td>\n",
       "      <td>-198.084488</td>\n",
       "      <td>-256.718475</td>\n",
       "      <td>311.067047</td>\n",
       "      <td>0.219402</td>\n",
       "      <td>-198.084427</td>\n",
       "      <td>...</td>\n",
       "      <td>0.007276</td>\n",
       "      <td>0.001941</td>\n",
       "      <td>0.010619</td>\n",
       "      <td>0.0</td>\n",
       "      <td>0.0</td>\n",
       "      <td>0.0</td>\n",
       "      <td>0.000166</td>\n",
       "      <td>0.000317</td>\n",
       "      <td>phot</td>\n",
       "      <td>Scintillation</td>\n",
       "    </tr>\n",
       "    <tr>\n",
       "      <th>6</th>\n",
       "      <td>0</td>\n",
       "      <td>14854913</td>\n",
       "      <td>e-</td>\n",
       "      <td>False</td>\n",
       "      <td>14743383</td>\n",
       "      <td>-198.084488</td>\n",
       "      <td>-256.718475</td>\n",
       "      <td>311.067047</td>\n",
       "      <td>0.219402</td>\n",
       "      <td>-198.085205</td>\n",
       "      <td>...</td>\n",
       "      <td>-0.038018</td>\n",
       "      <td>-0.038454</td>\n",
       "      <td>-0.014558</td>\n",
       "      <td>0.0</td>\n",
       "      <td>0.0</td>\n",
       "      <td>0.0</td>\n",
       "      <td>0.003059</td>\n",
       "      <td>0.013139</td>\n",
       "      <td>phot</td>\n",
       "      <td>Scintillation</td>\n",
       "    </tr>\n",
       "    <tr>\n",
       "      <th>7</th>\n",
       "      <td>0</td>\n",
       "      <td>29046889</td>\n",
       "      <td>e-</td>\n",
       "      <td>False</td>\n",
       "      <td>2</td>\n",
       "      <td>-196.871140</td>\n",
       "      <td>-288.876251</td>\n",
       "      <td>321.973602</td>\n",
       "      <td>0.430943</td>\n",
       "      <td>-197.021393</td>\n",
       "      <td>...</td>\n",
       "      <td>-0.211537</td>\n",
       "      <td>-0.017156</td>\n",
       "      <td>0.079031</td>\n",
       "      <td>-0.0</td>\n",
       "      <td>0.0</td>\n",
       "      <td>0.0</td>\n",
       "      <td>0.047936</td>\n",
       "      <td>1.375517</td>\n",
       "      <td>eIoni</td>\n",
       "      <td>Scintillation</td>\n",
       "    </tr>\n",
       "    <tr>\n",
       "      <th>8</th>\n",
       "      <td>0</td>\n",
       "      <td>56290415</td>\n",
       "      <td>e-</td>\n",
       "      <td>False</td>\n",
       "      <td>2</td>\n",
       "      <td>-199.225845</td>\n",
       "      <td>-347.134033</td>\n",
       "      <td>334.436646</td>\n",
       "      <td>0.793654</td>\n",
       "      <td>-199.606995</td>\n",
       "      <td>...</td>\n",
       "      <td>0.204526</td>\n",
       "      <td>0.016255</td>\n",
       "      <td>-0.331930</td>\n",
       "      <td>0.0</td>\n",
       "      <td>-0.0</td>\n",
       "      <td>-0.0</td>\n",
       "      <td>0.131957</td>\n",
       "      <td>5.372118</td>\n",
       "      <td>eIoni</td>\n",
       "      <td>Scintillation</td>\n",
       "    </tr>\n",
       "    <tr>\n",
       "      <th>9</th>\n",
       "      <td>0</td>\n",
       "      <td>2</td>\n",
       "      <td>e-</td>\n",
       "      <td>True</td>\n",
       "      <td>0</td>\n",
       "      <td>-239.914810</td>\n",
       "      <td>-238.046280</td>\n",
       "      <td>316.365936</td>\n",
       "      <td>0.000000</td>\n",
       "      <td>-200.825760</td>\n",
       "      <td>...</td>\n",
       "      <td>2.549860</td>\n",
       "      <td>0.109969</td>\n",
       "      <td>0.684162</td>\n",
       "      <td>0.0</td>\n",
       "      <td>0.0</td>\n",
       "      <td>-0.0</td>\n",
       "      <td>2.180298</td>\n",
       "      <td>235.106247</td>\n",
       "      <td>none</td>\n",
       "      <td>Scintillation</td>\n",
       "    </tr>\n",
       "    <tr>\n",
       "      <th>10</th>\n",
       "      <td>0</td>\n",
       "      <td>1</td>\n",
       "      <td>e-</td>\n",
       "      <td>True</td>\n",
       "      <td>0</td>\n",
       "      <td>-239.914810</td>\n",
       "      <td>-238.046280</td>\n",
       "      <td>316.365936</td>\n",
       "      <td>0.000000</td>\n",
       "      <td>-240.744125</td>\n",
       "      <td>...</td>\n",
       "      <td>-0.013486</td>\n",
       "      <td>-0.226322</td>\n",
       "      <td>-0.556109</td>\n",
       "      <td>-0.0</td>\n",
       "      <td>0.0</td>\n",
       "      <td>-0.0</td>\n",
       "      <td>0.277532</td>\n",
       "      <td>17.443966</td>\n",
       "      <td>none</td>\n",
       "      <td>Scintillation</td>\n",
       "    </tr>\n",
       "  </tbody>\n",
       "</table>\n",
       "<p>11 rows × 25 columns</p>\n",
       "</div>"
      ],
      "text/plain": [
       "    event_id  particle_id particle_name  primary  mother_id   initial_x  \\\n",
       "0          0     14743383         gamma    False          2 -198.271820   \n",
       "1          0     14854918            e-    False   14743383 -198.084488   \n",
       "2          0     14854917            e-    False   14743383 -198.084488   \n",
       "3          0     14854916            e-    False   14743383 -198.084488   \n",
       "4          0     14854915            e-    False   14743383 -198.084488   \n",
       "5          0     14854914            e-    False   14743383 -198.084488   \n",
       "6          0     14854913            e-    False   14743383 -198.084488   \n",
       "7          0     29046889            e-    False          2 -196.871140   \n",
       "8          0     56290415            e-    False          2 -199.225845   \n",
       "9          0            2            e-     True          0 -239.914810   \n",
       "10         0            1            e-     True          0 -239.914810   \n",
       "\n",
       "     initial_y   initial_z  initial_t     final_x  ...  initial_momentum_x  \\\n",
       "0  -256.607605  311.145691   0.218630 -198.084488  ...            0.003226   \n",
       "1  -256.718475  311.067047   0.219402 -198.084457  ...            0.006188   \n",
       "2  -256.718475  311.067047   0.219402 -198.084488  ...           -0.001329   \n",
       "3  -256.718475  311.067047   0.219402 -198.084488  ...           -0.000592   \n",
       "4  -256.718475  311.067047   0.219402 -198.084656  ...           -0.015960   \n",
       "5  -256.718475  311.067047   0.219402 -198.084427  ...            0.007276   \n",
       "6  -256.718475  311.067047   0.219402 -198.085205  ...           -0.038018   \n",
       "7  -288.876251  321.973602   0.430943 -197.021393  ...           -0.211537   \n",
       "8  -347.134033  334.436646   0.793654 -199.606995  ...            0.204526   \n",
       "9  -238.046280  316.365936   0.000000 -200.825760  ...            2.549860   \n",
       "10 -238.046280  316.365936   0.000000 -240.744125  ...           -0.013486   \n",
       "\n",
       "    initial_momentum_y  initial_momentum_z final_momentum_x final_momentum_y  \\\n",
       "0            -0.001909           -0.001354              0.0             -0.0   \n",
       "1             0.003036            0.001210             -0.0              0.0   \n",
       "2             0.006434            0.002097             -0.0             -0.0   \n",
       "3            -0.006582           -0.001970              0.0              0.0   \n",
       "4             0.015451            0.008377             -0.0             -0.0   \n",
       "5             0.001941            0.010619              0.0              0.0   \n",
       "6            -0.038454           -0.014558              0.0              0.0   \n",
       "7            -0.017156            0.079031             -0.0              0.0   \n",
       "8             0.016255           -0.331930              0.0             -0.0   \n",
       "9             0.109969            0.684162              0.0              0.0   \n",
       "10           -0.226322           -0.556109             -0.0              0.0   \n",
       "\n",
       "    final_momentum_z  kin_energy      length  creator_proc     final_proc  \n",
       "0               -0.0    0.003986    0.231452         eBrem           phot  \n",
       "1                0.0    0.000048    0.000024          phot  Scintillation  \n",
       "2               -0.0    0.000047    0.000050          phot  Scintillation  \n",
       "3                0.0    0.000047    0.000024          phot  Scintillation  \n",
       "4               -0.0    0.000551    0.000985          phot  Scintillation  \n",
       "5                0.0    0.000166    0.000317          phot  Scintillation  \n",
       "6                0.0    0.003059    0.013139          phot  Scintillation  \n",
       "7                0.0    0.047936    1.375517         eIoni  Scintillation  \n",
       "8               -0.0    0.131957    5.372118         eIoni  Scintillation  \n",
       "9               -0.0    2.180298  235.106247          none  Scintillation  \n",
       "10              -0.0    0.277532   17.443966          none  Scintillation  \n",
       "\n",
       "[11 rows x 25 columns]"
      ]
     },
     "execution_count": 39,
     "metadata": {},
     "output_type": "execute_result"
    }
   ],
   "source": [
    "true_0nubb_primary = true_0nubb[true_0nubb.primary == True]\n",
    "true_0nubb_primary_part1 = true_0nubb_primary[true_0nubb_primary.particle_id == 1]\n",
    "true_0nubb_primary_part2 = true_0nubb_primary[true_0nubb_primary.particle_id == 2]\n",
    "true_0nubb_event0 = true_0nubb[true_0nubb.event_id == 0]\n",
    "true_0nubb_event0"
   ]
  },
  {
   "cell_type": "code",
   "execution_count": 40,
   "metadata": {},
   "outputs": [],
   "source": [
    "def blobassignation_closestPaola(true_info, deco_info, reco_info, tag):\n",
    "    radius = 21 #mm\n",
    "    diff_b1_x, diff_b1_y, diff_b1_z = [], [], []\n",
    "    diff_b2_x, diff_b2_y, diff_b2_z = [], [], []\n",
    "    \n",
    "    ehitsblob1, ehitsblob2 = [], []\n",
    "    diff1_x, diff1_y, diff1_z = [], [], []\n",
    "    diff2_x, diff2_y, diff2_z = [], [], []\n",
    "    reco1_x, reco1_y, reco1_z = [], [], []\n",
    "    reco2_x, reco2_y, reco2_z = [], [], []\n",
    "    true1_x, true1_y, true1_z = [], [], []\n",
    "    true2_x, true2_y, true2_z = [], [], []\n",
    "    reco_blob1, reco_blob2 = [], []\n",
    "\n",
    "    #[0] e_reco, [1] e_blob1, [2] e_blob2\n",
    "    reco_e, reco_e_track, reco_e_blob1, reco_e_blob2, reco_e_event = [], [], [], [], []\n",
    "\n",
    "    totalevents, events12AB, events12BA, eventsNA = 0, 0, 0, 0\n",
    "\n",
    "    direction12, direction21 = False, False\n",
    "\n",
    "    for nevt in range(1,true_info.event_id.nunique()):\n",
    "        print(f'Entered in the loop - event = {nevt}')\n",
    "        if nevt not in reco_info.event.unique():\n",
    "            continue\n",
    "        if nevt not in true_info.event_id.unique():\n",
    "            continue\n",
    "        \n",
    "        primary = true_info[(true_info.event_id == nevt) &\n",
    "                                               (true_info.primary == True)]\n",
    "        \n",
    "        the_hits = deco_0nubb[deco_0nubb.event == nevt]\n",
    "        \n",
    "        reco_e_track.append(float(reco_info[reco_info.event == nevt].energy.values))\n",
    "        reco_e_event.append(nevt)\n",
    "        \n",
    "        extreme1 = np.array([primary.final_x.values, primary.final_y.values, primary.final_z.values])\n",
    "        extreme2 = np.array([primary.initial_x.values, primary.initial_y.values, primary.initial_z.values])       \n",
    "        \n",
    "        hit_pos = np.array([the_hits.X.values, the_hits.Y.values, the_hits.Z.values]).transpose()\n",
    "        hit_e   = the_hits.E\n",
    "    \n",
    "        dist1 = scidist.cdist(extreme1.transpose(), hit_pos)\n",
    "        dist2 = scidist.cdist(extreme2.transpose(), hit_pos)\n",
    "        \n",
    "        in_blob1 = dist1 < radius\n",
    "        in_blob2 = dist2 < radius\n",
    "        \n",
    "        reco_blob1.append(reco_info.eblob1)\n",
    "        reco_blob2.append(reco_info.eblob2)\n",
    "        \n",
    "        diff1_x.append(reco_info.blob1_x.values[0] - extreme1.transpose()[0][0])\n",
    "        diff1_y.append(reco_info.blob1_y.values[0] - extreme1.transpose()[0][1])\n",
    "        diff1_z.append(reco_info.blob1_z.values[0] - extreme1.transpose()[0][2])\n",
    "    \n",
    "        diff2_x.append(reco_info.blob2_x.values[0] - extreme2.transpose()[0][0])\n",
    "        diff2_y.append(reco_info.blob2_y.values[0] - extreme2.transpose()[0][1])\n",
    "        diff2_z.append(reco_info.blob2_z.values[0] - extreme2.transpose()[0][2])\n",
    "        \n",
    "        reco1_x.append(reco_info.blob1_x.values[0])\n",
    "        reco1_y.append(reco_info.blob1_y.values[0])\n",
    "        reco1_z.append(reco_info.blob1_z.values[0])\n",
    "        reco2_x.append(reco_info.blob2_x.values[0])\n",
    "        reco2_y.append(reco_info.blob2_y.values[0])\n",
    "        reco2_z.append(reco_info.blob2_z.values[0])\n",
    "        \n",
    "        true1_x.append(extreme1.transpose()[0][0])\n",
    "        true1_y.append(extreme1.transpose()[0][1])\n",
    "        true1_z.append(extreme1.transpose()[0][2])\n",
    "        true2_x.append(extreme2.transpose()[0][0])\n",
    "        true2_y.append(extreme2.transpose()[0][1])\n",
    "        true2_z.append(extreme2.transpose()[0][2])\n",
    "        \n",
    "\n",
    "    reco_e_blob1 = np.array(reco_blob1)\n",
    "    reco_e_blob2 = np.array(reco_blob2)\n",
    "\n",
    "    diff_b1_x = np.array(diff1_x)\n",
    "    diff_b2_x = np.array(diff2_x)\n",
    "    diff_b1_y = np.array(diff1_y)\n",
    "    diff_b2_y = np.array(diff2_y)\n",
    "\n",
    "    reco1_x = np.array(reco1_x)\n",
    "    reco2_x = np.array(reco2_x)\n",
    "    reco1_y = np.array(reco1_y)\n",
    "    reco2_y = np.array(reco2_y)\n",
    "\n",
    "    true1_x = np.array(true1_x)\n",
    "    true2_x = np.array(true2_x)\n",
    "    true1_y = np.array(true1_y)\n",
    "    true2_y = np.array(true2_y)\n",
    "    \n",
    "    \n",
    "    reco_e_blob1 = np.array(reco_e_blob1, dtype=np.float)\n",
    "    reco_e_blob2 = np.array(reco_e_blob2, dtype=np.float)\n",
    "    reco_e_track = np.array(reco_e_track, dtype=np.float)\n",
    "    reco_e_event = np.array(reco_e_event, dtype=np.float)\n",
    "\n",
    "    reco_e.append(reco_e_track)\n",
    "    reco_e.append(reco_e_blob1)\n",
    "    reco_e.append(reco_e_blob2)\n",
    "    reco_e.append(reco_e_event)\n",
    "    \n",
    "    return diff_b1_x, diff_b1_y, diff_b2_x, diff_b2_y, reco_e"
   ]
  },
  {
   "cell_type": "code",
   "execution_count": 48,
   "metadata": {},
   "outputs": [
    {
     "name": "stdout",
     "output_type": "stream",
     "text": [
      "Total events = 4365\n",
      "Events 12 = 2194 (50.26345933562428%)\n",
      "Events 21 = 2171 (49.73654066437572%)\n",
      "Events NA = 0 (0.0%)\n"
     ]
    }
   ],
   "source": [
    "diff_b1_x_0nubb, diff_b1_y_0nubb, diff_b1_z_0nubb = [], [], []\n",
    "diff_b2_x_0nubb, diff_b2_y_0nubb, diff_b2_z_0nubb = [], [], []\n",
    "\n",
    "reco_0nubb_e = []\n",
    "\n",
    "diff_b1_x_0nubb, diff_b1_y_0nubb, diff_b2_x_0nubb, diff_b2_y_0nubb, reco_0nubb_e = myrvt.blobassignation(true_0nubb, tracks_0nubb_ROIovlp1trackfid, 'signal')\n"
   ]
  },
  {
   "cell_type": "code",
   "execution_count": 49,
   "metadata": {},
   "outputs": [
    {
     "data": {
      "image/png": "[encoded data removed]",
      "text/plain": [
       "<Figure size 432x288 with 1 Axes>"
      ]
     },
     "metadata": {
      "needs_background": "light"
     },
     "output_type": "display_data"
    }
   ],
   "source": [
    "plt.hist(diff_b1_x_0nubb, bins = 50, color='red', histtype='step', label = 'x blob1')\n",
    "plt.hist(diff_b1_y_0nubb, bins = 50, color='blue', histtype='step', label = 'y blob1', linestyle='dashed')\n",
    "\n",
    "plt.xlabel('reco[tracks] - true[particle] (mm)')\n",
    "plt.ylabel('events (a.u.)')\n",
    "plt.title('0nubb')\n",
    "plt.legend(loc=1);\n",
    "plt.show()"
   ]
  },
  {
   "cell_type": "code",
   "execution_count": 50,
   "metadata": {},
   "outputs": [
    {
     "data": {
      "image/png": "[encoded data removed]",
      "text/plain": [
       "<Figure size 432x288 with 1 Axes>"
      ]
     },
     "metadata": {
      "needs_background": "light"
     },
     "output_type": "display_data"
    }
   ],
   "source": [
    "plt.hist(diff_b2_x_0nubb, bins = 50, color='red', histtype='step', label = 'x blob2')\n",
    "plt.hist(diff_b2_y_0nubb, bins = 50, color='blue', histtype='step', label = 'y blob2', linestyle='dashed')\n",
    "\n",
    "plt.xlabel('reco[tracks] - true[particle] (mm)')\n",
    "plt.ylabel('events (a.u.)')\n",
    "plt.title('0nubb')\n",
    "plt.legend(loc=1);\n",
    "plt.show()"
   ]
  },
  {
   "cell_type": "code",
   "execution_count": 51,
   "metadata": {},
   "outputs": [
    {
     "data": {
      "text/plain": [
       "<matplotlib.colorbar.Colorbar at 0x1266f9fa0>"
      ]
     },
     "execution_count": 51,
     "metadata": {},
     "output_type": "execute_result"
    },
    {
     "data": {
      "image/png": "[encoded data removed]",
      "text/plain": [
       "<Figure size 432x288 with 2 Axes>"
      ]
     },
     "metadata": {
      "needs_background": "light"
     },
     "output_type": "display_data"
    }
   ],
   "source": [
    "plt.hist2d(diff_b1_x_0nubb, diff_b1_y_0nubb, bins=(30, 30), range=((-50, 50), (-50, 50)), cmap='viridis', cmin=0.001)\n",
    "plt.xlabel('blob-1 reco_x - true_x (mm)')\n",
    "plt.ylabel('blob-1 reco_y - true_y (mm)')\n",
    "plt.title('0nubb')\n",
    "#plt.xlim((0.0,1.5))\n",
    "plt.colorbar(label='events')"
   ]
  },
  {
   "cell_type": "code",
   "execution_count": 52,
   "metadata": {},
   "outputs": [
    {
     "data": {
      "text/plain": [
       "<matplotlib.colorbar.Colorbar at 0x127950130>"
      ]
     },
     "execution_count": 52,
     "metadata": {},
     "output_type": "execute_result"
    },
    {
     "data": {
      "image/png": "[encoded data removed]",
      "text/plain": [
       "<Figure size 432x288 with 2 Axes>"
      ]
     },
     "metadata": {
      "needs_background": "light"
     },
     "output_type": "display_data"
    }
   ],
   "source": [
    "plt.hist2d(diff_b2_x_0nubb, diff_b2_y_0nubb, bins=(30, 30), range=((-50, 50), (-50, 50)), cmap='viridis', cmin=0.001)\n",
    "plt.xlabel('blob-2 reco_x - true_x (mm)')\n",
    "plt.ylabel('blob-2 reco_y - true_y (mm)')\n",
    "plt.title('0nubb')\n",
    "#plt.xlim((0.0,1.5))\n",
    "plt.colorbar(label='events')"
   ]
  },
  {
   "cell_type": "code",
   "execution_count": 40,
   "metadata": {},
   "outputs": [
    {
     "data": {
      "text/plain": [
       "Index(['event_id', 'particle_id', 'particle_name', 'primary', 'mother_id',\n",
       "       'initial_x', 'initial_y', 'initial_z', 'initial_t', 'final_x',\n",
       "       'final_y', 'final_z', 'final_t', 'initial_volume', 'final_volume',\n",
       "       'initial_momentum_x', 'initial_momentum_y', 'initial_momentum_z',\n",
       "       'final_momentum_x', 'final_momentum_y', 'final_momentum_z',\n",
       "       'kin_energy', 'length', 'creator_proc', 'final_proc'],\n",
       "      dtype='object')"
      ]
     },
     "execution_count": 40,
     "metadata": {},
     "output_type": "execute_result"
    }
   ],
   "source": [
    "#single electron files\n",
    "true_list_selectron = []\n",
    "filepath_selectron_true = filepath+'e-_roi/hits/'\n",
    "\n",
    "#loop over all the files, to read 'HITS' information\n",
    "for nfile in range(1,max0nubbf):\n",
    "    \n",
    "    filename_selectron_true = filepath_selectron_true+f'next100.e-_roi.{nfile}.deconv.h5'\n",
    "\n",
    "    try:\n",
    "        readfile_true_selectron = pd.read_hdf(filename_selectron_true, 'MC/particles')\n",
    "    except:\n",
    "        print('File {} not good'.format(filename_selectron_true))\n",
    "        continue\n",
    "        \n",
    "    true_list_selectron.append(readfile_true_selectron)\n",
    "    \n",
    "#'concat' command means: 'concatenate pandas objects along a particular \n",
    "# axis with optional set logic along the other axes.' -> following line \n",
    "# is needed to keep an order between the files\n",
    "\n",
    "true_selectron = pd.concat([dt for dt in true_list_selectron]) \n",
    "true_selectron.columns  "
   ]
  },
  {
   "cell_type": "code",
   "execution_count": 41,
   "metadata": {},
   "outputs": [],
   "source": [
    "true_selectron_primary = true_selectron[true_selectron.primary == True]\n",
    "\n",
    "true_selectron_primary_part1 = true_selectron_primary[true_selectron_primary.particle_id == 1]\n",
    "true_selectron_primary_part2 = true_selectron_primary[true_selectron_primary.particle_id == 2]"
   ]
  },
  {
   "cell_type": "code",
   "execution_count": 42,
   "metadata": {},
   "outputs": [
    {
     "name": "stdout",
     "output_type": "stream",
     "text": [
      "Total events = 4224\n",
      "Events 12 = 420 (9.943181818181818%)\n",
      "Events 21 = 3804 (90.05681818181819%)\n",
      "Events NA = 0 (0.0%)\n"
     ]
    }
   ],
   "source": [
    "diff_b1_x_selectron, diff_b1_y_selectron, diff_b1_z_selectron = [], [], []\n",
    "diff_b2_x_selectron, diff_b2_y_selectron, diff_b2_z_selectron = [], [], []\n",
    "\n",
    "reco_selectron_e = []\n",
    "\n",
    "diff_b1_x_selectron, diff_b1_y_selectron, diff_b2_x_selectron, diff_b2_y_selectron, reco_selectron_e = myrvt.blobassignation(true_selectron, tracks_selectron_ROIovlp1trackfid, 'bkg')"
   ]
  },
  {
   "cell_type": "code",
   "execution_count": 43,
   "metadata": {},
   "outputs": [
    {
     "data": {
      "image/png": "[encoded data removed]",
      "text/plain": [
       "<Figure size 432x288 with 1 Axes>"
      ]
     },
     "metadata": {
      "needs_background": "light"
     },
     "output_type": "display_data"
    },
    {
     "data": {
      "text/plain": [
       "0.14350114890539725"
      ]
     },
     "execution_count": 43,
     "metadata": {},
     "output_type": "execute_result"
    }
   ],
   "source": [
    "plt.hist(diff_b1_x_selectron, bins = 50, color='red', histtype='step', label = 'x blob1')\n",
    "plt.hist(diff_b1_y_selectron, bins = 50, color='blue', histtype='step', label = 'y blob1', linestyle='dashed')\n",
    "\n",
    "plt.xlabel('reco[tracks] - true[particle] (mm)')\n",
    "plt.ylabel('events (a.u.)')\n",
    "plt.title('Single Electron')\n",
    "plt.legend(loc=1);\n",
    "plt.show()\n",
    "(np.mean(diff_b1_x_selectron)+np.mean(diff_b1_y_selectron))/2"
   ]
  },
  {
   "cell_type": "code",
   "execution_count": 49,
   "metadata": {},
   "outputs": [
    {
     "data": {
      "image/png": "[encoded data removed]",
      "text/plain": [
       "<Figure size 432x288 with 1 Axes>"
      ]
     },
     "metadata": {
      "needs_background": "light"
     },
     "output_type": "display_data"
    },
    {
     "data": {
      "text/plain": [
       "-0.7098693545382146"
      ]
     },
     "execution_count": 49,
     "metadata": {},
     "output_type": "execute_result"
    }
   ],
   "source": [
    "plt.hist(diff_b2_x_selectron, bins = 50, color='red', histtype='step', label = 'x blob2')\n",
    "plt.hist(diff_b2_y_selectron, bins = 50, color='blue', histtype='step', label = 'y blob2', linestyle='dashed')\n",
    "\n",
    "plt.xlabel('reco[tracks] - true[particle] (mm)')\n",
    "plt.ylabel('events (a.u.)')\n",
    "plt.title('Single Electron')\n",
    "plt.legend(loc=1);\n",
    "plt.show()\n",
    "\n",
    "(np.mean(diff_b2_x_selectron)+np.mean(diff_b2_y_selectron))/2"
   ]
  },
  {
   "cell_type": "code",
   "execution_count": 45,
   "metadata": {},
   "outputs": [
    {
     "data": {
      "text/plain": [
       "<matplotlib.colorbar.Colorbar at 0x1253154c0>"
      ]
     },
     "execution_count": 45,
     "metadata": {},
     "output_type": "execute_result"
    },
    {
     "data": {
      "image/png": "[encoded data removed]",
      "text/plain": [
       "<Figure size 432x288 with 2 Axes>"
      ]
     },
     "metadata": {
      "needs_background": "light"
     },
     "output_type": "display_data"
    }
   ],
   "source": [
    "plt.hist2d(diff_b1_x_selectron, diff_b1_y_selectron, bins=(30, 30), range=((-50, 50), (-50, 50)), cmap='viridis', cmin=0.001)\n",
    "plt.xlabel('blob-1 reco_x - true_x (mm)')\n",
    "plt.ylabel('blob-1 reco_y - true_y (mm)')\n",
    "plt.title('Single Electron')\n",
    "#plt.xlim((0.0,1.5))\n",
    "plt.colorbar(label='events')"
   ]
  },
  {
   "cell_type": "code",
   "execution_count": 46,
   "metadata": {},
   "outputs": [
    {
     "data": {
      "text/plain": [
       "<matplotlib.colorbar.Colorbar at 0x12f445190>"
      ]
     },
     "execution_count": 46,
     "metadata": {},
     "output_type": "execute_result"
    },
    {
     "data": {
      "image/png": "[encoded data removed]",
      "text/plain": [
       "<Figure size 432x288 with 2 Axes>"
      ]
     },
     "metadata": {
      "needs_background": "light"
     },
     "output_type": "display_data"
    }
   ],
   "source": [
    "plt.hist2d(diff_b2_x_selectron, diff_b2_y_selectron, bins=(30, 30), range=((-50, 50), (-50, 50)), cmap='viridis', cmin=0.001)\n",
    "plt.xlabel('blob-2 reco_x - true_x (mm)')\n",
    "plt.ylabel('blob-2 reco_y - true_y (mm)')\n",
    "plt.title('Single Electron')\n",
    "#plt.xlim((0.0,1.5))\n",
    "plt.colorbar(label='events')"
   ]
  },
  {
   "cell_type": "code",
   "execution_count": 48,
   "metadata": {},
   "outputs": [],
   "source": [
    "npz_file = '/Users/halmamol/NEXT/NBarrays/recovstrue_FULLSIM_tb'\n",
    "np.savez(npz_file, diff_b1_x_0nubb=diff_b1_x_0nubb, diff_b1_y_0nubb=diff_b1_y_0nubb, diff_b1_z_0nubb=diff_b1_z_0nubb,\n",
    "          diff_b2_x_0nubb=diff_b2_x_0nubb, diff_b2_y_0nubb=diff_b2_y_0nubb, diff_b2_z_0nubb=diff_b2_z_0nubb,\n",
    "         diff_b1_x_selectron=diff_b1_x_selectron, diff_b1_y_selectron=diff_b1_y_selectron, diff_b1_z_selectron=diff_b1_z_selectron,\n",
    "         diff_b2_x_selectron=diff_b2_x_selectron, diff_b2_y_selectron=diff_b2_y_selectron, diff_b2_z_selectron=diff_b2_z_selectron)\n"
   ]
  },
  {
   "cell_type": "markdown",
   "metadata": {},
   "source": [
    "## Check skel values"
   ]
  },
  {
   "cell_type": "code",
   "execution_count": 53,
   "metadata": {},
   "outputs": [
    {
     "data": {
      "text/html": [
       "<div>\n",
       "<style scoped>\n",
       "    .dataframe tbody tr th:only-of-type {\n",
       "        vertical-align: middle;\n",
       "    }\n",
       "\n",
       "    .dataframe tbody tr th {\n",
       "        vertical-align: top;\n",
       "    }\n",
       "\n",
       "    .dataframe thead th {\n",
       "        text-align: right;\n",
       "    }\n",
       "</style>\n",
       "<table border=\"1\" class=\"dataframe\">\n",
       "  <thead>\n",
       "    <tr style=\"text-align: right;\">\n",
       "      <th></th>\n",
       "      <th>event</th>\n",
       "      <th>trackID</th>\n",
       "      <th>energy</th>\n",
       "      <th>length</th>\n",
       "      <th>numb_of_voxels</th>\n",
       "      <th>numb_of_hits</th>\n",
       "      <th>numb_of_tracks</th>\n",
       "      <th>x_min</th>\n",
       "      <th>y_min</th>\n",
       "      <th>z_min</th>\n",
       "      <th>...</th>\n",
       "      <th>blob1_z</th>\n",
       "      <th>blob2_x</th>\n",
       "      <th>blob2_y</th>\n",
       "      <th>blob2_z</th>\n",
       "      <th>eblob1</th>\n",
       "      <th>eblob2</th>\n",
       "      <th>ovlp_blob_energy</th>\n",
       "      <th>vox_size_x</th>\n",
       "      <th>vox_size_y</th>\n",
       "      <th>vox_size_z</th>\n",
       "    </tr>\n",
       "  </thead>\n",
       "  <tbody>\n",
       "    <tr>\n",
       "      <th>0</th>\n",
       "      <td>0</td>\n",
       "      <td>0</td>\n",
       "      <td>2.475813</td>\n",
       "      <td>183.394771</td>\n",
       "      <td>837</td>\n",
       "      <td>30521</td>\n",
       "      <td>1</td>\n",
       "      <td>-260.5</td>\n",
       "      <td>-369.5</td>\n",
       "      <td>310.205250</td>\n",
       "      <td>...</td>\n",
       "      <td>337.725232</td>\n",
       "      <td>-239.038462</td>\n",
       "      <td>-237.934783</td>\n",
       "      <td>316.151619</td>\n",
       "      <td>0.740607</td>\n",
       "      <td>0.473045</td>\n",
       "      <td>0.0</td>\n",
       "      <td>4.888889</td>\n",
       "      <td>4.903226</td>\n",
       "      <td>4.682453</td>\n",
       "    </tr>\n",
       "    <tr>\n",
       "      <th>0</th>\n",
       "      <td>2</td>\n",
       "      <td>0</td>\n",
       "      <td>2.445390</td>\n",
       "      <td>109.413607</td>\n",
       "      <td>892</td>\n",
       "      <td>30547</td>\n",
       "      <td>1</td>\n",
       "      <td>96.5</td>\n",
       "      <td>-146.5</td>\n",
       "      <td>784.210875</td>\n",
       "      <td>...</td>\n",
       "      <td>822.507895</td>\n",
       "      <td>144.375000</td>\n",
       "      <td>-129.166667</td>\n",
       "      <td>790.326980</td>\n",
       "      <td>0.620332</td>\n",
       "      <td>0.534821</td>\n",
       "      <td>0.0</td>\n",
       "      <td>4.842105</td>\n",
       "      <td>4.666667</td>\n",
       "      <td>4.628229</td>\n",
       "    </tr>\n",
       "    <tr>\n",
       "      <th>0</th>\n",
       "      <td>4</td>\n",
       "      <td>0</td>\n",
       "      <td>2.489506</td>\n",
       "      <td>130.117362</td>\n",
       "      <td>915</td>\n",
       "      <td>31911</td>\n",
       "      <td>1</td>\n",
       "      <td>-453.5</td>\n",
       "      <td>-79.5</td>\n",
       "      <td>641.252813</td>\n",
       "      <td>...</td>\n",
       "      <td>649.386413</td>\n",
       "      <td>-418.800000</td>\n",
       "      <td>-58.062500</td>\n",
       "      <td>706.292077</td>\n",
       "      <td>0.650352</td>\n",
       "      <td>0.632028</td>\n",
       "      <td>0.0</td>\n",
       "      <td>4.666667</td>\n",
       "      <td>4.733333</td>\n",
       "      <td>4.915485</td>\n",
       "    </tr>\n",
       "    <tr>\n",
       "      <th>0</th>\n",
       "      <td>6</td>\n",
       "      <td>0</td>\n",
       "      <td>2.477250</td>\n",
       "      <td>124.884078</td>\n",
       "      <td>820</td>\n",
       "      <td>30546</td>\n",
       "      <td>1</td>\n",
       "      <td>20.5</td>\n",
       "      <td>-416.5</td>\n",
       "      <td>825.211250</td>\n",
       "      <td>...</td>\n",
       "      <td>888.536990</td>\n",
       "      <td>32.909091</td>\n",
       "      <td>-379.350000</td>\n",
       "      <td>831.376995</td>\n",
       "      <td>0.882183</td>\n",
       "      <td>0.443271</td>\n",
       "      <td>0.0</td>\n",
       "      <td>4.882353</td>\n",
       "      <td>4.875000</td>\n",
       "      <td>4.900092</td>\n",
       "    </tr>\n",
       "    <tr>\n",
       "      <th>0</th>\n",
       "      <td>7</td>\n",
       "      <td>0</td>\n",
       "      <td>2.463079</td>\n",
       "      <td>133.159004</td>\n",
       "      <td>860</td>\n",
       "      <td>30028</td>\n",
       "      <td>1</td>\n",
       "      <td>-306.5</td>\n",
       "      <td>150.5</td>\n",
       "      <td>404.103688</td>\n",
       "      <td>...</td>\n",
       "      <td>471.442373</td>\n",
       "      <td>-298.166667</td>\n",
       "      <td>168.000000</td>\n",
       "      <td>407.008627</td>\n",
       "      <td>0.923006</td>\n",
       "      <td>0.145184</td>\n",
       "      <td>0.0</td>\n",
       "      <td>4.750000</td>\n",
       "      <td>4.842105</td>\n",
       "      <td>4.841816</td>\n",
       "    </tr>\n",
       "    <tr>\n",
       "      <th>...</th>\n",
       "      <td>...</td>\n",
       "      <td>...</td>\n",
       "      <td>...</td>\n",
       "      <td>...</td>\n",
       "      <td>...</td>\n",
       "      <td>...</td>\n",
       "      <td>...</td>\n",
       "      <td>...</td>\n",
       "      <td>...</td>\n",
       "      <td>...</td>\n",
       "      <td>...</td>\n",
       "      <td>...</td>\n",
       "      <td>...</td>\n",
       "      <td>...</td>\n",
       "      <td>...</td>\n",
       "      <td>...</td>\n",
       "      <td>...</td>\n",
       "      <td>...</td>\n",
       "      <td>...</td>\n",
       "      <td>...</td>\n",
       "      <td>...</td>\n",
       "    </tr>\n",
       "    <tr>\n",
       "      <th>0</th>\n",
       "      <td>9967</td>\n",
       "      <td>0</td>\n",
       "      <td>2.455584</td>\n",
       "      <td>106.038099</td>\n",
       "      <td>797</td>\n",
       "      <td>29876</td>\n",
       "      <td>1</td>\n",
       "      <td>213.5</td>\n",
       "      <td>-212.5</td>\n",
       "      <td>473.238688</td>\n",
       "      <td>...</td>\n",
       "      <td>530.624842</td>\n",
       "      <td>241.000000</td>\n",
       "      <td>-166.833333</td>\n",
       "      <td>479.329049</td>\n",
       "      <td>0.627861</td>\n",
       "      <td>0.539119</td>\n",
       "      <td>0.0</td>\n",
       "      <td>4.823529</td>\n",
       "      <td>5.000000</td>\n",
       "      <td>4.673143</td>\n",
       "    </tr>\n",
       "    <tr>\n",
       "      <th>0</th>\n",
       "      <td>9968</td>\n",
       "      <td>0</td>\n",
       "      <td>2.468272</td>\n",
       "      <td>110.020762</td>\n",
       "      <td>699</td>\n",
       "      <td>25560</td>\n",
       "      <td>1</td>\n",
       "      <td>-185.5</td>\n",
       "      <td>-71.5</td>\n",
       "      <td>204.451219</td>\n",
       "      <td>...</td>\n",
       "      <td>223.926988</td>\n",
       "      <td>-155.269231</td>\n",
       "      <td>-15.812500</td>\n",
       "      <td>227.932434</td>\n",
       "      <td>0.847896</td>\n",
       "      <td>0.701455</td>\n",
       "      <td>0.0</td>\n",
       "      <td>4.947368</td>\n",
       "      <td>4.857143</td>\n",
       "      <td>4.385363</td>\n",
       "    </tr>\n",
       "    <tr>\n",
       "      <th>0</th>\n",
       "      <td>9970</td>\n",
       "      <td>0</td>\n",
       "      <td>2.469461</td>\n",
       "      <td>90.904116</td>\n",
       "      <td>897</td>\n",
       "      <td>30190</td>\n",
       "      <td>1</td>\n",
       "      <td>-292.5</td>\n",
       "      <td>-1.5</td>\n",
       "      <td>1024.213125</td>\n",
       "      <td>...</td>\n",
       "      <td>1039.834541</td>\n",
       "      <td>-271.000000</td>\n",
       "      <td>9.714286</td>\n",
       "      <td>1072.888482</td>\n",
       "      <td>0.723023</td>\n",
       "      <td>0.438821</td>\n",
       "      <td>0.0</td>\n",
       "      <td>4.666667</td>\n",
       "      <td>4.727273</td>\n",
       "      <td>4.683063</td>\n",
       "    </tr>\n",
       "    <tr>\n",
       "      <th>0</th>\n",
       "      <td>9973</td>\n",
       "      <td>0</td>\n",
       "      <td>2.485147</td>\n",
       "      <td>107.602833</td>\n",
       "      <td>721</td>\n",
       "      <td>28856</td>\n",
       "      <td>1</td>\n",
       "      <td>2.5</td>\n",
       "      <td>-460.5</td>\n",
       "      <td>794.134437</td>\n",
       "      <td>...</td>\n",
       "      <td>829.549634</td>\n",
       "      <td>18.923077</td>\n",
       "      <td>-428.071429</td>\n",
       "      <td>810.160705</td>\n",
       "      <td>0.738507</td>\n",
       "      <td>0.555913</td>\n",
       "      <td>0.0</td>\n",
       "      <td>5.000000</td>\n",
       "      <td>5.000000</td>\n",
       "      <td>4.625368</td>\n",
       "    </tr>\n",
       "    <tr>\n",
       "      <th>0</th>\n",
       "      <td>9975</td>\n",
       "      <td>0</td>\n",
       "      <td>2.466608</td>\n",
       "      <td>118.845805</td>\n",
       "      <td>658</td>\n",
       "      <td>25742</td>\n",
       "      <td>1</td>\n",
       "      <td>340.5</td>\n",
       "      <td>-105.5</td>\n",
       "      <td>539.202250</td>\n",
       "      <td>...</td>\n",
       "      <td>560.462328</td>\n",
       "      <td>350.857143</td>\n",
       "      <td>-64.875000</td>\n",
       "      <td>543.249536</td>\n",
       "      <td>0.681944</td>\n",
       "      <td>0.503121</td>\n",
       "      <td>0.0</td>\n",
       "      <td>4.882353</td>\n",
       "      <td>4.894737</td>\n",
       "      <td>4.793214</td>\n",
       "    </tr>\n",
       "  </tbody>\n",
       "</table>\n",
       "<p>4454 rows × 35 columns</p>\n",
       "</div>"
      ],
      "text/plain": [
       "    event  trackID    energy      length  numb_of_voxels  numb_of_hits  \\\n",
       "0       0        0  2.475813  183.394771             837         30521   \n",
       "0       2        0  2.445390  109.413607             892         30547   \n",
       "0       4        0  2.489506  130.117362             915         31911   \n",
       "0       6        0  2.477250  124.884078             820         30546   \n",
       "0       7        0  2.463079  133.159004             860         30028   \n",
       "..    ...      ...       ...         ...             ...           ...   \n",
       "0    9967        0  2.455584  106.038099             797         29876   \n",
       "0    9968        0  2.468272  110.020762             699         25560   \n",
       "0    9970        0  2.469461   90.904116             897         30190   \n",
       "0    9973        0  2.485147  107.602833             721         28856   \n",
       "0    9975        0  2.466608  118.845805             658         25742   \n",
       "\n",
       "    numb_of_tracks  x_min  y_min        z_min  ...      blob1_z     blob2_x  \\\n",
       "0                1 -260.5 -369.5   310.205250  ...   337.725232 -239.038462   \n",
       "0                1   96.5 -146.5   784.210875  ...   822.507895  144.375000   \n",
       "0                1 -453.5  -79.5   641.252813  ...   649.386413 -418.800000   \n",
       "0                1   20.5 -416.5   825.211250  ...   888.536990   32.909091   \n",
       "0                1 -306.5  150.5   404.103688  ...   471.442373 -298.166667   \n",
       "..             ...    ...    ...          ...  ...          ...         ...   \n",
       "0                1  213.5 -212.5   473.238688  ...   530.624842  241.000000   \n",
       "0                1 -185.5  -71.5   204.451219  ...   223.926988 -155.269231   \n",
       "0                1 -292.5   -1.5  1024.213125  ...  1039.834541 -271.000000   \n",
       "0                1    2.5 -460.5   794.134437  ...   829.549634   18.923077   \n",
       "0                1  340.5 -105.5   539.202250  ...   560.462328  350.857143   \n",
       "\n",
       "       blob2_y      blob2_z    eblob1    eblob2  ovlp_blob_energy  vox_size_x  \\\n",
       "0  -237.934783   316.151619  0.740607  0.473045               0.0    4.888889   \n",
       "0  -129.166667   790.326980  0.620332  0.534821               0.0    4.842105   \n",
       "0   -58.062500   706.292077  0.650352  0.632028               0.0    4.666667   \n",
       "0  -379.350000   831.376995  0.882183  0.443271               0.0    4.882353   \n",
       "0   168.000000   407.008627  0.923006  0.145184               0.0    4.750000   \n",
       "..         ...          ...       ...       ...               ...         ...   \n",
       "0  -166.833333   479.329049  0.627861  0.539119               0.0    4.823529   \n",
       "0   -15.812500   227.932434  0.847896  0.701455               0.0    4.947368   \n",
       "0     9.714286  1072.888482  0.723023  0.438821               0.0    4.666667   \n",
       "0  -428.071429   810.160705  0.738507  0.555913               0.0    5.000000   \n",
       "0   -64.875000   543.249536  0.681944  0.503121               0.0    4.882353   \n",
       "\n",
       "    vox_size_y  vox_size_z  \n",
       "0     4.903226    4.682453  \n",
       "0     4.666667    4.628229  \n",
       "0     4.733333    4.915485  \n",
       "0     4.875000    4.900092  \n",
       "0     4.842105    4.841816  \n",
       "..         ...         ...  \n",
       "0     5.000000    4.673143  \n",
       "0     4.857143    4.385363  \n",
       "0     4.727273    4.683063  \n",
       "0     5.000000    4.625368  \n",
       "0     4.894737    4.793214  \n",
       "\n",
       "[4454 rows x 35 columns]"
      ]
     },
     "execution_count": 53,
     "metadata": {},
     "output_type": "execute_result"
    }
   ],
   "source": [
    "tracks_0nubb_ROIovlp1trackfid"
   ]
  },
  {
   "cell_type": "markdown",
   "metadata": {},
   "source": [
    "### SIGNAL EVENTS"
   ]
  },
  {
   "cell_type": "code",
   "execution_count": null,
   "metadata": {},
   "outputs": [],
   "source": [
    "reco_0nubb_e = []\n",
    "\n",
    "reco_0nubb_e = myrvt.blobassignation_notrue(tracks_0nubb, tracks_0nubb_ROIovlp1trackfid)"
   ]
  },
  {
   "cell_type": "code",
   "execution_count": null,
   "metadata": {},
   "outputs": [],
   "source": [
    "len(reco_0nubb_e[0])"
   ]
  },
  {
   "cell_type": "code",
   "execution_count": null,
   "metadata": {},
   "outputs": [],
   "source": [
    "plt.hist(reco_0nubb_e[1], bins = 50, range = (0, 2.55), color='red', histtype='step', label = 'energy blob1')\n",
    "plt.hist(reco_0nubb_e[2], bins = 50, range = (0, 2.55), color='blue', histtype='step', label = 'energy blob2', linestyle='dashed')\n",
    "\n",
    "plt.xlabel('energy (MeV)')\n",
    "plt.ylabel('events (a.u.)')\n",
    "plt.title('0nubb')\n",
    "plt.legend(loc=1);\n",
    "plt.show()"
   ]
  },
  {
   "cell_type": "code",
   "execution_count": null,
   "metadata": {},
   "outputs": [],
   "source": [
    "weights = myhf.get_weights(reco_0nubb_e[1], True)\n",
    "\n",
    "plt.hist2d(reco_0nubb_e[1], reco_0nubb_e[2], weights= weights, bins=(30, 30), range=((0, 1.5), (0, 1.5)), cmap='viridis', cmin=0.001)\n",
    "plt.xlabel('Blob-1 candidate energy (MeV)')\n",
    "plt.ylabel('Blob-2 candidate energy (MeV)')\n",
    "plt.title('0nubb')\n",
    "#plt.xlim((0.0,1.5))\n",
    "plt.colorbar(label='proportion of events')"
   ]
  },
  {
   "cell_type": "markdown",
   "metadata": {},
   "source": [
    "### BACKGROUND EVENTS"
   ]
  },
  {
   "cell_type": "code",
   "execution_count": null,
   "metadata": {},
   "outputs": [],
   "source": [
    "reco_selectron_e = []\n",
    "\n",
    "reco_selectron_e = myrvt.blobassignation_notrue(tracks_selectron, tracks_selectron_ROIovlp1trackfid)"
   ]
  },
  {
   "cell_type": "code",
   "execution_count": null,
   "metadata": {},
   "outputs": [],
   "source": [
    "plt.hist(reco_selectron_e[1], bins = 50, range = (0, 2.55),color='red', histtype='step', label = 'energy blob1')\n",
    "plt.hist(reco_selectron_e[2], bins = 50, range = (0, 2.55), color='blue', histtype='step', label = 'energy blob2', linestyle='dashed')\n",
    "\n",
    "plt.xlabel('energy (MeV)')\n",
    "plt.ylabel('events (a.u.)')\n",
    "plt.title('Single Electron')\n",
    "plt.legend(loc=1);\n",
    "plt.show()"
   ]
  },
  {
   "cell_type": "code",
   "execution_count": null,
   "metadata": {},
   "outputs": [],
   "source": [
    "weights = myhf.get_weights(reco_selectron_e[1], True)\n",
    "\n",
    "plt.hist2d(reco_selectron_e[1], reco_selectron_e[2], weights=weights, bins=(30, 30), range=((0, 1.5), (0, 1.5)), cmap='viridis', cmin=0.001)\n",
    "plt.xlabel('Blob candidate 1 energy (MeV)')\n",
    "plt.ylabel('Blob candidate 2 energy (MeV)')\n",
    "plt.title('Single Electron')\n",
    "plt.colorbar(label='proportion of events')"
   ]
  },
  {
   "cell_type": "code",
   "execution_count": null,
   "metadata": {},
   "outputs": [],
   "source": [
    "weights = myhf.get_weights(reco_0nubb_e[0], True)\n",
    "\n",
    "plt.hist2d(reco_0nubb_e[0], reco_0nubb_e[2], bins=(30, 30), range=((2.4, 2.5), (0, 1.8)), cmap='viridis', cmin=0.001)\n",
    "plt.xlabel('track energy (MeV)')\n",
    "plt.ylabel('Blob-2 candidate energy (MeV)')\n",
    "plt.title('0nubb')\n",
    "#plt.xlim((0.0,1.5))\n",
    "plt.colorbar(label='proportion of events')"
   ]
  },
  {
   "cell_type": "code",
   "execution_count": null,
   "metadata": {},
   "outputs": [],
   "source": [
    "weights = myhf.get_weights(reco_0nubb_e[0], True)\n",
    "\n",
    "plt.hist2d(reco_0nubb_e[0], reco_0nubb_e[1], bins=(30, 30), range=((2.4, 2.5), (0, 1.8)), cmap='viridis', cmin=0.001)\n",
    "plt.xlabel('track energy (MeV)')\n",
    "plt.ylabel('Blob-1 candidate energy (MeV)')\n",
    "plt.title('0nubb')\n",
    "#plt.xlim((0.0,1.5))\n",
    "plt.colorbar(label='proportion of events')"
   ]
  },
  {
   "cell_type": "markdown",
   "metadata": {},
   "source": [
    "## Efficiency Values and FOM Estimation"
   ]
  },
  {
   "cell_type": "code",
   "execution_count": null,
   "metadata": {},
   "outputs": [],
   "source": [
    "plt.hist(reco_0nubb_e[2], bins = 50, histtype='step', label = 'energy track')\n",
    "plt.xlabel('blob-2 energy (MeV)')\n",
    "plt.ylabel('events (a.u.)')\n",
    "plt.title('0nubb')\n",
    "plt.show()"
   ]
  },
  {
   "cell_type": "code",
   "execution_count": null,
   "metadata": {},
   "outputs": [],
   "source": [
    "plt.hist(reco_selectron_e[2], bins = 50, histtype='step', label = 'energy track')\n",
    "plt.xlabel('blob-2 energy (MeV)')\n",
    "plt.ylabel('events (a.u.)')\n",
    "plt.title('Single Electron')\n",
    "plt.show()\n",
    "\n",
    "print(f'Total events {len(reco_selectron_e[0])}')"
   ]
  },
  {
   "cell_type": "markdown",
   "metadata": {},
   "source": [
    "Since I need to compare both simulations, I'm going to use the same energy cuts. Besides, they seem reasonable looking into the blob2 energy distribution:"
   ]
  },
  {
   "cell_type": "code",
   "execution_count": null,
   "metadata": {},
   "outputs": [],
   "source": [
    "blobcut_energy=[]\n",
    "#in MeV\n",
    "minEcut = 0.010\n",
    "maxEcut = 0.600\n",
    "stepsEcut = 0.010\n",
    "\n",
    "#defining the vector with the cut values\n",
    "blobcut_energy=myef.blobthreshold(minEcut,maxEcut,stepsEcut)"
   ]
  },
  {
   "cell_type": "markdown",
   "metadata": {},
   "source": [
    "Now I'm going to take the information from reco_selectron_e[][], to see how many events with each cut I get:"
   ]
  },
  {
   "cell_type": "code",
   "execution_count": null,
   "metadata": {},
   "outputs": [],
   "source": [
    "blobcut_energy_nevents_0nubb, blobcut_energy_nevents_selectron = [], [] \n",
    "\n",
    "blobcut_energy_nevents_0nubb = myef.nevents_afterthreshold(blobcut_energy, reco_0nubb_e)\n",
    "blobcut_energy_nevents_selectron = myef.nevents_afterthreshold(blobcut_energy, reco_selectron_e)\n",
    "\n",
    "blobcut_energy_nevents_0nubb = np.array(blobcut_energy_nevents_0nubb, dtype=np.float)\n",
    "blobcut_energy_nevents_selectron = np.array(blobcut_energy_nevents_selectron, dtype=np.float)"
   ]
  },
  {
   "cell_type": "markdown",
   "metadata": {},
   "source": [
    "Create now arrays containing the statistical uncertainty (sqrt from total amount of events)"
   ]
  },
  {
   "cell_type": "code",
   "execution_count": null,
   "metadata": {},
   "outputs": [],
   "source": [
    "blobcut_energy_nevents_0nubb_error, blobcut_energy_nevents_selectron_error= [], []\n",
    "\n",
    "blobcut_energy_nevents_0nubb_error = myef.sqrterror_array(blobcut_energy_nevents_0nubb)\n",
    "blobcut_energy_nevents_selectron_error = myef.sqrterror_array(blobcut_energy_nevents_selectron)"
   ]
  },
  {
   "cell_type": "code",
   "execution_count": null,
   "metadata": {},
   "outputs": [],
   "source": [
    "fig, ax = plt.subplots()\n",
    "ax.errorbar(blobcut_energy,blobcut_energy_nevents_0nubb, yerr=blobcut_energy_nevents_0nubb_error, fmt = '-r')\n",
    "plt.ylabel('accepted events (a.u.)')\n",
    "plt.xlabel('blob-2 energy threshold (MeV)')\n",
    "#plt.title('Cut efficiency')"
   ]
  },
  {
   "cell_type": "markdown",
   "metadata": {},
   "source": [
    "Now that I have checked the accepted events for each energy cut, I'm going to compute the efficiency/background values:"
   ]
  },
  {
   "cell_type": "code",
   "execution_count": null,
   "metadata": {},
   "outputs": [],
   "source": [
    "fom_error, e_error, b_error = [], [], []\n",
    "\n",
    "e, b, fom, e_error, b_error, fom_error = myef.efficiencyterms(blobcut_energy_nevents_0nubb, blobcut_energy_nevents_selectron, \n",
    "                            blobcut_energy_nevents_0nubb_error, blobcut_energy_nevents_selectron_error,\n",
    "                            reco_0nubb_e, reco_selectron_e)"
   ]
  },
  {
   "cell_type": "code",
   "execution_count": null,
   "metadata": {},
   "outputs": [],
   "source": [
    "fig, ax = plt.subplots()\n",
    "ax.errorbar(1-b,e, xerr=b_error, yerr=e_error, fmt = '-r')\n",
    "plt.ylabel('signal efficiency')\n",
    "plt.xlabel('background rejection')\n",
    "#plt.title('Cut efficiency')"
   ]
  },
  {
   "cell_type": "code",
   "execution_count": null,
   "metadata": {},
   "outputs": [],
   "source": [
    "fig, ax = plt.subplots()\n",
    "ax.errorbar(blobcut_energy,fom, yerr=fom_error,fmt = '-r')\n",
    "plt.xlabel('blob-2 energy threshold (MeV)')\n",
    "plt.ylabel('f.o.m.=e/sqrt(b)')\n",
    "#plt.title('Cut efficiency')"
   ]
  },
  {
   "cell_type": "code",
   "execution_count": null,
   "metadata": {},
   "outputs": [],
   "source": [
    "myef.best_fom(e,b,fom,blobcut_energy)"
   ]
  },
  {
   "cell_type": "code",
   "execution_count": null,
   "metadata": {},
   "outputs": [],
   "source": [
    "npz_file = '/Users/halmamol/NEXT/NBarrays/ntracks_FULLSIM_tb'\n",
    "np.savez(npz_file, ntracks_0nubb=ntracks_0nubb, ntracks_eroi=ntracks_eroi)"
   ]
  },
  {
   "cell_type": "markdown",
   "metadata": {},
   "source": [
    "### Testing selected events"
   ]
  },
  {
   "cell_type": "code",
   "execution_count": null,
   "metadata": {},
   "outputs": [],
   "source": [
    "events_noaccept = []\n",
    "for i in range(len(reco_0nubb_e[2])):\n",
    "    if reco_0nubb_e[2][i] < 0.46:\n",
    "        events_noaccept.append(reco_0nubb_e[3][i])\n",
    "len(events_noaccept)"
   ]
  },
  {
   "cell_type": "code",
   "execution_count": null,
   "metadata": {},
   "outputs": [],
   "source": [
    "base_vsize = 5 #mm\n",
    "this_evt_df = deco_0nubb[deco_0nubb.event == 6]\n",
    "the_hits = []\n",
    "\n",
    "xs = this_evt_df.X\n",
    "ys = this_evt_df.Y\n",
    "zs = this_evt_df.Z\n",
    "es = this_evt_df.E\n",
    "\n",
    "for x, y, z, e in zip(xs, ys, zs, es):\n",
    "    if np.isnan(e): continue\n",
    "    h = Hit(0, Cluster(0, xy(x,y), xy(0,0), 0), z, e*1000, xy(0,0))\n",
    "    the_hits.append(h)\n",
    "\n",
    "voxels = voxelize_hits(the_hits,\n",
    "                       np.array([base_vsize, base_vsize, base_vsize]), False)\n",
    "\n",
    "vsizex = voxels[0].size[0]\n",
    "vsizey = voxels[0].size[1]\n",
    "vsizez = voxels[0].size[2]\n",
    "\n",
    "min_corner_x = min(v.X for v in voxels) - vsizex/2.\n",
    "min_corner_y = min(v.Y for v in voxels) - vsizey/2.\n",
    "min_corner_z = min(v.Z for v in voxels) - vsizez/2.\n",
    "\n",
    "x = [np.round(v.X/vsizex) for v in voxels]\n",
    "y = [np.round(v.Y/vsizey) for v in voxels]\n",
    "z = [np.round(v.Z/vsizez) for v in voxels]\n",
    "e = [v.E for v in voxels]\n",
    "\n",
    "x_min = int(min(x))\n",
    "y_min = int(min(y))\n",
    "z_min = int(min(z))\n",
    "\n",
    "x_max = int(max(x))\n",
    "y_max = int(max(y))\n",
    "z_max = int(max(z))\n",
    "\n",
    "#print(f'X min = {x_min}, X max = {x_max}')\n",
    "#print(f'Y min = {y_min}, Y max = {y_max}')\n",
    "#print(f'Z min = {z_min}, Z max = {z_max}')\n",
    "\n",
    "VOXELS = np.zeros((x_max-x_min+1, y_max-y_min+1, z_max-z_min+1))\n",
    "#print(VOXELS.shape)\n",
    "\n",
    "# sort through the event set the \"turn on\" the hit voxels\n",
    "cmap = cm.viridis\n",
    "norm = Normalize(vmin=0, vmax=max(e))\n",
    "\n",
    "colors = np.empty(VOXELS.shape, dtype=object)\n",
    "for q in range(0,len(z)):\n",
    "    VOXELS[int(x[q])-x_min][int(y[q])-y_min][int(z[q])-z_min] = 1\n",
    "    colors[int(x[q])-x_min][int(y[q])-y_min][int(z[q])-z_min] = cmap(norm(e[q]))\n",
    "\n",
    "# and plot everything\n",
    "fig = plt.figure(figsize=(8,8))\n",
    "ax = fig.gca(projection='3d')\n",
    "#a,b,c is spacing in mm needs an extra dim\n",
    "a,b,c = np.indices((x_max-x_min+2, y_max-y_min+2, z_max-z_min+2))\n",
    "a = a*vsizex + min_corner_x\n",
    "b = b*vsizey + min_corner_y\n",
    "c = c*vsizez + min_corner_z\n",
    "\n",
    "# a, b, c are the corners of the voxels\n",
    "ax.voxels(a,b,c, VOXELS, facecolors=colors , edgecolor='k',alpha=0.8)\n",
    "\n",
    "ax.set_xlabel('x (mm)')#,fontsize=16)\n",
    "ax.set_ylabel('y (mm)')#,fontsize=16)\n",
    "ax.set_zlabel('z (mm)')#,fontsize=16)\n",
    "\n",
    "sm = cm.ScalarMappable(cmap=cmap, norm=norm)\n",
    "sm.set_array([])\n",
    "cb = fig.colorbar(sm)\n",
    "cb.set_label('Energy (keV)')\n",
    "\n",
    "plt.show()"
   ]
  },
  {
   "cell_type": "code",
   "execution_count": null,
   "metadata": {},
   "outputs": [],
   "source": [
    "this_evt_df"
   ]
  },
  {
   "cell_type": "code",
   "execution_count": null,
   "metadata": {},
   "outputs": [],
   "source": [
    "base_vsize = 5 #mm\n",
    "this_evt_df = deco_0nubb[deco_0nubb.event == 12]\n",
    "the_hits = []\n",
    "\n",
    "xs = this_evt_df.X\n",
    "ys = this_evt_df.Y\n",
    "zs = this_evt_df.Z\n",
    "es = this_evt_df.E\n",
    "\n",
    "for x, y, z, e in zip(xs, ys, zs, es):\n",
    "    if np.isnan(e): continue\n",
    "    h = Hit(0, Cluster(0, xy(x,y), xy(0,0), 0), z, e*1000, xy(0,0))\n",
    "    the_hits.append(h)\n",
    "\n",
    "voxels = voxelize_hits(the_hits,\n",
    "                       np.array([base_vsize, base_vsize, base_vsize]), False)\n",
    "\n",
    "vsizex = voxels[0].size[0]\n",
    "vsizey = voxels[0].size[1]\n",
    "vsizez = voxels[0].size[2]\n",
    "\n",
    "min_corner_x = min(v.X for v in voxels) - vsizex/2.\n",
    "min_corner_y = min(v.Y for v in voxels) - vsizey/2.\n",
    "min_corner_z = min(v.Z for v in voxels) - vsizez/2.\n",
    "\n",
    "x = [np.round(v.X/vsizex) for v in voxels]\n",
    "y = [np.round(v.Y/vsizey) for v in voxels]\n",
    "z = [np.round(v.Z/vsizez) for v in voxels]\n",
    "e = [v.E for v in voxels]\n",
    "\n",
    "x_min = int(min(x))\n",
    "y_min = int(min(y))\n",
    "z_min = int(min(z))\n",
    "\n",
    "x_max = int(max(x))\n",
    "y_max = int(max(y))\n",
    "z_max = int(max(z))\n",
    "\n",
    "#print(f'X min = {x_min}, X max = {x_max}')\n",
    "#print(f'Y min = {y_min}, Y max = {y_max}')\n",
    "#print(f'Z min = {z_min}, Z max = {z_max}')\n",
    "\n",
    "VOXELS = np.zeros((x_max-x_min+1, y_max-y_min+1, z_max-z_min+1))\n",
    "#print(VOXELS.shape)\n",
    "\n",
    "# sort through the event set the \"turn on\" the hit voxels\n",
    "cmap = cm.viridis\n",
    "norm = Normalize(vmin=0, vmax=max(e))\n",
    "\n",
    "colors = np.empty(VOXELS.shape, dtype=object)\n",
    "for q in range(0,len(z)):\n",
    "    VOXELS[int(x[q])-x_min][int(y[q])-y_min][int(z[q])-z_min] = 1\n",
    "    colors[int(x[q])-x_min][int(y[q])-y_min][int(z[q])-z_min] = cmap(norm(e[q]))\n",
    "\n",
    "# and plot everything\n",
    "fig = plt.figure(figsize=(8,8))\n",
    "ax = fig.gca(projection='3d')\n",
    "#a,b,c is spacing in mm needs an extra dim\n",
    "a,b,c = np.indices((x_max-x_min+2, y_max-y_min+2, z_max-z_min+2))\n",
    "a = a*vsizex + min_corner_x\n",
    "b = b*vsizey + min_corner_y\n",
    "c = c*vsizez + min_corner_z\n",
    "\n",
    "# a, b, c are the corners of the voxels\n",
    "ax.voxels(a,b,c, VOXELS, facecolors=colors , edgecolor='k',alpha=0.8)\n",
    "\n",
    "ax.set_xlabel('x (mm)')#,fontsize=16)\n",
    "ax.set_ylabel('y (mm)')#,fontsize=16)\n",
    "ax.set_zlabel('z (mm)')#,fontsize=16)\n",
    "\n",
    "sm = cm.ScalarMappable(cmap=cmap, norm=norm)\n",
    "sm.set_array([])\n",
    "cb = fig.colorbar(sm)\n",
    "cb.set_label('Energy (keV)')\n",
    "\n",
    "plt.show()"
   ]
  },
  {
   "cell_type": "code",
   "execution_count": null,
   "metadata": {},
   "outputs": [],
   "source": [
    "this_evt_df"
   ]
  }
 ],
 "metadata": {
  "kernelspec": {
   "display_name": "Python 3",
   "language": "python",
   "name": "python3"
  },
  "language_info": {
   "codemirror_mode": {
    "name": "ipython",
    "version": 3
   },
   "file_extension": ".py",
   "mimetype": "text/x-python",
   "name": "python",
   "nbconvert_exporter": "python",
   "pygments_lexer": "ipython3",
   "version": "3.8.3"
  }
 },
 "nbformat": 4,
 "nbformat_minor": 4
}
