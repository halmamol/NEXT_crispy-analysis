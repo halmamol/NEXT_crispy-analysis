{
 "cells": [
  {
   "cell_type": "code",
   "execution_count": null,
   "metadata": {},
   "outputs": [],
   "source": [
    "/Users/halmamol/NEXT/files/NEXT100/"
   ]
  },
  {
   "cell_type": "code",
   "execution_count": 1,
   "metadata": {},
   "outputs": [],
   "source": [
    "import os\n",
    "import sys\n",
    "\n",
    "import numpy  as np\n",
    "import tables as tb\n",
    "import pandas as pd\n",
    "import matplotlib\n",
    "import math\n",
    "\n",
    "#the line below makes the plot as a pop-up, that can be saved\n",
    "#matplotlib.use('TkAgg')\n",
    "\n",
    "import matplotlib.pyplot as plt\n",
    "from mpl_toolkits.mplot3d import Axes3D\n",
    "import matplotlib.colors as clrs\n",
    "\n",
    "import matplotlib.cm as cm\n",
    "from matplotlib.colors import Normalize\n",
    "\n",
    "from IC.invisible_cities.evm.event_model        import Cluster, Hit\n",
    "from IC.invisible_cities.types.ic_types         import xy\n",
    "from IC.invisible_cities.reco.paolina_functions import voxelize_hits\n",
    "\n",
    "from IC.invisible_cities.core.exceptions import NoHits"
   ]
  },
  {
   "cell_type": "code",
   "execution_count": 2,
   "metadata": {},
   "outputs": [],
   "source": [
    "import functions.histo_functions as myhf\n",
    "import functions.efficiency_functions as myef\n",
    "import functions.recovstrue as myrvt"
   ]
  },
  {
   "cell_type": "code",
   "execution_count": 3,
   "metadata": {},
   "outputs": [],
   "source": [
    "filepath = '/Users/halmamol/NEXT/files/NEXT100/'\n",
    "filename = 'next100.0nubb.367.deconv.h5'"
   ]
  },
  {
   "cell_type": "code",
   "execution_count": 5,
   "metadata": {},
   "outputs": [
    {
     "data": {
      "text/plain": [
       "File(filename=/Users/halmamol/NEXT/files/NEXT100/next100.0nubb.367.deconv.h5, title='', mode='r', root_uep='/', filters=Filters(complevel=4, complib='zlib', shuffle=True, bitshuffle=False, fletcher32=False, least_significant_digit=None))\n",
       "/ (RootGroup) ''\n",
       "/DECO (Group) ''\n",
       "/DECO/Events (Table(248945,), shuffle, zlib(4)) 'Deconvolved hits'\n",
       "  description := {\n",
       "  \"event\": Int64Col(shape=(), dflt=0, pos=0),\n",
       "  \"npeak\": UInt64Col(shape=(), dflt=0, pos=1),\n",
       "  \"X\": Float64Col(shape=(), dflt=0.0, pos=2),\n",
       "  \"Y\": Float64Col(shape=(), dflt=0.0, pos=3),\n",
       "  \"Z\": Float64Col(shape=(), dflt=0.0, pos=4),\n",
       "  \"E\": Float64Col(shape=(), dflt=0.0, pos=5)}\n",
       "  byteorder := 'little'\n",
       "  chunkshape := (1365,)\n",
       "  autoindex := True\n",
       "  colindexes := {\n",
       "    \"event\": Index(6, medium, shuffle, zlib(1)).is_csi=False}\n",
       "/Run (Group) ''\n",
       "/Run/events (Table(10,), shuffle, zlib(4)) 'event info table'\n",
       "  description := {\n",
       "  \"evt_number\": Int32Col(shape=(), dflt=0, pos=0),\n",
       "  \"timestamp\": UInt64Col(shape=(), dflt=0, pos=1)}\n",
       "  byteorder := 'little'\n",
       "  chunkshape := (5461,)\n",
       "/Run/runInfo (Table(10,), shuffle, zlib(4)) 'run info table'\n",
       "  description := {\n",
       "  \"run_number\": Int32Col(shape=(), dflt=0, pos=0)}\n",
       "  byteorder := 'little'\n",
       "  chunkshape := (16384,)\n",
       "/Summary (Group) ''\n",
       "/Summary/Events (Table(10,), shuffle, zlib(4)) 'Event summary information'\n",
       "  description := {\n",
       "  \"event\": Int32Col(shape=(), dflt=0, pos=0),\n",
       "  \"evt_energy\": Float64Col(shape=(), dflt=0.0, pos=1),\n",
       "  \"evt_charge\": Float64Col(shape=(), dflt=0.0, pos=2),\n",
       "  \"evt_ntrks\": Int64Col(shape=(), dflt=0, pos=3),\n",
       "  \"evt_nhits\": Int64Col(shape=(), dflt=0, pos=4),\n",
       "  \"evt_x_avg\": Float64Col(shape=(), dflt=0.0, pos=5),\n",
       "  \"evt_y_avg\": Float64Col(shape=(), dflt=0.0, pos=6),\n",
       "  \"evt_z_avg\": Float64Col(shape=(), dflt=0.0, pos=7),\n",
       "  \"evt_r_avg\": Float64Col(shape=(), dflt=0.0, pos=8),\n",
       "  \"evt_x_min\": Float64Col(shape=(), dflt=0.0, pos=9),\n",
       "  \"evt_y_min\": Float64Col(shape=(), dflt=0.0, pos=10),\n",
       "  \"evt_z_min\": Float64Col(shape=(), dflt=0.0, pos=11),\n",
       "  \"evt_r_min\": Float64Col(shape=(), dflt=0.0, pos=12),\n",
       "  \"evt_x_max\": Float64Col(shape=(), dflt=0.0, pos=13),\n",
       "  \"evt_y_max\": Float64Col(shape=(), dflt=0.0, pos=14),\n",
       "  \"evt_z_max\": Float64Col(shape=(), dflt=0.0, pos=15),\n",
       "  \"evt_r_max\": Float64Col(shape=(), dflt=0.0, pos=16),\n",
       "  \"evt_out_of_map\": BoolCol(shape=(), dflt=False, pos=17)}\n",
       "  byteorder := 'little'\n",
       "  chunkshape := (492,)\n",
       "  autoindex := True\n",
       "  colindexes := {\n",
       "    \"event\": Index(6, medium, shuffle, zlib(1)).is_csi=False}"
      ]
     },
     "execution_count": 5,
     "metadata": {},
     "output_type": "execute_result"
    }
   ],
   "source": [
    "#0nubb files\n",
    "hits_list_0nubb = []\n",
    "\n",
    "f0nubb_hits = filepath+filename\n",
    "h5file = tb.open_file(f0nubb_hits)\n",
    "h5file"
   ]
  },
  {
   "cell_type": "code",
   "execution_count": 9,
   "metadata": {},
   "outputs": [
    {
     "data": {
      "text/plain": [
       "Index(['event', 'npeak', 'X', 'Y', 'Z', 'E'], dtype='object')"
      ]
     },
     "execution_count": 9,
     "metadata": {},
     "output_type": "execute_result"
    }
   ],
   "source": [
    "deco_list=[]\n",
    "readfile = pd.read_hdf(f0nubb_hits, 'DECO/Events')\n",
    "\n",
    "deco_list.append(readfile)\n",
    "    \n",
    "#'concat' command means: 'concatenate pandas objects along a particular \n",
    "# axis with optional set logic along the other axes.' -> following line \n",
    "# is needed to keep an order between the files\n",
    "\n",
    "true_0nubb = pd.concat([dt for dt in deco_list]) \n",
    "true_0nubb.columns  "
   ]
  },
  {
   "cell_type": "code",
   "execution_count": 10,
   "metadata": {},
   "outputs": [
    {
     "data": {
      "image/png": "[encoded data removed]",
      "text/plain": [
       "<Figure size 432x288 with 1 Axes>"
      ]
     },
     "metadata": {
      "needs_background": "light"
     },
     "output_type": "display_data"
    }
   ],
   "source": [
    "true_0nubb_X = true_0nubb.X\n",
    "true_0nubb_Y = true_0nubb.Y\n",
    "\n",
    "plt.hist(true_0nubb_X, bins = 50, color='red', histtype='step', label = 'X')\n",
    "plt.hist(true_0nubb_Y, bins = 50, color='blue', histtype='step', label = 'Y')\n",
    "\n",
    "plt.xlabel('position (mm)')\n",
    "plt.ylabel('events (a.u.)')\n",
    "plt.legend(loc=1);\n",
    "plt.show()"
   ]
  }
 ],
 "metadata": {
  "kernelspec": {
   "display_name": "Python 3",
   "language": "python",
   "name": "python3"
  },
  "language_info": {
   "codemirror_mode": {
    "name": "ipython",
    "version": 3
   },
   "file_extension": ".py",
   "mimetype": "text/x-python",
   "name": "python",
   "nbconvert_exporter": "python",
   "pygments_lexer": "ipython3",
   "version": "3.8.3"
  }
 },
 "nbformat": 4,
 "nbformat_minor": 4
}
