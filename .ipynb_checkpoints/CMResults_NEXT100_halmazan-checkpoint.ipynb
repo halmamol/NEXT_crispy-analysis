{
 "cells": [
  {
   "cell_type": "code",
   "execution_count": 1,
   "metadata": {},
   "outputs": [
    {
     "ename": "ModuleNotFoundError",
     "evalue": "No module named 'IC'",
     "output_type": "error",
     "traceback": [
      "\u001b[0;31m---------------------------------------------------------------------------\u001b[0m",
      "\u001b[0;31mModuleNotFoundError\u001b[0m                       Traceback (most recent call last)",
      "\u001b[0;32m<ipython-input-1-1437d263a4ec>\u001b[0m in \u001b[0;36m<module>\u001b[0;34m\u001b[0m\n\u001b[1;32m     18\u001b[0m \u001b[0;32mfrom\u001b[0m \u001b[0mmatplotlib\u001b[0m\u001b[0;34m.\u001b[0m\u001b[0mcolors\u001b[0m \u001b[0;32mimport\u001b[0m \u001b[0mNormalize\u001b[0m\u001b[0;34m\u001b[0m\u001b[0;34m\u001b[0m\u001b[0m\n\u001b[1;32m     19\u001b[0m \u001b[0;34m\u001b[0m\u001b[0m\n\u001b[0;32m---> 20\u001b[0;31m \u001b[0;32mfrom\u001b[0m \u001b[0mIC\u001b[0m\u001b[0;34m.\u001b[0m\u001b[0minvisible_cities\u001b[0m\u001b[0;34m.\u001b[0m\u001b[0mevm\u001b[0m\u001b[0;34m.\u001b[0m\u001b[0mevent_model\u001b[0m        \u001b[0;32mimport\u001b[0m \u001b[0mCluster\u001b[0m\u001b[0;34m,\u001b[0m \u001b[0mHit\u001b[0m\u001b[0;34m\u001b[0m\u001b[0;34m\u001b[0m\u001b[0m\n\u001b[0m\u001b[1;32m     21\u001b[0m \u001b[0;32mfrom\u001b[0m \u001b[0mIC\u001b[0m\u001b[0;34m.\u001b[0m\u001b[0minvisible_cities\u001b[0m\u001b[0;34m.\u001b[0m\u001b[0mtypes\u001b[0m\u001b[0;34m.\u001b[0m\u001b[0mic_types\u001b[0m         \u001b[0;32mimport\u001b[0m \u001b[0mxy\u001b[0m\u001b[0;34m\u001b[0m\u001b[0;34m\u001b[0m\u001b[0m\n\u001b[1;32m     22\u001b[0m \u001b[0;32mfrom\u001b[0m \u001b[0mIC\u001b[0m\u001b[0;34m.\u001b[0m\u001b[0minvisible_cities\u001b[0m\u001b[0;34m.\u001b[0m\u001b[0mreco\u001b[0m\u001b[0;34m.\u001b[0m\u001b[0mpaolina_functions\u001b[0m \u001b[0;32mimport\u001b[0m \u001b[0mvoxelize_hits\u001b[0m\u001b[0;34m\u001b[0m\u001b[0;34m\u001b[0m\u001b[0m\n",
      "\u001b[0;31mModuleNotFoundError\u001b[0m: No module named 'IC'"
     ]
    }
   ],
   "source": [
    "import os\n",
    "import sys\n",
    "\n",
    "import numpy  as np\n",
    "import tables as tb\n",
    "import pandas as pd\n",
    "import matplotlib\n",
    "import math\n",
    "\n",
    "#the line below makes the plot as a pop-up, that can be saved\n",
    "#matplotlib.use('TkAgg')\n",
    "\n",
    "import matplotlib.pyplot as plt\n",
    "from mpl_toolkits.mplot3d import Axes3D\n",
    "import matplotlib.colors as clrs\n",
    "\n",
    "import matplotlib.cm as cm\n",
    "from matplotlib.colors import Normalize\n",
    "\n",
    "from Users.halmamol.NEXT.IC.invisible_cities.evm.event_model        import Cluster, Hit\n",
    "from Users.halmamol.NEXT.IC.invisible_cities.types.ic_types         import xy\n",
    "from Users.halmamol.NEXT.IC.invisible_cities.reco.paolina_functions import voxelize_hits"
   ]
  },
  {
   "cell_type": "code",
   "execution_count": null,
   "metadata": {},
   "outputs": [],
   "source": [
    "import functions.histo_functions as myhf\n",
    "import functions.efficiency_functions as myef\n",
    "import functions.recovstrue as myrvt"
   ]
  },
  {
   "cell_type": "code",
   "execution_count": null,
   "metadata": {},
   "outputs": [],
   "source": [
    "filepath = '/Users/halmamol/NEXT/files/NEXT100/'\n",
    "max0nubbf = 900"
   ]
  },
  {
   "cell_type": "markdown",
   "metadata": {},
   "source": [
    "### Opening TRACK Files - Name "
   ]
  },
  {
   "cell_type": "code",
   "execution_count": null,
   "metadata": {},
   "outputs": [],
   "source": [
    "#0nubb files\n",
    "track_list_0nubb = []\n",
    "max0nubbf = 30\n",
    "filepath_0nubb_tracks = filepath+'0nubb/15mm/tracks/'\n",
    "\n",
    "#loop over all the files, to read 'Tracks' information\n",
    "for nfile in range(1,max0nubbf):\n",
    "    \n",
    "    filename_0nubb = filepath_0nubb_tracks+f'next100.0nubb.{nfile}.skel_tracks.R21mm.h5'\n",
    "    #the following lines are added because some of the files aren't there (I had to check Paola's notebook)\n",
    "    try:\n",
    "        readfile_tracks = pd.read_hdf(filename_0nubb, 'Tracks')\n",
    "    except:\n",
    "        print('File {} not good'.format(filename_0nubb))\n",
    "        continue\n",
    "        \n",
    "    track_list_0nubb.append(readfile_tracks)\n",
    "    \n",
    "\n",
    "#'concat' command means: 'concatenate pandas objects along a particular \n",
    "# axis with optional set logic along the other axes.' -> following line \n",
    "# is needed to keep an order between the files\n",
    "\n",
    "tracks_0nubb = pd.concat([dt for dt in track_list_0nubb]) \n",
    "tracks_0nubb.columns  \n",
    "\n",
    "#these are all the elements inside the file:"
   ]
  },
  {
   "cell_type": "code",
   "execution_count": null,
   "metadata": {},
   "outputs": [],
   "source": [
    "#same for selectron files\n",
    "track_list_selectron = []\n",
    "maxselectron = 900\n",
    "filepath_selectron_tracks = filepath+'selectron/tracks/'\n",
    "\n",
    "#loop over all the files, to read 'Tracks' information\n",
    "for nfile in range(1,maxselectron):\n",
    "    \n",
    "    filename_selectron = filepath_selectron_tracks+f'next100.e-_roi.{nfile}.skel_tracks.R21mm.h5'\n",
    "    #the following lines are added because some of the files aren't there (I had to check Paola's notebook)\n",
    "    try:\n",
    "        readfile_tracks_selectron = pd.read_hdf(filename_selectron, 'Tracks')\n",
    "    except:\n",
    "        print('File {} not good'.format(filename_selectron))\n",
    "        continue\n",
    "        \n",
    "    track_list_selectron.append(readfile_tracks_selectron)\n",
    "    \n",
    "\n",
    "#'concat' command means: 'concatenate pandas objects along a particular \n",
    "# axis with optional set logic along the other axes.' -> following line \n",
    "# is needed to keep an order between the files\n",
    "\n",
    "tracks_selectron = pd.concat([dt for dt in track_list_selectron]) \n",
    "tracks_selectron.columns  \n",
    "\n",
    "#these are all the elements inside the file:"
   ]
  },
  {
   "cell_type": "markdown",
   "metadata": {},
   "source": [
    "### Checking variables\n",
    "\n",
    "So far, I'm interested in selecting the events in/with:\n",
    "- **Fiducial**: fiducial cut around the detector volume, of 2cm from the border\n",
    "- **1Track**: in this case, considers the track with highest deposition\n",
    "- **NoOverlap**: defined blobs in one trace should not overlap\n",
    "- **ROI**: energy cut in the region of interest, between [2.445,2475]MeV"
   ]
  },
  {
   "cell_type": "code",
   "execution_count": null,
   "metadata": {},
   "outputs": [],
   "source": [
    "#Checking total amount of events, prior any selection\n",
    "nevents_0nubb_total = tracks_0nubb.event.nunique()\n",
    "print(f'Initial amount of events for 0nubb: {nevents_0nubb_total}')\n",
    "\n",
    "nevents_selectron_total = tracks_selectron.event.nunique()\n",
    "print(f'Initial amount of events for selectrons: {nevents_selectron_total}')"
   ]
  },
  {
   "cell_type": "markdown",
   "metadata": {},
   "source": [
    "### Checking variables: Fiducial\n",
    "\n",
    "Test the position of the track end point, to see if it's withing the fiducial limits. To do so, I need the information about the NEXT100 dimensions:"
   ]
  },
  {
   "cell_type": "code",
   "execution_count": null,
   "metadata": {},
   "outputs": [],
   "source": [
    "#Dimensions for the NEXT100 detector\n",
    "veto_N100 = 20 # mm\n",
    "rmax_N100 = 492 - veto_N100\n",
    "zmin_N100 = veto_N100\n",
    "zmax_N100 = 1205 - veto_N100"
   ]
  },
  {
   "cell_type": "code",
   "execution_count": null,
   "metadata": {
    "scrolled": true
   },
   "outputs": [],
   "source": [
    "track_0nubb_rmax = tracks_0nubb.r_max\n",
    "track_0nubb_zmin = tracks_0nubb.z_min\n",
    "track_0nubb_zmax = tracks_0nubb.z_max\n",
    "\n",
    "plt.hist(track_0nubb_rmax, bins = 50, color='red', histtype='step', label = 'rMax')\n",
    "plt.hist(track_0nubb_zmin, bins = 50, color='blue', histtype='step', label = 'zMin')\n",
    "plt.hist(track_0nubb_zmax, bins = 50, color='green', histtype='step', label = 'zMax', linestyle='dashed')\n",
    "\n",
    "plt.xlabel('position (mm)')\n",
    "plt.ylabel('events (a.u.)')\n",
    "plt.legend(loc=1);\n",
    "plt.show()"
   ]
  },
  {
   "cell_type": "code",
   "execution_count": null,
   "metadata": {},
   "outputs": [],
   "source": [
    "track_selectron_rmax = tracks_selectron.r_max\n",
    "track_selectron_zmin = tracks_selectron.z_min\n",
    "track_selectron_zmax = tracks_selectron.z_max\n",
    "\n",
    "plt.hist(track_selectron_rmax, bins = 50, color='red', histtype='step', label = 'rMax')\n",
    "plt.hist(track_selectron_zmin, bins = 50, color='blue', histtype='step', label = 'zMin')\n",
    "plt.hist(track_selectron_zmax, bins = 50, color='green', histtype='step', label = 'zMax', linestyle='dashed')\n",
    "\n",
    "plt.xlabel('position (mm)')\n",
    "plt.ylabel('events (a.u.)')\n",
    "plt.legend(loc=1);\n",
    "plt.show()"
   ]
  },
  {
   "cell_type": "code",
   "execution_count": null,
   "metadata": {},
   "outputs": [],
   "source": [
    "#For the evaluation of the events out of fiducial limits it's necessary to do several steps\n",
    "\n",
    "#First, check a list of events where at least 1 trace is out of the limits:\n",
    "\n",
    "nonfiducial_list_0nubb = tracks_0nubb[~((tracks_0nubb.r_max < rmax_N100) & \n",
    "                                     (tracks_0nubb.z_min > zmin_N100) & \n",
    "                                     (tracks_0nubb.z_max < zmax_N100))].event.unique()\n",
    "\n",
    "#Then I apply the selection into the matrix of elements\n",
    "fiducial_tracks_0nubb = tracks_0nubb[(tracks_0nubb.r_max < rmax_N100) & \n",
    "                                     (tracks_0nubb.z_min > zmin_N100) & \n",
    "                                     (tracks_0nubb.z_max < zmax_N100)]\n",
    "\n",
    "# I get a list of true elements if event ID is not in the above list 'nonfiducial_list'\n",
    "evt_fid_sel_0nubb    = ~fiducial_tracks_0nubb.event.isin(nonfiducial_list_0nubb) \n",
    "\n",
    "# And finally I select the events with an asigned True from the previous line \n",
    "tracks_0nubb_fiducial = fiducial_tracks_0nubb[evt_fid_sel_0nubb]\n",
    "\n",
    "track_rmax = tracks_0nubb_fiducial.r_max\n",
    "track_zmin = tracks_0nubb_fiducial.z_min\n",
    "track_zmax = tracks_0nubb_fiducial.z_max\n",
    "\n",
    "plt.hist(track_rmax, bins = 50, color='red', histtype='step', label = 'rMax')\n",
    "plt.hist(track_zmin, bins = 50, color='blue', histtype='step', label = 'zMin')\n",
    "plt.hist(track_zmax, bins = 50, color='green', histtype='step', label = 'zMax', linestyle='dashed')\n",
    "\n",
    "plt.xlabel('position (mm)')\n",
    "plt.ylabel('events (a.u.)')\n",
    "plt.legend(loc=1);\n",
    "plt.show()"
   ]
  },
  {
   "cell_type": "code",
   "execution_count": null,
   "metadata": {},
   "outputs": [],
   "source": [
    "#Now I do the same for single electron\n",
    "\n",
    "nonfiducial_list_selectron = tracks_selectron[~((tracks_selectron.r_max < rmax_N100) & \n",
    "                                     (tracks_selectron.z_min > zmin_N100) & \n",
    "                                     (tracks_selectron.z_max < zmax_N100))].event.unique()\n",
    "\n",
    "#Then I apply the selection into the matrix of elements\n",
    "fiducial_tracks_selectron = tracks_selectron[(tracks_selectron.r_max < rmax_N100) & \n",
    "                                     (tracks_selectron.z_min > zmin_N100) & \n",
    "                                     (tracks_selectron.z_max < zmax_N100)]\n",
    "\n",
    "# I get a list of true elements if event ID is not in the above list 'nonfiducial_list'\n",
    "evt_fid_sel_selectron    = ~fiducial_tracks_selectron.event.isin(nonfiducial_list_selectron) \n",
    "\n",
    "# And finally I select the events with an asigned True from the previous line \n",
    "tracks_selectron_fiducial = fiducial_tracks_selectron[evt_fid_sel_selectron]"
   ]
  },
  {
   "cell_type": "code",
   "execution_count": null,
   "metadata": {},
   "outputs": [],
   "source": [
    "#Checking total amount of events, after fiducial selection\n",
    "\n",
    "nevents_0nubb_fiducial = tracks_0nubb_fiducial.event.nunique()\n",
    "nevents_selectron_fiducial = tracks_selectron_fiducial.event.nunique()\n",
    "\n",
    "print('--------------------------0nubb-------------------------')\n",
    "print('--CUT---!----EVENTS----!---REDUCTION---!---EFFICIENCY---')\n",
    "print(f'INITIAL    {nevents_0nubb_total}        ')\n",
    "print(f'FIDUCIAL   {nevents_0nubb_fiducial}                ---      {100*nevents_0nubb_fiducial/nevents_0nubb_total}%')\n",
    "print('--------!--------------!----------------!----------------')\n",
    "print(' ')\n",
    "print(' ')\n",
    "print('--------------------------SElectron---------------------')\n",
    "print('--CUT---!----EVENTS----!---REDUCTION---!---EFFICIENCY---')\n",
    "print(f'INITIAL    {nevents_0nubb_total}        ')\n",
    "print(f'FIDUCIAL   {nevents_0nubb_fiducial}                ---      {100*nevents_selectron_fiducial/nevents_0nubb_total}%')\n",
    "print('--------!--------------!----------------!----------------')\n"
   ]
  },
  {
   "cell_type": "markdown",
   "metadata": {},
   "source": [
    "### Checking variables: 1Track\n",
    "To check the track with highest energy deposition: 1st check if there is more than 1track, later remove the ones with energy deposition. "
   ]
  },
  {
   "cell_type": "code",
   "execution_count": null,
   "metadata": {},
   "outputs": [],
   "source": [
    "#Check the number of tracks with numb_of_tracks\n",
    "ntracks = tracks_0nubb.numb_of_tracks\n",
    "\n",
    "plt.hist(ntracks, bins = 50)\n",
    "plt.xlabel('number of tracks')\n",
    "plt.ylabel('events (a.u.)')\n",
    "plt.show()\n"
   ]
  },
  {
   "cell_type": "code",
   "execution_count": null,
   "metadata": {},
   "outputs": [],
   "source": [
    "#Loop to study the number of tracks in the event, to take the one with max energy deposition\n",
    "#Normally it would be asked that: \n",
    "\n",
    "#tracks_0nubb_1track = tracks_0nubb[tracks_0nubb.numb_of_tracks == 1]\n",
    "\n",
    "#tracks_0nubb_1trackfid = tracks_0nubb_fiducial[tracks_0nubb_fiducial.numb_of_tracks == 1]\n",
    "\n",
    "#But I'm going to take the traces with highest deposition. Checking this:\n",
    "tracks_0nubb\n",
    "\n",
    "#I've seen that the 1st track is the one with the highest energy deposition"
   ]
  },
  {
   "cell_type": "code",
   "execution_count": null,
   "metadata": {},
   "outputs": [],
   "source": [
    "#Therefore, I'm going to take the 1st 'trackID'\n",
    "tracks_0nubb_1track = tracks_0nubb[tracks_0nubb.trackID == 0]\n",
    "tracks_0nubb_1trackfid = tracks_0nubb_fiducial[tracks_0nubb_fiducial.trackID == 0]\n",
    "\n",
    "tracks_selectron_1track = tracks_selectron[tracks_selectron.trackID == 0]\n",
    "tracks_selectron_1trackfid = tracks_selectron_fiducial[tracks_selectron_fiducial.trackID == 0]"
   ]
  },
  {
   "cell_type": "code",
   "execution_count": null,
   "metadata": {},
   "outputs": [],
   "source": [
    "plt.hist(tracks_0nubb_1trackfid.energy, bins = 50)\n",
    "plt.xlabel('energy (MeV)')\n",
    "plt.ylabel('events (a.u.)')\n",
    "plt.show()"
   ]
  },
  {
   "cell_type": "code",
   "execution_count": null,
   "metadata": {},
   "outputs": [],
   "source": [
    "#Checking total amount of events, after fiducial selection\n",
    "\n",
    "nevents_0nubb_1track = tracks_0nubb_1track.event.nunique()\n",
    "nevents_0nubb_1trackfid = tracks_0nubb_1trackfid.event.nunique()\n",
    "\n",
    "nevents_selectron_1track = tracks_selectron_1track.event.nunique()\n",
    "nevents_selectron_1trackfid = tracks_selectron_1trackfid.event.nunique()\n",
    "\n",
    "print('--------------------------0nubb-------------------------')\n",
    "print('--CUT---!----EVENTS----!----REDUCTION----!---EFFICIENCY---')\n",
    "print(f'INITIAL    {nevents_0nubb_total}        ')\n",
    "print(f'FIDUCIAL   {nevents_0nubb_fiducial}         {100*nevents_0nubb_fiducial/nevents_0nubb_total}% {100*nevents_0nubb_fiducial/nevents_0nubb_total}%')\n",
    "print(f'1TRACK.    {nevents_0nubb_1trackfid}        {100*nevents_0nubb_1trackfid/nevents_0nubb_fiducial}% {100*nevents_0nubb_1trackfid/nevents_0nubb_total}%')\n",
    "print('--------!--------------!------------------!----------------')\n",
    "print(' ')\n",
    "print(' ')\n",
    "print('--------------------------SElectron---------------------')\n",
    "print('--CUT---!----EVENTS----!---REDUCTION---!---EFFICIENCY---')\n",
    "print(f'INITIAL    {nevents_selectron_total}        ')\n",
    "print(f'FIDUCIAL   {nevents_selectron_fiducial}                ---      {100*nevents_selectron_fiducial/nevents_selectron_total}%')\n",
    "print(f'1TRACK.    {nevents_selectron_1trackfid}        {100*nevents_selectron_1trackfid/nevents_selectron_fiducial}% {100*nevents_selectron_1trackfid/nevents_selectron_total}%')\n",
    "print('--------!--------------!----------------!----------------')\n"
   ]
  },
  {
   "cell_type": "markdown",
   "metadata": {},
   "source": [
    "### Checking variables: **NoOverlap**\n",
    "The variable ovlp_blob_energy is defined for this purpouse"
   ]
  },
  {
   "cell_type": "code",
   "execution_count": null,
   "metadata": {},
   "outputs": [],
   "source": [
    "ovlp_blob_energy = tracks_0nubb_1trackfid.ovlp_blob_energy\n",
    "\n",
    "plt.hist(ovlp_blob_energy, bins = 50)\n",
    "plt.xlabel('overlap blob energy')\n",
    "plt.ylabel('events (a.u.)')\n",
    "plt.show()"
   ]
  },
  {
   "cell_type": "code",
   "execution_count": null,
   "metadata": {},
   "outputs": [],
   "source": [
    "#Getting ovlp variable of the tracks, and selecting events with no ovlp\n",
    "\n",
    "tracks_0nubb_ovlp = tracks_0nubb[tracks_0nubb.ovlp_blob_energy == 0.]\n",
    "tracks_0nubb_ovlp1trackfid = tracks_0nubb_1trackfid[tracks_0nubb_1trackfid.ovlp_blob_energy == 0.]\n",
    "\n",
    "tracks_selectron_ovlp = tracks_selectron[tracks_selectron.ovlp_blob_energy == 0.]\n",
    "tracks_selectron_ovlp1trackfid = tracks_selectron_1trackfid[tracks_selectron_1trackfid.ovlp_blob_energy == 0.]"
   ]
  },
  {
   "cell_type": "code",
   "execution_count": null,
   "metadata": {},
   "outputs": [],
   "source": [
    "#Checking total amount of events, after overlap selection\n",
    "\n",
    "nevents_0nubb_ovlp = tracks_0nubb_ovlp.event.nunique()\n",
    "nevents_0nubb_ovlp1trackfid = tracks_0nubb_ovlp1trackfid.event.nunique()\n",
    "\n",
    "nevents_selectron_ovlp = tracks_selectron_ovlp.event.nunique()\n",
    "nevents_selectron_ovlp1trackfid = tracks_selectron_ovlp1trackfid.event.nunique()\n",
    "\n",
    "\n",
    "\n",
    "print('--------------------------0nubb-------------------------')\n",
    "print('--CUT---!----EVENTS----!----REDUCTION----!---EFFICIENCY---')\n",
    "print(f'INITIAL    {nevents_0nubb_total}        ')\n",
    "print(f'FIDUCIAL   {nevents_0nubb_fiducial}         {100*nevents_0nubb_fiducial/nevents_0nubb_total}% {100*nevents_0nubb_fiducial/nevents_0nubb_total}%')\n",
    "print(f'1TRACK.    {nevents_0nubb_1trackfid}        {100*nevents_0nubb_1trackfid/nevents_0nubb_fiducial}% {100*nevents_0nubb_1trackfid/nevents_0nubb_total}%')\n",
    "print(f'OVLP       {nevents_0nubb_ovlp1trackfid}        {100*nevents_0nubb_ovlp1trackfid/nevents_0nubb_1trackfid}%   {100*nevents_0nubb_ovlp1trackfid/nevents_0nubb_total}%')\n",
    "print('--------!--------------!------------------!----------------')\n",
    "print(' ')\n",
    "print(' ')\n",
    "print('--------------------------SElectron---------------------')\n",
    "print('--CUT---!----EVENTS----!---REDUCTION---!---EFFICIENCY---')\n",
    "print(f'INITIAL    {nevents_selectron_total}        ')\n",
    "print(f'FIDUCIAL   {nevents_selectron_fiducial}                ---      {100*nevents_selectron_fiducial/nevents_selectron_total}%')\n",
    "print(f'1TRACK.    {nevents_selectron_1trackfid}        {100*nevents_selectron_1trackfid/nevents_selectron_fiducial}% {100*nevents_selectron_1trackfid/nevents_selectron_total}%')\n",
    "print(f'OVLP       {nevents_selectron_ovlp1trackfid}        {100*nevents_selectron_ovlp1trackfid/nevents_selectron_1trackfid}%   {100*nevents_selectron_ovlp1trackfid/nevents_selectron_total}%')\n",
    "print('--------!--------------!----------------!----------------')"
   ]
  },
  {
   "cell_type": "markdown",
   "metadata": {},
   "source": [
    "### Checking variables: ROI\n",
    "Getting events with an energy inside the region of interest."
   ]
  },
  {
   "cell_type": "code",
   "execution_count": null,
   "metadata": {},
   "outputs": [],
   "source": [
    "#Limits of the Energy ROI \n",
    "\n",
    "emin = 2.4\n",
    "emax = 2.54\n",
    "\n",
    "#UPDATE: The initial values are not the used ones. Due to some spread in the reconstructed\n",
    "#energy, and some non-linearities, the ROI needs to be broader. Values are increased as above."
   ]
  },
  {
   "cell_type": "code",
   "execution_count": null,
   "metadata": {},
   "outputs": [],
   "source": [
    "#Getting energy of the tracks\n",
    "energy = tracks_0nubb.energy\n",
    "\n",
    "plt.hist(energy, bins = 50)\n",
    "plt.xlabel('energy (MeV)')\n",
    "plt.ylabel('events (a.u.)')\n",
    "plt.show()"
   ]
  },
  {
   "cell_type": "code",
   "execution_count": null,
   "metadata": {},
   "outputs": [],
   "source": [
    "#Selecting events in the ROI\n",
    "tracks_0nubb_ROI = tracks_0nubb[(tracks_0nubb.energy >= emin) & (tracks_0nubb.energy <= emax)]\n",
    "tracks_0nubb_ROIovlp1trackfid = tracks_0nubb_ovlp1trackfid[(tracks_0nubb_ovlp1trackfid.energy >= emin) & (tracks_0nubb_ovlp1trackfid.energy <= emax)]\n",
    "\n",
    "tracks_selectron_ROI = tracks_selectron[(tracks_selectron.energy >= emin) & (tracks_selectron.energy <= emax)]\n",
    "tracks_selectron_ROIovlp1trackfid = tracks_selectron_ovlp1trackfid[(tracks_selectron_ovlp1trackfid.energy >= emin) & (tracks_selectron_ovlp1trackfid.energy <= emax)]\n",
    "\n",
    "\n",
    "energy = tracks_0nubb_ROIovlp1trackfid.energy\n",
    "\n",
    "plt.hist(energy, bins = 50)\n",
    "plt.xlabel('energy (MeV)')\n",
    "plt.ylabel('events (a.u.)')\n",
    "plt.show()"
   ]
  },
  {
   "cell_type": "code",
   "execution_count": null,
   "metadata": {},
   "outputs": [],
   "source": [
    "#Checking total amount of events, after ROI selection\n",
    "nevents_0nubb_ROI = tracks_0nubb_ROI.event.nunique()\n",
    "nevents_0nubb_ROIovlp1trackfid = tracks_0nubb_ROIovlp1trackfid.event.nunique()\n",
    "\n",
    "nevents_selectron_ROI = tracks_selectron_ROI.event.nunique()\n",
    "nevents_selectron_ROIovlp1trackfid = tracks_selectron_ROIovlp1trackfid.event.nunique()\n",
    "\n",
    "\n",
    "print('--------------------------0nubb-------------------------')\n",
    "print('--CUT---!----EVENTS----!----REDUCTION----!---EFFICIENCY---')\n",
    "print(f'INITIAL    {nevents_0nubb_total}        ')\n",
    "print(f'FIDUCIAL   {nevents_0nubb_fiducial}         {100*nevents_0nubb_fiducial/nevents_0nubb_total}% {100*nevents_0nubb_fiducial/nevents_0nubb_total}%')\n",
    "print(f'1TRACK.    {nevents_0nubb_1trackfid}        {100*nevents_0nubb_1trackfid/nevents_0nubb_fiducial}% {100*nevents_0nubb_1trackfid/nevents_0nubb_total}%')\n",
    "print(f'OVLP       {nevents_0nubb_ovlp1trackfid}        {100*nevents_0nubb_ovlp1trackfid/nevents_0nubb_1trackfid}%   {100*nevents_0nubb_ovlp1trackfid/nevents_0nubb_total}%')\n",
    "print(f'ROI        {nevents_0nubb_ROIovlp1trackfid}        {100*nevents_0nubb_ROIovlp1trackfid/nevents_0nubb_ovlp1trackfid}%   {100*nevents_0nubb_ROIovlp1trackfid/nevents_0nubb_total}%')\n",
    "print('--------!--------------!------------------!----------------')\n",
    "print(' ')\n",
    "print(' ')\n",
    "print('--------------------------SElectron---------------------')\n",
    "print('--CUT---!----EVENTS----!---REDUCTION---!---EFFICIENCY---')\n",
    "print(f'INITIAL    {nevents_selectron_total}        ')\n",
    "print(f'FIDUCIAL   {nevents_selectron_fiducial}                ---      {100*nevents_selectron_fiducial/nevents_selectron_total}%')\n",
    "print(f'1TRACK.    {nevents_selectron_1trackfid}        {100*nevents_selectron_1trackfid/nevents_selectron_fiducial}% {100*nevents_selectron_1trackfid/nevents_selectron_total}%')\n",
    "print(f'OVLP       {nevents_selectron_ovlp1trackfid}        {100*nevents_selectron_ovlp1trackfid/nevents_selectron_1trackfid}%   {100*nevents_selectron_ovlp1trackfid/nevents_selectron_total}%')\n",
    "print(f'ROI        {nevents_selectron_ROIovlp1trackfid}        {100*nevents_selectron_ROIovlp1trackfid/nevents_selectron_ovlp1trackfid}%   {100*nevents_selectron_ROIovlp1trackfid/nevents_selectron_total}%')\n",
    "print('--------!--------------!----------------!----------------')"
   ]
  },
  {
   "cell_type": "code",
   "execution_count": null,
   "metadata": {},
   "outputs": [],
   "source": [
    "tracks_0nubb_sel = tracks_0nubb[tracks_0nubb.energy > 2.4]\n",
    "tracks_0nubb_fiducial_sel = tracks_0nubb_fiducial[tracks_0nubb_fiducial.energy > 2.4]\n",
    "tracks_0nubb_1trackfid_sel = tracks_0nubb_1trackfid[tracks_0nubb_1trackfid.energy > 2.4]\n",
    "tracks_0nubb_ovlp1trackfid_sel = tracks_0nubb_ovlp1trackfid[tracks_0nubb_ovlp1trackfid.energy > 2.4]\n",
    "tracks_0nubb_ROIovlp1trackfid_sel = tracks_0nubb_ROIovlp1trackfid[tracks_0nubb_ROIovlp1trackfid.energy > 2.4]\n",
    "\n",
    "plt.hist(tracks_0nubb_fiducial_sel.energy, bins = 50, color='blue', histtype='step', label = 'fiducial')\n",
    "plt.hist(tracks_0nubb_sel.energy, bins = 50, color='red', histtype='step', label = 'no cut')\n",
    "plt.hist(tracks_0nubb_1trackfid_sel.energy, bins = 50, color='orange', histtype='step', label = '+ 1-track', linestyle='dashed')\n",
    "plt.hist(tracks_0nubb_ovlp1trackfid_sel.energy, bins = 50, color='green', histtype='step', label = '+ overlap', linestyle='dashed')\n",
    "#plt.hist(tracks_0nubb_ROIovlp1trackfid_sel.energy, bins = 50, color='purple', histtype='step', label = '+ ROI', linestyle='dashed')\n",
    "\n",
    "plt.xlabel('track energy (MeV)')\n",
    "plt.ylabel('events (a.u.)')\n",
    "plt.title('0nubb')\n",
    "plt.legend(loc=2);\n",
    "#plt.xlim((2.2,2.6))\n",
    "#plt.yscale('log')\n",
    "plt.show()"
   ]
  },
  {
   "cell_type": "code",
   "execution_count": null,
   "metadata": {},
   "outputs": [],
   "source": [
    "tracks_selectron_sel = tracks_selectron[tracks_selectron.energy > 2.4]\n",
    "tracks_selectron_fiducial_sel = tracks_selectron_fiducial[tracks_selectron_fiducial.energy > 2.4]\n",
    "tracks_selectron_1trackfid_sel = tracks_selectron_1trackfid[tracks_selectron_1trackfid.energy > 2.4]\n",
    "tracks_selectron_ovlp1trackfid_sel = tracks_selectron_ovlp1trackfid[tracks_selectron_ovlp1trackfid.energy > 2.4]\n",
    "tracks_selectron_ROIovlp1trackfid_sel = tracks_selectron_ROIovlp1trackfid[tracks_selectron_ROIovlp1trackfid.energy > 2.4]\n",
    "\n",
    "plt.hist(tracks_selectron_sel.energy, bins = 50, color='red', histtype='step', label = 'no cut')\n",
    "plt.hist(tracks_selectron_fiducial_sel.energy, bins = 50, color='blue', histtype='step', label = 'fiducial')\n",
    "plt.hist(tracks_selectron_1trackfid_sel.energy, bins = 50, color='orange', histtype='step', label = '+ 1-track', linestyle='dashed')\n",
    "plt.hist(tracks_selectron_ovlp1trackfid_sel.energy, bins = 50, color='green', histtype='step', label = '+ overlap', linestyle='dashed')\n",
    "#plt.hist(tracks_selectron_ROIovlp1trackfid_sel.energy, bins = 50, color='purple', histtype='step', label = '+ ROI', linestyle='dashed')\n",
    "\n",
    "\n",
    "plt.xlabel('track energy (MeV)')\n",
    "plt.ylabel('events (a.u.)')\n",
    "plt.title('Single Electron')\n",
    "plt.legend(loc=2);\n",
    "#plt.xlim((2.,2.6))\n",
    "#plt.yscale('log')\n",
    "plt.show()"
   ]
  },
  {
   "cell_type": "code",
   "execution_count": null,
   "metadata": {},
   "outputs": [],
   "source": [
    "energybin = []\n",
    "events_energybin_notcuts_0nubb, events_energybin_notcuts_selectron= [], []\n",
    "events_energybin_fiducial_0nubb, events_energybin_fiducial_selectron= [], []\n",
    "events_energybin_all_0nubb, events_energybin_all_selectron= [], []\n",
    "\n",
    "cutefficiency_tot_0nubb, cutefficiency_tot_selectron= [], []\n",
    "cutefficiency_fiducial_0nubb, cutefficiency_fiducial_selectron= [], []\n",
    "\n",
    "nenergybin = 2.40\n",
    "steps = 0.01\n",
    "\n",
    "\n",
    "while nenergybin < 2.51:\n",
    "    energybin.append(nenergybin)\n",
    "    events_energybin_notcuts_0nubb.append(tracks_0nubb[(tracks_0nubb.energy > nenergybin) & \n",
    "                                (tracks_0nubb.energy < nenergybin+steps)].event.nunique())\n",
    "    events_energybin_fiducial_0nubb.append(tracks_0nubb_fiducial[(tracks_0nubb_fiducial.energy > nenergybin) & \n",
    "                                (tracks_0nubb_fiducial.energy < nenergybin+steps)].event.nunique())\n",
    "    events_energybin_all_0nubb.append(tracks_0nubb_ROIovlp1trackfid[(tracks_0nubb_ROIovlp1trackfid.energy > nenergybin) & \n",
    "                                (tracks_0nubb_ROIovlp1trackfid.energy < nenergybin+steps)].event.nunique())\n",
    "    events_energybin_notcuts_selectron.append(tracks_selectron[(tracks_selectron.energy > nenergybin) & \n",
    "                                (tracks_selectron.energy < nenergybin+steps)].event.nunique())\n",
    "    events_energybin_all_selectron.append(tracks_selectron_ROIovlp1trackfid[(tracks_selectron_ROIovlp1trackfid.energy > nenergybin) & \n",
    "                                (tracks_selectron_ROIovlp1trackfid.energy < nenergybin+steps)].event.nunique())\n",
    "    nenergybin = nenergybin + steps\n",
    "\n",
    "\n",
    "events_energybin_all_0nubb=np.array(events_energybin_all_0nubb, dtype=np.float)\n",
    "events_energybin_fiducial_0nubb=np.array(events_energybin_fiducial_0nubb, dtype=np.float)\n",
    "events_energybin_notcuts_0nubb=np.array(events_energybin_notcuts_0nubb, dtype=np.float)\n",
    "\n",
    "\n",
    "events_energybin_all_selectron=np.array(events_energybin_all_selectron, dtype=np.float)\n",
    "events_energybin_notcuts_selectron=np.array(events_energybin_notcuts_selectron, dtype=np.float)\n",
    "\n",
    "cutefficiency_tot_0nubb = events_energybin_all_0nubb/events_energybin_notcuts_0nubb\n",
    "cutefficiency_tot_selectron = events_energybin_all_selectron/events_energybin_notcuts_selectron\n",
    "cutefficiency_fiducial_0nubb = events_energybin_fiducial_0nubb/events_energybin_notcuts_0nubb\n",
    "\n",
    "fig, ax = plt.subplots()\n",
    "ax.plot(energybin,cutefficiency_tot_0nubb, 'bs', label='0nubb')\n",
    "ax.plot(energybin,cutefficiency_tot_selectron, 'g^', label='single electron')\n",
    "\n",
    "leg = ax.legend();\n",
    "plt.xlabel('energy in ROI (MeV)')\n",
    "plt.ylabel('cut efficiency')\n",
    "plt.title('Cut efficiency')"
   ]
  },
  {
   "cell_type": "code",
   "execution_count": null,
   "metadata": {},
   "outputs": [],
   "source": [
    "fig, ax = plt.subplots()\n",
    "ax.plot(1-cutefficiency_tot_selectron,cutefficiency_tot_0nubb, 'rs')\n",
    "plt.xlabel('background rejection (1-efficiency)')\n",
    "plt.ylabel('signal efficiency (0nubb)')\n",
    "#plt.title('Cut efficiency')"
   ]
  },
  {
   "cell_type": "markdown",
   "metadata": {},
   "source": [
    "### 1 - Representing TRUE vs RECO"
   ]
  },
  {
   "cell_type": "markdown",
   "metadata": {},
   "source": [
    "Now I'm going to see if I can represent for an event the comparison between the reconstructed track and the true information from the MC simulation. "
   ]
  },
  {
   "cell_type": "code",
   "execution_count": null,
   "metadata": {},
   "outputs": [],
   "source": [
    "#0nubb files\n",
    "hits_list_0nubb = []\n",
    "filepath_0nubb_hits = filepath+'0nubb/hits/'\n",
    "\n",
    "\n",
    "filename_0nubb_hits = filepath_0nubb_hits+f'next100.0nubb.1.deconv.h5'\n",
    "h5file = tb.open_file(filename_0nubb_hits)\n",
    "h5file"
   ]
  },
  {
   "cell_type": "markdown",
   "metadata": {},
   "source": [
    "The true information is stored in MC, more concretely inside the 'particles' group. To check the true position is going to be more complicated than to retrieve the info from a variable. I'm going to use the information from \"plot_blobs_with_true_extremes_beersheba.py\" as a baseline to construct the true information. I'll start with 0nubb, and I'll extrapolate the information to SE later on. "
   ]
  },
  {
   "cell_type": "code",
   "execution_count": null,
   "metadata": {},
   "outputs": [],
   "source": [
    "#0nubb files\n",
    "true_list_0nubb = []\n",
    "filepath_0nubb_true = filepath+'0nubb/hits/'\n",
    "\n",
    "#loop over all the files, to read 'HITS' information\n",
    "for nfile in range(1,max0nubbf):\n",
    "    \n",
    "    filename_0nubb_true = filepath_0nubb_true+f'next100.0nubb.{nfile}.deconv.h5'\n",
    "\n",
    "    try:\n",
    "        readfile_true_0nubb = pd.read_hdf(filename_0nubb_true, 'MC/particles')\n",
    "    except:\n",
    "        print('File {} not good'.format(filename_0nubb_true))\n",
    "        continue\n",
    "        \n",
    "    true_list_0nubb.append(readfile_true_0nubb)\n",
    "    \n",
    "#'concat' command means: 'concatenate pandas objects along a particular \n",
    "# axis with optional set logic along the other axes.' -> following line \n",
    "# is needed to keep an order between the files\n",
    "\n",
    "true_0nubb = pd.concat([dt for dt in true_list_0nubb]) \n",
    "true_0nubb.columns  "
   ]
  },
  {
   "cell_type": "markdown",
   "metadata": {},
   "source": [
    "Inside of MC/particles you can find all the information about the created partiles. Right now, I need to check the primary particles created in the simulation: the two electrons. To do so, I need to check the information about the 'primary' variable"
   ]
  },
  {
   "cell_type": "code",
   "execution_count": null,
   "metadata": {},
   "outputs": [],
   "source": [
    "true_0nubb_primary = true_0nubb[true_0nubb.primary == True]\n",
    "true_0nubb_primary"
   ]
  },
  {
   "cell_type": "markdown",
   "metadata": {},
   "source": [
    "The primary particles are separated by 'particle_id' 1 and 2, and this information will allow us to differenciate between blob1 and/or 2. "
   ]
  },
  {
   "cell_type": "code",
   "execution_count": null,
   "metadata": {},
   "outputs": [],
   "source": [
    "true_0nubb_primary_part1 = true_0nubb_primary[true_0nubb_primary.particle_id == 1]\n",
    "true_0nubb_primary_part2 = true_0nubb_primary[true_0nubb_primary.particle_id == 2]"
   ]
  },
  {
   "cell_type": "code",
   "execution_count": null,
   "metadata": {},
   "outputs": [],
   "source": [
    "true_0nubb_event0 = true_0nubb[true_0nubb.event_id == 0]\n",
    "true_0nubb_event0"
   ]
  },
  {
   "cell_type": "code",
   "execution_count": null,
   "metadata": {},
   "outputs": [],
   "source": [
    "tracks_0nubb_ROIovlp1trackfid"
   ]
  },
  {
   "cell_type": "markdown",
   "metadata": {},
   "source": [
    "Now I'm going to do a loop over all the events in both reco and true, and I'm going to obtain the difference for each of them. \n",
    "\n",
    "Several things need to be taken into account at this stage:\n",
    "- After all the selection process, not all the events are contained in 'tracks_0nubb_ROIovlp1trackfid', need to select only the events in the loop that are included in 'tracks_0nubb_ROIovlp1trackfid'\n",
    "- For 0nubb, the true end points of the track are the variables **final_x/y/z** from the primary particles. **initial_x/y/z** correspond to the original position of the desintegration. \n",
    "- The true/reco information from the tables are given in terms of arrays. First, in order to get the value from a variable, it's necessary to ask for \"values\". Later on, when doing the comparison, it's necessary to force the term to turn into float before assign them into the 'diff' element. \n",
    "- Last but definately, not least, what it's defined as blob1 or blob2 is not necessarily the information about particle 1 or 2 respectively. Blobs are tagged as the deposited energy in the detector. So when the reco vs true comparison is made, it's important to re-define what's 1 or 2 for the blobs. In the following boxes I've done some tests in order to see how I can tag each of the events. "
   ]
  },
  {
   "cell_type": "code",
   "execution_count": null,
   "metadata": {},
   "outputs": [],
   "source": [
    "d_rt_11, d_rt_12, d_rr_12, d_tt_12, D_tt_12, x_t_1, y_t_1, x_t_2, y_t_2, r_t_1, r_t_2, z_t_1, z_t_2 = [], [], [], [], [], [], [],[], [], [],[], [], []\n",
    "\n",
    "for nevt in range(1,true_0nubb.event_id.nunique()):\n",
    "    \n",
    "    if nevt not in tracks_0nubb_ROIovlp1trackfid.event.unique():\n",
    "        continue\n",
    "        \n",
    "    true_0nubb_x_p1 = float(true_0nubb_primary_part1[true_0nubb_primary_part1.event_id == nevt].final_x.values)\n",
    "    true_0nubb_y_p1 = float(true_0nubb_primary_part1[true_0nubb_primary_part1.event_id == nevt].final_y.values)\n",
    "    true_0nubb_z_p1 = float(true_0nubb_primary_part1[true_0nubb_primary_part1.event_id == nevt].final_z.values)\n",
    "\n",
    "    true_0nubb_x_p2 = float(true_0nubb_primary_part2[true_0nubb_primary_part2.event_id == nevt].final_x.values)\n",
    "    true_0nubb_y_p2 = float(true_0nubb_primary_part2[true_0nubb_primary_part2.event_id == nevt].final_y.values)\n",
    "    true_0nubb_z_p2 = float(true_0nubb_primary_part2[true_0nubb_primary_part2.event_id == nevt].final_z.values)\n",
    "    \n",
    "    true_0nubb_r_p1 = math.sqrt(true_0nubb_x_p1*true_0nubb_x_p1+true_0nubb_y_p1*true_0nubb_y_p1)\n",
    "    true_0nubb_r_p2 = math.sqrt(true_0nubb_x_p2*true_0nubb_x_p2+true_0nubb_y_p2*true_0nubb_y_p2)\n",
    "\n",
    "    reco_0nubb_x_blob1 = float(tracks_0nubb_ROIovlp1trackfid[tracks_0nubb_ROIovlp1trackfid.event == nevt].blob1_x.values)\n",
    "    reco_0nubb_y_blob1 = float(tracks_0nubb_ROIovlp1trackfid[tracks_0nubb_ROIovlp1trackfid.event == nevt].blob1_y.values)\n",
    "    reco_0nubb_z_blob1 = float(tracks_0nubb_ROIovlp1trackfid[tracks_0nubb_ROIovlp1trackfid.event == nevt].blob1_z.values)\n",
    "    \n",
    "    reco_0nubb_x_blob2 = float(tracks_0nubb_ROIovlp1trackfid[tracks_0nubb_ROIovlp1trackfid.event == nevt].blob2_x.values)\n",
    "    reco_0nubb_y_blob2 = float(tracks_0nubb_ROIovlp1trackfid[tracks_0nubb_ROIovlp1trackfid.event == nevt].blob2_y.values)\n",
    "    reco_0nubb_z_blob2 = float(tracks_0nubb_ROIovlp1trackfid[tracks_0nubb_ROIovlp1trackfid.event == nevt].blob2_z.values)\n",
    "    \n",
    "    reco_0nubb_r_blob1 = math.sqrt(reco_0nubb_x_blob1*reco_0nubb_x_blob1+reco_0nubb_y_blob1*reco_0nubb_y_blob1)\n",
    "    reco_0nubb_r_blob2 = math.sqrt(reco_0nubb_x_blob2*reco_0nubb_x_blob2+reco_0nubb_y_blob2*reco_0nubb_y_blob2)\n",
    "    \n",
    "   \n",
    "    d_tt_12.append(math.sqrt((true_0nubb_x_p2-true_0nubb_x_p1)**2+(true_0nubb_y_p2-true_0nubb_y_p1)**2+(true_0nubb_z_p2-true_0nubb_z_p1)**2))\n",
    "    d_rr_12.append(math.sqrt((reco_0nubb_x_blob1-reco_0nubb_x_blob2)**2+(reco_0nubb_y_blob1-reco_0nubb_y_blob2)**2+(reco_0nubb_z_blob1-reco_0nubb_z_blob2)**2))\n",
    "    \n",
    "    x_t_1.append(true_0nubb_x_p1)\n",
    "    x_t_2.append(true_0nubb_x_p2)\n",
    "    y_t_1.append(true_0nubb_y_p1)\n",
    "    y_t_2.append(true_0nubb_y_p2)\n",
    "    r_t_1.append(true_0nubb_r_p1)\n",
    "    r_t_2.append(true_0nubb_r_p2)\n",
    "    z_t_1.append(true_0nubb_z_p1)\n",
    "    z_t_2.append(true_0nubb_z_p2)\n",
    "    "
   ]
  },
  {
   "cell_type": "code",
   "execution_count": null,
   "metadata": {},
   "outputs": [],
   "source": [
    "plt.hist(r_t_1, bins = 50, color='red', histtype='step', label = 'r particle1')\n",
    "plt.hist(r_t_2, bins = 50, color='blue', histtype='step', label = 'r particle 2', linestyle='dashed')\n",
    "\n",
    "plt.xlabel('true[particle] (mm)')\n",
    "plt.ylabel('events (a.u.)')\n",
    "plt.title('0nubb')\n",
    "plt.legend(loc=1);\n",
    "plt.show()"
   ]
  },
  {
   "cell_type": "code",
   "execution_count": null,
   "metadata": {},
   "outputs": [],
   "source": [
    "plt.hist(d_tt_12, bins = 50, color='red', histtype='step', label = 'd_12 (true)', linestyle='dashed')\n",
    "plt.hist(d_rr_12, bins = 50, color='blue', histtype='step', label = 'd_12 (reco)', linestyle='dashed')\n",
    "\n",
    "plt.xlabel('true[particle] (mm)')\n",
    "plt.ylabel('events (a.u.)')\n",
    "plt.title('0nubb')\n",
    "plt.legend(loc=1);\n",
    "plt.show()\n",
    "\n",
    "print(f'Mean distance between true particles {np.mean(d_tt_12)}')\n",
    "print(f'Mean distance between reco particles {np.mean(d_rr_12)}')\n"
   ]
  },
  {
   "cell_type": "code",
   "execution_count": null,
   "metadata": {},
   "outputs": [],
   "source": [
    "plt.hist(z_t_1, bins = 50, color='red', histtype='step', label = 'z part1 (true)', linestyle='dashed')\n",
    "plt.hist(z_t_2, bins = 50, color='blue', histtype='step', label = 'z part2 (true)', linestyle='dashed')\n",
    "\n",
    "plt.xlabel('true[particle] (mm)')\n",
    "plt.ylabel('events (a.u.)')\n",
    "plt.legend(loc=1);\n",
    "plt.show()"
   ]
  },
  {
   "cell_type": "markdown",
   "metadata": {},
   "source": [
    "On average, the distance between particles is around 30mm, so I'm going to look for blobs around the position of part1/2 + 30mm (approximately)"
   ]
  },
  {
   "cell_type": "code",
   "execution_count": null,
   "metadata": {},
   "outputs": [],
   "source": [
    "diff_b1_x_0nubb, diff_b1_y_0nubb, diff_b1_z_0nubb = [], [], []\n",
    "diff_b2_x_0nubb, diff_b2_y_0nubb, diff_b2_z_0nubb = [], [], []\n",
    "\n",
    "reco_0nubb_e = []\n",
    "\n",
    "diff_b1_x_0nubb, diff_b1_y_0nubb, diff_b2_x_0nubb, diff_b2_y_0nubb, reco_0nubb_e = myrvt.blobassignation(true_0nubb, tracks_0nubb_ROIovlp1trackfid, 'signal')"
   ]
  },
  {
   "cell_type": "code",
   "execution_count": null,
   "metadata": {},
   "outputs": [],
   "source": [
    "plt.hist(diff_b1_x_0nubb, bins = 50, color='red', histtype='step', label = 'x blob1')\n",
    "plt.hist(diff_b1_y_0nubb, bins = 50, color='blue', histtype='step', label = 'y blob1', linestyle='dashed')\n",
    "\n",
    "plt.xlabel('reco[tracks] - true[particle] (mm)')\n",
    "plt.ylabel('events (a.u.)')\n",
    "plt.title('0nubb')\n",
    "plt.legend(loc=1);\n",
    "plt.show()"
   ]
  },
  {
   "cell_type": "code",
   "execution_count": null,
   "metadata": {},
   "outputs": [],
   "source": [
    "plt.hist(diff_b2_x_0nubb, bins = 50, color='red', histtype='step', label = 'x blob2')\n",
    "plt.hist(diff_b2_y_0nubb, bins = 50, color='blue', histtype='step', label = 'y blob2', linestyle='dashed')\n",
    "\n",
    "plt.xlabel('reco[tracks] - true[particle] (mm)')\n",
    "plt.ylabel('events (a.u.)')\n",
    "plt.title('0nubb')\n",
    "plt.legend(loc=1);\n",
    "plt.show()"
   ]
  },
  {
   "cell_type": "code",
   "execution_count": null,
   "metadata": {},
   "outputs": [],
   "source": [
    "plt.hist2d(diff_b1_x_0nubb, diff_b1_y_0nubb, bins=(30, 30), range=((-50, 50), (-50, 50)), cmap='viridis', cmin=0.001)\n",
    "plt.xlabel('blob-1 reco_x - true_x (mm)')\n",
    "plt.ylabel('blob-1 reco_y - true_y (mm)')\n",
    "plt.title('0nubb')\n",
    "#plt.xlim((0.0,1.5))\n",
    "plt.colorbar(label='events')"
   ]
  },
  {
   "cell_type": "code",
   "execution_count": null,
   "metadata": {},
   "outputs": [],
   "source": [
    "plt.hist2d(diff_b2_x_0nubb, diff_b2_y_0nubb, bins=(30, 30), range=((-50, 50), (-50, 50)), cmap='viridis', cmin=0.001)\n",
    "plt.xlabel('blob-2 reco_x - true_x (mm)')\n",
    "plt.ylabel('blob-2 reco_y - true_y (mm)')\n",
    "plt.title('0nubb')\n",
    "#plt.xlim((0.0,1.5))\n",
    "plt.colorbar(label='events')"
   ]
  },
  {
   "cell_type": "code",
   "execution_count": null,
   "metadata": {},
   "outputs": [],
   "source": [
    "#single electron files\n",
    "true_list_selectron = []\n",
    "filepath_selectron_true = filepath+'selectron/hits/'\n",
    "\n",
    "#loop over all the files, to read 'HITS' information\n",
    "for nfile in range(1,max0nubbf):\n",
    "    \n",
    "    filename_selectron_true = filepath_selectron_true+f'next100.e-_roi.{nfile}.deconv.h5'\n",
    "\n",
    "    try:\n",
    "        readfile_true_selectron = pd.read_hdf(filename_selectron_true, 'MC/particles')\n",
    "    except:\n",
    "        print('File {} not good'.format(filename_selectron_true))\n",
    "        continue\n",
    "        \n",
    "    true_list_selectron.append(readfile_true_selectron)\n",
    "    \n",
    "#'concat' command means: 'concatenate pandas objects along a particular \n",
    "# axis with optional set logic along the other axes.' -> following line \n",
    "# is needed to keep an order between the files\n",
    "\n",
    "true_selectron = pd.concat([dt for dt in true_list_selectron]) \n",
    "true_selectron.columns  "
   ]
  },
  {
   "cell_type": "code",
   "execution_count": null,
   "metadata": {},
   "outputs": [],
   "source": [
    "true_selectron_primary = true_selectron[true_selectron.primary == True]\n",
    "\n",
    "true_selectron_primary_part1 = true_selectron_primary[true_selectron_primary.particle_id == 1]\n",
    "true_selectron_primary_part2 = true_selectron_primary[true_selectron_primary.particle_id == 2]\n",
    "true_selectron_primary"
   ]
  },
  {
   "cell_type": "code",
   "execution_count": null,
   "metadata": {},
   "outputs": [],
   "source": [
    "diff_b1_x_selectron, diff_b1_y_selectron, diff_b1_z_selectron = [], [], []\n",
    "diff_b2_x_selectron, diff_b2_y_selectron, diff_b2_z_selectron = [], [], []\n",
    "\n",
    "reco_selectron_e = []\n",
    "\n",
    "diff_b1_x_selectron, diff_b1_y_selectron, diff_b2_x_selectron, diff_b2_y_selectron, reco_selectron_e = myrvt.blobassignation(true_selectron, tracks_selectron_ROIovlp1trackfid, 'bkg')"
   ]
  },
  {
   "cell_type": "code",
   "execution_count": null,
   "metadata": {},
   "outputs": [],
   "source": [
    "plt.hist(diff_b1_x_selectron, bins = 50, color='red', histtype='step', label = 'x blob1')\n",
    "plt.hist(diff_b1_y_selectron, bins = 50, color='blue', histtype='step', label = 'y blob1', linestyle='dashed')\n",
    "\n",
    "plt.xlabel('reco[tracks] - true[particle] (mm)')\n",
    "plt.ylabel('events (a.u.)')\n",
    "plt.title('Single Electron')\n",
    "plt.legend(loc=1);\n",
    "plt.show()\n",
    "(np.mean(diff_b1_x_selectron)+np.mean(diff_b1_y_selectron))/2"
   ]
  },
  {
   "cell_type": "code",
   "execution_count": null,
   "metadata": {},
   "outputs": [],
   "source": [
    "plt.hist(diff_b2_x_selectron, bins = 50, color='red', histtype='step', label = 'x blob2')\n",
    "plt.hist(diff_b2_y_selectron, bins = 50, color='blue', histtype='step', label = 'y blob2', linestyle='dashed')\n",
    "\n",
    "plt.xlabel('reco[tracks] - true[particle] (mm)')\n",
    "plt.ylabel('events (a.u.)')\n",
    "plt.title('Single Electron')\n",
    "plt.legend(loc=1);\n",
    "plt.show()\n",
    "\n",
    "(np.mean(diff_b2_x_selectron)+np.mean(diff_b2_y_selectron))/2"
   ]
  },
  {
   "cell_type": "code",
   "execution_count": null,
   "metadata": {},
   "outputs": [],
   "source": [
    "plt.hist2d(diff_b1_x_selectron, diff_b1_y_selectron, bins=(30, 30), range=((-50, 50), (-50, 50)), cmap='viridis', cmin=0.001)\n",
    "plt.xlabel('blob-1 reco_x - true_x (mm)')\n",
    "plt.ylabel('blob-1 reco_y - true_y (mm)')\n",
    "plt.title('Single Electron')\n",
    "#plt.xlim((0.0,1.5))\n",
    "plt.colorbar(label='events')"
   ]
  },
  {
   "cell_type": "code",
   "execution_count": null,
   "metadata": {},
   "outputs": [],
   "source": [
    "plt.hist2d(diff_b2_x_selectron, diff_b2_y_selectron, bins=(30, 30), range=((-50, 50), (-50, 50)), cmap='viridis', cmin=0.001)\n",
    "plt.xlabel('blob-2 reco_x - true_x (mm)')\n",
    "plt.ylabel('blob-2 reco_y - true_y (mm)')\n",
    "plt.title('Single Electron')\n",
    "#plt.xlim((0.0,1.5))\n",
    "plt.colorbar(label='events')"
   ]
  },
  {
   "cell_type": "markdown",
   "metadata": {},
   "source": [
    "### 2 - BLOB energy distributions for SIGNAL and BACKGROUND"
   ]
  },
  {
   "cell_type": "markdown",
   "metadata": {},
   "source": [
    "After properly asigning blob1 and 2 tags, it's straigh forward to represent the energy distributions for the signal and background events:"
   ]
  },
  {
   "cell_type": "code",
   "execution_count": null,
   "metadata": {},
   "outputs": [],
   "source": [
    "plt.hist(reco_0nubb_e[1], bins = 50, color='red', histtype='step', label = 'energy blob1')\n",
    "plt.hist(reco_0nubb_e[2], bins = 50, color='blue', histtype='step', label = 'energy blob2', linestyle='dashed')\n",
    "\n",
    "plt.xlabel('energy (MeV)')\n",
    "plt.ylabel('events (a.u.)')\n",
    "plt.title('0nubb')\n",
    "plt.legend(loc=1);\n",
    "plt.show()"
   ]
  },
  {
   "cell_type": "code",
   "execution_count": null,
   "metadata": {},
   "outputs": [],
   "source": [
    "weights = myhf.get_weights(reco_0nubb_e[1], True)\n",
    "\n",
    "\n",
    "plt.hist2d(reco_0nubb_e[1], reco_0nubb_e[2], weights= weights, bins=(30, 30), range=((0, 1.5), (0, 1.5)), cmap='viridis', cmin=0.001)\n",
    "plt.xlabel('Blob-1 candidate energy (MeV)')\n",
    "plt.ylabel('Blob-2 candidate energy (MeV)')\n",
    "plt.title('0nubb')\n",
    "#plt.xlim((0.0,1.5))\n",
    "plt.colorbar(label='proportion of events')"
   ]
  },
  {
   "cell_type": "code",
   "execution_count": null,
   "metadata": {},
   "outputs": [],
   "source": [
    "plt.hist(reco_selectron_e[1], bins = 50, color='red', histtype='step', label = 'energy blob1')\n",
    "plt.hist(reco_selectron_e[2], bins = 50, color='blue', histtype='step', label = 'energy blob2', linestyle='dashed')\n",
    "\n",
    "plt.xlabel('energy (MeV)')\n",
    "plt.ylabel('events (a.u.)')\n",
    "plt.title('Single Electron')\n",
    "plt.legend(loc=1);\n",
    "plt.show()"
   ]
  },
  {
   "cell_type": "code",
   "execution_count": null,
   "metadata": {},
   "outputs": [],
   "source": [
    "weights = myhf.get_weights(reco_selectron_e[1], True)\n",
    "\n",
    "plt.hist2d(reco_selectron_e[1], reco_selectron_e[2], weights=weights, bins=(30, 30), range=((0, 1.5), (0, 1.5)), cmap='viridis', cmin=0.001)\n",
    "plt.xlabel('Blob candidate 1 energy (MeV)')\n",
    "plt.ylabel('Blob candidate 2 energy (MeV)')\n",
    "plt.title('Single Electron')\n",
    "plt.colorbar(label='proportion of events')"
   ]
  },
  {
   "cell_type": "markdown",
   "metadata": {},
   "source": [
    "### 3 - Efficiency Values and fom estimation"
   ]
  },
  {
   "cell_type": "markdown",
   "metadata": {},
   "source": [
    "First of all I'm going to check how blob energies are distributed acording to the track energy."
   ]
  },
  {
   "cell_type": "code",
   "execution_count": null,
   "metadata": {},
   "outputs": [],
   "source": [
    "weights = myhf.get_weights(reco_0nubb_e[0], True)\n",
    "\n",
    "plt.hist2d(reco_0nubb_e[0], reco_0nubb_e[2], bins=(30, 30), range=((2.4, 2.5), (0, 1.8)), cmap='viridis', cmin=0.001)\n",
    "plt.xlabel('track energy (MeV)')\n",
    "plt.ylabel('Blob-2 candidate energy (MeV)')\n",
    "plt.title('0nubb')\n",
    "#plt.xlim((0.0,1.5))\n",
    "plt.colorbar(label='proportion of events')"
   ]
  },
  {
   "cell_type": "code",
   "execution_count": null,
   "metadata": {},
   "outputs": [],
   "source": [
    "weights = myhf.get_weights(reco_0nubb_e[0], True)\n",
    "\n",
    "plt.hist2d(reco_0nubb_e[0], reco_0nubb_e[1], bins=(30, 30), range=((2.4, 2.5), (0, 1.8)), cmap='viridis', cmin=0.001)\n",
    "plt.xlabel('track energy (MeV)')\n",
    "plt.ylabel('Blob-1 candidate energy (MeV)')\n",
    "plt.title('0nubb')\n",
    "#plt.xlim((0.0,1.5))\n",
    "plt.colorbar(label='proportion of events')"
   ]
  },
  {
   "cell_type": "code",
   "execution_count": null,
   "metadata": {},
   "outputs": [],
   "source": [
    "plt.hist(reco_selectron_e[0], bins = 50, histtype='step', label = 'energy track')\n",
    "plt.hist(reco_selectron_e[2], bins = 50, histtype='step', label = 'energy blob2', linestyle='dashed')\n",
    "\n",
    "plt.xlabel('energy (MeV)')\n",
    "plt.ylabel('events (a.u.)')\n",
    "plt.title('Single Electron')\n",
    "plt.legend(loc=1);\n",
    "plt.show()"
   ]
  },
  {
   "cell_type": "code",
   "execution_count": null,
   "metadata": {},
   "outputs": [],
   "source": [
    "plt.hist(reco_selectron_e[0], bins = 50, histtype='step', label = 'energy track')\n",
    "plt.xlabel('track energy (MeV)')\n",
    "plt.ylabel('events (a.u.)')\n",
    "plt.title('Single Electron')\n",
    "plt.show()\n",
    "\n",
    "print(f'Total events {len(reco_selectron_e[0])}')"
   ]
  },
  {
   "cell_type": "code",
   "execution_count": null,
   "metadata": {},
   "outputs": [],
   "source": [
    "plt.hist(reco_selectron_e[2], bins = 50, histtype='step', label = 'energy track')\n",
    "plt.xlabel('blob-2 energy (MeV)')\n",
    "plt.ylabel('events (a.u.)')\n",
    "plt.title('Single Electron')\n",
    "plt.show()\n",
    "\n",
    "print(f'Total events {len(reco_selectron_e[0])}')"
   ]
  },
  {
   "cell_type": "code",
   "execution_count": null,
   "metadata": {},
   "outputs": [],
   "source": [
    "plt.hist(reco_0nubb_e[2], bins = 50, histtype='step', label = 'energy track')\n",
    "plt.xlabel('blob-2 energy (MeV)')\n",
    "plt.ylabel('events (a.u.)')\n",
    "plt.title('0nubb')\n",
    "plt.show()\n",
    "\n",
    "print(f'Total events {len(reco_selectron_e[0])}')"
   ]
  },
  {
   "cell_type": "markdown",
   "metadata": {},
   "source": [
    "In the following boxes I'm going to define the functions I'm going to use to do the full efficiency/fom analysis:"
   ]
  },
  {
   "cell_type": "code",
   "execution_count": null,
   "metadata": {},
   "outputs": [],
   "source": [
    "blobcut_energy=[]\n",
    "#in MeV\n",
    "minEcut = 0.010\n",
    "maxEcut = 0.600\n",
    "stepsEcut = 0.010\n",
    "\n",
    "blobcut_energy=myef.blobthreshold(minEcut,maxEcut,stepsEcut)"
   ]
  },
  {
   "cell_type": "markdown",
   "metadata": {},
   "source": [
    "Now I'm going to take the information from reco_selectron_e[][], to see how many events with each cut I get:"
   ]
  },
  {
   "cell_type": "code",
   "execution_count": null,
   "metadata": {},
   "outputs": [],
   "source": [
    "blobcut_energy_nevents_0nubb, blobcut_energy_nevents_selectron = [], [] \n",
    "\n",
    "blobcut_energy_nevents_0nubb = myef.nevents_afterthreshold(blobcut_energy, reco_0nubb_e)\n",
    "blobcut_energy_nevents_selectron = myef.nevents_afterthreshold(blobcut_energy, reco_selectron_e)\n",
    "\n",
    "blobcut_energy_nevents_0nubb = np.array(blobcut_energy_nevents_0nubb, dtype=np.float)\n",
    "blobcut_energy_nevents_selectron = np.array(blobcut_energy_nevents_selectron, dtype=np.float)"
   ]
  },
  {
   "cell_type": "markdown",
   "metadata": {},
   "source": [
    "Create now arrays containing the statistical uncertainty (sqrt from total amount of events)"
   ]
  },
  {
   "cell_type": "code",
   "execution_count": null,
   "metadata": {},
   "outputs": [],
   "source": [
    "blobcut_energy_nevents_0nubb_error, blobcut_energy_nevents_selectron_error= [], []\n",
    "\n",
    "blobcut_energy_nevents_0nubb_error = myef.sqrterror_array(blobcut_energy_nevents_0nubb)\n",
    "blobcut_energy_nevents_selectron_error = myef.sqrterror_array(blobcut_energy_nevents_selectron)"
   ]
  },
  {
   "cell_type": "code",
   "execution_count": null,
   "metadata": {},
   "outputs": [],
   "source": [
    "fig, ax = plt.subplots()\n",
    "ax.errorbar(blobcut_energy,blobcut_energy_nevents_0nubb, yerr=blobcut_energy_nevents_0nubb_error, fmt = '-r')\n",
    "plt.ylabel('accepted events (a.u.)')\n",
    "plt.xlabel('blob-2 energy threshold (MeV)')\n",
    "#plt.title('Cut efficiency')"
   ]
  },
  {
   "cell_type": "code",
   "execution_count": null,
   "metadata": {},
   "outputs": [],
   "source": [
    "fom_error, e_error, b_error = [], [], []\n",
    "\n",
    "e, b, fom, e_error, b_error, fom_error = myef.efficiencyterms(blobcut_energy_nevents_0nubb, blobcut_energy_nevents_selectron, \n",
    "                            blobcut_energy_nevents_0nubb_error, blobcut_energy_nevents_selectron_error,\n",
    "                            reco_0nubb_e, reco_selectron_e)"
   ]
  },
  {
   "cell_type": "code",
   "execution_count": null,
   "metadata": {},
   "outputs": [],
   "source": [
    "fig, ax = plt.subplots()\n",
    "ax.errorbar(1-b,e, xerr=b_error, yerr=e_error, fmt = '-r')\n",
    "plt.ylabel('signal efficiency')\n",
    "plt.xlabel('background rejection')\n",
    "#plt.title('Cut efficiency')"
   ]
  },
  {
   "cell_type": "code",
   "execution_count": null,
   "metadata": {},
   "outputs": [],
   "source": [
    "fig, ax = plt.subplots()\n",
    "ax.errorbar(blobcut_energy,fom, yerr=fom_error,fmt = '-r')\n",
    "plt.xlabel('blob-2 energy threshold (MeV)')\n",
    "plt.ylabel('f.o.m.=e/sqrt(b)')\n",
    "#plt.title('Cut efficiency')"
   ]
  },
  {
   "cell_type": "code",
   "execution_count": null,
   "metadata": {},
   "outputs": [],
   "source": [
    "myef.best_fom(e,b,fom,blobcut_energy)"
   ]
  }
 ],
 "metadata": {
  "kernelspec": {
   "display_name": "Python 3",
   "language": "python",
   "name": "python3"
  },
  "language_info": {
   "codemirror_mode": {
    "name": "ipython",
    "version": 3
   },
   "file_extension": ".py",
   "mimetype": "text/x-python",
   "name": "python",
   "nbconvert_exporter": "python",
   "pygments_lexer": "ipython3",
   "version": "3.8.3"
  }
 },
 "nbformat": 4,
 "nbformat_minor": 4
}
