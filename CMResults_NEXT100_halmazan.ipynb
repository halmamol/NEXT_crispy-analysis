{
 "cells": [
  {
   "cell_type": "code",
   "execution_count": 1,
   "metadata": {},
   "outputs": [],
   "source": [
    "import os\n",
    "import sys\n",
    "\n",
    "import numpy  as np\n",
    "import tables as tb\n",
    "import pandas as pd\n",
    "import matplotlib\n",
    "import math\n",
    "\n",
    "#the line below makes the plot as a pop-up, that can be saved\n",
    "#matplotlib.use('TkAgg')\n",
    "\n",
    "import matplotlib.pyplot as plt\n",
    "from mpl_toolkits.mplot3d import Axes3D\n",
    "import matplotlib.colors as clrs\n",
    "\n",
    "import matplotlib.cm as cm\n",
    "from matplotlib.colors import Normalize\n",
    "\n",
    "from IC.invisible_cities.evm.event_model        import Cluster, Hit\n",
    "from IC.invisible_cities.types.ic_types         import xy\n",
    "from IC.invisible_cities.reco.paolina_functions import voxelize_hits"
   ]
  },
  {
   "cell_type": "code",
   "execution_count": 2,
   "metadata": {},
   "outputs": [],
   "source": [
    "import functions.histo_functions as myhf\n",
    "import functions.efficiency_functions as myef\n",
    "import functions.recovstrue as myrvt"
   ]
  },
  {
   "cell_type": "code",
   "execution_count": 3,
   "metadata": {},
   "outputs": [],
   "source": [
    "filepath = '/Users/halmamol/NEXT/files/NEXT100/'\n",
    "max0nubbf = 900"
   ]
  },
  {
   "cell_type": "markdown",
   "metadata": {},
   "source": [
    "### Opening TRACK Files - Name "
   ]
  },
  {
   "cell_type": "code",
   "execution_count": 4,
   "metadata": {},
   "outputs": [
    {
     "name": "stdout",
     "output_type": "stream",
     "text": [
      "File /Users/halmamol/NEXT/files/NEXT100/0nubb/tracks/next100.0nubb.723.skel_tracks.R21mm.h5 not good\n"
     ]
    },
    {
     "data": {
      "text/plain": [
       "Index(['event', 'trackID', 'energy', 'length', 'numb_of_voxels',\n",
       "       'numb_of_hits', 'numb_of_tracks', 'x_min', 'y_min', 'z_min', 'x_max',\n",
       "       'y_max', 'z_max', 'r_max', 'x_ave', 'y_ave', 'z_ave', 'extreme1_x',\n",
       "       'extreme1_y', 'extreme1_z', 'extreme2_x', 'extreme2_y', 'extreme2_z',\n",
       "       'blob1_x', 'blob1_y', 'blob1_z', 'blob2_x', 'blob2_y', 'blob2_z',\n",
       "       'eblob1', 'eblob2', 'ovlp_blob_energy', 'vox_size_x', 'vox_size_y',\n",
       "       'vox_size_z'],\n",
       "      dtype='object')"
      ]
     },
     "execution_count": 4,
     "metadata": {},
     "output_type": "execute_result"
    }
   ],
   "source": [
    "#0nubb files\n",
    "track_list_0nubb = []\n",
    "max0nubbf = 900\n",
    "filepath_0nubb_tracks = filepath+'0nubb/tracks/'\n",
    "\n",
    "#loop over all the files, to read 'Tracks' information\n",
    "for nfile in range(1,max0nubbf):\n",
    "    \n",
    "    filename_0nubb = filepath_0nubb_tracks+f'next100.0nubb.{nfile}.skel_tracks.R21mm.h5'\n",
    "    #the following lines are added because some of the files aren't there (I had to check Paola's notebook)\n",
    "    try:\n",
    "        readfile_tracks = pd.read_hdf(filename_0nubb, 'Tracks')\n",
    "    except:\n",
    "        print('File {} not good'.format(filename_0nubb))\n",
    "        continue\n",
    "        \n",
    "    track_list_0nubb.append(readfile_tracks)\n",
    "    \n",
    "\n",
    "#'concat' command means: 'concatenate pandas objects along a particular \n",
    "# axis with optional set logic along the other axes.' -> following line \n",
    "# is needed to keep an order between the files\n",
    "\n",
    "tracks_0nubb = pd.concat([dt for dt in track_list_0nubb]) \n",
    "tracks_0nubb.columns  \n",
    "\n",
    "#these are all the elements inside the file:"
   ]
  },
  {
   "cell_type": "code",
   "execution_count": 5,
   "metadata": {},
   "outputs": [
    {
     "data": {
      "text/plain": [
       "Index(['event', 'trackID', 'energy', 'length', 'numb_of_voxels',\n",
       "       'numb_of_hits', 'numb_of_tracks', 'x_min', 'y_min', 'z_min', 'x_max',\n",
       "       'y_max', 'z_max', 'r_max', 'x_ave', 'y_ave', 'z_ave', 'extreme1_x',\n",
       "       'extreme1_y', 'extreme1_z', 'extreme2_x', 'extreme2_y', 'extreme2_z',\n",
       "       'blob1_x', 'blob1_y', 'blob1_z', 'blob2_x', 'blob2_y', 'blob2_z',\n",
       "       'eblob1', 'eblob2', 'ovlp_blob_energy', 'vox_size_x', 'vox_size_y',\n",
       "       'vox_size_z'],\n",
       "      dtype='object')"
      ]
     },
     "execution_count": 5,
     "metadata": {},
     "output_type": "execute_result"
    }
   ],
   "source": [
    "#same for selectron files\n",
    "track_list_selectron = []\n",
    "maxselectron = 900\n",
    "filepath_selectron_tracks = filepath+'selectron/tracks/'\n",
    "\n",
    "#loop over all the files, to read 'Tracks' information\n",
    "for nfile in range(1,maxselectron):\n",
    "    \n",
    "    filename_selectron = filepath_selectron_tracks+f'next100.e-_roi.{nfile}.skel_tracks.R21mm.h5'\n",
    "    #the following lines are added because some of the files aren't there (I had to check Paola's notebook)\n",
    "    try:\n",
    "        readfile_tracks_selectron = pd.read_hdf(filename_selectron, 'Tracks')\n",
    "    except:\n",
    "        print('File {} not good'.format(filename_selectron))\n",
    "        continue\n",
    "        \n",
    "    track_list_selectron.append(readfile_tracks_selectron)\n",
    "    \n",
    "\n",
    "#'concat' command means: 'concatenate pandas objects along a particular \n",
    "# axis with optional set logic along the other axes.' -> following line \n",
    "# is needed to keep an order between the files\n",
    "\n",
    "tracks_selectron = pd.concat([dt for dt in track_list_selectron]) \n",
    "tracks_selectron.columns  \n",
    "\n",
    "#these are all the elements inside the file:"
   ]
  },
  {
   "cell_type": "markdown",
   "metadata": {},
   "source": [
    "### Checking variables\n",
    "\n",
    "So far, I'm interested in selecting the events in/with:\n",
    "- **Fiducial**: fiducial cut around the detector volume, of 2cm from the border\n",
    "- **1Track**: in this case, considers the track with highest deposition\n",
    "- **NoOverlap**: defined blobs in one trace should not overlap\n",
    "- **ROI**: energy cut in the region of interest, between [2.445,2475]MeV"
   ]
  },
  {
   "cell_type": "code",
   "execution_count": 6,
   "metadata": {},
   "outputs": [
    {
     "name": "stdout",
     "output_type": "stream",
     "text": [
      "Initial amount of events for 0nubb: 8790\n",
      "Initial amount of events for selectrons: 8800\n"
     ]
    }
   ],
   "source": [
    "#Checking total amount of events, prior any selection\n",
    "nevents_0nubb_total = tracks_0nubb.event.nunique()\n",
    "print(f'Initial amount of events for 0nubb: {nevents_0nubb_total}')\n",
    "\n",
    "nevents_selectron_total = tracks_selectron.event.nunique()\n",
    "print(f'Initial amount of events for selectrons: {nevents_selectron_total}')"
   ]
  },
  {
   "cell_type": "markdown",
   "metadata": {},
   "source": [
    "### Checking variables: Fiducial\n",
    "\n",
    "Test the position of the track end point, to see if it's withing the fiducial limits. To do so, I need the information about the NEXT100 dimensions:"
   ]
  },
  {
   "cell_type": "code",
   "execution_count": 7,
   "metadata": {},
   "outputs": [],
   "source": [
    "#Dimensions for the NEXT100 detector\n",
    "veto_N100 = 20 # mm\n",
    "rmax_N100 = 492 - veto_N100\n",
    "zmin_N100 = veto_N100\n",
    "zmax_N100 = 1205 - veto_N100"
   ]
  },
  {
   "cell_type": "code",
   "execution_count": 8,
   "metadata": {
    "scrolled": true
   },
   "outputs": [
    {
     "data": {
      "image/png": "[encoded data removed]",
      "text/plain": [
       "<Figure size 432x288 with 1 Axes>"
      ]
     },
     "metadata": {
      "needs_background": "light"
     },
     "output_type": "display_data"
    }
   ],
   "source": [
    "track_0nubb_rmax = tracks_0nubb.r_max\n",
    "track_0nubb_zmin = tracks_0nubb.z_min\n",
    "track_0nubb_zmax = tracks_0nubb.z_max\n",
    "\n",
    "plt.hist(track_0nubb_rmax, bins = 50, color='red', histtype='step', label = 'rMax')\n",
    "plt.hist(track_0nubb_zmin, bins = 50, color='blue', histtype='step', label = 'zMin')\n",
    "plt.hist(track_0nubb_zmax, bins = 50, color='green', histtype='step', label = 'zMax', linestyle='dashed')\n",
    "\n",
    "plt.xlabel('position (mm)')\n",
    "plt.ylabel('events (a.u.)')\n",
    "plt.legend(loc=1);\n",
    "plt.show()"
   ]
  },
  {
   "cell_type": "code",
   "execution_count": 9,
   "metadata": {},
   "outputs": [
    {
     "data": {
      "image/png": "[encoded data removed]",
      "text/plain": [
       "<Figure size 432x288 with 1 Axes>"
      ]
     },
     "metadata": {
      "needs_background": "light"
     },
     "output_type": "display_data"
    }
   ],
   "source": [
    "track_selectron_rmax = tracks_selectron.r_max\n",
    "track_selectron_zmin = tracks_selectron.z_min\n",
    "track_selectron_zmax = tracks_selectron.z_max\n",
    "\n",
    "plt.hist(track_selectron_rmax, bins = 50, color='red', histtype='step', label = 'rMax')\n",
    "plt.hist(track_selectron_zmin, bins = 50, color='blue', histtype='step', label = 'zMin')\n",
    "plt.hist(track_selectron_zmax, bins = 50, color='green', histtype='step', label = 'zMax', linestyle='dashed')\n",
    "\n",
    "plt.xlabel('position (mm)')\n",
    "plt.ylabel('events (a.u.)')\n",
    "plt.legend(loc=1);\n",
    "plt.show()"
   ]
  },
  {
   "cell_type": "code",
   "execution_count": 10,
   "metadata": {},
   "outputs": [
    {
     "data": {
      "image/png": "[encoded data removed]",
      "text/plain": [
       "<Figure size 432x288 with 1 Axes>"
      ]
     },
     "metadata": {
      "needs_background": "light"
     },
     "output_type": "display_data"
    }
   ],
   "source": [
    "#For the evaluation of the events out of fiducial limits it's necessary to do several steps\n",
    "\n",
    "#First, check a list of events where at least 1 trace is out of the limits:\n",
    "\n",
    "nonfiducial_list_0nubb = tracks_0nubb[~((tracks_0nubb.r_max < rmax_N100) & \n",
    "                                     (tracks_0nubb.z_min > zmin_N100) & \n",
    "                                     (tracks_0nubb.z_max < zmax_N100))].event.unique()\n",
    "\n",
    "#Then I apply the selection into the matrix of elements\n",
    "fiducial_tracks_0nubb = tracks_0nubb[(tracks_0nubb.r_max < rmax_N100) & \n",
    "                                     (tracks_0nubb.z_min > zmin_N100) & \n",
    "                                     (tracks_0nubb.z_max < zmax_N100)]\n",
    "\n",
    "# I get a list of true elements if event ID is not in the above list 'nonfiducial_list'\n",
    "evt_fid_sel_0nubb    = ~fiducial_tracks_0nubb.event.isin(nonfiducial_list_0nubb) \n",
    "\n",
    "# And finally I select the events with an asigned True from the previous line \n",
    "tracks_0nubb_fiducial = fiducial_tracks_0nubb[evt_fid_sel_0nubb]\n",
    "\n",
    "track_rmax = tracks_0nubb_fiducial.r_max\n",
    "track_zmin = tracks_0nubb_fiducial.z_min\n",
    "track_zmax = tracks_0nubb_fiducial.z_max\n",
    "\n",
    "plt.hist(track_rmax, bins = 50, color='red', histtype='step', label = 'rMax')\n",
    "plt.hist(track_zmin, bins = 50, color='blue', histtype='step', label = 'zMin')\n",
    "plt.hist(track_zmax, bins = 50, color='green', histtype='step', label = 'zMax', linestyle='dashed')\n",
    "\n",
    "plt.xlabel('position (mm)')\n",
    "plt.ylabel('events (a.u.)')\n",
    "plt.legend(loc=1);\n",
    "plt.show()"
   ]
  },
  {
   "cell_type": "code",
   "execution_count": 11,
   "metadata": {},
   "outputs": [],
   "source": [
    "#Now I do the same for single electron\n",
    "\n",
    "nonfiducial_list_selectron = tracks_selectron[~((tracks_selectron.r_max < rmax_N100) & \n",
    "                                     (tracks_selectron.z_min > zmin_N100) & \n",
    "                                     (tracks_selectron.z_max < zmax_N100))].event.unique()\n",
    "\n",
    "#Then I apply the selection into the matrix of elements\n",
    "fiducial_tracks_selectron = tracks_selectron[(tracks_selectron.r_max < rmax_N100) & \n",
    "                                     (tracks_selectron.z_min > zmin_N100) & \n",
    "                                     (tracks_selectron.z_max < zmax_N100)]\n",
    "\n",
    "# I get a list of true elements if event ID is not in the above list 'nonfiducial_list'\n",
    "evt_fid_sel_selectron    = ~fiducial_tracks_selectron.event.isin(nonfiducial_list_selectron) \n",
    "\n",
    "# And finally I select the events with an asigned True from the previous line \n",
    "tracks_selectron_fiducial = fiducial_tracks_selectron[evt_fid_sel_selectron]"
   ]
  },
  {
   "cell_type": "code",
   "execution_count": 12,
   "metadata": {},
   "outputs": [
    {
     "name": "stdout",
     "output_type": "stream",
     "text": [
      "--------------------------0nubb-------------------------\n",
      "--CUT---!----EVENTS----!---REDUCTION---!---EFFICIENCY---\n",
      "INITIAL    8790        \n",
      "FIDUCIAL   6076                ---      69.12400455062571%\n",
      "--------!--------------!----------------!----------------\n",
      " \n",
      " \n",
      "--------------------------SElectron---------------------\n",
      "--CUT---!----EVENTS----!---REDUCTION---!---EFFICIENCY---\n",
      "INITIAL    8790        \n",
      "FIDUCIAL   6076                ---      66.17747440273038%\n",
      "--------!--------------!----------------!----------------\n"
     ]
    }
   ],
   "source": [
    "#Checking total amount of events, after fiducial selection\n",
    "\n",
    "nevents_0nubb_fiducial = tracks_0nubb_fiducial.event.nunique()\n",
    "nevents_selectron_fiducial = tracks_selectron_fiducial.event.nunique()\n",
    "\n",
    "print('--------------------------0nubb-------------------------')\n",
    "print('--CUT---!----EVENTS----!---REDUCTION---!---EFFICIENCY---')\n",
    "print(f'INITIAL    {nevents_0nubb_total}        ')\n",
    "print(f'FIDUCIAL   {nevents_0nubb_fiducial}                ---      {100*nevents_0nubb_fiducial/nevents_0nubb_total}%')\n",
    "print('--------!--------------!----------------!----------------')\n",
    "print(' ')\n",
    "print(' ')\n",
    "print('--------------------------SElectron---------------------')\n",
    "print('--CUT---!----EVENTS----!---REDUCTION---!---EFFICIENCY---')\n",
    "print(f'INITIAL    {nevents_0nubb_total}        ')\n",
    "print(f'FIDUCIAL   {nevents_0nubb_fiducial}                ---      {100*nevents_selectron_fiducial/nevents_0nubb_total}%')\n",
    "print('--------!--------------!----------------!----------------')\n"
   ]
  },
  {
   "cell_type": "markdown",
   "metadata": {},
   "source": [
    "### Checking variables: 1Track\n",
    "To check the track with highest energy deposition: 1st check if there is more than 1track, later remove the ones with energy deposition. "
   ]
  },
  {
   "cell_type": "code",
   "execution_count": 13,
   "metadata": {},
   "outputs": [
    {
     "data": {
      "image/png": "[encoded data removed]",
      "text/plain": [
       "<Figure size 432x288 with 1 Axes>"
      ]
     },
     "metadata": {
      "needs_background": "light"
     },
     "output_type": "display_data"
    }
   ],
   "source": [
    "#Check the number of tracks with numb_of_tracks\n",
    "ntracks = tracks_0nubb.numb_of_tracks\n",
    "\n",
    "plt.hist(ntracks, bins = 50)\n",
    "plt.xlabel('number of tracks')\n",
    "plt.ylabel('events (a.u.)')\n",
    "plt.show()\n"
   ]
  },
  {
   "cell_type": "code",
   "execution_count": 14,
   "metadata": {},
   "outputs": [
    {
     "data": {
      "text/html": [
       "<div>\n",
       "<style scoped>\n",
       "    .dataframe tbody tr th:only-of-type {\n",
       "        vertical-align: middle;\n",
       "    }\n",
       "\n",
       "    .dataframe tbody tr th {\n",
       "        vertical-align: top;\n",
       "    }\n",
       "\n",
       "    .dataframe thead th {\n",
       "        text-align: right;\n",
       "    }\n",
       "</style>\n",
       "<table border=\"1\" class=\"dataframe\">\n",
       "  <thead>\n",
       "    <tr style=\"text-align: right;\">\n",
       "      <th></th>\n",
       "      <th>event</th>\n",
       "      <th>trackID</th>\n",
       "      <th>energy</th>\n",
       "      <th>length</th>\n",
       "      <th>numb_of_voxels</th>\n",
       "      <th>numb_of_hits</th>\n",
       "      <th>numb_of_tracks</th>\n",
       "      <th>x_min</th>\n",
       "      <th>y_min</th>\n",
       "      <th>z_min</th>\n",
       "      <th>...</th>\n",
       "      <th>blob1_z</th>\n",
       "      <th>blob2_x</th>\n",
       "      <th>blob2_y</th>\n",
       "      <th>blob2_z</th>\n",
       "      <th>eblob1</th>\n",
       "      <th>eblob2</th>\n",
       "      <th>ovlp_blob_energy</th>\n",
       "      <th>vox_size_x</th>\n",
       "      <th>vox_size_y</th>\n",
       "      <th>vox_size_z</th>\n",
       "    </tr>\n",
       "  </thead>\n",
       "  <tbody>\n",
       "    <tr>\n",
       "      <th>0</th>\n",
       "      <td>0</td>\n",
       "      <td>0</td>\n",
       "      <td>2.475314</td>\n",
       "      <td>180.973722</td>\n",
       "      <td>739</td>\n",
       "      <td>27246</td>\n",
       "      <td>4</td>\n",
       "      <td>-259.5</td>\n",
       "      <td>-367.5</td>\n",
       "      <td>308.425500</td>\n",
       "      <td>...</td>\n",
       "      <td>333.410510</td>\n",
       "      <td>-254.025000</td>\n",
       "      <td>-226.000000</td>\n",
       "      <td>316.151619</td>\n",
       "      <td>0.373302</td>\n",
       "      <td>0.225996</td>\n",
       "      <td>0</td>\n",
       "      <td>4.961538</td>\n",
       "      <td>4.897436</td>\n",
       "      <td>4.904922</td>\n",
       "    </tr>\n",
       "    <tr>\n",
       "      <th>1</th>\n",
       "      <td>0</td>\n",
       "      <td>1</td>\n",
       "      <td>0.000343</td>\n",
       "      <td>0.000000</td>\n",
       "      <td>1</td>\n",
       "      <td>13</td>\n",
       "      <td>4</td>\n",
       "      <td>-286.5</td>\n",
       "      <td>-299.5</td>\n",
       "      <td>313.988219</td>\n",
       "      <td>...</td>\n",
       "      <td>1000000.000000</td>\n",
       "      <td>1000000.000000</td>\n",
       "      <td>1000000.000000</td>\n",
       "      <td>1000000.000000</td>\n",
       "      <td>0.373302</td>\n",
       "      <td>0.225996</td>\n",
       "      <td>-1</td>\n",
       "      <td>4.961538</td>\n",
       "      <td>4.897436</td>\n",
       "      <td>4.904922</td>\n",
       "    </tr>\n",
       "    <tr>\n",
       "      <th>2</th>\n",
       "      <td>0</td>\n",
       "      <td>2</td>\n",
       "      <td>0.000104</td>\n",
       "      <td>4.897436</td>\n",
       "      <td>2</td>\n",
       "      <td>4</td>\n",
       "      <td>4</td>\n",
       "      <td>-256.5</td>\n",
       "      <td>-282.5</td>\n",
       "      <td>334.031875</td>\n",
       "      <td>...</td>\n",
       "      <td>1000000.000000</td>\n",
       "      <td>1000000.000000</td>\n",
       "      <td>1000000.000000</td>\n",
       "      <td>1000000.000000</td>\n",
       "      <td>0.373302</td>\n",
       "      <td>0.225996</td>\n",
       "      <td>-1</td>\n",
       "      <td>4.961538</td>\n",
       "      <td>4.897436</td>\n",
       "      <td>4.904922</td>\n",
       "    </tr>\n",
       "    <tr>\n",
       "      <th>3</th>\n",
       "      <td>0</td>\n",
       "      <td>3</td>\n",
       "      <td>0.000052</td>\n",
       "      <td>0.000000</td>\n",
       "      <td>1</td>\n",
       "      <td>2</td>\n",
       "      <td>4</td>\n",
       "      <td>-158.5</td>\n",
       "      <td>-408.5</td>\n",
       "      <td>335.988812</td>\n",
       "      <td>...</td>\n",
       "      <td>1000000.000000</td>\n",
       "      <td>1000000.000000</td>\n",
       "      <td>1000000.000000</td>\n",
       "      <td>1000000.000000</td>\n",
       "      <td>0.373302</td>\n",
       "      <td>0.225996</td>\n",
       "      <td>-1</td>\n",
       "      <td>4.961538</td>\n",
       "      <td>4.897436</td>\n",
       "      <td>4.904922</td>\n",
       "    </tr>\n",
       "    <tr>\n",
       "      <th>0</th>\n",
       "      <td>1</td>\n",
       "      <td>0</td>\n",
       "      <td>0.953390</td>\n",
       "      <td>100.009867</td>\n",
       "      <td>465</td>\n",
       "      <td>16014</td>\n",
       "      <td>10</td>\n",
       "      <td>433.5</td>\n",
       "      <td>-201.5</td>\n",
       "      <td>85.224500</td>\n",
       "      <td>...</td>\n",
       "      <td>113.939352</td>\n",
       "      <td>464.083333</td>\n",
       "      <td>-187.703125</td>\n",
       "      <td>109.401530</td>\n",
       "      <td>0.217124</td>\n",
       "      <td>0.089520</td>\n",
       "      <td>0</td>\n",
       "      <td>4.928571</td>\n",
       "      <td>4.911765</td>\n",
       "      <td>4.649504</td>\n",
       "    </tr>\n",
       "    <tr>\n",
       "      <th>...</th>\n",
       "      <td>...</td>\n",
       "      <td>...</td>\n",
       "      <td>...</td>\n",
       "      <td>...</td>\n",
       "      <td>...</td>\n",
       "      <td>...</td>\n",
       "      <td>...</td>\n",
       "      <td>...</td>\n",
       "      <td>...</td>\n",
       "      <td>...</td>\n",
       "      <td>...</td>\n",
       "      <td>...</td>\n",
       "      <td>...</td>\n",
       "      <td>...</td>\n",
       "      <td>...</td>\n",
       "      <td>...</td>\n",
       "      <td>...</td>\n",
       "      <td>...</td>\n",
       "      <td>...</td>\n",
       "      <td>...</td>\n",
       "      <td>...</td>\n",
       "    </tr>\n",
       "    <tr>\n",
       "      <th>1</th>\n",
       "      <td>8989</td>\n",
       "      <td>1</td>\n",
       "      <td>0.004963</td>\n",
       "      <td>31.163494</td>\n",
       "      <td>19</td>\n",
       "      <td>325</td>\n",
       "      <td>6</td>\n",
       "      <td>-475.5</td>\n",
       "      <td>235.5</td>\n",
       "      <td>1086.980625</td>\n",
       "      <td>...</td>\n",
       "      <td>1000000.000000</td>\n",
       "      <td>1000000.000000</td>\n",
       "      <td>1000000.000000</td>\n",
       "      <td>1000000.000000</td>\n",
       "      <td>0.278518</td>\n",
       "      <td>0.162548</td>\n",
       "      <td>-1</td>\n",
       "      <td>4.950000</td>\n",
       "      <td>4.939394</td>\n",
       "      <td>4.229917</td>\n",
       "    </tr>\n",
       "    <tr>\n",
       "      <th>2</th>\n",
       "      <td>8989</td>\n",
       "      <td>2</td>\n",
       "      <td>0.001251</td>\n",
       "      <td>20.115518</td>\n",
       "      <td>9</td>\n",
       "      <td>107</td>\n",
       "      <td>6</td>\n",
       "      <td>-394.5</td>\n",
       "      <td>207.5</td>\n",
       "      <td>1083.007625</td>\n",
       "      <td>...</td>\n",
       "      <td>1000000.000000</td>\n",
       "      <td>1000000.000000</td>\n",
       "      <td>1000000.000000</td>\n",
       "      <td>1000000.000000</td>\n",
       "      <td>0.278518</td>\n",
       "      <td>0.162548</td>\n",
       "      <td>-1</td>\n",
       "      <td>4.950000</td>\n",
       "      <td>4.939394</td>\n",
       "      <td>4.229917</td>\n",
       "    </tr>\n",
       "    <tr>\n",
       "      <th>3</th>\n",
       "      <td>8989</td>\n",
       "      <td>3</td>\n",
       "      <td>0.000822</td>\n",
       "      <td>20.104912</td>\n",
       "      <td>6</td>\n",
       "      <td>66</td>\n",
       "      <td>6</td>\n",
       "      <td>-449.5</td>\n",
       "      <td>97.5</td>\n",
       "      <td>1084.969250</td>\n",
       "      <td>...</td>\n",
       "      <td>1000000.000000</td>\n",
       "      <td>1000000.000000</td>\n",
       "      <td>1000000.000000</td>\n",
       "      <td>1000000.000000</td>\n",
       "      <td>0.278518</td>\n",
       "      <td>0.162548</td>\n",
       "      <td>-1</td>\n",
       "      <td>4.950000</td>\n",
       "      <td>4.939394</td>\n",
       "      <td>4.229917</td>\n",
       "    </tr>\n",
       "    <tr>\n",
       "      <th>4</th>\n",
       "      <td>8989</td>\n",
       "      <td>4</td>\n",
       "      <td>0.000270</td>\n",
       "      <td>4.939394</td>\n",
       "      <td>2</td>\n",
       "      <td>24</td>\n",
       "      <td>6</td>\n",
       "      <td>-395.5</td>\n",
       "      <td>238.5</td>\n",
       "      <td>1091.007875</td>\n",
       "      <td>...</td>\n",
       "      <td>1000000.000000</td>\n",
       "      <td>1000000.000000</td>\n",
       "      <td>1000000.000000</td>\n",
       "      <td>1000000.000000</td>\n",
       "      <td>0.278518</td>\n",
       "      <td>0.162548</td>\n",
       "      <td>-1</td>\n",
       "      <td>4.950000</td>\n",
       "      <td>4.939394</td>\n",
       "      <td>4.229917</td>\n",
       "    </tr>\n",
       "    <tr>\n",
       "      <th>5</th>\n",
       "      <td>8989</td>\n",
       "      <td>5</td>\n",
       "      <td>0.000245</td>\n",
       "      <td>6.992862</td>\n",
       "      <td>3</td>\n",
       "      <td>22</td>\n",
       "      <td>6</td>\n",
       "      <td>-384.5</td>\n",
       "      <td>116.5</td>\n",
       "      <td>1084.969250</td>\n",
       "      <td>...</td>\n",
       "      <td>1000000.000000</td>\n",
       "      <td>1000000.000000</td>\n",
       "      <td>1000000.000000</td>\n",
       "      <td>1000000.000000</td>\n",
       "      <td>0.278518</td>\n",
       "      <td>0.162548</td>\n",
       "      <td>-1</td>\n",
       "      <td>4.950000</td>\n",
       "      <td>4.939394</td>\n",
       "      <td>4.229917</td>\n",
       "    </tr>\n",
       "  </tbody>\n",
       "</table>\n",
       "<p>33586 rows × 35 columns</p>\n",
       "</div>"
      ],
      "text/plain": [
       "    event  trackID    energy      length  numb_of_voxels  numb_of_hits  \\\n",
       "0       0        0  2.475314  180.973722             739         27246   \n",
       "1       0        1  0.000343    0.000000               1            13   \n",
       "2       0        2  0.000104    4.897436               2             4   \n",
       "3       0        3  0.000052    0.000000               1             2   \n",
       "0       1        0  0.953390  100.009867             465         16014   \n",
       "..    ...      ...       ...         ...             ...           ...   \n",
       "1    8989        1  0.004963   31.163494              19           325   \n",
       "2    8989        2  0.001251   20.115518               9           107   \n",
       "3    8989        3  0.000822   20.104912               6            66   \n",
       "4    8989        4  0.000270    4.939394               2            24   \n",
       "5    8989        5  0.000245    6.992862               3            22   \n",
       "\n",
       "    numb_of_tracks  x_min  y_min        z_min  ...         blob1_z  \\\n",
       "0                4 -259.5 -367.5   308.425500  ...      333.410510   \n",
       "1                4 -286.5 -299.5   313.988219  ...  1000000.000000   \n",
       "2                4 -256.5 -282.5   334.031875  ...  1000000.000000   \n",
       "3                4 -158.5 -408.5   335.988812  ...  1000000.000000   \n",
       "0               10  433.5 -201.5    85.224500  ...      113.939352   \n",
       "..             ...    ...    ...          ...  ...             ...   \n",
       "1                6 -475.5  235.5  1086.980625  ...  1000000.000000   \n",
       "2                6 -394.5  207.5  1083.007625  ...  1000000.000000   \n",
       "3                6 -449.5   97.5  1084.969250  ...  1000000.000000   \n",
       "4                6 -395.5  238.5  1091.007875  ...  1000000.000000   \n",
       "5                6 -384.5  116.5  1084.969250  ...  1000000.000000   \n",
       "\n",
       "           blob2_x         blob2_y         blob2_z    eblob1    eblob2  \\\n",
       "0      -254.025000     -226.000000      316.151619  0.373302  0.225996   \n",
       "1   1000000.000000  1000000.000000  1000000.000000  0.373302  0.225996   \n",
       "2   1000000.000000  1000000.000000  1000000.000000  0.373302  0.225996   \n",
       "3   1000000.000000  1000000.000000  1000000.000000  0.373302  0.225996   \n",
       "0       464.083333     -187.703125      109.401530  0.217124  0.089520   \n",
       "..             ...             ...             ...       ...       ...   \n",
       "1   1000000.000000  1000000.000000  1000000.000000  0.278518  0.162548   \n",
       "2   1000000.000000  1000000.000000  1000000.000000  0.278518  0.162548   \n",
       "3   1000000.000000  1000000.000000  1000000.000000  0.278518  0.162548   \n",
       "4   1000000.000000  1000000.000000  1000000.000000  0.278518  0.162548   \n",
       "5   1000000.000000  1000000.000000  1000000.000000  0.278518  0.162548   \n",
       "\n",
       "    ovlp_blob_energy  vox_size_x  vox_size_y  vox_size_z  \n",
       "0                  0    4.961538    4.897436    4.904922  \n",
       "1                 -1    4.961538    4.897436    4.904922  \n",
       "2                 -1    4.961538    4.897436    4.904922  \n",
       "3                 -1    4.961538    4.897436    4.904922  \n",
       "0                  0    4.928571    4.911765    4.649504  \n",
       "..               ...         ...         ...         ...  \n",
       "1                 -1    4.950000    4.939394    4.229917  \n",
       "2                 -1    4.950000    4.939394    4.229917  \n",
       "3                 -1    4.950000    4.939394    4.229917  \n",
       "4                 -1    4.950000    4.939394    4.229917  \n",
       "5                 -1    4.950000    4.939394    4.229917  \n",
       "\n",
       "[33586 rows x 35 columns]"
      ]
     },
     "execution_count": 14,
     "metadata": {},
     "output_type": "execute_result"
    }
   ],
   "source": [
    "#Loop to study the number of tracks in the event, to take the one with max energy deposition\n",
    "#Normally it would be asked that: \n",
    "\n",
    "#tracks_0nubb_1track = tracks_0nubb[tracks_0nubb.numb_of_tracks == 1]\n",
    "\n",
    "#tracks_0nubb_1trackfid = tracks_0nubb_fiducial[tracks_0nubb_fiducial.numb_of_tracks == 1]\n",
    "\n",
    "#But I'm going to take the traces with highest deposition. Checking this:\n",
    "tracks_0nubb\n",
    "\n",
    "#I've seen that the 1st track is the one with the highest energy deposition"
   ]
  },
  {
   "cell_type": "code",
   "execution_count": 15,
   "metadata": {},
   "outputs": [],
   "source": [
    "#Therefore, I'm going to take the 1st 'trackID'\n",
    "tracks_0nubb_1track = tracks_0nubb[tracks_0nubb.trackID == 0]\n",
    "tracks_0nubb_1trackfid = tracks_0nubb_fiducial[tracks_0nubb_fiducial.trackID == 0]\n",
    "\n",
    "tracks_selectron_1track = tracks_selectron[tracks_selectron.trackID == 0]\n",
    "tracks_selectron_1trackfid = tracks_selectron_fiducial[tracks_selectron_fiducial.trackID == 0]"
   ]
  },
  {
   "cell_type": "code",
   "execution_count": 16,
   "metadata": {},
   "outputs": [
    {
     "data": {
      "image/png": "[encoded data removed]",
      "text/plain": [
       "<Figure size 432x288 with 1 Axes>"
      ]
     },
     "metadata": {
      "needs_background": "light"
     },
     "output_type": "display_data"
    }
   ],
   "source": [
    "plt.hist(tracks_0nubb_1trackfid.energy, bins = 50)\n",
    "plt.xlabel('energy (MeV)')\n",
    "plt.ylabel('events (a.u.)')\n",
    "plt.show()"
   ]
  },
  {
   "cell_type": "code",
   "execution_count": 17,
   "metadata": {},
   "outputs": [
    {
     "name": "stdout",
     "output_type": "stream",
     "text": [
      "--------------------------0nubb-------------------------\n",
      "--CUT---!----EVENTS----!----REDUCTION----!---EFFICIENCY---\n",
      "INITIAL    8790        \n",
      "FIDUCIAL   6076         69.12400455062571% 69.12400455062571%\n",
      "1TRACK.    6076        100.0% 69.12400455062571%\n",
      "--------!--------------!------------------!----------------\n",
      " \n",
      " \n",
      "--------------------------SElectron---------------------\n",
      "--CUT---!----EVENTS----!---REDUCTION---!---EFFICIENCY---\n",
      "INITIAL    8800        \n",
      "FIDUCIAL   5817                ---      66.10227272727273%\n",
      "1TRACK.    5817        100.0% 66.10227272727273%\n",
      "--------!--------------!----------------!----------------\n"
     ]
    }
   ],
   "source": [
    "#Checking total amount of events, after fiducial selection\n",
    "\n",
    "nevents_0nubb_1track = tracks_0nubb_1track.event.nunique()\n",
    "nevents_0nubb_1trackfid = tracks_0nubb_1trackfid.event.nunique()\n",
    "\n",
    "nevents_selectron_1track = tracks_selectron_1track.event.nunique()\n",
    "nevents_selectron_1trackfid = tracks_selectron_1trackfid.event.nunique()\n",
    "\n",
    "print('--------------------------0nubb-------------------------')\n",
    "print('--CUT---!----EVENTS----!----REDUCTION----!---EFFICIENCY---')\n",
    "print(f'INITIAL    {nevents_0nubb_total}        ')\n",
    "print(f'FIDUCIAL   {nevents_0nubb_fiducial}         {100*nevents_0nubb_fiducial/nevents_0nubb_total}% {100*nevents_0nubb_fiducial/nevents_0nubb_total}%')\n",
    "print(f'1TRACK.    {nevents_0nubb_1trackfid}        {100*nevents_0nubb_1trackfid/nevents_0nubb_fiducial}% {100*nevents_0nubb_1trackfid/nevents_0nubb_total}%')\n",
    "print('--------!--------------!------------------!----------------')\n",
    "print(' ')\n",
    "print(' ')\n",
    "print('--------------------------SElectron---------------------')\n",
    "print('--CUT---!----EVENTS----!---REDUCTION---!---EFFICIENCY---')\n",
    "print(f'INITIAL    {nevents_selectron_total}        ')\n",
    "print(f'FIDUCIAL   {nevents_selectron_fiducial}                ---      {100*nevents_selectron_fiducial/nevents_selectron_total}%')\n",
    "print(f'1TRACK.    {nevents_selectron_1trackfid}        {100*nevents_selectron_1trackfid/nevents_selectron_fiducial}% {100*nevents_selectron_1trackfid/nevents_selectron_total}%')\n",
    "print('--------!--------------!----------------!----------------')\n"
   ]
  },
  {
   "cell_type": "markdown",
   "metadata": {},
   "source": [
    "### Checking variables: **NoOverlap**\n",
    "The variable ovlp_blob_energy is defined for this purpouse"
   ]
  },
  {
   "cell_type": "code",
   "execution_count": 18,
   "metadata": {},
   "outputs": [
    {
     "data": {
      "image/png": "[encoded data removed]",
      "text/plain": [
       "<Figure size 432x288 with 1 Axes>"
      ]
     },
     "metadata": {
      "needs_background": "light"
     },
     "output_type": "display_data"
    }
   ],
   "source": [
    "ovlp_blob_energy = tracks_0nubb_1trackfid.ovlp_blob_energy\n",
    "\n",
    "plt.hist(ovlp_blob_energy, bins = 50)\n",
    "plt.xlabel('overlap blob energy')\n",
    "plt.ylabel('events (a.u.)')\n",
    "plt.show()"
   ]
  },
  {
   "cell_type": "code",
   "execution_count": 19,
   "metadata": {},
   "outputs": [],
   "source": [
    "#Getting ovlp variable of the tracks, and selecting events with no ovlp\n",
    "\n",
    "tracks_0nubb_ovlp = tracks_0nubb[tracks_0nubb.ovlp_blob_energy == 0.]\n",
    "tracks_0nubb_ovlp1trackfid = tracks_0nubb_1trackfid[tracks_0nubb_1trackfid.ovlp_blob_energy == 0.]\n",
    "\n",
    "tracks_selectron_ovlp = tracks_selectron[tracks_selectron.ovlp_blob_energy == 0.]\n",
    "tracks_selectron_ovlp1trackfid = tracks_selectron_1trackfid[tracks_selectron_1trackfid.ovlp_blob_energy == 0.]"
   ]
  },
  {
   "cell_type": "code",
   "execution_count": 20,
   "metadata": {},
   "outputs": [
    {
     "name": "stdout",
     "output_type": "stream",
     "text": [
      "--------------------------0nubb-------------------------\n",
      "--CUT---!----EVENTS----!----REDUCTION----!---EFFICIENCY---\n",
      "INITIAL    8790        \n",
      "FIDUCIAL   6076         69.12400455062571% 69.12400455062571%\n",
      "1TRACK.    6076        100.0% 69.12400455062571%\n",
      "OVLP       5428        89.33508887425938%   61.75199089874858%\n",
      "--------!--------------!------------------!----------------\n",
      " \n",
      " \n",
      "--------------------------SElectron---------------------\n",
      "--CUT---!----EVENTS----!---REDUCTION---!---EFFICIENCY---\n",
      "INITIAL    8800        \n",
      "FIDUCIAL   5817                ---      66.10227272727273%\n",
      "1TRACK.    5817        100.0% 66.10227272727273%\n",
      "OVLP       5606        96.37270070483066%   63.70454545454545%\n",
      "--------!--------------!----------------!----------------\n"
     ]
    }
   ],
   "source": [
    "#Checking total amount of events, after overlap selection\n",
    "\n",
    "nevents_0nubb_ovlp = tracks_0nubb_ovlp.event.nunique()\n",
    "nevents_0nubb_ovlp1trackfid = tracks_0nubb_ovlp1trackfid.event.nunique()\n",
    "\n",
    "nevents_selectron_ovlp = tracks_selectron_ovlp.event.nunique()\n",
    "nevents_selectron_ovlp1trackfid = tracks_selectron_ovlp1trackfid.event.nunique()\n",
    "\n",
    "\n",
    "\n",
    "print('--------------------------0nubb-------------------------')\n",
    "print('--CUT---!----EVENTS----!----REDUCTION----!---EFFICIENCY---')\n",
    "print(f'INITIAL    {nevents_0nubb_total}        ')\n",
    "print(f'FIDUCIAL   {nevents_0nubb_fiducial}         {100*nevents_0nubb_fiducial/nevents_0nubb_total}% {100*nevents_0nubb_fiducial/nevents_0nubb_total}%')\n",
    "print(f'1TRACK.    {nevents_0nubb_1trackfid}        {100*nevents_0nubb_1trackfid/nevents_0nubb_fiducial}% {100*nevents_0nubb_1trackfid/nevents_0nubb_total}%')\n",
    "print(f'OVLP       {nevents_0nubb_ovlp1trackfid}        {100*nevents_0nubb_ovlp1trackfid/nevents_0nubb_1trackfid}%   {100*nevents_0nubb_ovlp1trackfid/nevents_0nubb_total}%')\n",
    "print('--------!--------------!------------------!----------------')\n",
    "print(' ')\n",
    "print(' ')\n",
    "print('--------------------------SElectron---------------------')\n",
    "print('--CUT---!----EVENTS----!---REDUCTION---!---EFFICIENCY---')\n",
    "print(f'INITIAL    {nevents_selectron_total}        ')\n",
    "print(f'FIDUCIAL   {nevents_selectron_fiducial}                ---      {100*nevents_selectron_fiducial/nevents_selectron_total}%')\n",
    "print(f'1TRACK.    {nevents_selectron_1trackfid}        {100*nevents_selectron_1trackfid/nevents_selectron_fiducial}% {100*nevents_selectron_1trackfid/nevents_selectron_total}%')\n",
    "print(f'OVLP       {nevents_selectron_ovlp1trackfid}        {100*nevents_selectron_ovlp1trackfid/nevents_selectron_1trackfid}%   {100*nevents_selectron_ovlp1trackfid/nevents_selectron_total}%')\n",
    "print('--------!--------------!----------------!----------------')"
   ]
  },
  {
   "cell_type": "markdown",
   "metadata": {},
   "source": [
    "### Checking variables: ROI\n",
    "Getting events with an energy inside the region of interest."
   ]
  },
  {
   "cell_type": "code",
   "execution_count": 21,
   "metadata": {},
   "outputs": [],
   "source": [
    "#Limits of the Energy ROI \n",
    "\n",
    "emin = 2.4\n",
    "emax = 2.54\n",
    "\n",
    "#UPDATE: The initial values are not the used ones. Due to some spread in the reconstructed\n",
    "#energy, and some non-linearities, the ROI needs to be broader. Values are increased as above."
   ]
  },
  {
   "cell_type": "code",
   "execution_count": 22,
   "metadata": {},
   "outputs": [
    {
     "data": {
      "image/png": "[encoded data removed]",
      "text/plain": [
       "<Figure size 432x288 with 1 Axes>"
      ]
     },
     "metadata": {
      "needs_background": "light"
     },
     "output_type": "display_data"
    }
   ],
   "source": [
    "#Getting energy of the tracks\n",
    "energy = tracks_0nubb.energy\n",
    "\n",
    "plt.hist(energy, bins = 50)\n",
    "plt.xlabel('energy (MeV)')\n",
    "plt.ylabel('events (a.u.)')\n",
    "plt.show()"
   ]
  },
  {
   "cell_type": "code",
   "execution_count": 23,
   "metadata": {},
   "outputs": [
    {
     "data": {
      "image/png": "[encoded data removed]",
      "text/plain": [
       "<Figure size 432x288 with 1 Axes>"
      ]
     },
     "metadata": {
      "needs_background": "light"
     },
     "output_type": "display_data"
    }
   ],
   "source": [
    "#Selecting events in the ROI\n",
    "tracks_0nubb_ROI = tracks_0nubb[(tracks_0nubb.energy >= emin) & (tracks_0nubb.energy <= emax)]\n",
    "tracks_0nubb_ROIovlp1trackfid = tracks_0nubb_ovlp1trackfid[(tracks_0nubb_ovlp1trackfid.energy >= emin) & (tracks_0nubb_ovlp1trackfid.energy <= emax)]\n",
    "\n",
    "tracks_selectron_ROI = tracks_selectron[(tracks_selectron.energy >= emin) & (tracks_selectron.energy <= emax)]\n",
    "tracks_selectron_ROIovlp1trackfid = tracks_selectron_ovlp1trackfid[(tracks_selectron_ovlp1trackfid.energy >= emin) & (tracks_selectron_ovlp1trackfid.energy <= emax)]\n",
    "\n",
    "\n",
    "energy = tracks_0nubb_ROIovlp1trackfid.energy\n",
    "\n",
    "plt.hist(energy, bins = 50)\n",
    "plt.xlabel('energy (MeV)')\n",
    "plt.ylabel('events (a.u.)')\n",
    "plt.show()"
   ]
  },
  {
   "cell_type": "code",
   "execution_count": 24,
   "metadata": {},
   "outputs": [
    {
     "name": "stdout",
     "output_type": "stream",
     "text": [
      "--------------------------0nubb-------------------------\n",
      "--CUT---!----EVENTS----!----REDUCTION----!---EFFICIENCY---\n",
      "INITIAL    8790        \n",
      "FIDUCIAL   6076         69.12400455062571% 69.12400455062571%\n",
      "1TRACK.    6076        100.0% 69.12400455062571%\n",
      "OVLP       5428        89.33508887425938%   61.75199089874858%\n",
      "ROI        4004        73.7656595431098%   45.551763367463025%\n",
      "--------!--------------!------------------!----------------\n",
      " \n",
      " \n",
      "--------------------------SElectron---------------------\n",
      "--CUT---!----EVENTS----!---REDUCTION---!---EFFICIENCY---\n",
      "INITIAL    8800        \n",
      "FIDUCIAL   5817                ---      66.10227272727273%\n",
      "1TRACK.    5817        100.0% 66.10227272727273%\n",
      "OVLP       5606        96.37270070483066%   63.70454545454545%\n",
      "ROI        3803        67.83803068141277%   43.21590909090909%\n",
      "--------!--------------!----------------!----------------\n"
     ]
    }
   ],
   "source": [
    "#Checking total amount of events, after ROI selection\n",
    "nevents_0nubb_ROI = tracks_0nubb_ROI.event.nunique()\n",
    "nevents_0nubb_ROIovlp1trackfid = tracks_0nubb_ROIovlp1trackfid.event.nunique()\n",
    "\n",
    "nevents_selectron_ROI = tracks_selectron_ROI.event.nunique()\n",
    "nevents_selectron_ROIovlp1trackfid = tracks_selectron_ROIovlp1trackfid.event.nunique()\n",
    "\n",
    "\n",
    "print('--------------------------0nubb-------------------------')\n",
    "print('--CUT---!----EVENTS----!----REDUCTION----!---EFFICIENCY---')\n",
    "print(f'INITIAL    {nevents_0nubb_total}        ')\n",
    "print(f'FIDUCIAL   {nevents_0nubb_fiducial}         {100*nevents_0nubb_fiducial/nevents_0nubb_total}% {100*nevents_0nubb_fiducial/nevents_0nubb_total}%')\n",
    "print(f'1TRACK.    {nevents_0nubb_1trackfid}        {100*nevents_0nubb_1trackfid/nevents_0nubb_fiducial}% {100*nevents_0nubb_1trackfid/nevents_0nubb_total}%')\n",
    "print(f'OVLP       {nevents_0nubb_ovlp1trackfid}        {100*nevents_0nubb_ovlp1trackfid/nevents_0nubb_1trackfid}%   {100*nevents_0nubb_ovlp1trackfid/nevents_0nubb_total}%')\n",
    "print(f'ROI        {nevents_0nubb_ROIovlp1trackfid}        {100*nevents_0nubb_ROIovlp1trackfid/nevents_0nubb_ovlp1trackfid}%   {100*nevents_0nubb_ROIovlp1trackfid/nevents_0nubb_total}%')\n",
    "print('--------!--------------!------------------!----------------')\n",
    "print(' ')\n",
    "print(' ')\n",
    "print('--------------------------SElectron---------------------')\n",
    "print('--CUT---!----EVENTS----!---REDUCTION---!---EFFICIENCY---')\n",
    "print(f'INITIAL    {nevents_selectron_total}        ')\n",
    "print(f'FIDUCIAL   {nevents_selectron_fiducial}                ---      {100*nevents_selectron_fiducial/nevents_selectron_total}%')\n",
    "print(f'1TRACK.    {nevents_selectron_1trackfid}        {100*nevents_selectron_1trackfid/nevents_selectron_fiducial}% {100*nevents_selectron_1trackfid/nevents_selectron_total}%')\n",
    "print(f'OVLP       {nevents_selectron_ovlp1trackfid}        {100*nevents_selectron_ovlp1trackfid/nevents_selectron_1trackfid}%   {100*nevents_selectron_ovlp1trackfid/nevents_selectron_total}%')\n",
    "print(f'ROI        {nevents_selectron_ROIovlp1trackfid}        {100*nevents_selectron_ROIovlp1trackfid/nevents_selectron_ovlp1trackfid}%   {100*nevents_selectron_ROIovlp1trackfid/nevents_selectron_total}%')\n",
    "print('--------!--------------!----------------!----------------')"
   ]
  },
  {
   "cell_type": "code",
   "execution_count": 25,
   "metadata": {},
   "outputs": [
    {
     "data": {
      "image/png": "[encoded data removed]",
      "text/plain": [
       "<Figure size 432x288 with 1 Axes>"
      ]
     },
     "metadata": {
      "needs_background": "light"
     },
     "output_type": "display_data"
    }
   ],
   "source": [
    "tracks_0nubb_sel = tracks_0nubb[tracks_0nubb.energy > 2.4]\n",
    "tracks_0nubb_fiducial_sel = tracks_0nubb_fiducial[tracks_0nubb_fiducial.energy > 2.4]\n",
    "tracks_0nubb_1trackfid_sel = tracks_0nubb_1trackfid[tracks_0nubb_1trackfid.energy > 2.4]\n",
    "tracks_0nubb_ovlp1trackfid_sel = tracks_0nubb_ovlp1trackfid[tracks_0nubb_ovlp1trackfid.energy > 2.4]\n",
    "tracks_0nubb_ROIovlp1trackfid_sel = tracks_0nubb_ROIovlp1trackfid[tracks_0nubb_ROIovlp1trackfid.energy > 2.4]\n",
    "\n",
    "plt.hist(tracks_0nubb_fiducial_sel.energy, bins = 50, color='blue', histtype='step', label = 'fiducial')\n",
    "plt.hist(tracks_0nubb_sel.energy, bins = 50, color='red', histtype='step', label = 'no cut')\n",
    "plt.hist(tracks_0nubb_1trackfid_sel.energy, bins = 50, color='orange', histtype='step', label = '+ 1-track', linestyle='dashed')\n",
    "plt.hist(tracks_0nubb_ovlp1trackfid_sel.energy, bins = 50, color='green', histtype='step', label = '+ overlap', linestyle='dashed')\n",
    "#plt.hist(tracks_0nubb_ROIovlp1trackfid_sel.energy, bins = 50, color='purple', histtype='step', label = '+ ROI', linestyle='dashed')\n",
    "\n",
    "plt.xlabel('track energy (MeV)')\n",
    "plt.ylabel('events (a.u.)')\n",
    "plt.title('0nubb')\n",
    "plt.legend(loc=2);\n",
    "#plt.xlim((2.2,2.6))\n",
    "#plt.yscale('log')\n",
    "plt.show()"
   ]
  },
  {
   "cell_type": "code",
   "execution_count": 26,
   "metadata": {},
   "outputs": [
    {
     "data": {
      "image/png": "[encoded data removed]",
      "text/plain": [
       "<Figure size 432x288 with 1 Axes>"
      ]
     },
     "metadata": {
      "needs_background": "light"
     },
     "output_type": "display_data"
    }
   ],
   "source": [
    "tracks_selectron_sel = tracks_selectron[tracks_selectron.energy > 2.4]\n",
    "tracks_selectron_fiducial_sel = tracks_selectron_fiducial[tracks_selectron_fiducial.energy > 2.4]\n",
    "tracks_selectron_1trackfid_sel = tracks_selectron_1trackfid[tracks_selectron_1trackfid.energy > 2.4]\n",
    "tracks_selectron_ovlp1trackfid_sel = tracks_selectron_ovlp1trackfid[tracks_selectron_ovlp1trackfid.energy > 2.4]\n",
    "tracks_selectron_ROIovlp1trackfid_sel = tracks_selectron_ROIovlp1trackfid[tracks_selectron_ROIovlp1trackfid.energy > 2.4]\n",
    "\n",
    "plt.hist(tracks_selectron_sel.energy, bins = 50, color='red', histtype='step', label = 'no cut')\n",
    "plt.hist(tracks_selectron_fiducial_sel.energy, bins = 50, color='blue', histtype='step', label = 'fiducial')\n",
    "plt.hist(tracks_selectron_1trackfid_sel.energy, bins = 50, color='orange', histtype='step', label = '+ 1-track', linestyle='dashed')\n",
    "plt.hist(tracks_selectron_ovlp1trackfid_sel.energy, bins = 50, color='green', histtype='step', label = '+ overlap', linestyle='dashed')\n",
    "#plt.hist(tracks_selectron_ROIovlp1trackfid_sel.energy, bins = 50, color='purple', histtype='step', label = '+ ROI', linestyle='dashed')\n",
    "\n",
    "\n",
    "plt.xlabel('track energy (MeV)')\n",
    "plt.ylabel('events (a.u.)')\n",
    "plt.title('Single Electron')\n",
    "plt.legend(loc=2);\n",
    "#plt.xlim((2.,2.6))\n",
    "#plt.yscale('log')\n",
    "plt.show()"
   ]
  },
  {
   "cell_type": "code",
   "execution_count": 27,
   "metadata": {},
   "outputs": [
    {
     "data": {
      "text/plain": [
       "Text(0.5, 1.0, 'Cut efficiency')"
      ]
     },
     "execution_count": 27,
     "metadata": {},
     "output_type": "execute_result"
    },
    {
     "data": {
      "image/png": "[encoded data removed]",
      "text/plain": [
       "<Figure size 432x288 with 1 Axes>"
      ]
     },
     "metadata": {
      "needs_background": "light"
     },
     "output_type": "display_data"
    }
   ],
   "source": [
    "energybin = []\n",
    "events_energybin_notcuts_0nubb, events_energybin_notcuts_selectron= [], []\n",
    "events_energybin_fiducial_0nubb, events_energybin_fiducial_selectron= [], []\n",
    "events_energybin_all_0nubb, events_energybin_all_selectron= [], []\n",
    "\n",
    "cutefficiency_tot_0nubb, cutefficiency_tot_selectron= [], []\n",
    "cutefficiency_fiducial_0nubb, cutefficiency_fiducial_selectron= [], []\n",
    "\n",
    "nenergybin = 2.40\n",
    "steps = 0.01\n",
    "\n",
    "\n",
    "while nenergybin < 2.51:\n",
    "    energybin.append(nenergybin)\n",
    "    events_energybin_notcuts_0nubb.append(tracks_0nubb[(tracks_0nubb.energy > nenergybin) & \n",
    "                                (tracks_0nubb.energy < nenergybin+steps)].event.nunique())\n",
    "    events_energybin_fiducial_0nubb.append(tracks_0nubb_fiducial[(tracks_0nubb_fiducial.energy > nenergybin) & \n",
    "                                (tracks_0nubb_fiducial.energy < nenergybin+steps)].event.nunique())\n",
    "    events_energybin_all_0nubb.append(tracks_0nubb_ROIovlp1trackfid[(tracks_0nubb_ROIovlp1trackfid.energy > nenergybin) & \n",
    "                                (tracks_0nubb_ROIovlp1trackfid.energy < nenergybin+steps)].event.nunique())\n",
    "    events_energybin_notcuts_selectron.append(tracks_selectron[(tracks_selectron.energy > nenergybin) & \n",
    "                                (tracks_selectron.energy < nenergybin+steps)].event.nunique())\n",
    "    events_energybin_all_selectron.append(tracks_selectron_ROIovlp1trackfid[(tracks_selectron_ROIovlp1trackfid.energy > nenergybin) & \n",
    "                                (tracks_selectron_ROIovlp1trackfid.energy < nenergybin+steps)].event.nunique())\n",
    "    nenergybin = nenergybin + steps\n",
    "\n",
    "\n",
    "events_energybin_all_0nubb=np.array(events_energybin_all_0nubb, dtype=np.float)\n",
    "events_energybin_fiducial_0nubb=np.array(events_energybin_fiducial_0nubb, dtype=np.float)\n",
    "events_energybin_notcuts_0nubb=np.array(events_energybin_notcuts_0nubb, dtype=np.float)\n",
    "\n",
    "\n",
    "events_energybin_all_selectron=np.array(events_energybin_all_selectron, dtype=np.float)\n",
    "events_energybin_notcuts_selectron=np.array(events_energybin_notcuts_selectron, dtype=np.float)\n",
    "\n",
    "cutefficiency_tot_0nubb = events_energybin_all_0nubb/events_energybin_notcuts_0nubb\n",
    "cutefficiency_tot_selectron = events_energybin_all_selectron/events_energybin_notcuts_selectron\n",
    "cutefficiency_fiducial_0nubb = events_energybin_fiducial_0nubb/events_energybin_notcuts_0nubb\n",
    "\n",
    "fig, ax = plt.subplots()\n",
    "ax.plot(energybin,cutefficiency_tot_0nubb, 'bs', label='0nubb')\n",
    "ax.plot(energybin,cutefficiency_tot_selectron, 'g^', label='single electron')\n",
    "\n",
    "leg = ax.legend();\n",
    "plt.xlabel('energy in ROI (MeV)')\n",
    "plt.ylabel('cut efficiency')\n",
    "plt.title('Cut efficiency')"
   ]
  },
  {
   "cell_type": "code",
   "execution_count": 28,
   "metadata": {},
   "outputs": [
    {
     "data": {
      "text/plain": [
       "Text(0, 0.5, 'signal efficiency (0nubb)')"
      ]
     },
     "execution_count": 28,
     "metadata": {},
     "output_type": "execute_result"
    },
    {
     "data": {
      "image/png": "[encoded data removed]",
      "text/plain": [
       "<Figure size 432x288 with 1 Axes>"
      ]
     },
     "metadata": {
      "needs_background": "light"
     },
     "output_type": "display_data"
    }
   ],
   "source": [
    "fig, ax = plt.subplots()\n",
    "ax.plot(1-cutefficiency_tot_selectron,cutefficiency_tot_0nubb, 'rs')\n",
    "plt.xlabel('background rejection (1-efficiency)')\n",
    "plt.ylabel('signal efficiency (0nubb)')\n",
    "#plt.title('Cut efficiency')"
   ]
  },
  {
   "cell_type": "markdown",
   "metadata": {},
   "source": [
    "### 1 - Representing TRUE vs RECO"
   ]
  },
  {
   "cell_type": "markdown",
   "metadata": {},
   "source": [
    "Now I'm going to see if I can represent for an event the comparison between the reconstructed track and the true information from the MC simulation. "
   ]
  },
  {
   "cell_type": "code",
   "execution_count": 29,
   "metadata": {},
   "outputs": [
    {
     "data": {
      "text/plain": [
       "File(filename=/Users/halmamol/NEXT/files/NEXT100/0nubb/hits/next100.0nubb.1.deconv.h5, title='', mode='r', root_uep='/', filters=Filters(complevel=4, complib='zlib', shuffle=True, bitshuffle=False, fletcher32=False, least_significant_digit=None))\n",
       "/ (RootGroup) ''\n",
       "/DECO (Group) ''\n",
       "/DECO/Events (Table(254988,), shuffle, zlib(4)) 'Deconvolved hits'\n",
       "  description := {\n",
       "  \"event\": Int64Col(shape=(), dflt=0, pos=0),\n",
       "  \"npeak\": UInt64Col(shape=(), dflt=0, pos=1),\n",
       "  \"X\": Float64Col(shape=(), dflt=0.0, pos=2),\n",
       "  \"Y\": Float64Col(shape=(), dflt=0.0, pos=3),\n",
       "  \"Z\": Float64Col(shape=(), dflt=0.0, pos=4),\n",
       "  \"E\": Float64Col(shape=(), dflt=0.0, pos=5)}\n",
       "  byteorder := 'little'\n",
       "  chunkshape := (1365,)\n",
       "  autoindex := True\n",
       "  colindexes := {\n",
       "    \"event\": Index(6, medium, shuffle, zlib(1)).is_csi=False}\n",
       "/MC (Group) ''\n",
       "/MC/configuration (Table(41,), shuffle, zlib(4)) ''\n",
       "  description := {\n",
       "  \"param_key\": StringCol(itemsize=300, shape=(), dflt=b'', pos=0),\n",
       "  \"param_value\": StringCol(itemsize=300, shape=(), dflt=b'', pos=1),\n",
       "  \"file_index\": Int64Col(shape=(), dflt=0, pos=2)}\n",
       "  byteorder := 'little'\n",
       "  chunkshape := (107,)\n",
       "/MC/event_mapping (Table(10,), shuffle, zlib(4)) ''\n",
       "  description := {\n",
       "  \"event_id\": Int64Col(shape=(), dflt=0, pos=0),\n",
       "  \"file_index\": Int64Col(shape=(), dflt=0, pos=1)}\n",
       "  byteorder := 'little'\n",
       "  chunkshape := (4096,)\n",
       "/MC/hits (Table(5803,), shuffle, zlib(4)) ''\n",
       "  description := {\n",
       "  \"event_id\": Int64Col(shape=(), dflt=0, pos=0),\n",
       "  \"particle_id\": Int64Col(shape=(), dflt=0, pos=1),\n",
       "  \"hit_id\": Int64Col(shape=(), dflt=0, pos=2),\n",
       "  \"x\": Float32Col(shape=(), dflt=0.0, pos=3),\n",
       "  \"y\": Float32Col(shape=(), dflt=0.0, pos=4),\n",
       "  \"z\": Float32Col(shape=(), dflt=0.0, pos=5),\n",
       "  \"time\": Float32Col(shape=(), dflt=0.0, pos=6),\n",
       "  \"energy\": Float32Col(shape=(), dflt=0.0, pos=7),\n",
       "  \"label\": StringCol(itemsize=100, shape=(), dflt=b'', pos=8)}\n",
       "  byteorder := 'little'\n",
       "  chunkshape := (455,)\n",
       "/MC/particles (Table(286,), shuffle, zlib(4)) ''\n",
       "  description := {\n",
       "  \"event_id\": Int64Col(shape=(), dflt=0, pos=0),\n",
       "  \"particle_id\": Int64Col(shape=(), dflt=0, pos=1),\n",
       "  \"particle_name\": StringCol(itemsize=100, shape=(), dflt=b'', pos=2),\n",
       "  \"primary\": BoolCol(shape=(), dflt=False, pos=3),\n",
       "  \"mother_id\": Int32Col(shape=(), dflt=0, pos=4),\n",
       "  \"initial_x\": Float32Col(shape=(), dflt=0.0, pos=5),\n",
       "  \"initial_y\": Float32Col(shape=(), dflt=0.0, pos=6),\n",
       "  \"initial_z\": Float32Col(shape=(), dflt=0.0, pos=7),\n",
       "  \"initial_t\": Float32Col(shape=(), dflt=0.0, pos=8),\n",
       "  \"final_x\": Float32Col(shape=(), dflt=0.0, pos=9),\n",
       "  \"final_y\": Float32Col(shape=(), dflt=0.0, pos=10),\n",
       "  \"final_z\": Float32Col(shape=(), dflt=0.0, pos=11),\n",
       "  \"final_t\": Float32Col(shape=(), dflt=0.0, pos=12),\n",
       "  \"initial_volume\": StringCol(itemsize=100, shape=(), dflt=b'', pos=13),\n",
       "  \"final_volume\": StringCol(itemsize=100, shape=(), dflt=b'', pos=14),\n",
       "  \"initial_momentum_x\": Float32Col(shape=(), dflt=0.0, pos=15),\n",
       "  \"initial_momentum_y\": Float32Col(shape=(), dflt=0.0, pos=16),\n",
       "  \"initial_momentum_z\": Float32Col(shape=(), dflt=0.0, pos=17),\n",
       "  \"final_momentum_x\": Float32Col(shape=(), dflt=0.0, pos=18),\n",
       "  \"final_momentum_y\": Float32Col(shape=(), dflt=0.0, pos=19),\n",
       "  \"final_momentum_z\": Float32Col(shape=(), dflt=0.0, pos=20),\n",
       "  \"kin_energy\": Float32Col(shape=(), dflt=0.0, pos=21),\n",
       "  \"length\": Float32Col(shape=(), dflt=0.0, pos=22),\n",
       "  \"creator_proc\": StringCol(itemsize=100, shape=(), dflt=b'', pos=23),\n",
       "  \"final_proc\": StringCol(itemsize=100, shape=(), dflt=b'', pos=24)}\n",
       "  byteorder := 'little'\n",
       "  chunkshape := (112,)\n",
       "/MC/sns_positions (Table(3644,), shuffle, zlib(4)) ''\n",
       "  description := {\n",
       "  \"sensor_id\": UInt32Col(shape=(), dflt=0, pos=0),\n",
       "  \"sensor_name\": StringCol(itemsize=100, shape=(), dflt=b'', pos=1),\n",
       "  \"x\": Float32Col(shape=(), dflt=0.0, pos=2),\n",
       "  \"y\": Float32Col(shape=(), dflt=0.0, pos=3),\n",
       "  \"z\": Float32Col(shape=(), dflt=0.0, pos=4)}\n",
       "  byteorder := 'little'\n",
       "  chunkshape := (564,)\n",
       "/MC/sns_response (Table(1505175,), shuffle, zlib(4)) ''\n",
       "  description := {\n",
       "  \"event_id\": Int32Col(shape=(), dflt=0, pos=0),\n",
       "  \"sensor_id\": UInt32Col(shape=(), dflt=0, pos=1),\n",
       "  \"time_bin\": UInt64Col(shape=(), dflt=0, pos=2),\n",
       "  \"charge\": UInt32Col(shape=(), dflt=0, pos=3)}\n",
       "  byteorder := 'little'\n",
       "  chunkshape := (3276,)\n",
       "/Run (Group) ''\n",
       "/Run/events (Table(10,), shuffle, zlib(4)) 'event info table'\n",
       "  description := {\n",
       "  \"evt_number\": Int32Col(shape=(), dflt=0, pos=0),\n",
       "  \"timestamp\": UInt64Col(shape=(), dflt=0, pos=1)}\n",
       "  byteorder := 'little'\n",
       "  chunkshape := (5461,)\n",
       "/Run/runInfo (Table(10,), shuffle, zlib(4)) 'run info table'\n",
       "  description := {\n",
       "  \"run_number\": Int32Col(shape=(), dflt=0, pos=0)}\n",
       "  byteorder := 'little'\n",
       "  chunkshape := (16384,)\n",
       "/Summary (Group) ''\n",
       "/Summary/Events (Table(10,), shuffle, zlib(4)) 'Event summary information'\n",
       "  description := {\n",
       "  \"event\": Int32Col(shape=(), dflt=0, pos=0),\n",
       "  \"evt_energy\": Float64Col(shape=(), dflt=0.0, pos=1),\n",
       "  \"evt_charge\": Float64Col(shape=(), dflt=0.0, pos=2),\n",
       "  \"evt_ntrks\": Int64Col(shape=(), dflt=0, pos=3),\n",
       "  \"evt_nhits\": Int64Col(shape=(), dflt=0, pos=4),\n",
       "  \"evt_x_avg\": Float64Col(shape=(), dflt=0.0, pos=5),\n",
       "  \"evt_y_avg\": Float64Col(shape=(), dflt=0.0, pos=6),\n",
       "  \"evt_z_avg\": Float64Col(shape=(), dflt=0.0, pos=7),\n",
       "  \"evt_r_avg\": Float64Col(shape=(), dflt=0.0, pos=8),\n",
       "  \"evt_x_min\": Float64Col(shape=(), dflt=0.0, pos=9),\n",
       "  \"evt_y_min\": Float64Col(shape=(), dflt=0.0, pos=10),\n",
       "  \"evt_z_min\": Float64Col(shape=(), dflt=0.0, pos=11),\n",
       "  \"evt_r_min\": Float64Col(shape=(), dflt=0.0, pos=12),\n",
       "  \"evt_x_max\": Float64Col(shape=(), dflt=0.0, pos=13),\n",
       "  \"evt_y_max\": Float64Col(shape=(), dflt=0.0, pos=14),\n",
       "  \"evt_z_max\": Float64Col(shape=(), dflt=0.0, pos=15),\n",
       "  \"evt_r_max\": Float64Col(shape=(), dflt=0.0, pos=16),\n",
       "  \"evt_out_of_map\": BoolCol(shape=(), dflt=False, pos=17)}\n",
       "  byteorder := 'little'\n",
       "  chunkshape := (492,)\n",
       "  autoindex := True\n",
       "  colindexes := {\n",
       "    \"event\": Index(6, medium, shuffle, zlib(1)).is_csi=False}"
      ]
     },
     "execution_count": 29,
     "metadata": {},
     "output_type": "execute_result"
    }
   ],
   "source": [
    "#0nubb files\n",
    "hits_list_0nubb = []\n",
    "filepath_0nubb_hits = filepath+'0nubb/hits/'\n",
    "\n",
    "\n",
    "filename_0nubb_hits = filepath_0nubb_hits+f'next100.0nubb.1.deconv.h5'\n",
    "h5file = tb.open_file(filename_0nubb_hits)\n",
    "h5file"
   ]
  },
  {
   "cell_type": "markdown",
   "metadata": {},
   "source": [
    "The true information is stored in MC, more concretely inside the 'particles' group. To check the true position is going to be more complicated than to retrieve the info from a variable. I'm going to use the information from \"plot_blobs_with_true_extremes_beersheba.py\" as a baseline to construct the true information. I'll start with 0nubb, and I'll extrapolate the information to SE later on. "
   ]
  },
  {
   "cell_type": "code",
   "execution_count": 30,
   "metadata": {},
   "outputs": [
    {
     "data": {
      "text/plain": [
       "Index(['event_id', 'particle_id', 'particle_name', 'primary', 'mother_id',\n",
       "       'initial_x', 'initial_y', 'initial_z', 'initial_t', 'final_x',\n",
       "       'final_y', 'final_z', 'final_t', 'initial_volume', 'final_volume',\n",
       "       'initial_momentum_x', 'initial_momentum_y', 'initial_momentum_z',\n",
       "       'final_momentum_x', 'final_momentum_y', 'final_momentum_z',\n",
       "       'kin_energy', 'length', 'creator_proc', 'final_proc'],\n",
       "      dtype='object')"
      ]
     },
     "execution_count": 30,
     "metadata": {},
     "output_type": "execute_result"
    }
   ],
   "source": [
    "#0nubb files\n",
    "true_list_0nubb = []\n",
    "filepath_0nubb_true = filepath+'0nubb/hits/'\n",
    "\n",
    "#loop over all the files, to read 'HITS' information\n",
    "for nfile in range(1,max0nubbf):\n",
    "    \n",
    "    filename_0nubb_true = filepath_0nubb_true+f'next100.0nubb.{nfile}.deconv.h5'\n",
    "\n",
    "    try:\n",
    "        readfile_true_0nubb = pd.read_hdf(filename_0nubb_true, 'MC/particles')\n",
    "    except:\n",
    "        print('File {} not good'.format(filename_0nubb_true))\n",
    "        continue\n",
    "        \n",
    "    true_list_0nubb.append(readfile_true_0nubb)\n",
    "    \n",
    "#'concat' command means: 'concatenate pandas objects along a particular \n",
    "# axis with optional set logic along the other axes.' -> following line \n",
    "# is needed to keep an order between the files\n",
    "\n",
    "true_0nubb = pd.concat([dt for dt in true_list_0nubb]) \n",
    "true_0nubb.columns  "
   ]
  },
  {
   "cell_type": "markdown",
   "metadata": {},
   "source": [
    "Inside of MC/particles you can find all the information about the created partiles. Right now, I need to check the primary particles created in the simulation: the two electrons. To do so, I need to check the information about the 'primary' variable"
   ]
  },
  {
   "cell_type": "code",
   "execution_count": 31,
   "metadata": {},
   "outputs": [
    {
     "data": {
      "text/html": [
       "<div>\n",
       "<style scoped>\n",
       "    .dataframe tbody tr th:only-of-type {\n",
       "        vertical-align: middle;\n",
       "    }\n",
       "\n",
       "    .dataframe tbody tr th {\n",
       "        vertical-align: top;\n",
       "    }\n",
       "\n",
       "    .dataframe thead th {\n",
       "        text-align: right;\n",
       "    }\n",
       "</style>\n",
       "<table border=\"1\" class=\"dataframe\">\n",
       "  <thead>\n",
       "    <tr style=\"text-align: right;\">\n",
       "      <th></th>\n",
       "      <th>event_id</th>\n",
       "      <th>particle_id</th>\n",
       "      <th>particle_name</th>\n",
       "      <th>primary</th>\n",
       "      <th>mother_id</th>\n",
       "      <th>initial_x</th>\n",
       "      <th>initial_y</th>\n",
       "      <th>initial_z</th>\n",
       "      <th>initial_t</th>\n",
       "      <th>final_x</th>\n",
       "      <th>...</th>\n",
       "      <th>initial_momentum_x</th>\n",
       "      <th>initial_momentum_y</th>\n",
       "      <th>initial_momentum_z</th>\n",
       "      <th>final_momentum_x</th>\n",
       "      <th>final_momentum_y</th>\n",
       "      <th>final_momentum_z</th>\n",
       "      <th>kin_energy</th>\n",
       "      <th>length</th>\n",
       "      <th>creator_proc</th>\n",
       "      <th>final_proc</th>\n",
       "    </tr>\n",
       "  </thead>\n",
       "  <tbody>\n",
       "    <tr>\n",
       "      <th>9</th>\n",
       "      <td>0</td>\n",
       "      <td>2</td>\n",
       "      <td>e-</td>\n",
       "      <td>True</td>\n",
       "      <td>0</td>\n",
       "      <td>-239.914810</td>\n",
       "      <td>-238.046280</td>\n",
       "      <td>316.365936</td>\n",
       "      <td>0.0</td>\n",
       "      <td>-200.825760</td>\n",
       "      <td>...</td>\n",
       "      <td>2.549860</td>\n",
       "      <td>0.109969</td>\n",
       "      <td>0.684162</td>\n",
       "      <td>0.0</td>\n",
       "      <td>0.0</td>\n",
       "      <td>-0.0</td>\n",
       "      <td>2.180298</td>\n",
       "      <td>235.106247</td>\n",
       "      <td>none</td>\n",
       "      <td>Scintillation</td>\n",
       "    </tr>\n",
       "    <tr>\n",
       "      <th>10</th>\n",
       "      <td>0</td>\n",
       "      <td>1</td>\n",
       "      <td>e-</td>\n",
       "      <td>True</td>\n",
       "      <td>0</td>\n",
       "      <td>-239.914810</td>\n",
       "      <td>-238.046280</td>\n",
       "      <td>316.365936</td>\n",
       "      <td>0.0</td>\n",
       "      <td>-240.744125</td>\n",
       "      <td>...</td>\n",
       "      <td>-0.013486</td>\n",
       "      <td>-0.226322</td>\n",
       "      <td>-0.556109</td>\n",
       "      <td>-0.0</td>\n",
       "      <td>0.0</td>\n",
       "      <td>-0.0</td>\n",
       "      <td>0.277532</td>\n",
       "      <td>17.443966</td>\n",
       "      <td>none</td>\n",
       "      <td>Scintillation</td>\n",
       "    </tr>\n",
       "    <tr>\n",
       "      <th>14</th>\n",
       "      <td>1</td>\n",
       "      <td>2</td>\n",
       "      <td>e-</td>\n",
       "      <td>True</td>\n",
       "      <td>0</td>\n",
       "      <td>452.146729</td>\n",
       "      <td>-166.560150</td>\n",
       "      <td>96.130058</td>\n",
       "      <td>0.0</td>\n",
       "      <td>457.095093</td>\n",
       "      <td>...</td>\n",
       "      <td>-0.406067</td>\n",
       "      <td>1.022711</td>\n",
       "      <td>0.653254</td>\n",
       "      <td>-0.0</td>\n",
       "      <td>-0.0</td>\n",
       "      <td>0.0</td>\n",
       "      <td>0.866930</td>\n",
       "      <td>63.153664</td>\n",
       "      <td>none</td>\n",
       "      <td>Scintillation</td>\n",
       "    </tr>\n",
       "    <tr>\n",
       "      <th>16</th>\n",
       "      <td>1</td>\n",
       "      <td>1</td>\n",
       "      <td>e-</td>\n",
       "      <td>True</td>\n",
       "      <td>0</td>\n",
       "      <td>452.146729</td>\n",
       "      <td>-166.560150</td>\n",
       "      <td>96.130058</td>\n",
       "      <td>0.0</td>\n",
       "      <td>469.336273</td>\n",
       "      <td>...</td>\n",
       "      <td>-0.455509</td>\n",
       "      <td>0.328598</td>\n",
       "      <td>-1.959947</td>\n",
       "      <td>-0.0</td>\n",
       "      <td>0.0</td>\n",
       "      <td>0.0</td>\n",
       "      <td>1.590900</td>\n",
       "      <td>56.679573</td>\n",
       "      <td>none</td>\n",
       "      <td>Scintillation</td>\n",
       "    </tr>\n",
       "    <tr>\n",
       "      <th>19</th>\n",
       "      <td>2</td>\n",
       "      <td>2</td>\n",
       "      <td>e-</td>\n",
       "      <td>True</td>\n",
       "      <td>0</td>\n",
       "      <td>157.780060</td>\n",
       "      <td>-127.197853</td>\n",
       "      <td>787.558777</td>\n",
       "      <td>0.0</td>\n",
       "      <td>165.998825</td>\n",
       "      <td>...</td>\n",
       "      <td>-0.259671</td>\n",
       "      <td>1.266991</td>\n",
       "      <td>-0.398611</td>\n",
       "      <td>0.0</td>\n",
       "      <td>0.0</td>\n",
       "      <td>0.0</td>\n",
       "      <td>0.935620</td>\n",
       "      <td>58.765797</td>\n",
       "      <td>none</td>\n",
       "      <td>Scintillation</td>\n",
       "    </tr>\n",
       "    <tr>\n",
       "      <th>...</th>\n",
       "      <td>...</td>\n",
       "      <td>...</td>\n",
       "      <td>...</td>\n",
       "      <td>...</td>\n",
       "      <td>...</td>\n",
       "      <td>...</td>\n",
       "      <td>...</td>\n",
       "      <td>...</td>\n",
       "      <td>...</td>\n",
       "      <td>...</td>\n",
       "      <td>...</td>\n",
       "      <td>...</td>\n",
       "      <td>...</td>\n",
       "      <td>...</td>\n",
       "      <td>...</td>\n",
       "      <td>...</td>\n",
       "      <td>...</td>\n",
       "      <td>...</td>\n",
       "      <td>...</td>\n",
       "      <td>...</td>\n",
       "      <td>...</td>\n",
       "    </tr>\n",
       "    <tr>\n",
       "      <th>276</th>\n",
       "      <td>8987</td>\n",
       "      <td>1</td>\n",
       "      <td>e-</td>\n",
       "      <td>True</td>\n",
       "      <td>0</td>\n",
       "      <td>319.647125</td>\n",
       "      <td>256.603302</td>\n",
       "      <td>706.949097</td>\n",
       "      <td>0.0</td>\n",
       "      <td>292.450134</td>\n",
       "      <td>...</td>\n",
       "      <td>0.041772</td>\n",
       "      <td>0.326389</td>\n",
       "      <td>-2.535808</td>\n",
       "      <td>0.0</td>\n",
       "      <td>-0.0</td>\n",
       "      <td>0.0</td>\n",
       "      <td>2.096628</td>\n",
       "      <td>180.334976</td>\n",
       "      <td>none</td>\n",
       "      <td>Scintillation</td>\n",
       "    </tr>\n",
       "    <tr>\n",
       "      <th>282</th>\n",
       "      <td>8988</td>\n",
       "      <td>2</td>\n",
       "      <td>e-</td>\n",
       "      <td>True</td>\n",
       "      <td>0</td>\n",
       "      <td>-401.094818</td>\n",
       "      <td>3.905844</td>\n",
       "      <td>214.294266</td>\n",
       "      <td>0.0</td>\n",
       "      <td>-406.265930</td>\n",
       "      <td>...</td>\n",
       "      <td>0.132052</td>\n",
       "      <td>1.330568</td>\n",
       "      <td>0.311546</td>\n",
       "      <td>-0.0</td>\n",
       "      <td>-0.0</td>\n",
       "      <td>0.0</td>\n",
       "      <td>0.953934</td>\n",
       "      <td>88.180252</td>\n",
       "      <td>none</td>\n",
       "      <td>Scintillation</td>\n",
       "    </tr>\n",
       "    <tr>\n",
       "      <th>286</th>\n",
       "      <td>8988</td>\n",
       "      <td>1</td>\n",
       "      <td>e-</td>\n",
       "      <td>True</td>\n",
       "      <td>0</td>\n",
       "      <td>-401.094818</td>\n",
       "      <td>3.905844</td>\n",
       "      <td>214.294266</td>\n",
       "      <td>0.0</td>\n",
       "      <td>-396.048065</td>\n",
       "      <td>...</td>\n",
       "      <td>-0.084179</td>\n",
       "      <td>-1.736119</td>\n",
       "      <td>-0.881752</td>\n",
       "      <td>-0.0</td>\n",
       "      <td>-0.0</td>\n",
       "      <td>0.0</td>\n",
       "      <td>1.503896</td>\n",
       "      <td>134.865463</td>\n",
       "      <td>none</td>\n",
       "      <td>Scintillation</td>\n",
       "    </tr>\n",
       "    <tr>\n",
       "      <th>287</th>\n",
       "      <td>8989</td>\n",
       "      <td>2</td>\n",
       "      <td>e-</td>\n",
       "      <td>True</td>\n",
       "      <td>0</td>\n",
       "      <td>-432.714722</td>\n",
       "      <td>192.933319</td>\n",
       "      <td>1094.687134</td>\n",
       "      <td>0.0</td>\n",
       "      <td>-444.201263</td>\n",
       "      <td>...</td>\n",
       "      <td>-0.840328</td>\n",
       "      <td>0.122159</td>\n",
       "      <td>-0.132181</td>\n",
       "      <td>-0.0</td>\n",
       "      <td>0.0</td>\n",
       "      <td>-0.0</td>\n",
       "      <td>0.488834</td>\n",
       "      <td>28.419731</td>\n",
       "      <td>none</td>\n",
       "      <td>Scintillation</td>\n",
       "    </tr>\n",
       "    <tr>\n",
       "      <th>395</th>\n",
       "      <td>8989</td>\n",
       "      <td>1</td>\n",
       "      <td>e-</td>\n",
       "      <td>True</td>\n",
       "      <td>0</td>\n",
       "      <td>-432.714722</td>\n",
       "      <td>192.933319</td>\n",
       "      <td>1094.687134</td>\n",
       "      <td>0.0</td>\n",
       "      <td>-456.490479</td>\n",
       "      <td>...</td>\n",
       "      <td>1.695501</td>\n",
       "      <td>-1.650250</td>\n",
       "      <td>-0.539638</td>\n",
       "      <td>-0.0</td>\n",
       "      <td>0.0</td>\n",
       "      <td>-0.0</td>\n",
       "      <td>1.968997</td>\n",
       "      <td>103.292191</td>\n",
       "      <td>none</td>\n",
       "      <td>Scintillation</td>\n",
       "    </tr>\n",
       "  </tbody>\n",
       "</table>\n",
       "<p>17660 rows × 25 columns</p>\n",
       "</div>"
      ],
      "text/plain": [
       "     event_id  particle_id particle_name  primary  mother_id   initial_x  \\\n",
       "9           0            2            e-     True          0 -239.914810   \n",
       "10          0            1            e-     True          0 -239.914810   \n",
       "14          1            2            e-     True          0  452.146729   \n",
       "16          1            1            e-     True          0  452.146729   \n",
       "19          2            2            e-     True          0  157.780060   \n",
       "..        ...          ...           ...      ...        ...         ...   \n",
       "276      8987            1            e-     True          0  319.647125   \n",
       "282      8988            2            e-     True          0 -401.094818   \n",
       "286      8988            1            e-     True          0 -401.094818   \n",
       "287      8989            2            e-     True          0 -432.714722   \n",
       "395      8989            1            e-     True          0 -432.714722   \n",
       "\n",
       "      initial_y    initial_z  initial_t     final_x  ...  initial_momentum_x  \\\n",
       "9   -238.046280   316.365936        0.0 -200.825760  ...            2.549860   \n",
       "10  -238.046280   316.365936        0.0 -240.744125  ...           -0.013486   \n",
       "14  -166.560150    96.130058        0.0  457.095093  ...           -0.406067   \n",
       "16  -166.560150    96.130058        0.0  469.336273  ...           -0.455509   \n",
       "19  -127.197853   787.558777        0.0  165.998825  ...           -0.259671   \n",
       "..          ...          ...        ...         ...  ...                 ...   \n",
       "276  256.603302   706.949097        0.0  292.450134  ...            0.041772   \n",
       "282    3.905844   214.294266        0.0 -406.265930  ...            0.132052   \n",
       "286    3.905844   214.294266        0.0 -396.048065  ...           -0.084179   \n",
       "287  192.933319  1094.687134        0.0 -444.201263  ...           -0.840328   \n",
       "395  192.933319  1094.687134        0.0 -456.490479  ...            1.695501   \n",
       "\n",
       "     initial_momentum_y  initial_momentum_z final_momentum_x final_momentum_y  \\\n",
       "9              0.109969            0.684162              0.0              0.0   \n",
       "10            -0.226322           -0.556109             -0.0              0.0   \n",
       "14             1.022711            0.653254             -0.0             -0.0   \n",
       "16             0.328598           -1.959947             -0.0              0.0   \n",
       "19             1.266991           -0.398611              0.0              0.0   \n",
       "..                  ...                 ...              ...              ...   \n",
       "276            0.326389           -2.535808              0.0             -0.0   \n",
       "282            1.330568            0.311546             -0.0             -0.0   \n",
       "286           -1.736119           -0.881752             -0.0             -0.0   \n",
       "287            0.122159           -0.132181             -0.0              0.0   \n",
       "395           -1.650250           -0.539638             -0.0              0.0   \n",
       "\n",
       "     final_momentum_z  kin_energy      length  creator_proc     final_proc  \n",
       "9                -0.0    2.180298  235.106247          none  Scintillation  \n",
       "10               -0.0    0.277532   17.443966          none  Scintillation  \n",
       "14                0.0    0.866930   63.153664          none  Scintillation  \n",
       "16                0.0    1.590900   56.679573          none  Scintillation  \n",
       "19                0.0    0.935620   58.765797          none  Scintillation  \n",
       "..                ...         ...         ...           ...            ...  \n",
       "276               0.0    2.096628  180.334976          none  Scintillation  \n",
       "282               0.0    0.953934   88.180252          none  Scintillation  \n",
       "286               0.0    1.503896  134.865463          none  Scintillation  \n",
       "287              -0.0    0.488834   28.419731          none  Scintillation  \n",
       "395              -0.0    1.968997  103.292191          none  Scintillation  \n",
       "\n",
       "[17660 rows x 25 columns]"
      ]
     },
     "execution_count": 31,
     "metadata": {},
     "output_type": "execute_result"
    }
   ],
   "source": [
    "true_0nubb_primary = true_0nubb[true_0nubb.primary == True]\n",
    "true_0nubb_primary"
   ]
  },
  {
   "cell_type": "markdown",
   "metadata": {},
   "source": [
    "The primary particles are separated by 'particle_id' 1 and 2, and this information will allow us to differenciate between blob1 and/or 2. "
   ]
  },
  {
   "cell_type": "code",
   "execution_count": 32,
   "metadata": {},
   "outputs": [],
   "source": [
    "true_0nubb_primary_part1 = true_0nubb_primary[true_0nubb_primary.particle_id == 1]\n",
    "true_0nubb_primary_part2 = true_0nubb_primary[true_0nubb_primary.particle_id == 2]"
   ]
  },
  {
   "cell_type": "code",
   "execution_count": 33,
   "metadata": {},
   "outputs": [
    {
     "data": {
      "text/html": [
       "<div>\n",
       "<style scoped>\n",
       "    .dataframe tbody tr th:only-of-type {\n",
       "        vertical-align: middle;\n",
       "    }\n",
       "\n",
       "    .dataframe tbody tr th {\n",
       "        vertical-align: top;\n",
       "    }\n",
       "\n",
       "    .dataframe thead th {\n",
       "        text-align: right;\n",
       "    }\n",
       "</style>\n",
       "<table border=\"1\" class=\"dataframe\">\n",
       "  <thead>\n",
       "    <tr style=\"text-align: right;\">\n",
       "      <th></th>\n",
       "      <th>event_id</th>\n",
       "      <th>particle_id</th>\n",
       "      <th>particle_name</th>\n",
       "      <th>primary</th>\n",
       "      <th>mother_id</th>\n",
       "      <th>initial_x</th>\n",
       "      <th>initial_y</th>\n",
       "      <th>initial_z</th>\n",
       "      <th>initial_t</th>\n",
       "      <th>final_x</th>\n",
       "      <th>...</th>\n",
       "      <th>initial_momentum_x</th>\n",
       "      <th>initial_momentum_y</th>\n",
       "      <th>initial_momentum_z</th>\n",
       "      <th>final_momentum_x</th>\n",
       "      <th>final_momentum_y</th>\n",
       "      <th>final_momentum_z</th>\n",
       "      <th>kin_energy</th>\n",
       "      <th>length</th>\n",
       "      <th>creator_proc</th>\n",
       "      <th>final_proc</th>\n",
       "    </tr>\n",
       "  </thead>\n",
       "  <tbody>\n",
       "    <tr>\n",
       "      <th>0</th>\n",
       "      <td>0</td>\n",
       "      <td>14743383</td>\n",
       "      <td>gamma</td>\n",
       "      <td>False</td>\n",
       "      <td>2</td>\n",
       "      <td>-198.271820</td>\n",
       "      <td>-256.607605</td>\n",
       "      <td>311.145691</td>\n",
       "      <td>0.218630</td>\n",
       "      <td>-198.084488</td>\n",
       "      <td>...</td>\n",
       "      <td>0.003226</td>\n",
       "      <td>-0.001909</td>\n",
       "      <td>-0.001354</td>\n",
       "      <td>0.0</td>\n",
       "      <td>-0.0</td>\n",
       "      <td>-0.0</td>\n",
       "      <td>0.003986</td>\n",
       "      <td>0.231452</td>\n",
       "      <td>eBrem</td>\n",
       "      <td>phot</td>\n",
       "    </tr>\n",
       "    <tr>\n",
       "      <th>1</th>\n",
       "      <td>0</td>\n",
       "      <td>14854918</td>\n",
       "      <td>e-</td>\n",
       "      <td>False</td>\n",
       "      <td>14743383</td>\n",
       "      <td>-198.084488</td>\n",
       "      <td>-256.718475</td>\n",
       "      <td>311.067047</td>\n",
       "      <td>0.219402</td>\n",
       "      <td>-198.084457</td>\n",
       "      <td>...</td>\n",
       "      <td>0.006188</td>\n",
       "      <td>0.003036</td>\n",
       "      <td>0.001210</td>\n",
       "      <td>-0.0</td>\n",
       "      <td>0.0</td>\n",
       "      <td>0.0</td>\n",
       "      <td>0.000048</td>\n",
       "      <td>0.000024</td>\n",
       "      <td>phot</td>\n",
       "      <td>Scintillation</td>\n",
       "    </tr>\n",
       "    <tr>\n",
       "      <th>2</th>\n",
       "      <td>0</td>\n",
       "      <td>14854917</td>\n",
       "      <td>e-</td>\n",
       "      <td>False</td>\n",
       "      <td>14743383</td>\n",
       "      <td>-198.084488</td>\n",
       "      <td>-256.718475</td>\n",
       "      <td>311.067047</td>\n",
       "      <td>0.219402</td>\n",
       "      <td>-198.084488</td>\n",
       "      <td>...</td>\n",
       "      <td>-0.001329</td>\n",
       "      <td>0.006434</td>\n",
       "      <td>0.002097</td>\n",
       "      <td>-0.0</td>\n",
       "      <td>-0.0</td>\n",
       "      <td>-0.0</td>\n",
       "      <td>0.000047</td>\n",
       "      <td>0.000050</td>\n",
       "      <td>phot</td>\n",
       "      <td>Scintillation</td>\n",
       "    </tr>\n",
       "    <tr>\n",
       "      <th>3</th>\n",
       "      <td>0</td>\n",
       "      <td>14854916</td>\n",
       "      <td>e-</td>\n",
       "      <td>False</td>\n",
       "      <td>14743383</td>\n",
       "      <td>-198.084488</td>\n",
       "      <td>-256.718475</td>\n",
       "      <td>311.067047</td>\n",
       "      <td>0.219402</td>\n",
       "      <td>-198.084488</td>\n",
       "      <td>...</td>\n",
       "      <td>-0.000592</td>\n",
       "      <td>-0.006582</td>\n",
       "      <td>-0.001970</td>\n",
       "      <td>0.0</td>\n",
       "      <td>0.0</td>\n",
       "      <td>0.0</td>\n",
       "      <td>0.000047</td>\n",
       "      <td>0.000024</td>\n",
       "      <td>phot</td>\n",
       "      <td>Scintillation</td>\n",
       "    </tr>\n",
       "    <tr>\n",
       "      <th>4</th>\n",
       "      <td>0</td>\n",
       "      <td>14854915</td>\n",
       "      <td>e-</td>\n",
       "      <td>False</td>\n",
       "      <td>14743383</td>\n",
       "      <td>-198.084488</td>\n",
       "      <td>-256.718475</td>\n",
       "      <td>311.067047</td>\n",
       "      <td>0.219402</td>\n",
       "      <td>-198.084656</td>\n",
       "      <td>...</td>\n",
       "      <td>-0.015960</td>\n",
       "      <td>0.015451</td>\n",
       "      <td>0.008377</td>\n",
       "      <td>-0.0</td>\n",
       "      <td>-0.0</td>\n",
       "      <td>-0.0</td>\n",
       "      <td>0.000551</td>\n",
       "      <td>0.000985</td>\n",
       "      <td>phot</td>\n",
       "      <td>Scintillation</td>\n",
       "    </tr>\n",
       "    <tr>\n",
       "      <th>5</th>\n",
       "      <td>0</td>\n",
       "      <td>14854914</td>\n",
       "      <td>e-</td>\n",
       "      <td>False</td>\n",
       "      <td>14743383</td>\n",
       "      <td>-198.084488</td>\n",
       "      <td>-256.718475</td>\n",
       "      <td>311.067047</td>\n",
       "      <td>0.219402</td>\n",
       "      <td>-198.084427</td>\n",
       "      <td>...</td>\n",
       "      <td>0.007276</td>\n",
       "      <td>0.001941</td>\n",
       "      <td>0.010619</td>\n",
       "      <td>0.0</td>\n",
       "      <td>0.0</td>\n",
       "      <td>0.0</td>\n",
       "      <td>0.000166</td>\n",
       "      <td>0.000317</td>\n",
       "      <td>phot</td>\n",
       "      <td>Scintillation</td>\n",
       "    </tr>\n",
       "    <tr>\n",
       "      <th>6</th>\n",
       "      <td>0</td>\n",
       "      <td>14854913</td>\n",
       "      <td>e-</td>\n",
       "      <td>False</td>\n",
       "      <td>14743383</td>\n",
       "      <td>-198.084488</td>\n",
       "      <td>-256.718475</td>\n",
       "      <td>311.067047</td>\n",
       "      <td>0.219402</td>\n",
       "      <td>-198.085205</td>\n",
       "      <td>...</td>\n",
       "      <td>-0.038018</td>\n",
       "      <td>-0.038454</td>\n",
       "      <td>-0.014558</td>\n",
       "      <td>0.0</td>\n",
       "      <td>0.0</td>\n",
       "      <td>0.0</td>\n",
       "      <td>0.003059</td>\n",
       "      <td>0.013139</td>\n",
       "      <td>phot</td>\n",
       "      <td>Scintillation</td>\n",
       "    </tr>\n",
       "    <tr>\n",
       "      <th>7</th>\n",
       "      <td>0</td>\n",
       "      <td>29046889</td>\n",
       "      <td>e-</td>\n",
       "      <td>False</td>\n",
       "      <td>2</td>\n",
       "      <td>-196.871140</td>\n",
       "      <td>-288.876251</td>\n",
       "      <td>321.973602</td>\n",
       "      <td>0.430943</td>\n",
       "      <td>-197.021393</td>\n",
       "      <td>...</td>\n",
       "      <td>-0.211537</td>\n",
       "      <td>-0.017156</td>\n",
       "      <td>0.079031</td>\n",
       "      <td>-0.0</td>\n",
       "      <td>0.0</td>\n",
       "      <td>0.0</td>\n",
       "      <td>0.047936</td>\n",
       "      <td>1.375517</td>\n",
       "      <td>eIoni</td>\n",
       "      <td>Scintillation</td>\n",
       "    </tr>\n",
       "    <tr>\n",
       "      <th>8</th>\n",
       "      <td>0</td>\n",
       "      <td>56290415</td>\n",
       "      <td>e-</td>\n",
       "      <td>False</td>\n",
       "      <td>2</td>\n",
       "      <td>-199.225845</td>\n",
       "      <td>-347.134033</td>\n",
       "      <td>334.436646</td>\n",
       "      <td>0.793654</td>\n",
       "      <td>-199.606995</td>\n",
       "      <td>...</td>\n",
       "      <td>0.204526</td>\n",
       "      <td>0.016255</td>\n",
       "      <td>-0.331930</td>\n",
       "      <td>0.0</td>\n",
       "      <td>-0.0</td>\n",
       "      <td>-0.0</td>\n",
       "      <td>0.131957</td>\n",
       "      <td>5.372118</td>\n",
       "      <td>eIoni</td>\n",
       "      <td>Scintillation</td>\n",
       "    </tr>\n",
       "    <tr>\n",
       "      <th>9</th>\n",
       "      <td>0</td>\n",
       "      <td>2</td>\n",
       "      <td>e-</td>\n",
       "      <td>True</td>\n",
       "      <td>0</td>\n",
       "      <td>-239.914810</td>\n",
       "      <td>-238.046280</td>\n",
       "      <td>316.365936</td>\n",
       "      <td>0.000000</td>\n",
       "      <td>-200.825760</td>\n",
       "      <td>...</td>\n",
       "      <td>2.549860</td>\n",
       "      <td>0.109969</td>\n",
       "      <td>0.684162</td>\n",
       "      <td>0.0</td>\n",
       "      <td>0.0</td>\n",
       "      <td>-0.0</td>\n",
       "      <td>2.180298</td>\n",
       "      <td>235.106247</td>\n",
       "      <td>none</td>\n",
       "      <td>Scintillation</td>\n",
       "    </tr>\n",
       "    <tr>\n",
       "      <th>10</th>\n",
       "      <td>0</td>\n",
       "      <td>1</td>\n",
       "      <td>e-</td>\n",
       "      <td>True</td>\n",
       "      <td>0</td>\n",
       "      <td>-239.914810</td>\n",
       "      <td>-238.046280</td>\n",
       "      <td>316.365936</td>\n",
       "      <td>0.000000</td>\n",
       "      <td>-240.744125</td>\n",
       "      <td>...</td>\n",
       "      <td>-0.013486</td>\n",
       "      <td>-0.226322</td>\n",
       "      <td>-0.556109</td>\n",
       "      <td>-0.0</td>\n",
       "      <td>0.0</td>\n",
       "      <td>-0.0</td>\n",
       "      <td>0.277532</td>\n",
       "      <td>17.443966</td>\n",
       "      <td>none</td>\n",
       "      <td>Scintillation</td>\n",
       "    </tr>\n",
       "  </tbody>\n",
       "</table>\n",
       "<p>11 rows × 25 columns</p>\n",
       "</div>"
      ],
      "text/plain": [
       "    event_id  particle_id particle_name  primary  mother_id   initial_x  \\\n",
       "0          0     14743383         gamma    False          2 -198.271820   \n",
       "1          0     14854918            e-    False   14743383 -198.084488   \n",
       "2          0     14854917            e-    False   14743383 -198.084488   \n",
       "3          0     14854916            e-    False   14743383 -198.084488   \n",
       "4          0     14854915            e-    False   14743383 -198.084488   \n",
       "5          0     14854914            e-    False   14743383 -198.084488   \n",
       "6          0     14854913            e-    False   14743383 -198.084488   \n",
       "7          0     29046889            e-    False          2 -196.871140   \n",
       "8          0     56290415            e-    False          2 -199.225845   \n",
       "9          0            2            e-     True          0 -239.914810   \n",
       "10         0            1            e-     True          0 -239.914810   \n",
       "\n",
       "     initial_y   initial_z  initial_t     final_x  ...  initial_momentum_x  \\\n",
       "0  -256.607605  311.145691   0.218630 -198.084488  ...            0.003226   \n",
       "1  -256.718475  311.067047   0.219402 -198.084457  ...            0.006188   \n",
       "2  -256.718475  311.067047   0.219402 -198.084488  ...           -0.001329   \n",
       "3  -256.718475  311.067047   0.219402 -198.084488  ...           -0.000592   \n",
       "4  -256.718475  311.067047   0.219402 -198.084656  ...           -0.015960   \n",
       "5  -256.718475  311.067047   0.219402 -198.084427  ...            0.007276   \n",
       "6  -256.718475  311.067047   0.219402 -198.085205  ...           -0.038018   \n",
       "7  -288.876251  321.973602   0.430943 -197.021393  ...           -0.211537   \n",
       "8  -347.134033  334.436646   0.793654 -199.606995  ...            0.204526   \n",
       "9  -238.046280  316.365936   0.000000 -200.825760  ...            2.549860   \n",
       "10 -238.046280  316.365936   0.000000 -240.744125  ...           -0.013486   \n",
       "\n",
       "    initial_momentum_y  initial_momentum_z final_momentum_x final_momentum_y  \\\n",
       "0            -0.001909           -0.001354              0.0             -0.0   \n",
       "1             0.003036            0.001210             -0.0              0.0   \n",
       "2             0.006434            0.002097             -0.0             -0.0   \n",
       "3            -0.006582           -0.001970              0.0              0.0   \n",
       "4             0.015451            0.008377             -0.0             -0.0   \n",
       "5             0.001941            0.010619              0.0              0.0   \n",
       "6            -0.038454           -0.014558              0.0              0.0   \n",
       "7            -0.017156            0.079031             -0.0              0.0   \n",
       "8             0.016255           -0.331930              0.0             -0.0   \n",
       "9             0.109969            0.684162              0.0              0.0   \n",
       "10           -0.226322           -0.556109             -0.0              0.0   \n",
       "\n",
       "    final_momentum_z  kin_energy      length  creator_proc     final_proc  \n",
       "0               -0.0    0.003986    0.231452         eBrem           phot  \n",
       "1                0.0    0.000048    0.000024          phot  Scintillation  \n",
       "2               -0.0    0.000047    0.000050          phot  Scintillation  \n",
       "3                0.0    0.000047    0.000024          phot  Scintillation  \n",
       "4               -0.0    0.000551    0.000985          phot  Scintillation  \n",
       "5                0.0    0.000166    0.000317          phot  Scintillation  \n",
       "6                0.0    0.003059    0.013139          phot  Scintillation  \n",
       "7                0.0    0.047936    1.375517         eIoni  Scintillation  \n",
       "8               -0.0    0.131957    5.372118         eIoni  Scintillation  \n",
       "9               -0.0    2.180298  235.106247          none  Scintillation  \n",
       "10              -0.0    0.277532   17.443966          none  Scintillation  \n",
       "\n",
       "[11 rows x 25 columns]"
      ]
     },
     "execution_count": 33,
     "metadata": {},
     "output_type": "execute_result"
    }
   ],
   "source": [
    "true_0nubb_event0 = true_0nubb[true_0nubb.event_id == 0]\n",
    "true_0nubb_event0"
   ]
  },
  {
   "cell_type": "code",
   "execution_count": 34,
   "metadata": {},
   "outputs": [
    {
     "data": {
      "text/html": [
       "<div>\n",
       "<style scoped>\n",
       "    .dataframe tbody tr th:only-of-type {\n",
       "        vertical-align: middle;\n",
       "    }\n",
       "\n",
       "    .dataframe tbody tr th {\n",
       "        vertical-align: top;\n",
       "    }\n",
       "\n",
       "    .dataframe thead th {\n",
       "        text-align: right;\n",
       "    }\n",
       "</style>\n",
       "<table border=\"1\" class=\"dataframe\">\n",
       "  <thead>\n",
       "    <tr style=\"text-align: right;\">\n",
       "      <th></th>\n",
       "      <th>event</th>\n",
       "      <th>trackID</th>\n",
       "      <th>energy</th>\n",
       "      <th>length</th>\n",
       "      <th>numb_of_voxels</th>\n",
       "      <th>numb_of_hits</th>\n",
       "      <th>numb_of_tracks</th>\n",
       "      <th>x_min</th>\n",
       "      <th>y_min</th>\n",
       "      <th>z_min</th>\n",
       "      <th>...</th>\n",
       "      <th>blob1_z</th>\n",
       "      <th>blob2_x</th>\n",
       "      <th>blob2_y</th>\n",
       "      <th>blob2_z</th>\n",
       "      <th>eblob1</th>\n",
       "      <th>eblob2</th>\n",
       "      <th>ovlp_blob_energy</th>\n",
       "      <th>vox_size_x</th>\n",
       "      <th>vox_size_y</th>\n",
       "      <th>vox_size_z</th>\n",
       "    </tr>\n",
       "  </thead>\n",
       "  <tbody>\n",
       "    <tr>\n",
       "      <th>0</th>\n",
       "      <td>0</td>\n",
       "      <td>0</td>\n",
       "      <td>2.475314</td>\n",
       "      <td>180.973722</td>\n",
       "      <td>739</td>\n",
       "      <td>27246</td>\n",
       "      <td>4</td>\n",
       "      <td>-259.5</td>\n",
       "      <td>-367.5</td>\n",
       "      <td>308.425500</td>\n",
       "      <td>...</td>\n",
       "      <td>333.410510</td>\n",
       "      <td>-254.025000</td>\n",
       "      <td>-226.000000</td>\n",
       "      <td>316.151619</td>\n",
       "      <td>0.373302</td>\n",
       "      <td>0.225996</td>\n",
       "      <td>0</td>\n",
       "      <td>4.961538</td>\n",
       "      <td>4.897436</td>\n",
       "      <td>4.904922</td>\n",
       "    </tr>\n",
       "    <tr>\n",
       "      <th>0</th>\n",
       "      <td>2</td>\n",
       "      <td>0</td>\n",
       "      <td>2.445390</td>\n",
       "      <td>102.110604</td>\n",
       "      <td>714</td>\n",
       "      <td>25383</td>\n",
       "      <td>1</td>\n",
       "      <td>99.5</td>\n",
       "      <td>-143.5</td>\n",
       "      <td>782.350812</td>\n",
       "      <td>...</td>\n",
       "      <td>831.606715</td>\n",
       "      <td>162.409091</td>\n",
       "      <td>-134.000000</td>\n",
       "      <td>788.508176</td>\n",
       "      <td>0.749118</td>\n",
       "      <td>0.455082</td>\n",
       "      <td>0</td>\n",
       "      <td>4.833333</td>\n",
       "      <td>4.727273</td>\n",
       "      <td>4.940760</td>\n",
       "    </tr>\n",
       "    <tr>\n",
       "      <th>0</th>\n",
       "      <td>4</td>\n",
       "      <td>0</td>\n",
       "      <td>2.489506</td>\n",
       "      <td>133.095559</td>\n",
       "      <td>742</td>\n",
       "      <td>26827</td>\n",
       "      <td>1</td>\n",
       "      <td>-452.5</td>\n",
       "      <td>-77.5</td>\n",
       "      <td>641.252813</td>\n",
       "      <td>...</td>\n",
       "      <td>706.292077</td>\n",
       "      <td>-415.750000</td>\n",
       "      <td>-52.666667</td>\n",
       "      <td>649.386413</td>\n",
       "      <td>0.658333</td>\n",
       "      <td>0.657268</td>\n",
       "      <td>0</td>\n",
       "      <td>4.909091</td>\n",
       "      <td>4.857143</td>\n",
       "      <td>4.744351</td>\n",
       "    </tr>\n",
       "    <tr>\n",
       "      <th>0</th>\n",
       "      <td>6</td>\n",
       "      <td>0</td>\n",
       "      <td>2.474666</td>\n",
       "      <td>120.271862</td>\n",
       "      <td>705</td>\n",
       "      <td>25458</td>\n",
       "      <td>2</td>\n",
       "      <td>23.5</td>\n",
       "      <td>-413.5</td>\n",
       "      <td>825.211250</td>\n",
       "      <td>...</td>\n",
       "      <td>888.536990</td>\n",
       "      <td>34.888889</td>\n",
       "      <td>-379.000000</td>\n",
       "      <td>831.376995</td>\n",
       "      <td>0.893941</td>\n",
       "      <td>0.536796</td>\n",
       "      <td>0</td>\n",
       "      <td>4.950000</td>\n",
       "      <td>4.750000</td>\n",
       "      <td>4.900092</td>\n",
       "    </tr>\n",
       "    <tr>\n",
       "      <th>0</th>\n",
       "      <td>7</td>\n",
       "      <td>0</td>\n",
       "      <td>2.463006</td>\n",
       "      <td>134.762404</td>\n",
       "      <td>745</td>\n",
       "      <td>25910</td>\n",
       "      <td>2</td>\n",
       "      <td>-306.5</td>\n",
       "      <td>149.5</td>\n",
       "      <td>402.317125</td>\n",
       "      <td>...</td>\n",
       "      <td>471.493537</td>\n",
       "      <td>-294.576923</td>\n",
       "      <td>172.444444</td>\n",
       "      <td>408.390072</td>\n",
       "      <td>0.543604</td>\n",
       "      <td>0.185250</td>\n",
       "      <td>0</td>\n",
       "      <td>4.812500</td>\n",
       "      <td>4.850000</td>\n",
       "      <td>4.953477</td>\n",
       "    </tr>\n",
       "    <tr>\n",
       "      <th>...</th>\n",
       "      <td>...</td>\n",
       "      <td>...</td>\n",
       "      <td>...</td>\n",
       "      <td>...</td>\n",
       "      <td>...</td>\n",
       "      <td>...</td>\n",
       "      <td>...</td>\n",
       "      <td>...</td>\n",
       "      <td>...</td>\n",
       "      <td>...</td>\n",
       "      <td>...</td>\n",
       "      <td>...</td>\n",
       "      <td>...</td>\n",
       "      <td>...</td>\n",
       "      <td>...</td>\n",
       "      <td>...</td>\n",
       "      <td>...</td>\n",
       "      <td>...</td>\n",
       "      <td>...</td>\n",
       "      <td>...</td>\n",
       "      <td>...</td>\n",
       "    </tr>\n",
       "    <tr>\n",
       "      <th>0</th>\n",
       "      <td>8964</td>\n",
       "      <td>0</td>\n",
       "      <td>2.466963</td>\n",
       "      <td>113.124441</td>\n",
       "      <td>583</td>\n",
       "      <td>20884</td>\n",
       "      <td>2</td>\n",
       "      <td>-406.5</td>\n",
       "      <td>151.5</td>\n",
       "      <td>178.344344</td>\n",
       "      <td>...</td>\n",
       "      <td>245.557057</td>\n",
       "      <td>-377.357143</td>\n",
       "      <td>216.000000</td>\n",
       "      <td>182.579834</td>\n",
       "      <td>0.697808</td>\n",
       "      <td>0.599744</td>\n",
       "      <td>0</td>\n",
       "      <td>4.958333</td>\n",
       "      <td>4.750000</td>\n",
       "      <td>4.713008</td>\n",
       "    </tr>\n",
       "    <tr>\n",
       "      <th>0</th>\n",
       "      <td>8972</td>\n",
       "      <td>0</td>\n",
       "      <td>2.488552</td>\n",
       "      <td>111.624460</td>\n",
       "      <td>704</td>\n",
       "      <td>27901</td>\n",
       "      <td>1</td>\n",
       "      <td>17.5</td>\n",
       "      <td>347.5</td>\n",
       "      <td>878.217375</td>\n",
       "      <td>...</td>\n",
       "      <td>884.485560</td>\n",
       "      <td>41.000000</td>\n",
       "      <td>366.909091</td>\n",
       "      <td>923.973518</td>\n",
       "      <td>0.831530</td>\n",
       "      <td>0.804395</td>\n",
       "      <td>0</td>\n",
       "      <td>5.000000</td>\n",
       "      <td>4.894737</td>\n",
       "      <td>4.883577</td>\n",
       "    </tr>\n",
       "    <tr>\n",
       "      <th>0</th>\n",
       "      <td>8977</td>\n",
       "      <td>0</td>\n",
       "      <td>2.467101</td>\n",
       "      <td>126.452604</td>\n",
       "      <td>857</td>\n",
       "      <td>29865</td>\n",
       "      <td>2</td>\n",
       "      <td>-389.5</td>\n",
       "      <td>87.5</td>\n",
       "      <td>598.237687</td>\n",
       "      <td>...</td>\n",
       "      <td>625.068378</td>\n",
       "      <td>-378.261905</td>\n",
       "      <td>143.980000</td>\n",
       "      <td>649.462154</td>\n",
       "      <td>0.777076</td>\n",
       "      <td>0.415310</td>\n",
       "      <td>0</td>\n",
       "      <td>4.916667</td>\n",
       "      <td>4.892857</td>\n",
       "      <td>4.790557</td>\n",
       "    </tr>\n",
       "    <tr>\n",
       "      <th>0</th>\n",
       "      <td>8986</td>\n",
       "      <td>0</td>\n",
       "      <td>2.456252</td>\n",
       "      <td>123.549826</td>\n",
       "      <td>909</td>\n",
       "      <td>30703</td>\n",
       "      <td>1</td>\n",
       "      <td>-46.5</td>\n",
       "      <td>15.5</td>\n",
       "      <td>882.284750</td>\n",
       "      <td>...</td>\n",
       "      <td>895.992758</td>\n",
       "      <td>-32.083333</td>\n",
       "      <td>52.777778</td>\n",
       "      <td>903.962852</td>\n",
       "      <td>0.522082</td>\n",
       "      <td>0.444524</td>\n",
       "      <td>0</td>\n",
       "      <td>4.909091</td>\n",
       "      <td>4.692308</td>\n",
       "      <td>4.491625</td>\n",
       "    </tr>\n",
       "    <tr>\n",
       "      <th>0</th>\n",
       "      <td>8988</td>\n",
       "      <td>0</td>\n",
       "      <td>2.481748</td>\n",
       "      <td>89.910401</td>\n",
       "      <td>549</td>\n",
       "      <td>21201</td>\n",
       "      <td>5</td>\n",
       "      <td>-434.5</td>\n",
       "      <td>-19.5</td>\n",
       "      <td>204.507344</td>\n",
       "      <td>...</td>\n",
       "      <td>229.239283</td>\n",
       "      <td>-381.000000</td>\n",
       "      <td>-6.000000</td>\n",
       "      <td>207.070617</td>\n",
       "      <td>0.655125</td>\n",
       "      <td>0.341784</td>\n",
       "      <td>0</td>\n",
       "      <td>5.000000</td>\n",
       "      <td>4.826087</td>\n",
       "      <td>4.866863</td>\n",
       "    </tr>\n",
       "  </tbody>\n",
       "</table>\n",
       "<p>4004 rows × 35 columns</p>\n",
       "</div>"
      ],
      "text/plain": [
       "    event  trackID    energy      length  numb_of_voxels  numb_of_hits  \\\n",
       "0       0        0  2.475314  180.973722             739         27246   \n",
       "0       2        0  2.445390  102.110604             714         25383   \n",
       "0       4        0  2.489506  133.095559             742         26827   \n",
       "0       6        0  2.474666  120.271862             705         25458   \n",
       "0       7        0  2.463006  134.762404             745         25910   \n",
       "..    ...      ...       ...         ...             ...           ...   \n",
       "0    8964        0  2.466963  113.124441             583         20884   \n",
       "0    8972        0  2.488552  111.624460             704         27901   \n",
       "0    8977        0  2.467101  126.452604             857         29865   \n",
       "0    8986        0  2.456252  123.549826             909         30703   \n",
       "0    8988        0  2.481748   89.910401             549         21201   \n",
       "\n",
       "    numb_of_tracks  x_min  y_min       z_min  ...     blob1_z     blob2_x  \\\n",
       "0                4 -259.5 -367.5  308.425500  ...  333.410510 -254.025000   \n",
       "0                1   99.5 -143.5  782.350812  ...  831.606715  162.409091   \n",
       "0                1 -452.5  -77.5  641.252813  ...  706.292077 -415.750000   \n",
       "0                2   23.5 -413.5  825.211250  ...  888.536990   34.888889   \n",
       "0                2 -306.5  149.5  402.317125  ...  471.493537 -294.576923   \n",
       "..             ...    ...    ...         ...  ...         ...         ...   \n",
       "0                2 -406.5  151.5  178.344344  ...  245.557057 -377.357143   \n",
       "0                1   17.5  347.5  878.217375  ...  884.485560   41.000000   \n",
       "0                2 -389.5   87.5  598.237687  ...  625.068378 -378.261905   \n",
       "0                1  -46.5   15.5  882.284750  ...  895.992758  -32.083333   \n",
       "0                5 -434.5  -19.5  204.507344  ...  229.239283 -381.000000   \n",
       "\n",
       "       blob2_y     blob2_z    eblob1    eblob2  ovlp_blob_energy  vox_size_x  \\\n",
       "0  -226.000000  316.151619  0.373302  0.225996                 0    4.961538   \n",
       "0  -134.000000  788.508176  0.749118  0.455082                 0    4.833333   \n",
       "0   -52.666667  649.386413  0.658333  0.657268                 0    4.909091   \n",
       "0  -379.000000  831.376995  0.893941  0.536796                 0    4.950000   \n",
       "0   172.444444  408.390072  0.543604  0.185250                 0    4.812500   \n",
       "..         ...         ...       ...       ...               ...         ...   \n",
       "0   216.000000  182.579834  0.697808  0.599744                 0    4.958333   \n",
       "0   366.909091  923.973518  0.831530  0.804395                 0    5.000000   \n",
       "0   143.980000  649.462154  0.777076  0.415310                 0    4.916667   \n",
       "0    52.777778  903.962852  0.522082  0.444524                 0    4.909091   \n",
       "0    -6.000000  207.070617  0.655125  0.341784                 0    5.000000   \n",
       "\n",
       "    vox_size_y  vox_size_z  \n",
       "0     4.897436    4.904922  \n",
       "0     4.727273    4.940760  \n",
       "0     4.857143    4.744351  \n",
       "0     4.750000    4.900092  \n",
       "0     4.850000    4.953477  \n",
       "..         ...         ...  \n",
       "0     4.750000    4.713008  \n",
       "0     4.894737    4.883577  \n",
       "0     4.892857    4.790557  \n",
       "0     4.692308    4.491625  \n",
       "0     4.826087    4.866863  \n",
       "\n",
       "[4004 rows x 35 columns]"
      ]
     },
     "execution_count": 34,
     "metadata": {},
     "output_type": "execute_result"
    }
   ],
   "source": [
    "tracks_0nubb_ROIovlp1trackfid"
   ]
  },
  {
   "cell_type": "markdown",
   "metadata": {},
   "source": [
    "Now I'm going to do a loop over all the events in both reco and true, and I'm going to obtain the difference for each of them. \n",
    "\n",
    "Several things need to be taken into account at this stage:\n",
    "- After all the selection process, not all the events are contained in 'tracks_0nubb_ROIovlp1trackfid', need to select only the events in the loop that are included in 'tracks_0nubb_ROIovlp1trackfid'\n",
    "- For 0nubb, the true end points of the track are the variables **final_x/y/z** from the primary particles. **initial_x/y/z** correspond to the original position of the desintegration. \n",
    "- The true/reco information from the tables are given in terms of arrays. First, in order to get the value from a variable, it's necessary to ask for \"values\". Later on, when doing the comparison, it's necessary to force the term to turn into float before assign them into the 'diff' element. \n",
    "- Last but definately, not least, what it's defined as blob1 or blob2 is not necessarily the information about particle 1 or 2 respectively. Blobs are tagged as the deposited energy in the detector. So when the reco vs true comparison is made, it's important to re-define what's 1 or 2 for the blobs. In the following boxes I've done some tests in order to see how I can tag each of the events. "
   ]
  },
  {
   "cell_type": "code",
   "execution_count": 35,
   "metadata": {},
   "outputs": [],
   "source": [
    "d_rt_11, d_rt_12, d_rr_12, d_tt_12, D_tt_12, x_t_1, y_t_1, x_t_2, y_t_2, r_t_1, r_t_2, z_t_1, z_t_2 = [], [], [], [], [], [], [],[], [], [],[], [], []\n",
    "\n",
    "for nevt in range(1,true_0nubb.event_id.nunique()):\n",
    "    \n",
    "    if nevt not in tracks_0nubb_ROIovlp1trackfid.event.unique():\n",
    "        continue\n",
    "        \n",
    "    true_0nubb_x_p1 = float(true_0nubb_primary_part1[true_0nubb_primary_part1.event_id == nevt].final_x.values)\n",
    "    true_0nubb_y_p1 = float(true_0nubb_primary_part1[true_0nubb_primary_part1.event_id == nevt].final_y.values)\n",
    "    true_0nubb_z_p1 = float(true_0nubb_primary_part1[true_0nubb_primary_part1.event_id == nevt].final_z.values)\n",
    "\n",
    "    true_0nubb_x_p2 = float(true_0nubb_primary_part2[true_0nubb_primary_part2.event_id == nevt].final_x.values)\n",
    "    true_0nubb_y_p2 = float(true_0nubb_primary_part2[true_0nubb_primary_part2.event_id == nevt].final_y.values)\n",
    "    true_0nubb_z_p2 = float(true_0nubb_primary_part2[true_0nubb_primary_part2.event_id == nevt].final_z.values)\n",
    "    \n",
    "    true_0nubb_r_p1 = math.sqrt(true_0nubb_x_p1*true_0nubb_x_p1+true_0nubb_y_p1*true_0nubb_y_p1)\n",
    "    true_0nubb_r_p2 = math.sqrt(true_0nubb_x_p2*true_0nubb_x_p2+true_0nubb_y_p2*true_0nubb_y_p2)\n",
    "\n",
    "    reco_0nubb_x_blob1 = float(tracks_0nubb_ROIovlp1trackfid[tracks_0nubb_ROIovlp1trackfid.event == nevt].blob1_x.values)\n",
    "    reco_0nubb_y_blob1 = float(tracks_0nubb_ROIovlp1trackfid[tracks_0nubb_ROIovlp1trackfid.event == nevt].blob1_y.values)\n",
    "    reco_0nubb_z_blob1 = float(tracks_0nubb_ROIovlp1trackfid[tracks_0nubb_ROIovlp1trackfid.event == nevt].blob1_z.values)\n",
    "    \n",
    "    reco_0nubb_x_blob2 = float(tracks_0nubb_ROIovlp1trackfid[tracks_0nubb_ROIovlp1trackfid.event == nevt].blob2_x.values)\n",
    "    reco_0nubb_y_blob2 = float(tracks_0nubb_ROIovlp1trackfid[tracks_0nubb_ROIovlp1trackfid.event == nevt].blob2_y.values)\n",
    "    reco_0nubb_z_blob2 = float(tracks_0nubb_ROIovlp1trackfid[tracks_0nubb_ROIovlp1trackfid.event == nevt].blob2_z.values)\n",
    "    \n",
    "    reco_0nubb_r_blob1 = math.sqrt(reco_0nubb_x_blob1*reco_0nubb_x_blob1+reco_0nubb_y_blob1*reco_0nubb_y_blob1)\n",
    "    reco_0nubb_r_blob2 = math.sqrt(reco_0nubb_x_blob2*reco_0nubb_x_blob2+reco_0nubb_y_blob2*reco_0nubb_y_blob2)\n",
    "    \n",
    "   \n",
    "    d_tt_12.append(math.sqrt((true_0nubb_x_p2-true_0nubb_x_p1)**2+(true_0nubb_y_p2-true_0nubb_y_p1)**2+(true_0nubb_z_p2-true_0nubb_z_p1)**2))\n",
    "    d_rr_12.append(math.sqrt((reco_0nubb_x_blob1-reco_0nubb_x_blob2)**2+(reco_0nubb_y_blob1-reco_0nubb_y_blob2)**2+(reco_0nubb_z_blob1-reco_0nubb_z_blob2)**2))\n",
    "    \n",
    "    x_t_1.append(true_0nubb_x_p1)\n",
    "    x_t_2.append(true_0nubb_x_p2)\n",
    "    y_t_1.append(true_0nubb_y_p1)\n",
    "    y_t_2.append(true_0nubb_y_p2)\n",
    "    r_t_1.append(true_0nubb_r_p1)\n",
    "    r_t_2.append(true_0nubb_r_p2)\n",
    "    z_t_1.append(true_0nubb_z_p1)\n",
    "    z_t_2.append(true_0nubb_z_p2)\n",
    "    "
   ]
  },
  {
   "cell_type": "code",
   "execution_count": 36,
   "metadata": {},
   "outputs": [
    {
     "data": {
      "image/png": "[encoded data removed]",
      "text/plain": [
       "<Figure size 432x288 with 1 Axes>"
      ]
     },
     "metadata": {
      "needs_background": "light"
     },
     "output_type": "display_data"
    }
   ],
   "source": [
    "plt.hist(r_t_1, bins = 50, color='red', histtype='step', label = 'r particle1')\n",
    "plt.hist(r_t_2, bins = 50, color='blue', histtype='step', label = 'r particle 2', linestyle='dashed')\n",
    "\n",
    "plt.xlabel('true[particle] (mm)')\n",
    "plt.ylabel('events (a.u.)')\n",
    "plt.title('0nubb')\n",
    "plt.legend(loc=1);\n",
    "plt.show()"
   ]
  },
  {
   "cell_type": "code",
   "execution_count": 37,
   "metadata": {},
   "outputs": [
    {
     "data": {
      "image/png": "[encoded data removed]",
      "text/plain": [
       "<Figure size 432x288 with 1 Axes>"
      ]
     },
     "metadata": {
      "needs_background": "light"
     },
     "output_type": "display_data"
    },
    {
     "name": "stdout",
     "output_type": "stream",
     "text": [
      "Mean distance between true particles 61.30707720299237\n",
      "Mean distance between reco particles 69.00641980484117\n"
     ]
    }
   ],
   "source": [
    "plt.hist(d_tt_12, bins = 50, color='red', histtype='step', label = 'd_12 (true)', linestyle='dashed')\n",
    "plt.hist(d_rr_12, bins = 50, color='blue', histtype='step', label = 'd_12 (reco)', linestyle='dashed')\n",
    "\n",
    "plt.xlabel('true[particle] (mm)')\n",
    "plt.ylabel('events (a.u.)')\n",
    "plt.title('0nubb')\n",
    "plt.legend(loc=1);\n",
    "plt.show()\n",
    "\n",
    "print(f'Mean distance between true particles {np.mean(d_tt_12)}')\n",
    "print(f'Mean distance between reco particles {np.mean(d_rr_12)}')\n"
   ]
  },
  {
   "cell_type": "code",
   "execution_count": 38,
   "metadata": {},
   "outputs": [
    {
     "data": {
      "image/png": "[encoded data removed]",
      "text/plain": [
       "<Figure size 432x288 with 1 Axes>"
      ]
     },
     "metadata": {
      "needs_background": "light"
     },
     "output_type": "display_data"
    }
   ],
   "source": [
    "plt.hist(z_t_1, bins = 50, color='red', histtype='step', label = 'z part1 (true)', linestyle='dashed')\n",
    "plt.hist(z_t_2, bins = 50, color='blue', histtype='step', label = 'z part2 (true)', linestyle='dashed')\n",
    "\n",
    "plt.xlabel('true[particle] (mm)')\n",
    "plt.ylabel('events (a.u.)')\n",
    "plt.legend(loc=1);\n",
    "plt.show()"
   ]
  },
  {
   "cell_type": "markdown",
   "metadata": {},
   "source": [
    "On average, the distance between particles is around 30mm, so I'm going to look for blobs around the position of part1/2 + 30mm (approximately)"
   ]
  },
  {
   "cell_type": "code",
   "execution_count": 39,
   "metadata": {},
   "outputs": [
    {
     "name": "stdout",
     "output_type": "stream",
     "text": [
      "Total events = 3936\n",
      "Events 12 = 1991 (50.584349593495936%)\n",
      "Events 21 = 1945 (49.415650406504064%)\n",
      "Events NA = 0 (0.0%)\n"
     ]
    }
   ],
   "source": [
    "diff_b1_x_0nubb, diff_b1_y_0nubb, diff_b1_z_0nubb = [], [], []\n",
    "diff_b2_x_0nubb, diff_b2_y_0nubb, diff_b2_z_0nubb = [], [], []\n",
    "\n",
    "reco_0nubb_e = []\n",
    "\n",
    "diff_b1_x_0nubb, diff_b1_y_0nubb, diff_b2_x_0nubb, diff_b2_y_0nubb, reco_0nubb_e = myrvt.blobassignation(true_0nubb, tracks_0nubb_ROIovlp1trackfid, 'signal')"
   ]
  },
  {
   "cell_type": "code",
   "execution_count": 40,
   "metadata": {},
   "outputs": [
    {
     "data": {
      "image/png": "[encoded data removed]",
      "text/plain": [
       "<Figure size 432x288 with 1 Axes>"
      ]
     },
     "metadata": {
      "needs_background": "light"
     },
     "output_type": "display_data"
    }
   ],
   "source": [
    "plt.hist(diff_b1_x_0nubb, bins = 50, color='red', histtype='step', label = 'x blob1')\n",
    "plt.hist(diff_b1_y_0nubb, bins = 50, color='blue', histtype='step', label = 'y blob1', linestyle='dashed')\n",
    "\n",
    "plt.xlabel('reco[tracks] - true[particle] (mm)')\n",
    "plt.ylabel('events (a.u.)')\n",
    "plt.title('0nubb')\n",
    "plt.legend(loc=1);\n",
    "plt.show()"
   ]
  },
  {
   "cell_type": "code",
   "execution_count": 41,
   "metadata": {},
   "outputs": [
    {
     "data": {
      "image/png": "[encoded data removed]",
      "text/plain": [
       "<Figure size 432x288 with 1 Axes>"
      ]
     },
     "metadata": {
      "needs_background": "light"
     },
     "output_type": "display_data"
    }
   ],
   "source": [
    "plt.hist(diff_b2_x_0nubb, bins = 50, color='red', histtype='step', label = 'x blob2')\n",
    "plt.hist(diff_b2_y_0nubb, bins = 50, color='blue', histtype='step', label = 'y blob2', linestyle='dashed')\n",
    "\n",
    "plt.xlabel('reco[tracks] - true[particle] (mm)')\n",
    "plt.ylabel('events (a.u.)')\n",
    "plt.title('0nubb')\n",
    "plt.legend(loc=1);\n",
    "plt.show()"
   ]
  },
  {
   "cell_type": "code",
   "execution_count": 42,
   "metadata": {},
   "outputs": [
    {
     "data": {
      "text/plain": [
       "<matplotlib.colorbar.Colorbar at 0x11cbaadf0>"
      ]
     },
     "execution_count": 42,
     "metadata": {},
     "output_type": "execute_result"
    },
    {
     "data": {
      "image/png": "[encoded data removed]",
      "text/plain": [
       "<Figure size 432x288 with 2 Axes>"
      ]
     },
     "metadata": {
      "needs_background": "light"
     },
     "output_type": "display_data"
    }
   ],
   "source": [
    "plt.hist2d(diff_b1_x_0nubb, diff_b1_y_0nubb, bins=(30, 30), range=((-50, 50), (-50, 50)), cmap='viridis', cmin=0.001)\n",
    "plt.xlabel('blob-1 reco_x - true_x (mm)')\n",
    "plt.ylabel('blob-1 reco_y - true_y (mm)')\n",
    "plt.title('0nubb')\n",
    "#plt.xlim((0.0,1.5))\n",
    "plt.colorbar(label='events')"
   ]
  },
  {
   "cell_type": "code",
   "execution_count": 43,
   "metadata": {},
   "outputs": [
    {
     "data": {
      "text/plain": [
       "<matplotlib.colorbar.Colorbar at 0x128451370>"
      ]
     },
     "execution_count": 43,
     "metadata": {},
     "output_type": "execute_result"
    },
    {
     "data": {
      "image/png": "[encoded data removed]",
      "text/plain": [
       "<Figure size 432x288 with 2 Axes>"
      ]
     },
     "metadata": {
      "needs_background": "light"
     },
     "output_type": "display_data"
    }
   ],
   "source": [
    "plt.hist2d(diff_b2_x_0nubb, diff_b2_y_0nubb, bins=(30, 30), range=((-50, 50), (-50, 50)), cmap='viridis', cmin=0.001)\n",
    "plt.xlabel('blob-2 reco_x - true_x (mm)')\n",
    "plt.ylabel('blob-2 reco_y - true_y (mm)')\n",
    "plt.title('0nubb')\n",
    "#plt.xlim((0.0,1.5))\n",
    "plt.colorbar(label='events')"
   ]
  },
  {
   "cell_type": "code",
   "execution_count": 44,
   "metadata": {},
   "outputs": [
    {
     "data": {
      "text/plain": [
       "Index(['event_id', 'particle_id', 'particle_name', 'primary', 'mother_id',\n",
       "       'initial_x', 'initial_y', 'initial_z', 'initial_t', 'final_x',\n",
       "       'final_y', 'final_z', 'final_t', 'initial_volume', 'final_volume',\n",
       "       'initial_momentum_x', 'initial_momentum_y', 'initial_momentum_z',\n",
       "       'final_momentum_x', 'final_momentum_y', 'final_momentum_z',\n",
       "       'kin_energy', 'length', 'creator_proc', 'final_proc'],\n",
       "      dtype='object')"
      ]
     },
     "execution_count": 44,
     "metadata": {},
     "output_type": "execute_result"
    }
   ],
   "source": [
    "#single electron files\n",
    "true_list_selectron = []\n",
    "filepath_selectron_true = filepath+'selectron/hits/'\n",
    "\n",
    "#loop over all the files, to read 'HITS' information\n",
    "for nfile in range(1,max0nubbf):\n",
    "    \n",
    "    filename_selectron_true = filepath_selectron_true+f'next100.e-_roi.{nfile}.deconv.h5'\n",
    "\n",
    "    try:\n",
    "        readfile_true_selectron = pd.read_hdf(filename_selectron_true, 'MC/particles')\n",
    "    except:\n",
    "        print('File {} not good'.format(filename_selectron_true))\n",
    "        continue\n",
    "        \n",
    "    true_list_selectron.append(readfile_true_selectron)\n",
    "    \n",
    "#'concat' command means: 'concatenate pandas objects along a particular \n",
    "# axis with optional set logic along the other axes.' -> following line \n",
    "# is needed to keep an order between the files\n",
    "\n",
    "true_selectron = pd.concat([dt for dt in true_list_selectron]) \n",
    "true_selectron.columns  "
   ]
  },
  {
   "cell_type": "code",
   "execution_count": 45,
   "metadata": {},
   "outputs": [
    {
     "data": {
      "text/html": [
       "<div>\n",
       "<style scoped>\n",
       "    .dataframe tbody tr th:only-of-type {\n",
       "        vertical-align: middle;\n",
       "    }\n",
       "\n",
       "    .dataframe tbody tr th {\n",
       "        vertical-align: top;\n",
       "    }\n",
       "\n",
       "    .dataframe thead th {\n",
       "        text-align: right;\n",
       "    }\n",
       "</style>\n",
       "<table border=\"1\" class=\"dataframe\">\n",
       "  <thead>\n",
       "    <tr style=\"text-align: right;\">\n",
       "      <th></th>\n",
       "      <th>event_id</th>\n",
       "      <th>particle_id</th>\n",
       "      <th>particle_name</th>\n",
       "      <th>primary</th>\n",
       "      <th>mother_id</th>\n",
       "      <th>initial_x</th>\n",
       "      <th>initial_y</th>\n",
       "      <th>initial_z</th>\n",
       "      <th>initial_t</th>\n",
       "      <th>final_x</th>\n",
       "      <th>...</th>\n",
       "      <th>initial_momentum_x</th>\n",
       "      <th>initial_momentum_y</th>\n",
       "      <th>initial_momentum_z</th>\n",
       "      <th>final_momentum_x</th>\n",
       "      <th>final_momentum_y</th>\n",
       "      <th>final_momentum_z</th>\n",
       "      <th>kin_energy</th>\n",
       "      <th>length</th>\n",
       "      <th>creator_proc</th>\n",
       "      <th>final_proc</th>\n",
       "    </tr>\n",
       "  </thead>\n",
       "  <tbody>\n",
       "    <tr>\n",
       "      <th>23</th>\n",
       "      <td>0</td>\n",
       "      <td>1</td>\n",
       "      <td>e-</td>\n",
       "      <td>True</td>\n",
       "      <td>0</td>\n",
       "      <td>263.843140</td>\n",
       "      <td>282.704956</td>\n",
       "      <td>1200.066284</td>\n",
       "      <td>0.0</td>\n",
       "      <td>224.406219</td>\n",
       "      <td>...</td>\n",
       "      <td>-2.144866</td>\n",
       "      <td>-1.164350</td>\n",
       "      <td>1.615185</td>\n",
       "      <td>0.0</td>\n",
       "      <td>-0.0</td>\n",
       "      <td>-0.0</td>\n",
       "      <td>2.459877</td>\n",
       "      <td>180.497162</td>\n",
       "      <td>none</td>\n",
       "      <td>Scintillation</td>\n",
       "    </tr>\n",
       "    <tr>\n",
       "      <th>53</th>\n",
       "      <td>1</td>\n",
       "      <td>1</td>\n",
       "      <td>e-</td>\n",
       "      <td>True</td>\n",
       "      <td>0</td>\n",
       "      <td>152.977859</td>\n",
       "      <td>-331.856018</td>\n",
       "      <td>3.190071</td>\n",
       "      <td>0.0</td>\n",
       "      <td>225.966461</td>\n",
       "      <td>...</td>\n",
       "      <td>-0.728068</td>\n",
       "      <td>-1.545893</td>\n",
       "      <td>2.373892</td>\n",
       "      <td>-0.0</td>\n",
       "      <td>0.0</td>\n",
       "      <td>-0.0</td>\n",
       "      <td>2.458235</td>\n",
       "      <td>278.690399</td>\n",
       "      <td>none</td>\n",
       "      <td>Scintillation</td>\n",
       "    </tr>\n",
       "    <tr>\n",
       "      <th>127</th>\n",
       "      <td>2</td>\n",
       "      <td>1</td>\n",
       "      <td>e-</td>\n",
       "      <td>True</td>\n",
       "      <td>0</td>\n",
       "      <td>443.712219</td>\n",
       "      <td>153.831985</td>\n",
       "      <td>1106.283813</td>\n",
       "      <td>0.0</td>\n",
       "      <td>391.517029</td>\n",
       "      <td>...</td>\n",
       "      <td>-1.393338</td>\n",
       "      <td>-2.532633</td>\n",
       "      <td>0.353849</td>\n",
       "      <td>0.0</td>\n",
       "      <td>0.0</td>\n",
       "      <td>-0.0</td>\n",
       "      <td>2.445680</td>\n",
       "      <td>200.310394</td>\n",
       "      <td>none</td>\n",
       "      <td>Scintillation</td>\n",
       "    </tr>\n",
       "    <tr>\n",
       "      <th>131</th>\n",
       "      <td>3</td>\n",
       "      <td>1</td>\n",
       "      <td>e-</td>\n",
       "      <td>True</td>\n",
       "      <td>0</td>\n",
       "      <td>-348.382904</td>\n",
       "      <td>-172.308670</td>\n",
       "      <td>717.329773</td>\n",
       "      <td>0.0</td>\n",
       "      <td>-234.460526</td>\n",
       "      <td>...</td>\n",
       "      <td>2.436209</td>\n",
       "      <td>1.410585</td>\n",
       "      <td>-0.786198</td>\n",
       "      <td>-0.0</td>\n",
       "      <td>0.0</td>\n",
       "      <td>0.0</td>\n",
       "      <td>2.456170</td>\n",
       "      <td>243.929733</td>\n",
       "      <td>none</td>\n",
       "      <td>Scintillation</td>\n",
       "    </tr>\n",
       "    <tr>\n",
       "      <th>149</th>\n",
       "      <td>4</td>\n",
       "      <td>1</td>\n",
       "      <td>e-</td>\n",
       "      <td>True</td>\n",
       "      <td>0</td>\n",
       "      <td>-307.496674</td>\n",
       "      <td>-335.867310</td>\n",
       "      <td>101.232605</td>\n",
       "      <td>0.0</td>\n",
       "      <td>-354.965210</td>\n",
       "      <td>...</td>\n",
       "      <td>-1.537453</td>\n",
       "      <td>-1.247277</td>\n",
       "      <td>2.158215</td>\n",
       "      <td>0.0</td>\n",
       "      <td>0.0</td>\n",
       "      <td>-0.0</td>\n",
       "      <td>2.461958</td>\n",
       "      <td>63.263073</td>\n",
       "      <td>none</td>\n",
       "      <td>Scintillation</td>\n",
       "    </tr>\n",
       "    <tr>\n",
       "      <th>...</th>\n",
       "      <td>...</td>\n",
       "      <td>...</td>\n",
       "      <td>...</td>\n",
       "      <td>...</td>\n",
       "      <td>...</td>\n",
       "      <td>...</td>\n",
       "      <td>...</td>\n",
       "      <td>...</td>\n",
       "      <td>...</td>\n",
       "      <td>...</td>\n",
       "      <td>...</td>\n",
       "      <td>...</td>\n",
       "      <td>...</td>\n",
       "      <td>...</td>\n",
       "      <td>...</td>\n",
       "      <td>...</td>\n",
       "      <td>...</td>\n",
       "      <td>...</td>\n",
       "      <td>...</td>\n",
       "      <td>...</td>\n",
       "      <td>...</td>\n",
       "    </tr>\n",
       "    <tr>\n",
       "      <th>209</th>\n",
       "      <td>8985</td>\n",
       "      <td>1</td>\n",
       "      <td>e-</td>\n",
       "      <td>True</td>\n",
       "      <td>0</td>\n",
       "      <td>-40.266850</td>\n",
       "      <td>-177.054276</td>\n",
       "      <td>313.032959</td>\n",
       "      <td>0.0</td>\n",
       "      <td>-39.864620</td>\n",
       "      <td>...</td>\n",
       "      <td>1.722774</td>\n",
       "      <td>-0.489244</td>\n",
       "      <td>-2.306642</td>\n",
       "      <td>0.0</td>\n",
       "      <td>0.0</td>\n",
       "      <td>-0.0</td>\n",
       "      <td>2.453630</td>\n",
       "      <td>160.888199</td>\n",
       "      <td>none</td>\n",
       "      <td>Scintillation</td>\n",
       "    </tr>\n",
       "    <tr>\n",
       "      <th>230</th>\n",
       "      <td>8986</td>\n",
       "      <td>1</td>\n",
       "      <td>e-</td>\n",
       "      <td>True</td>\n",
       "      <td>0</td>\n",
       "      <td>321.993134</td>\n",
       "      <td>88.897835</td>\n",
       "      <td>119.011902</td>\n",
       "      <td>0.0</td>\n",
       "      <td>268.802948</td>\n",
       "      <td>...</td>\n",
       "      <td>-2.222698</td>\n",
       "      <td>0.728661</td>\n",
       "      <td>1.752874</td>\n",
       "      <td>0.0</td>\n",
       "      <td>-0.0</td>\n",
       "      <td>0.0</td>\n",
       "      <td>2.456327</td>\n",
       "      <td>211.630997</td>\n",
       "      <td>none</td>\n",
       "      <td>Scintillation</td>\n",
       "    </tr>\n",
       "    <tr>\n",
       "      <th>243</th>\n",
       "      <td>8987</td>\n",
       "      <td>1</td>\n",
       "      <td>e-</td>\n",
       "      <td>True</td>\n",
       "      <td>0</td>\n",
       "      <td>-323.755585</td>\n",
       "      <td>-58.531605</td>\n",
       "      <td>466.918915</td>\n",
       "      <td>0.0</td>\n",
       "      <td>-311.702698</td>\n",
       "      <td>...</td>\n",
       "      <td>0.837972</td>\n",
       "      <td>1.864765</td>\n",
       "      <td>2.109177</td>\n",
       "      <td>-0.0</td>\n",
       "      <td>-0.0</td>\n",
       "      <td>-0.0</td>\n",
       "      <td>2.470492</td>\n",
       "      <td>227.176224</td>\n",
       "      <td>none</td>\n",
       "      <td>Scintillation</td>\n",
       "    </tr>\n",
       "    <tr>\n",
       "      <th>295</th>\n",
       "      <td>8988</td>\n",
       "      <td>1</td>\n",
       "      <td>e-</td>\n",
       "      <td>True</td>\n",
       "      <td>0</td>\n",
       "      <td>-361.688141</td>\n",
       "      <td>65.528381</td>\n",
       "      <td>855.656738</td>\n",
       "      <td>0.0</td>\n",
       "      <td>-428.686707</td>\n",
       "      <td>...</td>\n",
       "      <td>-2.093168</td>\n",
       "      <td>1.976066</td>\n",
       "      <td>0.482286</td>\n",
       "      <td>0.0</td>\n",
       "      <td>0.0</td>\n",
       "      <td>0.0</td>\n",
       "      <td>2.452092</td>\n",
       "      <td>210.019180</td>\n",
       "      <td>none</td>\n",
       "      <td>Scintillation</td>\n",
       "    </tr>\n",
       "    <tr>\n",
       "      <th>349</th>\n",
       "      <td>8989</td>\n",
       "      <td>1</td>\n",
       "      <td>e-</td>\n",
       "      <td>True</td>\n",
       "      <td>0</td>\n",
       "      <td>-106.279724</td>\n",
       "      <td>49.208046</td>\n",
       "      <td>4.682855</td>\n",
       "      <td>0.0</td>\n",
       "      <td>-156.853165</td>\n",
       "      <td>...</td>\n",
       "      <td>0.462936</td>\n",
       "      <td>1.718279</td>\n",
       "      <td>2.309803</td>\n",
       "      <td>0.0</td>\n",
       "      <td>0.0</td>\n",
       "      <td>-0.0</td>\n",
       "      <td>2.449255</td>\n",
       "      <td>190.029221</td>\n",
       "      <td>none</td>\n",
       "      <td>Scintillation</td>\n",
       "    </tr>\n",
       "  </tbody>\n",
       "</table>\n",
       "<p>8800 rows × 25 columns</p>\n",
       "</div>"
      ],
      "text/plain": [
       "     event_id  particle_id particle_name  primary  mother_id   initial_x  \\\n",
       "23          0            1            e-     True          0  263.843140   \n",
       "53          1            1            e-     True          0  152.977859   \n",
       "127         2            1            e-     True          0  443.712219   \n",
       "131         3            1            e-     True          0 -348.382904   \n",
       "149         4            1            e-     True          0 -307.496674   \n",
       "..        ...          ...           ...      ...        ...         ...   \n",
       "209      8985            1            e-     True          0  -40.266850   \n",
       "230      8986            1            e-     True          0  321.993134   \n",
       "243      8987            1            e-     True          0 -323.755585   \n",
       "295      8988            1            e-     True          0 -361.688141   \n",
       "349      8989            1            e-     True          0 -106.279724   \n",
       "\n",
       "      initial_y    initial_z  initial_t     final_x  ...  initial_momentum_x  \\\n",
       "23   282.704956  1200.066284        0.0  224.406219  ...           -2.144866   \n",
       "53  -331.856018     3.190071        0.0  225.966461  ...           -0.728068   \n",
       "127  153.831985  1106.283813        0.0  391.517029  ...           -1.393338   \n",
       "131 -172.308670   717.329773        0.0 -234.460526  ...            2.436209   \n",
       "149 -335.867310   101.232605        0.0 -354.965210  ...           -1.537453   \n",
       "..          ...          ...        ...         ...  ...                 ...   \n",
       "209 -177.054276   313.032959        0.0  -39.864620  ...            1.722774   \n",
       "230   88.897835   119.011902        0.0  268.802948  ...           -2.222698   \n",
       "243  -58.531605   466.918915        0.0 -311.702698  ...            0.837972   \n",
       "295   65.528381   855.656738        0.0 -428.686707  ...           -2.093168   \n",
       "349   49.208046     4.682855        0.0 -156.853165  ...            0.462936   \n",
       "\n",
       "     initial_momentum_y  initial_momentum_z final_momentum_x final_momentum_y  \\\n",
       "23            -1.164350            1.615185              0.0             -0.0   \n",
       "53            -1.545893            2.373892             -0.0              0.0   \n",
       "127           -2.532633            0.353849              0.0              0.0   \n",
       "131            1.410585           -0.786198             -0.0              0.0   \n",
       "149           -1.247277            2.158215              0.0              0.0   \n",
       "..                  ...                 ...              ...              ...   \n",
       "209           -0.489244           -2.306642              0.0              0.0   \n",
       "230            0.728661            1.752874              0.0             -0.0   \n",
       "243            1.864765            2.109177             -0.0             -0.0   \n",
       "295            1.976066            0.482286              0.0              0.0   \n",
       "349            1.718279            2.309803              0.0              0.0   \n",
       "\n",
       "     final_momentum_z  kin_energy      length  creator_proc     final_proc  \n",
       "23               -0.0    2.459877  180.497162          none  Scintillation  \n",
       "53               -0.0    2.458235  278.690399          none  Scintillation  \n",
       "127              -0.0    2.445680  200.310394          none  Scintillation  \n",
       "131               0.0    2.456170  243.929733          none  Scintillation  \n",
       "149              -0.0    2.461958   63.263073          none  Scintillation  \n",
       "..                ...         ...         ...           ...            ...  \n",
       "209              -0.0    2.453630  160.888199          none  Scintillation  \n",
       "230               0.0    2.456327  211.630997          none  Scintillation  \n",
       "243              -0.0    2.470492  227.176224          none  Scintillation  \n",
       "295               0.0    2.452092  210.019180          none  Scintillation  \n",
       "349              -0.0    2.449255  190.029221          none  Scintillation  \n",
       "\n",
       "[8800 rows x 25 columns]"
      ]
     },
     "execution_count": 45,
     "metadata": {},
     "output_type": "execute_result"
    }
   ],
   "source": [
    "true_selectron_primary = true_selectron[true_selectron.primary == True]\n",
    "\n",
    "true_selectron_primary_part1 = true_selectron_primary[true_selectron_primary.particle_id == 1]\n",
    "true_selectron_primary_part2 = true_selectron_primary[true_selectron_primary.particle_id == 2]\n",
    "true_selectron_primary"
   ]
  },
  {
   "cell_type": "code",
   "execution_count": 46,
   "metadata": {},
   "outputs": [
    {
     "name": "stdout",
     "output_type": "stream",
     "text": [
      "Total events = 3718\n",
      "Events 12 = 364 (9.79020979020979%)\n",
      "Events 21 = 3354 (90.20979020979021%)\n",
      "Events NA = 0 (0.0%)\n"
     ]
    }
   ],
   "source": [
    "diff_b1_x_selectron, diff_b1_y_selectron, diff_b1_z_selectron = [], [], []\n",
    "diff_b2_x_selectron, diff_b2_y_selectron, diff_b2_z_selectron = [], [], []\n",
    "\n",
    "reco_selectron_e = []\n",
    "\n",
    "diff_b1_x_selectron, diff_b1_y_selectron, diff_b2_x_selectron, diff_b2_y_selectron, reco_selectron_e = myrvt.blobassignation(true_selectron, tracks_selectron_ROIovlp1trackfid, 'bkg')"
   ]
  },
  {
   "cell_type": "code",
   "execution_count": 47,
   "metadata": {},
   "outputs": [
    {
     "data": {
      "image/png": "[encoded data removed]",
      "text/plain": [
       "<Figure size 432x288 with 1 Axes>"
      ]
     },
     "metadata": {
      "needs_background": "light"
     },
     "output_type": "display_data"
    },
    {
     "data": {
      "text/plain": [
       "0.0635160368617515"
      ]
     },
     "execution_count": 47,
     "metadata": {},
     "output_type": "execute_result"
    }
   ],
   "source": [
    "plt.hist(diff_b1_x_selectron, bins = 50, color='red', histtype='step', label = 'x blob1')\n",
    "plt.hist(diff_b1_y_selectron, bins = 50, color='blue', histtype='step', label = 'y blob1', linestyle='dashed')\n",
    "\n",
    "plt.xlabel('reco[tracks] - true[particle] (mm)')\n",
    "plt.ylabel('events (a.u.)')\n",
    "plt.title('Single Electron')\n",
    "plt.legend(loc=1);\n",
    "plt.show()\n",
    "(np.mean(diff_b1_x_selectron)+np.mean(diff_b1_y_selectron))/2"
   ]
  },
  {
   "cell_type": "code",
   "execution_count": 48,
   "metadata": {},
   "outputs": [
    {
     "data": {
      "image/png": "[encoded data removed]",
      "text/plain": [
       "<Figure size 432x288 with 1 Axes>"
      ]
     },
     "metadata": {
      "needs_background": "light"
     },
     "output_type": "display_data"
    },
    {
     "data": {
      "text/plain": [
       "-0.7475505238152549"
      ]
     },
     "execution_count": 48,
     "metadata": {},
     "output_type": "execute_result"
    }
   ],
   "source": [
    "plt.hist(diff_b2_x_selectron, bins = 50, color='red', histtype='step', label = 'x blob2')\n",
    "plt.hist(diff_b2_y_selectron, bins = 50, color='blue', histtype='step', label = 'y blob2', linestyle='dashed')\n",
    "\n",
    "plt.xlabel('reco[tracks] - true[particle] (mm)')\n",
    "plt.ylabel('events (a.u.)')\n",
    "plt.title('Single Electron')\n",
    "plt.legend(loc=1);\n",
    "plt.show()\n",
    "\n",
    "(np.mean(diff_b2_x_selectron)+np.mean(diff_b2_y_selectron))/2"
   ]
  },
  {
   "cell_type": "code",
   "execution_count": 49,
   "metadata": {},
   "outputs": [
    {
     "data": {
      "text/plain": [
       "<matplotlib.colorbar.Colorbar at 0x12a7e3d60>"
      ]
     },
     "execution_count": 49,
     "metadata": {},
     "output_type": "execute_result"
    },
    {
     "data": {
      "image/png": "[encoded data removed]",
      "text/plain": [
       "<Figure size 432x288 with 2 Axes>"
      ]
     },
     "metadata": {
      "needs_background": "light"
     },
     "output_type": "display_data"
    }
   ],
   "source": [
    "plt.hist2d(diff_b1_x_selectron, diff_b1_y_selectron, bins=(30, 30), range=((-50, 50), (-50, 50)), cmap='viridis', cmin=0.001)\n",
    "plt.xlabel('blob-1 reco_x - true_x (mm)')\n",
    "plt.ylabel('blob-1 reco_y - true_y (mm)')\n",
    "plt.title('Single Electron')\n",
    "#plt.xlim((0.0,1.5))\n",
    "plt.colorbar(label='events')"
   ]
  },
  {
   "cell_type": "code",
   "execution_count": 50,
   "metadata": {},
   "outputs": [
    {
     "data": {
      "text/plain": [
       "<matplotlib.colorbar.Colorbar at 0x128dd1d00>"
      ]
     },
     "execution_count": 50,
     "metadata": {},
     "output_type": "execute_result"
    },
    {
     "data": {
      "image/png": "[encoded data removed]",
      "text/plain": [
       "<Figure size 432x288 with 2 Axes>"
      ]
     },
     "metadata": {
      "needs_background": "light"
     },
     "output_type": "display_data"
    }
   ],
   "source": [
    "plt.hist2d(diff_b2_x_selectron, diff_b2_y_selectron, bins=(30, 30), range=((-50, 50), (-50, 50)), cmap='viridis', cmin=0.001)\n",
    "plt.xlabel('blob-2 reco_x - true_x (mm)')\n",
    "plt.ylabel('blob-2 reco_y - true_y (mm)')\n",
    "plt.title('Single Electron')\n",
    "#plt.xlim((0.0,1.5))\n",
    "plt.colorbar(label='events')"
   ]
  },
  {
   "cell_type": "markdown",
   "metadata": {},
   "source": [
    "### 2 - BLOB energy distributions for SIGNAL and BACKGROUND"
   ]
  },
  {
   "cell_type": "markdown",
   "metadata": {},
   "source": [
    "After properly asigning blob1 and 2 tags, it's straigh forward to represent the energy distributions for the signal and background events:"
   ]
  },
  {
   "cell_type": "code",
   "execution_count": 51,
   "metadata": {},
   "outputs": [
    {
     "data": {
      "image/png": "[encoded data removed]",
      "text/plain": [
       "<Figure size 432x288 with 1 Axes>"
      ]
     },
     "metadata": {
      "needs_background": "light"
     },
     "output_type": "display_data"
    }
   ],
   "source": [
    "plt.hist(reco_0nubb_e[1], bins = 50, color='red', histtype='step', label = 'energy blob1')\n",
    "plt.hist(reco_0nubb_e[2], bins = 50, color='blue', histtype='step', label = 'energy blob2', linestyle='dashed')\n",
    "\n",
    "plt.xlabel('energy (MeV)')\n",
    "plt.ylabel('events (a.u.)')\n",
    "plt.title('0nubb')\n",
    "plt.legend(loc=1);\n",
    "plt.show()"
   ]
  },
  {
   "cell_type": "code",
   "execution_count": 52,
   "metadata": {},
   "outputs": [
    {
     "data": {
      "text/plain": [
       "<matplotlib.colorbar.Colorbar at 0x130ddee80>"
      ]
     },
     "execution_count": 52,
     "metadata": {},
     "output_type": "execute_result"
    },
    {
     "data": {
      "image/png": "[encoded data removed]",
      "text/plain": [
       "<Figure size 432x288 with 2 Axes>"
      ]
     },
     "metadata": {
      "needs_background": "light"
     },
     "output_type": "display_data"
    }
   ],
   "source": [
    "weights = myhf.get_weights(reco_0nubb_e[1], True)\n",
    "\n",
    "\n",
    "plt.hist2d(reco_0nubb_e[1], reco_0nubb_e[2], weights= weights, bins=(30, 30), range=((0, 1.5), (0, 1.5)), cmap='viridis', cmin=0.001)\n",
    "plt.xlabel('Blob-1 candidate energy (MeV)')\n",
    "plt.ylabel('Blob-2 candidate energy (MeV)')\n",
    "plt.title('0nubb')\n",
    "#plt.xlim((0.0,1.5))\n",
    "plt.colorbar(label='proportion of events')"
   ]
  },
  {
   "cell_type": "code",
   "execution_count": 53,
   "metadata": {},
   "outputs": [
    {
     "data": {
      "image/png": "[encoded data removed]",
      "text/plain": [
       "<Figure size 432x288 with 1 Axes>"
      ]
     },
     "metadata": {
      "needs_background": "light"
     },
     "output_type": "display_data"
    }
   ],
   "source": [
    "plt.hist(reco_selectron_e[1], bins = 50, color='red', histtype='step', label = 'energy blob1')\n",
    "plt.hist(reco_selectron_e[2], bins = 50, color='blue', histtype='step', label = 'energy blob2', linestyle='dashed')\n",
    "\n",
    "plt.xlabel('energy (MeV)')\n",
    "plt.ylabel('events (a.u.)')\n",
    "plt.title('Single Electron')\n",
    "plt.legend(loc=1);\n",
    "plt.show()"
   ]
  },
  {
   "cell_type": "code",
   "execution_count": 54,
   "metadata": {},
   "outputs": [
    {
     "data": {
      "text/plain": [
       "<matplotlib.colorbar.Colorbar at 0x13239dd90>"
      ]
     },
     "execution_count": 54,
     "metadata": {},
     "output_type": "execute_result"
    },
    {
     "data": {
      "image/png": "[encoded data removed]",
      "text/plain": [
       "<Figure size 432x288 with 2 Axes>"
      ]
     },
     "metadata": {
      "needs_background": "light"
     },
     "output_type": "display_data"
    }
   ],
   "source": [
    "weights = myhf.get_weights(reco_selectron_e[1], True)\n",
    "\n",
    "plt.hist2d(reco_selectron_e[1], reco_selectron_e[2], weights=weights, bins=(30, 30), range=((0, 1.5), (0, 1.5)), cmap='viridis', cmin=0.001)\n",
    "plt.xlabel('Blob candidate 1 energy (MeV)')\n",
    "plt.ylabel('Blob candidate 2 energy (MeV)')\n",
    "plt.title('Single Electron')\n",
    "plt.colorbar(label='proportion of events')"
   ]
  },
  {
   "cell_type": "markdown",
   "metadata": {},
   "source": [
    "### 3 - Efficiency Values and fom estimation"
   ]
  },
  {
   "cell_type": "markdown",
   "metadata": {},
   "source": [
    "First of all I'm going to check how blob energies are distributed acording to the track energy."
   ]
  },
  {
   "cell_type": "code",
   "execution_count": 55,
   "metadata": {},
   "outputs": [
    {
     "data": {
      "text/plain": [
       "<matplotlib.colorbar.Colorbar at 0x13121e910>"
      ]
     },
     "execution_count": 55,
     "metadata": {},
     "output_type": "execute_result"
    },
    {
     "data": {
      "image/png": "[encoded data removed]",
      "text/plain": [
       "<Figure size 432x288 with 2 Axes>"
      ]
     },
     "metadata": {
      "needs_background": "light"
     },
     "output_type": "display_data"
    }
   ],
   "source": [
    "weights = myhf.get_weights(reco_0nubb_e[0], True)\n",
    "\n",
    "plt.hist2d(reco_0nubb_e[0], reco_0nubb_e[2], bins=(30, 30), range=((2.4, 2.5), (0, 1.8)), cmap='viridis', cmin=0.001)\n",
    "plt.xlabel('track energy (MeV)')\n",
    "plt.ylabel('Blob-2 candidate energy (MeV)')\n",
    "plt.title('0nubb')\n",
    "#plt.xlim((0.0,1.5))\n",
    "plt.colorbar(label='proportion of events')"
   ]
  },
  {
   "cell_type": "code",
   "execution_count": 56,
   "metadata": {},
   "outputs": [
    {
     "data": {
      "text/plain": [
       "<matplotlib.colorbar.Colorbar at 0x1319c49d0>"
      ]
     },
     "execution_count": 56,
     "metadata": {},
     "output_type": "execute_result"
    },
    {
     "data": {
      "image/png": "[encoded data removed]",
      "text/plain": [
       "<Figure size 432x288 with 2 Axes>"
      ]
     },
     "metadata": {
      "needs_background": "light"
     },
     "output_type": "display_data"
    }
   ],
   "source": [
    "weights = myhf.get_weights(reco_0nubb_e[0], True)\n",
    "\n",
    "plt.hist2d(reco_0nubb_e[0], reco_0nubb_e[1], bins=(30, 30), range=((2.4, 2.5), (0, 1.8)), cmap='viridis', cmin=0.001)\n",
    "plt.xlabel('track energy (MeV)')\n",
    "plt.ylabel('Blob-1 candidate energy (MeV)')\n",
    "plt.title('0nubb')\n",
    "#plt.xlim((0.0,1.5))\n",
    "plt.colorbar(label='proportion of events')"
   ]
  },
  {
   "cell_type": "code",
   "execution_count": 57,
   "metadata": {},
   "outputs": [
    {
     "data": {
      "image/png": "[encoded data removed]",
      "text/plain": [
       "<Figure size 432x288 with 1 Axes>"
      ]
     },
     "metadata": {
      "needs_background": "light"
     },
     "output_type": "display_data"
    }
   ],
   "source": [
    "plt.hist(reco_selectron_e[0], bins = 50, histtype='step', label = 'energy track')\n",
    "plt.hist(reco_selectron_e[2], bins = 50, histtype='step', label = 'energy blob2', linestyle='dashed')\n",
    "\n",
    "plt.xlabel('energy (MeV)')\n",
    "plt.ylabel('events (a.u.)')\n",
    "plt.title('Single Electron')\n",
    "plt.legend(loc=1);\n",
    "plt.show()"
   ]
  },
  {
   "cell_type": "code",
   "execution_count": 58,
   "metadata": {},
   "outputs": [
    {
     "data": {
      "image/png": "[encoded data removed]",
      "text/plain": [
       "<Figure size 432x288 with 1 Axes>"
      ]
     },
     "metadata": {
      "needs_background": "light"
     },
     "output_type": "display_data"
    },
    {
     "name": "stdout",
     "output_type": "stream",
     "text": [
      "Total events 3718\n"
     ]
    }
   ],
   "source": [
    "plt.hist(reco_selectron_e[0], bins = 50, histtype='step', label = 'energy track')\n",
    "plt.xlabel('track energy (MeV)')\n",
    "plt.ylabel('events (a.u.)')\n",
    "plt.title('Single Electron')\n",
    "plt.show()\n",
    "\n",
    "print(f'Total events {len(reco_selectron_e[0])}')"
   ]
  },
  {
   "cell_type": "code",
   "execution_count": 59,
   "metadata": {},
   "outputs": [
    {
     "data": {
      "image/png": "[encoded data removed]",
      "text/plain": [
       "<Figure size 432x288 with 1 Axes>"
      ]
     },
     "metadata": {
      "needs_background": "light"
     },
     "output_type": "display_data"
    },
    {
     "name": "stdout",
     "output_type": "stream",
     "text": [
      "Total events 3718\n"
     ]
    }
   ],
   "source": [
    "plt.hist(reco_selectron_e[2], bins = 50, histtype='step', label = 'energy track')\n",
    "plt.xlabel('blob-2 energy (MeV)')\n",
    "plt.ylabel('events (a.u.)')\n",
    "plt.title('Single Electron')\n",
    "plt.show()\n",
    "\n",
    "print(f'Total events {len(reco_selectron_e[0])}')"
   ]
  },
  {
   "cell_type": "code",
   "execution_count": 60,
   "metadata": {},
   "outputs": [
    {
     "data": {
      "image/png": "[encoded data removed]",
      "text/plain": [
       "<Figure size 432x288 with 1 Axes>"
      ]
     },
     "metadata": {
      "needs_background": "light"
     },
     "output_type": "display_data"
    },
    {
     "name": "stdout",
     "output_type": "stream",
     "text": [
      "Total events 3718\n"
     ]
    }
   ],
   "source": [
    "plt.hist(reco_0nubb_e[2], bins = 50, histtype='step', label = 'energy track')\n",
    "plt.xlabel('blob-2 energy (MeV)')\n",
    "plt.ylabel('events (a.u.)')\n",
    "plt.title('0nubb')\n",
    "plt.show()\n",
    "\n",
    "print(f'Total events {len(reco_selectron_e[0])}')"
   ]
  },
  {
   "cell_type": "markdown",
   "metadata": {},
   "source": [
    "In the following boxes I'm going to define the functions I'm going to use to do the full efficiency/fom analysis:"
   ]
  },
  {
   "cell_type": "code",
   "execution_count": 61,
   "metadata": {},
   "outputs": [],
   "source": [
    "blobcut_energy=[]\n",
    "#in MeV\n",
    "minEcut = 0.010\n",
    "maxEcut = 0.600\n",
    "stepsEcut = 0.010\n",
    "\n",
    "blobcut_energy=myef.blobthreshold(minEcut,maxEcut,stepsEcut)"
   ]
  },
  {
   "cell_type": "markdown",
   "metadata": {},
   "source": [
    "Now I'm going to take the information from reco_selectron_e[][], to see how many events with each cut I get:"
   ]
  },
  {
   "cell_type": "code",
   "execution_count": 62,
   "metadata": {},
   "outputs": [],
   "source": [
    "blobcut_energy_nevents_0nubb, blobcut_energy_nevents_selectron = [], [] \n",
    "\n",
    "blobcut_energy_nevents_0nubb = myef.nevents_afterthreshold(blobcut_energy, reco_0nubb_e)\n",
    "blobcut_energy_nevents_selectron = myef.nevents_afterthreshold(blobcut_energy, reco_selectron_e)\n",
    "\n",
    "blobcut_energy_nevents_0nubb = np.array(blobcut_energy_nevents_0nubb, dtype=np.float)\n",
    "blobcut_energy_nevents_selectron = np.array(blobcut_energy_nevents_selectron, dtype=np.float)"
   ]
  },
  {
   "cell_type": "markdown",
   "metadata": {},
   "source": [
    "Create now arrays containing the statistical uncertainty (sqrt from total amount of events)"
   ]
  },
  {
   "cell_type": "code",
   "execution_count": 63,
   "metadata": {},
   "outputs": [],
   "source": [
    "blobcut_energy_nevents_0nubb_error, blobcut_energy_nevents_selectron_error= [], []\n",
    "\n",
    "blobcut_energy_nevents_0nubb_error = myef.sqrterror_array(blobcut_energy_nevents_0nubb)\n",
    "blobcut_energy_nevents_selectron_error = myef.sqrterror_array(blobcut_energy_nevents_selectron)"
   ]
  },
  {
   "cell_type": "code",
   "execution_count": 64,
   "metadata": {},
   "outputs": [
    {
     "data": {
      "text/plain": [
       "Text(0.5, 0, 'blob-2 energy threshold (MeV)')"
      ]
     },
     "execution_count": 64,
     "metadata": {},
     "output_type": "execute_result"
    },
    {
     "data": {
      "image/png": "[encoded data removed]",
      "text/plain": [
       "<Figure size 432x288 with 1 Axes>"
      ]
     },
     "metadata": {
      "needs_background": "light"
     },
     "output_type": "display_data"
    }
   ],
   "source": [
    "fig, ax = plt.subplots()\n",
    "ax.errorbar(blobcut_energy,blobcut_energy_nevents_0nubb, yerr=blobcut_energy_nevents_0nubb_error, fmt = '-r')\n",
    "plt.ylabel('accepted events (a.u.)')\n",
    "plt.xlabel('blob-2 energy threshold (MeV)')\n",
    "#plt.title('Cut efficiency')"
   ]
  },
  {
   "cell_type": "code",
   "execution_count": 65,
   "metadata": {},
   "outputs": [],
   "source": [
    "fom_error, e_error, b_error = [], [], []\n",
    "\n",
    "e, b, fom, e_error, b_error, fom_error = myef.efficiencyterms(blobcut_energy_nevents_0nubb, blobcut_energy_nevents_selectron, \n",
    "                            blobcut_energy_nevents_0nubb_error, blobcut_energy_nevents_selectron_error,\n",
    "                            reco_0nubb_e, reco_selectron_e)"
   ]
  },
  {
   "cell_type": "code",
   "execution_count": 66,
   "metadata": {},
   "outputs": [
    {
     "data": {
      "text/plain": [
       "Text(0.5, 0, 'background rejection')"
      ]
     },
     "execution_count": 66,
     "metadata": {},
     "output_type": "execute_result"
    },
    {
     "data": {
      "image/png": "[encoded data removed]",
      "text/plain": [
       "<Figure size 432x288 with 1 Axes>"
      ]
     },
     "metadata": {
      "needs_background": "light"
     },
     "output_type": "display_data"
    }
   ],
   "source": [
    "fig, ax = plt.subplots()\n",
    "ax.errorbar(1-b,e, xerr=b_error, yerr=e_error, fmt = '-r')\n",
    "plt.ylabel('signal efficiency')\n",
    "plt.xlabel('background rejection')\n",
    "#plt.title('Cut efficiency')"
   ]
  },
  {
   "cell_type": "code",
   "execution_count": 67,
   "metadata": {},
   "outputs": [
    {
     "data": {
      "text/plain": [
       "Text(0, 0.5, 'f.o.m.=e/sqrt(b)')"
      ]
     },
     "execution_count": 67,
     "metadata": {},
     "output_type": "execute_result"
    },
    {
     "data": {
      "image/png": "[encoded data removed]",
      "text/plain": [
       "<Figure size 432x288 with 1 Axes>"
      ]
     },
     "metadata": {
      "needs_background": "light"
     },
     "output_type": "display_data"
    }
   ],
   "source": [
    "fig, ax = plt.subplots()\n",
    "ax.errorbar(blobcut_energy,fom, yerr=fom_error,fmt = '-r')\n",
    "plt.xlabel('blob-2 energy threshold (MeV)')\n",
    "plt.ylabel('f.o.m.=e/sqrt(b)')\n",
    "#plt.title('Cut efficiency')"
   ]
  },
  {
   "cell_type": "code",
   "execution_count": 68,
   "metadata": {},
   "outputs": [
    {
     "name": "stdout",
     "output_type": "stream",
     "text": [
      "Best fom is {2.0560004668307887}, that corresponds to:\n",
      "- signal efficiency of 49.44%\n",
      "- background acceptance of 5.78%\n",
      "- energy threshold of 0.46 MeV\n"
     ]
    }
   ],
   "source": [
    "myef.best_fom(e,b,fom,blobcut_energy)"
   ]
  }
 ],
 "metadata": {
  "kernelspec": {
   "display_name": "Python 3",
   "language": "python",
   "name": "python3"
  },
  "language_info": {
   "codemirror_mode": {
    "name": "ipython",
    "version": 3
   },
   "file_extension": ".py",
   "mimetype": "text/x-python",
   "name": "python",
   "nbconvert_exporter": "python",
   "pygments_lexer": "ipython3",
   "version": "3.8.3"
  }
 },
 "nbformat": 4,
 "nbformat_minor": 4
}
