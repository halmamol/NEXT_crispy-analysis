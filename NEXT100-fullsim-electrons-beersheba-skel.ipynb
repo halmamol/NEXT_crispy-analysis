{
 "cells": [
  {
   "cell_type": "code",
   "execution_count": 1,
   "metadata": {},
   "outputs": [],
   "source": [
    "%matplotlib inline\n",
    "\n",
    "import os\n",
    "import sys\n",
    "import random\n",
    "import tables as tb\n",
    "import numpy  as np\n",
    "import pandas as pd\n",
    "import scipy.spatial.distance as scidist\n",
    "import matplotlib.pyplot as plt\n",
    "import invisible_cities.core.fit_functions  as fitf\n",
    "from   invisible_cities.core.stat_functions import poisson_sigma\n",
    "from invisible_cities.core.core_functions import shift_to_bin_centers\n",
    "import invisible_cities.reco.dst_functions  as dstf"
   ]
  },
  {
   "cell_type": "code",
   "execution_count": 2,
   "metadata": {},
   "outputs": [],
   "source": [
    "import utils.histo_functions as myhf"
   ]
  },
  {
   "cell_type": "code",
   "execution_count": 3,
   "metadata": {},
   "outputs": [],
   "source": [
    "### Useful parameters for plots\n",
    "plt.rcParams[\"font.size\"] = 15\n",
    "plt.rcParams[\"figure.figsize\"] = 10, 7.5\n",
    "plt.rcParams['figure.max_open_warning']= 0"
   ]
  },
  {
   "cell_type": "code",
   "execution_count": 4,
   "metadata": {},
   "outputs": [],
   "source": [
    "color_table = myhf.tableau20\n",
    "\n",
    "blue = color_table[0]\n",
    "orange = color_table[2]\n",
    "green = color_table[4]\n",
    "fucsia = color_table[6]\n",
    "pink = color_table[7]\n",
    "lilla = color_table[9]\n",
    "brown = color_table[10]\n",
    "\n",
    "## NEXT color\n",
    "r, g, b = (218, 60, 78)\n",
    "next_color = (r / 255., g / 255., b / 255.)\n",
    "r, g, b = (35, 180, 203)\n",
    "data_color = (r / 255., g / 255., b / 255.)"
   ]
  },
  {
   "cell_type": "markdown",
   "metadata": {},
   "source": [
    "### BEERSHEBA: configuration: 5x5x5 mm voxels"
   ]
  },
  {
   "cell_type": "code",
   "execution_count": 5,
   "metadata": {
    "scrolled": true
   },
   "outputs": [],
   "source": [
    "tracks_list = []\n",
    "\n",
    "radius = 21\n",
    "\n",
    "folder_name = f'/data_extra2/paolafer/SimMC/next100/tracks/R{radius}mm/'\n",
    "start = 1\n",
    "nfiles = 1000\n",
    "for file in range(start, start+nfiles):\n",
    "    filename = folder_name + f'next100.e-_roi.{file}.skel_tracks.R{radius}mm.h5'\n",
    "    try:\n",
    "        df_t = pd.read_hdf(filename, 'Tracks')\n",
    "    except:\n",
    "        print('File {} not good'.format(filename))\n",
    "        continue\n",
    "    tracks_list.append(df_t)\n",
    "    \n",
    "tracks = pd.concat([dt for dt in tracks_list]) \n",
    "tracks.loc[:, 'evt_energy'] = tracks.groupby('event')['energy'].transform('sum')\n",
    "tracks.loc[:, 'e_max']      = tracks.groupby('event')['energy'].transform('max')"
   ]
  },
  {
   "cell_type": "code",
   "execution_count": 6,
   "metadata": {},
   "outputs": [
    {
     "data": {
      "text/plain": [
       "Index(['event', 'trackID', 'energy', 'length', 'numb_of_voxels',\n",
       "       'numb_of_hits', 'numb_of_tracks', 'x_min', 'y_min', 'z_min', 'x_max',\n",
       "       'y_max', 'z_max', 'r_max', 'x_ave', 'y_ave', 'z_ave', 'extreme1_x',\n",
       "       'extreme1_y', 'extreme1_z', 'extreme2_x', 'extreme2_y', 'extreme2_z',\n",
       "       'blob1_x', 'blob1_y', 'blob1_z', 'blob2_x', 'blob2_y', 'blob2_z',\n",
       "       'eblob1', 'eblob2', 'ovlp_blob_energy', 'vox_size_x', 'vox_size_y',\n",
       "       'vox_size_z'],\n",
       "      dtype='object')"
      ]
     },
     "execution_count": 6,
     "metadata": {},
     "output_type": "execute_result"
    }
   ],
   "source": [
    "tracks.columns"
   ]
  },
  {
   "cell_type": "code",
   "execution_count": 10,
   "metadata": {},
   "outputs": [],
   "source": [
    "evt_energy = tracks.groupby('event').energy.sum()"
   ]
  },
  {
   "cell_type": "code",
   "execution_count": 8,
   "metadata": {},
   "outputs": [
    {
     "name": "stdout",
     "output_type": "stream",
     "text": [
      "9787\n"
     ]
    }
   ],
   "source": [
    "n_events_ini = tracks.event.nunique()\n",
    "print(n_events_ini)"
   ]
  },
  {
   "cell_type": "code",
   "execution_count": 11,
   "metadata": {},
   "outputs": [
    {
     "data": {
      "image/png": "[encoded data removed]",
      "text/plain": [
       "<Figure size 720x540 with 1 Axes>"
      ]
     },
     "metadata": {
      "needs_background": "light"
     },
     "output_type": "display_data"
    }
   ],
   "source": [
    "plt.hist(evt_energy, bins=30, range = (2.4, 2.54));\n",
    "#plt.yscale('log')"
   ]
  },
  {
   "cell_type": "code",
   "execution_count": 12,
   "metadata": {},
   "outputs": [
    {
     "data": {
      "image/png": "[encoded data removed]",
      "text/plain": [
       "<Figure size 720x540 with 1 Axes>"
      ]
     },
     "metadata": {
      "needs_background": "light"
     },
     "output_type": "display_data"
    }
   ],
   "source": [
    "plt.hist(tracks.energy, bins=100);\n",
    "plt.yscale('log')"
   ]
  },
  {
   "cell_type": "markdown",
   "metadata": {},
   "source": [
    "### Fiducial limits\n"
   ]
  },
  {
   "cell_type": "code",
   "execution_count": 13,
   "metadata": {},
   "outputs": [
    {
     "name": "stdout",
     "output_type": "stream",
     "text": [
      "r max = 472 mm, z min = 20 mm, z max = 1185 mm\n"
     ]
    }
   ],
   "source": [
    "veto = 20 # mm\n",
    "r_max = 492 - veto\n",
    "z_min = veto\n",
    "z_max = 1205 - veto\n",
    "print(f'r max = {r_max} mm, z min = {z_min} mm, z max = {z_max} mm')\n",
    "\n",
    "## Returns df with events with ALL tracks within fiducial limits\n",
    "def fiducialize_df(df, rmax, zmin, zmax):\n",
    "    fid_sel = (df.r_max < rmax) & (df.z_min > zmin) & (df.z_max < zmax)\n",
    "    fid_trks     = df[fid_sel]\n",
    "    not_fid_trks = df[~fid_sel]\n",
    "\n",
    "    not_fid_events =  not_fid_trks.event.unique() # list of event IDs where at least 1 track is not fiducial\n",
    "    evt_fid_sel    = ~fid_trks.event.isin(not_fid_events) # true if event ID is not in the above list\n",
    "    fid = fid_trks[evt_fid_sel] # tracks within fiducial limits\n",
    "    return fid"
   ]
  },
  {
   "cell_type": "markdown",
   "metadata": {},
   "source": [
    "### Fiducial + 1 track + no overlap"
   ]
  },
  {
   "cell_type": "code",
   "execution_count": 14,
   "metadata": {},
   "outputs": [
    {
     "name": "stdout",
     "output_type": "stream",
     "text": [
      "Events after fiducial cut: 6478, efficiency = 0.6618984367017472\n",
      "Events after 1-track cut: 1388, efficiency = 0.21426366162395802\n",
      "Events after no-overlap cut: 1348, efficiency = 0.9711815561959655\n"
     ]
    },
    {
     "data": {
      "image/png": "[encoded data removed]",
      "text/plain": [
       "<Figure size 720x540 with 1 Axes>"
      ]
     },
     "metadata": {
      "needs_background": "light"
     },
     "output_type": "display_data"
    }
   ],
   "source": [
    "fid = fiducialize_df(tracks, r_max, z_min, z_max)\n",
    "n_events_fid = fid.event.nunique()\n",
    "print(f'Events after fiducial cut: {n_events_fid}, efficiency = {n_events_fid/n_events_ini}')\n",
    "one_track = fid[fid.numb_of_tracks == 1]\n",
    "n_events_1track = one_track.event.nunique()\n",
    "print(f'Events after 1-track cut: {n_events_1track}, efficiency = {n_events_1track/n_events_fid}')\n",
    "sep = one_track[one_track.ovlp_blob_energy == 0.]\n",
    "n_events_no_overlap = sep.event.nunique()\n",
    "print(f'Events after no-overlap cut: {n_events_no_overlap}, efficiency = {n_events_no_overlap/n_events_1track}')\n",
    "\n",
    "plt.hist(sep.energy, bins=50);\n",
    "plt.yscale('log')"
   ]
  },
  {
   "cell_type": "code",
   "execution_count": 15,
   "metadata": {},
   "outputs": [
    {
     "data": {
      "image/png": "[encoded data removed]",
      "text/plain": [
       "<Figure size 720x540 with 1 Axes>"
      ]
     },
     "metadata": {
      "needs_background": "light"
     },
     "output_type": "display_data"
    }
   ],
   "source": [
    "evt_energy = sep.groupby('event').energy.sum()\n",
    "plt.hist(evt_energy, bins=100);\n",
    "plt.yscale('log')"
   ]
  },
  {
   "cell_type": "code",
   "execution_count": 16,
   "metadata": {},
   "outputs": [
    {
     "name": "stdout",
     "output_type": "stream",
     "text": [
      "Events after roi cut: 1268, efficiency = 0.9406528189910979\n"
     ]
    }
   ],
   "source": [
    "e_roi_min = 2.4 # MeV\n",
    "e_roi_max = 2.54 # MeV\n",
    "\n",
    "roi = sep[(sep.evt_energy > e_roi_min) & (sep.evt_energy < e_roi_max)]\n",
    "n_events_roi = roi.event.nunique()\n",
    "print(f'Events after roi cut: {n_events_roi}, efficiency = {n_events_roi/n_events_no_overlap}')"
   ]
  },
  {
   "cell_type": "code",
   "execution_count": 18,
   "metadata": {},
   "outputs": [
    {
     "data": {
      "image/png": "[encoded data removed]",
      "text/plain": [
       "<Figure size 720x540 with 1 Axes>"
      ]
     },
     "metadata": {
      "needs_background": "light"
     },
     "output_type": "display_data"
    }
   ],
   "source": [
    "plt.hist(roi.evt_energy, bins=10);"
   ]
  },
  {
   "cell_type": "code",
   "execution_count": 19,
   "metadata": {},
   "outputs": [
    {
     "data": {
      "image/png": "[encoded data removed]",
      "text/plain": [
       "<Figure size 720x540 with 1 Axes>"
      ]
     },
     "metadata": {
      "needs_background": "light"
     },
     "output_type": "display_data"
    }
   ],
   "source": [
    "plt.hist(roi.e_max, bins=10);"
   ]
  },
  {
   "cell_type": "markdown",
   "metadata": {},
   "source": [
    "### Blobs"
   ]
  },
  {
   "cell_type": "code",
   "execution_count": 20,
   "metadata": {},
   "outputs": [
    {
     "name": "stdout",
     "output_type": "stream",
     "text": [
      "Events with no bad reconstructed tracks: 1268, efficiency = 1.0\n"
     ]
    }
   ],
   "source": [
    "roi = roi[roi.eblob1 > 0]\n",
    "n_events_good_roi = roi.event.nunique()\n",
    "print(f'Events with no bad reconstructed tracks: {n_events_good_roi}, efficiency = {n_events_good_roi/n_events_roi}')"
   ]
  },
  {
   "cell_type": "code",
   "execution_count": 21,
   "metadata": {},
   "outputs": [],
   "source": [
    "length   = roi.length.values\n",
    "n_voxels = roi.numb_of_voxels.values\n",
    "eblob1   = roi.eblob1.values\n",
    "eblob2   = roi.eblob2.values"
   ]
  },
  {
   "cell_type": "code",
   "execution_count": 22,
   "metadata": {},
   "outputs": [
    {
     "data": {
      "text/plain": [
       "1268"
      ]
     },
     "execution_count": 22,
     "metadata": {},
     "output_type": "execute_result"
    }
   ],
   "source": [
    "len(eblob1)"
   ]
  },
  {
   "cell_type": "code",
   "execution_count": 23,
   "metadata": {},
   "outputs": [
    {
     "data": {
      "image/png": "[encoded data removed]",
      "text/plain": [
       "<Figure size 540x432 with 2 Axes>"
      ]
     },
     "metadata": {
      "needs_background": "light"
     },
     "output_type": "display_data"
    }
   ],
   "source": [
    "fig = plt.figure(1);\n",
    "fig.set_figwidth(7.5);\n",
    "fig.set_figheight(6.);\n",
    "\n",
    "plt.rcParams.update({'font.size': 16})\n",
    "\n",
    "weights = myhf.get_weights(eblob1, True)\n",
    "\n",
    "bins_blobs = 30\n",
    "range_blobs = 1500\n",
    "_, _, _, _ = plt.hist2d(eblob1*1000, eblob2*1000, weights=weights, bins=bins_blobs, \\\n",
    "                        range=((0, range_blobs), (0, range_blobs)), cmin=0.0000001)\n",
    "plt.xlabel(\"Blob candidate 1 energy (keV)\")\n",
    "plt.ylabel(\"Blob candidate 2 energy (keV)\")\n",
    "#plt.title('')\n",
    "#plt.clim(0.0000001, 0.028)\n",
    "plt.colorbar(label='Proportion of entries');"
   ]
  },
  {
   "cell_type": "code",
   "execution_count": 24,
   "metadata": {},
   "outputs": [
    {
     "data": {
      "image/png": "[encoded data removed]",
      "text/plain": [
       "<Figure size 720x540 with 1 Axes>"
      ]
     },
     "metadata": {
      "needs_background": "light"
     },
     "output_type": "display_data"
    }
   ],
   "source": [
    "h1 = plt.hist(eblob1*1000, bins=bins_blobs, range=(0, range_blobs), color=pink, linewidth=3, histtype='step', \\\n",
    "                 stacked=True, fill=False, label='Blob1');\n",
    "h2 = plt.hist(eblob2*1000, bins=bins_blobs, range=(0, range_blobs), color=blue, linewidth=3, histtype='step', \\\n",
    "                 stacked=True, fill=False, label='Blob2');\n",
    "plt.legend(loc=1);"
   ]
  },
  {
   "cell_type": "code",
   "execution_count": 25,
   "metadata": {
    "collapsed": true
   },
   "outputs": [
    {
     "data": {
      "text/plain": [
       "0       5\n",
       "0      20\n",
       "0      23\n",
       "0      29\n",
       "0      39\n",
       "0      41\n",
       "0      49\n",
       "0      52\n",
       "0      63\n",
       "0      64\n",
       "0      65\n",
       "0      72\n",
       "0      81\n",
       "0      83\n",
       "0      88\n",
       "0      89\n",
       "0      94\n",
       "0      95\n",
       "0     103\n",
       "0     116\n",
       "0     127\n",
       "0     159\n",
       "0     163\n",
       "0     176\n",
       "0     188\n",
       "0     202\n",
       "0     218\n",
       "0     232\n",
       "0     266\n",
       "0     277\n",
       "     ... \n",
       "0    9770\n",
       "0    9779\n",
       "0    9807\n",
       "0    9808\n",
       "0    9811\n",
       "0    9814\n",
       "0    9818\n",
       "0    9842\n",
       "0    9844\n",
       "0    9850\n",
       "0    9853\n",
       "0    9855\n",
       "0    9862\n",
       "0    9863\n",
       "0    9872\n",
       "0    9875\n",
       "0    9885\n",
       "0    9887\n",
       "0    9899\n",
       "0    9915\n",
       "0    9916\n",
       "0    9921\n",
       "0    9927\n",
       "0    9933\n",
       "0    9946\n",
       "0    9949\n",
       "0    9950\n",
       "0    9972\n",
       "0    9978\n",
       "0    9996\n",
       "Name: event, Length: 1268, dtype: int64"
      ]
     },
     "execution_count": 25,
     "metadata": {},
     "output_type": "execute_result"
    }
   ],
   "source": [
    "roi.event"
   ]
  },
  {
   "cell_type": "code",
   "execution_count": 26,
   "metadata": {},
   "outputs": [],
   "source": [
    "bckg = []\n",
    "bckg_err = []\n",
    "\n",
    "before = len(roi)\n",
    "for thr in range(0, 600, 5):\n",
    "    after = len(roi[roi.eblob2*1000 > thr])\n",
    "    b = after/before\n",
    "    err_b = np.sqrt((1-b)/before)\n",
    "    bckg.append(1-b)\n",
    "    bckg_err.append(err_b)\n",
    "    \n",
    "bckg_rej = np.array(bckg)\n",
    "err_bckg = np.array(bckg_err)     \n",
    "\n",
    "npz_file = f'/home/paolafer/bckg_beersheba_skel_R{radius}mm_conf1'\n",
    "np.savez(npz_file, bckg_rej=bckg_rej, err_bckg=err_bckg)"
   ]
  },
  {
   "cell_type": "markdown",
   "metadata": {},
   "source": [
    "### Second way: do fiducial and overlap cuts + roi and use only main track."
   ]
  },
  {
   "cell_type": "code",
   "execution_count": 99,
   "metadata": {},
   "outputs": [
    {
     "name": "stdout",
     "output_type": "stream",
     "text": [
      "Events after fiducial cut: 6478, efficiency = 0.6618984367017472\n",
      "Events after no-overlap cut: 6237, efficiency = 0.9627971596171658\n"
     ]
    }
   ],
   "source": [
    "fid = fiducialize_df(tracks, r_max, z_min, z_max)\n",
    "n_events_fid = fid.event.nunique()\n",
    "print(f'Events after fiducial cut: {n_events_fid}, efficiency = {n_events_fid/n_events_ini}')\n",
    "\n",
    "sep = fid[fid.ovlp_blob_energy == 0.]\n",
    "n_events_no_overlap = sep.event.nunique()\n",
    "print(f'Events after no-overlap cut: {n_events_no_overlap}, efficiency = {n_events_no_overlap/n_events_fid}')"
   ]
  },
  {
   "cell_type": "code",
   "execution_count": 75,
   "metadata": {},
   "outputs": [
    {
     "data": {
      "text/html": [
       "<div>\n",
       "<style scoped>\n",
       "    .dataframe tbody tr th:only-of-type {\n",
       "        vertical-align: middle;\n",
       "    }\n",
       "\n",
       "    .dataframe tbody tr th {\n",
       "        vertical-align: top;\n",
       "    }\n",
       "\n",
       "    .dataframe thead th {\n",
       "        text-align: right;\n",
       "    }\n",
       "</style>\n",
       "<table border=\"1\" class=\"dataframe\">\n",
       "  <thead>\n",
       "    <tr style=\"text-align: right;\">\n",
       "      <th></th>\n",
       "      <th>event</th>\n",
       "      <th>trackID</th>\n",
       "      <th>energy</th>\n",
       "      <th>length</th>\n",
       "      <th>numb_of_voxels</th>\n",
       "      <th>numb_of_hits</th>\n",
       "      <th>numb_of_tracks</th>\n",
       "      <th>x_min</th>\n",
       "      <th>y_min</th>\n",
       "      <th>z_min</th>\n",
       "      <th>...</th>\n",
       "      <th>blob2_y</th>\n",
       "      <th>blob2_z</th>\n",
       "      <th>eblob1</th>\n",
       "      <th>eblob2</th>\n",
       "      <th>ovlp_blob_energy</th>\n",
       "      <th>vox_size_x</th>\n",
       "      <th>vox_size_y</th>\n",
       "      <th>vox_size_z</th>\n",
       "      <th>evt_energy</th>\n",
       "      <th>e_max</th>\n",
       "    </tr>\n",
       "  </thead>\n",
       "  <tbody>\n",
       "    <tr>\n",
       "      <th>0</th>\n",
       "      <td>43</td>\n",
       "      <td>0</td>\n",
       "      <td>1.816075</td>\n",
       "      <td>79.929974</td>\n",
       "      <td>364</td>\n",
       "      <td>14682</td>\n",
       "      <td>7</td>\n",
       "      <td>304.5</td>\n",
       "      <td>178.5</td>\n",
       "      <td>853.223125</td>\n",
       "      <td>...</td>\n",
       "      <td>188.952381</td>\n",
       "      <td>864.930109</td>\n",
       "      <td>1.387212</td>\n",
       "      <td>0.210126</td>\n",
       "      <td>-77</td>\n",
       "      <td>4.913043</td>\n",
       "      <td>4.826087</td>\n",
       "      <td>4.897438</td>\n",
       "      <td>1.820912</td>\n",
       "      <td>1.816075</td>\n",
       "    </tr>\n",
       "    <tr>\n",
       "      <th>1</th>\n",
       "      <td>43</td>\n",
       "      <td>1</td>\n",
       "      <td>0.003250</td>\n",
       "      <td>13.773759</td>\n",
       "      <td>9</td>\n",
       "      <td>139</td>\n",
       "      <td>7</td>\n",
       "      <td>373.5</td>\n",
       "      <td>262.5</td>\n",
       "      <td>860.954625</td>\n",
       "      <td>...</td>\n",
       "      <td>1000000.000000</td>\n",
       "      <td>1000000.000000</td>\n",
       "      <td>1.387212</td>\n",
       "      <td>0.210126</td>\n",
       "      <td>-1</td>\n",
       "      <td>4.913043</td>\n",
       "      <td>4.826087</td>\n",
       "      <td>4.897438</td>\n",
       "      <td>1.820912</td>\n",
       "      <td>1.816075</td>\n",
       "    </tr>\n",
       "    <tr>\n",
       "      <th>2</th>\n",
       "      <td>43</td>\n",
       "      <td>2</td>\n",
       "      <td>0.000647</td>\n",
       "      <td>11.712967</td>\n",
       "      <td>5</td>\n",
       "      <td>32</td>\n",
       "      <td>7</td>\n",
       "      <td>253.5</td>\n",
       "      <td>196.5</td>\n",
       "      <td>860.954625</td>\n",
       "      <td>...</td>\n",
       "      <td>1000000.000000</td>\n",
       "      <td>1000000.000000</td>\n",
       "      <td>1.387212</td>\n",
       "      <td>0.210126</td>\n",
       "      <td>-1</td>\n",
       "      <td>4.913043</td>\n",
       "      <td>4.826087</td>\n",
       "      <td>4.897438</td>\n",
       "      <td>1.820912</td>\n",
       "      <td>1.816075</td>\n",
       "    </tr>\n",
       "    <tr>\n",
       "      <th>3</th>\n",
       "      <td>43</td>\n",
       "      <td>3</td>\n",
       "      <td>0.000605</td>\n",
       "      <td>6.886880</td>\n",
       "      <td>4</td>\n",
       "      <td>28</td>\n",
       "      <td>7</td>\n",
       "      <td>405.5</td>\n",
       "      <td>190.5</td>\n",
       "      <td>864.873625</td>\n",
       "      <td>...</td>\n",
       "      <td>1000000.000000</td>\n",
       "      <td>1000000.000000</td>\n",
       "      <td>1.387212</td>\n",
       "      <td>0.210126</td>\n",
       "      <td>-1</td>\n",
       "      <td>4.913043</td>\n",
       "      <td>4.826087</td>\n",
       "      <td>4.897438</td>\n",
       "      <td>1.820912</td>\n",
       "      <td>1.816075</td>\n",
       "    </tr>\n",
       "    <tr>\n",
       "      <th>4</th>\n",
       "      <td>43</td>\n",
       "      <td>4</td>\n",
       "      <td>0.000255</td>\n",
       "      <td>6.886880</td>\n",
       "      <td>3</td>\n",
       "      <td>13</td>\n",
       "      <td>7</td>\n",
       "      <td>268.5</td>\n",
       "      <td>264.5</td>\n",
       "      <td>860.954625</td>\n",
       "      <td>...</td>\n",
       "      <td>1000000.000000</td>\n",
       "      <td>1000000.000000</td>\n",
       "      <td>1.387212</td>\n",
       "      <td>0.210126</td>\n",
       "      <td>-1</td>\n",
       "      <td>4.913043</td>\n",
       "      <td>4.826087</td>\n",
       "      <td>4.897438</td>\n",
       "      <td>1.820912</td>\n",
       "      <td>1.816075</td>\n",
       "    </tr>\n",
       "    <tr>\n",
       "      <th>5</th>\n",
       "      <td>43</td>\n",
       "      <td>5</td>\n",
       "      <td>0.000059</td>\n",
       "      <td>0.000000</td>\n",
       "      <td>1</td>\n",
       "      <td>3</td>\n",
       "      <td>7</td>\n",
       "      <td>185.5</td>\n",
       "      <td>209.5</td>\n",
       "      <td>859.007875</td>\n",
       "      <td>...</td>\n",
       "      <td>1000000.000000</td>\n",
       "      <td>1000000.000000</td>\n",
       "      <td>1.387212</td>\n",
       "      <td>0.210126</td>\n",
       "      <td>-1</td>\n",
       "      <td>4.913043</td>\n",
       "      <td>4.826087</td>\n",
       "      <td>4.897438</td>\n",
       "      <td>1.820912</td>\n",
       "      <td>1.816075</td>\n",
       "    </tr>\n",
       "    <tr>\n",
       "      <th>6</th>\n",
       "      <td>43</td>\n",
       "      <td>6</td>\n",
       "      <td>0.000019</td>\n",
       "      <td>0.000000</td>\n",
       "      <td>1</td>\n",
       "      <td>1</td>\n",
       "      <td>7</td>\n",
       "      <td>314.5</td>\n",
       "      <td>289.5</td>\n",
       "      <td>859.007875</td>\n",
       "      <td>...</td>\n",
       "      <td>1000000.000000</td>\n",
       "      <td>1000000.000000</td>\n",
       "      <td>1.387212</td>\n",
       "      <td>0.210126</td>\n",
       "      <td>-1</td>\n",
       "      <td>4.913043</td>\n",
       "      <td>4.826087</td>\n",
       "      <td>4.897438</td>\n",
       "      <td>1.820912</td>\n",
       "      <td>1.816075</td>\n",
       "    </tr>\n",
       "  </tbody>\n",
       "</table>\n",
       "<p>7 rows × 37 columns</p>\n",
       "</div>"
      ],
      "text/plain": [
       "   event  trackID    energy     length  numb_of_voxels  numb_of_hits  \\\n",
       "0     43        0  1.816075  79.929974             364         14682   \n",
       "1     43        1  0.003250  13.773759               9           139   \n",
       "2     43        2  0.000647  11.712967               5            32   \n",
       "3     43        3  0.000605   6.886880               4            28   \n",
       "4     43        4  0.000255   6.886880               3            13   \n",
       "5     43        5  0.000059   0.000000               1             3   \n",
       "6     43        6  0.000019   0.000000               1             1   \n",
       "\n",
       "   numb_of_tracks  x_min  y_min       z_min    ...            blob2_y  \\\n",
       "0               7  304.5  178.5  853.223125    ...         188.952381   \n",
       "1               7  373.5  262.5  860.954625    ...     1000000.000000   \n",
       "2               7  253.5  196.5  860.954625    ...     1000000.000000   \n",
       "3               7  405.5  190.5  864.873625    ...     1000000.000000   \n",
       "4               7  268.5  264.5  860.954625    ...     1000000.000000   \n",
       "5               7  185.5  209.5  859.007875    ...     1000000.000000   \n",
       "6               7  314.5  289.5  859.007875    ...     1000000.000000   \n",
       "\n",
       "          blob2_z    eblob1    eblob2  ovlp_blob_energy  vox_size_x  \\\n",
       "0      864.930109  1.387212  0.210126               -77    4.913043   \n",
       "1  1000000.000000  1.387212  0.210126                -1    4.913043   \n",
       "2  1000000.000000  1.387212  0.210126                -1    4.913043   \n",
       "3  1000000.000000  1.387212  0.210126                -1    4.913043   \n",
       "4  1000000.000000  1.387212  0.210126                -1    4.913043   \n",
       "5  1000000.000000  1.387212  0.210126                -1    4.913043   \n",
       "6  1000000.000000  1.387212  0.210126                -1    4.913043   \n",
       "\n",
       "   vox_size_y  vox_size_z  evt_energy     e_max  \n",
       "0    4.826087    4.897438    1.820912  1.816075  \n",
       "1    4.826087    4.897438    1.820912  1.816075  \n",
       "2    4.826087    4.897438    1.820912  1.816075  \n",
       "3    4.826087    4.897438    1.820912  1.816075  \n",
       "4    4.826087    4.897438    1.820912  1.816075  \n",
       "5    4.826087    4.897438    1.820912  1.816075  \n",
       "6    4.826087    4.897438    1.820912  1.816075  \n",
       "\n",
       "[7 rows x 37 columns]"
      ]
     },
     "execution_count": 75,
     "metadata": {},
     "output_type": "execute_result"
    }
   ],
   "source": [
    "fid[fid.event == 43]"
   ]
  },
  {
   "cell_type": "code",
   "execution_count": 88,
   "metadata": {},
   "outputs": [
    {
     "data": {
      "image/png": "[encoded data removed]",
      "text/plain": [
       "<Figure size 720x540 with 1 Axes>"
      ]
     },
     "metadata": {
      "needs_background": "light"
     },
     "output_type": "display_data"
    }
   ],
   "source": [
    "plt.hist(sep.energy, bins=10);"
   ]
  },
  {
   "cell_type": "code",
   "execution_count": 89,
   "metadata": {},
   "outputs": [
    {
     "name": "stdout",
     "output_type": "stream",
     "text": [
      "Events after roi cut: 4249, efficiency = 0.6812570145903479\n"
     ]
    }
   ],
   "source": [
    "e_roi_min = 2.4 # MeV\n",
    "e_roi_max = 2.54 # MeV\n",
    "\n",
    "sel_tracks = tracks[tracks.event.isin(sep.event.unique())]\n",
    "roi        = sel_tracks[(sel_tracks.energy > e_roi_min) & (sel_tracks.energy < e_roi_max)]\n",
    "\n",
    "n_events_roi = roi.event.nunique()\n",
    "print(f'Events after roi cut: {n_events_roi}, efficiency = {n_events_roi/n_events_no_overlap}')"
   ]
  },
  {
   "cell_type": "code",
   "execution_count": 100,
   "metadata": {},
   "outputs": [
    {
     "data": {
      "text/plain": [
       "0.434147338305916"
      ]
     },
     "execution_count": 100,
     "metadata": {},
     "output_type": "execute_result"
    }
   ],
   "source": [
    "n_events_roi/n_events_ini"
   ]
  },
  {
   "cell_type": "code",
   "execution_count": 90,
   "metadata": {},
   "outputs": [
    {
     "data": {
      "image/png": "[encoded data removed]",
      "text/plain": [
       "<Figure size 720x540 with 1 Axes>"
      ]
     },
     "metadata": {
      "needs_background": "light"
     },
     "output_type": "display_data"
    }
   ],
   "source": [
    "plt.hist(roi.evt_energy, bins=10);"
   ]
  },
  {
   "cell_type": "code",
   "execution_count": 91,
   "metadata": {},
   "outputs": [
    {
     "name": "stdout",
     "output_type": "stream",
     "text": [
      "Events with no bad reconstructed tracks: 4249, efficiency = 1.0\n"
     ]
    }
   ],
   "source": [
    "### Use only track with maximum energy\n",
    "sel_sample   = roi[roi.energy == roi.e_max]\n",
    "n_sel_sample = sel_sample.event.nunique()\n",
    "sel_sample   = sel_sample[sel_sample.eblob1 > 0]\n",
    "n_events_good_sample = sel_sample.event.nunique()\n",
    "print(f'Events with no bad reconstructed tracks: {n_events_good_sample}, efficiency = {n_events_good_sample/n_sel_sample}')\n",
    "#sel_sample = sel_sample[sel_sample.eblob1 < 0.1]"
   ]
  },
  {
   "cell_type": "code",
   "execution_count": 79,
   "metadata": {
    "scrolled": true
   },
   "outputs": [
    {
     "data": {
      "text/plain": [
       "0       3\n",
       "0       5\n",
       "0       6\n",
       "0      10\n",
       "0      11\n",
       "0      15\n",
       "0      17\n",
       "0      20\n",
       "0      21\n",
       "0      23\n",
       "0      24\n",
       "0      28\n",
       "0      29\n",
       "0      30\n",
       "0      31\n",
       "0      36\n",
       "0      39\n",
       "0      41\n",
       "0      44\n",
       "0      46\n",
       "0      47\n",
       "0      48\n",
       "0      49\n",
       "0      50\n",
       "0      52\n",
       "0      54\n",
       "0      55\n",
       "0      56\n",
       "0      58\n",
       "0      59\n",
       "     ... \n",
       "0    9940\n",
       "0    9946\n",
       "0    9949\n",
       "0    9950\n",
       "0    9951\n",
       "0    9953\n",
       "0    9955\n",
       "0    9958\n",
       "0    9959\n",
       "0    9963\n",
       "0    9966\n",
       "0    9967\n",
       "0    9969\n",
       "0    9970\n",
       "0    9972\n",
       "0    9974\n",
       "0    9975\n",
       "0    9977\n",
       "0    9978\n",
       "0    9980\n",
       "0    9984\n",
       "0    9986\n",
       "0    9987\n",
       "0    9988\n",
       "0    9989\n",
       "0    9991\n",
       "0    9993\n",
       "0    9995\n",
       "0    9996\n",
       "0    9997\n",
       "Name: event, Length: 5086, dtype: int64"
      ]
     },
     "execution_count": 79,
     "metadata": {},
     "output_type": "execute_result"
    }
   ],
   "source": [
    "sel_sample.event"
   ]
  },
  {
   "cell_type": "code",
   "execution_count": 92,
   "metadata": {},
   "outputs": [],
   "source": [
    "length   = sel_sample.length.values\n",
    "n_voxels = sel_sample.numb_of_voxels.values\n",
    "eblob1   = sel_sample.eblob1.values\n",
    "eblob2   = sel_sample.eblob2.values"
   ]
  },
  {
   "cell_type": "code",
   "execution_count": 93,
   "metadata": {},
   "outputs": [
    {
     "data": {
      "text/plain": [
       "4249"
      ]
     },
     "execution_count": 93,
     "metadata": {},
     "output_type": "execute_result"
    }
   ],
   "source": [
    "len(eblob1)"
   ]
  },
  {
   "cell_type": "code",
   "execution_count": 97,
   "metadata": {},
   "outputs": [
    {
     "data": {
      "image/png": "[encoded data removed]",
      "text/plain": [
       "<Figure size 540x432 with 2 Axes>"
      ]
     },
     "metadata": {
      "needs_background": "light"
     },
     "output_type": "display_data"
    }
   ],
   "source": [
    "fig = plt.figure(1);\n",
    "fig.set_figwidth(7.5);\n",
    "fig.set_figheight(6.);\n",
    "\n",
    "plt.rcParams.update({'font.size': 16})\n",
    "\n",
    "weights = myhf.get_weights(eblob1, True)\n",
    "\n",
    "bins_blobs = 30\n",
    "range_blobs = 1500\n",
    "_, _, _, _ = plt.hist2d(eblob1*1000, eblob2*1000, weights=weights, bins=bins_blobs, \\\n",
    "                        range=((0, range_blobs), (0, range_blobs)), cmin=0.0000001)\n",
    "plt.xlabel(\"Blob candidate 1 energy (keV)\")\n",
    "plt.ylabel(\"Blob candidate 2 energy (keV)\")\n",
    "plt.title('Single electron')\n",
    "#plt.clim(0.0000001, 0.028)\n",
    "plt.colorbar(label='Proportion of entries');"
   ]
  },
  {
   "cell_type": "code",
   "execution_count": 98,
   "metadata": {},
   "outputs": [],
   "source": [
    "fig.savefig('elec.blobs.pdf')"
   ]
  },
  {
   "cell_type": "code",
   "execution_count": 95,
   "metadata": {},
   "outputs": [
    {
     "data": {
      "image/png": "[encoded data removed]",
      "text/plain": [
       "<Figure size 720x540 with 1 Axes>"
      ]
     },
     "metadata": {
      "needs_background": "light"
     },
     "output_type": "display_data"
    }
   ],
   "source": [
    "fig = plt.figure(1)\n",
    "h1 = plt.hist(eblob1*1000, bins=bins_blobs, range=(0, range_blobs), color=pink, linewidth=3, histtype='step', \\\n",
    "                 stacked=True, fill=False, label='Blob1');\n",
    "h2 = plt.hist(eblob2*1000, bins=bins_blobs, range=(0, range_blobs), color=blue, linewidth=3, histtype='step', \\\n",
    "                 stacked=True, fill=False, label='Blob2');\n",
    "plt.xlabel(\"Blob candidate energy (keV)\")\n",
    "plt.ylabel(\"Entries / bin\");\n",
    "plt.legend(loc=1);"
   ]
  },
  {
   "cell_type": "code",
   "execution_count": 85,
   "metadata": {},
   "outputs": [],
   "source": [
    "fig.savefig('elec.blobs1dim.pdf')"
   ]
  },
  {
   "cell_type": "code",
   "execution_count": 38,
   "metadata": {},
   "outputs": [
    {
     "data": {
      "image/png": "[encoded data removed]",
      "text/plain": [
       "<Figure size 720x540 with 1 Axes>"
      ]
     },
     "metadata": {
      "needs_background": "light"
     },
     "output_type": "display_data"
    }
   ],
   "source": [
    "h1 = plt.hist(length, bins=50, linewidth=3, histtype='step', \\\n",
    "                 stacked=True, fill=False);\n",
    "plt.xlabel(\"Length (mm)\")\n",
    "plt.ylabel(\"Entries / bin\");"
   ]
  },
  {
   "cell_type": "code",
   "execution_count": 39,
   "metadata": {},
   "outputs": [
    {
     "data": {
      "image/png": "[encoded data removed]",
      "text/plain": [
       "<Figure size 720x540 with 1 Axes>"
      ]
     },
     "metadata": {
      "needs_background": "light"
     },
     "output_type": "display_data"
    }
   ],
   "source": [
    "h1 = plt.hist(n_voxels, bins=50,linewidth=3, histtype='step', \\\n",
    "                 stacked=True, fill=False);\n",
    "plt.xlabel(\"Number of voxels\")\n",
    "plt.ylabel(\"Entries / bin\");"
   ]
  },
  {
   "cell_type": "code",
   "execution_count": 96,
   "metadata": {},
   "outputs": [],
   "source": [
    "bckg = []\n",
    "bckg_err = []\n",
    "\n",
    "before = len(sel_sample)\n",
    "for thr in range(0, 600, 5):\n",
    "    after = len(sel_sample[sel_sample.eblob2*1000 > thr])\n",
    "    b = after/before\n",
    "    err_b = np.sqrt((1-b)/before)\n",
    "    bckg.append(1-b)\n",
    "    bckg_err.append(err_b)\n",
    "    \n",
    "bckg_rej = np.array(bckg)\n",
    "err_bckg = np.array(bckg_err)     \n",
    "\n",
    "npz_file = f'/home/paolafer/bckg_beersheba_skel_R{radius}mm_main_track_roi_conf1'\n",
    "np.savez(npz_file, eblob1=eblob1, eblob2=eblob2, bckg_rej=bckg_rej, err_bckg=err_bckg)"
   ]
  },
  {
   "cell_type": "code",
   "execution_count": 41,
   "metadata": {
    "collapsed": true
   },
   "outputs": [
    {
     "data": {
      "text/plain": [
       "0       3\n",
       "0       5\n",
       "0       6\n",
       "0      10\n",
       "0      11\n",
       "0      15\n",
       "0      17\n",
       "0      20\n",
       "0      21\n",
       "0      23\n",
       "0      24\n",
       "0      28\n",
       "0      29\n",
       "0      30\n",
       "0      31\n",
       "0      36\n",
       "0      39\n",
       "0      41\n",
       "0      44\n",
       "0      46\n",
       "0      47\n",
       "0      48\n",
       "0      49\n",
       "0      50\n",
       "0      52\n",
       "0      54\n",
       "0      55\n",
       "0      56\n",
       "0      58\n",
       "0      59\n",
       "     ... \n",
       "0    9940\n",
       "0    9946\n",
       "0    9949\n",
       "0    9950\n",
       "0    9951\n",
       "0    9953\n",
       "0    9955\n",
       "0    9958\n",
       "0    9959\n",
       "0    9963\n",
       "0    9966\n",
       "0    9967\n",
       "0    9969\n",
       "0    9970\n",
       "0    9972\n",
       "0    9974\n",
       "0    9975\n",
       "0    9977\n",
       "0    9978\n",
       "0    9980\n",
       "0    9984\n",
       "0    9986\n",
       "0    9987\n",
       "0    9988\n",
       "0    9989\n",
       "0    9991\n",
       "0    9993\n",
       "0    9995\n",
       "0    9996\n",
       "0    9997\n",
       "Name: event, Length: 5086, dtype: int64"
      ]
     },
     "execution_count": 41,
     "metadata": {},
     "output_type": "execute_result"
    }
   ],
   "source": [
    "sel_sample.event"
   ]
  },
  {
   "cell_type": "markdown",
   "metadata": {},
   "source": [
    "## Use true end-points of tracks"
   ]
  },
  {
   "cell_type": "code",
   "execution_count": 42,
   "metadata": {},
   "outputs": [],
   "source": [
    "folder_name = '/data_extra2/paolafer/SimMC/next100/hits/'\n",
    "\n",
    "ehitsblob1, ehitsblob2 = [], []\n",
    "diff1_x, diff1_y, diff1_z = [], [], []\n",
    "diff2_x, diff2_y, diff2_z = [], [], []\n",
    "reco1_x, reco1_y, reco1_z = [], [], []\n",
    "reco2_x, reco2_y, reco2_z = [], [], []\n",
    "true1_x, true1_y, true1_z = [], [], []\n",
    "true2_x, true2_y, true2_z = [], [], []\n",
    "reco_blob1, reco_blob2 = [], []\n",
    "\n",
    "nfiles = 1000\n",
    "start  = 1\n",
    "bunch  = 20\n",
    "\n",
    "sel_events = sel_sample.event.unique()\n",
    "common_events = []\n",
    "\n",
    "for i in range(start, int(nfiles/bunch)):\n",
    "\n",
    "    hit_list, part_list = [], []\n",
    "    for file in range(1 + (i-1)*bunch, 1 + i*bunch):\n",
    "        filename = folder_name + f'next100.e-_roi.{file}.deconv.h5'\n",
    "        try:\n",
    "            df_h = pd.read_hdf(filename, 'DECO/Events')\n",
    "            df_p = pd.read_hdf(filename, 'MC/particles')\n",
    "        except:\n",
    "            print('File {} not good'.format(filename))\n",
    "            continue\n",
    "        hit_list.append(df_h)\n",
    "        part_list.append(df_p)\n",
    "        \n",
    "    hits  = pd.concat([dh for dh in hit_list])\n",
    "    parts = pd.concat([dp for dp in part_list]) \n",
    "\n",
    "    for evt in parts.event_id.unique(): \n",
    "        \n",
    "        if evt not in sel_events:\n",
    "            continue\n",
    "            \n",
    "        common_events.append(evt)\n",
    "\n",
    "        the_part = parts[parts.event_id == evt]\n",
    "        the_hits = hits[hits.event == evt]\n",
    "        reco     = sel_sample[sel_sample.event == evt]\n",
    "    \n",
    "        primary = the_part[the_part.primary == True]\n",
    "    \n",
    "        extreme1 = np.array([primary.final_x.values, primary.final_y.values, primary.final_z.values])\n",
    "        extreme2 = np.array([primary.initial_x.values, primary.initial_y.values, primary.initial_z.values])       \n",
    "        \n",
    "        hit_pos = np.array([the_hits.X.values, the_hits.Y.values, the_hits.Z.values]).transpose()\n",
    "        hit_e   = the_hits.E\n",
    "    \n",
    "        dist1 = scidist.cdist(extreme1.transpose(), hit_pos)\n",
    "        dist2 = scidist.cdist(extreme2.transpose(), hit_pos)\n",
    "        \n",
    "        in_blob1 = dist1 < radius\n",
    "        in_blob2 = dist2 < radius\n",
    "        \n",
    "        true_blob1 = hit_e[in_blob1[0]].sum()\n",
    "        true_blob2 = hit_e[in_blob2[0]].sum()\n",
    "                    \n",
    "       # if true_blob1 < true_blob2:\n",
    "       #     eblob1 = true_blob2\n",
    "       #     eblob2 = true_blob1\n",
    "      #  else:\n",
    "      #      eblob1 = true_blob1\n",
    "      #      eblob2 = true_blob2\n",
    "        \n",
    "        ehitsblob1.append(true_blob1)\n",
    "        ehitsblob2.append(true_blob2)\n",
    "        \n",
    "        reco_blob1.append(reco.eblob1)\n",
    "        reco_blob2.append(reco.eblob2)\n",
    "        \n",
    "        diff1_x.append(reco.blob1_x.values[0] - extreme1.transpose()[0][0])\n",
    "        diff1_y.append(reco.blob1_y.values[0] - extreme1.transpose()[0][1])\n",
    "        diff1_z.append(reco.blob1_z.values[0] - extreme1.transpose()[0][2])\n",
    "    \n",
    "        diff2_x.append(reco.blob2_x.values[0] - extreme2.transpose()[0][0])\n",
    "        diff2_y.append(reco.blob2_y.values[0] - extreme2.transpose()[0][1])\n",
    "        diff2_z.append(reco.blob2_z.values[0] - extreme2.transpose()[0][2])\n",
    "        \n",
    "        reco1_x.append(reco.blob1_x.values[0])\n",
    "        reco1_y.append(reco.blob1_y.values[0])\n",
    "        reco1_z.append(reco.blob1_z.values[0])\n",
    "        reco2_x.append(reco.blob2_x.values[0])\n",
    "        reco2_y.append(reco.blob2_y.values[0])\n",
    "        reco2_z.append(reco.blob2_z.values[0])\n",
    "        \n",
    "        true1_x.append(extreme1.transpose()[0][0])\n",
    "        true1_y.append(extreme1.transpose()[0][1])\n",
    "        true1_z.append(extreme1.transpose()[0][2])\n",
    "        true2_x.append(extreme2.transpose()[0][0])\n",
    "        true2_y.append(extreme2.transpose()[0][1])\n",
    "        true2_z.append(extreme2.transpose()[0][2])\n",
    "        \n",
    "        \n",
    "ehitsblob1 = np.array(ehitsblob1)*1000\n",
    "ehitsblob2 = np.array(ehitsblob2)*1000\n",
    "\n",
    "reco_blob1 = np.array(reco_blob1)*1000\n",
    "reco_blob2 = np.array(reco_blob2)*1000\n",
    "\n",
    "diff1_x = np.array(diff1_x)\n",
    "diff2_x = np.array(diff2_x)\n",
    "diff1_y = np.array(diff1_y)\n",
    "diff2_y = np.array(diff2_y)\n",
    "\n",
    "reco1_x = np.array(reco1_x)\n",
    "reco2_x = np.array(reco2_x)\n",
    "reco1_y = np.array(reco1_y)\n",
    "reco2_y = np.array(reco2_y)\n",
    "\n",
    "true1_x = np.array(true1_x)\n",
    "true2_x = np.array(true2_x)\n",
    "true1_y = np.array(true1_y)\n",
    "true2_y = np.array(true2_y)\n",
    "\n",
    "common_events = np.array(common_events)"
   ]
  },
  {
   "cell_type": "code",
   "execution_count": 260,
   "metadata": {},
   "outputs": [
    {
     "data": {
      "text/plain": [
       "0    0.391696\n",
       "Name: eblob1, dtype: float64"
      ]
     },
     "execution_count": 260,
     "metadata": {},
     "output_type": "execute_result"
    }
   ],
   "source": [
    "reco.eblob1"
   ]
  },
  {
   "cell_type": "code",
   "execution_count": 43,
   "metadata": {},
   "outputs": [
    {
     "data": {
      "image/png": "[encoded data removed]",
      "text/plain": [
       "<Figure size 540x432 with 2 Axes>"
      ]
     },
     "metadata": {
      "needs_background": "light"
     },
     "output_type": "display_data"
    }
   ],
   "source": [
    "fig = plt.figure(1);\n",
    "fig.set_figwidth(7.5);\n",
    "fig.set_figheight(6.);\n",
    "\n",
    "plt.rcParams.update({'font.size': 16})\n",
    "\n",
    "weights = myhf.get_weights(ehitsblob1, True)\n",
    "#print(len(weights))\n",
    "\n",
    "bins_blobs = 30\n",
    "range_blobs = 1800\n",
    "_, _, _, _ = plt.hist2d(ehitsblob1, ehitsblob2, weights=weights, bins=bins_blobs, \\\n",
    "                        range=((0, range_blobs), (0, range_blobs)), cmin=0.001)\n",
    "plt.xlabel(\"Blob candidate 1 energy (keV)\")\n",
    "plt.ylabel(\"Blob candidate 2 energy (keV)\")\n",
    "#plt.title('')\n",
    "#plt.clim(0.0000001, 0.028)\n",
    "plt.colorbar(label='Proportion of entries');"
   ]
  },
  {
   "cell_type": "code",
   "execution_count": 44,
   "metadata": {},
   "outputs": [
    {
     "data": {
      "image/png": "[encoded data removed]",
      "text/plain": [
       "<Figure size 720x540 with 1 Axes>"
      ]
     },
     "metadata": {
      "needs_background": "light"
     },
     "output_type": "display_data"
    }
   ],
   "source": [
    "h1 = plt.hist(ehitsblob1, bins=bins_blobs, range=(0, range_blobs), weights=weights, color=pink, linewidth=3, histtype='step', \\\n",
    "                 stacked=True, fill=False, label='Blob1');\n",
    "h2 = plt.hist(ehitsblob2, bins=bins_blobs, range=(0, range_blobs), weights=weights, color=blue, linewidth=3, histtype='step', \\\n",
    "                 stacked=True, fill=False, label='Blob2');\n",
    "plt.xlabel(\"Blob candidate energy (keV)\")\n",
    "plt.ylabel('Fraction of entries / bin')\n",
    "plt.legend(loc=1);"
   ]
  },
  {
   "cell_type": "code",
   "execution_count": 45,
   "metadata": {},
   "outputs": [
    {
     "name": "stdout",
     "output_type": "stream",
     "text": [
      "Mean blob1 = 964.2120760952308 keV, mean blob2 = 220.78825304016652 keV\n"
     ]
    }
   ],
   "source": [
    "print(f'Mean blob1 = {ehitsblob1.mean()} keV, mean blob2 = {ehitsblob2.mean()} keV')"
   ]
  },
  {
   "cell_type": "code",
   "execution_count": 59,
   "metadata": {},
   "outputs": [],
   "source": [
    "bckg = []\n",
    "bckg_err = []\n",
    "\n",
    "before = len(ehitsblob2)\n",
    "for thr in range(0, 1000, 5):\n",
    "    after = len(ehitsblob2[ehitsblob2 > thr])\n",
    "    b = after/before\n",
    "    err_b = np.sqrt((1-b)/before)\n",
    "    bckg.append(1-b)\n",
    "    bckg_err.append(err_b)\n",
    "    \n",
    "bckg_rej = np.array(bckg)\n",
    "err_bckg = np.array(bckg_err)     \n",
    "\n",
    "npz_file = f'/home/paolafer/bckg_beersheba_skel_R{radius}mm_main_track_true_extr_conf1'\n",
    "np.savez(npz_file, eblob1=ehitsblob1, eblob2=ehitsblob2, bckg_rej=bckg_rej, err_bckg=err_bckg)"
   ]
  },
  {
   "cell_type": "code",
   "execution_count": 47,
   "metadata": {},
   "outputs": [
    {
     "data": {
      "image/png": "[encoded data removed]",
      "text/plain": [
       "<Figure size 720x540 with 1 Axes>"
      ]
     },
     "metadata": {
      "needs_background": "light"
     },
     "output_type": "display_data"
    }
   ],
   "source": [
    "therange = (-100, 100)\n",
    "h1 = plt.hist(diff1_x, bins=50, color=pink, range=therange, linewidth=3, histtype='step', \\\n",
    "                 stacked=True, fill=False, label='x1');\n",
    "h2 = plt.hist(diff1_y, bins=50, color=blue, range=therange, linewidth=3, histtype='step', \\\n",
    "                 stacked=True, fill=False, label='y1');\n",
    "h3 = plt.hist(diff1_z, bins=50, color=green, range=therange, linewidth=3, histtype='step', \\\n",
    "                 stacked=True, fill=False, label='z1');\n",
    "plt.xlabel(\"blob1 reco - true (mm)\")\n",
    "plt.ylabel('Entries / bin')\n",
    "plt.legend(loc=1);"
   ]
  },
  {
   "cell_type": "code",
   "execution_count": 48,
   "metadata": {
    "scrolled": false
   },
   "outputs": [
    {
     "data": {
      "image/png": "[encoded data removed]",
      "text/plain": [
       "<Figure size 720x540 with 1 Axes>"
      ]
     },
     "metadata": {
      "needs_background": "light"
     },
     "output_type": "display_data"
    }
   ],
   "source": [
    "therange = (-100, 100)\n",
    "h1 = plt.hist(diff2_x, bins=50, color=pink, range=therange, linewidth=3, histtype='step', \\\n",
    "                 stacked=True, fill=False, label='x1');\n",
    "h2 = plt.hist(diff2_y, bins=50, color=blue, range=therange, linewidth=3, histtype='step', \\\n",
    "                 stacked=True, fill=False, label='y1');\n",
    "h3 = plt.hist(diff2_z, bins=50, color=green, range=therange, linewidth=3, histtype='step', \\\n",
    "                 stacked=True, fill=False, label='z1');\n",
    "plt.xlabel(\"blob2 reco - true (mm)\")\n",
    "plt.ylabel('Entries / bin')\n",
    "plt.legend(loc=1);"
   ]
  },
  {
   "cell_type": "code",
   "execution_count": 49,
   "metadata": {},
   "outputs": [
    {
     "data": {
      "image/png": "[encoded data removed]",
      "text/plain": [
       "<Figure size 720x540 with 1 Axes>"
      ]
     },
     "metadata": {
      "needs_background": "light"
     },
     "output_type": "display_data"
    }
   ],
   "source": [
    "therange = (-100, 100)\n",
    "h1 = plt.hist(diff1_x, bins=50, range=therange, color=fucsia, linewidth=3, histtype='step', \\\n",
    "                 stacked=True, fill=False, label='x blob1');\n",
    "h1 = plt.hist(diff2_x, bins=50, range=therange, color=green, linewidth=3, histtype='step', \\\n",
    "                 stacked=True, fill=False, label='x blob2');\n",
    "plt.xlabel(\"reco - true (mm)\")\n",
    "plt.ylabel('Entries / bin')\n",
    "plt.legend(loc=1);"
   ]
  },
  {
   "cell_type": "code",
   "execution_count": 50,
   "metadata": {},
   "outputs": [
    {
     "data": {
      "image/png": "[encoded data removed]",
      "text/plain": [
       "<Figure size 720x540 with 1 Axes>"
      ]
     },
     "metadata": {
      "needs_background": "light"
     },
     "output_type": "display_data"
    }
   ],
   "source": [
    "rng = 100 \n",
    "h1 = plt.hist(diff1_y, bins=50, range=(-rng, rng), color=fucsia, linewidth=3, histtype='step', \\\n",
    "                 stacked=True, fill=False, label='y blob1');\n",
    "h2 = plt.hist(diff2_y, bins=50, range=(-rng, rng), color=green, linewidth=3, histtype='step', \\\n",
    "                 stacked=True, fill=False, label='y blob2');\n",
    "plt.xlabel(\"reco - true (mm)\")\n",
    "plt.ylabel('Entries / bin')\n",
    "plt.legend(loc=1);"
   ]
  },
  {
   "cell_type": "code",
   "execution_count": 51,
   "metadata": {
    "scrolled": false
   },
   "outputs": [
    {
     "data": {
      "image/png": "[encoded data removed]",
      "text/plain": [
       "<Figure size 720x540 with 1 Axes>"
      ]
     },
     "metadata": {
      "needs_background": "light"
     },
     "output_type": "display_data"
    }
   ],
   "source": [
    "rng = 100 \n",
    "\n",
    "h1 = plt.hist(diff1_z, bins=50, range=(-rng, rng), color=fucsia, linewidth=3, histtype='step', \\\n",
    "                 stacked=True, fill=False, label='z blob1');\n",
    "h2 = plt.hist(diff2_z, bins=50, range=(-rng, rng), color=green, linewidth=3, histtype='step', \\\n",
    "                 stacked=True, fill=False, label='z blob2');\n",
    "plt.xlabel(\"reco - true (mm)\")\n",
    "plt.ylabel('Entries / bin')\n",
    "plt.legend(loc=1);"
   ]
  },
  {
   "cell_type": "code",
   "execution_count": 72,
   "metadata": {},
   "outputs": [
    {
     "data": {
      "image/png": "[encoded data removed]",
      "text/plain": [
       "<Figure size 720x540 with 1 Axes>"
      ]
     },
     "metadata": {
      "needs_background": "light"
     },
     "output_type": "display_data"
    }
   ],
   "source": [
    "fig = plt.figure(1)\n",
    "therange = (-100, 100)\n",
    "h1 = plt.hist(diff1_x, bins=50, range=therange, color=fucsia, linewidth=3, histtype='step', \\\n",
    "                 stacked=True, fill=False, label='x blob1');\n",
    "h1 = plt.hist(diff1_y, bins=50, range=therange, color=blue, linewidth=3, histtype='step', \\\n",
    "                 stacked=True, fill=False, label='y blob1', linestyle='dashed');\n",
    "plt.xlabel(\"reco - true (mm)\")\n",
    "plt.ylabel('Entries / bin')\n",
    "plt.legend(loc=1);\n",
    "fig.savefig('blob1_diff.pdf')"
   ]
  },
  {
   "cell_type": "code",
   "execution_count": 69,
   "metadata": {},
   "outputs": [],
   "source": []
  },
  {
   "cell_type": "code",
   "execution_count": 71,
   "metadata": {},
   "outputs": [
    {
     "data": {
      "image/png": "[encoded data removed]",
      "text/plain": [
       "<Figure size 720x540 with 1 Axes>"
      ]
     },
     "metadata": {
      "needs_background": "light"
     },
     "output_type": "display_data"
    }
   ],
   "source": [
    "fig = plt.figure(1)\n",
    "therange = (-100, 100)\n",
    "h1 = plt.hist(diff2_x, bins=50, range=therange, color=fucsia, linewidth=3, histtype='step', \\\n",
    "                 stacked=True, fill=False, label='x blob2');\n",
    "h1 = plt.hist(diff2_y, bins=50, range=therange, color=blue, linewidth=3, histtype='step', \\\n",
    "                 stacked=True, fill=False, label='y blob2', linestyle='dashed');\n",
    "plt.xlabel(\"reco - true (mm)\")\n",
    "plt.ylabel('Entries / bin')\n",
    "plt.legend(loc=1);\n",
    "\n",
    "fig.savefig('blob2_diff.pdf')"
   ]
  },
  {
   "cell_type": "code",
   "execution_count": 54,
   "metadata": {},
   "outputs": [
    {
     "name": "stdout",
     "output_type": "stream",
     "text": [
      "[ 2.27679676e+04 -1.13168791e+00  1.19583503e+01]\n",
      "Chi2 = 1.9315311525302175\n",
      "Mean = -1.1316879060826255 pes\n",
      "sigma = 11.958350347870347 pes\n"
     ]
    },
    {
     "data": {
      "image/png": "[encoded data removed]",
      "text/plain": [
       "<Figure size 720x540 with 1 Axes>"
      ]
     },
     "metadata": {
      "needs_background": "light"
     },
     "output_type": "display_data"
    }
   ],
   "source": [
    "therange = (-100, 100)\n",
    "y, x, _ =  plt.hist(diff1_x, bins=40, range=therange, color=fucsia, linewidth=3, histtype='step', \\\n",
    "                     stacked=True, fill=False, label='x blob1')\n",
    "x = shift_to_bin_centers(x)\n",
    "\n",
    "\n",
    "fit = True\n",
    "\n",
    "if fit:\n",
    "    seed  = 1000, 0, 10\n",
    "    sigma = poisson_sigma(y)\n",
    "    f     = fitf.fit(myhf.gauss, x, y, seed, fit_range=(-25, 25), sigma=sigma)\n",
    "    print(f.values)\n",
    "    #print(f.errors)\n",
    "    print(f'Chi2 = {f.chi2}')\n",
    "    print(f'Mean = {f.values[1]} pes')\n",
    "    print(f'sigma = {f.values[2]} pes')\n",
    "\n",
    "    xmin = min(x)\n",
    "    xmax = max(x)\n",
    "    mx = np.linspace(xmin, xmax, 1000)\n",
    "    plt.plot(mx, f.fn(mx), 'r')\n",
    "    plt.plot(mx, myhf.gauss(mx, f.values[0], f.values[1], f.values[2]), 'g-')\n",
    "\n",
    "    plt.title('')\n",
    "    plt.xlabel('Reco - true (mm)')\n",
    "    plt.ylabel('Entries / bin')\n",
    "    "
   ]
  },
  {
   "cell_type": "code",
   "execution_count": 55,
   "metadata": {},
   "outputs": [
    {
     "data": {
      "image/png": "[encoded data removed]",
      "text/plain": [
       "<Figure size 720x540 with 1 Axes>"
      ]
     },
     "metadata": {
      "needs_background": "light"
     },
     "output_type": "display_data"
    }
   ],
   "source": [
    "rng = 50 \n",
    "plt.hist2d(diff1_x, diff1_y, bins=50, range=((-rng, rng), (-rng, rng)), cmin=0.001);\n",
    "plt.xlabel(\"Diff x blob1 (mm)\")\n",
    "plt.ylabel(\"Diff y blob1 (mm)\");"
   ]
  },
  {
   "cell_type": "code",
   "execution_count": 56,
   "metadata": {},
   "outputs": [
    {
     "data": {
      "image/png": "[encoded data removed]",
      "text/plain": [
       "<Figure size 720x540 with 1 Axes>"
      ]
     },
     "metadata": {
      "needs_background": "light"
     },
     "output_type": "display_data"
    }
   ],
   "source": [
    "rng = 50 \n",
    "plt.hist2d(diff2_x, diff2_y, bins=50, range=((-rng, rng), (-rng, rng)), cmin=0.001);\n",
    "plt.xlabel(\"Diff x blob2 (mm)\")\n",
    "plt.ylabel(\"Diff y blob2 (mm)\");"
   ]
  },
  {
   "cell_type": "code",
   "execution_count": 57,
   "metadata": {},
   "outputs": [
    {
     "data": {
      "image/png": "[encoded data removed]",
      "text/plain": [
       "<Figure size 720x540 with 1 Axes>"
      ]
     },
     "metadata": {
      "needs_background": "light"
     },
     "output_type": "display_data"
    }
   ],
   "source": [
    "rng = 50 \n",
    "plt.hist2d(diff1_x, diff2_x, bins=50, range=((-rng, rng), (-rng, rng)), cmin=0.001);\n",
    "plt.xlabel(\"Diff x blob1 (mm)\")\n",
    "plt.ylabel(\"Diff x blob2 (mm)\");"
   ]
  },
  {
   "cell_type": "code",
   "execution_count": 58,
   "metadata": {},
   "outputs": [
    {
     "data": {
      "image/png": "[encoded data removed]",
      "text/plain": [
       "<Figure size 720x540 with 1 Axes>"
      ]
     },
     "metadata": {
      "needs_background": "light"
     },
     "output_type": "display_data"
    }
   ],
   "source": [
    "rng = 50 \n",
    "plt.hist2d(diff1_y, diff2_y, bins=50, range=((-rng, rng), (-rng, rng)), cmin=0.001);\n",
    "plt.xlabel(\"Diff y blob1 (mm)\")\n",
    "plt.ylabel(\"Diff y blob2 (mm)\");"
   ]
  },
  {
   "cell_type": "markdown",
   "metadata": {},
   "source": [
    "### Checks"
   ]
  },
  {
   "cell_type": "code",
   "execution_count": 52,
   "metadata": {},
   "outputs": [
    {
     "name": "stdout",
     "output_type": "stream",
     "text": [
      "[100 101 103 104 105 106 107 108 109]\n",
      "[120 121 123 124 125 126 127 128 129]\n",
      "[130 131 132 133 134 135 136 138 139]\n",
      "[150 151 152 153 154 155 156 157 159]\n",
      "[161 162 163 164 165 166 168 169]\n",
      "[190 191 192 193 194 195 196 197 198]\n",
      "[351 352 353 354 355 356 357 358]\n",
      "[370 371 372 373 375 376 377 378 379]\n",
      "[401 402 403 404 405 406 407 408 409]\n",
      "[490 491 492 493 494 495 496 497 498]\n",
      "[560 561 562 563 564 565 566 567 568]\n",
      "[590 591 592 593 594 595 596 597 598]\n",
      "[620 621 622 623 624 625 626 627 628]\n",
      "[630 631 632 633 634 635 636 637 639]\n",
      "[670 672 673 674 675 676 677 678 679]\n",
      "[730 731 732 733 734 735 737 738 739]\n",
      "[910 911 913 914 915 916 917 918 919]\n",
      "[970 971 972 973 974 975 976 977 978]\n",
      "[1000 1001 1002 1003 1005 1006 1007 1008 1009]\n",
      "[1020 1021 1022 1023 1025 1026 1027 1028 1029]\n",
      "[1060 1061 1062 1063 1064 1065 1066 1068 1069]\n",
      "[1130 1131 1132 1133 1134 1135 1136 1138 1139]\n",
      "[1170 1171 1172 1173 1174 1175 1176 1177 1179]\n",
      "[1261 1262 1263 1264 1265 1266 1267 1268 1269]\n",
      "[1290 1291 1292 1293 1294 1295 1296 1298 1299]\n",
      "[1301 1302 1303 1304 1305 1306 1307 1308 1309]\n",
      "[1330 1331 1332 1333 1334 1336 1337 1338 1339]\n",
      "[1350 1351 1352 1353 1354 1355 1356 1357 1358]\n",
      "[1420 1421 1422 1423 1424 1425 1426 1427 1428]\n",
      "[1460 1461 1462 1463 1464 1466 1467 1468 1469]\n",
      "[1470 1471 1472 1473 1474 1475 1477 1478 1479]\n",
      "[1501 1502 1503 1504 1505 1506 1507 1508 1509]\n",
      "[1520 1522 1523 1524 1525 1526 1527 1528 1529]\n",
      "[1590 1591 1592 1593 1594 1595 1596 1597 1598]\n",
      "[1620 1621 1622 1624 1625 1626 1627 1628 1629]\n",
      "[1730 1731 1732 1733 1734 1736 1737 1738 1739]\n",
      "[1750 1751 1752 1754 1755 1756 1757 1758 1759]\n",
      "[1781 1782 1783 1784 1785 1786 1787 1788 1789]\n",
      "[1800 1801 1802 1803 1804 1805 1806 1808 1809]\n",
      "[1901 1902 1903 1904 1905 1906 1907 1908 1909]\n",
      "[1910 1911 1912 1914 1915 1916 1917 1918 1919]\n",
      "[2080 2081 2082 2084 2085 2086 2087 2088 2089]\n",
      "[2120 2121 2122 2124 2125 2126 2127 2128 2129]\n",
      "[2130 2132 2133 2134 2135 2136 2137 2138 2139]\n",
      "[2140 2141 2142 2143 2144 2145 2146 2148 2149]\n",
      "[2200 2201 2202 2203 2204 2205 2206 2207 2208]\n",
      "[2260 2262 2263 2264 2265 2266 2267 2268 2269]\n",
      "[2311 2312 2313 2314 2315 2316 2317 2318 2319]\n",
      "[2341 2342 2343 2344 2345 2346 2347 2348 2349]\n",
      "[2350 2351 2352 2353 2354 2355 2357 2358 2359]\n",
      "[2400 2401 2402 2403 2404 2405 2406 2407 2408]\n",
      "[2411 2412 2413 2414 2415 2416 2417 2418 2419]\n",
      "[2420 2421 2422 2423 2424 2425 2426 2427 2428]\n",
      "[2450 2451 2452 2453 2454 2455 2456 2457 2458]\n",
      "[2470 2471 2472 2473 2474 2475 2476 2477 2479]\n",
      "[2620 2621 2622 2623 2624 2626 2627 2628 2629]\n",
      "[2660 2661 2662 2663 2664 2665 2666 2667 2668]\n",
      "[2670 2672 2673 2674 2675 2676 2677 2678 2679]\n",
      "[2710 2711 2712 2713 2714 2715 2716 2717 2718]\n",
      "[2840 2841 2842 2843 2844 2845 2846 2847 2848]\n",
      "[2930 2931 2932 2933 2935 2936 2937 2938 2939]\n",
      "[3010 3011 3012 3013 3014 3015 3016 3018 3019]\n",
      "[3020 3021 3022 3023 3024 3025 3027 3028 3029]\n",
      "[3041 3042 3043 3044 3045 3046 3047 3048 3049]\n",
      "[3190 3191 3192 3193 3194 3195 3196 3197 3198]\n",
      "[3251 3252 3253 3254 3255 3256 3257 3258 3259]\n",
      "[3280 3282 3283 3284 3285 3286 3287 3288 3289]\n",
      "[3330 3331 3332 3333 3334 3335 3336 3337 3338]\n",
      "[3360 3361 3362 3363 3364 3365 3367 3368]\n",
      "[3370 3371 3372 3374 3375 3376 3377 3378 3379]\n",
      "[3400 3401 3402 3403 3404 3406 3407 3408 3409]\n",
      "[3410 3412 3413 3414 3415 3416 3417 3418 3419]\n",
      "[3490 3491 3493 3494 3495 3496 3497 3498 3499]\n",
      "[3500 3501 3502 3503 3504 3505 3507 3508 3509]\n",
      "[3600 3601 3602 3603 3604 3605 3606 3607 3608]\n",
      "[3610 3611 3612 3613 3614 3615 3616 3618 3619]\n",
      "[3660 3661 3662 3663 3664 3665 3666 3668 3669]\n",
      "[3690 3692 3693 3694 3695 3696 3697 3698 3699]\n",
      "[3820 3821 3822 3824 3825 3826 3827 3828 3829]\n",
      "[3840 3841 3842 3843 3844 3846 3847 3848 3849]\n",
      "[3950 3951 3952 3953 3954 3956 3957 3958 3959]\n",
      "[3970 3971 3972 3973 3974 3975 3976 3978 3979]\n",
      "[4000 4001 4002 4003 4004 4006 4007 4008 4009]\n",
      "[4070 4071 4072 4073 4074 4075 4076 4077 4078]\n",
      "[4150 4151 4152 4153 4154 4155 4157 4158 4159]\n",
      "[4180 4181 4182 4183 4184 4185 4187 4188 4189]\n",
      "[4311 4312 4313 4314 4315 4316 4317 4318 4319]\n",
      "[4351 4352 4353 4354 4355 4356 4357 4358 4359]\n",
      "[4371 4372 4373 4374 4375 4376 4377 4378 4379]\n",
      "[4410 4411 4412 4413 4414 4415 4416 4417 4418]\n",
      "[4420 4421 4422 4423 4424 4425 4426 4427 4428]\n",
      "[4431 4432 4433 4434 4435 4436 4437 4438 4439]\n",
      "[4520 4521 4522 4523 4524 4526 4527 4528 4529]\n",
      "[4550 4551 4552 4553 4554 4555 4556 4557 4559]\n",
      "[4610 4611 4612 4613 4614 4615 4617 4618 4619]\n",
      "[4630 4632 4633 4634 4635 4636 4637 4638 4639]\n",
      "[4671 4672 4673 4674 4675 4676 4677 4678 4679]\n",
      "[4680 4682 4683 4684 4685 4686 4687 4688 4689]\n",
      "[4700 4701 4702 4703 4704 4705 4706 4708 4709]\n",
      "[4710 4711 4712 4713 4714 4715 4716 4717 4718]\n",
      "[4780 4781 4782 4783 4784 4785 4786 4787 4788]\n",
      "[4790 4791 4792 4793 4794 4795 4796 4797 4798]\n",
      "[4880 4881 4882 4883 4884 4885 4886 4887 4888]\n",
      "[4960 4961 4962 4963 4964 4965 4966 4967 4968]\n",
      "[5030 5031 5032 5033 5034 5035 5036 5037 5039]\n",
      "[5170 5171 5172 5173 5174 5175 5176 5177 5178]\n",
      "[5200 5201 5202 5203 5205 5206 5207 5208 5209]\n",
      "[5330 5332 5333 5334 5335 5336 5337 5338 5339]\n",
      "[5350 5351 5352 5353 5354 5355 5356 5358 5359]\n",
      "[5370 5371 5372 5373 5374 5375 5376 5377 5378]\n",
      "[5380 5381 5382 5383 5384 5386 5387 5388 5389]\n",
      "[5400 5401 5402 5403 5405 5406 5407 5408 5409]\n",
      "[5570 5571 5572 5573 5574 5575 5576 5577 5578]\n",
      "[5591 5592 5593 5594 5595 5596 5597 5598 5599]\n",
      "[5601 5602 5603 5604 5605 5606 5607 5608 5609]\n",
      "[5610 5611 5613 5614 5615 5616 5617 5618 5619]\n",
      "[5630 5631 5633 5634 5635 5636 5637 5638 5639]\n",
      "[5640 5641 5643 5644 5645 5646 5647 5648 5649]\n",
      "[5800 5801 5802 5803 5805 5806 5807 5808 5809]\n",
      "[5810 5811 5812 5813 5814 5815 5816 5818 5819]\n",
      "[5830 5831 5832 5833 5834 5835 5836 5837 5838]\n",
      "[5880 5881 5882 5883 5884 5885 5887 5888 5889]\n",
      "[5890 5891 5892 5893 5894 5896 5897 5898 5899]\n",
      "[5930 5931 5932 5934 5935 5936 5937 5938]\n",
      "[6060 6061 6062 6063 6064 6065 6066 6067 6069]\n",
      "[6120 6121 6122 6123 6125 6126 6127 6128 6129]\n",
      "[6180 6181 6182 6184 6185 6186 6187 6188 6189]\n",
      "[6290 6291 6292 6293 6294 6295 6296 6297 6298]\n",
      "[6350 6351 6352 6353 6354 6356 6357 6358 6359]\n",
      "[6370 6371 6373 6374 6375 6376 6377 6378 6379]\n",
      "[6390 6391 6392 6393 6395 6396 6397 6398 6399]\n",
      "[6480 6481 6482 6483 6484 6486 6487 6488 6489]\n",
      "[6500 6501 6502 6503 6504 6505 6507 6508 6509]\n",
      "[6570 6571 6572 6573 6574 6575 6577 6578 6579]\n",
      "[6630 6631 6632 6633 6634 6635 6637 6638 6639]\n",
      "[6690 6691 6692 6693 6694 6696 6697 6698 6699]\n",
      "[6700 6701 6702 6703 6704 6705 6707 6708 6709]\n",
      "[6710 6711 6712 6713 6714 6716 6717 6718 6719]\n",
      "[6850 6851 6852 6853 6854 6855 6856 6857 6859]\n",
      "[6870 6871 6872 6873 6874 6876 6877 6878 6879]\n",
      "[6881 6882 6883 6884 6885 6886 6887 6888 6889]\n",
      "[6900 6901 6902 6903 6904 6905 6907 6908 6909]\n",
      "[6950 6951 6952 6953 6955 6956 6957 6958 6959]\n",
      "[6990 6991 6992 6993 6994 6995 6996 6997 6998]\n",
      "[7060 7061 7062 7063 7064 7065 7067 7068 7069]\n",
      "[7080 7082 7083 7084 7085 7086 7087 7088]\n",
      "[7160 7161 7163 7164 7165 7166 7168 7169]\n",
      "[7320 7322 7323 7324 7325 7326 7327 7328 7329]\n",
      "[7330 7331 7332 7333 7334 7335 7336 7338 7339]\n",
      "[7480 7481 7482 7483 7484 7485 7486 7487 7488]\n",
      "[7490 7491 7492 7493 7494 7495 7496 7497 7498]\n",
      "[7500 7501 7502 7504 7505 7506 7507 7508 7509]\n",
      "[7530 7531 7532 7533 7534 7536 7537 7538 7539]\n",
      "[7540 7542 7543 7544 7545 7546 7547 7548 7549]\n",
      "[7550 7551 7552 7553 7554 7556 7557 7558 7559]\n",
      "[7570 7571 7572 7573 7574 7575 7577 7578 7579]\n",
      "[7580 7581 7582 7583 7585 7586 7587 7588 7589]\n",
      "[7600 7601 7602 7604 7605 7606 7607 7608 7609]\n",
      "[7740 7741 7742 7743 7744 7745 7746 7747 7748]\n",
      "[7830 7832 7833 7834 7835 7836 7837 7838 7839]\n",
      "[7840 7841 7842 7843 7844 7845 7846 7848 7849]\n",
      "[7850 7851 7852 7853 7854 7855 7857 7858 7859]\n",
      "[7860 7861 7862 7863 7864 7865 7866 7867 7868]\n",
      "[7890 7891 7892 7893 7894 7895 7896 7897 7898]\n",
      "[7920 7921 7922 7924 7925 7926 7927 7928 7929]\n",
      "[7930 7931 7932 7933 7934 7935 7936 7937 7938]\n",
      "[7980 7982 7983 7984 7985 7986 7987 7988 7989]\n",
      "[8070 8071 8072 8074 8075 8076 8077 8078]\n",
      "[8130 8132 8133 8134 8135 8136 8137 8138 8139]\n",
      "[8210 8211 8213 8214 8215 8216 8217 8218 8219]\n",
      "[8220 8221 8222 8223 8224 8225 8226 8228 8229]\n",
      "[8300 8301 8302 8303 8304 8305 8306 8308 8309]\n",
      "[8380 8381 8382 8383 8384 8385 8386 8388 8389]\n",
      "[8561 8562 8563 8564 8565 8566 8567 8568]\n",
      "[8600 8601 8602 8603 8604 8606 8607 8608 8609]\n",
      "[8620 8621 8622 8623 8625 8626 8627 8628 8629]\n",
      "[8630 8631 8632 8633 8634 8635 8636 8637 8638]\n",
      "[8680 8681 8682 8683 8685 8686 8687 8688 8689]\n",
      "[8730 8731 8732 8733 8734 8736 8737 8738 8739]\n"
     ]
    },
    {
     "name": "stdout",
     "output_type": "stream",
     "text": [
      "[8880 8882 8883 8884 8885 8886 8887 8888 8889]\n",
      "[8890 8891 8892 8893 8895 8896 8897 8898 8899]\n",
      "[8920 8921 8922 8923 8924 8926 8927 8928 8929]\n",
      "[8990 8991 8992 8993 8994 8995 8996 8997 8998]\n",
      "[9030 9031 9032 9033 9034 9036 9037 9038 9039]\n",
      "[9040 9041 9043 9044 9045 9046 9047 9048 9049]\n",
      "[9050 9051 9052 9053 9054 9055 9056 9057 9059]\n",
      "[9250 9251 9252 9253 9254 9255 9256 9257 9259]\n",
      "[9290 9291 9292 9294 9295 9296 9297 9298 9299]\n",
      "[9330 9332 9333 9335 9336 9337 9338 9339]\n",
      "[9360 9361 9363 9364 9365 9367 9368 9369]\n",
      "[9400 9401 9402 9403 9404 9405 9406 9407 9408]\n",
      "[9450 9452 9453 9454 9455 9456 9457 9458 9459]\n",
      "[9490 9491 9492 9493 9494 9495 9497 9498 9499]\n",
      "[9500 9501 9502 9503 9504 9505 9506 9507 9508]\n",
      "[9610 9611 9612 9613 9614 9615 9616 9618 9619]\n",
      "[9640 9641 9642 9644 9645 9646 9647 9648 9649]\n",
      "[9770 9771 9772 9774 9775 9776 9777 9778 9779]\n",
      "[9800 9801 9802 9803 9805 9806 9807 9808 9809]\n",
      "[9880 9881 9882 9883 9884 9885 9886 9887 9888]\n",
      "[9890 9891 9892 9893 9894 9896 9897 9898 9899]\n",
      "[9940 9941 9942 9945 9946 9947 9948 9949]\n",
      "[9970 9971 9972 9973 9974 9975 9976 9977 9978]\n"
     ]
    }
   ],
   "source": [
    "## After Beersheba, have we already any events missing?\n",
    "nfiles = 1000\n",
    "start  = 1\n",
    "bunch  = 20\n",
    "\n",
    "reco_dfs = []\n",
    "\n",
    "for i in range(start, start+nfiles):\n",
    "    filename = folder_name + f'next100.e-_roi.{i}.deconv.h5'\n",
    "    try:\n",
    "        df = pd.read_hdf(filename, 'DECO/Events')     \n",
    "    except:\n",
    "        print('File {} not good'.format(filename))\n",
    "        continue\n",
    "    if df.event.nunique() != 10:\n",
    "        print(df.event.unique())\n",
    "    #reco_dfs.append(df)\n",
    "    "
   ]
  },
  {
   "cell_type": "code",
   "execution_count": 48,
   "metadata": {},
   "outputs": [],
   "source": [
    "recos = pd.concat([df for df in reco_dfs])"
   ]
  },
  {
   "cell_type": "code",
   "execution_count": 49,
   "metadata": {},
   "outputs": [
    {
     "data": {
      "text/plain": [
       "9787"
      ]
     },
     "execution_count": 49,
     "metadata": {},
     "output_type": "execute_result"
    }
   ],
   "source": [
    "recos.event.nunique()"
   ]
  },
  {
   "cell_type": "code",
   "execution_count": 51,
   "metadata": {},
   "outputs": [
    {
     "data": {
      "text/plain": [
       "0.9787"
      ]
     },
     "execution_count": 51,
     "metadata": {},
     "output_type": "execute_result"
    }
   ],
   "source": [
    "9787/10000."
   ]
  },
  {
   "cell_type": "markdown",
   "metadata": {},
   "source": [
    "### Use Esmeralda to do basic cuts"
   ]
  },
  {
   "cell_type": "code",
   "execution_count": 199,
   "metadata": {},
   "outputs": [],
   "source": [
    "radius = 21\n",
    "\n",
    "cdst_folder = '/data_extra2/paolafer/SimMC/next100/tracks/esmeralda/'\n",
    "trck_folder = f'/data_extra2/paolafer/SimMC/next100/tracks/R{radius}mm/'\n",
    "\n",
    "tracks_list, cdst_list = [], []\n",
    "\n",
    "start = 1\n",
    "nfiles = 300\n",
    "for file in range(start, start+nfiles):\n",
    "    cdst_filename = cdst_folder + f'next100.e-_roi_10pes.{file}.cdst.h5'\n",
    "    trck_filename = trck_folder + f'next100.e-_roi.{file}.skel_tracks.R{radius}mm.h5'\n",
    "    try:\n",
    "        df_t = pd.read_hdf(trck_filename, 'Tracks')\n",
    "        df_c = pd.read_hdf(cdst_filename, 'Tracking/Tracks')\n",
    "    except:\n",
    "        print('File {} not good'.format(trck_filename))\n",
    "        continue\n",
    "    tracks_list.append(df_t)\n",
    "    cdst_list.append(df_c)\n",
    "    \n",
    "tracks = pd.concat([dt for dt in tracks_list]) \n",
    "cdsts  = pd.concat([dc for dc in cdst_list]) "
   ]
  },
  {
   "cell_type": "code",
   "execution_count": 200,
   "metadata": {},
   "outputs": [],
   "source": [
    "cdsts.loc[:, 'evt_energy'] = cdsts.groupby('event')['energy'].transform('sum')\n",
    "cdsts.loc[:, 'e_max']      = cdsts.groupby('event')['energy'].transform('max')"
   ]
  },
  {
   "cell_type": "code",
   "execution_count": 201,
   "metadata": {},
   "outputs": [],
   "source": [
    "tracks.loc[:, 'evt_energy'] = tracks.groupby('event')['energy'].transform('sum')\n",
    "tracks.loc[:, 'e_max']      = tracks.groupby('event')['energy'].transform('max')"
   ]
  },
  {
   "cell_type": "code",
   "execution_count": null,
   "metadata": {},
   "outputs": [],
   "source": []
  },
  {
   "cell_type": "code",
   "execution_count": 207,
   "metadata": {},
   "outputs": [
    {
     "data": {
      "image/png": "[encoded data removed]",
      "text/plain": [
       "<Figure size 720x540 with 1 Axes>"
      ]
     },
     "metadata": {
      "needs_background": "light"
     },
     "output_type": "display_data"
    }
   ],
   "source": [
    "plt.hist(cdsts.groupby('event').energy.sum(), bins=30, range = (2.4, 2.54), label='esme');\n",
    "plt.hist(tracks.groupby('event').energy.sum(), bins=30, range = (2.4, 2.54), alpha=0.7, label='beershe');\n",
    "plt.legend(loc=1);"
   ]
  },
  {
   "cell_type": "code",
   "execution_count": 212,
   "metadata": {},
   "outputs": [
    {
     "data": {
      "image/png": "[encoded data removed]",
      "text/plain": [
       "<Figure size 720x540 with 1 Axes>"
      ]
     },
     "metadata": {
      "needs_background": "light"
     },
     "output_type": "display_data"
    }
   ],
   "source": [
    "plt.hist(cdsts.energy, bins=30,  label='esme');\n",
    "plt.hist(tracks.energy, bins=30, alpha=0.7, label='beershe');\n",
    "plt.yscale('log')\n",
    "plt.legend(loc=1);"
   ]
  },
  {
   "cell_type": "code",
   "execution_count": 244,
   "metadata": {},
   "outputs": [
    {
     "data": {
      "image/png": "[encoded data removed]",
      "text/plain": [
       "<Figure size 720x540 with 1 Axes>"
      ]
     },
     "metadata": {
      "needs_background": "light"
     },
     "output_type": "display_data"
    }
   ],
   "source": [
    "plt.hist(cdsts.groupby('event').numb_of_tracks.first(), bins=11, range=(-0.5, 10.5), label='esme')\n",
    "plt.hist(tracks.groupby('event').numb_of_tracks.first(), bins=11, range=(-0.5, 10.5), alpha=0.7, label='beershe')\n",
    "plt.legend(loc=1);"
   ]
  },
  {
   "cell_type": "code",
   "execution_count": 248,
   "metadata": {
    "scrolled": true
   },
   "outputs": [
    {
     "name": "stdout",
     "output_type": "stream",
     "text": [
      "2937\n",
      "Events after fiducial cut: 1651, efficiency = 0.5621382362955397\n",
      "Events after 1-track cut: 238, efficiency = 0.1441550575408843\n",
      "Events after no-overlap cut: 238, efficiency = 1.0\n"
     ]
    },
    {
     "data": {
      "image/png": "[encoded data removed]",
      "text/plain": [
       "<Figure size 720x540 with 1 Axes>"
      ]
     },
     "metadata": {
      "needs_background": "light"
     },
     "output_type": "display_data"
    }
   ],
   "source": [
    "n_events_ini = cdsts.event.nunique()\n",
    "print(n_events_ini)\n",
    "fid = fiducialize_df(cdsts, r_max, z_min, z_max)\n",
    "n_events_fid = fid.event.nunique()\n",
    "print(f'Events after fiducial cut: {n_events_fid}, efficiency = {n_events_fid/n_events_ini}')\n",
    "one_track = fid[fid.numb_of_tracks == 1]\n",
    "n_events_1track = one_track.event.nunique()\n",
    "print(f'Events after 1-track cut: {n_events_1track}, efficiency = {n_events_1track/n_events_fid}')\n",
    "sep = one_track[one_track.ovlp_blob_energy == 0.]\n",
    "n_events_no_overlap = sep.event.nunique()\n",
    "print(f'Events after no-overlap cut: {n_events_no_overlap}, efficiency = {n_events_no_overlap/n_events_1track}')\n",
    "\n",
    "plt.hist(sep.energy, bins=50);\n",
    "plt.yscale('log')"
   ]
  },
  {
   "cell_type": "code",
   "execution_count": 252,
   "metadata": {
    "scrolled": true
   },
   "outputs": [
    {
     "name": "stdout",
     "output_type": "stream",
     "text": [
      "5384\n"
     ]
    }
   ],
   "source": [
    "multi_track = fid[fid.numb_of_tracks != 1]\n",
    "print(len(multi_track))"
   ]
  },
  {
   "cell_type": "code",
   "execution_count": 258,
   "metadata": {
    "scrolled": true
   },
   "outputs": [
    {
     "data": {
      "text/html": [
       "<div>\n",
       "<style scoped>\n",
       "    .dataframe tbody tr th:only-of-type {\n",
       "        vertical-align: middle;\n",
       "    }\n",
       "\n",
       "    .dataframe tbody tr th {\n",
       "        vertical-align: top;\n",
       "    }\n",
       "\n",
       "    .dataframe thead th {\n",
       "        text-align: right;\n",
       "    }\n",
       "</style>\n",
       "<table border=\"1\" class=\"dataframe\">\n",
       "  <thead>\n",
       "    <tr style=\"text-align: right;\">\n",
       "      <th></th>\n",
       "      <th>event</th>\n",
       "      <th>trackID</th>\n",
       "      <th>energy</th>\n",
       "      <th>length</th>\n",
       "      <th>numb_of_voxels</th>\n",
       "      <th>numb_of_hits</th>\n",
       "      <th>numb_of_tracks</th>\n",
       "      <th>x_min</th>\n",
       "      <th>y_min</th>\n",
       "      <th>z_min</th>\n",
       "      <th>...</th>\n",
       "      <th>blob2_y</th>\n",
       "      <th>blob2_z</th>\n",
       "      <th>eblob1</th>\n",
       "      <th>eblob2</th>\n",
       "      <th>ovlp_blob_energy</th>\n",
       "      <th>vox_size_x</th>\n",
       "      <th>vox_size_y</th>\n",
       "      <th>vox_size_z</th>\n",
       "      <th>evt_energy</th>\n",
       "      <th>e_max</th>\n",
       "    </tr>\n",
       "  </thead>\n",
       "  <tbody>\n",
       "    <tr>\n",
       "      <th>7</th>\n",
       "      <td>3</td>\n",
       "      <td>0</td>\n",
       "      <td>2.462413</td>\n",
       "      <td>192.095378</td>\n",
       "      <td>305</td>\n",
       "      <td>1364</td>\n",
       "      <td>6</td>\n",
       "      <td>-365.37</td>\n",
       "      <td>-209.87</td>\n",
       "      <td>657.392063</td>\n",
       "      <td>...</td>\n",
       "      <td>-132.12</td>\n",
       "      <td>663.119637</td>\n",
       "      <td>0.108789</td>\n",
       "      <td>0.032617</td>\n",
       "      <td>0.000000</td>\n",
       "      <td>14.7725</td>\n",
       "      <td>14.7725</td>\n",
       "      <td>13.0614</td>\n",
       "      <td>2.464302</td>\n",
       "      <td>2.462413</td>\n",
       "    </tr>\n",
       "    <tr>\n",
       "      <th>8</th>\n",
       "      <td>3</td>\n",
       "      <td>1</td>\n",
       "      <td>0.000661</td>\n",
       "      <td>14.772500</td>\n",
       "      <td>2</td>\n",
       "      <td>2</td>\n",
       "      <td>6</td>\n",
       "      <td>-256.52</td>\n",
       "      <td>-272.07</td>\n",
       "      <td>663.008000</td>\n",
       "      <td>...</td>\n",
       "      <td>-256.52</td>\n",
       "      <td>663.008000</td>\n",
       "      <td>0.000661</td>\n",
       "      <td>0.000661</td>\n",
       "      <td>0.000661</td>\n",
       "      <td>14.7725</td>\n",
       "      <td>14.7725</td>\n",
       "      <td>13.0614</td>\n",
       "      <td>2.464302</td>\n",
       "      <td>2.462413</td>\n",
       "    </tr>\n",
       "    <tr>\n",
       "      <th>9</th>\n",
       "      <td>3</td>\n",
       "      <td>2</td>\n",
       "      <td>0.000315</td>\n",
       "      <td>0.000000</td>\n",
       "      <td>1</td>\n",
       "      <td>1</td>\n",
       "      <td>6</td>\n",
       "      <td>-318.72</td>\n",
       "      <td>7.83</td>\n",
       "      <td>663.008000</td>\n",
       "      <td>...</td>\n",
       "      <td>7.83</td>\n",
       "      <td>663.008000</td>\n",
       "      <td>0.000315</td>\n",
       "      <td>0.000315</td>\n",
       "      <td>0.000315</td>\n",
       "      <td>14.7725</td>\n",
       "      <td>14.7725</td>\n",
       "      <td>13.0614</td>\n",
       "      <td>2.464302</td>\n",
       "      <td>2.462413</td>\n",
       "    </tr>\n",
       "    <tr>\n",
       "      <th>10</th>\n",
       "      <td>3</td>\n",
       "      <td>3</td>\n",
       "      <td>0.000313</td>\n",
       "      <td>0.000000</td>\n",
       "      <td>1</td>\n",
       "      <td>1</td>\n",
       "      <td>6</td>\n",
       "      <td>-412.02</td>\n",
       "      <td>-147.67</td>\n",
       "      <td>663.008000</td>\n",
       "      <td>...</td>\n",
       "      <td>-147.67</td>\n",
       "      <td>663.008000</td>\n",
       "      <td>0.000313</td>\n",
       "      <td>0.000313</td>\n",
       "      <td>0.000313</td>\n",
       "      <td>14.7725</td>\n",
       "      <td>14.7725</td>\n",
       "      <td>13.0614</td>\n",
       "      <td>2.464302</td>\n",
       "      <td>2.462413</td>\n",
       "    </tr>\n",
       "    <tr>\n",
       "      <th>11</th>\n",
       "      <td>3</td>\n",
       "      <td>4</td>\n",
       "      <td>0.000304</td>\n",
       "      <td>0.000000</td>\n",
       "      <td>1</td>\n",
       "      <td>1</td>\n",
       "      <td>6</td>\n",
       "      <td>-287.62</td>\n",
       "      <td>-256.52</td>\n",
       "      <td>663.008000</td>\n",
       "      <td>...</td>\n",
       "      <td>-256.52</td>\n",
       "      <td>663.008000</td>\n",
       "      <td>0.000304</td>\n",
       "      <td>0.000304</td>\n",
       "      <td>0.000304</td>\n",
       "      <td>14.7725</td>\n",
       "      <td>14.7725</td>\n",
       "      <td>13.0614</td>\n",
       "      <td>2.464302</td>\n",
       "      <td>2.462413</td>\n",
       "    </tr>\n",
       "    <tr>\n",
       "      <th>12</th>\n",
       "      <td>3</td>\n",
       "      <td>5</td>\n",
       "      <td>0.000297</td>\n",
       "      <td>0.000000</td>\n",
       "      <td>1</td>\n",
       "      <td>1</td>\n",
       "      <td>6</td>\n",
       "      <td>-380.92</td>\n",
       "      <td>-38.82</td>\n",
       "      <td>663.008000</td>\n",
       "      <td>...</td>\n",
       "      <td>-38.82</td>\n",
       "      <td>663.008000</td>\n",
       "      <td>0.000297</td>\n",
       "      <td>0.000297</td>\n",
       "      <td>0.000297</td>\n",
       "      <td>14.7725</td>\n",
       "      <td>14.7725</td>\n",
       "      <td>13.0614</td>\n",
       "      <td>2.464302</td>\n",
       "      <td>2.462413</td>\n",
       "    </tr>\n",
       "  </tbody>\n",
       "</table>\n",
       "<p>6 rows × 39 columns</p>\n",
       "</div>"
      ],
      "text/plain": [
       "    event  trackID    energy      length  numb_of_voxels  numb_of_hits  \\\n",
       "7       3        0  2.462413  192.095378             305          1364   \n",
       "8       3        1  0.000661   14.772500               2             2   \n",
       "9       3        2  0.000315    0.000000               1             1   \n",
       "10      3        3  0.000313    0.000000               1             1   \n",
       "11      3        4  0.000304    0.000000               1             1   \n",
       "12      3        5  0.000297    0.000000               1             1   \n",
       "\n",
       "    numb_of_tracks   x_min   y_min       z_min    ...     blob2_y     blob2_z  \\\n",
       "7                6 -365.37 -209.87  657.392063    ...     -132.12  663.119637   \n",
       "8                6 -256.52 -272.07  663.008000    ...     -256.52  663.008000   \n",
       "9                6 -318.72    7.83  663.008000    ...        7.83  663.008000   \n",
       "10               6 -412.02 -147.67  663.008000    ...     -147.67  663.008000   \n",
       "11               6 -287.62 -256.52  663.008000    ...     -256.52  663.008000   \n",
       "12               6 -380.92  -38.82  663.008000    ...      -38.82  663.008000   \n",
       "\n",
       "      eblob1    eblob2  ovlp_blob_energy  vox_size_x  vox_size_y  vox_size_z  \\\n",
       "7   0.108789  0.032617          0.000000     14.7725     14.7725     13.0614   \n",
       "8   0.000661  0.000661          0.000661     14.7725     14.7725     13.0614   \n",
       "9   0.000315  0.000315          0.000315     14.7725     14.7725     13.0614   \n",
       "10  0.000313  0.000313          0.000313     14.7725     14.7725     13.0614   \n",
       "11  0.000304  0.000304          0.000304     14.7725     14.7725     13.0614   \n",
       "12  0.000297  0.000297          0.000297     14.7725     14.7725     13.0614   \n",
       "\n",
       "    evt_energy     e_max  \n",
       "7     2.464302  2.462413  \n",
       "8     2.464302  2.462413  \n",
       "9     2.464302  2.462413  \n",
       "10    2.464302  2.462413  \n",
       "11    2.464302  2.462413  \n",
       "12    2.464302  2.462413  \n",
       "\n",
       "[6 rows x 39 columns]"
      ]
     },
     "execution_count": 258,
     "metadata": {},
     "output_type": "execute_result"
    }
   ],
   "source": [
    "multi_track[multi_track.event == 3]"
   ]
  },
  {
   "cell_type": "code",
   "execution_count": 253,
   "metadata": {},
   "outputs": [
    {
     "data": {
      "text/plain": [
       "238"
      ]
     },
     "execution_count": 253,
     "metadata": {},
     "output_type": "execute_result"
    }
   ],
   "source": [
    "len(one_track)"
   ]
  },
  {
   "cell_type": "code",
   "execution_count": null,
   "metadata": {},
   "outputs": [],
   "source": [
    "fid = fiducialize_df(tracks, r_max, z_min, z_max)\n",
    "n_events_fid = fid.event.nunique()\n",
    "print(f'Events after fiducial cut: {n_events_fid}, efficiency = {n_events_fid/n_events_ini}')\n",
    "one_track = fid[fid.numb_of_tracks == 1]\n",
    "n_events_1track = one_track.event.nunique()\n",
    "print(f'Events after 1-track cut: {n_events_1track}, efficiency = {n_events_1track/n_events_fid}')\n",
    "sep = one_track[one_track.ovlp_blob_energy == 0.]\n",
    "n_events_no_overlap = sep.event.nunique()\n",
    "print(f'Events after no-overlap cut: {n_events_no_overlap}, efficiency = {n_events_no_overlap/n_events_1track}')\n",
    "\n",
    "plt.hist(sep.energy, bins=50);\n",
    "plt.yscale('log')"
   ]
  },
  {
   "cell_type": "code",
   "execution_count": null,
   "metadata": {},
   "outputs": [],
   "source": []
  },
  {
   "cell_type": "code",
   "execution_count": 255,
   "metadata": {},
   "outputs": [],
   "source": [
    "cdst_filename = cdst_folder + f'next100.e-_roi_10pes.1.cdst.h5'\n",
    "df_c = pd.read_hdf(cdst_filename, 'CHITS/highTh')"
   ]
  },
  {
   "cell_type": "code",
   "execution_count": 257,
   "metadata": {
    "collapsed": true
   },
   "outputs": [
    {
     "data": {
      "text/html": [
       "<div>\n",
       "<style scoped>\n",
       "    .dataframe tbody tr th:only-of-type {\n",
       "        vertical-align: middle;\n",
       "    }\n",
       "\n",
       "    .dataframe tbody tr th {\n",
       "        vertical-align: top;\n",
       "    }\n",
       "\n",
       "    .dataframe thead th {\n",
       "        text-align: right;\n",
       "    }\n",
       "</style>\n",
       "<table border=\"1\" class=\"dataframe\">\n",
       "  <thead>\n",
       "    <tr style=\"text-align: right;\">\n",
       "      <th></th>\n",
       "      <th>event</th>\n",
       "      <th>time</th>\n",
       "      <th>npeak</th>\n",
       "      <th>Xpeak</th>\n",
       "      <th>Ypeak</th>\n",
       "      <th>nsipm</th>\n",
       "      <th>X</th>\n",
       "      <th>Y</th>\n",
       "      <th>Xrms</th>\n",
       "      <th>Yrms</th>\n",
       "      <th>Z</th>\n",
       "      <th>Q</th>\n",
       "      <th>E</th>\n",
       "      <th>Qc</th>\n",
       "      <th>Ec</th>\n",
       "      <th>track_id</th>\n",
       "      <th>Ep</th>\n",
       "    </tr>\n",
       "  </thead>\n",
       "  <tbody>\n",
       "    <tr>\n",
       "      <th>3997</th>\n",
       "      <td>3</td>\n",
       "      <td>0.0</td>\n",
       "      <td>0</td>\n",
       "      <td>-219.139378</td>\n",
       "      <td>-103.82168</td>\n",
       "      <td>1</td>\n",
       "      <td>-396.47</td>\n",
       "      <td>-209.87</td>\n",
       "      <td>0.000000e+00</td>\n",
       "      <td>2.842171e-14</td>\n",
       "      <td>718.939750</td>\n",
       "      <td>10.202898</td>\n",
       "      <td>67.704028</td>\n",
       "      <td>-1.0</td>\n",
       "      <td>0.000430</td>\n",
       "      <td>-1</td>\n",
       "      <td>NaN</td>\n",
       "    </tr>\n",
       "    <tr>\n",
       "      <th>3998</th>\n",
       "      <td>3</td>\n",
       "      <td>0.0</td>\n",
       "      <td>0</td>\n",
       "      <td>-219.139378</td>\n",
       "      <td>-103.82168</td>\n",
       "      <td>1</td>\n",
       "      <td>-116.57</td>\n",
       "      <td>-116.57</td>\n",
       "      <td>0.000000e+00</td>\n",
       "      <td>0.000000e+00</td>\n",
       "      <td>661.124375</td>\n",
       "      <td>10.434782</td>\n",
       "      <td>57.132661</td>\n",
       "      <td>-1.0</td>\n",
       "      <td>0.000302</td>\n",
       "      <td>-1</td>\n",
       "      <td>NaN</td>\n",
       "    </tr>\n",
       "    <tr>\n",
       "      <th>3999</th>\n",
       "      <td>3</td>\n",
       "      <td>0.0</td>\n",
       "      <td>0</td>\n",
       "      <td>-219.139378</td>\n",
       "      <td>-103.82168</td>\n",
       "      <td>1</td>\n",
       "      <td>-396.47</td>\n",
       "      <td>-163.22</td>\n",
       "      <td>0.000000e+00</td>\n",
       "      <td>0.000000e+00</td>\n",
       "      <td>718.939750</td>\n",
       "      <td>15.130435</td>\n",
       "      <td>100.402003</td>\n",
       "      <td>-1.0</td>\n",
       "      <td>0.000606</td>\n",
       "      <td>-1</td>\n",
       "      <td>NaN</td>\n",
       "    </tr>\n",
       "    <tr>\n",
       "      <th>4000</th>\n",
       "      <td>3</td>\n",
       "      <td>0.0</td>\n",
       "      <td>0</td>\n",
       "      <td>-219.139378</td>\n",
       "      <td>-103.82168</td>\n",
       "      <td>1</td>\n",
       "      <td>-132.12</td>\n",
       "      <td>-69.92</td>\n",
       "      <td>0.000000e+00</td>\n",
       "      <td>0.000000e+00</td>\n",
       "      <td>663.008000</td>\n",
       "      <td>10.086956</td>\n",
       "      <td>52.647056</td>\n",
       "      <td>-1.0</td>\n",
       "      <td>0.000277</td>\n",
       "      <td>-1</td>\n",
       "      <td>NaN</td>\n",
       "    </tr>\n",
       "    <tr>\n",
       "      <th>4001</th>\n",
       "      <td>3</td>\n",
       "      <td>0.0</td>\n",
       "      <td>0</td>\n",
       "      <td>-219.139378</td>\n",
       "      <td>-103.82168</td>\n",
       "      <td>1</td>\n",
       "      <td>-380.92</td>\n",
       "      <td>-194.32</td>\n",
       "      <td>0.000000e+00</td>\n",
       "      <td>2.842171e-14</td>\n",
       "      <td>716.993687</td>\n",
       "      <td>11.826087</td>\n",
       "      <td>76.366234</td>\n",
       "      <td>-1.0</td>\n",
       "      <td>0.000455</td>\n",
       "      <td>-1</td>\n",
       "      <td>NaN</td>\n",
       "    </tr>\n",
       "    <tr>\n",
       "      <th>4002</th>\n",
       "      <td>3</td>\n",
       "      <td>0.0</td>\n",
       "      <td>0</td>\n",
       "      <td>-219.139378</td>\n",
       "      <td>-103.82168</td>\n",
       "      <td>1</td>\n",
       "      <td>-380.92</td>\n",
       "      <td>-194.32</td>\n",
       "      <td>0.000000e+00</td>\n",
       "      <td>0.000000e+00</td>\n",
       "      <td>718.939750</td>\n",
       "      <td>14.144928</td>\n",
       "      <td>93.862411</td>\n",
       "      <td>-1.0</td>\n",
       "      <td>0.000559</td>\n",
       "      <td>-1</td>\n",
       "      <td>NaN</td>\n",
       "    </tr>\n",
       "    <tr>\n",
       "      <th>4003</th>\n",
       "      <td>3</td>\n",
       "      <td>0.0</td>\n",
       "      <td>0</td>\n",
       "      <td>-219.139378</td>\n",
       "      <td>-103.82168</td>\n",
       "      <td>1</td>\n",
       "      <td>-163.22</td>\n",
       "      <td>-7.72</td>\n",
       "      <td>0.000000e+00</td>\n",
       "      <td>0.000000e+00</td>\n",
       "      <td>663.008000</td>\n",
       "      <td>12.579710</td>\n",
       "      <td>65.657538</td>\n",
       "      <td>-1.0</td>\n",
       "      <td>0.000347</td>\n",
       "      <td>-1</td>\n",
       "      <td>NaN</td>\n",
       "    </tr>\n",
       "    <tr>\n",
       "      <th>4004</th>\n",
       "      <td>3</td>\n",
       "      <td>0.0</td>\n",
       "      <td>0</td>\n",
       "      <td>-219.139378</td>\n",
       "      <td>-103.82168</td>\n",
       "      <td>1</td>\n",
       "      <td>-396.47</td>\n",
       "      <td>-147.67</td>\n",
       "      <td>0.000000e+00</td>\n",
       "      <td>0.000000e+00</td>\n",
       "      <td>718.939750</td>\n",
       "      <td>16.521740</td>\n",
       "      <td>109.634375</td>\n",
       "      <td>-1.0</td>\n",
       "      <td>0.000651</td>\n",
       "      <td>-1</td>\n",
       "      <td>NaN</td>\n",
       "    </tr>\n",
       "    <tr>\n",
       "      <th>4005</th>\n",
       "      <td>3</td>\n",
       "      <td>0.0</td>\n",
       "      <td>0</td>\n",
       "      <td>-219.139378</td>\n",
       "      <td>-103.82168</td>\n",
       "      <td>1</td>\n",
       "      <td>-132.12</td>\n",
       "      <td>-85.47</td>\n",
       "      <td>0.000000e+00</td>\n",
       "      <td>0.000000e+00</td>\n",
       "      <td>661.124375</td>\n",
       "      <td>11.130434</td>\n",
       "      <td>60.941505</td>\n",
       "      <td>-1.0</td>\n",
       "      <td>0.000321</td>\n",
       "      <td>-1</td>\n",
       "      <td>NaN</td>\n",
       "    </tr>\n",
       "    <tr>\n",
       "      <th>4006</th>\n",
       "      <td>3</td>\n",
       "      <td>0.0</td>\n",
       "      <td>0</td>\n",
       "      <td>-219.139378</td>\n",
       "      <td>-103.82168</td>\n",
       "      <td>1</td>\n",
       "      <td>-365.37</td>\n",
       "      <td>-209.87</td>\n",
       "      <td>0.000000e+00</td>\n",
       "      <td>0.000000e+00</td>\n",
       "      <td>713.024437</td>\n",
       "      <td>11.942029</td>\n",
       "      <td>84.804692</td>\n",
       "      <td>-1.0</td>\n",
       "      <td>0.000497</td>\n",
       "      <td>-1</td>\n",
       "      <td>NaN</td>\n",
       "    </tr>\n",
       "    <tr>\n",
       "      <th>4007</th>\n",
       "      <td>3</td>\n",
       "      <td>0.0</td>\n",
       "      <td>0</td>\n",
       "      <td>-219.139378</td>\n",
       "      <td>-103.82168</td>\n",
       "      <td>1</td>\n",
       "      <td>-365.37</td>\n",
       "      <td>-209.87</td>\n",
       "      <td>0.000000e+00</td>\n",
       "      <td>0.000000e+00</td>\n",
       "      <td>715.029437</td>\n",
       "      <td>19.304348</td>\n",
       "      <td>127.699227</td>\n",
       "      <td>-1.0</td>\n",
       "      <td>0.000749</td>\n",
       "      <td>-1</td>\n",
       "      <td>NaN</td>\n",
       "    </tr>\n",
       "    <tr>\n",
       "      <th>4008</th>\n",
       "      <td>3</td>\n",
       "      <td>0.0</td>\n",
       "      <td>0</td>\n",
       "      <td>-219.139378</td>\n",
       "      <td>-103.82168</td>\n",
       "      <td>1</td>\n",
       "      <td>-365.37</td>\n",
       "      <td>-209.87</td>\n",
       "      <td>0.000000e+00</td>\n",
       "      <td>0.000000e+00</td>\n",
       "      <td>716.993687</td>\n",
       "      <td>13.913044</td>\n",
       "      <td>89.842631</td>\n",
       "      <td>-1.0</td>\n",
       "      <td>0.000527</td>\n",
       "      <td>-1</td>\n",
       "      <td>NaN</td>\n",
       "    </tr>\n",
       "    <tr>\n",
       "      <th>4009</th>\n",
       "      <td>3</td>\n",
       "      <td>0.0</td>\n",
       "      <td>0</td>\n",
       "      <td>-219.139378</td>\n",
       "      <td>-103.82168</td>\n",
       "      <td>1</td>\n",
       "      <td>-365.37</td>\n",
       "      <td>-209.87</td>\n",
       "      <td>0.000000e+00</td>\n",
       "      <td>2.842171e-14</td>\n",
       "      <td>718.939750</td>\n",
       "      <td>10.260870</td>\n",
       "      <td>68.088717</td>\n",
       "      <td>-1.0</td>\n",
       "      <td>0.000400</td>\n",
       "      <td>-1</td>\n",
       "      <td>NaN</td>\n",
       "    </tr>\n",
       "    <tr>\n",
       "      <th>4010</th>\n",
       "      <td>3</td>\n",
       "      <td>0.0</td>\n",
       "      <td>0</td>\n",
       "      <td>-219.139378</td>\n",
       "      <td>-103.82168</td>\n",
       "      <td>1</td>\n",
       "      <td>-240.97</td>\n",
       "      <td>23.38</td>\n",
       "      <td>0.000000e+00</td>\n",
       "      <td>0.000000e+00</td>\n",
       "      <td>663.008000</td>\n",
       "      <td>12.115942</td>\n",
       "      <td>63.236985</td>\n",
       "      <td>-1.0</td>\n",
       "      <td>0.000339</td>\n",
       "      <td>-1</td>\n",
       "      <td>NaN</td>\n",
       "    </tr>\n",
       "    <tr>\n",
       "      <th>4011</th>\n",
       "      <td>3</td>\n",
       "      <td>0.0</td>\n",
       "      <td>0</td>\n",
       "      <td>-219.139378</td>\n",
       "      <td>-103.82168</td>\n",
       "      <td>1</td>\n",
       "      <td>-380.92</td>\n",
       "      <td>-178.77</td>\n",
       "      <td>0.000000e+00</td>\n",
       "      <td>0.000000e+00</td>\n",
       "      <td>715.029437</td>\n",
       "      <td>10.202898</td>\n",
       "      <td>67.492681</td>\n",
       "      <td>-1.0</td>\n",
       "      <td>0.000402</td>\n",
       "      <td>-1</td>\n",
       "      <td>NaN</td>\n",
       "    </tr>\n",
       "    <tr>\n",
       "      <th>4012</th>\n",
       "      <td>3</td>\n",
       "      <td>0.0</td>\n",
       "      <td>0</td>\n",
       "      <td>-219.139378</td>\n",
       "      <td>-103.82168</td>\n",
       "      <td>1</td>\n",
       "      <td>-380.92</td>\n",
       "      <td>-178.77</td>\n",
       "      <td>0.000000e+00</td>\n",
       "      <td>0.000000e+00</td>\n",
       "      <td>716.993687</td>\n",
       "      <td>14.434782</td>\n",
       "      <td>93.211723</td>\n",
       "      <td>-1.0</td>\n",
       "      <td>0.000555</td>\n",
       "      <td>-1</td>\n",
       "      <td>NaN</td>\n",
       "    </tr>\n",
       "    <tr>\n",
       "      <th>4013</th>\n",
       "      <td>3</td>\n",
       "      <td>0.0</td>\n",
       "      <td>0</td>\n",
       "      <td>-219.139378</td>\n",
       "      <td>-103.82168</td>\n",
       "      <td>1</td>\n",
       "      <td>-380.92</td>\n",
       "      <td>-178.77</td>\n",
       "      <td>0.000000e+00</td>\n",
       "      <td>0.000000e+00</td>\n",
       "      <td>718.939750</td>\n",
       "      <td>14.666666</td>\n",
       "      <td>97.324542</td>\n",
       "      <td>-1.0</td>\n",
       "      <td>0.000580</td>\n",
       "      <td>-1</td>\n",
       "      <td>NaN</td>\n",
       "    </tr>\n",
       "    <tr>\n",
       "      <th>4014</th>\n",
       "      <td>3</td>\n",
       "      <td>0.0</td>\n",
       "      <td>0</td>\n",
       "      <td>-219.139378</td>\n",
       "      <td>-103.82168</td>\n",
       "      <td>1</td>\n",
       "      <td>-132.12</td>\n",
       "      <td>-101.02</td>\n",
       "      <td>0.000000e+00</td>\n",
       "      <td>0.000000e+00</td>\n",
       "      <td>663.008000</td>\n",
       "      <td>10.318840</td>\n",
       "      <td>53.857333</td>\n",
       "      <td>-1.0</td>\n",
       "      <td>0.000285</td>\n",
       "      <td>-1</td>\n",
       "      <td>NaN</td>\n",
       "    </tr>\n",
       "    <tr>\n",
       "      <th>4015</th>\n",
       "      <td>3</td>\n",
       "      <td>0.0</td>\n",
       "      <td>0</td>\n",
       "      <td>-219.139378</td>\n",
       "      <td>-103.82168</td>\n",
       "      <td>1</td>\n",
       "      <td>-380.92</td>\n",
       "      <td>-163.22</td>\n",
       "      <td>0.000000e+00</td>\n",
       "      <td>0.000000e+00</td>\n",
       "      <td>715.029437</td>\n",
       "      <td>15.420290</td>\n",
       "      <td>102.005990</td>\n",
       "      <td>-1.0</td>\n",
       "      <td>0.000598</td>\n",
       "      <td>-1</td>\n",
       "      <td>NaN</td>\n",
       "    </tr>\n",
       "    <tr>\n",
       "      <th>4016</th>\n",
       "      <td>3</td>\n",
       "      <td>0.0</td>\n",
       "      <td>0</td>\n",
       "      <td>-219.139378</td>\n",
       "      <td>-103.82168</td>\n",
       "      <td>1</td>\n",
       "      <td>-380.92</td>\n",
       "      <td>-163.22</td>\n",
       "      <td>0.000000e+00</td>\n",
       "      <td>0.000000e+00</td>\n",
       "      <td>716.993687</td>\n",
       "      <td>19.304348</td>\n",
       "      <td>124.656647</td>\n",
       "      <td>-1.0</td>\n",
       "      <td>0.000730</td>\n",
       "      <td>-1</td>\n",
       "      <td>NaN</td>\n",
       "    </tr>\n",
       "    <tr>\n",
       "      <th>4017</th>\n",
       "      <td>3</td>\n",
       "      <td>0.0</td>\n",
       "      <td>0</td>\n",
       "      <td>-219.139378</td>\n",
       "      <td>-103.82168</td>\n",
       "      <td>1</td>\n",
       "      <td>-380.92</td>\n",
       "      <td>-163.22</td>\n",
       "      <td>0.000000e+00</td>\n",
       "      <td>0.000000e+00</td>\n",
       "      <td>718.939750</td>\n",
       "      <td>18.724638</td>\n",
       "      <td>124.252288</td>\n",
       "      <td>-1.0</td>\n",
       "      <td>0.000728</td>\n",
       "      <td>-1</td>\n",
       "      <td>NaN</td>\n",
       "    </tr>\n",
       "    <tr>\n",
       "      <th>4018</th>\n",
       "      <td>3</td>\n",
       "      <td>0.0</td>\n",
       "      <td>0</td>\n",
       "      <td>-219.139378</td>\n",
       "      <td>-103.82168</td>\n",
       "      <td>1</td>\n",
       "      <td>-380.92</td>\n",
       "      <td>-163.22</td>\n",
       "      <td>0.000000e+00</td>\n",
       "      <td>2.842171e-14</td>\n",
       "      <td>720.826812</td>\n",
       "      <td>13.507246</td>\n",
       "      <td>110.460559</td>\n",
       "      <td>-1.0</td>\n",
       "      <td>0.000647</td>\n",
       "      <td>-1</td>\n",
       "      <td>NaN</td>\n",
       "    </tr>\n",
       "    <tr>\n",
       "      <th>4019</th>\n",
       "      <td>3</td>\n",
       "      <td>0.0</td>\n",
       "      <td>0</td>\n",
       "      <td>-219.139378</td>\n",
       "      <td>-103.82168</td>\n",
       "      <td>1</td>\n",
       "      <td>-147.67</td>\n",
       "      <td>-69.92</td>\n",
       "      <td>0.000000e+00</td>\n",
       "      <td>0.000000e+00</td>\n",
       "      <td>663.008000</td>\n",
       "      <td>12.985507</td>\n",
       "      <td>67.775523</td>\n",
       "      <td>-1.0</td>\n",
       "      <td>0.000357</td>\n",
       "      <td>-1</td>\n",
       "      <td>NaN</td>\n",
       "    </tr>\n",
       "    <tr>\n",
       "      <th>4020</th>\n",
       "      <td>3</td>\n",
       "      <td>0.0</td>\n",
       "      <td>0</td>\n",
       "      <td>-219.139378</td>\n",
       "      <td>-103.82168</td>\n",
       "      <td>1</td>\n",
       "      <td>-147.67</td>\n",
       "      <td>-69.92</td>\n",
       "      <td>0.000000e+00</td>\n",
       "      <td>0.000000e+00</td>\n",
       "      <td>664.925000</td>\n",
       "      <td>11.768116</td>\n",
       "      <td>62.013178</td>\n",
       "      <td>-1.0</td>\n",
       "      <td>0.000327</td>\n",
       "      <td>-1</td>\n",
       "      <td>NaN</td>\n",
       "    </tr>\n",
       "    <tr>\n",
       "      <th>4021</th>\n",
       "      <td>3</td>\n",
       "      <td>0.0</td>\n",
       "      <td>0</td>\n",
       "      <td>-219.139378</td>\n",
       "      <td>-103.82168</td>\n",
       "      <td>1</td>\n",
       "      <td>-318.72</td>\n",
       "      <td>-225.42</td>\n",
       "      <td>0.000000e+00</td>\n",
       "      <td>0.000000e+00</td>\n",
       "      <td>716.993687</td>\n",
       "      <td>10.898551</td>\n",
       "      <td>70.376727</td>\n",
       "      <td>-1.0</td>\n",
       "      <td>0.000400</td>\n",
       "      <td>-1</td>\n",
       "      <td>NaN</td>\n",
       "    </tr>\n",
       "    <tr>\n",
       "      <th>4022</th>\n",
       "      <td>3</td>\n",
       "      <td>0.0</td>\n",
       "      <td>0</td>\n",
       "      <td>-219.139378</td>\n",
       "      <td>-103.82168</td>\n",
       "      <td>1</td>\n",
       "      <td>-240.97</td>\n",
       "      <td>7.83</td>\n",
       "      <td>2.842171e-14</td>\n",
       "      <td>0.000000e+00</td>\n",
       "      <td>663.008000</td>\n",
       "      <td>11.652174</td>\n",
       "      <td>60.816431</td>\n",
       "      <td>-1.0</td>\n",
       "      <td>0.000326</td>\n",
       "      <td>-1</td>\n",
       "      <td>NaN</td>\n",
       "    </tr>\n",
       "    <tr>\n",
       "      <th>4023</th>\n",
       "      <td>3</td>\n",
       "      <td>0.0</td>\n",
       "      <td>0</td>\n",
       "      <td>-219.139378</td>\n",
       "      <td>-103.82168</td>\n",
       "      <td>1</td>\n",
       "      <td>-365.37</td>\n",
       "      <td>-194.32</td>\n",
       "      <td>0.000000e+00</td>\n",
       "      <td>2.842171e-14</td>\n",
       "      <td>713.024437</td>\n",
       "      <td>10.898551</td>\n",
       "      <td>77.394575</td>\n",
       "      <td>-1.0</td>\n",
       "      <td>0.000450</td>\n",
       "      <td>-1</td>\n",
       "      <td>NaN</td>\n",
       "    </tr>\n",
       "    <tr>\n",
       "      <th>4024</th>\n",
       "      <td>3</td>\n",
       "      <td>0.0</td>\n",
       "      <td>0</td>\n",
       "      <td>-219.139378</td>\n",
       "      <td>-103.82168</td>\n",
       "      <td>1</td>\n",
       "      <td>-365.37</td>\n",
       "      <td>-194.32</td>\n",
       "      <td>0.000000e+00</td>\n",
       "      <td>0.000000e+00</td>\n",
       "      <td>715.029437</td>\n",
       "      <td>15.420290</td>\n",
       "      <td>102.005990</td>\n",
       "      <td>-1.0</td>\n",
       "      <td>0.000593</td>\n",
       "      <td>-1</td>\n",
       "      <td>NaN</td>\n",
       "    </tr>\n",
       "    <tr>\n",
       "      <th>4025</th>\n",
       "      <td>3</td>\n",
       "      <td>0.0</td>\n",
       "      <td>0</td>\n",
       "      <td>-219.139378</td>\n",
       "      <td>-103.82168</td>\n",
       "      <td>1</td>\n",
       "      <td>-365.37</td>\n",
       "      <td>-194.32</td>\n",
       "      <td>0.000000e+00</td>\n",
       "      <td>0.000000e+00</td>\n",
       "      <td>716.993687</td>\n",
       "      <td>19.652174</td>\n",
       "      <td>126.902712</td>\n",
       "      <td>-1.0</td>\n",
       "      <td>0.000738</td>\n",
       "      <td>-1</td>\n",
       "      <td>NaN</td>\n",
       "    </tr>\n",
       "    <tr>\n",
       "      <th>4026</th>\n",
       "      <td>3</td>\n",
       "      <td>0.0</td>\n",
       "      <td>0</td>\n",
       "      <td>-219.139378</td>\n",
       "      <td>-103.82168</td>\n",
       "      <td>1</td>\n",
       "      <td>-365.37</td>\n",
       "      <td>-194.32</td>\n",
       "      <td>0.000000e+00</td>\n",
       "      <td>0.000000e+00</td>\n",
       "      <td>718.939750</td>\n",
       "      <td>33.565216</td>\n",
       "      <td>222.730869</td>\n",
       "      <td>-1.0</td>\n",
       "      <td>0.001296</td>\n",
       "      <td>-1</td>\n",
       "      <td>NaN</td>\n",
       "    </tr>\n",
       "    <tr>\n",
       "      <th>...</th>\n",
       "      <td>...</td>\n",
       "      <td>...</td>\n",
       "      <td>...</td>\n",
       "      <td>...</td>\n",
       "      <td>...</td>\n",
       "      <td>...</td>\n",
       "      <td>...</td>\n",
       "      <td>...</td>\n",
       "      <td>...</td>\n",
       "      <td>...</td>\n",
       "      <td>...</td>\n",
       "      <td>...</td>\n",
       "      <td>...</td>\n",
       "      <td>...</td>\n",
       "      <td>...</td>\n",
       "      <td>...</td>\n",
       "      <td>...</td>\n",
       "    </tr>\n",
       "    <tr>\n",
       "      <th>5592</th>\n",
       "      <td>3</td>\n",
       "      <td>0.0</td>\n",
       "      <td>0</td>\n",
       "      <td>-219.139378</td>\n",
       "      <td>-103.82168</td>\n",
       "      <td>1</td>\n",
       "      <td>-194.32</td>\n",
       "      <td>-147.67</td>\n",
       "      <td>0.000000e+00</td>\n",
       "      <td>0.000000e+00</td>\n",
       "      <td>664.925000</td>\n",
       "      <td>44.985504</td>\n",
       "      <td>237.055282</td>\n",
       "      <td>-1.0</td>\n",
       "      <td>0.001266</td>\n",
       "      <td>0</td>\n",
       "      <td>0.001266</td>\n",
       "    </tr>\n",
       "    <tr>\n",
       "      <th>5593</th>\n",
       "      <td>3</td>\n",
       "      <td>0.0</td>\n",
       "      <td>0</td>\n",
       "      <td>-219.139378</td>\n",
       "      <td>-103.82168</td>\n",
       "      <td>1</td>\n",
       "      <td>-194.32</td>\n",
       "      <td>-147.67</td>\n",
       "      <td>0.000000e+00</td>\n",
       "      <td>0.000000e+00</td>\n",
       "      <td>666.929313</td>\n",
       "      <td>18.492754</td>\n",
       "      <td>102.640398</td>\n",
       "      <td>-1.0</td>\n",
       "      <td>0.000548</td>\n",
       "      <td>0</td>\n",
       "      <td>0.000548</td>\n",
       "    </tr>\n",
       "    <tr>\n",
       "      <th>5594</th>\n",
       "      <td>3</td>\n",
       "      <td>0.0</td>\n",
       "      <td>0</td>\n",
       "      <td>-219.139378</td>\n",
       "      <td>-103.82168</td>\n",
       "      <td>1</td>\n",
       "      <td>-194.32</td>\n",
       "      <td>-132.12</td>\n",
       "      <td>0.000000e+00</td>\n",
       "      <td>0.000000e+00</td>\n",
       "      <td>659.259688</td>\n",
       "      <td>10.492754</td>\n",
       "      <td>73.691241</td>\n",
       "      <td>-1.0</td>\n",
       "      <td>0.000393</td>\n",
       "      <td>0</td>\n",
       "      <td>0.000393</td>\n",
       "    </tr>\n",
       "    <tr>\n",
       "      <th>5595</th>\n",
       "      <td>3</td>\n",
       "      <td>0.0</td>\n",
       "      <td>0</td>\n",
       "      <td>-219.139378</td>\n",
       "      <td>-103.82168</td>\n",
       "      <td>1</td>\n",
       "      <td>-194.32</td>\n",
       "      <td>-132.12</td>\n",
       "      <td>0.000000e+00</td>\n",
       "      <td>0.000000e+00</td>\n",
       "      <td>661.124375</td>\n",
       "      <td>57.043480</td>\n",
       "      <td>312.325241</td>\n",
       "      <td>-1.0</td>\n",
       "      <td>0.001667</td>\n",
       "      <td>0</td>\n",
       "      <td>0.001667</td>\n",
       "    </tr>\n",
       "    <tr>\n",
       "      <th>5596</th>\n",
       "      <td>3</td>\n",
       "      <td>0.0</td>\n",
       "      <td>0</td>\n",
       "      <td>-219.139378</td>\n",
       "      <td>-103.82168</td>\n",
       "      <td>1</td>\n",
       "      <td>-194.32</td>\n",
       "      <td>-132.12</td>\n",
       "      <td>0.000000e+00</td>\n",
       "      <td>0.000000e+00</td>\n",
       "      <td>663.008000</td>\n",
       "      <td>70.782608</td>\n",
       "      <td>369.437118</td>\n",
       "      <td>-1.0</td>\n",
       "      <td>0.001972</td>\n",
       "      <td>0</td>\n",
       "      <td>0.001972</td>\n",
       "    </tr>\n",
       "    <tr>\n",
       "      <th>5597</th>\n",
       "      <td>3</td>\n",
       "      <td>0.0</td>\n",
       "      <td>0</td>\n",
       "      <td>-219.139378</td>\n",
       "      <td>-103.82168</td>\n",
       "      <td>1</td>\n",
       "      <td>-194.32</td>\n",
       "      <td>-132.12</td>\n",
       "      <td>0.000000e+00</td>\n",
       "      <td>0.000000e+00</td>\n",
       "      <td>664.925000</td>\n",
       "      <td>66.434784</td>\n",
       "      <td>350.084249</td>\n",
       "      <td>-1.0</td>\n",
       "      <td>0.001869</td>\n",
       "      <td>0</td>\n",
       "      <td>0.001869</td>\n",
       "    </tr>\n",
       "    <tr>\n",
       "      <th>5598</th>\n",
       "      <td>3</td>\n",
       "      <td>0.0</td>\n",
       "      <td>0</td>\n",
       "      <td>-219.139378</td>\n",
       "      <td>-103.82168</td>\n",
       "      <td>1</td>\n",
       "      <td>-194.32</td>\n",
       "      <td>-132.12</td>\n",
       "      <td>0.000000e+00</td>\n",
       "      <td>0.000000e+00</td>\n",
       "      <td>666.929313</td>\n",
       "      <td>16.000000</td>\n",
       "      <td>88.804856</td>\n",
       "      <td>-1.0</td>\n",
       "      <td>0.000474</td>\n",
       "      <td>0</td>\n",
       "      <td>0.000474</td>\n",
       "    </tr>\n",
       "    <tr>\n",
       "      <th>5599</th>\n",
       "      <td>3</td>\n",
       "      <td>0.0</td>\n",
       "      <td>0</td>\n",
       "      <td>-219.139378</td>\n",
       "      <td>-103.82168</td>\n",
       "      <td>1</td>\n",
       "      <td>-194.32</td>\n",
       "      <td>-116.57</td>\n",
       "      <td>0.000000e+00</td>\n",
       "      <td>0.000000e+00</td>\n",
       "      <td>659.259688</td>\n",
       "      <td>19.884058</td>\n",
       "      <td>139.646933</td>\n",
       "      <td>-1.0</td>\n",
       "      <td>0.000742</td>\n",
       "      <td>0</td>\n",
       "      <td>0.000742</td>\n",
       "    </tr>\n",
       "    <tr>\n",
       "      <th>5600</th>\n",
       "      <td>3</td>\n",
       "      <td>0.0</td>\n",
       "      <td>0</td>\n",
       "      <td>-219.139378</td>\n",
       "      <td>-103.82168</td>\n",
       "      <td>1</td>\n",
       "      <td>-194.32</td>\n",
       "      <td>-116.57</td>\n",
       "      <td>0.000000e+00</td>\n",
       "      <td>0.000000e+00</td>\n",
       "      <td>661.124375</td>\n",
       "      <td>58.608696</td>\n",
       "      <td>320.895134</td>\n",
       "      <td>-1.0</td>\n",
       "      <td>0.001705</td>\n",
       "      <td>0</td>\n",
       "      <td>0.001705</td>\n",
       "    </tr>\n",
       "    <tr>\n",
       "      <th>5601</th>\n",
       "      <td>3</td>\n",
       "      <td>0.0</td>\n",
       "      <td>0</td>\n",
       "      <td>-219.139378</td>\n",
       "      <td>-103.82168</td>\n",
       "      <td>1</td>\n",
       "      <td>-194.32</td>\n",
       "      <td>-116.57</td>\n",
       "      <td>0.000000e+00</td>\n",
       "      <td>0.000000e+00</td>\n",
       "      <td>663.008000</td>\n",
       "      <td>75.188400</td>\n",
       "      <td>392.432359</td>\n",
       "      <td>-1.0</td>\n",
       "      <td>0.002086</td>\n",
       "      <td>0</td>\n",
       "      <td>0.003779</td>\n",
       "    </tr>\n",
       "    <tr>\n",
       "      <th>5602</th>\n",
       "      <td>3</td>\n",
       "      <td>0.0</td>\n",
       "      <td>0</td>\n",
       "      <td>-219.139378</td>\n",
       "      <td>-103.82168</td>\n",
       "      <td>1</td>\n",
       "      <td>-194.32</td>\n",
       "      <td>-116.57</td>\n",
       "      <td>0.000000e+00</td>\n",
       "      <td>1.421085e-14</td>\n",
       "      <td>664.925000</td>\n",
       "      <td>82.550720</td>\n",
       "      <td>435.008669</td>\n",
       "      <td>-1.0</td>\n",
       "      <td>0.002313</td>\n",
       "      <td>0</td>\n",
       "      <td>0.002313</td>\n",
       "    </tr>\n",
       "    <tr>\n",
       "      <th>5603</th>\n",
       "      <td>3</td>\n",
       "      <td>0.0</td>\n",
       "      <td>0</td>\n",
       "      <td>-219.139378</td>\n",
       "      <td>-103.82168</td>\n",
       "      <td>1</td>\n",
       "      <td>-194.32</td>\n",
       "      <td>-116.57</td>\n",
       "      <td>0.000000e+00</td>\n",
       "      <td>1.421085e-14</td>\n",
       "      <td>666.929313</td>\n",
       "      <td>35.478260</td>\n",
       "      <td>196.915112</td>\n",
       "      <td>-1.0</td>\n",
       "      <td>0.001047</td>\n",
       "      <td>0</td>\n",
       "      <td>0.001047</td>\n",
       "    </tr>\n",
       "    <tr>\n",
       "      <th>5604</th>\n",
       "      <td>3</td>\n",
       "      <td>0.0</td>\n",
       "      <td>0</td>\n",
       "      <td>-219.139378</td>\n",
       "      <td>-103.82168</td>\n",
       "      <td>1</td>\n",
       "      <td>-194.32</td>\n",
       "      <td>-101.02</td>\n",
       "      <td>0.000000e+00</td>\n",
       "      <td>0.000000e+00</td>\n",
       "      <td>661.124375</td>\n",
       "      <td>39.130436</td>\n",
       "      <td>214.247498</td>\n",
       "      <td>-1.0</td>\n",
       "      <td>0.001139</td>\n",
       "      <td>0</td>\n",
       "      <td>0.001139</td>\n",
       "    </tr>\n",
       "    <tr>\n",
       "      <th>5605</th>\n",
       "      <td>3</td>\n",
       "      <td>0.0</td>\n",
       "      <td>0</td>\n",
       "      <td>-219.139378</td>\n",
       "      <td>-103.82168</td>\n",
       "      <td>1</td>\n",
       "      <td>-194.32</td>\n",
       "      <td>-101.02</td>\n",
       "      <td>0.000000e+00</td>\n",
       "      <td>0.000000e+00</td>\n",
       "      <td>663.008000</td>\n",
       "      <td>79.710144</td>\n",
       "      <td>416.032789</td>\n",
       "      <td>-1.0</td>\n",
       "      <td>0.002211</td>\n",
       "      <td>0</td>\n",
       "      <td>0.015097</td>\n",
       "    </tr>\n",
       "    <tr>\n",
       "      <th>5606</th>\n",
       "      <td>3</td>\n",
       "      <td>0.0</td>\n",
       "      <td>0</td>\n",
       "      <td>-219.139378</td>\n",
       "      <td>-103.82168</td>\n",
       "      <td>1</td>\n",
       "      <td>-194.32</td>\n",
       "      <td>-101.02</td>\n",
       "      <td>0.000000e+00</td>\n",
       "      <td>0.000000e+00</td>\n",
       "      <td>664.925000</td>\n",
       "      <td>60.173912</td>\n",
       "      <td>317.092005</td>\n",
       "      <td>-1.0</td>\n",
       "      <td>0.001686</td>\n",
       "      <td>0</td>\n",
       "      <td>0.001686</td>\n",
       "    </tr>\n",
       "    <tr>\n",
       "      <th>5607</th>\n",
       "      <td>3</td>\n",
       "      <td>0.0</td>\n",
       "      <td>0</td>\n",
       "      <td>-219.139378</td>\n",
       "      <td>-103.82168</td>\n",
       "      <td>1</td>\n",
       "      <td>-194.32</td>\n",
       "      <td>-101.02</td>\n",
       "      <td>0.000000e+00</td>\n",
       "      <td>0.000000e+00</td>\n",
       "      <td>666.929313</td>\n",
       "      <td>29.797102</td>\n",
       "      <td>165.382960</td>\n",
       "      <td>-1.0</td>\n",
       "      <td>0.000879</td>\n",
       "      <td>0</td>\n",
       "      <td>0.000879</td>\n",
       "    </tr>\n",
       "    <tr>\n",
       "      <th>5608</th>\n",
       "      <td>3</td>\n",
       "      <td>0.0</td>\n",
       "      <td>0</td>\n",
       "      <td>-219.139378</td>\n",
       "      <td>-103.82168</td>\n",
       "      <td>1</td>\n",
       "      <td>-194.32</td>\n",
       "      <td>-101.02</td>\n",
       "      <td>0.000000e+00</td>\n",
       "      <td>0.000000e+00</td>\n",
       "      <td>668.971625</td>\n",
       "      <td>11.942029</td>\n",
       "      <td>69.438293</td>\n",
       "      <td>-1.0</td>\n",
       "      <td>0.000369</td>\n",
       "      <td>0</td>\n",
       "      <td>0.000369</td>\n",
       "    </tr>\n",
       "    <tr>\n",
       "      <th>5609</th>\n",
       "      <td>3</td>\n",
       "      <td>0.0</td>\n",
       "      <td>0</td>\n",
       "      <td>-219.139378</td>\n",
       "      <td>-103.82168</td>\n",
       "      <td>1</td>\n",
       "      <td>-178.77</td>\n",
       "      <td>-147.67</td>\n",
       "      <td>0.000000e+00</td>\n",
       "      <td>0.000000e+00</td>\n",
       "      <td>661.124375</td>\n",
       "      <td>24.811594</td>\n",
       "      <td>135.848779</td>\n",
       "      <td>-1.0</td>\n",
       "      <td>0.000725</td>\n",
       "      <td>0</td>\n",
       "      <td>0.000725</td>\n",
       "    </tr>\n",
       "    <tr>\n",
       "      <th>5610</th>\n",
       "      <td>3</td>\n",
       "      <td>0.0</td>\n",
       "      <td>0</td>\n",
       "      <td>-219.139378</td>\n",
       "      <td>-103.82168</td>\n",
       "      <td>1</td>\n",
       "      <td>-178.77</td>\n",
       "      <td>-147.67</td>\n",
       "      <td>0.000000e+00</td>\n",
       "      <td>0.000000e+00</td>\n",
       "      <td>663.008000</td>\n",
       "      <td>37.159420</td>\n",
       "      <td>193.946923</td>\n",
       "      <td>-1.0</td>\n",
       "      <td>0.001035</td>\n",
       "      <td>0</td>\n",
       "      <td>0.003047</td>\n",
       "    </tr>\n",
       "    <tr>\n",
       "      <th>5611</th>\n",
       "      <td>3</td>\n",
       "      <td>0.0</td>\n",
       "      <td>0</td>\n",
       "      <td>-219.139378</td>\n",
       "      <td>-103.82168</td>\n",
       "      <td>1</td>\n",
       "      <td>-178.77</td>\n",
       "      <td>-147.67</td>\n",
       "      <td>0.000000e+00</td>\n",
       "      <td>0.000000e+00</td>\n",
       "      <td>664.925000</td>\n",
       "      <td>26.782608</td>\n",
       "      <td>141.133435</td>\n",
       "      <td>-1.0</td>\n",
       "      <td>0.000753</td>\n",
       "      <td>0</td>\n",
       "      <td>0.000753</td>\n",
       "    </tr>\n",
       "    <tr>\n",
       "      <th>5612</th>\n",
       "      <td>3</td>\n",
       "      <td>0.0</td>\n",
       "      <td>0</td>\n",
       "      <td>-219.139378</td>\n",
       "      <td>-103.82168</td>\n",
       "      <td>1</td>\n",
       "      <td>-178.77</td>\n",
       "      <td>-132.12</td>\n",
       "      <td>0.000000e+00</td>\n",
       "      <td>0.000000e+00</td>\n",
       "      <td>661.124375</td>\n",
       "      <td>19.420290</td>\n",
       "      <td>106.330237</td>\n",
       "      <td>-1.0</td>\n",
       "      <td>0.000567</td>\n",
       "      <td>0</td>\n",
       "      <td>0.000567</td>\n",
       "    </tr>\n",
       "    <tr>\n",
       "      <th>5613</th>\n",
       "      <td>3</td>\n",
       "      <td>0.0</td>\n",
       "      <td>0</td>\n",
       "      <td>-219.139378</td>\n",
       "      <td>-103.82168</td>\n",
       "      <td>1</td>\n",
       "      <td>-178.77</td>\n",
       "      <td>-132.12</td>\n",
       "      <td>0.000000e+00</td>\n",
       "      <td>0.000000e+00</td>\n",
       "      <td>663.008000</td>\n",
       "      <td>39.014492</td>\n",
       "      <td>203.629138</td>\n",
       "      <td>-1.0</td>\n",
       "      <td>0.001087</td>\n",
       "      <td>0</td>\n",
       "      <td>0.019728</td>\n",
       "    </tr>\n",
       "    <tr>\n",
       "      <th>5614</th>\n",
       "      <td>3</td>\n",
       "      <td>0.0</td>\n",
       "      <td>0</td>\n",
       "      <td>-219.139378</td>\n",
       "      <td>-103.82168</td>\n",
       "      <td>1</td>\n",
       "      <td>-178.77</td>\n",
       "      <td>-132.12</td>\n",
       "      <td>0.000000e+00</td>\n",
       "      <td>0.000000e+00</td>\n",
       "      <td>664.925000</td>\n",
       "      <td>36.927536</td>\n",
       "      <td>194.593072</td>\n",
       "      <td>-1.0</td>\n",
       "      <td>0.001039</td>\n",
       "      <td>0</td>\n",
       "      <td>0.001039</td>\n",
       "    </tr>\n",
       "    <tr>\n",
       "      <th>5615</th>\n",
       "      <td>3</td>\n",
       "      <td>0.0</td>\n",
       "      <td>0</td>\n",
       "      <td>-219.139378</td>\n",
       "      <td>-103.82168</td>\n",
       "      <td>1</td>\n",
       "      <td>-178.77</td>\n",
       "      <td>-132.12</td>\n",
       "      <td>2.842171e-14</td>\n",
       "      <td>0.000000e+00</td>\n",
       "      <td>666.929313</td>\n",
       "      <td>12.927536</td>\n",
       "      <td>71.751749</td>\n",
       "      <td>-1.0</td>\n",
       "      <td>0.000383</td>\n",
       "      <td>0</td>\n",
       "      <td>0.000383</td>\n",
       "    </tr>\n",
       "    <tr>\n",
       "      <th>5616</th>\n",
       "      <td>3</td>\n",
       "      <td>0.0</td>\n",
       "      <td>0</td>\n",
       "      <td>-219.139378</td>\n",
       "      <td>-103.82168</td>\n",
       "      <td>1</td>\n",
       "      <td>-256.52</td>\n",
       "      <td>-272.07</td>\n",
       "      <td>0.000000e+00</td>\n",
       "      <td>0.000000e+00</td>\n",
       "      <td>663.008000</td>\n",
       "      <td>10.028985</td>\n",
       "      <td>52.344487</td>\n",
       "      <td>-1.0</td>\n",
       "      <td>0.000293</td>\n",
       "      <td>1</td>\n",
       "      <td>0.000293</td>\n",
       "    </tr>\n",
       "    <tr>\n",
       "      <th>5617</th>\n",
       "      <td>3</td>\n",
       "      <td>0.0</td>\n",
       "      <td>0</td>\n",
       "      <td>-219.139378</td>\n",
       "      <td>-103.82168</td>\n",
       "      <td>1</td>\n",
       "      <td>-256.52</td>\n",
       "      <td>-256.52</td>\n",
       "      <td>0.000000e+00</td>\n",
       "      <td>0.000000e+00</td>\n",
       "      <td>663.008000</td>\n",
       "      <td>12.579710</td>\n",
       "      <td>65.657538</td>\n",
       "      <td>-1.0</td>\n",
       "      <td>0.000368</td>\n",
       "      <td>1</td>\n",
       "      <td>0.000368</td>\n",
       "    </tr>\n",
       "    <tr>\n",
       "      <th>5618</th>\n",
       "      <td>3</td>\n",
       "      <td>0.0</td>\n",
       "      <td>0</td>\n",
       "      <td>-219.139378</td>\n",
       "      <td>-103.82168</td>\n",
       "      <td>1</td>\n",
       "      <td>-318.72</td>\n",
       "      <td>7.83</td>\n",
       "      <td>0.000000e+00</td>\n",
       "      <td>8.881784e-16</td>\n",
       "      <td>663.008000</td>\n",
       "      <td>11.072464</td>\n",
       "      <td>57.790738</td>\n",
       "      <td>-1.0</td>\n",
       "      <td>0.000315</td>\n",
       "      <td>2</td>\n",
       "      <td>0.000315</td>\n",
       "    </tr>\n",
       "    <tr>\n",
       "      <th>5619</th>\n",
       "      <td>3</td>\n",
       "      <td>0.0</td>\n",
       "      <td>0</td>\n",
       "      <td>-219.139378</td>\n",
       "      <td>-103.82168</td>\n",
       "      <td>1</td>\n",
       "      <td>-412.02</td>\n",
       "      <td>-147.67</td>\n",
       "      <td>0.000000e+00</td>\n",
       "      <td>0.000000e+00</td>\n",
       "      <td>663.008000</td>\n",
       "      <td>10.144927</td>\n",
       "      <td>52.949626</td>\n",
       "      <td>-1.0</td>\n",
       "      <td>0.000313</td>\n",
       "      <td>3</td>\n",
       "      <td>0.000313</td>\n",
       "    </tr>\n",
       "    <tr>\n",
       "      <th>5620</th>\n",
       "      <td>3</td>\n",
       "      <td>0.0</td>\n",
       "      <td>0</td>\n",
       "      <td>-219.139378</td>\n",
       "      <td>-103.82168</td>\n",
       "      <td>1</td>\n",
       "      <td>-287.62</td>\n",
       "      <td>-256.52</td>\n",
       "      <td>0.000000e+00</td>\n",
       "      <td>0.000000e+00</td>\n",
       "      <td>663.008000</td>\n",
       "      <td>10.318840</td>\n",
       "      <td>53.857333</td>\n",
       "      <td>-1.0</td>\n",
       "      <td>0.000304</td>\n",
       "      <td>4</td>\n",
       "      <td>0.000304</td>\n",
       "    </tr>\n",
       "    <tr>\n",
       "      <th>5621</th>\n",
       "      <td>3</td>\n",
       "      <td>0.0</td>\n",
       "      <td>0</td>\n",
       "      <td>-219.139378</td>\n",
       "      <td>-103.82168</td>\n",
       "      <td>1</td>\n",
       "      <td>-380.92</td>\n",
       "      <td>-38.82</td>\n",
       "      <td>0.000000e+00</td>\n",
       "      <td>0.000000e+00</td>\n",
       "      <td>663.008000</td>\n",
       "      <td>10.086956</td>\n",
       "      <td>52.647056</td>\n",
       "      <td>-1.0</td>\n",
       "      <td>0.000297</td>\n",
       "      <td>5</td>\n",
       "      <td>0.000297</td>\n",
       "    </tr>\n",
       "  </tbody>\n",
       "</table>\n",
       "<p>1625 rows × 17 columns</p>\n",
       "</div>"
      ],
      "text/plain": [
       "      event  time  npeak       Xpeak      Ypeak  nsipm       X       Y  \\\n",
       "3997      3   0.0      0 -219.139378 -103.82168      1 -396.47 -209.87   \n",
       "3998      3   0.0      0 -219.139378 -103.82168      1 -116.57 -116.57   \n",
       "3999      3   0.0      0 -219.139378 -103.82168      1 -396.47 -163.22   \n",
       "4000      3   0.0      0 -219.139378 -103.82168      1 -132.12  -69.92   \n",
       "4001      3   0.0      0 -219.139378 -103.82168      1 -380.92 -194.32   \n",
       "4002      3   0.0      0 -219.139378 -103.82168      1 -380.92 -194.32   \n",
       "4003      3   0.0      0 -219.139378 -103.82168      1 -163.22   -7.72   \n",
       "4004      3   0.0      0 -219.139378 -103.82168      1 -396.47 -147.67   \n",
       "4005      3   0.0      0 -219.139378 -103.82168      1 -132.12  -85.47   \n",
       "4006      3   0.0      0 -219.139378 -103.82168      1 -365.37 -209.87   \n",
       "4007      3   0.0      0 -219.139378 -103.82168      1 -365.37 -209.87   \n",
       "4008      3   0.0      0 -219.139378 -103.82168      1 -365.37 -209.87   \n",
       "4009      3   0.0      0 -219.139378 -103.82168      1 -365.37 -209.87   \n",
       "4010      3   0.0      0 -219.139378 -103.82168      1 -240.97   23.38   \n",
       "4011      3   0.0      0 -219.139378 -103.82168      1 -380.92 -178.77   \n",
       "4012      3   0.0      0 -219.139378 -103.82168      1 -380.92 -178.77   \n",
       "4013      3   0.0      0 -219.139378 -103.82168      1 -380.92 -178.77   \n",
       "4014      3   0.0      0 -219.139378 -103.82168      1 -132.12 -101.02   \n",
       "4015      3   0.0      0 -219.139378 -103.82168      1 -380.92 -163.22   \n",
       "4016      3   0.0      0 -219.139378 -103.82168      1 -380.92 -163.22   \n",
       "4017      3   0.0      0 -219.139378 -103.82168      1 -380.92 -163.22   \n",
       "4018      3   0.0      0 -219.139378 -103.82168      1 -380.92 -163.22   \n",
       "4019      3   0.0      0 -219.139378 -103.82168      1 -147.67  -69.92   \n",
       "4020      3   0.0      0 -219.139378 -103.82168      1 -147.67  -69.92   \n",
       "4021      3   0.0      0 -219.139378 -103.82168      1 -318.72 -225.42   \n",
       "4022      3   0.0      0 -219.139378 -103.82168      1 -240.97    7.83   \n",
       "4023      3   0.0      0 -219.139378 -103.82168      1 -365.37 -194.32   \n",
       "4024      3   0.0      0 -219.139378 -103.82168      1 -365.37 -194.32   \n",
       "4025      3   0.0      0 -219.139378 -103.82168      1 -365.37 -194.32   \n",
       "4026      3   0.0      0 -219.139378 -103.82168      1 -365.37 -194.32   \n",
       "...     ...   ...    ...         ...        ...    ...     ...     ...   \n",
       "5592      3   0.0      0 -219.139378 -103.82168      1 -194.32 -147.67   \n",
       "5593      3   0.0      0 -219.139378 -103.82168      1 -194.32 -147.67   \n",
       "5594      3   0.0      0 -219.139378 -103.82168      1 -194.32 -132.12   \n",
       "5595      3   0.0      0 -219.139378 -103.82168      1 -194.32 -132.12   \n",
       "5596      3   0.0      0 -219.139378 -103.82168      1 -194.32 -132.12   \n",
       "5597      3   0.0      0 -219.139378 -103.82168      1 -194.32 -132.12   \n",
       "5598      3   0.0      0 -219.139378 -103.82168      1 -194.32 -132.12   \n",
       "5599      3   0.0      0 -219.139378 -103.82168      1 -194.32 -116.57   \n",
       "5600      3   0.0      0 -219.139378 -103.82168      1 -194.32 -116.57   \n",
       "5601      3   0.0      0 -219.139378 -103.82168      1 -194.32 -116.57   \n",
       "5602      3   0.0      0 -219.139378 -103.82168      1 -194.32 -116.57   \n",
       "5603      3   0.0      0 -219.139378 -103.82168      1 -194.32 -116.57   \n",
       "5604      3   0.0      0 -219.139378 -103.82168      1 -194.32 -101.02   \n",
       "5605      3   0.0      0 -219.139378 -103.82168      1 -194.32 -101.02   \n",
       "5606      3   0.0      0 -219.139378 -103.82168      1 -194.32 -101.02   \n",
       "5607      3   0.0      0 -219.139378 -103.82168      1 -194.32 -101.02   \n",
       "5608      3   0.0      0 -219.139378 -103.82168      1 -194.32 -101.02   \n",
       "5609      3   0.0      0 -219.139378 -103.82168      1 -178.77 -147.67   \n",
       "5610      3   0.0      0 -219.139378 -103.82168      1 -178.77 -147.67   \n",
       "5611      3   0.0      0 -219.139378 -103.82168      1 -178.77 -147.67   \n",
       "5612      3   0.0      0 -219.139378 -103.82168      1 -178.77 -132.12   \n",
       "5613      3   0.0      0 -219.139378 -103.82168      1 -178.77 -132.12   \n",
       "5614      3   0.0      0 -219.139378 -103.82168      1 -178.77 -132.12   \n",
       "5615      3   0.0      0 -219.139378 -103.82168      1 -178.77 -132.12   \n",
       "5616      3   0.0      0 -219.139378 -103.82168      1 -256.52 -272.07   \n",
       "5617      3   0.0      0 -219.139378 -103.82168      1 -256.52 -256.52   \n",
       "5618      3   0.0      0 -219.139378 -103.82168      1 -318.72    7.83   \n",
       "5619      3   0.0      0 -219.139378 -103.82168      1 -412.02 -147.67   \n",
       "5620      3   0.0      0 -219.139378 -103.82168      1 -287.62 -256.52   \n",
       "5621      3   0.0      0 -219.139378 -103.82168      1 -380.92  -38.82   \n",
       "\n",
       "              Xrms          Yrms           Z          Q           E   Qc  \\\n",
       "3997  0.000000e+00  2.842171e-14  718.939750  10.202898   67.704028 -1.0   \n",
       "3998  0.000000e+00  0.000000e+00  661.124375  10.434782   57.132661 -1.0   \n",
       "3999  0.000000e+00  0.000000e+00  718.939750  15.130435  100.402003 -1.0   \n",
       "4000  0.000000e+00  0.000000e+00  663.008000  10.086956   52.647056 -1.0   \n",
       "4001  0.000000e+00  2.842171e-14  716.993687  11.826087   76.366234 -1.0   \n",
       "4002  0.000000e+00  0.000000e+00  718.939750  14.144928   93.862411 -1.0   \n",
       "4003  0.000000e+00  0.000000e+00  663.008000  12.579710   65.657538 -1.0   \n",
       "4004  0.000000e+00  0.000000e+00  718.939750  16.521740  109.634375 -1.0   \n",
       "4005  0.000000e+00  0.000000e+00  661.124375  11.130434   60.941505 -1.0   \n",
       "4006  0.000000e+00  0.000000e+00  713.024437  11.942029   84.804692 -1.0   \n",
       "4007  0.000000e+00  0.000000e+00  715.029437  19.304348  127.699227 -1.0   \n",
       "4008  0.000000e+00  0.000000e+00  716.993687  13.913044   89.842631 -1.0   \n",
       "4009  0.000000e+00  2.842171e-14  718.939750  10.260870   68.088717 -1.0   \n",
       "4010  0.000000e+00  0.000000e+00  663.008000  12.115942   63.236985 -1.0   \n",
       "4011  0.000000e+00  0.000000e+00  715.029437  10.202898   67.492681 -1.0   \n",
       "4012  0.000000e+00  0.000000e+00  716.993687  14.434782   93.211723 -1.0   \n",
       "4013  0.000000e+00  0.000000e+00  718.939750  14.666666   97.324542 -1.0   \n",
       "4014  0.000000e+00  0.000000e+00  663.008000  10.318840   53.857333 -1.0   \n",
       "4015  0.000000e+00  0.000000e+00  715.029437  15.420290  102.005990 -1.0   \n",
       "4016  0.000000e+00  0.000000e+00  716.993687  19.304348  124.656647 -1.0   \n",
       "4017  0.000000e+00  0.000000e+00  718.939750  18.724638  124.252288 -1.0   \n",
       "4018  0.000000e+00  2.842171e-14  720.826812  13.507246  110.460559 -1.0   \n",
       "4019  0.000000e+00  0.000000e+00  663.008000  12.985507   67.775523 -1.0   \n",
       "4020  0.000000e+00  0.000000e+00  664.925000  11.768116   62.013178 -1.0   \n",
       "4021  0.000000e+00  0.000000e+00  716.993687  10.898551   70.376727 -1.0   \n",
       "4022  2.842171e-14  0.000000e+00  663.008000  11.652174   60.816431 -1.0   \n",
       "4023  0.000000e+00  2.842171e-14  713.024437  10.898551   77.394575 -1.0   \n",
       "4024  0.000000e+00  0.000000e+00  715.029437  15.420290  102.005990 -1.0   \n",
       "4025  0.000000e+00  0.000000e+00  716.993687  19.652174  126.902712 -1.0   \n",
       "4026  0.000000e+00  0.000000e+00  718.939750  33.565216  222.730869 -1.0   \n",
       "...            ...           ...         ...        ...         ...  ...   \n",
       "5592  0.000000e+00  0.000000e+00  664.925000  44.985504  237.055282 -1.0   \n",
       "5593  0.000000e+00  0.000000e+00  666.929313  18.492754  102.640398 -1.0   \n",
       "5594  0.000000e+00  0.000000e+00  659.259688  10.492754   73.691241 -1.0   \n",
       "5595  0.000000e+00  0.000000e+00  661.124375  57.043480  312.325241 -1.0   \n",
       "5596  0.000000e+00  0.000000e+00  663.008000  70.782608  369.437118 -1.0   \n",
       "5597  0.000000e+00  0.000000e+00  664.925000  66.434784  350.084249 -1.0   \n",
       "5598  0.000000e+00  0.000000e+00  666.929313  16.000000   88.804856 -1.0   \n",
       "5599  0.000000e+00  0.000000e+00  659.259688  19.884058  139.646933 -1.0   \n",
       "5600  0.000000e+00  0.000000e+00  661.124375  58.608696  320.895134 -1.0   \n",
       "5601  0.000000e+00  0.000000e+00  663.008000  75.188400  392.432359 -1.0   \n",
       "5602  0.000000e+00  1.421085e-14  664.925000  82.550720  435.008669 -1.0   \n",
       "5603  0.000000e+00  1.421085e-14  666.929313  35.478260  196.915112 -1.0   \n",
       "5604  0.000000e+00  0.000000e+00  661.124375  39.130436  214.247498 -1.0   \n",
       "5605  0.000000e+00  0.000000e+00  663.008000  79.710144  416.032789 -1.0   \n",
       "5606  0.000000e+00  0.000000e+00  664.925000  60.173912  317.092005 -1.0   \n",
       "5607  0.000000e+00  0.000000e+00  666.929313  29.797102  165.382960 -1.0   \n",
       "5608  0.000000e+00  0.000000e+00  668.971625  11.942029   69.438293 -1.0   \n",
       "5609  0.000000e+00  0.000000e+00  661.124375  24.811594  135.848779 -1.0   \n",
       "5610  0.000000e+00  0.000000e+00  663.008000  37.159420  193.946923 -1.0   \n",
       "5611  0.000000e+00  0.000000e+00  664.925000  26.782608  141.133435 -1.0   \n",
       "5612  0.000000e+00  0.000000e+00  661.124375  19.420290  106.330237 -1.0   \n",
       "5613  0.000000e+00  0.000000e+00  663.008000  39.014492  203.629138 -1.0   \n",
       "5614  0.000000e+00  0.000000e+00  664.925000  36.927536  194.593072 -1.0   \n",
       "5615  2.842171e-14  0.000000e+00  666.929313  12.927536   71.751749 -1.0   \n",
       "5616  0.000000e+00  0.000000e+00  663.008000  10.028985   52.344487 -1.0   \n",
       "5617  0.000000e+00  0.000000e+00  663.008000  12.579710   65.657538 -1.0   \n",
       "5618  0.000000e+00  8.881784e-16  663.008000  11.072464   57.790738 -1.0   \n",
       "5619  0.000000e+00  0.000000e+00  663.008000  10.144927   52.949626 -1.0   \n",
       "5620  0.000000e+00  0.000000e+00  663.008000  10.318840   53.857333 -1.0   \n",
       "5621  0.000000e+00  0.000000e+00  663.008000  10.086956   52.647056 -1.0   \n",
       "\n",
       "            Ec  track_id        Ep  \n",
       "3997  0.000430        -1       NaN  \n",
       "3998  0.000302        -1       NaN  \n",
       "3999  0.000606        -1       NaN  \n",
       "4000  0.000277        -1       NaN  \n",
       "4001  0.000455        -1       NaN  \n",
       "4002  0.000559        -1       NaN  \n",
       "4003  0.000347        -1       NaN  \n",
       "4004  0.000651        -1       NaN  \n",
       "4005  0.000321        -1       NaN  \n",
       "4006  0.000497        -1       NaN  \n",
       "4007  0.000749        -1       NaN  \n",
       "4008  0.000527        -1       NaN  \n",
       "4009  0.000400        -1       NaN  \n",
       "4010  0.000339        -1       NaN  \n",
       "4011  0.000402        -1       NaN  \n",
       "4012  0.000555        -1       NaN  \n",
       "4013  0.000580        -1       NaN  \n",
       "4014  0.000285        -1       NaN  \n",
       "4015  0.000598        -1       NaN  \n",
       "4016  0.000730        -1       NaN  \n",
       "4017  0.000728        -1       NaN  \n",
       "4018  0.000647        -1       NaN  \n",
       "4019  0.000357        -1       NaN  \n",
       "4020  0.000327        -1       NaN  \n",
       "4021  0.000400        -1       NaN  \n",
       "4022  0.000326        -1       NaN  \n",
       "4023  0.000450        -1       NaN  \n",
       "4024  0.000593        -1       NaN  \n",
       "4025  0.000738        -1       NaN  \n",
       "4026  0.001296        -1       NaN  \n",
       "...        ...       ...       ...  \n",
       "5592  0.001266         0  0.001266  \n",
       "5593  0.000548         0  0.000548  \n",
       "5594  0.000393         0  0.000393  \n",
       "5595  0.001667         0  0.001667  \n",
       "5596  0.001972         0  0.001972  \n",
       "5597  0.001869         0  0.001869  \n",
       "5598  0.000474         0  0.000474  \n",
       "5599  0.000742         0  0.000742  \n",
       "5600  0.001705         0  0.001705  \n",
       "5601  0.002086         0  0.003779  \n",
       "5602  0.002313         0  0.002313  \n",
       "5603  0.001047         0  0.001047  \n",
       "5604  0.001139         0  0.001139  \n",
       "5605  0.002211         0  0.015097  \n",
       "5606  0.001686         0  0.001686  \n",
       "5607  0.000879         0  0.000879  \n",
       "5608  0.000369         0  0.000369  \n",
       "5609  0.000725         0  0.000725  \n",
       "5610  0.001035         0  0.003047  \n",
       "5611  0.000753         0  0.000753  \n",
       "5612  0.000567         0  0.000567  \n",
       "5613  0.001087         0  0.019728  \n",
       "5614  0.001039         0  0.001039  \n",
       "5615  0.000383         0  0.000383  \n",
       "5616  0.000293         1  0.000293  \n",
       "5617  0.000368         1  0.000368  \n",
       "5618  0.000315         2  0.000315  \n",
       "5619  0.000313         3  0.000313  \n",
       "5620  0.000304         4  0.000304  \n",
       "5621  0.000297         5  0.000297  \n",
       "\n",
       "[1625 rows x 17 columns]"
      ]
     },
     "execution_count": 257,
     "metadata": {},
     "output_type": "execute_result"
    }
   ],
   "source": [
    "df_c[df_c.event == 3]"
   ]
  },
  {
   "cell_type": "code",
   "execution_count": null,
   "metadata": {},
   "outputs": [],
   "source": []
  }
 ],
 "metadata": {
  "kernelspec": {
   "display_name": "Python 3",
   "language": "python",
   "name": "python3"
  },
  "language_info": {
   "codemirror_mode": {
    "name": "ipython",
    "version": 3
   },
   "file_extension": ".py",
   "mimetype": "text/x-python",
   "name": "python",
   "nbconvert_exporter": "python",
   "pygments_lexer": "ipython3",
   "version": "3.8.3"
  }
 },
 "nbformat": 4,
 "nbformat_minor": 2
}
